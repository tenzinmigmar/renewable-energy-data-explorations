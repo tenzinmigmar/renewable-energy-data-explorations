{
 "cells": [
  {
   "cell_type": "markdown",
   "source": [
    "## DeepSolar Data Analysis\n",
    "\n",
    "Analyzing DeepSolar, a large scale solar database created using AI.\n",
    "\n",
    "http://web.stanford.edu/group/deepsolar/home#:~:text=DeepSolar%20is%20a%20deep%20learning,database%20for%20the%20contiguous%20U.S."
   ],
   "metadata": {
    "collapsed": false
   }
  },
  {
   "cell_type": "code",
   "execution_count": 2,
   "outputs": [],
   "source": [
    "import pandas as pd\n",
    "import plotly.express as px\n",
    "import matplotlib.pyplot as plt\n",
    "import seaborn as sns"
   ],
   "metadata": {
    "collapsed": false,
    "pycharm": {
     "name": "#%%\n"
    }
   }
  },
  {
   "cell_type": "code",
   "execution_count": 3,
   "outputs": [],
   "source": [
    "df = pd.read_csv(\"data/deepsolar_tract.csv\")"
   ],
   "metadata": {
    "collapsed": false,
    "pycharm": {
     "name": "#%%\n"
    }
   }
  },
  {
   "cell_type": "code",
   "execution_count": 4,
   "outputs": [],
   "source": [
    "def displayHeatMap(dim1, dim2, title, df):\n",
    "    fig=plt.figure(figsize=(dim1,dim2))\n",
    "    plt.title(title)\n",
    "    sns.heatmap(df, annot= True, cmap='flare')\n",
    "    plt.savefig(\"data/heatmap3.jpg\")\n",
    "\n",
    "# Correlations between attributes\n",
    "corr = df.corr()\n",
    "# displayHeatMap(300, 300, \"Heat map Correlations\", corr)"
   ],
   "metadata": {
    "collapsed": false,
    "pycharm": {
     "name": "#%%\n"
    }
   }
  },
  {
   "cell_type": "code",
   "execution_count": 30,
   "outputs": [
    {
     "data": {
      "text/plain": "<AxesSubplot:>"
     },
     "execution_count": 30,
     "metadata": {},
     "output_type": "execute_result"
    },
    {
     "data": {
      "text/plain": "<Figure size 432x288 with 2 Axes>",
      "image/png": "[encoded data removed]"
     },
     "metadata": {
      "needs_background": "light"
     },
     "output_type": "display_data"
    }
   ],
   "source": [
    "sns.heatmap(corr[['solar_system_count']][:20])"
   ],
   "metadata": {
    "collapsed": false,
    "pycharm": {
     "name": "#%%\n"
    }
   }
  },
  {
   "cell_type": "code",
   "execution_count": 6,
   "outputs": [
    {
     "data": {
      "text/plain": "solar_system_count                      1.000000\nsolar_system_count_residential          0.992807\ntile_count_residential                  0.990917\ntotal_panel_area_residential            0.989168\ntile_count                              0.899767\nsolar_system_count_nonresidential       0.691392\nsolar_panel_area_divided_by_area        0.590338\ntotal_panel_area                        0.469066\nincentive_count_residential             0.414467\nincentive_count_nonresidential          0.405235\ndaily_solar_radiation                   0.380150\ntile_count_nonresidential               0.377762\nfeedin_tariff                           0.366280\nelectricity_price_industrial            0.360225\nhousing_unit_median_gross_rent          0.341231\nrebate                                  0.316229\nelectricity_price_commercial            0.314524\nelectricity_price_overall               0.302373\navg_electricity_retail_rate             0.289145\neducation_college                       0.287748\nincentive_residential_state_level       0.285318\nheating_fuel_solar                      0.282702\nrace_two_more                           0.276831\ntotal_panel_area_nonresidential         0.272872\neducation_population                    0.270954\npoverty_family_count                    0.267252\npopulation                              0.265583\nhousing_unit_median_value               0.264275\nincentive_nonresidential_state_level    0.262390\nheating_design_temperature              0.262002\neducation_bachelor                      0.259814\nrace_asian                              0.257190\nearth_temperature                       0.255455\nmedian_household_income                 0.249771\nelectricity_price_residential           0.229707\nemployed                                0.226604\naverage_household_income                0.221399\neducation_master                        0.218622\nrace_white                              0.209159\nhousehold_count                         0.202515\nair_temperature                         0.197884\nproperty_tax                            0.196139\nmortgage_with_rate                      0.194307\neducation_professional_school           0.190029\nheating_fuel_gas                        0.188230\nrace_asian_rate                         0.178922\nhousing_unit_count                      0.177185\nheating_fuel_solar_rate                 0.173694\nhousehold_type_family_rate              0.169422\neducation_doctoral                      0.168697\ndtype: float64"
     },
     "execution_count": 6,
     "metadata": {},
     "output_type": "execute_result"
    }
   ],
   "source": [
    "df.corrwith(df['solar_system_count']).sort_values(ascending=False).drop_duplicates()[:50]"
   ],
   "metadata": {
    "collapsed": false,
    "pycharm": {
     "name": "#%%\n"
    }
   }
  },
  {
   "cell_type": "code",
   "execution_count": 37,
   "outputs": [
    {
     "data": {
      "text/plain": "165709"
     },
     "execution_count": 37,
     "metadata": {},
     "output_type": "execute_result"
    }
   ],
   "source": [
    "# Feature selection methods\n",
    "\n",
    "# Checking for null values\n",
    "df.isnull().sum().sum()"
   ],
   "metadata": {
    "collapsed": false,
    "pycharm": {
     "name": "#%%\n"
    }
   }
  }
 ],
 "metadata": {
  "kernelspec": {
   "display_name": "Python 3",
   "language": "python",
   "name": "python3"
  },
  "language_info": {
   "codemirror_mode": {
    "name": "ipython",
    "version": 2
   },
   "file_extension": ".py",
   "mimetype": "text/x-python",
   "name": "python",
   "nbconvert_exporter": "python",
   "pygments_lexer": "ipython2",
   "version": "2.7.6"
  }
 },
 "nbformat": 4,
 "nbformat_minor": 0
}