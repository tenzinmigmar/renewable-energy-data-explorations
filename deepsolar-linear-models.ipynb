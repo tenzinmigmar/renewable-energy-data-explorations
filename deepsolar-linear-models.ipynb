{
 "metadata": {
  "kernelspec": {
   "language": "python",
   "display_name": "Python 3",
   "name": "python3"
  },
  "language_info": {
   "name": "python",
   "version": "3.7.12",
   "mimetype": "text/x-python",
   "codemirror_mode": {
    "name": "ipython",
    "version": 3
   },
   "pygments_lexer": "ipython3",
   "nbconvert_exporter": "python",
   "file_extension": ".py"
  }
 },
 "nbformat_minor": 4,
 "nbformat": 4,
 "cells": [
  {
   "cell_type": "code",
   "source": [
    "import pandas as pd\n",
    "import matplotlib.pyplot as plt\n",
    "import seaborn as sns"
   ],
   "metadata": {
    "_uuid": "8f2839f25d086af736a60e9eeb907d3b93b6e0e5",
    "_cell_guid": "b1076dfc-b9ad-4769-8c92-a6c4dae69d19",
    "execution": {
     "iopub.status.busy": "2022-01-30T17:06:33.982893Z",
     "iopub.execute_input": "2022-01-30T17:06:33.983591Z",
     "iopub.status.idle": "2022-01-30T17:06:33.988042Z",
     "shell.execute_reply.started": "2022-01-30T17:06:33.983549Z",
     "shell.execute_reply": "2022-01-30T17:06:33.987073Z"
    },
    "trusted": true
   },
   "execution_count": 27,
   "outputs": []
  },
  {
   "cell_type": "code",
   "source": [
    "df = pd.read_csv(\"data/deepsolar_tract1.csv\", encoding=\"utf-8\")"
   ],
   "metadata": {
    "execution": {
     "iopub.status.busy": "2022-01-30T17:06:33.990075Z",
     "iopub.execute_input": "2022-01-30T17:06:33.990340Z",
     "iopub.status.idle": "2022-01-30T17:06:36.208420Z",
     "shell.execute_reply.started": "2022-01-30T17:06:33.990309Z",
     "shell.execute_reply": "2022-01-30T17:06:36.207249Z"
    },
    "trusted": true
   },
   "execution_count": 28,
   "outputs": []
  },
  {
   "cell_type": "code",
   "source": [
    "# Number of solar systems per thousand households\n",
    "df = df[df.state == 'ca']\n",
    "df[\"solar_systems_per_thousand_households\"] = (df[\"solar_system_count\"] / df[\"household_count\"]) * 1000"
   ],
   "metadata": {
    "execution": {
     "iopub.status.busy": "2022-01-30T17:06:36.210251Z",
     "iopub.execute_input": "2022-01-30T17:06:36.210559Z",
     "iopub.status.idle": "2022-01-30T17:06:36.237179Z",
     "shell.execute_reply.started": "2022-01-30T17:06:36.210525Z",
     "shell.execute_reply": "2022-01-30T17:06:36.236286Z"
    },
    "trusted": true
   },
   "execution_count": 29,
   "outputs": []
  },
  {
   "cell_type": "code",
   "source": [
    "df = df.drop(['county', 'state', 'heating_fuel_coal_coke', 'heating_fuel_electricity', 'heating_fuel_fuel_oil_kerosene',\n",
    "                  'heating_fuel_gas', 'heating_fuel_housing_unit_count', 'heating_fuel_none', 'heating_fuel_other', 'heating_fuel_solar',\n",
    "                  'land_area', 'per_capita_income', 'population', 'state', 'total_area', 'water_area', \n",
    "                  'heating_fuel_gas_rate', 'heating_fuel_electricity_rate', 'heating_fuel_fuel_oil_kerosene_rate', 'heating_fuel_coal_coke_rate',\n",
    "                  'heating_fuel_solar_rate', 'heating_fuel_other_rate', 'heating_fuel_none_rate', 'solar_panel_area_per_capita', 'median_household_income',\n",
    "                 'electricity_price_industrial', 'electricity_price_transportation', 'electricity_price_overall', 'electricity_consume_commercial',\n",
    "                  'electricity_consume_industrial', 'electricity_consume_total', 'household_count', 'average_household_size',\n",
    "                  'housing_unit_count', 'housing_unit_occupied_count', 'housing_unit_median_value', 'lat', 'lon', 'elevation',\n",
    "                  'heating_design_temperature', 'cooling_design_temperature', 'earth_temperature_amplitude', 'frost_days', 'air_temperature',\n",
    "                  'relative_humidity', 'daily_solar_radiation', 'atmospheric_pressure', 'wind_speed', 'earth_temperature', 'heating_degree_days',\n",
    "                  'cooling_degree_days', \n",
    "              'household_type_family_rate',\n",
    "                  'dropout_16_19_inschool_rate', 'occupation_construction_rate', 'occupation_public_rate', 'occupation_information_rate',\n",
    "                  'occupation_finance_rate', 'occupation_education_rate', 'occupation_administrative_rate', 'occupation_manufacturing_rate',\n",
    "                  'occupation_wholesale_rate', 'occupation_retail_rate', 'occupation_transportation_rate', 'occupation_arts_rate', 'occupation_agriculture_rate',\n",
    "                 'occupancy_vacant_rate', 'occupancy_owner_rate', 'mortgage_with_rate', 'transportation_home_rate', 'transportation_car_alone_rate',\n",
    "                  'transportation_walk_rate', 'transportation_carpool_rate', 'transportation_motorcycle_rate', 'transportation_bicycle_rate',\n",
    "                  'transportation_public_rate', 'travel_time_less_than_10_rate', 'travel_time_10_19_rate', 'travel_time_20_29_rate',\n",
    "                  'travel_time_30_39_rate', 'travel_time_40_59_rate', 'travel_time_60_89_rate', 'health_insurance_public_rate', 'health_insurance_none_rate',\n",
    "                  'travel_time_average', 'electricity_price_residential', 'electricity_price_commercial', 'electricity_consume_residential',\n",
    "                 'incentive_count_residential', 'incentive_count_nonresidential', 'incentive_residential_state_level', 'net_metering', 'feedin_tariff',\n",
    "                  'cooperate_tax', 'property_tax', 'sales_tax', 'rebate', 'avg_electricity_retail_rate', 'incentive_nonresidential_state_level'], axis=1)\n",
    "\n",
    "df = df.dropna()"
   ],
   "metadata": {
    "execution": {
     "iopub.status.busy": "2022-01-30T17:06:36.238407Z",
     "iopub.execute_input": "2022-01-30T17:06:36.238681Z",
     "iopub.status.idle": "2022-01-30T17:06:36.272899Z",
     "shell.execute_reply.started": "2022-01-30T17:06:36.238648Z",
     "shell.execute_reply": "2022-01-30T17:06:36.271851Z"
    },
    "trusted": true
   },
   "execution_count": 30,
   "outputs": []
  },
  {
   "cell_type": "code",
   "source": [
    "def median_dataframe(binned_column, original_column, comparison_column='solar_systems_per_thousand_households'):\n",
    "    df[binned_column] = pd.qcut(df[original_column], q=64, duplicates='drop')\n",
    "    x = list(df.groupby(binned_column).median()[comparison_column].values)\n",
    "    y = list(df.groupby(binned_column).median()[original_column].values)\n",
    "    return pd.DataFrame({comparison_column: x, original_column: y})\n",
    "\n",
    "\n",
    "hi = median_dataframe(\"average_household_income_binned\", 'average_household_income')\n",
    "hi.max()"
   ],
   "metadata": {
    "execution": {
     "iopub.status.busy": "2022-01-30T17:06:36.276581Z",
     "iopub.execute_input": "2022-01-30T17:06:36.276978Z",
     "iopub.status.idle": "2022-01-30T17:06:36.333638Z",
     "shell.execute_reply.started": "2022-01-30T17:06:36.276928Z",
     "shell.execute_reply": "2022-01-30T17:06:36.332552Z"
    },
    "trusted": true
   },
   "execution_count": 31,
   "outputs": [
    {
     "data": {
      "text/plain": "solar_systems_per_thousand_households        92.811855\naverage_household_income                 250385.567519\ndtype: float64"
     },
     "execution_count": 31,
     "metadata": {},
     "output_type": "execute_result"
    }
   ]
  },
  {
   "cell_type": "code",
   "source": [
    "import plotly.express as px\n",
    "# Plot scatter data\n",
    "def plot_scatter(df, x, y, color, image_name, ):\n",
    "    fig = px.scatter(df, x=x, y=y, trendline=\"ols\", trendline_color_override=color)\n",
    "    fig.update_traces(marker=dict(color=color))\n",
    "    fig.show()\n",
    "    model = px.get_trendline_results(fig)\n",
    "    results = model.iloc[0][\"px_fit_results\"]\n",
    "    alpha = results.params[0]\n",
    "    beta = results.params[1]\n",
    "    p_beta = results.pvalues[1]\n",
    "    r_squared = results.rsquared\n",
    "    print(\"results: \", results)\n",
    "    print(\"alpha: \", alpha)\n",
    "    print(\"beta: \", beta)\n",
    "    print(\"p_beta: \", p_beta)\n",
    "    print(\"r_squared: \", r_squared)\n",
    "    fig.write_image(\"figures/\" + image_name + \".png\", engine='kaleido')\n",
    "\n",
    "plot_scatter(hi, 'average_household_income', 'solar_systems_per_thousand_households', 'CadetBlue', 'avg_income')"
   ],
   "metadata": {
    "execution": {
     "iopub.status.busy": "2022-01-30T17:06:36.335306Z",
     "iopub.execute_input": "2022-01-30T17:06:36.335614Z",
     "iopub.status.idle": "2022-01-30T17:06:36.430577Z",
     "shell.execute_reply.started": "2022-01-30T17:06:36.335573Z",
     "shell.execute_reply": "2022-01-30T17:06:36.429001Z"
    },
    "trusted": true
   },
   "execution_count": 32,
   "outputs": [
    {
     "data": {
      "application/vnd.plotly.v1+json": {
       "data": [
        {
         "hovertemplate": "average_household_income=%{x}<br>solar_systems_per_thousand_households=%{y}<extra></extra>",
         "legendgroup": "",
         "marker": {
          "color": "CadetBlue",
          "symbol": "circle"
         },
         "mode": "markers",
         "name": "",
         "orientation": "v",
         "showlegend": false,
         "x": [
          29219.44122645,
          33704.70460455,
          36264.539808,
          38355.050421449996,
          39937.7226956,
          41530.405609299996,
          42999.60962,
          44403.7156704,
          45796.887013700005,
          47165.9802306,
          48522.54574395,
          49844.30449069999,
          51062.85810305,
          52365.910554550006,
          53523.296355,
          54743.6302654,
          56001.3934426,
          57078.238276350006,
          58228.23098080001,
          59530.13488815,
          60868.87953675,
          61963.251073,
          63166.7964375,
          64306.5445026,
          65503.05931620001,
          66845.2723779,
          68024.2375602,
          69233.0793422,
          70545.73082489999,
          71655.584784,
          73050.97505669999,
          74419.24830745,
          75775.26398295,
          77135.499515,
          78795.19307724999,
          80224.6247916,
          81771.9274532,
          83248.11222719999,
          84703.02071045,
          86327.5448583,
          88060.6715731,
          89792.63760465,
          91465.55952989998,
          93537.08054329999,
          95585.6094103,
          97593.9666239,
          99937.3656043,
          102355.990649,
          104699.5804485,
          107099.205719,
          109976.68760149999,
          112706.366053,
          115619.849246,
          118496.6616775,
          121937.360595,
          126078.95203449999,
          131125.585399,
          137224.7759065,
          144002.454196,
          152413.41911800002,
          163678.97334549998,
          177370.28985499995,
          199639.7604795,
          250385.56751949998
         ],
         "xaxis": "x",
         "y": [
          9.546990486176824,
          11.416958953455303,
          11.066398390342052,
          11.890757728285582,
          11.892963330029731,
          14.296622349982034,
          12.54904556384338,
          12.110726643598616,
          18.28390578544349,
          15.756302521008402,
          17.555363267733973,
          15.444015444015445,
          17.294494474897764,
          18.16371285356248,
          18.581907090464547,
          22.10961939520334,
          24.12280701754386,
          22.986531314877617,
          21.081576535288725,
          24.473694803365134,
          22.855357700718525,
          27.283511269276392,
          26.19226066032898,
          37.301587301587304,
          26.41547049441786,
          29.115244172575952,
          33.42618384401114,
          29.838671966331543,
          33.126293995859214,
          33.00810821579408,
          35.57312252964427,
          34.25583951974505,
          34.76898895308938,
          30.94688221709007,
          42.787113299622405,
          39.13630229419703,
          40.84721227900293,
          41.26984126984127,
          43.25155637966995,
          39.333314026332715,
          45.172719220549155,
          48.12280701754386,
          46.413502109704645,
          44.79466129416731,
          44.34025661462485,
          46.85494223363286,
          71.90779547165172,
          68.3491062039958,
          58.525350206940466,
          56.1056105610561,
          53.66135174493531,
          61.181310112871,
          71.04413347685684,
          54.410910505632586,
          56.80600214362272,
          49.013976297597566,
          57.3042776432607,
          76.90857222251293,
          77.5963686905118,
          73.19884726224784,
          68.75270630072875,
          69.35687263556116,
          92.81185518664415,
          75.0130400915366
         ],
         "yaxis": "y",
         "type": "scatter"
        },
        {
         "hovertemplate": "<b>OLS trendline</b><br>solar_systems_per_thousand_households = 0.000451589 * average_household_income + 0.429605<br>R<sup>2</sup>=0.824480<br><br>average_household_income=%{x}<br>solar_systems_per_thousand_households=%{y} <b>(trend)</b><extra></extra>",
         "legendgroup": "",
         "line": {
          "color": "CadetBlue"
         },
         "marker": {
          "color": "CadetBlue",
          "symbol": "circle"
         },
         "mode": "lines",
         "name": "",
         "showlegend": false,
         "x": [
          29219.44122645,
          33704.70460455,
          36264.539808,
          38355.050421449996,
          39937.7226956,
          41530.405609299996,
          42999.60962,
          44403.7156704,
          45796.887013700005,
          47165.9802306,
          48522.54574395,
          49844.30449069999,
          51062.85810305,
          52365.910554550006,
          53523.296355,
          54743.6302654,
          56001.3934426,
          57078.238276350006,
          58228.23098080001,
          59530.13488815,
          60868.87953675,
          61963.251073,
          63166.7964375,
          64306.5445026,
          65503.05931620001,
          66845.2723779,
          68024.2375602,
          69233.0793422,
          70545.73082489999,
          71655.584784,
          73050.97505669999,
          74419.24830745,
          75775.26398295,
          77135.499515,
          78795.19307724999,
          80224.6247916,
          81771.9274532,
          83248.11222719999,
          84703.02071045,
          86327.5448583,
          88060.6715731,
          89792.63760465,
          91465.55952989998,
          93537.08054329999,
          95585.6094103,
          97593.9666239,
          99937.3656043,
          102355.990649,
          104699.5804485,
          107099.205719,
          109976.68760149999,
          112706.366053,
          115619.849246,
          118496.6616775,
          121937.360595,
          126078.95203449999,
          131125.585399,
          137224.7759065,
          144002.454196,
          152413.41911800002,
          163678.97334549998,
          177370.28985499995,
          199639.7604795,
          250385.56751949998
         ],
         "xaxis": "x",
         "y": [
          13.624790726606598,
          15.650287435987472,
          16.806281486740783,
          17.75033359952049,
          18.465051379299375,
          19.184289856249872,
          19.84776658843291,
          20.481845781773774,
          21.110986978974385,
          21.72925475321629,
          22.34186515125137,
          22.93875718778359,
          23.489042895434643,
          24.077487370189655,
          24.600150351753218,
          25.15124002285926,
          25.71923234835748,
          26.20552389545463,
          26.72484823436607,
          27.312774038933778,
          27.917336726083985,
          28.411543143557168,
          28.95505128786998,
          29.469749257816442,
          30.010082480945673,
          30.61621146615434,
          31.148619464508016,
          31.694519414008937,
          32.28729870803092,
          32.78849682117331,
          33.41864006302975,
          34.036537549375815,
          34.6488996465505,
          35.26316738556504,
          36.01266715080336,
          36.65818314164515,
          37.3569283847427,
          38.02355755456455,
          38.68057858027777,
          39.41419621616648,
          40.19685760343479,
          40.97899483862877,
          41.73446839034702,
          42.66994500394835,
          43.595038611480916,
          44.50199113232293,
          45.56024491218844,
          46.65246997375021,
          47.71080992546931,
          48.794454893315965,
          50.09389476852252,
          51.326588203690044,
          52.6422858835792,
          53.94142344191308,
          55.49520607358516,
          57.36550423116198,
          59.644509589722794,
          62.398838435415136,
          65.45956506735706,
          69.25786637902847,
          74.34526952430798,
          80.52812083076384,
          90.58477429058509,
          113.50103505606495
         ],
         "yaxis": "y",
         "type": "scatter"
        }
       ],
       "layout": {
        "template": {
         "data": {
          "bar": [
           {
            "error_x": {
             "color": "#2a3f5f"
            },
            "error_y": {
             "color": "#2a3f5f"
            },
            "marker": {
             "line": {
              "color": "#E5ECF6",
              "width": 0.5
             },
             "pattern": {
              "fillmode": "overlay",
              "size": 10,
              "solidity": 0.2
             }
            },
            "type": "bar"
           }
          ],
          "barpolar": [
           {
            "marker": {
             "line": {
              "color": "#E5ECF6",
              "width": 0.5
             },
             "pattern": {
              "fillmode": "overlay",
              "size": 10,
              "solidity": 0.2
             }
            },
            "type": "barpolar"
           }
          ],
          "carpet": [
           {
            "aaxis": {
             "endlinecolor": "#2a3f5f",
             "gridcolor": "white",
             "linecolor": "white",
             "minorgridcolor": "white",
             "startlinecolor": "#2a3f5f"
            },
            "baxis": {
             "endlinecolor": "#2a3f5f",
             "gridcolor": "white",
             "linecolor": "white",
             "minorgridcolor": "white",
             "startlinecolor": "#2a3f5f"
            },
            "type": "carpet"
           }
          ],
          "choropleth": [
           {
            "colorbar": {
             "outlinewidth": 0,
             "ticks": ""
            },
            "type": "choropleth"
           }
          ],
          "contour": [
           {
            "colorbar": {
             "outlinewidth": 0,
             "ticks": ""
            },
            "colorscale": [
             [
              0.0,
              "#0d0887"
             ],
             [
              0.1111111111111111,
              "#46039f"
             ],
             [
              0.2222222222222222,
              "#7201a8"
             ],
             [
              0.3333333333333333,
              "#9c179e"
             ],
             [
              0.4444444444444444,
              "#bd3786"
             ],
             [
              0.5555555555555556,
              "#d8576b"
             ],
             [
              0.6666666666666666,
              "#ed7953"
             ],
             [
              0.7777777777777778,
              "#fb9f3a"
             ],
             [
              0.8888888888888888,
              "#fdca26"
             ],
             [
              1.0,
              "#f0f921"
             ]
            ],
            "type": "contour"
           }
          ],
          "contourcarpet": [
           {
            "colorbar": {
             "outlinewidth": 0,
             "ticks": ""
            },
            "type": "contourcarpet"
           }
          ],
          "heatmap": [
           {
            "colorbar": {
             "outlinewidth": 0,
             "ticks": ""
            },
            "colorscale": [
             [
              0.0,
              "#0d0887"
             ],
             [
              0.1111111111111111,
              "#46039f"
             ],
             [
              0.2222222222222222,
              "#7201a8"
             ],
             [
              0.3333333333333333,
              "#9c179e"
             ],
             [
              0.4444444444444444,
              "#bd3786"
             ],
             [
              0.5555555555555556,
              "#d8576b"
             ],
             [
              0.6666666666666666,
              "#ed7953"
             ],
             [
              0.7777777777777778,
              "#fb9f3a"
             ],
             [
              0.8888888888888888,
              "#fdca26"
             ],
             [
              1.0,
              "#f0f921"
             ]
            ],
            "type": "heatmap"
           }
          ],
          "heatmapgl": [
           {
            "colorbar": {
             "outlinewidth": 0,
             "ticks": ""
            },
            "colorscale": [
             [
              0.0,
              "#0d0887"
             ],
             [
              0.1111111111111111,
              "#46039f"
             ],
             [
              0.2222222222222222,
              "#7201a8"
             ],
             [
              0.3333333333333333,
              "#9c179e"
             ],
             [
              0.4444444444444444,
              "#bd3786"
             ],
             [
              0.5555555555555556,
              "#d8576b"
             ],
             [
              0.6666666666666666,
              "#ed7953"
             ],
             [
              0.7777777777777778,
              "#fb9f3a"
             ],
             [
              0.8888888888888888,
              "#fdca26"
             ],
             [
              1.0,
              "#f0f921"
             ]
            ],
            "type": "heatmapgl"
           }
          ],
          "histogram": [
           {
            "marker": {
             "pattern": {
              "fillmode": "overlay",
              "size": 10,
              "solidity": 0.2
             }
            },
            "type": "histogram"
           }
          ],
          "histogram2d": [
           {
            "colorbar": {
             "outlinewidth": 0,
             "ticks": ""
            },
            "colorscale": [
             [
              0.0,
              "#0d0887"
             ],
             [
              0.1111111111111111,
              "#46039f"
             ],
             [
              0.2222222222222222,
              "#7201a8"
             ],
             [
              0.3333333333333333,
              "#9c179e"
             ],
             [
              0.4444444444444444,
              "#bd3786"
             ],
             [
              0.5555555555555556,
              "#d8576b"
             ],
             [
              0.6666666666666666,
              "#ed7953"
             ],
             [
              0.7777777777777778,
              "#fb9f3a"
             ],
             [
              0.8888888888888888,
              "#fdca26"
             ],
             [
              1.0,
              "#f0f921"
             ]
            ],
            "type": "histogram2d"
           }
          ],
          "histogram2dcontour": [
           {
            "colorbar": {
             "outlinewidth": 0,
             "ticks": ""
            },
            "colorscale": [
             [
              0.0,
              "#0d0887"
             ],
             [
              0.1111111111111111,
              "#46039f"
             ],
             [
              0.2222222222222222,
              "#7201a8"
             ],
             [
              0.3333333333333333,
              "#9c179e"
             ],
             [
              0.4444444444444444,
              "#bd3786"
             ],
             [
              0.5555555555555556,
              "#d8576b"
             ],
             [
              0.6666666666666666,
              "#ed7953"
             ],
             [
              0.7777777777777778,
              "#fb9f3a"
             ],
             [
              0.8888888888888888,
              "#fdca26"
             ],
             [
              1.0,
              "#f0f921"
             ]
            ],
            "type": "histogram2dcontour"
           }
          ],
          "mesh3d": [
           {
            "colorbar": {
             "outlinewidth": 0,
             "ticks": ""
            },
            "type": "mesh3d"
           }
          ],
          "parcoords": [
           {
            "line": {
             "colorbar": {
              "outlinewidth": 0,
              "ticks": ""
             }
            },
            "type": "parcoords"
           }
          ],
          "pie": [
           {
            "automargin": true,
            "type": "pie"
           }
          ],
          "scatter": [
           {
            "marker": {
             "colorbar": {
              "outlinewidth": 0,
              "ticks": ""
             }
            },
            "type": "scatter"
           }
          ],
          "scatter3d": [
           {
            "line": {
             "colorbar": {
              "outlinewidth": 0,
              "ticks": ""
             }
            },
            "marker": {
             "colorbar": {
              "outlinewidth": 0,
              "ticks": ""
             }
            },
            "type": "scatter3d"
           }
          ],
          "scattercarpet": [
           {
            "marker": {
             "colorbar": {
              "outlinewidth": 0,
              "ticks": ""
             }
            },
            "type": "scattercarpet"
           }
          ],
          "scattergeo": [
           {
            "marker": {
             "colorbar": {
              "outlinewidth": 0,
              "ticks": ""
             }
            },
            "type": "scattergeo"
           }
          ],
          "scattergl": [
           {
            "marker": {
             "colorbar": {
              "outlinewidth": 0,
              "ticks": ""
             }
            },
            "type": "scattergl"
           }
          ],
          "scattermapbox": [
           {
            "marker": {
             "colorbar": {
              "outlinewidth": 0,
              "ticks": ""
             }
            },
            "type": "scattermapbox"
           }
          ],
          "scatterpolar": [
           {
            "marker": {
             "colorbar": {
              "outlinewidth": 0,
              "ticks": ""
             }
            },
            "type": "scatterpolar"
           }
          ],
          "scatterpolargl": [
           {
            "marker": {
             "colorbar": {
              "outlinewidth": 0,
              "ticks": ""
             }
            },
            "type": "scatterpolargl"
           }
          ],
          "scatterternary": [
           {
            "marker": {
             "colorbar": {
              "outlinewidth": 0,
              "ticks": ""
             }
            },
            "type": "scatterternary"
           }
          ],
          "surface": [
           {
            "colorbar": {
             "outlinewidth": 0,
             "ticks": ""
            },
            "colorscale": [
             [
              0.0,
              "#0d0887"
             ],
             [
              0.1111111111111111,
              "#46039f"
             ],
             [
              0.2222222222222222,
              "#7201a8"
             ],
             [
              0.3333333333333333,
              "#9c179e"
             ],
             [
              0.4444444444444444,
              "#bd3786"
             ],
             [
              0.5555555555555556,
              "#d8576b"
             ],
             [
              0.6666666666666666,
              "#ed7953"
             ],
             [
              0.7777777777777778,
              "#fb9f3a"
             ],
             [
              0.8888888888888888,
              "#fdca26"
             ],
             [
              1.0,
              "#f0f921"
             ]
            ],
            "type": "surface"
           }
          ],
          "table": [
           {
            "cells": {
             "fill": {
              "color": "#EBF0F8"
             },
             "line": {
              "color": "white"
             }
            },
            "header": {
             "fill": {
              "color": "#C8D4E3"
             },
             "line": {
              "color": "white"
             }
            },
            "type": "table"
           }
          ]
         },
         "layout": {
          "annotationdefaults": {
           "arrowcolor": "#2a3f5f",
           "arrowhead": 0,
           "arrowwidth": 1
          },
          "autotypenumbers": "strict",
          "coloraxis": {
           "colorbar": {
            "outlinewidth": 0,
            "ticks": ""
           }
          },
          "colorscale": {
           "diverging": [
            [
             0,
             "#8e0152"
            ],
            [
             0.1,
             "#c51b7d"
            ],
            [
             0.2,
             "#de77ae"
            ],
            [
             0.3,
             "#f1b6da"
            ],
            [
             0.4,
             "#fde0ef"
            ],
            [
             0.5,
             "#f7f7f7"
            ],
            [
             0.6,
             "#e6f5d0"
            ],
            [
             0.7,
             "#b8e186"
            ],
            [
             0.8,
             "#7fbc41"
            ],
            [
             0.9,
             "#4d9221"
            ],
            [
             1,
             "#276419"
            ]
           ],
           "sequential": [
            [
             0.0,
             "#0d0887"
            ],
            [
             0.1111111111111111,
             "#46039f"
            ],
            [
             0.2222222222222222,
             "#7201a8"
            ],
            [
             0.3333333333333333,
             "#9c179e"
            ],
            [
             0.4444444444444444,
             "#bd3786"
            ],
            [
             0.5555555555555556,
             "#d8576b"
            ],
            [
             0.6666666666666666,
             "#ed7953"
            ],
            [
             0.7777777777777778,
             "#fb9f3a"
            ],
            [
             0.8888888888888888,
             "#fdca26"
            ],
            [
             1.0,
             "#f0f921"
            ]
           ],
           "sequentialminus": [
            [
             0.0,
             "#0d0887"
            ],
            [
             0.1111111111111111,
             "#46039f"
            ],
            [
             0.2222222222222222,
             "#7201a8"
            ],
            [
             0.3333333333333333,
             "#9c179e"
            ],
            [
             0.4444444444444444,
             "#bd3786"
            ],
            [
             0.5555555555555556,
             "#d8576b"
            ],
            [
             0.6666666666666666,
             "#ed7953"
            ],
            [
             0.7777777777777778,
             "#fb9f3a"
            ],
            [
             0.8888888888888888,
             "#fdca26"
            ],
            [
             1.0,
             "#f0f921"
            ]
           ]
          },
          "colorway": [
           "#636efa",
           "#EF553B",
           "#00cc96",
           "#ab63fa",
           "#FFA15A",
           "#19d3f3",
           "#FF6692",
           "#B6E880",
           "#FF97FF",
           "#FECB52"
          ],
          "font": {
           "color": "#2a3f5f"
          },
          "geo": {
           "bgcolor": "white",
           "lakecolor": "white",
           "landcolor": "#E5ECF6",
           "showlakes": true,
           "showland": true,
           "subunitcolor": "white"
          },
          "hoverlabel": {
           "align": "left"
          },
          "hovermode": "closest",
          "mapbox": {
           "style": "light"
          },
          "paper_bgcolor": "white",
          "plot_bgcolor": "#E5ECF6",
          "polar": {
           "angularaxis": {
            "gridcolor": "white",
            "linecolor": "white",
            "ticks": ""
           },
           "bgcolor": "#E5ECF6",
           "radialaxis": {
            "gridcolor": "white",
            "linecolor": "white",
            "ticks": ""
           }
          },
          "scene": {
           "xaxis": {
            "backgroundcolor": "#E5ECF6",
            "gridcolor": "white",
            "gridwidth": 2,
            "linecolor": "white",
            "showbackground": true,
            "ticks": "",
            "zerolinecolor": "white"
           },
           "yaxis": {
            "backgroundcolor": "#E5ECF6",
            "gridcolor": "white",
            "gridwidth": 2,
            "linecolor": "white",
            "showbackground": true,
            "ticks": "",
            "zerolinecolor": "white"
           },
           "zaxis": {
            "backgroundcolor": "#E5ECF6",
            "gridcolor": "white",
            "gridwidth": 2,
            "linecolor": "white",
            "showbackground": true,
            "ticks": "",
            "zerolinecolor": "white"
           }
          },
          "shapedefaults": {
           "line": {
            "color": "#2a3f5f"
           }
          },
          "ternary": {
           "aaxis": {
            "gridcolor": "white",
            "linecolor": "white",
            "ticks": ""
           },
           "baxis": {
            "gridcolor": "white",
            "linecolor": "white",
            "ticks": ""
           },
           "bgcolor": "#E5ECF6",
           "caxis": {
            "gridcolor": "white",
            "linecolor": "white",
            "ticks": ""
           }
          },
          "title": {
           "x": 0.05
          },
          "xaxis": {
           "automargin": true,
           "gridcolor": "white",
           "linecolor": "white",
           "ticks": "",
           "title": {
            "standoff": 15
           },
           "zerolinecolor": "white",
           "zerolinewidth": 2
          },
          "yaxis": {
           "automargin": true,
           "gridcolor": "white",
           "linecolor": "white",
           "ticks": "",
           "title": {
            "standoff": 15
           },
           "zerolinecolor": "white",
           "zerolinewidth": 2
          }
         }
        },
        "xaxis": {
         "anchor": "y",
         "domain": [
          0.0,
          1.0
         ],
         "title": {
          "text": "average_household_income"
         }
        },
        "yaxis": {
         "anchor": "x",
         "domain": [
          0.0,
          1.0
         ],
         "title": {
          "text": "solar_systems_per_thousand_households"
         }
        },
        "legend": {
         "tracegroupgap": 0
        },
        "margin": {
         "t": 60
        }
       },
       "config": {
        "plotlyServerURL": "https://plot.ly"
       }
      },
      "text/html": "<div>                            <div id=\"1142cfa4-c75f-4cdb-b300-68258635a924\" class=\"plotly-graph-div\" style=\"height:525px; width:100%;\"></div>            <script type=\"text/javascript\">                require([\"plotly\"], function(Plotly) {                    window.PLOTLYENV=window.PLOTLYENV || {};                                    if (document.getElementById(\"1142cfa4-c75f-4cdb-b300-68258635a924\")) {                    Plotly.newPlot(                        \"1142cfa4-c75f-4cdb-b300-68258635a924\",                        [{\"hovertemplate\":\"average_household_income=%{x}<br>solar_systems_per_thousand_households=%{y}<extra></extra>\",\"legendgroup\":\"\",\"marker\":{\"color\":\"CadetBlue\",\"symbol\":\"circle\"},\"mode\":\"markers\",\"name\":\"\",\"orientation\":\"v\",\"showlegend\":false,\"x\":[29219.44122645,33704.70460455,36264.539808,38355.050421449996,39937.7226956,41530.405609299996,42999.60962,44403.7156704,45796.887013700005,47165.9802306,48522.54574395,49844.30449069999,51062.85810305,52365.910554550006,53523.296355,54743.6302654,56001.3934426,57078.238276350006,58228.23098080001,59530.13488815,60868.87953675,61963.251073,63166.7964375,64306.5445026,65503.05931620001,66845.2723779,68024.2375602,69233.0793422,70545.73082489999,71655.584784,73050.97505669999,74419.24830745,75775.26398295,77135.499515,78795.19307724999,80224.6247916,81771.9274532,83248.11222719999,84703.02071045,86327.5448583,88060.6715731,89792.63760465,91465.55952989998,93537.08054329999,95585.6094103,97593.9666239,99937.3656043,102355.990649,104699.5804485,107099.205719,109976.68760149999,112706.366053,115619.849246,118496.6616775,121937.360595,126078.95203449999,131125.585399,137224.7759065,144002.454196,152413.41911800002,163678.97334549998,177370.28985499995,199639.7604795,250385.56751949998],\"xaxis\":\"x\",\"y\":[9.546990486176824,11.416958953455303,11.066398390342052,11.890757728285582,11.892963330029731,14.296622349982034,12.54904556384338,12.110726643598616,18.28390578544349,15.756302521008402,17.555363267733973,15.444015444015445,17.294494474897764,18.16371285356248,18.581907090464547,22.10961939520334,24.12280701754386,22.986531314877617,21.081576535288725,24.473694803365134,22.855357700718525,27.283511269276392,26.19226066032898,37.301587301587304,26.41547049441786,29.115244172575952,33.42618384401114,29.838671966331543,33.126293995859214,33.00810821579408,35.57312252964427,34.25583951974505,34.76898895308938,30.94688221709007,42.787113299622405,39.13630229419703,40.84721227900293,41.26984126984127,43.25155637966995,39.333314026332715,45.172719220549155,48.12280701754386,46.413502109704645,44.79466129416731,44.34025661462485,46.85494223363286,71.90779547165172,68.3491062039958,58.525350206940466,56.1056105610561,53.66135174493531,61.181310112871,71.04413347685684,54.410910505632586,56.80600214362272,49.013976297597566,57.3042776432607,76.90857222251293,77.5963686905118,73.19884726224784,68.75270630072875,69.35687263556116,92.81185518664415,75.0130400915366],\"yaxis\":\"y\",\"type\":\"scatter\"},{\"hovertemplate\":\"<b>OLS trendline</b><br>solar_systems_per_thousand_households = 0.000451589 * average_household_income + 0.429605<br>R<sup>2</sup>=0.824480<br><br>average_household_income=%{x}<br>solar_systems_per_thousand_households=%{y} <b>(trend)</b><extra></extra>\",\"legendgroup\":\"\",\"line\":{\"color\":\"CadetBlue\"},\"marker\":{\"color\":\"CadetBlue\",\"symbol\":\"circle\"},\"mode\":\"lines\",\"name\":\"\",\"showlegend\":false,\"x\":[29219.44122645,33704.70460455,36264.539808,38355.050421449996,39937.7226956,41530.405609299996,42999.60962,44403.7156704,45796.887013700005,47165.9802306,48522.54574395,49844.30449069999,51062.85810305,52365.910554550006,53523.296355,54743.6302654,56001.3934426,57078.238276350006,58228.23098080001,59530.13488815,60868.87953675,61963.251073,63166.7964375,64306.5445026,65503.05931620001,66845.2723779,68024.2375602,69233.0793422,70545.73082489999,71655.584784,73050.97505669999,74419.24830745,75775.26398295,77135.499515,78795.19307724999,80224.6247916,81771.9274532,83248.11222719999,84703.02071045,86327.5448583,88060.6715731,89792.63760465,91465.55952989998,93537.08054329999,95585.6094103,97593.9666239,99937.3656043,102355.990649,104699.5804485,107099.205719,109976.68760149999,112706.366053,115619.849246,118496.6616775,121937.360595,126078.95203449999,131125.585399,137224.7759065,144002.454196,152413.41911800002,163678.97334549998,177370.28985499995,199639.7604795,250385.56751949998],\"xaxis\":\"x\",\"y\":[13.624790726606598,15.650287435987472,16.806281486740783,17.75033359952049,18.465051379299375,19.184289856249872,19.84776658843291,20.481845781773774,21.110986978974385,21.72925475321629,22.34186515125137,22.93875718778359,23.489042895434643,24.077487370189655,24.600150351753218,25.15124002285926,25.71923234835748,26.20552389545463,26.72484823436607,27.312774038933778,27.917336726083985,28.411543143557168,28.95505128786998,29.469749257816442,30.010082480945673,30.61621146615434,31.148619464508016,31.694519414008937,32.28729870803092,32.78849682117331,33.41864006302975,34.036537549375815,34.6488996465505,35.26316738556504,36.01266715080336,36.65818314164515,37.3569283847427,38.02355755456455,38.68057858027777,39.41419621616648,40.19685760343479,40.97899483862877,41.73446839034702,42.66994500394835,43.595038611480916,44.50199113232293,45.56024491218844,46.65246997375021,47.71080992546931,48.794454893315965,50.09389476852252,51.326588203690044,52.6422858835792,53.94142344191308,55.49520607358516,57.36550423116198,59.644509589722794,62.398838435415136,65.45956506735706,69.25786637902847,74.34526952430798,80.52812083076384,90.58477429058509,113.50103505606495],\"yaxis\":\"y\",\"type\":\"scatter\"}],                        {\"template\":{\"data\":{\"bar\":[{\"error_x\":{\"color\":\"#2a3f5f\"},\"error_y\":{\"color\":\"#2a3f5f\"},\"marker\":{\"line\":{\"color\":\"#E5ECF6\",\"width\":0.5},\"pattern\":{\"fillmode\":\"overlay\",\"size\":10,\"solidity\":0.2}},\"type\":\"bar\"}],\"barpolar\":[{\"marker\":{\"line\":{\"color\":\"#E5ECF6\",\"width\":0.5},\"pattern\":{\"fillmode\":\"overlay\",\"size\":10,\"solidity\":0.2}},\"type\":\"barpolar\"}],\"carpet\":[{\"aaxis\":{\"endlinecolor\":\"#2a3f5f\",\"gridcolor\":\"white\",\"linecolor\":\"white\",\"minorgridcolor\":\"white\",\"startlinecolor\":\"#2a3f5f\"},\"baxis\":{\"endlinecolor\":\"#2a3f5f\",\"gridcolor\":\"white\",\"linecolor\":\"white\",\"minorgridcolor\":\"white\",\"startlinecolor\":\"#2a3f5f\"},\"type\":\"carpet\"}],\"choropleth\":[{\"colorbar\":{\"outlinewidth\":0,\"ticks\":\"\"},\"type\":\"choropleth\"}],\"contour\":[{\"colorbar\":{\"outlinewidth\":0,\"ticks\":\"\"},\"colorscale\":[[0.0,\"#0d0887\"],[0.1111111111111111,\"#46039f\"],[0.2222222222222222,\"#7201a8\"],[0.3333333333333333,\"#9c179e\"],[0.4444444444444444,\"#bd3786\"],[0.5555555555555556,\"#d8576b\"],[0.6666666666666666,\"#ed7953\"],[0.7777777777777778,\"#fb9f3a\"],[0.8888888888888888,\"#fdca26\"],[1.0,\"#f0f921\"]],\"type\":\"contour\"}],\"contourcarpet\":[{\"colorbar\":{\"outlinewidth\":0,\"ticks\":\"\"},\"type\":\"contourcarpet\"}],\"heatmap\":[{\"colorbar\":{\"outlinewidth\":0,\"ticks\":\"\"},\"colorscale\":[[0.0,\"#0d0887\"],[0.1111111111111111,\"#46039f\"],[0.2222222222222222,\"#7201a8\"],[0.3333333333333333,\"#9c179e\"],[0.4444444444444444,\"#bd3786\"],[0.5555555555555556,\"#d8576b\"],[0.6666666666666666,\"#ed7953\"],[0.7777777777777778,\"#fb9f3a\"],[0.8888888888888888,\"#fdca26\"],[1.0,\"#f0f921\"]],\"type\":\"heatmap\"}],\"heatmapgl\":[{\"colorbar\":{\"outlinewidth\":0,\"ticks\":\"\"},\"colorscale\":[[0.0,\"#0d0887\"],[0.1111111111111111,\"#46039f\"],[0.2222222222222222,\"#7201a8\"],[0.3333333333333333,\"#9c179e\"],[0.4444444444444444,\"#bd3786\"],[0.5555555555555556,\"#d8576b\"],[0.6666666666666666,\"#ed7953\"],[0.7777777777777778,\"#fb9f3a\"],[0.8888888888888888,\"#fdca26\"],[1.0,\"#f0f921\"]],\"type\":\"heatmapgl\"}],\"histogram\":[{\"marker\":{\"pattern\":{\"fillmode\":\"overlay\",\"size\":10,\"solidity\":0.2}},\"type\":\"histogram\"}],\"histogram2d\":[{\"colorbar\":{\"outlinewidth\":0,\"ticks\":\"\"},\"colorscale\":[[0.0,\"#0d0887\"],[0.1111111111111111,\"#46039f\"],[0.2222222222222222,\"#7201a8\"],[0.3333333333333333,\"#9c179e\"],[0.4444444444444444,\"#bd3786\"],[0.5555555555555556,\"#d8576b\"],[0.6666666666666666,\"#ed7953\"],[0.7777777777777778,\"#fb9f3a\"],[0.8888888888888888,\"#fdca26\"],[1.0,\"#f0f921\"]],\"type\":\"histogram2d\"}],\"histogram2dcontour\":[{\"colorbar\":{\"outlinewidth\":0,\"ticks\":\"\"},\"colorscale\":[[0.0,\"#0d0887\"],[0.1111111111111111,\"#46039f\"],[0.2222222222222222,\"#7201a8\"],[0.3333333333333333,\"#9c179e\"],[0.4444444444444444,\"#bd3786\"],[0.5555555555555556,\"#d8576b\"],[0.6666666666666666,\"#ed7953\"],[0.7777777777777778,\"#fb9f3a\"],[0.8888888888888888,\"#fdca26\"],[1.0,\"#f0f921\"]],\"type\":\"histogram2dcontour\"}],\"mesh3d\":[{\"colorbar\":{\"outlinewidth\":0,\"ticks\":\"\"},\"type\":\"mesh3d\"}],\"parcoords\":[{\"line\":{\"colorbar\":{\"outlinewidth\":0,\"ticks\":\"\"}},\"type\":\"parcoords\"}],\"pie\":[{\"automargin\":true,\"type\":\"pie\"}],\"scatter\":[{\"marker\":{\"colorbar\":{\"outlinewidth\":0,\"ticks\":\"\"}},\"type\":\"scatter\"}],\"scatter3d\":[{\"line\":{\"colorbar\":{\"outlinewidth\":0,\"ticks\":\"\"}},\"marker\":{\"colorbar\":{\"outlinewidth\":0,\"ticks\":\"\"}},\"type\":\"scatter3d\"}],\"scattercarpet\":[{\"marker\":{\"colorbar\":{\"outlinewidth\":0,\"ticks\":\"\"}},\"type\":\"scattercarpet\"}],\"scattergeo\":[{\"marker\":{\"colorbar\":{\"outlinewidth\":0,\"ticks\":\"\"}},\"type\":\"scattergeo\"}],\"scattergl\":[{\"marker\":{\"colorbar\":{\"outlinewidth\":0,\"ticks\":\"\"}},\"type\":\"scattergl\"}],\"scattermapbox\":[{\"marker\":{\"colorbar\":{\"outlinewidth\":0,\"ticks\":\"\"}},\"type\":\"scattermapbox\"}],\"scatterpolar\":[{\"marker\":{\"colorbar\":{\"outlinewidth\":0,\"ticks\":\"\"}},\"type\":\"scatterpolar\"}],\"scatterpolargl\":[{\"marker\":{\"colorbar\":{\"outlinewidth\":0,\"ticks\":\"\"}},\"type\":\"scatterpolargl\"}],\"scatterternary\":[{\"marker\":{\"colorbar\":{\"outlinewidth\":0,\"ticks\":\"\"}},\"type\":\"scatterternary\"}],\"surface\":[{\"colorbar\":{\"outlinewidth\":0,\"ticks\":\"\"},\"colorscale\":[[0.0,\"#0d0887\"],[0.1111111111111111,\"#46039f\"],[0.2222222222222222,\"#7201a8\"],[0.3333333333333333,\"#9c179e\"],[0.4444444444444444,\"#bd3786\"],[0.5555555555555556,\"#d8576b\"],[0.6666666666666666,\"#ed7953\"],[0.7777777777777778,\"#fb9f3a\"],[0.8888888888888888,\"#fdca26\"],[1.0,\"#f0f921\"]],\"type\":\"surface\"}],\"table\":[{\"cells\":{\"fill\":{\"color\":\"#EBF0F8\"},\"line\":{\"color\":\"white\"}},\"header\":{\"fill\":{\"color\":\"#C8D4E3\"},\"line\":{\"color\":\"white\"}},\"type\":\"table\"}]},\"layout\":{\"annotationdefaults\":{\"arrowcolor\":\"#2a3f5f\",\"arrowhead\":0,\"arrowwidth\":1},\"autotypenumbers\":\"strict\",\"coloraxis\":{\"colorbar\":{\"outlinewidth\":0,\"ticks\":\"\"}},\"colorscale\":{\"diverging\":[[0,\"#8e0152\"],[0.1,\"#c51b7d\"],[0.2,\"#de77ae\"],[0.3,\"#f1b6da\"],[0.4,\"#fde0ef\"],[0.5,\"#f7f7f7\"],[0.6,\"#e6f5d0\"],[0.7,\"#b8e186\"],[0.8,\"#7fbc41\"],[0.9,\"#4d9221\"],[1,\"#276419\"]],\"sequential\":[[0.0,\"#0d0887\"],[0.1111111111111111,\"#46039f\"],[0.2222222222222222,\"#7201a8\"],[0.3333333333333333,\"#9c179e\"],[0.4444444444444444,\"#bd3786\"],[0.5555555555555556,\"#d8576b\"],[0.6666666666666666,\"#ed7953\"],[0.7777777777777778,\"#fb9f3a\"],[0.8888888888888888,\"#fdca26\"],[1.0,\"#f0f921\"]],\"sequentialminus\":[[0.0,\"#0d0887\"],[0.1111111111111111,\"#46039f\"],[0.2222222222222222,\"#7201a8\"],[0.3333333333333333,\"#9c179e\"],[0.4444444444444444,\"#bd3786\"],[0.5555555555555556,\"#d8576b\"],[0.6666666666666666,\"#ed7953\"],[0.7777777777777778,\"#fb9f3a\"],[0.8888888888888888,\"#fdca26\"],[1.0,\"#f0f921\"]]},\"colorway\":[\"#636efa\",\"#EF553B\",\"#00cc96\",\"#ab63fa\",\"#FFA15A\",\"#19d3f3\",\"#FF6692\",\"#B6E880\",\"#FF97FF\",\"#FECB52\"],\"font\":{\"color\":\"#2a3f5f\"},\"geo\":{\"bgcolor\":\"white\",\"lakecolor\":\"white\",\"landcolor\":\"#E5ECF6\",\"showlakes\":true,\"showland\":true,\"subunitcolor\":\"white\"},\"hoverlabel\":{\"align\":\"left\"},\"hovermode\":\"closest\",\"mapbox\":{\"style\":\"light\"},\"paper_bgcolor\":\"white\",\"plot_bgcolor\":\"#E5ECF6\",\"polar\":{\"angularaxis\":{\"gridcolor\":\"white\",\"linecolor\":\"white\",\"ticks\":\"\"},\"bgcolor\":\"#E5ECF6\",\"radialaxis\":{\"gridcolor\":\"white\",\"linecolor\":\"white\",\"ticks\":\"\"}},\"scene\":{\"xaxis\":{\"backgroundcolor\":\"#E5ECF6\",\"gridcolor\":\"white\",\"gridwidth\":2,\"linecolor\":\"white\",\"showbackground\":true,\"ticks\":\"\",\"zerolinecolor\":\"white\"},\"yaxis\":{\"backgroundcolor\":\"#E5ECF6\",\"gridcolor\":\"white\",\"gridwidth\":2,\"linecolor\":\"white\",\"showbackground\":true,\"ticks\":\"\",\"zerolinecolor\":\"white\"},\"zaxis\":{\"backgroundcolor\":\"#E5ECF6\",\"gridcolor\":\"white\",\"gridwidth\":2,\"linecolor\":\"white\",\"showbackground\":true,\"ticks\":\"\",\"zerolinecolor\":\"white\"}},\"shapedefaults\":{\"line\":{\"color\":\"#2a3f5f\"}},\"ternary\":{\"aaxis\":{\"gridcolor\":\"white\",\"linecolor\":\"white\",\"ticks\":\"\"},\"baxis\":{\"gridcolor\":\"white\",\"linecolor\":\"white\",\"ticks\":\"\"},\"bgcolor\":\"#E5ECF6\",\"caxis\":{\"gridcolor\":\"white\",\"linecolor\":\"white\",\"ticks\":\"\"}},\"title\":{\"x\":0.05},\"xaxis\":{\"automargin\":true,\"gridcolor\":\"white\",\"linecolor\":\"white\",\"ticks\":\"\",\"title\":{\"standoff\":15},\"zerolinecolor\":\"white\",\"zerolinewidth\":2},\"yaxis\":{\"automargin\":true,\"gridcolor\":\"white\",\"linecolor\":\"white\",\"ticks\":\"\",\"title\":{\"standoff\":15},\"zerolinecolor\":\"white\",\"zerolinewidth\":2}}},\"xaxis\":{\"anchor\":\"y\",\"domain\":[0.0,1.0],\"title\":{\"text\":\"average_household_income\"}},\"yaxis\":{\"anchor\":\"x\",\"domain\":[0.0,1.0],\"title\":{\"text\":\"solar_systems_per_thousand_households\"}},\"legend\":{\"tracegroupgap\":0},\"margin\":{\"t\":60}},                        {\"responsive\": true}                    ).then(function(){\n                            \nvar gd = document.getElementById('1142cfa4-c75f-4cdb-b300-68258635a924');\nvar x = new MutationObserver(function (mutations, observer) {{\n        var display = window.getComputedStyle(gd).display;\n        if (!display || display === 'none') {{\n            console.log([gd, 'removed!']);\n            Plotly.purge(gd);\n            observer.disconnect();\n        }}\n}});\n\n// Listen for the removal of the full notebook cells\nvar notebookContainer = gd.closest('#notebook-container');\nif (notebookContainer) {{\n    x.observe(notebookContainer, {childList: true});\n}}\n\n// Listen for the clearing of the current output cell\nvar outputEl = gd.closest('.output');\nif (outputEl) {{\n    x.observe(outputEl, {childList: true});\n}}\n\n                        })                };                });            </script>        </div>"
     },
     "metadata": {},
     "output_type": "display_data"
    },
    {
     "name": "stdout",
     "output_type": "stream",
     "text": [
      "results:  <statsmodels.regression.linear_model.RegressionResultsWrapper object at 0x7fabcee119a0>\n",
      "alpha:  0.4296052792821792\n",
      "beta:  0.0004515892465246695\n",
      "p_beta:  4.155311529009996e-25\n",
      "r_squared:  0.8244798851654027\n"
     ]
    }
   ]
  },
  {
   "cell_type": "code",
   "source": [
    "hi2 = median_dataframe(\"black_binned\", 'race_black_africa_rate')\n",
    "plot_scatter(hi2, 'race_black_africa_rate', 'solar_systems_per_thousand_households', 'CadetBlue', 'race_black')"
   ],
   "metadata": {},
   "execution_count": 33,
   "outputs": [
    {
     "data": {
      "application/vnd.plotly.v1+json": {
       "data": [
        {
         "hovertemplate": "race_black_africa_rate=%{x}<br>solar_systems_per_thousand_households=%{y}<extra></extra>",
         "legendgroup": "",
         "marker": {
          "color": "CadetBlue",
          "symbol": "circle"
         },
         "mode": "markers",
         "name": "",
         "orientation": "v",
         "showlegend": false,
         "x": [
          0.0,
          9.805526135355E-4,
          0.001835078260755,
          0.00247524752475,
          0.003186969238145,
          0.003951701427,
          0.00454647516958,
          0.00541573749602,
          0.0060513528779,
          0.00675370491712,
          0.00755939524838,
          0.008522611400905,
          0.00935117249317,
          0.01021471949055,
          0.0111929307806,
          0.012030426221550001,
          0.012880951497849999,
          0.0138315942732,
          0.015090038635750001,
          0.0163648558015,
          0.01742242307305,
          0.018526010192650003,
          0.0196894065446,
          0.0209672674512,
          0.0224380442063,
          0.023654593439849998,
          0.0248756218905,
          0.026573169386200003,
          0.0279139874018,
          0.0296528447445,
          0.03112895164315,
          0.0330336200156,
          0.03516660240865,
          0.0372054568003,
          0.039431919408050006,
          0.04156010778715,
          0.0437859354268,
          0.0463086628158,
          0.0492672279389,
          0.05190689632005,
          0.05517309191325,
          0.0589680589681,
          0.0625662595642,
          0.0664985095162,
          0.07098437008969995,
          0.0763843648208,
          0.08131487170255,
          0.08666417120944994,
          0.0945566403638,
          0.1030841128385,
          0.112724493695,
          0.12212260897300001,
          0.1333470310249999,
          0.148955797687,
          0.1663712986385,
          0.187784275504,
          0.21663975645400002,
          0.253646677472,
          0.3247054492515,
          0.5112079437320001
         ],
         "xaxis": "x",
         "y": [
          29.60087822473144,
          27.55162476574379,
          25.096554450627984,
          37.754595131644315,
          35.837628237162825,
          39.13551401869159,
          34.242500997820144,
          38.0997177798683,
          39.74248927038627,
          41.45329672130074,
          36.269430051813465,
          32.77791476661372,
          47.84406379208506,
          35.36380145584657,
          36.02401601067378,
          40.913176181054865,
          35.93786814433439,
          35.06907545164718,
          37.29994141224391,
          43.580683156654885,
          35.68344731865462,
          39.86199871297074,
          53.191489361702125,
          33.76055260512574,
          39.7295012679628,
          38.55736336437077,
          34.89771359807461,
          34.82395885427391,
          37.556372171047926,
          29.77667493796526,
          41.93488165080215,
          29.692082111436953,
          45.00729961756352,
          36.39728562615669,
          32.325977572686796,
          30.463343166223407,
          35.99476439790576,
          33.881423458707545,
          38.61788617886179,
          29.18180000129023,
          29.102925965694247,
          30.44871794871795,
          38.08111393250712,
          30.753968253968253,
          33.521417435032646,
          29.346622369878183,
          29.67318556829786,
          33.68912080961417,
          38.80718954248366,
          32.73480910959703,
          30.752916224814424,
          30.05998039937311,
          31.82374541003672,
          31.420636520414796,
          27.862301915268247,
          21.863117870722434,
          22.118673004459126,
          16.97216564833673,
          18.253070735850628,
          20.623610390155935
         ],
         "yaxis": "y",
         "type": "scatter"
        },
        {
         "hovertemplate": "<b>OLS trendline</b><br>solar_systems_per_thousand_households = -49.1767 * race_black_africa_rate + 37.0349<br>R<sup>2</sup>=0.425023<br><br>race_black_africa_rate=%{x}<br>solar_systems_per_thousand_households=%{y} <b>(trend)</b><extra></extra>",
         "legendgroup": "",
         "line": {
          "color": "CadetBlue"
         },
         "marker": {
          "color": "CadetBlue",
          "symbol": "circle"
         },
         "mode": "lines",
         "name": "",
         "showlegend": false,
         "x": [
          0.0,
          9.805526135355E-4,
          0.001835078260755,
          0.00247524752475,
          0.003186969238145,
          0.003951701427,
          0.00454647516958,
          0.00541573749602,
          0.0060513528779,
          0.00675370491712,
          0.00755939524838,
          0.008522611400905,
          0.00935117249317,
          0.01021471949055,
          0.0111929307806,
          0.012030426221550001,
          0.012880951497849999,
          0.0138315942732,
          0.015090038635750001,
          0.0163648558015,
          0.01742242307305,
          0.018526010192650003,
          0.0196894065446,
          0.0209672674512,
          0.0224380442063,
          0.023654593439849998,
          0.0248756218905,
          0.026573169386200003,
          0.0279139874018,
          0.0296528447445,
          0.03112895164315,
          0.0330336200156,
          0.03516660240865,
          0.0372054568003,
          0.039431919408050006,
          0.04156010778715,
          0.0437859354268,
          0.0463086628158,
          0.0492672279389,
          0.05190689632005,
          0.05517309191325,
          0.0589680589681,
          0.0625662595642,
          0.0664985095162,
          0.07098437008969995,
          0.0763843648208,
          0.08131487170255,
          0.08666417120944994,
          0.0945566403638,
          0.1030841128385,
          0.112724493695,
          0.12212260897300001,
          0.1333470310249999,
          0.148955797687,
          0.1663712986385,
          0.187784275504,
          0.21663975645400002,
          0.253646677472,
          0.3247054492515,
          0.5112079437320001
         ],
         "xaxis": "x",
         "y": [
          37.034901578008515,
          36.98668123665872,
          36.944658485577044,
          36.91317707396754,
          36.87817694904591,
          36.840569943895204,
          36.81132093420699,
          36.76857348187771,
          36.737316015161134,
          36.702776659892066,
          36.6631554684748,
          36.6157876770608,
          36.57504177709922,
          36.53257538579043,
          36.48447018300242,
          36.44328492125915,
          36.40145889521661,
          36.35470942099531,
          36.29282328057385,
          36.230131979727275,
          36.17812431167299,
          36.123853539374004,
          36.06664154642049,
          36.003800564444376,
          35.93147261773221,
          35.87164674148565,
          35.81160059212517,
          35.728120808817046,
          35.662183804001906,
          35.576672538756,
          35.50408247317547,
          35.410417168723775,
          35.30552413425912,
          35.205260004246334,
          35.09576992134179,
          34.99111264066119,
          34.881653783392174,
          34.75759437632838,
          34.61210190792619,
          34.4822917288167,
          34.32167100918856,
          34.13504705421658,
          33.95809942428431,
          33.76472434951449,
          33.54412453149774,
          33.27857061258879,
          33.03610455662848,
          32.773043661532824,
          32.38491807656976,
          31.96556512405614,
          31.491483010332132,
          31.02931471819334,
          30.477334686392563,
          29.70974705661998,
          28.853310197376736,
          27.800290665822143,
          26.381273346389662,
          24.561395107159978,
          21.066959231097744,
          11.895382079298802
         ],
         "yaxis": "y",
         "type": "scatter"
        }
       ],
       "layout": {
        "template": {
         "data": {
          "bar": [
           {
            "error_x": {
             "color": "#2a3f5f"
            },
            "error_y": {
             "color": "#2a3f5f"
            },
            "marker": {
             "line": {
              "color": "#E5ECF6",
              "width": 0.5
             },
             "pattern": {
              "fillmode": "overlay",
              "size": 10,
              "solidity": 0.2
             }
            },
            "type": "bar"
           }
          ],
          "barpolar": [
           {
            "marker": {
             "line": {
              "color": "#E5ECF6",
              "width": 0.5
             },
             "pattern": {
              "fillmode": "overlay",
              "size": 10,
              "solidity": 0.2
             }
            },
            "type": "barpolar"
           }
          ],
          "carpet": [
           {
            "aaxis": {
             "endlinecolor": "#2a3f5f",
             "gridcolor": "white",
             "linecolor": "white",
             "minorgridcolor": "white",
             "startlinecolor": "#2a3f5f"
            },
            "baxis": {
             "endlinecolor": "#2a3f5f",
             "gridcolor": "white",
             "linecolor": "white",
             "minorgridcolor": "white",
             "startlinecolor": "#2a3f5f"
            },
            "type": "carpet"
           }
          ],
          "choropleth": [
           {
            "colorbar": {
             "outlinewidth": 0,
             "ticks": ""
            },
            "type": "choropleth"
           }
          ],
          "contour": [
           {
            "colorbar": {
             "outlinewidth": 0,
             "ticks": ""
            },
            "colorscale": [
             [
              0.0,
              "#0d0887"
             ],
             [
              0.1111111111111111,
              "#46039f"
             ],
             [
              0.2222222222222222,
              "#7201a8"
             ],
             [
              0.3333333333333333,
              "#9c179e"
             ],
             [
              0.4444444444444444,
              "#bd3786"
             ],
             [
              0.5555555555555556,
              "#d8576b"
             ],
             [
              0.6666666666666666,
              "#ed7953"
             ],
             [
              0.7777777777777778,
              "#fb9f3a"
             ],
             [
              0.8888888888888888,
              "#fdca26"
             ],
             [
              1.0,
              "#f0f921"
             ]
            ],
            "type": "contour"
           }
          ],
          "contourcarpet": [
           {
            "colorbar": {
             "outlinewidth": 0,
             "ticks": ""
            },
            "type": "contourcarpet"
           }
          ],
          "heatmap": [
           {
            "colorbar": {
             "outlinewidth": 0,
             "ticks": ""
            },
            "colorscale": [
             [
              0.0,
              "#0d0887"
             ],
             [
              0.1111111111111111,
              "#46039f"
             ],
             [
              0.2222222222222222,
              "#7201a8"
             ],
             [
              0.3333333333333333,
              "#9c179e"
             ],
             [
              0.4444444444444444,
              "#bd3786"
             ],
             [
              0.5555555555555556,
              "#d8576b"
             ],
             [
              0.6666666666666666,
              "#ed7953"
             ],
             [
              0.7777777777777778,
              "#fb9f3a"
             ],
             [
              0.8888888888888888,
              "#fdca26"
             ],
             [
              1.0,
              "#f0f921"
             ]
            ],
            "type": "heatmap"
           }
          ],
          "heatmapgl": [
           {
            "colorbar": {
             "outlinewidth": 0,
             "ticks": ""
            },
            "colorscale": [
             [
              0.0,
              "#0d0887"
             ],
             [
              0.1111111111111111,
              "#46039f"
             ],
             [
              0.2222222222222222,
              "#7201a8"
             ],
             [
              0.3333333333333333,
              "#9c179e"
             ],
             [
              0.4444444444444444,
              "#bd3786"
             ],
             [
              0.5555555555555556,
              "#d8576b"
             ],
             [
              0.6666666666666666,
              "#ed7953"
             ],
             [
              0.7777777777777778,
              "#fb9f3a"
             ],
             [
              0.8888888888888888,
              "#fdca26"
             ],
             [
              1.0,
              "#f0f921"
             ]
            ],
            "type": "heatmapgl"
           }
          ],
          "histogram": [
           {
            "marker": {
             "pattern": {
              "fillmode": "overlay",
              "size": 10,
              "solidity": 0.2
             }
            },
            "type": "histogram"
           }
          ],
          "histogram2d": [
           {
            "colorbar": {
             "outlinewidth": 0,
             "ticks": ""
            },
            "colorscale": [
             [
              0.0,
              "#0d0887"
             ],
             [
              0.1111111111111111,
              "#46039f"
             ],
             [
              0.2222222222222222,
              "#7201a8"
             ],
             [
              0.3333333333333333,
              "#9c179e"
             ],
             [
              0.4444444444444444,
              "#bd3786"
             ],
             [
              0.5555555555555556,
              "#d8576b"
             ],
             [
              0.6666666666666666,
              "#ed7953"
             ],
             [
              0.7777777777777778,
              "#fb9f3a"
             ],
             [
              0.8888888888888888,
              "#fdca26"
             ],
             [
              1.0,
              "#f0f921"
             ]
            ],
            "type": "histogram2d"
           }
          ],
          "histogram2dcontour": [
           {
            "colorbar": {
             "outlinewidth": 0,
             "ticks": ""
            },
            "colorscale": [
             [
              0.0,
              "#0d0887"
             ],
             [
              0.1111111111111111,
              "#46039f"
             ],
             [
              0.2222222222222222,
              "#7201a8"
             ],
             [
              0.3333333333333333,
              "#9c179e"
             ],
             [
              0.4444444444444444,
              "#bd3786"
             ],
             [
              0.5555555555555556,
              "#d8576b"
             ],
             [
              0.6666666666666666,
              "#ed7953"
             ],
             [
              0.7777777777777778,
              "#fb9f3a"
             ],
             [
              0.8888888888888888,
              "#fdca26"
             ],
             [
              1.0,
              "#f0f921"
             ]
            ],
            "type": "histogram2dcontour"
           }
          ],
          "mesh3d": [
           {
            "colorbar": {
             "outlinewidth": 0,
             "ticks": ""
            },
            "type": "mesh3d"
           }
          ],
          "parcoords": [
           {
            "line": {
             "colorbar": {
              "outlinewidth": 0,
              "ticks": ""
             }
            },
            "type": "parcoords"
           }
          ],
          "pie": [
           {
            "automargin": true,
            "type": "pie"
           }
          ],
          "scatter": [
           {
            "marker": {
             "colorbar": {
              "outlinewidth": 0,
              "ticks": ""
             }
            },
            "type": "scatter"
           }
          ],
          "scatter3d": [
           {
            "line": {
             "colorbar": {
              "outlinewidth": 0,
              "ticks": ""
             }
            },
            "marker": {
             "colorbar": {
              "outlinewidth": 0,
              "ticks": ""
             }
            },
            "type": "scatter3d"
           }
          ],
          "scattercarpet": [
           {
            "marker": {
             "colorbar": {
              "outlinewidth": 0,
              "ticks": ""
             }
            },
            "type": "scattercarpet"
           }
          ],
          "scattergeo": [
           {
            "marker": {
             "colorbar": {
              "outlinewidth": 0,
              "ticks": ""
             }
            },
            "type": "scattergeo"
           }
          ],
          "scattergl": [
           {
            "marker": {
             "colorbar": {
              "outlinewidth": 0,
              "ticks": ""
             }
            },
            "type": "scattergl"
           }
          ],
          "scattermapbox": [
           {
            "marker": {
             "colorbar": {
              "outlinewidth": 0,
              "ticks": ""
             }
            },
            "type": "scattermapbox"
           }
          ],
          "scatterpolar": [
           {
            "marker": {
             "colorbar": {
              "outlinewidth": 0,
              "ticks": ""
             }
            },
            "type": "scatterpolar"
           }
          ],
          "scatterpolargl": [
           {
            "marker": {
             "colorbar": {
              "outlinewidth": 0,
              "ticks": ""
             }
            },
            "type": "scatterpolargl"
           }
          ],
          "scatterternary": [
           {
            "marker": {
             "colorbar": {
              "outlinewidth": 0,
              "ticks": ""
             }
            },
            "type": "scatterternary"
           }
          ],
          "surface": [
           {
            "colorbar": {
             "outlinewidth": 0,
             "ticks": ""
            },
            "colorscale": [
             [
              0.0,
              "#0d0887"
             ],
             [
              0.1111111111111111,
              "#46039f"
             ],
             [
              0.2222222222222222,
              "#7201a8"
             ],
             [
              0.3333333333333333,
              "#9c179e"
             ],
             [
              0.4444444444444444,
              "#bd3786"
             ],
             [
              0.5555555555555556,
              "#d8576b"
             ],
             [
              0.6666666666666666,
              "#ed7953"
             ],
             [
              0.7777777777777778,
              "#fb9f3a"
             ],
             [
              0.8888888888888888,
              "#fdca26"
             ],
             [
              1.0,
              "#f0f921"
             ]
            ],
            "type": "surface"
           }
          ],
          "table": [
           {
            "cells": {
             "fill": {
              "color": "#EBF0F8"
             },
             "line": {
              "color": "white"
             }
            },
            "header": {
             "fill": {
              "color": "#C8D4E3"
             },
             "line": {
              "color": "white"
             }
            },
            "type": "table"
           }
          ]
         },
         "layout": {
          "annotationdefaults": {
           "arrowcolor": "#2a3f5f",
           "arrowhead": 0,
           "arrowwidth": 1
          },
          "autotypenumbers": "strict",
          "coloraxis": {
           "colorbar": {
            "outlinewidth": 0,
            "ticks": ""
           }
          },
          "colorscale": {
           "diverging": [
            [
             0,
             "#8e0152"
            ],
            [
             0.1,
             "#c51b7d"
            ],
            [
             0.2,
             "#de77ae"
            ],
            [
             0.3,
             "#f1b6da"
            ],
            [
             0.4,
             "#fde0ef"
            ],
            [
             0.5,
             "#f7f7f7"
            ],
            [
             0.6,
             "#e6f5d0"
            ],
            [
             0.7,
             "#b8e186"
            ],
            [
             0.8,
             "#7fbc41"
            ],
            [
             0.9,
             "#4d9221"
            ],
            [
             1,
             "#276419"
            ]
           ],
           "sequential": [
            [
             0.0,
             "#0d0887"
            ],
            [
             0.1111111111111111,
             "#46039f"
            ],
            [
             0.2222222222222222,
             "#7201a8"
            ],
            [
             0.3333333333333333,
             "#9c179e"
            ],
            [
             0.4444444444444444,
             "#bd3786"
            ],
            [
             0.5555555555555556,
             "#d8576b"
            ],
            [
             0.6666666666666666,
             "#ed7953"
            ],
            [
             0.7777777777777778,
             "#fb9f3a"
            ],
            [
             0.8888888888888888,
             "#fdca26"
            ],
            [
             1.0,
             "#f0f921"
            ]
           ],
           "sequentialminus": [
            [
             0.0,
             "#0d0887"
            ],
            [
             0.1111111111111111,
             "#46039f"
            ],
            [
             0.2222222222222222,
             "#7201a8"
            ],
            [
             0.3333333333333333,
             "#9c179e"
            ],
            [
             0.4444444444444444,
             "#bd3786"
            ],
            [
             0.5555555555555556,
             "#d8576b"
            ],
            [
             0.6666666666666666,
             "#ed7953"
            ],
            [
             0.7777777777777778,
             "#fb9f3a"
            ],
            [
             0.8888888888888888,
             "#fdca26"
            ],
            [
             1.0,
             "#f0f921"
            ]
           ]
          },
          "colorway": [
           "#636efa",
           "#EF553B",
           "#00cc96",
           "#ab63fa",
           "#FFA15A",
           "#19d3f3",
           "#FF6692",
           "#B6E880",
           "#FF97FF",
           "#FECB52"
          ],
          "font": {
           "color": "#2a3f5f"
          },
          "geo": {
           "bgcolor": "white",
           "lakecolor": "white",
           "landcolor": "#E5ECF6",
           "showlakes": true,
           "showland": true,
           "subunitcolor": "white"
          },
          "hoverlabel": {
           "align": "left"
          },
          "hovermode": "closest",
          "mapbox": {
           "style": "light"
          },
          "paper_bgcolor": "white",
          "plot_bgcolor": "#E5ECF6",
          "polar": {
           "angularaxis": {
            "gridcolor": "white",
            "linecolor": "white",
            "ticks": ""
           },
           "bgcolor": "#E5ECF6",
           "radialaxis": {
            "gridcolor": "white",
            "linecolor": "white",
            "ticks": ""
           }
          },
          "scene": {
           "xaxis": {
            "backgroundcolor": "#E5ECF6",
            "gridcolor": "white",
            "gridwidth": 2,
            "linecolor": "white",
            "showbackground": true,
            "ticks": "",
            "zerolinecolor": "white"
           },
           "yaxis": {
            "backgroundcolor": "#E5ECF6",
            "gridcolor": "white",
            "gridwidth": 2,
            "linecolor": "white",
            "showbackground": true,
            "ticks": "",
            "zerolinecolor": "white"
           },
           "zaxis": {
            "backgroundcolor": "#E5ECF6",
            "gridcolor": "white",
            "gridwidth": 2,
            "linecolor": "white",
            "showbackground": true,
            "ticks": "",
            "zerolinecolor": "white"
           }
          },
          "shapedefaults": {
           "line": {
            "color": "#2a3f5f"
           }
          },
          "ternary": {
           "aaxis": {
            "gridcolor": "white",
            "linecolor": "white",
            "ticks": ""
           },
           "baxis": {
            "gridcolor": "white",
            "linecolor": "white",
            "ticks": ""
           },
           "bgcolor": "#E5ECF6",
           "caxis": {
            "gridcolor": "white",
            "linecolor": "white",
            "ticks": ""
           }
          },
          "title": {
           "x": 0.05
          },
          "xaxis": {
           "automargin": true,
           "gridcolor": "white",
           "linecolor": "white",
           "ticks": "",
           "title": {
            "standoff": 15
           },
           "zerolinecolor": "white",
           "zerolinewidth": 2
          },
          "yaxis": {
           "automargin": true,
           "gridcolor": "white",
           "linecolor": "white",
           "ticks": "",
           "title": {
            "standoff": 15
           },
           "zerolinecolor": "white",
           "zerolinewidth": 2
          }
         }
        },
        "xaxis": {
         "anchor": "y",
         "domain": [
          0.0,
          1.0
         ],
         "title": {
          "text": "race_black_africa_rate"
         }
        },
        "yaxis": {
         "anchor": "x",
         "domain": [
          0.0,
          1.0
         ],
         "title": {
          "text": "solar_systems_per_thousand_households"
         }
        },
        "legend": {
         "tracegroupgap": 0
        },
        "margin": {
         "t": 60
        }
       },
       "config": {
        "plotlyServerURL": "https://plot.ly"
       }
      },
      "text/html": "<div>                            <div id=\"feb4796c-094c-49b1-933d-6f5b180436aa\" class=\"plotly-graph-div\" style=\"height:525px; width:100%;\"></div>            <script type=\"text/javascript\">                require([\"plotly\"], function(Plotly) {                    window.PLOTLYENV=window.PLOTLYENV || {};                                    if (document.getElementById(\"feb4796c-094c-49b1-933d-6f5b180436aa\")) {                    Plotly.newPlot(                        \"feb4796c-094c-49b1-933d-6f5b180436aa\",                        [{\"hovertemplate\":\"race_black_africa_rate=%{x}<br>solar_systems_per_thousand_households=%{y}<extra></extra>\",\"legendgroup\":\"\",\"marker\":{\"color\":\"CadetBlue\",\"symbol\":\"circle\"},\"mode\":\"markers\",\"name\":\"\",\"orientation\":\"v\",\"showlegend\":false,\"x\":[0.0,0.0009805526135355,0.001835078260755,0.00247524752475,0.003186969238145,0.003951701427,0.00454647516958,0.00541573749602,0.0060513528779,0.00675370491712,0.00755939524838,0.008522611400905,0.00935117249317,0.01021471949055,0.0111929307806,0.012030426221550001,0.012880951497849999,0.0138315942732,0.015090038635750001,0.0163648558015,0.01742242307305,0.018526010192650003,0.0196894065446,0.0209672674512,0.0224380442063,0.023654593439849998,0.0248756218905,0.026573169386200003,0.0279139874018,0.0296528447445,0.03112895164315,0.0330336200156,0.03516660240865,0.0372054568003,0.039431919408050006,0.04156010778715,0.0437859354268,0.0463086628158,0.0492672279389,0.05190689632005,0.05517309191325,0.0589680589681,0.0625662595642,0.0664985095162,0.07098437008969995,0.0763843648208,0.08131487170255,0.08666417120944994,0.0945566403638,0.1030841128385,0.112724493695,0.12212260897300001,0.1333470310249999,0.148955797687,0.1663712986385,0.187784275504,0.21663975645400002,0.253646677472,0.3247054492515,0.5112079437320001],\"xaxis\":\"x\",\"y\":[29.60087822473144,27.55162476574379,25.096554450627984,37.754595131644315,35.837628237162825,39.13551401869159,34.242500997820144,38.0997177798683,39.74248927038627,41.45329672130074,36.269430051813465,32.77791476661372,47.84406379208506,35.36380145584657,36.02401601067378,40.913176181054865,35.93786814433439,35.06907545164718,37.29994141224391,43.580683156654885,35.68344731865462,39.86199871297074,53.191489361702125,33.76055260512574,39.7295012679628,38.55736336437077,34.89771359807461,34.82395885427391,37.556372171047926,29.77667493796526,41.93488165080215,29.692082111436953,45.00729961756352,36.39728562615669,32.325977572686796,30.463343166223407,35.99476439790576,33.881423458707545,38.61788617886179,29.18180000129023,29.102925965694247,30.44871794871795,38.08111393250712,30.753968253968253,33.521417435032646,29.346622369878183,29.67318556829786,33.68912080961417,38.80718954248366,32.73480910959703,30.752916224814424,30.05998039937311,31.82374541003672,31.420636520414796,27.862301915268247,21.863117870722434,22.118673004459126,16.97216564833673,18.253070735850628,20.623610390155935],\"yaxis\":\"y\",\"type\":\"scatter\"},{\"hovertemplate\":\"<b>OLS trendline</b><br>solar_systems_per_thousand_households = -49.1767 * race_black_africa_rate + 37.0349<br>R<sup>2</sup>=0.425023<br><br>race_black_africa_rate=%{x}<br>solar_systems_per_thousand_households=%{y} <b>(trend)</b><extra></extra>\",\"legendgroup\":\"\",\"line\":{\"color\":\"CadetBlue\"},\"marker\":{\"color\":\"CadetBlue\",\"symbol\":\"circle\"},\"mode\":\"lines\",\"name\":\"\",\"showlegend\":false,\"x\":[0.0,0.0009805526135355,0.001835078260755,0.00247524752475,0.003186969238145,0.003951701427,0.00454647516958,0.00541573749602,0.0060513528779,0.00675370491712,0.00755939524838,0.008522611400905,0.00935117249317,0.01021471949055,0.0111929307806,0.012030426221550001,0.012880951497849999,0.0138315942732,0.015090038635750001,0.0163648558015,0.01742242307305,0.018526010192650003,0.0196894065446,0.0209672674512,0.0224380442063,0.023654593439849998,0.0248756218905,0.026573169386200003,0.0279139874018,0.0296528447445,0.03112895164315,0.0330336200156,0.03516660240865,0.0372054568003,0.039431919408050006,0.04156010778715,0.0437859354268,0.0463086628158,0.0492672279389,0.05190689632005,0.05517309191325,0.0589680589681,0.0625662595642,0.0664985095162,0.07098437008969995,0.0763843648208,0.08131487170255,0.08666417120944994,0.0945566403638,0.1030841128385,0.112724493695,0.12212260897300001,0.1333470310249999,0.148955797687,0.1663712986385,0.187784275504,0.21663975645400002,0.253646677472,0.3247054492515,0.5112079437320001],\"xaxis\":\"x\",\"y\":[37.034901578008515,36.98668123665872,36.944658485577044,36.91317707396754,36.87817694904591,36.840569943895204,36.81132093420699,36.76857348187771,36.737316015161134,36.702776659892066,36.6631554684748,36.6157876770608,36.57504177709922,36.53257538579043,36.48447018300242,36.44328492125915,36.40145889521661,36.35470942099531,36.29282328057385,36.230131979727275,36.17812431167299,36.123853539374004,36.06664154642049,36.003800564444376,35.93147261773221,35.87164674148565,35.81160059212517,35.728120808817046,35.662183804001906,35.576672538756,35.50408247317547,35.410417168723775,35.30552413425912,35.205260004246334,35.09576992134179,34.99111264066119,34.881653783392174,34.75759437632838,34.61210190792619,34.4822917288167,34.32167100918856,34.13504705421658,33.95809942428431,33.76472434951449,33.54412453149774,33.27857061258879,33.03610455662848,32.773043661532824,32.38491807656976,31.96556512405614,31.491483010332132,31.02931471819334,30.477334686392563,29.70974705661998,28.853310197376736,27.800290665822143,26.381273346389662,24.561395107159978,21.066959231097744,11.895382079298802],\"yaxis\":\"y\",\"type\":\"scatter\"}],                        {\"template\":{\"data\":{\"bar\":[{\"error_x\":{\"color\":\"#2a3f5f\"},\"error_y\":{\"color\":\"#2a3f5f\"},\"marker\":{\"line\":{\"color\":\"#E5ECF6\",\"width\":0.5},\"pattern\":{\"fillmode\":\"overlay\",\"size\":10,\"solidity\":0.2}},\"type\":\"bar\"}],\"barpolar\":[{\"marker\":{\"line\":{\"color\":\"#E5ECF6\",\"width\":0.5},\"pattern\":{\"fillmode\":\"overlay\",\"size\":10,\"solidity\":0.2}},\"type\":\"barpolar\"}],\"carpet\":[{\"aaxis\":{\"endlinecolor\":\"#2a3f5f\",\"gridcolor\":\"white\",\"linecolor\":\"white\",\"minorgridcolor\":\"white\",\"startlinecolor\":\"#2a3f5f\"},\"baxis\":{\"endlinecolor\":\"#2a3f5f\",\"gridcolor\":\"white\",\"linecolor\":\"white\",\"minorgridcolor\":\"white\",\"startlinecolor\":\"#2a3f5f\"},\"type\":\"carpet\"}],\"choropleth\":[{\"colorbar\":{\"outlinewidth\":0,\"ticks\":\"\"},\"type\":\"choropleth\"}],\"contour\":[{\"colorbar\":{\"outlinewidth\":0,\"ticks\":\"\"},\"colorscale\":[[0.0,\"#0d0887\"],[0.1111111111111111,\"#46039f\"],[0.2222222222222222,\"#7201a8\"],[0.3333333333333333,\"#9c179e\"],[0.4444444444444444,\"#bd3786\"],[0.5555555555555556,\"#d8576b\"],[0.6666666666666666,\"#ed7953\"],[0.7777777777777778,\"#fb9f3a\"],[0.8888888888888888,\"#fdca26\"],[1.0,\"#f0f921\"]],\"type\":\"contour\"}],\"contourcarpet\":[{\"colorbar\":{\"outlinewidth\":0,\"ticks\":\"\"},\"type\":\"contourcarpet\"}],\"heatmap\":[{\"colorbar\":{\"outlinewidth\":0,\"ticks\":\"\"},\"colorscale\":[[0.0,\"#0d0887\"],[0.1111111111111111,\"#46039f\"],[0.2222222222222222,\"#7201a8\"],[0.3333333333333333,\"#9c179e\"],[0.4444444444444444,\"#bd3786\"],[0.5555555555555556,\"#d8576b\"],[0.6666666666666666,\"#ed7953\"],[0.7777777777777778,\"#fb9f3a\"],[0.8888888888888888,\"#fdca26\"],[1.0,\"#f0f921\"]],\"type\":\"heatmap\"}],\"heatmapgl\":[{\"colorbar\":{\"outlinewidth\":0,\"ticks\":\"\"},\"colorscale\":[[0.0,\"#0d0887\"],[0.1111111111111111,\"#46039f\"],[0.2222222222222222,\"#7201a8\"],[0.3333333333333333,\"#9c179e\"],[0.4444444444444444,\"#bd3786\"],[0.5555555555555556,\"#d8576b\"],[0.6666666666666666,\"#ed7953\"],[0.7777777777777778,\"#fb9f3a\"],[0.8888888888888888,\"#fdca26\"],[1.0,\"#f0f921\"]],\"type\":\"heatmapgl\"}],\"histogram\":[{\"marker\":{\"pattern\":{\"fillmode\":\"overlay\",\"size\":10,\"solidity\":0.2}},\"type\":\"histogram\"}],\"histogram2d\":[{\"colorbar\":{\"outlinewidth\":0,\"ticks\":\"\"},\"colorscale\":[[0.0,\"#0d0887\"],[0.1111111111111111,\"#46039f\"],[0.2222222222222222,\"#7201a8\"],[0.3333333333333333,\"#9c179e\"],[0.4444444444444444,\"#bd3786\"],[0.5555555555555556,\"#d8576b\"],[0.6666666666666666,\"#ed7953\"],[0.7777777777777778,\"#fb9f3a\"],[0.8888888888888888,\"#fdca26\"],[1.0,\"#f0f921\"]],\"type\":\"histogram2d\"}],\"histogram2dcontour\":[{\"colorbar\":{\"outlinewidth\":0,\"ticks\":\"\"},\"colorscale\":[[0.0,\"#0d0887\"],[0.1111111111111111,\"#46039f\"],[0.2222222222222222,\"#7201a8\"],[0.3333333333333333,\"#9c179e\"],[0.4444444444444444,\"#bd3786\"],[0.5555555555555556,\"#d8576b\"],[0.6666666666666666,\"#ed7953\"],[0.7777777777777778,\"#fb9f3a\"],[0.8888888888888888,\"#fdca26\"],[1.0,\"#f0f921\"]],\"type\":\"histogram2dcontour\"}],\"mesh3d\":[{\"colorbar\":{\"outlinewidth\":0,\"ticks\":\"\"},\"type\":\"mesh3d\"}],\"parcoords\":[{\"line\":{\"colorbar\":{\"outlinewidth\":0,\"ticks\":\"\"}},\"type\":\"parcoords\"}],\"pie\":[{\"automargin\":true,\"type\":\"pie\"}],\"scatter\":[{\"marker\":{\"colorbar\":{\"outlinewidth\":0,\"ticks\":\"\"}},\"type\":\"scatter\"}],\"scatter3d\":[{\"line\":{\"colorbar\":{\"outlinewidth\":0,\"ticks\":\"\"}},\"marker\":{\"colorbar\":{\"outlinewidth\":0,\"ticks\":\"\"}},\"type\":\"scatter3d\"}],\"scattercarpet\":[{\"marker\":{\"colorbar\":{\"outlinewidth\":0,\"ticks\":\"\"}},\"type\":\"scattercarpet\"}],\"scattergeo\":[{\"marker\":{\"colorbar\":{\"outlinewidth\":0,\"ticks\":\"\"}},\"type\":\"scattergeo\"}],\"scattergl\":[{\"marker\":{\"colorbar\":{\"outlinewidth\":0,\"ticks\":\"\"}},\"type\":\"scattergl\"}],\"scattermapbox\":[{\"marker\":{\"colorbar\":{\"outlinewidth\":0,\"ticks\":\"\"}},\"type\":\"scattermapbox\"}],\"scatterpolar\":[{\"marker\":{\"colorbar\":{\"outlinewidth\":0,\"ticks\":\"\"}},\"type\":\"scatterpolar\"}],\"scatterpolargl\":[{\"marker\":{\"colorbar\":{\"outlinewidth\":0,\"ticks\":\"\"}},\"type\":\"scatterpolargl\"}],\"scatterternary\":[{\"marker\":{\"colorbar\":{\"outlinewidth\":0,\"ticks\":\"\"}},\"type\":\"scatterternary\"}],\"surface\":[{\"colorbar\":{\"outlinewidth\":0,\"ticks\":\"\"},\"colorscale\":[[0.0,\"#0d0887\"],[0.1111111111111111,\"#46039f\"],[0.2222222222222222,\"#7201a8\"],[0.3333333333333333,\"#9c179e\"],[0.4444444444444444,\"#bd3786\"],[0.5555555555555556,\"#d8576b\"],[0.6666666666666666,\"#ed7953\"],[0.7777777777777778,\"#fb9f3a\"],[0.8888888888888888,\"#fdca26\"],[1.0,\"#f0f921\"]],\"type\":\"surface\"}],\"table\":[{\"cells\":{\"fill\":{\"color\":\"#EBF0F8\"},\"line\":{\"color\":\"white\"}},\"header\":{\"fill\":{\"color\":\"#C8D4E3\"},\"line\":{\"color\":\"white\"}},\"type\":\"table\"}]},\"layout\":{\"annotationdefaults\":{\"arrowcolor\":\"#2a3f5f\",\"arrowhead\":0,\"arrowwidth\":1},\"autotypenumbers\":\"strict\",\"coloraxis\":{\"colorbar\":{\"outlinewidth\":0,\"ticks\":\"\"}},\"colorscale\":{\"diverging\":[[0,\"#8e0152\"],[0.1,\"#c51b7d\"],[0.2,\"#de77ae\"],[0.3,\"#f1b6da\"],[0.4,\"#fde0ef\"],[0.5,\"#f7f7f7\"],[0.6,\"#e6f5d0\"],[0.7,\"#b8e186\"],[0.8,\"#7fbc41\"],[0.9,\"#4d9221\"],[1,\"#276419\"]],\"sequential\":[[0.0,\"#0d0887\"],[0.1111111111111111,\"#46039f\"],[0.2222222222222222,\"#7201a8\"],[0.3333333333333333,\"#9c179e\"],[0.4444444444444444,\"#bd3786\"],[0.5555555555555556,\"#d8576b\"],[0.6666666666666666,\"#ed7953\"],[0.7777777777777778,\"#fb9f3a\"],[0.8888888888888888,\"#fdca26\"],[1.0,\"#f0f921\"]],\"sequentialminus\":[[0.0,\"#0d0887\"],[0.1111111111111111,\"#46039f\"],[0.2222222222222222,\"#7201a8\"],[0.3333333333333333,\"#9c179e\"],[0.4444444444444444,\"#bd3786\"],[0.5555555555555556,\"#d8576b\"],[0.6666666666666666,\"#ed7953\"],[0.7777777777777778,\"#fb9f3a\"],[0.8888888888888888,\"#fdca26\"],[1.0,\"#f0f921\"]]},\"colorway\":[\"#636efa\",\"#EF553B\",\"#00cc96\",\"#ab63fa\",\"#FFA15A\",\"#19d3f3\",\"#FF6692\",\"#B6E880\",\"#FF97FF\",\"#FECB52\"],\"font\":{\"color\":\"#2a3f5f\"},\"geo\":{\"bgcolor\":\"white\",\"lakecolor\":\"white\",\"landcolor\":\"#E5ECF6\",\"showlakes\":true,\"showland\":true,\"subunitcolor\":\"white\"},\"hoverlabel\":{\"align\":\"left\"},\"hovermode\":\"closest\",\"mapbox\":{\"style\":\"light\"},\"paper_bgcolor\":\"white\",\"plot_bgcolor\":\"#E5ECF6\",\"polar\":{\"angularaxis\":{\"gridcolor\":\"white\",\"linecolor\":\"white\",\"ticks\":\"\"},\"bgcolor\":\"#E5ECF6\",\"radialaxis\":{\"gridcolor\":\"white\",\"linecolor\":\"white\",\"ticks\":\"\"}},\"scene\":{\"xaxis\":{\"backgroundcolor\":\"#E5ECF6\",\"gridcolor\":\"white\",\"gridwidth\":2,\"linecolor\":\"white\",\"showbackground\":true,\"ticks\":\"\",\"zerolinecolor\":\"white\"},\"yaxis\":{\"backgroundcolor\":\"#E5ECF6\",\"gridcolor\":\"white\",\"gridwidth\":2,\"linecolor\":\"white\",\"showbackground\":true,\"ticks\":\"\",\"zerolinecolor\":\"white\"},\"zaxis\":{\"backgroundcolor\":\"#E5ECF6\",\"gridcolor\":\"white\",\"gridwidth\":2,\"linecolor\":\"white\",\"showbackground\":true,\"ticks\":\"\",\"zerolinecolor\":\"white\"}},\"shapedefaults\":{\"line\":{\"color\":\"#2a3f5f\"}},\"ternary\":{\"aaxis\":{\"gridcolor\":\"white\",\"linecolor\":\"white\",\"ticks\":\"\"},\"baxis\":{\"gridcolor\":\"white\",\"linecolor\":\"white\",\"ticks\":\"\"},\"bgcolor\":\"#E5ECF6\",\"caxis\":{\"gridcolor\":\"white\",\"linecolor\":\"white\",\"ticks\":\"\"}},\"title\":{\"x\":0.05},\"xaxis\":{\"automargin\":true,\"gridcolor\":\"white\",\"linecolor\":\"white\",\"ticks\":\"\",\"title\":{\"standoff\":15},\"zerolinecolor\":\"white\",\"zerolinewidth\":2},\"yaxis\":{\"automargin\":true,\"gridcolor\":\"white\",\"linecolor\":\"white\",\"ticks\":\"\",\"title\":{\"standoff\":15},\"zerolinecolor\":\"white\",\"zerolinewidth\":2}}},\"xaxis\":{\"anchor\":\"y\",\"domain\":[0.0,1.0],\"title\":{\"text\":\"race_black_africa_rate\"}},\"yaxis\":{\"anchor\":\"x\",\"domain\":[0.0,1.0],\"title\":{\"text\":\"solar_systems_per_thousand_households\"}},\"legend\":{\"tracegroupgap\":0},\"margin\":{\"t\":60}},                        {\"responsive\": true}                    ).then(function(){\n                            \nvar gd = document.getElementById('feb4796c-094c-49b1-933d-6f5b180436aa');\nvar x = new MutationObserver(function (mutations, observer) {{\n        var display = window.getComputedStyle(gd).display;\n        if (!display || display === 'none') {{\n            console.log([gd, 'removed!']);\n            Plotly.purge(gd);\n            observer.disconnect();\n        }}\n}});\n\n// Listen for the removal of the full notebook cells\nvar notebookContainer = gd.closest('#notebook-container');\nif (notebookContainer) {{\n    x.observe(notebookContainer, {childList: true});\n}}\n\n// Listen for the clearing of the current output cell\nvar outputEl = gd.closest('.output');\nif (outputEl) {{\n    x.observe(outputEl, {childList: true});\n}}\n\n                        })                };                });            </script>        </div>"
     },
     "metadata": {},
     "output_type": "display_data"
    },
    {
     "name": "stdout",
     "output_type": "stream",
     "text": [
      "results:  <statsmodels.regression.linear_model.RegressionResultsWrapper object at 0x7fabcee2d2e0>\n",
      "alpha:  37.034901578008515\n",
      "beta:  -49.17669963260404\n",
      "p_beta:  1.6776892924270114e-08\n",
      "r_squared:  0.42502257979014446\n"
     ]
    }
   ]
  },
  {
   "cell_type": "code",
   "source": [
    "hi3 = median_dataframe(\"asian_binned\", 'race_asian_rate')\n",
    "plot_scatter(hi3, 'race_asian_rate', 'solar_systems_per_thousand_households', 'CornflowerBlue', 'race_asian')"
   ],
   "metadata": {
    "execution": {
     "iopub.status.busy": "2022-01-30T17:06:36.561648Z",
     "iopub.execute_input": "2022-01-30T17:06:36.562132Z",
     "iopub.status.idle": "2022-01-30T17:06:36.688787Z",
     "shell.execute_reply.started": "2022-01-30T17:06:36.562096Z",
     "shell.execute_reply": "2022-01-30T17:06:36.687786Z"
    },
    "trusted": true
   },
   "execution_count": 34,
   "outputs": [
    {
     "data": {
      "application/vnd.plotly.v1+json": {
       "data": [
        {
         "hovertemplate": "race_asian_rate=%{x}<br>solar_systems_per_thousand_households=%{y}<extra></extra>",
         "legendgroup": "",
         "marker": {
          "color": "CornflowerBlue",
          "symbol": "circle"
         },
         "mode": "markers",
         "name": "",
         "orientation": "v",
         "showlegend": false,
         "x": [
          0.0,
          0.00130890052356,
          0.00320207331098,
          0.0052653748946899,
          0.0068283942679049,
          0.008785813633265,
          0.0105767311914,
          0.0124287967045,
          0.0144105835105,
          0.0168163837512,
          0.019054100034,
          0.020935870652199998,
          0.02343984797635,
          0.0255190311419,
          0.0277223232717,
          0.0299029126214,
          0.03221535952545,
          0.0353552859619,
          0.03880882071115,
          0.04107238371385,
          0.0438136377661,
          0.046888548341700004,
          0.0500395882819,
          0.0537024993655,
          0.0570102933679,
          0.0604339890489,
          0.0635021862766,
          0.067116415845,
          0.0703050494612,
          0.0743616544722,
          0.07750157775949995,
          0.08194142823139995,
          0.085617798967,
          0.08946903639734999,
          0.093896713615,
          0.09829432464425,
          0.102501660394,
          0.10742470101599999,
          0.1126700907985,
          0.11828530772,
          0.12410953381,
          0.130484547882,
          0.13684923691349998,
          0.14383740750399998,
          0.151783517835,
          0.15977996575,
          0.168641216908,
          0.17841843675699998,
          0.187984496124,
          0.1991519729655,
          0.2122111480405,
          0.22610619469,
          0.244579751535,
          0.265037910699,
          0.2880610983705,
          0.309722596283,
          0.337458701329,
          0.37221161028150007,
          0.41568627451,
          0.45683479479800004,
          0.521750288721,
          0.5988247322295,
          0.705392421407
         ],
         "xaxis": "x",
         "y": [
          12.561709609792386,
          12.41830065359477,
          22.611398926680327,
          14.37125748502994,
          21.065214818321692,
          22.63261405678589,
          20.57926829268293,
          25.967228438634983,
          22.764227642276424,
          24.678181314157058,
          27.720739219712527,
          34.093345373128024,
          35.59579210824762,
          33.244680851063826,
          26.106319690247105,
          30.93812375249501,
          32.1745027603819,
          33.29065300896287,
          44.314301822489405,
          51.59422877509117,
          33.064516129032256,
          32.288359177326896,
          40.905134899912966,
          38.807776249365034,
          34.36925647451963,
          36.34161114476075,
          43.01847499706867,
          58.76235049401976,
          38.16306338236163,
          37.54940711462451,
          34.051796157059314,
          43.53903139484744,
          42.5,
          39.82811419869558,
          40.48582995951417,
          39.49076370592377,
          40.17857142857143,
          47.75751726940268,
          36.56776879456089,
          38.69969040247678,
          36.46450681603318,
          43.08617234468938,
          46.79044983270684,
          43.34323876694013,
          37.94037940379403,
          34.928359015950264,
          32.368808239333006,
          44.74962299965991,
          36.73880221439356,
          39.30631668030911,
          37.43266726867991,
          33.94123606889565,
          37.63274838856234,
          38.83495145631068,
          37.77687960800992,
          33.97341211225997,
          29.89534048488298,
          24.19202852728864,
          27.6981852913085,
          31.666857570224437,
          30.511388053287497,
          28.748133829184617,
          38.30904945980771
         ],
         "yaxis": "y",
         "type": "scatter"
        },
        {
         "hovertemplate": "<b>OLS trendline</b><br>solar_systems_per_thousand_households = 5.04654 * race_asian_rate + 33.789<br>R<sup>2</sup>=0.007517<br><br>race_asian_rate=%{x}<br>solar_systems_per_thousand_households=%{y} <b>(trend)</b><extra></extra>",
         "legendgroup": "",
         "line": {
          "color": "CornflowerBlue"
         },
         "marker": {
          "color": "CornflowerBlue",
          "symbol": "circle"
         },
         "mode": "lines",
         "name": "",
         "showlegend": false,
         "x": [
          0.0,
          0.00130890052356,
          0.00320207331098,
          0.0052653748946899,
          0.0068283942679049,
          0.008785813633265,
          0.0105767311914,
          0.0124287967045,
          0.0144105835105,
          0.0168163837512,
          0.019054100034,
          0.020935870652199998,
          0.02343984797635,
          0.0255190311419,
          0.0277223232717,
          0.0299029126214,
          0.03221535952545,
          0.0353552859619,
          0.03880882071115,
          0.04107238371385,
          0.0438136377661,
          0.046888548341700004,
          0.0500395882819,
          0.0537024993655,
          0.0570102933679,
          0.0604339890489,
          0.0635021862766,
          0.067116415845,
          0.0703050494612,
          0.0743616544722,
          0.07750157775949995,
          0.08194142823139995,
          0.085617798967,
          0.08946903639734999,
          0.093896713615,
          0.09829432464425,
          0.102501660394,
          0.10742470101599999,
          0.1126700907985,
          0.11828530772,
          0.12410953381,
          0.130484547882,
          0.13684923691349998,
          0.14383740750399998,
          0.151783517835,
          0.15977996575,
          0.168641216908,
          0.17841843675699998,
          0.187984496124,
          0.1991519729655,
          0.2122111480405,
          0.22610619469,
          0.244579751535,
          0.265037910699,
          0.2880610983705,
          0.309722596283,
          0.337458701329,
          0.37221161028150007,
          0.41568627451,
          0.45683479479800004,
          0.521750288721,
          0.5988247322295,
          0.705392421407
         ],
         "xaxis": "x",
         "y": [
          33.78904879106044,
          33.79565420710126,
          33.805208175239386,
          33.815620704788245,
          33.82350854122357,
          33.833386732149336,
          33.842424665401985,
          33.85177118412413,
          33.861772346261525,
          33.873913308248234,
          33.88520602817855,
          33.89470245483808,
          33.907338871192934,
          33.917831547745756,
          33.92895054488483,
          33.939954971584704,
          33.95162482242411,
          33.96747058004816,
          33.98489897389445,
          33.99632213027518,
          34.010155972620545,
          34.02567362524163,
          34.04157546758306,
          34.06006048702663,
          34.076753394676906,
          34.09403120453572,
          34.10951497799249,
          34.12775432432676,
          34.14384588457723,
          34.16431769532879,
          34.180163437060536,
          34.20256931053835,
          34.221122254625264,
          34.24055767010684,
          34.26290211079626,
          34.28509482132777,
          34.30632730045836,
          34.33117161131991,
          34.35764266942252,
          34.38598007418196,
          34.415372251622316,
          34.44754400146402,
          34.47966364559798,
          34.514929713021445,
          34.555030059608335,
          34.595384436718426,
          34.640103076131595,
          34.68944418621807,
          34.73771966693861,
          34.79407676156617,
          34.85998038293968,
          34.930102261855986,
          35.023329765794244,
          35.126572640462825,
          35.24276002859414,
          35.352075597809645,
          35.492046901879746,
          35.66742877248644,
          35.88682531125714,
          36.0944828765755,
          36.42208137404613,
          36.811040470879306,
          37.34883834845345
         ],
         "yaxis": "y",
         "type": "scatter"
        }
       ],
       "layout": {
        "template": {
         "data": {
          "bar": [
           {
            "error_x": {
             "color": "#2a3f5f"
            },
            "error_y": {
             "color": "#2a3f5f"
            },
            "marker": {
             "line": {
              "color": "#E5ECF6",
              "width": 0.5
             },
             "pattern": {
              "fillmode": "overlay",
              "size": 10,
              "solidity": 0.2
             }
            },
            "type": "bar"
           }
          ],
          "barpolar": [
           {
            "marker": {
             "line": {
              "color": "#E5ECF6",
              "width": 0.5
             },
             "pattern": {
              "fillmode": "overlay",
              "size": 10,
              "solidity": 0.2
             }
            },
            "type": "barpolar"
           }
          ],
          "carpet": [
           {
            "aaxis": {
             "endlinecolor": "#2a3f5f",
             "gridcolor": "white",
             "linecolor": "white",
             "minorgridcolor": "white",
             "startlinecolor": "#2a3f5f"
            },
            "baxis": {
             "endlinecolor": "#2a3f5f",
             "gridcolor": "white",
             "linecolor": "white",
             "minorgridcolor": "white",
             "startlinecolor": "#2a3f5f"
            },
            "type": "carpet"
           }
          ],
          "choropleth": [
           {
            "colorbar": {
             "outlinewidth": 0,
             "ticks": ""
            },
            "type": "choropleth"
           }
          ],
          "contour": [
           {
            "colorbar": {
             "outlinewidth": 0,
             "ticks": ""
            },
            "colorscale": [
             [
              0.0,
              "#0d0887"
             ],
             [
              0.1111111111111111,
              "#46039f"
             ],
             [
              0.2222222222222222,
              "#7201a8"
             ],
             [
              0.3333333333333333,
              "#9c179e"
             ],
             [
              0.4444444444444444,
              "#bd3786"
             ],
             [
              0.5555555555555556,
              "#d8576b"
             ],
             [
              0.6666666666666666,
              "#ed7953"
             ],
             [
              0.7777777777777778,
              "#fb9f3a"
             ],
             [
              0.8888888888888888,
              "#fdca26"
             ],
             [
              1.0,
              "#f0f921"
             ]
            ],
            "type": "contour"
           }
          ],
          "contourcarpet": [
           {
            "colorbar": {
             "outlinewidth": 0,
             "ticks": ""
            },
            "type": "contourcarpet"
           }
          ],
          "heatmap": [
           {
            "colorbar": {
             "outlinewidth": 0,
             "ticks": ""
            },
            "colorscale": [
             [
              0.0,
              "#0d0887"
             ],
             [
              0.1111111111111111,
              "#46039f"
             ],
             [
              0.2222222222222222,
              "#7201a8"
             ],
             [
              0.3333333333333333,
              "#9c179e"
             ],
             [
              0.4444444444444444,
              "#bd3786"
             ],
             [
              0.5555555555555556,
              "#d8576b"
             ],
             [
              0.6666666666666666,
              "#ed7953"
             ],
             [
              0.7777777777777778,
              "#fb9f3a"
             ],
             [
              0.8888888888888888,
              "#fdca26"
             ],
             [
              1.0,
              "#f0f921"
             ]
            ],
            "type": "heatmap"
           }
          ],
          "heatmapgl": [
           {
            "colorbar": {
             "outlinewidth": 0,
             "ticks": ""
            },
            "colorscale": [
             [
              0.0,
              "#0d0887"
             ],
             [
              0.1111111111111111,
              "#46039f"
             ],
             [
              0.2222222222222222,
              "#7201a8"
             ],
             [
              0.3333333333333333,
              "#9c179e"
             ],
             [
              0.4444444444444444,
              "#bd3786"
             ],
             [
              0.5555555555555556,
              "#d8576b"
             ],
             [
              0.6666666666666666,
              "#ed7953"
             ],
             [
              0.7777777777777778,
              "#fb9f3a"
             ],
             [
              0.8888888888888888,
              "#fdca26"
             ],
             [
              1.0,
              "#f0f921"
             ]
            ],
            "type": "heatmapgl"
           }
          ],
          "histogram": [
           {
            "marker": {
             "pattern": {
              "fillmode": "overlay",
              "size": 10,
              "solidity": 0.2
             }
            },
            "type": "histogram"
           }
          ],
          "histogram2d": [
           {
            "colorbar": {
             "outlinewidth": 0,
             "ticks": ""
            },
            "colorscale": [
             [
              0.0,
              "#0d0887"
             ],
             [
              0.1111111111111111,
              "#46039f"
             ],
             [
              0.2222222222222222,
              "#7201a8"
             ],
             [
              0.3333333333333333,
              "#9c179e"
             ],
             [
              0.4444444444444444,
              "#bd3786"
             ],
             [
              0.5555555555555556,
              "#d8576b"
             ],
             [
              0.6666666666666666,
              "#ed7953"
             ],
             [
              0.7777777777777778,
              "#fb9f3a"
             ],
             [
              0.8888888888888888,
              "#fdca26"
             ],
             [
              1.0,
              "#f0f921"
             ]
            ],
            "type": "histogram2d"
           }
          ],
          "histogram2dcontour": [
           {
            "colorbar": {
             "outlinewidth": 0,
             "ticks": ""
            },
            "colorscale": [
             [
              0.0,
              "#0d0887"
             ],
             [
              0.1111111111111111,
              "#46039f"
             ],
             [
              0.2222222222222222,
              "#7201a8"
             ],
             [
              0.3333333333333333,
              "#9c179e"
             ],
             [
              0.4444444444444444,
              "#bd3786"
             ],
             [
              0.5555555555555556,
              "#d8576b"
             ],
             [
              0.6666666666666666,
              "#ed7953"
             ],
             [
              0.7777777777777778,
              "#fb9f3a"
             ],
             [
              0.8888888888888888,
              "#fdca26"
             ],
             [
              1.0,
              "#f0f921"
             ]
            ],
            "type": "histogram2dcontour"
           }
          ],
          "mesh3d": [
           {
            "colorbar": {
             "outlinewidth": 0,
             "ticks": ""
            },
            "type": "mesh3d"
           }
          ],
          "parcoords": [
           {
            "line": {
             "colorbar": {
              "outlinewidth": 0,
              "ticks": ""
             }
            },
            "type": "parcoords"
           }
          ],
          "pie": [
           {
            "automargin": true,
            "type": "pie"
           }
          ],
          "scatter": [
           {
            "marker": {
             "colorbar": {
              "outlinewidth": 0,
              "ticks": ""
             }
            },
            "type": "scatter"
           }
          ],
          "scatter3d": [
           {
            "line": {
             "colorbar": {
              "outlinewidth": 0,
              "ticks": ""
             }
            },
            "marker": {
             "colorbar": {
              "outlinewidth": 0,
              "ticks": ""
             }
            },
            "type": "scatter3d"
           }
          ],
          "scattercarpet": [
           {
            "marker": {
             "colorbar": {
              "outlinewidth": 0,
              "ticks": ""
             }
            },
            "type": "scattercarpet"
           }
          ],
          "scattergeo": [
           {
            "marker": {
             "colorbar": {
              "outlinewidth": 0,
              "ticks": ""
             }
            },
            "type": "scattergeo"
           }
          ],
          "scattergl": [
           {
            "marker": {
             "colorbar": {
              "outlinewidth": 0,
              "ticks": ""
             }
            },
            "type": "scattergl"
           }
          ],
          "scattermapbox": [
           {
            "marker": {
             "colorbar": {
              "outlinewidth": 0,
              "ticks": ""
             }
            },
            "type": "scattermapbox"
           }
          ],
          "scatterpolar": [
           {
            "marker": {
             "colorbar": {
              "outlinewidth": 0,
              "ticks": ""
             }
            },
            "type": "scatterpolar"
           }
          ],
          "scatterpolargl": [
           {
            "marker": {
             "colorbar": {
              "outlinewidth": 0,
              "ticks": ""
             }
            },
            "type": "scatterpolargl"
           }
          ],
          "scatterternary": [
           {
            "marker": {
             "colorbar": {
              "outlinewidth": 0,
              "ticks": ""
             }
            },
            "type": "scatterternary"
           }
          ],
          "surface": [
           {
            "colorbar": {
             "outlinewidth": 0,
             "ticks": ""
            },
            "colorscale": [
             [
              0.0,
              "#0d0887"
             ],
             [
              0.1111111111111111,
              "#46039f"
             ],
             [
              0.2222222222222222,
              "#7201a8"
             ],
             [
              0.3333333333333333,
              "#9c179e"
             ],
             [
              0.4444444444444444,
              "#bd3786"
             ],
             [
              0.5555555555555556,
              "#d8576b"
             ],
             [
              0.6666666666666666,
              "#ed7953"
             ],
             [
              0.7777777777777778,
              "#fb9f3a"
             ],
             [
              0.8888888888888888,
              "#fdca26"
             ],
             [
              1.0,
              "#f0f921"
             ]
            ],
            "type": "surface"
           }
          ],
          "table": [
           {
            "cells": {
             "fill": {
              "color": "#EBF0F8"
             },
             "line": {
              "color": "white"
             }
            },
            "header": {
             "fill": {
              "color": "#C8D4E3"
             },
             "line": {
              "color": "white"
             }
            },
            "type": "table"
           }
          ]
         },
         "layout": {
          "annotationdefaults": {
           "arrowcolor": "#2a3f5f",
           "arrowhead": 0,
           "arrowwidth": 1
          },
          "autotypenumbers": "strict",
          "coloraxis": {
           "colorbar": {
            "outlinewidth": 0,
            "ticks": ""
           }
          },
          "colorscale": {
           "diverging": [
            [
             0,
             "#8e0152"
            ],
            [
             0.1,
             "#c51b7d"
            ],
            [
             0.2,
             "#de77ae"
            ],
            [
             0.3,
             "#f1b6da"
            ],
            [
             0.4,
             "#fde0ef"
            ],
            [
             0.5,
             "#f7f7f7"
            ],
            [
             0.6,
             "#e6f5d0"
            ],
            [
             0.7,
             "#b8e186"
            ],
            [
             0.8,
             "#7fbc41"
            ],
            [
             0.9,
             "#4d9221"
            ],
            [
             1,
             "#276419"
            ]
           ],
           "sequential": [
            [
             0.0,
             "#0d0887"
            ],
            [
             0.1111111111111111,
             "#46039f"
            ],
            [
             0.2222222222222222,
             "#7201a8"
            ],
            [
             0.3333333333333333,
             "#9c179e"
            ],
            [
             0.4444444444444444,
             "#bd3786"
            ],
            [
             0.5555555555555556,
             "#d8576b"
            ],
            [
             0.6666666666666666,
             "#ed7953"
            ],
            [
             0.7777777777777778,
             "#fb9f3a"
            ],
            [
             0.8888888888888888,
             "#fdca26"
            ],
            [
             1.0,
             "#f0f921"
            ]
           ],
           "sequentialminus": [
            [
             0.0,
             "#0d0887"
            ],
            [
             0.1111111111111111,
             "#46039f"
            ],
            [
             0.2222222222222222,
             "#7201a8"
            ],
            [
             0.3333333333333333,
             "#9c179e"
            ],
            [
             0.4444444444444444,
             "#bd3786"
            ],
            [
             0.5555555555555556,
             "#d8576b"
            ],
            [
             0.6666666666666666,
             "#ed7953"
            ],
            [
             0.7777777777777778,
             "#fb9f3a"
            ],
            [
             0.8888888888888888,
             "#fdca26"
            ],
            [
             1.0,
             "#f0f921"
            ]
           ]
          },
          "colorway": [
           "#636efa",
           "#EF553B",
           "#00cc96",
           "#ab63fa",
           "#FFA15A",
           "#19d3f3",
           "#FF6692",
           "#B6E880",
           "#FF97FF",
           "#FECB52"
          ],
          "font": {
           "color": "#2a3f5f"
          },
          "geo": {
           "bgcolor": "white",
           "lakecolor": "white",
           "landcolor": "#E5ECF6",
           "showlakes": true,
           "showland": true,
           "subunitcolor": "white"
          },
          "hoverlabel": {
           "align": "left"
          },
          "hovermode": "closest",
          "mapbox": {
           "style": "light"
          },
          "paper_bgcolor": "white",
          "plot_bgcolor": "#E5ECF6",
          "polar": {
           "angularaxis": {
            "gridcolor": "white",
            "linecolor": "white",
            "ticks": ""
           },
           "bgcolor": "#E5ECF6",
           "radialaxis": {
            "gridcolor": "white",
            "linecolor": "white",
            "ticks": ""
           }
          },
          "scene": {
           "xaxis": {
            "backgroundcolor": "#E5ECF6",
            "gridcolor": "white",
            "gridwidth": 2,
            "linecolor": "white",
            "showbackground": true,
            "ticks": "",
            "zerolinecolor": "white"
           },
           "yaxis": {
            "backgroundcolor": "#E5ECF6",
            "gridcolor": "white",
            "gridwidth": 2,
            "linecolor": "white",
            "showbackground": true,
            "ticks": "",
            "zerolinecolor": "white"
           },
           "zaxis": {
            "backgroundcolor": "#E5ECF6",
            "gridcolor": "white",
            "gridwidth": 2,
            "linecolor": "white",
            "showbackground": true,
            "ticks": "",
            "zerolinecolor": "white"
           }
          },
          "shapedefaults": {
           "line": {
            "color": "#2a3f5f"
           }
          },
          "ternary": {
           "aaxis": {
            "gridcolor": "white",
            "linecolor": "white",
            "ticks": ""
           },
           "baxis": {
            "gridcolor": "white",
            "linecolor": "white",
            "ticks": ""
           },
           "bgcolor": "#E5ECF6",
           "caxis": {
            "gridcolor": "white",
            "linecolor": "white",
            "ticks": ""
           }
          },
          "title": {
           "x": 0.05
          },
          "xaxis": {
           "automargin": true,
           "gridcolor": "white",
           "linecolor": "white",
           "ticks": "",
           "title": {
            "standoff": 15
           },
           "zerolinecolor": "white",
           "zerolinewidth": 2
          },
          "yaxis": {
           "automargin": true,
           "gridcolor": "white",
           "linecolor": "white",
           "ticks": "",
           "title": {
            "standoff": 15
           },
           "zerolinecolor": "white",
           "zerolinewidth": 2
          }
         }
        },
        "xaxis": {
         "anchor": "y",
         "domain": [
          0.0,
          1.0
         ],
         "title": {
          "text": "race_asian_rate"
         }
        },
        "yaxis": {
         "anchor": "x",
         "domain": [
          0.0,
          1.0
         ],
         "title": {
          "text": "solar_systems_per_thousand_households"
         }
        },
        "legend": {
         "tracegroupgap": 0
        },
        "margin": {
         "t": 60
        }
       },
       "config": {
        "plotlyServerURL": "https://plot.ly"
       }
      },
      "text/html": "<div>                            <div id=\"6f4602aa-7cff-4630-aad3-cd0eae84a43a\" class=\"plotly-graph-div\" style=\"height:525px; width:100%;\"></div>            <script type=\"text/javascript\">                require([\"plotly\"], function(Plotly) {                    window.PLOTLYENV=window.PLOTLYENV || {};                                    if (document.getElementById(\"6f4602aa-7cff-4630-aad3-cd0eae84a43a\")) {                    Plotly.newPlot(                        \"6f4602aa-7cff-4630-aad3-cd0eae84a43a\",                        [{\"hovertemplate\":\"race_asian_rate=%{x}<br>solar_systems_per_thousand_households=%{y}<extra></extra>\",\"legendgroup\":\"\",\"marker\":{\"color\":\"CornflowerBlue\",\"symbol\":\"circle\"},\"mode\":\"markers\",\"name\":\"\",\"orientation\":\"v\",\"showlegend\":false,\"x\":[0.0,0.00130890052356,0.00320207331098,0.0052653748946899,0.0068283942679049,0.008785813633265,0.0105767311914,0.0124287967045,0.0144105835105,0.0168163837512,0.019054100034,0.020935870652199998,0.02343984797635,0.0255190311419,0.0277223232717,0.0299029126214,0.03221535952545,0.0353552859619,0.03880882071115,0.04107238371385,0.0438136377661,0.046888548341700004,0.0500395882819,0.0537024993655,0.0570102933679,0.0604339890489,0.0635021862766,0.067116415845,0.0703050494612,0.0743616544722,0.07750157775949995,0.08194142823139995,0.085617798967,0.08946903639734999,0.093896713615,0.09829432464425,0.102501660394,0.10742470101599999,0.1126700907985,0.11828530772,0.12410953381,0.130484547882,0.13684923691349998,0.14383740750399998,0.151783517835,0.15977996575,0.168641216908,0.17841843675699998,0.187984496124,0.1991519729655,0.2122111480405,0.22610619469,0.244579751535,0.265037910699,0.2880610983705,0.309722596283,0.337458701329,0.37221161028150007,0.41568627451,0.45683479479800004,0.521750288721,0.5988247322295,0.705392421407],\"xaxis\":\"x\",\"y\":[12.561709609792386,12.41830065359477,22.611398926680327,14.37125748502994,21.065214818321692,22.63261405678589,20.57926829268293,25.967228438634983,22.764227642276424,24.678181314157058,27.720739219712527,34.093345373128024,35.59579210824762,33.244680851063826,26.106319690247105,30.93812375249501,32.1745027603819,33.29065300896287,44.314301822489405,51.59422877509117,33.064516129032256,32.288359177326896,40.905134899912966,38.807776249365034,34.36925647451963,36.34161114476075,43.01847499706867,58.76235049401976,38.16306338236163,37.54940711462451,34.051796157059314,43.53903139484744,42.5,39.82811419869558,40.48582995951417,39.49076370592377,40.17857142857143,47.75751726940268,36.56776879456089,38.69969040247678,36.46450681603318,43.08617234468938,46.79044983270684,43.34323876694013,37.94037940379403,34.928359015950264,32.368808239333006,44.74962299965991,36.73880221439356,39.30631668030911,37.43266726867991,33.94123606889565,37.63274838856234,38.83495145631068,37.77687960800992,33.97341211225997,29.89534048488298,24.19202852728864,27.6981852913085,31.666857570224437,30.511388053287497,28.748133829184617,38.30904945980771],\"yaxis\":\"y\",\"type\":\"scatter\"},{\"hovertemplate\":\"<b>OLS trendline</b><br>solar_systems_per_thousand_households = 5.04654 * race_asian_rate + 33.789<br>R<sup>2</sup>=0.007517<br><br>race_asian_rate=%{x}<br>solar_systems_per_thousand_households=%{y} <b>(trend)</b><extra></extra>\",\"legendgroup\":\"\",\"line\":{\"color\":\"CornflowerBlue\"},\"marker\":{\"color\":\"CornflowerBlue\",\"symbol\":\"circle\"},\"mode\":\"lines\",\"name\":\"\",\"showlegend\":false,\"x\":[0.0,0.00130890052356,0.00320207331098,0.0052653748946899,0.0068283942679049,0.008785813633265,0.0105767311914,0.0124287967045,0.0144105835105,0.0168163837512,0.019054100034,0.020935870652199998,0.02343984797635,0.0255190311419,0.0277223232717,0.0299029126214,0.03221535952545,0.0353552859619,0.03880882071115,0.04107238371385,0.0438136377661,0.046888548341700004,0.0500395882819,0.0537024993655,0.0570102933679,0.0604339890489,0.0635021862766,0.067116415845,0.0703050494612,0.0743616544722,0.07750157775949995,0.08194142823139995,0.085617798967,0.08946903639734999,0.093896713615,0.09829432464425,0.102501660394,0.10742470101599999,0.1126700907985,0.11828530772,0.12410953381,0.130484547882,0.13684923691349998,0.14383740750399998,0.151783517835,0.15977996575,0.168641216908,0.17841843675699998,0.187984496124,0.1991519729655,0.2122111480405,0.22610619469,0.244579751535,0.265037910699,0.2880610983705,0.309722596283,0.337458701329,0.37221161028150007,0.41568627451,0.45683479479800004,0.521750288721,0.5988247322295,0.705392421407],\"xaxis\":\"x\",\"y\":[33.78904879106044,33.79565420710126,33.805208175239386,33.815620704788245,33.82350854122357,33.833386732149336,33.842424665401985,33.85177118412413,33.861772346261525,33.873913308248234,33.88520602817855,33.89470245483808,33.907338871192934,33.917831547745756,33.92895054488483,33.939954971584704,33.95162482242411,33.96747058004816,33.98489897389445,33.99632213027518,34.010155972620545,34.02567362524163,34.04157546758306,34.06006048702663,34.076753394676906,34.09403120453572,34.10951497799249,34.12775432432676,34.14384588457723,34.16431769532879,34.180163437060536,34.20256931053835,34.221122254625264,34.24055767010684,34.26290211079626,34.28509482132777,34.30632730045836,34.33117161131991,34.35764266942252,34.38598007418196,34.415372251622316,34.44754400146402,34.47966364559798,34.514929713021445,34.555030059608335,34.595384436718426,34.640103076131595,34.68944418621807,34.73771966693861,34.79407676156617,34.85998038293968,34.930102261855986,35.023329765794244,35.126572640462825,35.24276002859414,35.352075597809645,35.492046901879746,35.66742877248644,35.88682531125714,36.0944828765755,36.42208137404613,36.811040470879306,37.34883834845345],\"yaxis\":\"y\",\"type\":\"scatter\"}],                        {\"template\":{\"data\":{\"bar\":[{\"error_x\":{\"color\":\"#2a3f5f\"},\"error_y\":{\"color\":\"#2a3f5f\"},\"marker\":{\"line\":{\"color\":\"#E5ECF6\",\"width\":0.5},\"pattern\":{\"fillmode\":\"overlay\",\"size\":10,\"solidity\":0.2}},\"type\":\"bar\"}],\"barpolar\":[{\"marker\":{\"line\":{\"color\":\"#E5ECF6\",\"width\":0.5},\"pattern\":{\"fillmode\":\"overlay\",\"size\":10,\"solidity\":0.2}},\"type\":\"barpolar\"}],\"carpet\":[{\"aaxis\":{\"endlinecolor\":\"#2a3f5f\",\"gridcolor\":\"white\",\"linecolor\":\"white\",\"minorgridcolor\":\"white\",\"startlinecolor\":\"#2a3f5f\"},\"baxis\":{\"endlinecolor\":\"#2a3f5f\",\"gridcolor\":\"white\",\"linecolor\":\"white\",\"minorgridcolor\":\"white\",\"startlinecolor\":\"#2a3f5f\"},\"type\":\"carpet\"}],\"choropleth\":[{\"colorbar\":{\"outlinewidth\":0,\"ticks\":\"\"},\"type\":\"choropleth\"}],\"contour\":[{\"colorbar\":{\"outlinewidth\":0,\"ticks\":\"\"},\"colorscale\":[[0.0,\"#0d0887\"],[0.1111111111111111,\"#46039f\"],[0.2222222222222222,\"#7201a8\"],[0.3333333333333333,\"#9c179e\"],[0.4444444444444444,\"#bd3786\"],[0.5555555555555556,\"#d8576b\"],[0.6666666666666666,\"#ed7953\"],[0.7777777777777778,\"#fb9f3a\"],[0.8888888888888888,\"#fdca26\"],[1.0,\"#f0f921\"]],\"type\":\"contour\"}],\"contourcarpet\":[{\"colorbar\":{\"outlinewidth\":0,\"ticks\":\"\"},\"type\":\"contourcarpet\"}],\"heatmap\":[{\"colorbar\":{\"outlinewidth\":0,\"ticks\":\"\"},\"colorscale\":[[0.0,\"#0d0887\"],[0.1111111111111111,\"#46039f\"],[0.2222222222222222,\"#7201a8\"],[0.3333333333333333,\"#9c179e\"],[0.4444444444444444,\"#bd3786\"],[0.5555555555555556,\"#d8576b\"],[0.6666666666666666,\"#ed7953\"],[0.7777777777777778,\"#fb9f3a\"],[0.8888888888888888,\"#fdca26\"],[1.0,\"#f0f921\"]],\"type\":\"heatmap\"}],\"heatmapgl\":[{\"colorbar\":{\"outlinewidth\":0,\"ticks\":\"\"},\"colorscale\":[[0.0,\"#0d0887\"],[0.1111111111111111,\"#46039f\"],[0.2222222222222222,\"#7201a8\"],[0.3333333333333333,\"#9c179e\"],[0.4444444444444444,\"#bd3786\"],[0.5555555555555556,\"#d8576b\"],[0.6666666666666666,\"#ed7953\"],[0.7777777777777778,\"#fb9f3a\"],[0.8888888888888888,\"#fdca26\"],[1.0,\"#f0f921\"]],\"type\":\"heatmapgl\"}],\"histogram\":[{\"marker\":{\"pattern\":{\"fillmode\":\"overlay\",\"size\":10,\"solidity\":0.2}},\"type\":\"histogram\"}],\"histogram2d\":[{\"colorbar\":{\"outlinewidth\":0,\"ticks\":\"\"},\"colorscale\":[[0.0,\"#0d0887\"],[0.1111111111111111,\"#46039f\"],[0.2222222222222222,\"#7201a8\"],[0.3333333333333333,\"#9c179e\"],[0.4444444444444444,\"#bd3786\"],[0.5555555555555556,\"#d8576b\"],[0.6666666666666666,\"#ed7953\"],[0.7777777777777778,\"#fb9f3a\"],[0.8888888888888888,\"#fdca26\"],[1.0,\"#f0f921\"]],\"type\":\"histogram2d\"}],\"histogram2dcontour\":[{\"colorbar\":{\"outlinewidth\":0,\"ticks\":\"\"},\"colorscale\":[[0.0,\"#0d0887\"],[0.1111111111111111,\"#46039f\"],[0.2222222222222222,\"#7201a8\"],[0.3333333333333333,\"#9c179e\"],[0.4444444444444444,\"#bd3786\"],[0.5555555555555556,\"#d8576b\"],[0.6666666666666666,\"#ed7953\"],[0.7777777777777778,\"#fb9f3a\"],[0.8888888888888888,\"#fdca26\"],[1.0,\"#f0f921\"]],\"type\":\"histogram2dcontour\"}],\"mesh3d\":[{\"colorbar\":{\"outlinewidth\":0,\"ticks\":\"\"},\"type\":\"mesh3d\"}],\"parcoords\":[{\"line\":{\"colorbar\":{\"outlinewidth\":0,\"ticks\":\"\"}},\"type\":\"parcoords\"}],\"pie\":[{\"automargin\":true,\"type\":\"pie\"}],\"scatter\":[{\"marker\":{\"colorbar\":{\"outlinewidth\":0,\"ticks\":\"\"}},\"type\":\"scatter\"}],\"scatter3d\":[{\"line\":{\"colorbar\":{\"outlinewidth\":0,\"ticks\":\"\"}},\"marker\":{\"colorbar\":{\"outlinewidth\":0,\"ticks\":\"\"}},\"type\":\"scatter3d\"}],\"scattercarpet\":[{\"marker\":{\"colorbar\":{\"outlinewidth\":0,\"ticks\":\"\"}},\"type\":\"scattercarpet\"}],\"scattergeo\":[{\"marker\":{\"colorbar\":{\"outlinewidth\":0,\"ticks\":\"\"}},\"type\":\"scattergeo\"}],\"scattergl\":[{\"marker\":{\"colorbar\":{\"outlinewidth\":0,\"ticks\":\"\"}},\"type\":\"scattergl\"}],\"scattermapbox\":[{\"marker\":{\"colorbar\":{\"outlinewidth\":0,\"ticks\":\"\"}},\"type\":\"scattermapbox\"}],\"scatterpolar\":[{\"marker\":{\"colorbar\":{\"outlinewidth\":0,\"ticks\":\"\"}},\"type\":\"scatterpolar\"}],\"scatterpolargl\":[{\"marker\":{\"colorbar\":{\"outlinewidth\":0,\"ticks\":\"\"}},\"type\":\"scatterpolargl\"}],\"scatterternary\":[{\"marker\":{\"colorbar\":{\"outlinewidth\":0,\"ticks\":\"\"}},\"type\":\"scatterternary\"}],\"surface\":[{\"colorbar\":{\"outlinewidth\":0,\"ticks\":\"\"},\"colorscale\":[[0.0,\"#0d0887\"],[0.1111111111111111,\"#46039f\"],[0.2222222222222222,\"#7201a8\"],[0.3333333333333333,\"#9c179e\"],[0.4444444444444444,\"#bd3786\"],[0.5555555555555556,\"#d8576b\"],[0.6666666666666666,\"#ed7953\"],[0.7777777777777778,\"#fb9f3a\"],[0.8888888888888888,\"#fdca26\"],[1.0,\"#f0f921\"]],\"type\":\"surface\"}],\"table\":[{\"cells\":{\"fill\":{\"color\":\"#EBF0F8\"},\"line\":{\"color\":\"white\"}},\"header\":{\"fill\":{\"color\":\"#C8D4E3\"},\"line\":{\"color\":\"white\"}},\"type\":\"table\"}]},\"layout\":{\"annotationdefaults\":{\"arrowcolor\":\"#2a3f5f\",\"arrowhead\":0,\"arrowwidth\":1},\"autotypenumbers\":\"strict\",\"coloraxis\":{\"colorbar\":{\"outlinewidth\":0,\"ticks\":\"\"}},\"colorscale\":{\"diverging\":[[0,\"#8e0152\"],[0.1,\"#c51b7d\"],[0.2,\"#de77ae\"],[0.3,\"#f1b6da\"],[0.4,\"#fde0ef\"],[0.5,\"#f7f7f7\"],[0.6,\"#e6f5d0\"],[0.7,\"#b8e186\"],[0.8,\"#7fbc41\"],[0.9,\"#4d9221\"],[1,\"#276419\"]],\"sequential\":[[0.0,\"#0d0887\"],[0.1111111111111111,\"#46039f\"],[0.2222222222222222,\"#7201a8\"],[0.3333333333333333,\"#9c179e\"],[0.4444444444444444,\"#bd3786\"],[0.5555555555555556,\"#d8576b\"],[0.6666666666666666,\"#ed7953\"],[0.7777777777777778,\"#fb9f3a\"],[0.8888888888888888,\"#fdca26\"],[1.0,\"#f0f921\"]],\"sequentialminus\":[[0.0,\"#0d0887\"],[0.1111111111111111,\"#46039f\"],[0.2222222222222222,\"#7201a8\"],[0.3333333333333333,\"#9c179e\"],[0.4444444444444444,\"#bd3786\"],[0.5555555555555556,\"#d8576b\"],[0.6666666666666666,\"#ed7953\"],[0.7777777777777778,\"#fb9f3a\"],[0.8888888888888888,\"#fdca26\"],[1.0,\"#f0f921\"]]},\"colorway\":[\"#636efa\",\"#EF553B\",\"#00cc96\",\"#ab63fa\",\"#FFA15A\",\"#19d3f3\",\"#FF6692\",\"#B6E880\",\"#FF97FF\",\"#FECB52\"],\"font\":{\"color\":\"#2a3f5f\"},\"geo\":{\"bgcolor\":\"white\",\"lakecolor\":\"white\",\"landcolor\":\"#E5ECF6\",\"showlakes\":true,\"showland\":true,\"subunitcolor\":\"white\"},\"hoverlabel\":{\"align\":\"left\"},\"hovermode\":\"closest\",\"mapbox\":{\"style\":\"light\"},\"paper_bgcolor\":\"white\",\"plot_bgcolor\":\"#E5ECF6\",\"polar\":{\"angularaxis\":{\"gridcolor\":\"white\",\"linecolor\":\"white\",\"ticks\":\"\"},\"bgcolor\":\"#E5ECF6\",\"radialaxis\":{\"gridcolor\":\"white\",\"linecolor\":\"white\",\"ticks\":\"\"}},\"scene\":{\"xaxis\":{\"backgroundcolor\":\"#E5ECF6\",\"gridcolor\":\"white\",\"gridwidth\":2,\"linecolor\":\"white\",\"showbackground\":true,\"ticks\":\"\",\"zerolinecolor\":\"white\"},\"yaxis\":{\"backgroundcolor\":\"#E5ECF6\",\"gridcolor\":\"white\",\"gridwidth\":2,\"linecolor\":\"white\",\"showbackground\":true,\"ticks\":\"\",\"zerolinecolor\":\"white\"},\"zaxis\":{\"backgroundcolor\":\"#E5ECF6\",\"gridcolor\":\"white\",\"gridwidth\":2,\"linecolor\":\"white\",\"showbackground\":true,\"ticks\":\"\",\"zerolinecolor\":\"white\"}},\"shapedefaults\":{\"line\":{\"color\":\"#2a3f5f\"}},\"ternary\":{\"aaxis\":{\"gridcolor\":\"white\",\"linecolor\":\"white\",\"ticks\":\"\"},\"baxis\":{\"gridcolor\":\"white\",\"linecolor\":\"white\",\"ticks\":\"\"},\"bgcolor\":\"#E5ECF6\",\"caxis\":{\"gridcolor\":\"white\",\"linecolor\":\"white\",\"ticks\":\"\"}},\"title\":{\"x\":0.05},\"xaxis\":{\"automargin\":true,\"gridcolor\":\"white\",\"linecolor\":\"white\",\"ticks\":\"\",\"title\":{\"standoff\":15},\"zerolinecolor\":\"white\",\"zerolinewidth\":2},\"yaxis\":{\"automargin\":true,\"gridcolor\":\"white\",\"linecolor\":\"white\",\"ticks\":\"\",\"title\":{\"standoff\":15},\"zerolinecolor\":\"white\",\"zerolinewidth\":2}}},\"xaxis\":{\"anchor\":\"y\",\"domain\":[0.0,1.0],\"title\":{\"text\":\"race_asian_rate\"}},\"yaxis\":{\"anchor\":\"x\",\"domain\":[0.0,1.0],\"title\":{\"text\":\"solar_systems_per_thousand_households\"}},\"legend\":{\"tracegroupgap\":0},\"margin\":{\"t\":60}},                        {\"responsive\": true}                    ).then(function(){\n                            \nvar gd = document.getElementById('6f4602aa-7cff-4630-aad3-cd0eae84a43a');\nvar x = new MutationObserver(function (mutations, observer) {{\n        var display = window.getComputedStyle(gd).display;\n        if (!display || display === 'none') {{\n            console.log([gd, 'removed!']);\n            Plotly.purge(gd);\n            observer.disconnect();\n        }}\n}});\n\n// Listen for the removal of the full notebook cells\nvar notebookContainer = gd.closest('#notebook-container');\nif (notebookContainer) {{\n    x.observe(notebookContainer, {childList: true});\n}}\n\n// Listen for the clearing of the current output cell\nvar outputEl = gd.closest('.output');\nif (outputEl) {{\n    x.observe(outputEl, {childList: true});\n}}\n\n                        })                };                });            </script>        </div>"
     },
     "metadata": {},
     "output_type": "display_data"
    },
    {
     "name": "stdout",
     "output_type": "stream",
     "text": [
      "results:  <statsmodels.regression.linear_model.RegressionResultsWrapper object at 0x7fabd0057310>\n",
      "alpha:  33.78904879106044\n",
      "beta:  5.046537855187798\n",
      "p_beta:  0.4992439647338428\n",
      "r_squared:  0.0075174729501067405\n"
     ]
    }
   ]
  },
  {
   "cell_type": "code",
   "source": [
    "hi4 = median_dataframe(\"race_other_binned\", 'race_other_rate')\n",
    "plot_scatter(hi4, 'race_other_rate', 'solar_systems_per_thousand_households', 'DarkSalmon', 'race_other')"
   ],
   "metadata": {
    "execution": {
     "iopub.status.busy": "2022-01-30T17:06:36.690862Z",
     "iopub.execute_input": "2022-01-30T17:06:36.691503Z",
     "iopub.status.idle": "2022-01-30T17:06:36.818542Z",
     "shell.execute_reply.started": "2022-01-30T17:06:36.691451Z",
     "shell.execute_reply": "2022-01-30T17:06:36.817643Z"
    },
    "trusted": true
   },
   "execution_count": 35,
   "outputs": [
    {
     "data": {
      "application/vnd.plotly.v1+json": {
       "data": [
        {
         "hovertemplate": "race_other_rate=%{x}<br>solar_systems_per_thousand_households=%{y}<extra></extra>",
         "legendgroup": "",
         "marker": {
          "color": "DarkSalmon",
          "symbol": "circle"
         },
         "mode": "markers",
         "name": "",
         "orientation": "v",
         "showlegend": false,
         "x": [
          0.0,
          0.00368701351905,
          0.00527857140298,
          0.00698080279232,
          0.008746356186155,
          0.0106531404134,
          0.0124131816167,
          0.0142316969926,
          0.0161783996502,
          0.01832774423135,
          0.0203685741998,
          0.022525895064,
          0.02455690501255,
          0.0267625899281,
          0.02868521626225,
          0.0309956167815,
          0.0337558424026,
          0.0363666834255,
          0.0387729669547,
          0.0416356482268,
          0.0445327200502,
          0.047570714479750004,
          0.0506266490765,
          0.0535028356405,
          0.0567927143578,
          0.0596901193802,
          0.06334020821055,
          0.0671826625387,
          0.07078423167174999,
          0.0744888023368999,
          0.07833301084575,
          0.08201777946550001,
          0.0860450563203999,
          0.09023830702435,
          0.0951231289232,
          0.09975443848724999,
          0.104596751996,
          0.11039210702800001,
          0.116188065171,
          0.122401308106,
          0.12876775119549994,
          0.134722222222,
          0.14218561783,
          0.15014746393649994,
          0.157615681234,
          0.1656650378915,
          0.1757130441649999,
          0.1858819821745,
          0.19494892168,
          0.2060832216355,
          0.2204373843965,
          0.234267583289,
          0.2497366564915,
          0.266321656051,
          0.28462664056349996,
          0.306565382528,
          0.32962879342999996,
          0.35304983639,
          0.382146317829,
          0.41024728332000004,
          0.447884416925,
          0.5011225692995,
          0.5868394249225
         ],
         "xaxis": "x",
         "y": [
          50.72499617712934,
          60.38374717832957,
          54.29124050793882,
          53.23361196656401,
          50.894286332313584,
          51.33254436357771,
          47.97353184449959,
          30.14738536871299,
          43.051359516616316,
          45.44143083990246,
          42.84514141697004,
          44.1827173347215,
          39.581335674252145,
          43.53285893679364,
          41.68195458576827,
          37.03703703703704,
          44.83001874325837,
          39.274924471299094,
          52.235913888218874,
          55.27808883911908,
          45.0112528132033,
          41.21420060338198,
          38.65425912670007,
          38.18418442521915,
          44.798580027782066,
          41.0783055198973,
          36.802580830699085,
          54.12907702984039,
          33.29290074239779,
          38.46153846153847,
          40.02797317712175,
          41.112670705874024,
          35.66333808844508,
          32.37584961635695,
          35.99153140437544,
          44.51885204487532,
          31.86968838526912,
          35.22431536996431,
          30.897577503205255,
          41.991601679664065,
          31.383522860971507,
          25.357873210633947,
          31.82083989969572,
          30.44750305800318,
          30.23758099352052,
          30.150368723176527,
          26.93877551020408,
          26.755463480534523,
          28.630921395106714,
          24.516064407883206,
          26.6451973365753,
          23.15160567587752,
          24.902310107581915,
          22.727272727272727,
          22.332690683618473,
          25.060630557801133,
          22.325846084589347,
          18.91140468726676,
          19.937694704049846,
          17.58736199480684,
          18.544935805991443,
          13.007522121342024,
          9.712399811409714
         ],
         "yaxis": "y",
         "type": "scatter"
        },
        {
         "hovertemplate": "<b>OLS trendline</b><br>solar_systems_per_thousand_households = -73.4083 * race_other_rate + 45.4205<br>R<sup>2</sup>=0.749872<br><br>race_other_rate=%{x}<br>solar_systems_per_thousand_households=%{y} <b>(trend)</b><extra></extra>",
         "legendgroup": "",
         "line": {
          "color": "DarkSalmon"
         },
         "marker": {
          "color": "DarkSalmon",
          "symbol": "circle"
         },
         "mode": "lines",
         "name": "",
         "showlegend": false,
         "x": [
          0.0,
          0.00368701351905,
          0.00527857140298,
          0.00698080279232,
          0.008746356186155,
          0.0106531404134,
          0.0124131816167,
          0.0142316969926,
          0.0161783996502,
          0.01832774423135,
          0.0203685741998,
          0.022525895064,
          0.02455690501255,
          0.0267625899281,
          0.02868521626225,
          0.0309956167815,
          0.0337558424026,
          0.0363666834255,
          0.0387729669547,
          0.0416356482268,
          0.0445327200502,
          0.047570714479750004,
          0.0506266490765,
          0.0535028356405,
          0.0567927143578,
          0.0596901193802,
          0.06334020821055,
          0.0671826625387,
          0.07078423167174999,
          0.0744888023368999,
          0.07833301084575,
          0.08201777946550001,
          0.0860450563203999,
          0.09023830702435,
          0.0951231289232,
          0.09975443848724999,
          0.104596751996,
          0.11039210702800001,
          0.116188065171,
          0.122401308106,
          0.12876775119549994,
          0.134722222222,
          0.14218561783,
          0.15014746393649994,
          0.157615681234,
          0.1656650378915,
          0.1757130441649999,
          0.1858819821745,
          0.19494892168,
          0.2060832216355,
          0.2204373843965,
          0.234267583289,
          0.2497366564915,
          0.266321656051,
          0.28462664056349996,
          0.306565382528,
          0.32962879342999996,
          0.35304983639,
          0.382146317829,
          0.41024728332000004,
          0.447884416925,
          0.5011225692995,
          0.5868394249225
         ],
         "xaxis": "x",
         "y": [
          45.42047766585169,
          45.149820343021275,
          45.03298681535221,
          44.908028935947584,
          44.77842269707145,
          44.6384489455528,
          44.50924734710595,
          44.37575326019144,
          44.232849165337825,
          44.07506947530728,
          43.92525565641055,
          43.76689044115605,
          43.61779749303523,
          43.45588195593028,
          43.31474526258331,
          43.14514273306306,
          42.942519316263834,
          42.75086196596043,
          42.574220829544956,
          42.36407631957229,
          42.151407258361225,
          41.92839331094082,
          41.704062406693325,
          41.49292649646384,
          41.251422156579935,
          41.038728635803196,
          40.77078189088041,
          40.48871392552529,
          40.224328928154534,
          39.952382765417404,
          39.67018602867331,
          39.39969350004053,
          39.104058030788174,
          38.796238706659324,
          38.43765233022889,
          38.09767585839657,
          37.7422099497927,
          37.31678290166594,
          36.89131158019768,
          36.43520809964537,
          35.96785845916989,
          35.530750979477475,
          34.98287594076428,
          34.39841050801254,
          33.85018151736376,
          33.25929208553235,
          32.521685221950946,
          31.775200967564764,
          31.10961252853558,
          30.29226271357668,
          29.238548306430868,
          28.22329718594657,
          27.08773912031322,
          25.870262819582283,
          24.52652538086465,
          22.916040055628063,
          21.222994717491737,
          19.50369622490493,
          17.367773552157626,
          15.304929993421837,
          12.542052730317899,
          8.633931504379781,
          2.341604518190586
         ],
         "yaxis": "y",
         "type": "scatter"
        }
       ],
       "layout": {
        "template": {
         "data": {
          "bar": [
           {
            "error_x": {
             "color": "#2a3f5f"
            },
            "error_y": {
             "color": "#2a3f5f"
            },
            "marker": {
             "line": {
              "color": "#E5ECF6",
              "width": 0.5
             },
             "pattern": {
              "fillmode": "overlay",
              "size": 10,
              "solidity": 0.2
             }
            },
            "type": "bar"
           }
          ],
          "barpolar": [
           {
            "marker": {
             "line": {
              "color": "#E5ECF6",
              "width": 0.5
             },
             "pattern": {
              "fillmode": "overlay",
              "size": 10,
              "solidity": 0.2
             }
            },
            "type": "barpolar"
           }
          ],
          "carpet": [
           {
            "aaxis": {
             "endlinecolor": "#2a3f5f",
             "gridcolor": "white",
             "linecolor": "white",
             "minorgridcolor": "white",
             "startlinecolor": "#2a3f5f"
            },
            "baxis": {
             "endlinecolor": "#2a3f5f",
             "gridcolor": "white",
             "linecolor": "white",
             "minorgridcolor": "white",
             "startlinecolor": "#2a3f5f"
            },
            "type": "carpet"
           }
          ],
          "choropleth": [
           {
            "colorbar": {
             "outlinewidth": 0,
             "ticks": ""
            },
            "type": "choropleth"
           }
          ],
          "contour": [
           {
            "colorbar": {
             "outlinewidth": 0,
             "ticks": ""
            },
            "colorscale": [
             [
              0.0,
              "#0d0887"
             ],
             [
              0.1111111111111111,
              "#46039f"
             ],
             [
              0.2222222222222222,
              "#7201a8"
             ],
             [
              0.3333333333333333,
              "#9c179e"
             ],
             [
              0.4444444444444444,
              "#bd3786"
             ],
             [
              0.5555555555555556,
              "#d8576b"
             ],
             [
              0.6666666666666666,
              "#ed7953"
             ],
             [
              0.7777777777777778,
              "#fb9f3a"
             ],
             [
              0.8888888888888888,
              "#fdca26"
             ],
             [
              1.0,
              "#f0f921"
             ]
            ],
            "type": "contour"
           }
          ],
          "contourcarpet": [
           {
            "colorbar": {
             "outlinewidth": 0,
             "ticks": ""
            },
            "type": "contourcarpet"
           }
          ],
          "heatmap": [
           {
            "colorbar": {
             "outlinewidth": 0,
             "ticks": ""
            },
            "colorscale": [
             [
              0.0,
              "#0d0887"
             ],
             [
              0.1111111111111111,
              "#46039f"
             ],
             [
              0.2222222222222222,
              "#7201a8"
             ],
             [
              0.3333333333333333,
              "#9c179e"
             ],
             [
              0.4444444444444444,
              "#bd3786"
             ],
             [
              0.5555555555555556,
              "#d8576b"
             ],
             [
              0.6666666666666666,
              "#ed7953"
             ],
             [
              0.7777777777777778,
              "#fb9f3a"
             ],
             [
              0.8888888888888888,
              "#fdca26"
             ],
             [
              1.0,
              "#f0f921"
             ]
            ],
            "type": "heatmap"
           }
          ],
          "heatmapgl": [
           {
            "colorbar": {
             "outlinewidth": 0,
             "ticks": ""
            },
            "colorscale": [
             [
              0.0,
              "#0d0887"
             ],
             [
              0.1111111111111111,
              "#46039f"
             ],
             [
              0.2222222222222222,
              "#7201a8"
             ],
             [
              0.3333333333333333,
              "#9c179e"
             ],
             [
              0.4444444444444444,
              "#bd3786"
             ],
             [
              0.5555555555555556,
              "#d8576b"
             ],
             [
              0.6666666666666666,
              "#ed7953"
             ],
             [
              0.7777777777777778,
              "#fb9f3a"
             ],
             [
              0.8888888888888888,
              "#fdca26"
             ],
             [
              1.0,
              "#f0f921"
             ]
            ],
            "type": "heatmapgl"
           }
          ],
          "histogram": [
           {
            "marker": {
             "pattern": {
              "fillmode": "overlay",
              "size": 10,
              "solidity": 0.2
             }
            },
            "type": "histogram"
           }
          ],
          "histogram2d": [
           {
            "colorbar": {
             "outlinewidth": 0,
             "ticks": ""
            },
            "colorscale": [
             [
              0.0,
              "#0d0887"
             ],
             [
              0.1111111111111111,
              "#46039f"
             ],
             [
              0.2222222222222222,
              "#7201a8"
             ],
             [
              0.3333333333333333,
              "#9c179e"
             ],
             [
              0.4444444444444444,
              "#bd3786"
             ],
             [
              0.5555555555555556,
              "#d8576b"
             ],
             [
              0.6666666666666666,
              "#ed7953"
             ],
             [
              0.7777777777777778,
              "#fb9f3a"
             ],
             [
              0.8888888888888888,
              "#fdca26"
             ],
             [
              1.0,
              "#f0f921"
             ]
            ],
            "type": "histogram2d"
           }
          ],
          "histogram2dcontour": [
           {
            "colorbar": {
             "outlinewidth": 0,
             "ticks": ""
            },
            "colorscale": [
             [
              0.0,
              "#0d0887"
             ],
             [
              0.1111111111111111,
              "#46039f"
             ],
             [
              0.2222222222222222,
              "#7201a8"
             ],
             [
              0.3333333333333333,
              "#9c179e"
             ],
             [
              0.4444444444444444,
              "#bd3786"
             ],
             [
              0.5555555555555556,
              "#d8576b"
             ],
             [
              0.6666666666666666,
              "#ed7953"
             ],
             [
              0.7777777777777778,
              "#fb9f3a"
             ],
             [
              0.8888888888888888,
              "#fdca26"
             ],
             [
              1.0,
              "#f0f921"
             ]
            ],
            "type": "histogram2dcontour"
           }
          ],
          "mesh3d": [
           {
            "colorbar": {
             "outlinewidth": 0,
             "ticks": ""
            },
            "type": "mesh3d"
           }
          ],
          "parcoords": [
           {
            "line": {
             "colorbar": {
              "outlinewidth": 0,
              "ticks": ""
             }
            },
            "type": "parcoords"
           }
          ],
          "pie": [
           {
            "automargin": true,
            "type": "pie"
           }
          ],
          "scatter": [
           {
            "marker": {
             "colorbar": {
              "outlinewidth": 0,
              "ticks": ""
             }
            },
            "type": "scatter"
           }
          ],
          "scatter3d": [
           {
            "line": {
             "colorbar": {
              "outlinewidth": 0,
              "ticks": ""
             }
            },
            "marker": {
             "colorbar": {
              "outlinewidth": 0,
              "ticks": ""
             }
            },
            "type": "scatter3d"
           }
          ],
          "scattercarpet": [
           {
            "marker": {
             "colorbar": {
              "outlinewidth": 0,
              "ticks": ""
             }
            },
            "type": "scattercarpet"
           }
          ],
          "scattergeo": [
           {
            "marker": {
             "colorbar": {
              "outlinewidth": 0,
              "ticks": ""
             }
            },
            "type": "scattergeo"
           }
          ],
          "scattergl": [
           {
            "marker": {
             "colorbar": {
              "outlinewidth": 0,
              "ticks": ""
             }
            },
            "type": "scattergl"
           }
          ],
          "scattermapbox": [
           {
            "marker": {
             "colorbar": {
              "outlinewidth": 0,
              "ticks": ""
             }
            },
            "type": "scattermapbox"
           }
          ],
          "scatterpolar": [
           {
            "marker": {
             "colorbar": {
              "outlinewidth": 0,
              "ticks": ""
             }
            },
            "type": "scatterpolar"
           }
          ],
          "scatterpolargl": [
           {
            "marker": {
             "colorbar": {
              "outlinewidth": 0,
              "ticks": ""
             }
            },
            "type": "scatterpolargl"
           }
          ],
          "scatterternary": [
           {
            "marker": {
             "colorbar": {
              "outlinewidth": 0,
              "ticks": ""
             }
            },
            "type": "scatterternary"
           }
          ],
          "surface": [
           {
            "colorbar": {
             "outlinewidth": 0,
             "ticks": ""
            },
            "colorscale": [
             [
              0.0,
              "#0d0887"
             ],
             [
              0.1111111111111111,
              "#46039f"
             ],
             [
              0.2222222222222222,
              "#7201a8"
             ],
             [
              0.3333333333333333,
              "#9c179e"
             ],
             [
              0.4444444444444444,
              "#bd3786"
             ],
             [
              0.5555555555555556,
              "#d8576b"
             ],
             [
              0.6666666666666666,
              "#ed7953"
             ],
             [
              0.7777777777777778,
              "#fb9f3a"
             ],
             [
              0.8888888888888888,
              "#fdca26"
             ],
             [
              1.0,
              "#f0f921"
             ]
            ],
            "type": "surface"
           }
          ],
          "table": [
           {
            "cells": {
             "fill": {
              "color": "#EBF0F8"
             },
             "line": {
              "color": "white"
             }
            },
            "header": {
             "fill": {
              "color": "#C8D4E3"
             },
             "line": {
              "color": "white"
             }
            },
            "type": "table"
           }
          ]
         },
         "layout": {
          "annotationdefaults": {
           "arrowcolor": "#2a3f5f",
           "arrowhead": 0,
           "arrowwidth": 1
          },
          "autotypenumbers": "strict",
          "coloraxis": {
           "colorbar": {
            "outlinewidth": 0,
            "ticks": ""
           }
          },
          "colorscale": {
           "diverging": [
            [
             0,
             "#8e0152"
            ],
            [
             0.1,
             "#c51b7d"
            ],
            [
             0.2,
             "#de77ae"
            ],
            [
             0.3,
             "#f1b6da"
            ],
            [
             0.4,
             "#fde0ef"
            ],
            [
             0.5,
             "#f7f7f7"
            ],
            [
             0.6,
             "#e6f5d0"
            ],
            [
             0.7,
             "#b8e186"
            ],
            [
             0.8,
             "#7fbc41"
            ],
            [
             0.9,
             "#4d9221"
            ],
            [
             1,
             "#276419"
            ]
           ],
           "sequential": [
            [
             0.0,
             "#0d0887"
            ],
            [
             0.1111111111111111,
             "#46039f"
            ],
            [
             0.2222222222222222,
             "#7201a8"
            ],
            [
             0.3333333333333333,
             "#9c179e"
            ],
            [
             0.4444444444444444,
             "#bd3786"
            ],
            [
             0.5555555555555556,
             "#d8576b"
            ],
            [
             0.6666666666666666,
             "#ed7953"
            ],
            [
             0.7777777777777778,
             "#fb9f3a"
            ],
            [
             0.8888888888888888,
             "#fdca26"
            ],
            [
             1.0,
             "#f0f921"
            ]
           ],
           "sequentialminus": [
            [
             0.0,
             "#0d0887"
            ],
            [
             0.1111111111111111,
             "#46039f"
            ],
            [
             0.2222222222222222,
             "#7201a8"
            ],
            [
             0.3333333333333333,
             "#9c179e"
            ],
            [
             0.4444444444444444,
             "#bd3786"
            ],
            [
             0.5555555555555556,
             "#d8576b"
            ],
            [
             0.6666666666666666,
             "#ed7953"
            ],
            [
             0.7777777777777778,
             "#fb9f3a"
            ],
            [
             0.8888888888888888,
             "#fdca26"
            ],
            [
             1.0,
             "#f0f921"
            ]
           ]
          },
          "colorway": [
           "#636efa",
           "#EF553B",
           "#00cc96",
           "#ab63fa",
           "#FFA15A",
           "#19d3f3",
           "#FF6692",
           "#B6E880",
           "#FF97FF",
           "#FECB52"
          ],
          "font": {
           "color": "#2a3f5f"
          },
          "geo": {
           "bgcolor": "white",
           "lakecolor": "white",
           "landcolor": "#E5ECF6",
           "showlakes": true,
           "showland": true,
           "subunitcolor": "white"
          },
          "hoverlabel": {
           "align": "left"
          },
          "hovermode": "closest",
          "mapbox": {
           "style": "light"
          },
          "paper_bgcolor": "white",
          "plot_bgcolor": "#E5ECF6",
          "polar": {
           "angularaxis": {
            "gridcolor": "white",
            "linecolor": "white",
            "ticks": ""
           },
           "bgcolor": "#E5ECF6",
           "radialaxis": {
            "gridcolor": "white",
            "linecolor": "white",
            "ticks": ""
           }
          },
          "scene": {
           "xaxis": {
            "backgroundcolor": "#E5ECF6",
            "gridcolor": "white",
            "gridwidth": 2,
            "linecolor": "white",
            "showbackground": true,
            "ticks": "",
            "zerolinecolor": "white"
           },
           "yaxis": {
            "backgroundcolor": "#E5ECF6",
            "gridcolor": "white",
            "gridwidth": 2,
            "linecolor": "white",
            "showbackground": true,
            "ticks": "",
            "zerolinecolor": "white"
           },
           "zaxis": {
            "backgroundcolor": "#E5ECF6",
            "gridcolor": "white",
            "gridwidth": 2,
            "linecolor": "white",
            "showbackground": true,
            "ticks": "",
            "zerolinecolor": "white"
           }
          },
          "shapedefaults": {
           "line": {
            "color": "#2a3f5f"
           }
          },
          "ternary": {
           "aaxis": {
            "gridcolor": "white",
            "linecolor": "white",
            "ticks": ""
           },
           "baxis": {
            "gridcolor": "white",
            "linecolor": "white",
            "ticks": ""
           },
           "bgcolor": "#E5ECF6",
           "caxis": {
            "gridcolor": "white",
            "linecolor": "white",
            "ticks": ""
           }
          },
          "title": {
           "x": 0.05
          },
          "xaxis": {
           "automargin": true,
           "gridcolor": "white",
           "linecolor": "white",
           "ticks": "",
           "title": {
            "standoff": 15
           },
           "zerolinecolor": "white",
           "zerolinewidth": 2
          },
          "yaxis": {
           "automargin": true,
           "gridcolor": "white",
           "linecolor": "white",
           "ticks": "",
           "title": {
            "standoff": 15
           },
           "zerolinecolor": "white",
           "zerolinewidth": 2
          }
         }
        },
        "xaxis": {
         "anchor": "y",
         "domain": [
          0.0,
          1.0
         ],
         "title": {
          "text": "race_other_rate"
         }
        },
        "yaxis": {
         "anchor": "x",
         "domain": [
          0.0,
          1.0
         ],
         "title": {
          "text": "solar_systems_per_thousand_households"
         }
        },
        "legend": {
         "tracegroupgap": 0
        },
        "margin": {
         "t": 60
        }
       },
       "config": {
        "plotlyServerURL": "https://plot.ly"
       }
      },
      "text/html": "<div>                            <div id=\"273d5c52-81a6-49f7-9f08-0351db164d50\" class=\"plotly-graph-div\" style=\"height:525px; width:100%;\"></div>            <script type=\"text/javascript\">                require([\"plotly\"], function(Plotly) {                    window.PLOTLYENV=window.PLOTLYENV || {};                                    if (document.getElementById(\"273d5c52-81a6-49f7-9f08-0351db164d50\")) {                    Plotly.newPlot(                        \"273d5c52-81a6-49f7-9f08-0351db164d50\",                        [{\"hovertemplate\":\"race_other_rate=%{x}<br>solar_systems_per_thousand_households=%{y}<extra></extra>\",\"legendgroup\":\"\",\"marker\":{\"color\":\"DarkSalmon\",\"symbol\":\"circle\"},\"mode\":\"markers\",\"name\":\"\",\"orientation\":\"v\",\"showlegend\":false,\"x\":[0.0,0.00368701351905,0.00527857140298,0.00698080279232,0.008746356186155,0.0106531404134,0.0124131816167,0.0142316969926,0.0161783996502,0.01832774423135,0.0203685741998,0.022525895064,0.02455690501255,0.0267625899281,0.02868521626225,0.0309956167815,0.0337558424026,0.0363666834255,0.0387729669547,0.0416356482268,0.0445327200502,0.047570714479750004,0.0506266490765,0.0535028356405,0.0567927143578,0.0596901193802,0.06334020821055,0.0671826625387,0.07078423167174999,0.0744888023368999,0.07833301084575,0.08201777946550001,0.0860450563203999,0.09023830702435,0.0951231289232,0.09975443848724999,0.104596751996,0.11039210702800001,0.116188065171,0.122401308106,0.12876775119549994,0.134722222222,0.14218561783,0.15014746393649994,0.157615681234,0.1656650378915,0.1757130441649999,0.1858819821745,0.19494892168,0.2060832216355,0.2204373843965,0.234267583289,0.2497366564915,0.266321656051,0.28462664056349996,0.306565382528,0.32962879342999996,0.35304983639,0.382146317829,0.41024728332000004,0.447884416925,0.5011225692995,0.5868394249225],\"xaxis\":\"x\",\"y\":[50.72499617712934,60.38374717832957,54.29124050793882,53.23361196656401,50.894286332313584,51.33254436357771,47.97353184449959,30.14738536871299,43.051359516616316,45.44143083990246,42.84514141697004,44.1827173347215,39.581335674252145,43.53285893679364,41.68195458576827,37.03703703703704,44.83001874325837,39.274924471299094,52.235913888218874,55.27808883911908,45.0112528132033,41.21420060338198,38.65425912670007,38.18418442521915,44.798580027782066,41.0783055198973,36.802580830699085,54.12907702984039,33.29290074239779,38.46153846153847,40.02797317712175,41.112670705874024,35.66333808844508,32.37584961635695,35.99153140437544,44.51885204487532,31.86968838526912,35.22431536996431,30.897577503205255,41.991601679664065,31.383522860971507,25.357873210633947,31.82083989969572,30.44750305800318,30.23758099352052,30.150368723176527,26.93877551020408,26.755463480534523,28.630921395106714,24.516064407883206,26.6451973365753,23.15160567587752,24.902310107581915,22.727272727272727,22.332690683618473,25.060630557801133,22.325846084589347,18.91140468726676,19.937694704049846,17.58736199480684,18.544935805991443,13.007522121342024,9.712399811409714],\"yaxis\":\"y\",\"type\":\"scatter\"},{\"hovertemplate\":\"<b>OLS trendline</b><br>solar_systems_per_thousand_households = -73.4083 * race_other_rate + 45.4205<br>R<sup>2</sup>=0.749872<br><br>race_other_rate=%{x}<br>solar_systems_per_thousand_households=%{y} <b>(trend)</b><extra></extra>\",\"legendgroup\":\"\",\"line\":{\"color\":\"DarkSalmon\"},\"marker\":{\"color\":\"DarkSalmon\",\"symbol\":\"circle\"},\"mode\":\"lines\",\"name\":\"\",\"showlegend\":false,\"x\":[0.0,0.00368701351905,0.00527857140298,0.00698080279232,0.008746356186155,0.0106531404134,0.0124131816167,0.0142316969926,0.0161783996502,0.01832774423135,0.0203685741998,0.022525895064,0.02455690501255,0.0267625899281,0.02868521626225,0.0309956167815,0.0337558424026,0.0363666834255,0.0387729669547,0.0416356482268,0.0445327200502,0.047570714479750004,0.0506266490765,0.0535028356405,0.0567927143578,0.0596901193802,0.06334020821055,0.0671826625387,0.07078423167174999,0.0744888023368999,0.07833301084575,0.08201777946550001,0.0860450563203999,0.09023830702435,0.0951231289232,0.09975443848724999,0.104596751996,0.11039210702800001,0.116188065171,0.122401308106,0.12876775119549994,0.134722222222,0.14218561783,0.15014746393649994,0.157615681234,0.1656650378915,0.1757130441649999,0.1858819821745,0.19494892168,0.2060832216355,0.2204373843965,0.234267583289,0.2497366564915,0.266321656051,0.28462664056349996,0.306565382528,0.32962879342999996,0.35304983639,0.382146317829,0.41024728332000004,0.447884416925,0.5011225692995,0.5868394249225],\"xaxis\":\"x\",\"y\":[45.42047766585169,45.149820343021275,45.03298681535221,44.908028935947584,44.77842269707145,44.6384489455528,44.50924734710595,44.37575326019144,44.232849165337825,44.07506947530728,43.92525565641055,43.76689044115605,43.61779749303523,43.45588195593028,43.31474526258331,43.14514273306306,42.942519316263834,42.75086196596043,42.574220829544956,42.36407631957229,42.151407258361225,41.92839331094082,41.704062406693325,41.49292649646384,41.251422156579935,41.038728635803196,40.77078189088041,40.48871392552529,40.224328928154534,39.952382765417404,39.67018602867331,39.39969350004053,39.104058030788174,38.796238706659324,38.43765233022889,38.09767585839657,37.7422099497927,37.31678290166594,36.89131158019768,36.43520809964537,35.96785845916989,35.530750979477475,34.98287594076428,34.39841050801254,33.85018151736376,33.25929208553235,32.521685221950946,31.775200967564764,31.10961252853558,30.29226271357668,29.238548306430868,28.22329718594657,27.08773912031322,25.870262819582283,24.52652538086465,22.916040055628063,21.222994717491737,19.50369622490493,17.367773552157626,15.304929993421837,12.542052730317899,8.633931504379781,2.341604518190586],\"yaxis\":\"y\",\"type\":\"scatter\"}],                        {\"template\":{\"data\":{\"bar\":[{\"error_x\":{\"color\":\"#2a3f5f\"},\"error_y\":{\"color\":\"#2a3f5f\"},\"marker\":{\"line\":{\"color\":\"#E5ECF6\",\"width\":0.5},\"pattern\":{\"fillmode\":\"overlay\",\"size\":10,\"solidity\":0.2}},\"type\":\"bar\"}],\"barpolar\":[{\"marker\":{\"line\":{\"color\":\"#E5ECF6\",\"width\":0.5},\"pattern\":{\"fillmode\":\"overlay\",\"size\":10,\"solidity\":0.2}},\"type\":\"barpolar\"}],\"carpet\":[{\"aaxis\":{\"endlinecolor\":\"#2a3f5f\",\"gridcolor\":\"white\",\"linecolor\":\"white\",\"minorgridcolor\":\"white\",\"startlinecolor\":\"#2a3f5f\"},\"baxis\":{\"endlinecolor\":\"#2a3f5f\",\"gridcolor\":\"white\",\"linecolor\":\"white\",\"minorgridcolor\":\"white\",\"startlinecolor\":\"#2a3f5f\"},\"type\":\"carpet\"}],\"choropleth\":[{\"colorbar\":{\"outlinewidth\":0,\"ticks\":\"\"},\"type\":\"choropleth\"}],\"contour\":[{\"colorbar\":{\"outlinewidth\":0,\"ticks\":\"\"},\"colorscale\":[[0.0,\"#0d0887\"],[0.1111111111111111,\"#46039f\"],[0.2222222222222222,\"#7201a8\"],[0.3333333333333333,\"#9c179e\"],[0.4444444444444444,\"#bd3786\"],[0.5555555555555556,\"#d8576b\"],[0.6666666666666666,\"#ed7953\"],[0.7777777777777778,\"#fb9f3a\"],[0.8888888888888888,\"#fdca26\"],[1.0,\"#f0f921\"]],\"type\":\"contour\"}],\"contourcarpet\":[{\"colorbar\":{\"outlinewidth\":0,\"ticks\":\"\"},\"type\":\"contourcarpet\"}],\"heatmap\":[{\"colorbar\":{\"outlinewidth\":0,\"ticks\":\"\"},\"colorscale\":[[0.0,\"#0d0887\"],[0.1111111111111111,\"#46039f\"],[0.2222222222222222,\"#7201a8\"],[0.3333333333333333,\"#9c179e\"],[0.4444444444444444,\"#bd3786\"],[0.5555555555555556,\"#d8576b\"],[0.6666666666666666,\"#ed7953\"],[0.7777777777777778,\"#fb9f3a\"],[0.8888888888888888,\"#fdca26\"],[1.0,\"#f0f921\"]],\"type\":\"heatmap\"}],\"heatmapgl\":[{\"colorbar\":{\"outlinewidth\":0,\"ticks\":\"\"},\"colorscale\":[[0.0,\"#0d0887\"],[0.1111111111111111,\"#46039f\"],[0.2222222222222222,\"#7201a8\"],[0.3333333333333333,\"#9c179e\"],[0.4444444444444444,\"#bd3786\"],[0.5555555555555556,\"#d8576b\"],[0.6666666666666666,\"#ed7953\"],[0.7777777777777778,\"#fb9f3a\"],[0.8888888888888888,\"#fdca26\"],[1.0,\"#f0f921\"]],\"type\":\"heatmapgl\"}],\"histogram\":[{\"marker\":{\"pattern\":{\"fillmode\":\"overlay\",\"size\":10,\"solidity\":0.2}},\"type\":\"histogram\"}],\"histogram2d\":[{\"colorbar\":{\"outlinewidth\":0,\"ticks\":\"\"},\"colorscale\":[[0.0,\"#0d0887\"],[0.1111111111111111,\"#46039f\"],[0.2222222222222222,\"#7201a8\"],[0.3333333333333333,\"#9c179e\"],[0.4444444444444444,\"#bd3786\"],[0.5555555555555556,\"#d8576b\"],[0.6666666666666666,\"#ed7953\"],[0.7777777777777778,\"#fb9f3a\"],[0.8888888888888888,\"#fdca26\"],[1.0,\"#f0f921\"]],\"type\":\"histogram2d\"}],\"histogram2dcontour\":[{\"colorbar\":{\"outlinewidth\":0,\"ticks\":\"\"},\"colorscale\":[[0.0,\"#0d0887\"],[0.1111111111111111,\"#46039f\"],[0.2222222222222222,\"#7201a8\"],[0.3333333333333333,\"#9c179e\"],[0.4444444444444444,\"#bd3786\"],[0.5555555555555556,\"#d8576b\"],[0.6666666666666666,\"#ed7953\"],[0.7777777777777778,\"#fb9f3a\"],[0.8888888888888888,\"#fdca26\"],[1.0,\"#f0f921\"]],\"type\":\"histogram2dcontour\"}],\"mesh3d\":[{\"colorbar\":{\"outlinewidth\":0,\"ticks\":\"\"},\"type\":\"mesh3d\"}],\"parcoords\":[{\"line\":{\"colorbar\":{\"outlinewidth\":0,\"ticks\":\"\"}},\"type\":\"parcoords\"}],\"pie\":[{\"automargin\":true,\"type\":\"pie\"}],\"scatter\":[{\"marker\":{\"colorbar\":{\"outlinewidth\":0,\"ticks\":\"\"}},\"type\":\"scatter\"}],\"scatter3d\":[{\"line\":{\"colorbar\":{\"outlinewidth\":0,\"ticks\":\"\"}},\"marker\":{\"colorbar\":{\"outlinewidth\":0,\"ticks\":\"\"}},\"type\":\"scatter3d\"}],\"scattercarpet\":[{\"marker\":{\"colorbar\":{\"outlinewidth\":0,\"ticks\":\"\"}},\"type\":\"scattercarpet\"}],\"scattergeo\":[{\"marker\":{\"colorbar\":{\"outlinewidth\":0,\"ticks\":\"\"}},\"type\":\"scattergeo\"}],\"scattergl\":[{\"marker\":{\"colorbar\":{\"outlinewidth\":0,\"ticks\":\"\"}},\"type\":\"scattergl\"}],\"scattermapbox\":[{\"marker\":{\"colorbar\":{\"outlinewidth\":0,\"ticks\":\"\"}},\"type\":\"scattermapbox\"}],\"scatterpolar\":[{\"marker\":{\"colorbar\":{\"outlinewidth\":0,\"ticks\":\"\"}},\"type\":\"scatterpolar\"}],\"scatterpolargl\":[{\"marker\":{\"colorbar\":{\"outlinewidth\":0,\"ticks\":\"\"}},\"type\":\"scatterpolargl\"}],\"scatterternary\":[{\"marker\":{\"colorbar\":{\"outlinewidth\":0,\"ticks\":\"\"}},\"type\":\"scatterternary\"}],\"surface\":[{\"colorbar\":{\"outlinewidth\":0,\"ticks\":\"\"},\"colorscale\":[[0.0,\"#0d0887\"],[0.1111111111111111,\"#46039f\"],[0.2222222222222222,\"#7201a8\"],[0.3333333333333333,\"#9c179e\"],[0.4444444444444444,\"#bd3786\"],[0.5555555555555556,\"#d8576b\"],[0.6666666666666666,\"#ed7953\"],[0.7777777777777778,\"#fb9f3a\"],[0.8888888888888888,\"#fdca26\"],[1.0,\"#f0f921\"]],\"type\":\"surface\"}],\"table\":[{\"cells\":{\"fill\":{\"color\":\"#EBF0F8\"},\"line\":{\"color\":\"white\"}},\"header\":{\"fill\":{\"color\":\"#C8D4E3\"},\"line\":{\"color\":\"white\"}},\"type\":\"table\"}]},\"layout\":{\"annotationdefaults\":{\"arrowcolor\":\"#2a3f5f\",\"arrowhead\":0,\"arrowwidth\":1},\"autotypenumbers\":\"strict\",\"coloraxis\":{\"colorbar\":{\"outlinewidth\":0,\"ticks\":\"\"}},\"colorscale\":{\"diverging\":[[0,\"#8e0152\"],[0.1,\"#c51b7d\"],[0.2,\"#de77ae\"],[0.3,\"#f1b6da\"],[0.4,\"#fde0ef\"],[0.5,\"#f7f7f7\"],[0.6,\"#e6f5d0\"],[0.7,\"#b8e186\"],[0.8,\"#7fbc41\"],[0.9,\"#4d9221\"],[1,\"#276419\"]],\"sequential\":[[0.0,\"#0d0887\"],[0.1111111111111111,\"#46039f\"],[0.2222222222222222,\"#7201a8\"],[0.3333333333333333,\"#9c179e\"],[0.4444444444444444,\"#bd3786\"],[0.5555555555555556,\"#d8576b\"],[0.6666666666666666,\"#ed7953\"],[0.7777777777777778,\"#fb9f3a\"],[0.8888888888888888,\"#fdca26\"],[1.0,\"#f0f921\"]],\"sequentialminus\":[[0.0,\"#0d0887\"],[0.1111111111111111,\"#46039f\"],[0.2222222222222222,\"#7201a8\"],[0.3333333333333333,\"#9c179e\"],[0.4444444444444444,\"#bd3786\"],[0.5555555555555556,\"#d8576b\"],[0.6666666666666666,\"#ed7953\"],[0.7777777777777778,\"#fb9f3a\"],[0.8888888888888888,\"#fdca26\"],[1.0,\"#f0f921\"]]},\"colorway\":[\"#636efa\",\"#EF553B\",\"#00cc96\",\"#ab63fa\",\"#FFA15A\",\"#19d3f3\",\"#FF6692\",\"#B6E880\",\"#FF97FF\",\"#FECB52\"],\"font\":{\"color\":\"#2a3f5f\"},\"geo\":{\"bgcolor\":\"white\",\"lakecolor\":\"white\",\"landcolor\":\"#E5ECF6\",\"showlakes\":true,\"showland\":true,\"subunitcolor\":\"white\"},\"hoverlabel\":{\"align\":\"left\"},\"hovermode\":\"closest\",\"mapbox\":{\"style\":\"light\"},\"paper_bgcolor\":\"white\",\"plot_bgcolor\":\"#E5ECF6\",\"polar\":{\"angularaxis\":{\"gridcolor\":\"white\",\"linecolor\":\"white\",\"ticks\":\"\"},\"bgcolor\":\"#E5ECF6\",\"radialaxis\":{\"gridcolor\":\"white\",\"linecolor\":\"white\",\"ticks\":\"\"}},\"scene\":{\"xaxis\":{\"backgroundcolor\":\"#E5ECF6\",\"gridcolor\":\"white\",\"gridwidth\":2,\"linecolor\":\"white\",\"showbackground\":true,\"ticks\":\"\",\"zerolinecolor\":\"white\"},\"yaxis\":{\"backgroundcolor\":\"#E5ECF6\",\"gridcolor\":\"white\",\"gridwidth\":2,\"linecolor\":\"white\",\"showbackground\":true,\"ticks\":\"\",\"zerolinecolor\":\"white\"},\"zaxis\":{\"backgroundcolor\":\"#E5ECF6\",\"gridcolor\":\"white\",\"gridwidth\":2,\"linecolor\":\"white\",\"showbackground\":true,\"ticks\":\"\",\"zerolinecolor\":\"white\"}},\"shapedefaults\":{\"line\":{\"color\":\"#2a3f5f\"}},\"ternary\":{\"aaxis\":{\"gridcolor\":\"white\",\"linecolor\":\"white\",\"ticks\":\"\"},\"baxis\":{\"gridcolor\":\"white\",\"linecolor\":\"white\",\"ticks\":\"\"},\"bgcolor\":\"#E5ECF6\",\"caxis\":{\"gridcolor\":\"white\",\"linecolor\":\"white\",\"ticks\":\"\"}},\"title\":{\"x\":0.05},\"xaxis\":{\"automargin\":true,\"gridcolor\":\"white\",\"linecolor\":\"white\",\"ticks\":\"\",\"title\":{\"standoff\":15},\"zerolinecolor\":\"white\",\"zerolinewidth\":2},\"yaxis\":{\"automargin\":true,\"gridcolor\":\"white\",\"linecolor\":\"white\",\"ticks\":\"\",\"title\":{\"standoff\":15},\"zerolinecolor\":\"white\",\"zerolinewidth\":2}}},\"xaxis\":{\"anchor\":\"y\",\"domain\":[0.0,1.0],\"title\":{\"text\":\"race_other_rate\"}},\"yaxis\":{\"anchor\":\"x\",\"domain\":[0.0,1.0],\"title\":{\"text\":\"solar_systems_per_thousand_households\"}},\"legend\":{\"tracegroupgap\":0},\"margin\":{\"t\":60}},                        {\"responsive\": true}                    ).then(function(){\n                            \nvar gd = document.getElementById('273d5c52-81a6-49f7-9f08-0351db164d50');\nvar x = new MutationObserver(function (mutations, observer) {{\n        var display = window.getComputedStyle(gd).display;\n        if (!display || display === 'none') {{\n            console.log([gd, 'removed!']);\n            Plotly.purge(gd);\n            observer.disconnect();\n        }}\n}});\n\n// Listen for the removal of the full notebook cells\nvar notebookContainer = gd.closest('#notebook-container');\nif (notebookContainer) {{\n    x.observe(notebookContainer, {childList: true});\n}}\n\n// Listen for the clearing of the current output cell\nvar outputEl = gd.closest('.output');\nif (outputEl) {{\n    x.observe(outputEl, {childList: true});\n}}\n\n                        })                };                });            </script>        </div>"
     },
     "metadata": {},
     "output_type": "display_data"
    },
    {
     "name": "stdout",
     "output_type": "stream",
     "text": [
      "results:  <statsmodels.regression.linear_model.RegressionResultsWrapper object at 0x7fabd00d9fa0>\n",
      "alpha:  45.42047766585169\n",
      "beta:  -73.40828055877509\n",
      "p_beta:  5.1486203199744915e-20\n",
      "r_squared:  0.7498718227144586\n"
     ]
    }
   ]
  },
  {
   "cell_type": "code",
   "source": [
    "hi5 = median_dataframe(\"race_indian_alaska_binned\", 'race_indian_alaska_rate')\n",
    "plot_scatter(hi5, 'race_indian_alaska_rate', 'solar_systems_per_thousand_households', 'DarkSeaGreen', 'race_indian')"
   ],
   "metadata": {
    "execution": {
     "iopub.status.busy": "2022-01-30T17:06:36.820143Z",
     "iopub.execute_input": "2022-01-30T17:06:36.821255Z",
     "iopub.status.idle": "2022-01-30T17:06:36.945029Z",
     "shell.execute_reply.started": "2022-01-30T17:06:36.821179Z",
     "shell.execute_reply": "2022-01-30T17:06:36.943233Z"
    },
    "trusted": true
   },
   "execution_count": 36,
   "outputs": [
    {
     "data": {
      "application/vnd.plotly.v1+json": {
       "data": [
        {
         "hovertemplate": "race_indian_alaska_rate=%{x}<br>solar_systems_per_thousand_households=%{y}<extra></extra>",
         "legendgroup": "",
         "marker": {
          "color": "DarkSeaGreen",
          "symbol": "circle"
         },
         "mode": "markers",
         "name": "",
         "orientation": "v",
         "showlegend": false,
         "x": [
          0.0,
          5.4874702762E-4,
          0.00102403988756,
          0.00133543765934,
          0.0015474744710349,
          0.00177064166776,
          0.00197948533381,
          0.0021935839324050002,
          0.00237873616713,
          0.0026075619296,
          0.00285343709468,
          0.00308862737836495,
          0.0033133528148399996,
          0.00363746589876,
          0.00387528636298,
          0.00413393964448,
          0.004436594587875,
          0.00477571209279,
          0.005102177438385,
          0.005454676322104999,
          0.00584225900682,
          0.0062046756593750006,
          0.00671936758893,
          0.00718728417324,
          0.00762579966943,
          0.00809369643877,
          0.008605314107809951,
          0.00920897284534,
          0.009738001914635,
          0.0104384133612,
          0.0111898624175,
          0.01209292015345,
          0.0130142737196,
          0.0140125547479,
          0.0149681528662,
          0.01632257588915,
          0.01782021062235,
          0.0194174757282,
          0.0215211358442,
          0.0237047070775,
          0.027687732355949998,
          0.0330578512397,
          0.0415668838526,
          0.07014194692959999
         ],
         "xaxis": "x",
         "y": [
          35.01253823834469,
          42.915531335149865,
          43.20175636270219,
          48.78048780487805,
          43.225967379714035,
          39.46350899140599,
          34.177961107837355,
          30.261696427604132,
          37.07995365005794,
          36.416805915272406,
          32.654992901088505,
          35.18730447655187,
          41.56512539156037,
          39.82777179763186,
          41.5966549872563,
          42.693661971830984,
          34.613502865919735,
          30.392156862745097,
          30.450399633890655,
          43.54136978093784,
          36.02401601067378,
          31.486571737563086,
          33.39882121807466,
          28.63924484145742,
          36.5213503162441,
          27.704485488126647,
          31.25093905114175,
          37.14981729598051,
          30.13550632571623,
          35.15332834704562,
          25.331444513134414,
          29.16128393215383,
          25.23977788995457,
          27.346650590835857,
          35.604395604395606,
          31.06675440520582,
          29.099585128535594,
          29.972752043596728,
          28.85471181637334,
          24.25712553062462,
          21.597907958239936,
          21.151586368977675,
          23.406261117040202,
          12.57742720540741
         ],
         "yaxis": "y",
         "type": "scatter"
        },
        {
         "hovertemplate": "<b>OLS trendline</b><br>solar_systems_per_thousand_households = -429.814 * race_indian_alaska_rate + 37.6856<br>R<sup>2</sup>=0.590104<br><br>race_indian_alaska_rate=%{x}<br>solar_systems_per_thousand_households=%{y} <b>(trend)</b><extra></extra>",
         "legendgroup": "",
         "line": {
          "color": "DarkSeaGreen"
         },
         "marker": {
          "color": "DarkSeaGreen",
          "symbol": "circle"
         },
         "mode": "lines",
         "name": "",
         "showlegend": false,
         "x": [
          0.0,
          5.4874702762E-4,
          0.00102403988756,
          0.00133543765934,
          0.0015474744710349,
          0.00177064166776,
          0.00197948533381,
          0.0021935839324050002,
          0.00237873616713,
          0.0026075619296,
          0.00285343709468,
          0.00308862737836495,
          0.0033133528148399996,
          0.00363746589876,
          0.00387528636298,
          0.00413393964448,
          0.004436594587875,
          0.00477571209279,
          0.005102177438385,
          0.005454676322104999,
          0.00584225900682,
          0.0062046756593750006,
          0.00671936758893,
          0.00718728417324,
          0.00762579966943,
          0.00809369643877,
          0.008605314107809951,
          0.00920897284534,
          0.009738001914635,
          0.0104384133612,
          0.0111898624175,
          0.01209292015345,
          0.0130142737196,
          0.0140125547479,
          0.0149681528662,
          0.01632257588915,
          0.01782021062235,
          0.0194174757282,
          0.0215211358442,
          0.0237047070775,
          0.027687732355949998,
          0.0330578512397,
          0.0415668838526,
          0.07014194692959999
         ],
         "xaxis": "x",
         "y": [
          37.685589558419395,
          37.44973029348455,
          37.245442672902016,
          37.11159948859735,
          37.02046305590925,
          36.9245426256785,
          36.83477865233273,
          36.74275603435663,
          36.66317497462372,
          36.56482241248155,
          36.459141774988126,
          36.358053651248596,
          36.26146346744559,
          36.12215506141979,
          36.0199364487365,
          35.90876359535055,
          35.778678202838,
          35.632920683598776,
          35.49260124210185,
          35.341092216230415,
          35.17450367448498,
          35.01873185073132,
          34.79750995054309,
          34.59639275797288,
          34.407912570585815,
          34.2068038947711,
          33.98690335540817,
          33.72744225778209,
          33.50005805133953,
          33.199011265436624,
          32.876027790111756,
          32.48788075135934,
          32.09186990497764,
          31.66279454295802,
          31.252064901773636,
          30.669914653070993,
          30.02620997762981,
          29.33968275322589,
          28.435499762414135,
          27.496969838611697,
          25.78500901311694,
          23.476855658688006,
          19.819552609431216,
          7.537584719711319
         ],
         "yaxis": "y",
         "type": "scatter"
        }
       ],
       "layout": {
        "template": {
         "data": {
          "bar": [
           {
            "error_x": {
             "color": "#2a3f5f"
            },
            "error_y": {
             "color": "#2a3f5f"
            },
            "marker": {
             "line": {
              "color": "#E5ECF6",
              "width": 0.5
             },
             "pattern": {
              "fillmode": "overlay",
              "size": 10,
              "solidity": 0.2
             }
            },
            "type": "bar"
           }
          ],
          "barpolar": [
           {
            "marker": {
             "line": {
              "color": "#E5ECF6",
              "width": 0.5
             },
             "pattern": {
              "fillmode": "overlay",
              "size": 10,
              "solidity": 0.2
             }
            },
            "type": "barpolar"
           }
          ],
          "carpet": [
           {
            "aaxis": {
             "endlinecolor": "#2a3f5f",
             "gridcolor": "white",
             "linecolor": "white",
             "minorgridcolor": "white",
             "startlinecolor": "#2a3f5f"
            },
            "baxis": {
             "endlinecolor": "#2a3f5f",
             "gridcolor": "white",
             "linecolor": "white",
             "minorgridcolor": "white",
             "startlinecolor": "#2a3f5f"
            },
            "type": "carpet"
           }
          ],
          "choropleth": [
           {
            "colorbar": {
             "outlinewidth": 0,
             "ticks": ""
            },
            "type": "choropleth"
           }
          ],
          "contour": [
           {
            "colorbar": {
             "outlinewidth": 0,
             "ticks": ""
            },
            "colorscale": [
             [
              0.0,
              "#0d0887"
             ],
             [
              0.1111111111111111,
              "#46039f"
             ],
             [
              0.2222222222222222,
              "#7201a8"
             ],
             [
              0.3333333333333333,
              "#9c179e"
             ],
             [
              0.4444444444444444,
              "#bd3786"
             ],
             [
              0.5555555555555556,
              "#d8576b"
             ],
             [
              0.6666666666666666,
              "#ed7953"
             ],
             [
              0.7777777777777778,
              "#fb9f3a"
             ],
             [
              0.8888888888888888,
              "#fdca26"
             ],
             [
              1.0,
              "#f0f921"
             ]
            ],
            "type": "contour"
           }
          ],
          "contourcarpet": [
           {
            "colorbar": {
             "outlinewidth": 0,
             "ticks": ""
            },
            "type": "contourcarpet"
           }
          ],
          "heatmap": [
           {
            "colorbar": {
             "outlinewidth": 0,
             "ticks": ""
            },
            "colorscale": [
             [
              0.0,
              "#0d0887"
             ],
             [
              0.1111111111111111,
              "#46039f"
             ],
             [
              0.2222222222222222,
              "#7201a8"
             ],
             [
              0.3333333333333333,
              "#9c179e"
             ],
             [
              0.4444444444444444,
              "#bd3786"
             ],
             [
              0.5555555555555556,
              "#d8576b"
             ],
             [
              0.6666666666666666,
              "#ed7953"
             ],
             [
              0.7777777777777778,
              "#fb9f3a"
             ],
             [
              0.8888888888888888,
              "#fdca26"
             ],
             [
              1.0,
              "#f0f921"
             ]
            ],
            "type": "heatmap"
           }
          ],
          "heatmapgl": [
           {
            "colorbar": {
             "outlinewidth": 0,
             "ticks": ""
            },
            "colorscale": [
             [
              0.0,
              "#0d0887"
             ],
             [
              0.1111111111111111,
              "#46039f"
             ],
             [
              0.2222222222222222,
              "#7201a8"
             ],
             [
              0.3333333333333333,
              "#9c179e"
             ],
             [
              0.4444444444444444,
              "#bd3786"
             ],
             [
              0.5555555555555556,
              "#d8576b"
             ],
             [
              0.6666666666666666,
              "#ed7953"
             ],
             [
              0.7777777777777778,
              "#fb9f3a"
             ],
             [
              0.8888888888888888,
              "#fdca26"
             ],
             [
              1.0,
              "#f0f921"
             ]
            ],
            "type": "heatmapgl"
           }
          ],
          "histogram": [
           {
            "marker": {
             "pattern": {
              "fillmode": "overlay",
              "size": 10,
              "solidity": 0.2
             }
            },
            "type": "histogram"
           }
          ],
          "histogram2d": [
           {
            "colorbar": {
             "outlinewidth": 0,
             "ticks": ""
            },
            "colorscale": [
             [
              0.0,
              "#0d0887"
             ],
             [
              0.1111111111111111,
              "#46039f"
             ],
             [
              0.2222222222222222,
              "#7201a8"
             ],
             [
              0.3333333333333333,
              "#9c179e"
             ],
             [
              0.4444444444444444,
              "#bd3786"
             ],
             [
              0.5555555555555556,
              "#d8576b"
             ],
             [
              0.6666666666666666,
              "#ed7953"
             ],
             [
              0.7777777777777778,
              "#fb9f3a"
             ],
             [
              0.8888888888888888,
              "#fdca26"
             ],
             [
              1.0,
              "#f0f921"
             ]
            ],
            "type": "histogram2d"
           }
          ],
          "histogram2dcontour": [
           {
            "colorbar": {
             "outlinewidth": 0,
             "ticks": ""
            },
            "colorscale": [
             [
              0.0,
              "#0d0887"
             ],
             [
              0.1111111111111111,
              "#46039f"
             ],
             [
              0.2222222222222222,
              "#7201a8"
             ],
             [
              0.3333333333333333,
              "#9c179e"
             ],
             [
              0.4444444444444444,
              "#bd3786"
             ],
             [
              0.5555555555555556,
              "#d8576b"
             ],
             [
              0.6666666666666666,
              "#ed7953"
             ],
             [
              0.7777777777777778,
              "#fb9f3a"
             ],
             [
              0.8888888888888888,
              "#fdca26"
             ],
             [
              1.0,
              "#f0f921"
             ]
            ],
            "type": "histogram2dcontour"
           }
          ],
          "mesh3d": [
           {
            "colorbar": {
             "outlinewidth": 0,
             "ticks": ""
            },
            "type": "mesh3d"
           }
          ],
          "parcoords": [
           {
            "line": {
             "colorbar": {
              "outlinewidth": 0,
              "ticks": ""
             }
            },
            "type": "parcoords"
           }
          ],
          "pie": [
           {
            "automargin": true,
            "type": "pie"
           }
          ],
          "scatter": [
           {
            "marker": {
             "colorbar": {
              "outlinewidth": 0,
              "ticks": ""
             }
            },
            "type": "scatter"
           }
          ],
          "scatter3d": [
           {
            "line": {
             "colorbar": {
              "outlinewidth": 0,
              "ticks": ""
             }
            },
            "marker": {
             "colorbar": {
              "outlinewidth": 0,
              "ticks": ""
             }
            },
            "type": "scatter3d"
           }
          ],
          "scattercarpet": [
           {
            "marker": {
             "colorbar": {
              "outlinewidth": 0,
              "ticks": ""
             }
            },
            "type": "scattercarpet"
           }
          ],
          "scattergeo": [
           {
            "marker": {
             "colorbar": {
              "outlinewidth": 0,
              "ticks": ""
             }
            },
            "type": "scattergeo"
           }
          ],
          "scattergl": [
           {
            "marker": {
             "colorbar": {
              "outlinewidth": 0,
              "ticks": ""
             }
            },
            "type": "scattergl"
           }
          ],
          "scattermapbox": [
           {
            "marker": {
             "colorbar": {
              "outlinewidth": 0,
              "ticks": ""
             }
            },
            "type": "scattermapbox"
           }
          ],
          "scatterpolar": [
           {
            "marker": {
             "colorbar": {
              "outlinewidth": 0,
              "ticks": ""
             }
            },
            "type": "scatterpolar"
           }
          ],
          "scatterpolargl": [
           {
            "marker": {
             "colorbar": {
              "outlinewidth": 0,
              "ticks": ""
             }
            },
            "type": "scatterpolargl"
           }
          ],
          "scatterternary": [
           {
            "marker": {
             "colorbar": {
              "outlinewidth": 0,
              "ticks": ""
             }
            },
            "type": "scatterternary"
           }
          ],
          "surface": [
           {
            "colorbar": {
             "outlinewidth": 0,
             "ticks": ""
            },
            "colorscale": [
             [
              0.0,
              "#0d0887"
             ],
             [
              0.1111111111111111,
              "#46039f"
             ],
             [
              0.2222222222222222,
              "#7201a8"
             ],
             [
              0.3333333333333333,
              "#9c179e"
             ],
             [
              0.4444444444444444,
              "#bd3786"
             ],
             [
              0.5555555555555556,
              "#d8576b"
             ],
             [
              0.6666666666666666,
              "#ed7953"
             ],
             [
              0.7777777777777778,
              "#fb9f3a"
             ],
             [
              0.8888888888888888,
              "#fdca26"
             ],
             [
              1.0,
              "#f0f921"
             ]
            ],
            "type": "surface"
           }
          ],
          "table": [
           {
            "cells": {
             "fill": {
              "color": "#EBF0F8"
             },
             "line": {
              "color": "white"
             }
            },
            "header": {
             "fill": {
              "color": "#C8D4E3"
             },
             "line": {
              "color": "white"
             }
            },
            "type": "table"
           }
          ]
         },
         "layout": {
          "annotationdefaults": {
           "arrowcolor": "#2a3f5f",
           "arrowhead": 0,
           "arrowwidth": 1
          },
          "autotypenumbers": "strict",
          "coloraxis": {
           "colorbar": {
            "outlinewidth": 0,
            "ticks": ""
           }
          },
          "colorscale": {
           "diverging": [
            [
             0,
             "#8e0152"
            ],
            [
             0.1,
             "#c51b7d"
            ],
            [
             0.2,
             "#de77ae"
            ],
            [
             0.3,
             "#f1b6da"
            ],
            [
             0.4,
             "#fde0ef"
            ],
            [
             0.5,
             "#f7f7f7"
            ],
            [
             0.6,
             "#e6f5d0"
            ],
            [
             0.7,
             "#b8e186"
            ],
            [
             0.8,
             "#7fbc41"
            ],
            [
             0.9,
             "#4d9221"
            ],
            [
             1,
             "#276419"
            ]
           ],
           "sequential": [
            [
             0.0,
             "#0d0887"
            ],
            [
             0.1111111111111111,
             "#46039f"
            ],
            [
             0.2222222222222222,
             "#7201a8"
            ],
            [
             0.3333333333333333,
             "#9c179e"
            ],
            [
             0.4444444444444444,
             "#bd3786"
            ],
            [
             0.5555555555555556,
             "#d8576b"
            ],
            [
             0.6666666666666666,
             "#ed7953"
            ],
            [
             0.7777777777777778,
             "#fb9f3a"
            ],
            [
             0.8888888888888888,
             "#fdca26"
            ],
            [
             1.0,
             "#f0f921"
            ]
           ],
           "sequentialminus": [
            [
             0.0,
             "#0d0887"
            ],
            [
             0.1111111111111111,
             "#46039f"
            ],
            [
             0.2222222222222222,
             "#7201a8"
            ],
            [
             0.3333333333333333,
             "#9c179e"
            ],
            [
             0.4444444444444444,
             "#bd3786"
            ],
            [
             0.5555555555555556,
             "#d8576b"
            ],
            [
             0.6666666666666666,
             "#ed7953"
            ],
            [
             0.7777777777777778,
             "#fb9f3a"
            ],
            [
             0.8888888888888888,
             "#fdca26"
            ],
            [
             1.0,
             "#f0f921"
            ]
           ]
          },
          "colorway": [
           "#636efa",
           "#EF553B",
           "#00cc96",
           "#ab63fa",
           "#FFA15A",
           "#19d3f3",
           "#FF6692",
           "#B6E880",
           "#FF97FF",
           "#FECB52"
          ],
          "font": {
           "color": "#2a3f5f"
          },
          "geo": {
           "bgcolor": "white",
           "lakecolor": "white",
           "landcolor": "#E5ECF6",
           "showlakes": true,
           "showland": true,
           "subunitcolor": "white"
          },
          "hoverlabel": {
           "align": "left"
          },
          "hovermode": "closest",
          "mapbox": {
           "style": "light"
          },
          "paper_bgcolor": "white",
          "plot_bgcolor": "#E5ECF6",
          "polar": {
           "angularaxis": {
            "gridcolor": "white",
            "linecolor": "white",
            "ticks": ""
           },
           "bgcolor": "#E5ECF6",
           "radialaxis": {
            "gridcolor": "white",
            "linecolor": "white",
            "ticks": ""
           }
          },
          "scene": {
           "xaxis": {
            "backgroundcolor": "#E5ECF6",
            "gridcolor": "white",
            "gridwidth": 2,
            "linecolor": "white",
            "showbackground": true,
            "ticks": "",
            "zerolinecolor": "white"
           },
           "yaxis": {
            "backgroundcolor": "#E5ECF6",
            "gridcolor": "white",
            "gridwidth": 2,
            "linecolor": "white",
            "showbackground": true,
            "ticks": "",
            "zerolinecolor": "white"
           },
           "zaxis": {
            "backgroundcolor": "#E5ECF6",
            "gridcolor": "white",
            "gridwidth": 2,
            "linecolor": "white",
            "showbackground": true,
            "ticks": "",
            "zerolinecolor": "white"
           }
          },
          "shapedefaults": {
           "line": {
            "color": "#2a3f5f"
           }
          },
          "ternary": {
           "aaxis": {
            "gridcolor": "white",
            "linecolor": "white",
            "ticks": ""
           },
           "baxis": {
            "gridcolor": "white",
            "linecolor": "white",
            "ticks": ""
           },
           "bgcolor": "#E5ECF6",
           "caxis": {
            "gridcolor": "white",
            "linecolor": "white",
            "ticks": ""
           }
          },
          "title": {
           "x": 0.05
          },
          "xaxis": {
           "automargin": true,
           "gridcolor": "white",
           "linecolor": "white",
           "ticks": "",
           "title": {
            "standoff": 15
           },
           "zerolinecolor": "white",
           "zerolinewidth": 2
          },
          "yaxis": {
           "automargin": true,
           "gridcolor": "white",
           "linecolor": "white",
           "ticks": "",
           "title": {
            "standoff": 15
           },
           "zerolinecolor": "white",
           "zerolinewidth": 2
          }
         }
        },
        "xaxis": {
         "anchor": "y",
         "domain": [
          0.0,
          1.0
         ],
         "title": {
          "text": "race_indian_alaska_rate"
         }
        },
        "yaxis": {
         "anchor": "x",
         "domain": [
          0.0,
          1.0
         ],
         "title": {
          "text": "solar_systems_per_thousand_households"
         }
        },
        "legend": {
         "tracegroupgap": 0
        },
        "margin": {
         "t": 60
        }
       },
       "config": {
        "plotlyServerURL": "https://plot.ly"
       }
      },
      "text/html": "<div>                            <div id=\"5ce9717b-23ad-4f9c-b99d-9539b820ce9b\" class=\"plotly-graph-div\" style=\"height:525px; width:100%;\"></div>            <script type=\"text/javascript\">                require([\"plotly\"], function(Plotly) {                    window.PLOTLYENV=window.PLOTLYENV || {};                                    if (document.getElementById(\"5ce9717b-23ad-4f9c-b99d-9539b820ce9b\")) {                    Plotly.newPlot(                        \"5ce9717b-23ad-4f9c-b99d-9539b820ce9b\",                        [{\"hovertemplate\":\"race_indian_alaska_rate=%{x}<br>solar_systems_per_thousand_households=%{y}<extra></extra>\",\"legendgroup\":\"\",\"marker\":{\"color\":\"DarkSeaGreen\",\"symbol\":\"circle\"},\"mode\":\"markers\",\"name\":\"\",\"orientation\":\"v\",\"showlegend\":false,\"x\":[0.0,0.00054874702762,0.00102403988756,0.00133543765934,0.0015474744710349,0.00177064166776,0.00197948533381,0.0021935839324050002,0.00237873616713,0.0026075619296,0.00285343709468,0.00308862737836495,0.0033133528148399996,0.00363746589876,0.00387528636298,0.00413393964448,0.004436594587875,0.00477571209279,0.005102177438385,0.005454676322104999,0.00584225900682,0.0062046756593750006,0.00671936758893,0.00718728417324,0.00762579966943,0.00809369643877,0.008605314107809951,0.00920897284534,0.009738001914635,0.0104384133612,0.0111898624175,0.01209292015345,0.0130142737196,0.0140125547479,0.0149681528662,0.01632257588915,0.01782021062235,0.0194174757282,0.0215211358442,0.0237047070775,0.027687732355949998,0.0330578512397,0.0415668838526,0.07014194692959999],\"xaxis\":\"x\",\"y\":[35.01253823834469,42.915531335149865,43.20175636270219,48.78048780487805,43.225967379714035,39.46350899140599,34.177961107837355,30.261696427604132,37.07995365005794,36.416805915272406,32.654992901088505,35.18730447655187,41.56512539156037,39.82777179763186,41.5966549872563,42.693661971830984,34.613502865919735,30.392156862745097,30.450399633890655,43.54136978093784,36.02401601067378,31.486571737563086,33.39882121807466,28.63924484145742,36.5213503162441,27.704485488126647,31.25093905114175,37.14981729598051,30.13550632571623,35.15332834704562,25.331444513134414,29.16128393215383,25.23977788995457,27.346650590835857,35.604395604395606,31.06675440520582,29.099585128535594,29.972752043596728,28.85471181637334,24.25712553062462,21.597907958239936,21.151586368977675,23.406261117040202,12.57742720540741],\"yaxis\":\"y\",\"type\":\"scatter\"},{\"hovertemplate\":\"<b>OLS trendline</b><br>solar_systems_per_thousand_households = -429.814 * race_indian_alaska_rate + 37.6856<br>R<sup>2</sup>=0.590104<br><br>race_indian_alaska_rate=%{x}<br>solar_systems_per_thousand_households=%{y} <b>(trend)</b><extra></extra>\",\"legendgroup\":\"\",\"line\":{\"color\":\"DarkSeaGreen\"},\"marker\":{\"color\":\"DarkSeaGreen\",\"symbol\":\"circle\"},\"mode\":\"lines\",\"name\":\"\",\"showlegend\":false,\"x\":[0.0,0.00054874702762,0.00102403988756,0.00133543765934,0.0015474744710349,0.00177064166776,0.00197948533381,0.0021935839324050002,0.00237873616713,0.0026075619296,0.00285343709468,0.00308862737836495,0.0033133528148399996,0.00363746589876,0.00387528636298,0.00413393964448,0.004436594587875,0.00477571209279,0.005102177438385,0.005454676322104999,0.00584225900682,0.0062046756593750006,0.00671936758893,0.00718728417324,0.00762579966943,0.00809369643877,0.008605314107809951,0.00920897284534,0.009738001914635,0.0104384133612,0.0111898624175,0.01209292015345,0.0130142737196,0.0140125547479,0.0149681528662,0.01632257588915,0.01782021062235,0.0194174757282,0.0215211358442,0.0237047070775,0.027687732355949998,0.0330578512397,0.0415668838526,0.07014194692959999],\"xaxis\":\"x\",\"y\":[37.685589558419395,37.44973029348455,37.245442672902016,37.11159948859735,37.02046305590925,36.9245426256785,36.83477865233273,36.74275603435663,36.66317497462372,36.56482241248155,36.459141774988126,36.358053651248596,36.26146346744559,36.12215506141979,36.0199364487365,35.90876359535055,35.778678202838,35.632920683598776,35.49260124210185,35.341092216230415,35.17450367448498,35.01873185073132,34.79750995054309,34.59639275797288,34.407912570585815,34.2068038947711,33.98690335540817,33.72744225778209,33.50005805133953,33.199011265436624,32.876027790111756,32.48788075135934,32.09186990497764,31.66279454295802,31.252064901773636,30.669914653070993,30.02620997762981,29.33968275322589,28.435499762414135,27.496969838611697,25.78500901311694,23.476855658688006,19.819552609431216,7.537584719711319],\"yaxis\":\"y\",\"type\":\"scatter\"}],                        {\"template\":{\"data\":{\"bar\":[{\"error_x\":{\"color\":\"#2a3f5f\"},\"error_y\":{\"color\":\"#2a3f5f\"},\"marker\":{\"line\":{\"color\":\"#E5ECF6\",\"width\":0.5},\"pattern\":{\"fillmode\":\"overlay\",\"size\":10,\"solidity\":0.2}},\"type\":\"bar\"}],\"barpolar\":[{\"marker\":{\"line\":{\"color\":\"#E5ECF6\",\"width\":0.5},\"pattern\":{\"fillmode\":\"overlay\",\"size\":10,\"solidity\":0.2}},\"type\":\"barpolar\"}],\"carpet\":[{\"aaxis\":{\"endlinecolor\":\"#2a3f5f\",\"gridcolor\":\"white\",\"linecolor\":\"white\",\"minorgridcolor\":\"white\",\"startlinecolor\":\"#2a3f5f\"},\"baxis\":{\"endlinecolor\":\"#2a3f5f\",\"gridcolor\":\"white\",\"linecolor\":\"white\",\"minorgridcolor\":\"white\",\"startlinecolor\":\"#2a3f5f\"},\"type\":\"carpet\"}],\"choropleth\":[{\"colorbar\":{\"outlinewidth\":0,\"ticks\":\"\"},\"type\":\"choropleth\"}],\"contour\":[{\"colorbar\":{\"outlinewidth\":0,\"ticks\":\"\"},\"colorscale\":[[0.0,\"#0d0887\"],[0.1111111111111111,\"#46039f\"],[0.2222222222222222,\"#7201a8\"],[0.3333333333333333,\"#9c179e\"],[0.4444444444444444,\"#bd3786\"],[0.5555555555555556,\"#d8576b\"],[0.6666666666666666,\"#ed7953\"],[0.7777777777777778,\"#fb9f3a\"],[0.8888888888888888,\"#fdca26\"],[1.0,\"#f0f921\"]],\"type\":\"contour\"}],\"contourcarpet\":[{\"colorbar\":{\"outlinewidth\":0,\"ticks\":\"\"},\"type\":\"contourcarpet\"}],\"heatmap\":[{\"colorbar\":{\"outlinewidth\":0,\"ticks\":\"\"},\"colorscale\":[[0.0,\"#0d0887\"],[0.1111111111111111,\"#46039f\"],[0.2222222222222222,\"#7201a8\"],[0.3333333333333333,\"#9c179e\"],[0.4444444444444444,\"#bd3786\"],[0.5555555555555556,\"#d8576b\"],[0.6666666666666666,\"#ed7953\"],[0.7777777777777778,\"#fb9f3a\"],[0.8888888888888888,\"#fdca26\"],[1.0,\"#f0f921\"]],\"type\":\"heatmap\"}],\"heatmapgl\":[{\"colorbar\":{\"outlinewidth\":0,\"ticks\":\"\"},\"colorscale\":[[0.0,\"#0d0887\"],[0.1111111111111111,\"#46039f\"],[0.2222222222222222,\"#7201a8\"],[0.3333333333333333,\"#9c179e\"],[0.4444444444444444,\"#bd3786\"],[0.5555555555555556,\"#d8576b\"],[0.6666666666666666,\"#ed7953\"],[0.7777777777777778,\"#fb9f3a\"],[0.8888888888888888,\"#fdca26\"],[1.0,\"#f0f921\"]],\"type\":\"heatmapgl\"}],\"histogram\":[{\"marker\":{\"pattern\":{\"fillmode\":\"overlay\",\"size\":10,\"solidity\":0.2}},\"type\":\"histogram\"}],\"histogram2d\":[{\"colorbar\":{\"outlinewidth\":0,\"ticks\":\"\"},\"colorscale\":[[0.0,\"#0d0887\"],[0.1111111111111111,\"#46039f\"],[0.2222222222222222,\"#7201a8\"],[0.3333333333333333,\"#9c179e\"],[0.4444444444444444,\"#bd3786\"],[0.5555555555555556,\"#d8576b\"],[0.6666666666666666,\"#ed7953\"],[0.7777777777777778,\"#fb9f3a\"],[0.8888888888888888,\"#fdca26\"],[1.0,\"#f0f921\"]],\"type\":\"histogram2d\"}],\"histogram2dcontour\":[{\"colorbar\":{\"outlinewidth\":0,\"ticks\":\"\"},\"colorscale\":[[0.0,\"#0d0887\"],[0.1111111111111111,\"#46039f\"],[0.2222222222222222,\"#7201a8\"],[0.3333333333333333,\"#9c179e\"],[0.4444444444444444,\"#bd3786\"],[0.5555555555555556,\"#d8576b\"],[0.6666666666666666,\"#ed7953\"],[0.7777777777777778,\"#fb9f3a\"],[0.8888888888888888,\"#fdca26\"],[1.0,\"#f0f921\"]],\"type\":\"histogram2dcontour\"}],\"mesh3d\":[{\"colorbar\":{\"outlinewidth\":0,\"ticks\":\"\"},\"type\":\"mesh3d\"}],\"parcoords\":[{\"line\":{\"colorbar\":{\"outlinewidth\":0,\"ticks\":\"\"}},\"type\":\"parcoords\"}],\"pie\":[{\"automargin\":true,\"type\":\"pie\"}],\"scatter\":[{\"marker\":{\"colorbar\":{\"outlinewidth\":0,\"ticks\":\"\"}},\"type\":\"scatter\"}],\"scatter3d\":[{\"line\":{\"colorbar\":{\"outlinewidth\":0,\"ticks\":\"\"}},\"marker\":{\"colorbar\":{\"outlinewidth\":0,\"ticks\":\"\"}},\"type\":\"scatter3d\"}],\"scattercarpet\":[{\"marker\":{\"colorbar\":{\"outlinewidth\":0,\"ticks\":\"\"}},\"type\":\"scattercarpet\"}],\"scattergeo\":[{\"marker\":{\"colorbar\":{\"outlinewidth\":0,\"ticks\":\"\"}},\"type\":\"scattergeo\"}],\"scattergl\":[{\"marker\":{\"colorbar\":{\"outlinewidth\":0,\"ticks\":\"\"}},\"type\":\"scattergl\"}],\"scattermapbox\":[{\"marker\":{\"colorbar\":{\"outlinewidth\":0,\"ticks\":\"\"}},\"type\":\"scattermapbox\"}],\"scatterpolar\":[{\"marker\":{\"colorbar\":{\"outlinewidth\":0,\"ticks\":\"\"}},\"type\":\"scatterpolar\"}],\"scatterpolargl\":[{\"marker\":{\"colorbar\":{\"outlinewidth\":0,\"ticks\":\"\"}},\"type\":\"scatterpolargl\"}],\"scatterternary\":[{\"marker\":{\"colorbar\":{\"outlinewidth\":0,\"ticks\":\"\"}},\"type\":\"scatterternary\"}],\"surface\":[{\"colorbar\":{\"outlinewidth\":0,\"ticks\":\"\"},\"colorscale\":[[0.0,\"#0d0887\"],[0.1111111111111111,\"#46039f\"],[0.2222222222222222,\"#7201a8\"],[0.3333333333333333,\"#9c179e\"],[0.4444444444444444,\"#bd3786\"],[0.5555555555555556,\"#d8576b\"],[0.6666666666666666,\"#ed7953\"],[0.7777777777777778,\"#fb9f3a\"],[0.8888888888888888,\"#fdca26\"],[1.0,\"#f0f921\"]],\"type\":\"surface\"}],\"table\":[{\"cells\":{\"fill\":{\"color\":\"#EBF0F8\"},\"line\":{\"color\":\"white\"}},\"header\":{\"fill\":{\"color\":\"#C8D4E3\"},\"line\":{\"color\":\"white\"}},\"type\":\"table\"}]},\"layout\":{\"annotationdefaults\":{\"arrowcolor\":\"#2a3f5f\",\"arrowhead\":0,\"arrowwidth\":1},\"autotypenumbers\":\"strict\",\"coloraxis\":{\"colorbar\":{\"outlinewidth\":0,\"ticks\":\"\"}},\"colorscale\":{\"diverging\":[[0,\"#8e0152\"],[0.1,\"#c51b7d\"],[0.2,\"#de77ae\"],[0.3,\"#f1b6da\"],[0.4,\"#fde0ef\"],[0.5,\"#f7f7f7\"],[0.6,\"#e6f5d0\"],[0.7,\"#b8e186\"],[0.8,\"#7fbc41\"],[0.9,\"#4d9221\"],[1,\"#276419\"]],\"sequential\":[[0.0,\"#0d0887\"],[0.1111111111111111,\"#46039f\"],[0.2222222222222222,\"#7201a8\"],[0.3333333333333333,\"#9c179e\"],[0.4444444444444444,\"#bd3786\"],[0.5555555555555556,\"#d8576b\"],[0.6666666666666666,\"#ed7953\"],[0.7777777777777778,\"#fb9f3a\"],[0.8888888888888888,\"#fdca26\"],[1.0,\"#f0f921\"]],\"sequentialminus\":[[0.0,\"#0d0887\"],[0.1111111111111111,\"#46039f\"],[0.2222222222222222,\"#7201a8\"],[0.3333333333333333,\"#9c179e\"],[0.4444444444444444,\"#bd3786\"],[0.5555555555555556,\"#d8576b\"],[0.6666666666666666,\"#ed7953\"],[0.7777777777777778,\"#fb9f3a\"],[0.8888888888888888,\"#fdca26\"],[1.0,\"#f0f921\"]]},\"colorway\":[\"#636efa\",\"#EF553B\",\"#00cc96\",\"#ab63fa\",\"#FFA15A\",\"#19d3f3\",\"#FF6692\",\"#B6E880\",\"#FF97FF\",\"#FECB52\"],\"font\":{\"color\":\"#2a3f5f\"},\"geo\":{\"bgcolor\":\"white\",\"lakecolor\":\"white\",\"landcolor\":\"#E5ECF6\",\"showlakes\":true,\"showland\":true,\"subunitcolor\":\"white\"},\"hoverlabel\":{\"align\":\"left\"},\"hovermode\":\"closest\",\"mapbox\":{\"style\":\"light\"},\"paper_bgcolor\":\"white\",\"plot_bgcolor\":\"#E5ECF6\",\"polar\":{\"angularaxis\":{\"gridcolor\":\"white\",\"linecolor\":\"white\",\"ticks\":\"\"},\"bgcolor\":\"#E5ECF6\",\"radialaxis\":{\"gridcolor\":\"white\",\"linecolor\":\"white\",\"ticks\":\"\"}},\"scene\":{\"xaxis\":{\"backgroundcolor\":\"#E5ECF6\",\"gridcolor\":\"white\",\"gridwidth\":2,\"linecolor\":\"white\",\"showbackground\":true,\"ticks\":\"\",\"zerolinecolor\":\"white\"},\"yaxis\":{\"backgroundcolor\":\"#E5ECF6\",\"gridcolor\":\"white\",\"gridwidth\":2,\"linecolor\":\"white\",\"showbackground\":true,\"ticks\":\"\",\"zerolinecolor\":\"white\"},\"zaxis\":{\"backgroundcolor\":\"#E5ECF6\",\"gridcolor\":\"white\",\"gridwidth\":2,\"linecolor\":\"white\",\"showbackground\":true,\"ticks\":\"\",\"zerolinecolor\":\"white\"}},\"shapedefaults\":{\"line\":{\"color\":\"#2a3f5f\"}},\"ternary\":{\"aaxis\":{\"gridcolor\":\"white\",\"linecolor\":\"white\",\"ticks\":\"\"},\"baxis\":{\"gridcolor\":\"white\",\"linecolor\":\"white\",\"ticks\":\"\"},\"bgcolor\":\"#E5ECF6\",\"caxis\":{\"gridcolor\":\"white\",\"linecolor\":\"white\",\"ticks\":\"\"}},\"title\":{\"x\":0.05},\"xaxis\":{\"automargin\":true,\"gridcolor\":\"white\",\"linecolor\":\"white\",\"ticks\":\"\",\"title\":{\"standoff\":15},\"zerolinecolor\":\"white\",\"zerolinewidth\":2},\"yaxis\":{\"automargin\":true,\"gridcolor\":\"white\",\"linecolor\":\"white\",\"ticks\":\"\",\"title\":{\"standoff\":15},\"zerolinecolor\":\"white\",\"zerolinewidth\":2}}},\"xaxis\":{\"anchor\":\"y\",\"domain\":[0.0,1.0],\"title\":{\"text\":\"race_indian_alaska_rate\"}},\"yaxis\":{\"anchor\":\"x\",\"domain\":[0.0,1.0],\"title\":{\"text\":\"solar_systems_per_thousand_households\"}},\"legend\":{\"tracegroupgap\":0},\"margin\":{\"t\":60}},                        {\"responsive\": true}                    ).then(function(){\n                            \nvar gd = document.getElementById('5ce9717b-23ad-4f9c-b99d-9539b820ce9b');\nvar x = new MutationObserver(function (mutations, observer) {{\n        var display = window.getComputedStyle(gd).display;\n        if (!display || display === 'none') {{\n            console.log([gd, 'removed!']);\n            Plotly.purge(gd);\n            observer.disconnect();\n        }}\n}});\n\n// Listen for the removal of the full notebook cells\nvar notebookContainer = gd.closest('#notebook-container');\nif (notebookContainer) {{\n    x.observe(notebookContainer, {childList: true});\n}}\n\n// Listen for the clearing of the current output cell\nvar outputEl = gd.closest('.output');\nif (outputEl) {{\n    x.observe(outputEl, {childList: true});\n}}\n\n                        })                };                });            </script>        </div>"
     },
     "metadata": {},
     "output_type": "display_data"
    },
    {
     "name": "stdout",
     "output_type": "stream",
     "text": [
      "results:  <statsmodels.regression.linear_model.RegressionResultsWrapper object at 0x7fabd004c9d0>\n",
      "alpha:  37.685589558419395\n",
      "beta:  -429.8142004664769\n",
      "p_beta:  1.1528884574578681e-09\n",
      "r_squared:  0.5901044481312866\n"
     ]
    }
   ]
  },
  {
   "cell_type": "code",
   "source": [
    "hi6 = median_dataframe(\"race_islander_binned\", 'race_islander_rate')\n",
    "plot_scatter(hi6, 'race_islander_rate', 'solar_systems_per_thousand_households', 'Plum', 'race_islander')"
   ],
   "metadata": {
    "execution": {
     "iopub.status.busy": "2022-01-30T17:06:36.947531Z",
     "iopub.execute_input": "2022-01-30T17:06:36.947878Z",
     "iopub.status.idle": "2022-01-30T17:06:37.070101Z",
     "shell.execute_reply.started": "2022-01-30T17:06:36.947831Z",
     "shell.execute_reply": "2022-01-30T17:06:37.068752Z"
    },
    "trusted": true
   },
   "execution_count": 37,
   "outputs": [
    {
     "data": {
      "application/vnd.plotly.v1+json": {
       "data": [
        {
         "hovertemplate": "race_islander_rate=%{x}<br>solar_systems_per_thousand_households=%{y}<extra></extra>",
         "legendgroup": "",
         "marker": {
          "color": "Plum",
          "symbol": "circle"
         },
         "mode": "markers",
         "name": "",
         "orientation": "v",
         "showlegend": false,
         "x": [
          0.0,
          8.63060989643E-4,
          0.00134703457336,
          0.00176639443365495,
          0.00201460589272,
          0.0023251007605749998,
          0.00272651006711,
          0.00320564201215,
          0.00359016846175,
          0.0040707295077650005,
          0.004644956866379999,
          0.00532150776053,
          0.00603774960541,
          0.00694654183026,
          0.00781287602019,
          0.00906635802469,
          0.01058511365105,
          0.0125715764524,
          0.0148825065274,
          0.01915356238095,
          0.0240407578411,
          0.03214272232875,
          0.05626197350444995
         ],
         "xaxis": "x",
         "y": [
          32.982134677049935,
          37.46498599439776,
          41.263440860215056,
          30.693524011940553,
          29.780564263322884,
          32.20679407695855,
          33.13253012048193,
          35.72182908868853,
          41.18268215417107,
          27.749345375771114,
          46.12993661628474,
          27.994791666666668,
          32.2218719832936,
          29.947916666666668,
          35.73201872606043,
          32.54237288135593,
          30.109481678988406,
          30.24715685170589,
          35.2,
          31.99265420609982,
          41.95323246217331,
          29.16683271121974,
          28.93664812295207
         ],
         "yaxis": "y",
         "type": "scatter"
        },
        {
         "hovertemplate": "<b>OLS trendline</b><br>solar_systems_per_thousand_households = -81.5528 * race_islander_rate + 34.4879<br>R<sup>2</sup>=0.044558<br><br>race_islander_rate=%{x}<br>solar_systems_per_thousand_households=%{y} <b>(trend)</b><extra></extra>",
         "legendgroup": "",
         "line": {
          "color": "Plum"
         },
         "marker": {
          "color": "Plum",
          "symbol": "circle"
         },
         "mode": "lines",
         "name": "",
         "showlegend": false,
         "x": [
          0.0,
          8.63060989643E-4,
          0.00134703457336,
          0.00176639443365495,
          0.00201460589272,
          0.0023251007605749998,
          0.00272651006711,
          0.00320564201215,
          0.00359016846175,
          0.0040707295077650005,
          0.004644956866379999,
          0.00532150776053,
          0.00603774960541,
          0.00694654183026,
          0.00781287602019,
          0.00906635802469,
          0.01058511365105,
          0.0125715764524,
          0.0148825065274,
          0.01915356238095,
          0.0240407578411,
          0.03214272232875,
          0.05626197350444995
         ],
         "xaxis": "x",
         "y": [
          34.487922763406075,
          34.417537724998994,
          34.37806832516895,
          34.343868355262465,
          34.323626016321164,
          34.29830429113437,
          34.26556823910969,
          34.22649368845986,
          34.195134480653664,
          34.15594338282093,
          34.10911353513284,
          34.053938916837566,
          33.995527390461554,
          33.92141284187492,
          33.85076086482656,
          33.748535900324555,
          33.624677129768216,
          33.46267553052423,
          33.2742127173084,
          32.92589616274456,
          32.52733169940592,
          31.866593827483392,
          29.89960141243526
         ],
         "yaxis": "y",
         "type": "scatter"
        }
       ],
       "layout": {
        "template": {
         "data": {
          "bar": [
           {
            "error_x": {
             "color": "#2a3f5f"
            },
            "error_y": {
             "color": "#2a3f5f"
            },
            "marker": {
             "line": {
              "color": "#E5ECF6",
              "width": 0.5
             },
             "pattern": {
              "fillmode": "overlay",
              "size": 10,
              "solidity": 0.2
             }
            },
            "type": "bar"
           }
          ],
          "barpolar": [
           {
            "marker": {
             "line": {
              "color": "#E5ECF6",
              "width": 0.5
             },
             "pattern": {
              "fillmode": "overlay",
              "size": 10,
              "solidity": 0.2
             }
            },
            "type": "barpolar"
           }
          ],
          "carpet": [
           {
            "aaxis": {
             "endlinecolor": "#2a3f5f",
             "gridcolor": "white",
             "linecolor": "white",
             "minorgridcolor": "white",
             "startlinecolor": "#2a3f5f"
            },
            "baxis": {
             "endlinecolor": "#2a3f5f",
             "gridcolor": "white",
             "linecolor": "white",
             "minorgridcolor": "white",
             "startlinecolor": "#2a3f5f"
            },
            "type": "carpet"
           }
          ],
          "choropleth": [
           {
            "colorbar": {
             "outlinewidth": 0,
             "ticks": ""
            },
            "type": "choropleth"
           }
          ],
          "contour": [
           {
            "colorbar": {
             "outlinewidth": 0,
             "ticks": ""
            },
            "colorscale": [
             [
              0.0,
              "#0d0887"
             ],
             [
              0.1111111111111111,
              "#46039f"
             ],
             [
              0.2222222222222222,
              "#7201a8"
             ],
             [
              0.3333333333333333,
              "#9c179e"
             ],
             [
              0.4444444444444444,
              "#bd3786"
             ],
             [
              0.5555555555555556,
              "#d8576b"
             ],
             [
              0.6666666666666666,
              "#ed7953"
             ],
             [
              0.7777777777777778,
              "#fb9f3a"
             ],
             [
              0.8888888888888888,
              "#fdca26"
             ],
             [
              1.0,
              "#f0f921"
             ]
            ],
            "type": "contour"
           }
          ],
          "contourcarpet": [
           {
            "colorbar": {
             "outlinewidth": 0,
             "ticks": ""
            },
            "type": "contourcarpet"
           }
          ],
          "heatmap": [
           {
            "colorbar": {
             "outlinewidth": 0,
             "ticks": ""
            },
            "colorscale": [
             [
              0.0,
              "#0d0887"
             ],
             [
              0.1111111111111111,
              "#46039f"
             ],
             [
              0.2222222222222222,
              "#7201a8"
             ],
             [
              0.3333333333333333,
              "#9c179e"
             ],
             [
              0.4444444444444444,
              "#bd3786"
             ],
             [
              0.5555555555555556,
              "#d8576b"
             ],
             [
              0.6666666666666666,
              "#ed7953"
             ],
             [
              0.7777777777777778,
              "#fb9f3a"
             ],
             [
              0.8888888888888888,
              "#fdca26"
             ],
             [
              1.0,
              "#f0f921"
             ]
            ],
            "type": "heatmap"
           }
          ],
          "heatmapgl": [
           {
            "colorbar": {
             "outlinewidth": 0,
             "ticks": ""
            },
            "colorscale": [
             [
              0.0,
              "#0d0887"
             ],
             [
              0.1111111111111111,
              "#46039f"
             ],
             [
              0.2222222222222222,
              "#7201a8"
             ],
             [
              0.3333333333333333,
              "#9c179e"
             ],
             [
              0.4444444444444444,
              "#bd3786"
             ],
             [
              0.5555555555555556,
              "#d8576b"
             ],
             [
              0.6666666666666666,
              "#ed7953"
             ],
             [
              0.7777777777777778,
              "#fb9f3a"
             ],
             [
              0.8888888888888888,
              "#fdca26"
             ],
             [
              1.0,
              "#f0f921"
             ]
            ],
            "type": "heatmapgl"
           }
          ],
          "histogram": [
           {
            "marker": {
             "pattern": {
              "fillmode": "overlay",
              "size": 10,
              "solidity": 0.2
             }
            },
            "type": "histogram"
           }
          ],
          "histogram2d": [
           {
            "colorbar": {
             "outlinewidth": 0,
             "ticks": ""
            },
            "colorscale": [
             [
              0.0,
              "#0d0887"
             ],
             [
              0.1111111111111111,
              "#46039f"
             ],
             [
              0.2222222222222222,
              "#7201a8"
             ],
             [
              0.3333333333333333,
              "#9c179e"
             ],
             [
              0.4444444444444444,
              "#bd3786"
             ],
             [
              0.5555555555555556,
              "#d8576b"
             ],
             [
              0.6666666666666666,
              "#ed7953"
             ],
             [
              0.7777777777777778,
              "#fb9f3a"
             ],
             [
              0.8888888888888888,
              "#fdca26"
             ],
             [
              1.0,
              "#f0f921"
             ]
            ],
            "type": "histogram2d"
           }
          ],
          "histogram2dcontour": [
           {
            "colorbar": {
             "outlinewidth": 0,
             "ticks": ""
            },
            "colorscale": [
             [
              0.0,
              "#0d0887"
             ],
             [
              0.1111111111111111,
              "#46039f"
             ],
             [
              0.2222222222222222,
              "#7201a8"
             ],
             [
              0.3333333333333333,
              "#9c179e"
             ],
             [
              0.4444444444444444,
              "#bd3786"
             ],
             [
              0.5555555555555556,
              "#d8576b"
             ],
             [
              0.6666666666666666,
              "#ed7953"
             ],
             [
              0.7777777777777778,
              "#fb9f3a"
             ],
             [
              0.8888888888888888,
              "#fdca26"
             ],
             [
              1.0,
              "#f0f921"
             ]
            ],
            "type": "histogram2dcontour"
           }
          ],
          "mesh3d": [
           {
            "colorbar": {
             "outlinewidth": 0,
             "ticks": ""
            },
            "type": "mesh3d"
           }
          ],
          "parcoords": [
           {
            "line": {
             "colorbar": {
              "outlinewidth": 0,
              "ticks": ""
             }
            },
            "type": "parcoords"
           }
          ],
          "pie": [
           {
            "automargin": true,
            "type": "pie"
           }
          ],
          "scatter": [
           {
            "marker": {
             "colorbar": {
              "outlinewidth": 0,
              "ticks": ""
             }
            },
            "type": "scatter"
           }
          ],
          "scatter3d": [
           {
            "line": {
             "colorbar": {
              "outlinewidth": 0,
              "ticks": ""
             }
            },
            "marker": {
             "colorbar": {
              "outlinewidth": 0,
              "ticks": ""
             }
            },
            "type": "scatter3d"
           }
          ],
          "scattercarpet": [
           {
            "marker": {
             "colorbar": {
              "outlinewidth": 0,
              "ticks": ""
             }
            },
            "type": "scattercarpet"
           }
          ],
          "scattergeo": [
           {
            "marker": {
             "colorbar": {
              "outlinewidth": 0,
              "ticks": ""
             }
            },
            "type": "scattergeo"
           }
          ],
          "scattergl": [
           {
            "marker": {
             "colorbar": {
              "outlinewidth": 0,
              "ticks": ""
             }
            },
            "type": "scattergl"
           }
          ],
          "scattermapbox": [
           {
            "marker": {
             "colorbar": {
              "outlinewidth": 0,
              "ticks": ""
             }
            },
            "type": "scattermapbox"
           }
          ],
          "scatterpolar": [
           {
            "marker": {
             "colorbar": {
              "outlinewidth": 0,
              "ticks": ""
             }
            },
            "type": "scatterpolar"
           }
          ],
          "scatterpolargl": [
           {
            "marker": {
             "colorbar": {
              "outlinewidth": 0,
              "ticks": ""
             }
            },
            "type": "scatterpolargl"
           }
          ],
          "scatterternary": [
           {
            "marker": {
             "colorbar": {
              "outlinewidth": 0,
              "ticks": ""
             }
            },
            "type": "scatterternary"
           }
          ],
          "surface": [
           {
            "colorbar": {
             "outlinewidth": 0,
             "ticks": ""
            },
            "colorscale": [
             [
              0.0,
              "#0d0887"
             ],
             [
              0.1111111111111111,
              "#46039f"
             ],
             [
              0.2222222222222222,
              "#7201a8"
             ],
             [
              0.3333333333333333,
              "#9c179e"
             ],
             [
              0.4444444444444444,
              "#bd3786"
             ],
             [
              0.5555555555555556,
              "#d8576b"
             ],
             [
              0.6666666666666666,
              "#ed7953"
             ],
             [
              0.7777777777777778,
              "#fb9f3a"
             ],
             [
              0.8888888888888888,
              "#fdca26"
             ],
             [
              1.0,
              "#f0f921"
             ]
            ],
            "type": "surface"
           }
          ],
          "table": [
           {
            "cells": {
             "fill": {
              "color": "#EBF0F8"
             },
             "line": {
              "color": "white"
             }
            },
            "header": {
             "fill": {
              "color": "#C8D4E3"
             },
             "line": {
              "color": "white"
             }
            },
            "type": "table"
           }
          ]
         },
         "layout": {
          "annotationdefaults": {
           "arrowcolor": "#2a3f5f",
           "arrowhead": 0,
           "arrowwidth": 1
          },
          "autotypenumbers": "strict",
          "coloraxis": {
           "colorbar": {
            "outlinewidth": 0,
            "ticks": ""
           }
          },
          "colorscale": {
           "diverging": [
            [
             0,
             "#8e0152"
            ],
            [
             0.1,
             "#c51b7d"
            ],
            [
             0.2,
             "#de77ae"
            ],
            [
             0.3,
             "#f1b6da"
            ],
            [
             0.4,
             "#fde0ef"
            ],
            [
             0.5,
             "#f7f7f7"
            ],
            [
             0.6,
             "#e6f5d0"
            ],
            [
             0.7,
             "#b8e186"
            ],
            [
             0.8,
             "#7fbc41"
            ],
            [
             0.9,
             "#4d9221"
            ],
            [
             1,
             "#276419"
            ]
           ],
           "sequential": [
            [
             0.0,
             "#0d0887"
            ],
            [
             0.1111111111111111,
             "#46039f"
            ],
            [
             0.2222222222222222,
             "#7201a8"
            ],
            [
             0.3333333333333333,
             "#9c179e"
            ],
            [
             0.4444444444444444,
             "#bd3786"
            ],
            [
             0.5555555555555556,
             "#d8576b"
            ],
            [
             0.6666666666666666,
             "#ed7953"
            ],
            [
             0.7777777777777778,
             "#fb9f3a"
            ],
            [
             0.8888888888888888,
             "#fdca26"
            ],
            [
             1.0,
             "#f0f921"
            ]
           ],
           "sequentialminus": [
            [
             0.0,
             "#0d0887"
            ],
            [
             0.1111111111111111,
             "#46039f"
            ],
            [
             0.2222222222222222,
             "#7201a8"
            ],
            [
             0.3333333333333333,
             "#9c179e"
            ],
            [
             0.4444444444444444,
             "#bd3786"
            ],
            [
             0.5555555555555556,
             "#d8576b"
            ],
            [
             0.6666666666666666,
             "#ed7953"
            ],
            [
             0.7777777777777778,
             "#fb9f3a"
            ],
            [
             0.8888888888888888,
             "#fdca26"
            ],
            [
             1.0,
             "#f0f921"
            ]
           ]
          },
          "colorway": [
           "#636efa",
           "#EF553B",
           "#00cc96",
           "#ab63fa",
           "#FFA15A",
           "#19d3f3",
           "#FF6692",
           "#B6E880",
           "#FF97FF",
           "#FECB52"
          ],
          "font": {
           "color": "#2a3f5f"
          },
          "geo": {
           "bgcolor": "white",
           "lakecolor": "white",
           "landcolor": "#E5ECF6",
           "showlakes": true,
           "showland": true,
           "subunitcolor": "white"
          },
          "hoverlabel": {
           "align": "left"
          },
          "hovermode": "closest",
          "mapbox": {
           "style": "light"
          },
          "paper_bgcolor": "white",
          "plot_bgcolor": "#E5ECF6",
          "polar": {
           "angularaxis": {
            "gridcolor": "white",
            "linecolor": "white",
            "ticks": ""
           },
           "bgcolor": "#E5ECF6",
           "radialaxis": {
            "gridcolor": "white",
            "linecolor": "white",
            "ticks": ""
           }
          },
          "scene": {
           "xaxis": {
            "backgroundcolor": "#E5ECF6",
            "gridcolor": "white",
            "gridwidth": 2,
            "linecolor": "white",
            "showbackground": true,
            "ticks": "",
            "zerolinecolor": "white"
           },
           "yaxis": {
            "backgroundcolor": "#E5ECF6",
            "gridcolor": "white",
            "gridwidth": 2,
            "linecolor": "white",
            "showbackground": true,
            "ticks": "",
            "zerolinecolor": "white"
           },
           "zaxis": {
            "backgroundcolor": "#E5ECF6",
            "gridcolor": "white",
            "gridwidth": 2,
            "linecolor": "white",
            "showbackground": true,
            "ticks": "",
            "zerolinecolor": "white"
           }
          },
          "shapedefaults": {
           "line": {
            "color": "#2a3f5f"
           }
          },
          "ternary": {
           "aaxis": {
            "gridcolor": "white",
            "linecolor": "white",
            "ticks": ""
           },
           "baxis": {
            "gridcolor": "white",
            "linecolor": "white",
            "ticks": ""
           },
           "bgcolor": "#E5ECF6",
           "caxis": {
            "gridcolor": "white",
            "linecolor": "white",
            "ticks": ""
           }
          },
          "title": {
           "x": 0.05
          },
          "xaxis": {
           "automargin": true,
           "gridcolor": "white",
           "linecolor": "white",
           "ticks": "",
           "title": {
            "standoff": 15
           },
           "zerolinecolor": "white",
           "zerolinewidth": 2
          },
          "yaxis": {
           "automargin": true,
           "gridcolor": "white",
           "linecolor": "white",
           "ticks": "",
           "title": {
            "standoff": 15
           },
           "zerolinecolor": "white",
           "zerolinewidth": 2
          }
         }
        },
        "xaxis": {
         "anchor": "y",
         "domain": [
          0.0,
          1.0
         ],
         "title": {
          "text": "race_islander_rate"
         }
        },
        "yaxis": {
         "anchor": "x",
         "domain": [
          0.0,
          1.0
         ],
         "title": {
          "text": "solar_systems_per_thousand_households"
         }
        },
        "legend": {
         "tracegroupgap": 0
        },
        "margin": {
         "t": 60
        }
       },
       "config": {
        "plotlyServerURL": "https://plot.ly"
       }
      },
      "text/html": "<div>                            <div id=\"7d1037fe-748f-40d1-9d8a-89621ea8e045\" class=\"plotly-graph-div\" style=\"height:525px; width:100%;\"></div>            <script type=\"text/javascript\">                require([\"plotly\"], function(Plotly) {                    window.PLOTLYENV=window.PLOTLYENV || {};                                    if (document.getElementById(\"7d1037fe-748f-40d1-9d8a-89621ea8e045\")) {                    Plotly.newPlot(                        \"7d1037fe-748f-40d1-9d8a-89621ea8e045\",                        [{\"hovertemplate\":\"race_islander_rate=%{x}<br>solar_systems_per_thousand_households=%{y}<extra></extra>\",\"legendgroup\":\"\",\"marker\":{\"color\":\"Plum\",\"symbol\":\"circle\"},\"mode\":\"markers\",\"name\":\"\",\"orientation\":\"v\",\"showlegend\":false,\"x\":[0.0,0.000863060989643,0.00134703457336,0.00176639443365495,0.00201460589272,0.0023251007605749998,0.00272651006711,0.00320564201215,0.00359016846175,0.0040707295077650005,0.004644956866379999,0.00532150776053,0.00603774960541,0.00694654183026,0.00781287602019,0.00906635802469,0.01058511365105,0.0125715764524,0.0148825065274,0.01915356238095,0.0240407578411,0.03214272232875,0.05626197350444995],\"xaxis\":\"x\",\"y\":[32.982134677049935,37.46498599439776,41.263440860215056,30.693524011940553,29.780564263322884,32.20679407695855,33.13253012048193,35.72182908868853,41.18268215417107,27.749345375771114,46.12993661628474,27.994791666666668,32.2218719832936,29.947916666666668,35.73201872606043,32.54237288135593,30.109481678988406,30.24715685170589,35.2,31.99265420609982,41.95323246217331,29.16683271121974,28.93664812295207],\"yaxis\":\"y\",\"type\":\"scatter\"},{\"hovertemplate\":\"<b>OLS trendline</b><br>solar_systems_per_thousand_households = -81.5528 * race_islander_rate + 34.4879<br>R<sup>2</sup>=0.044558<br><br>race_islander_rate=%{x}<br>solar_systems_per_thousand_households=%{y} <b>(trend)</b><extra></extra>\",\"legendgroup\":\"\",\"line\":{\"color\":\"Plum\"},\"marker\":{\"color\":\"Plum\",\"symbol\":\"circle\"},\"mode\":\"lines\",\"name\":\"\",\"showlegend\":false,\"x\":[0.0,0.000863060989643,0.00134703457336,0.00176639443365495,0.00201460589272,0.0023251007605749998,0.00272651006711,0.00320564201215,0.00359016846175,0.0040707295077650005,0.004644956866379999,0.00532150776053,0.00603774960541,0.00694654183026,0.00781287602019,0.00906635802469,0.01058511365105,0.0125715764524,0.0148825065274,0.01915356238095,0.0240407578411,0.03214272232875,0.05626197350444995],\"xaxis\":\"x\",\"y\":[34.487922763406075,34.417537724998994,34.37806832516895,34.343868355262465,34.323626016321164,34.29830429113437,34.26556823910969,34.22649368845986,34.195134480653664,34.15594338282093,34.10911353513284,34.053938916837566,33.995527390461554,33.92141284187492,33.85076086482656,33.748535900324555,33.624677129768216,33.46267553052423,33.2742127173084,32.92589616274456,32.52733169940592,31.866593827483392,29.89960141243526],\"yaxis\":\"y\",\"type\":\"scatter\"}],                        {\"template\":{\"data\":{\"bar\":[{\"error_x\":{\"color\":\"#2a3f5f\"},\"error_y\":{\"color\":\"#2a3f5f\"},\"marker\":{\"line\":{\"color\":\"#E5ECF6\",\"width\":0.5},\"pattern\":{\"fillmode\":\"overlay\",\"size\":10,\"solidity\":0.2}},\"type\":\"bar\"}],\"barpolar\":[{\"marker\":{\"line\":{\"color\":\"#E5ECF6\",\"width\":0.5},\"pattern\":{\"fillmode\":\"overlay\",\"size\":10,\"solidity\":0.2}},\"type\":\"barpolar\"}],\"carpet\":[{\"aaxis\":{\"endlinecolor\":\"#2a3f5f\",\"gridcolor\":\"white\",\"linecolor\":\"white\",\"minorgridcolor\":\"white\",\"startlinecolor\":\"#2a3f5f\"},\"baxis\":{\"endlinecolor\":\"#2a3f5f\",\"gridcolor\":\"white\",\"linecolor\":\"white\",\"minorgridcolor\":\"white\",\"startlinecolor\":\"#2a3f5f\"},\"type\":\"carpet\"}],\"choropleth\":[{\"colorbar\":{\"outlinewidth\":0,\"ticks\":\"\"},\"type\":\"choropleth\"}],\"contour\":[{\"colorbar\":{\"outlinewidth\":0,\"ticks\":\"\"},\"colorscale\":[[0.0,\"#0d0887\"],[0.1111111111111111,\"#46039f\"],[0.2222222222222222,\"#7201a8\"],[0.3333333333333333,\"#9c179e\"],[0.4444444444444444,\"#bd3786\"],[0.5555555555555556,\"#d8576b\"],[0.6666666666666666,\"#ed7953\"],[0.7777777777777778,\"#fb9f3a\"],[0.8888888888888888,\"#fdca26\"],[1.0,\"#f0f921\"]],\"type\":\"contour\"}],\"contourcarpet\":[{\"colorbar\":{\"outlinewidth\":0,\"ticks\":\"\"},\"type\":\"contourcarpet\"}],\"heatmap\":[{\"colorbar\":{\"outlinewidth\":0,\"ticks\":\"\"},\"colorscale\":[[0.0,\"#0d0887\"],[0.1111111111111111,\"#46039f\"],[0.2222222222222222,\"#7201a8\"],[0.3333333333333333,\"#9c179e\"],[0.4444444444444444,\"#bd3786\"],[0.5555555555555556,\"#d8576b\"],[0.6666666666666666,\"#ed7953\"],[0.7777777777777778,\"#fb9f3a\"],[0.8888888888888888,\"#fdca26\"],[1.0,\"#f0f921\"]],\"type\":\"heatmap\"}],\"heatmapgl\":[{\"colorbar\":{\"outlinewidth\":0,\"ticks\":\"\"},\"colorscale\":[[0.0,\"#0d0887\"],[0.1111111111111111,\"#46039f\"],[0.2222222222222222,\"#7201a8\"],[0.3333333333333333,\"#9c179e\"],[0.4444444444444444,\"#bd3786\"],[0.5555555555555556,\"#d8576b\"],[0.6666666666666666,\"#ed7953\"],[0.7777777777777778,\"#fb9f3a\"],[0.8888888888888888,\"#fdca26\"],[1.0,\"#f0f921\"]],\"type\":\"heatmapgl\"}],\"histogram\":[{\"marker\":{\"pattern\":{\"fillmode\":\"overlay\",\"size\":10,\"solidity\":0.2}},\"type\":\"histogram\"}],\"histogram2d\":[{\"colorbar\":{\"outlinewidth\":0,\"ticks\":\"\"},\"colorscale\":[[0.0,\"#0d0887\"],[0.1111111111111111,\"#46039f\"],[0.2222222222222222,\"#7201a8\"],[0.3333333333333333,\"#9c179e\"],[0.4444444444444444,\"#bd3786\"],[0.5555555555555556,\"#d8576b\"],[0.6666666666666666,\"#ed7953\"],[0.7777777777777778,\"#fb9f3a\"],[0.8888888888888888,\"#fdca26\"],[1.0,\"#f0f921\"]],\"type\":\"histogram2d\"}],\"histogram2dcontour\":[{\"colorbar\":{\"outlinewidth\":0,\"ticks\":\"\"},\"colorscale\":[[0.0,\"#0d0887\"],[0.1111111111111111,\"#46039f\"],[0.2222222222222222,\"#7201a8\"],[0.3333333333333333,\"#9c179e\"],[0.4444444444444444,\"#bd3786\"],[0.5555555555555556,\"#d8576b\"],[0.6666666666666666,\"#ed7953\"],[0.7777777777777778,\"#fb9f3a\"],[0.8888888888888888,\"#fdca26\"],[1.0,\"#f0f921\"]],\"type\":\"histogram2dcontour\"}],\"mesh3d\":[{\"colorbar\":{\"outlinewidth\":0,\"ticks\":\"\"},\"type\":\"mesh3d\"}],\"parcoords\":[{\"line\":{\"colorbar\":{\"outlinewidth\":0,\"ticks\":\"\"}},\"type\":\"parcoords\"}],\"pie\":[{\"automargin\":true,\"type\":\"pie\"}],\"scatter\":[{\"marker\":{\"colorbar\":{\"outlinewidth\":0,\"ticks\":\"\"}},\"type\":\"scatter\"}],\"scatter3d\":[{\"line\":{\"colorbar\":{\"outlinewidth\":0,\"ticks\":\"\"}},\"marker\":{\"colorbar\":{\"outlinewidth\":0,\"ticks\":\"\"}},\"type\":\"scatter3d\"}],\"scattercarpet\":[{\"marker\":{\"colorbar\":{\"outlinewidth\":0,\"ticks\":\"\"}},\"type\":\"scattercarpet\"}],\"scattergeo\":[{\"marker\":{\"colorbar\":{\"outlinewidth\":0,\"ticks\":\"\"}},\"type\":\"scattergeo\"}],\"scattergl\":[{\"marker\":{\"colorbar\":{\"outlinewidth\":0,\"ticks\":\"\"}},\"type\":\"scattergl\"}],\"scattermapbox\":[{\"marker\":{\"colorbar\":{\"outlinewidth\":0,\"ticks\":\"\"}},\"type\":\"scattermapbox\"}],\"scatterpolar\":[{\"marker\":{\"colorbar\":{\"outlinewidth\":0,\"ticks\":\"\"}},\"type\":\"scatterpolar\"}],\"scatterpolargl\":[{\"marker\":{\"colorbar\":{\"outlinewidth\":0,\"ticks\":\"\"}},\"type\":\"scatterpolargl\"}],\"scatterternary\":[{\"marker\":{\"colorbar\":{\"outlinewidth\":0,\"ticks\":\"\"}},\"type\":\"scatterternary\"}],\"surface\":[{\"colorbar\":{\"outlinewidth\":0,\"ticks\":\"\"},\"colorscale\":[[0.0,\"#0d0887\"],[0.1111111111111111,\"#46039f\"],[0.2222222222222222,\"#7201a8\"],[0.3333333333333333,\"#9c179e\"],[0.4444444444444444,\"#bd3786\"],[0.5555555555555556,\"#d8576b\"],[0.6666666666666666,\"#ed7953\"],[0.7777777777777778,\"#fb9f3a\"],[0.8888888888888888,\"#fdca26\"],[1.0,\"#f0f921\"]],\"type\":\"surface\"}],\"table\":[{\"cells\":{\"fill\":{\"color\":\"#EBF0F8\"},\"line\":{\"color\":\"white\"}},\"header\":{\"fill\":{\"color\":\"#C8D4E3\"},\"line\":{\"color\":\"white\"}},\"type\":\"table\"}]},\"layout\":{\"annotationdefaults\":{\"arrowcolor\":\"#2a3f5f\",\"arrowhead\":0,\"arrowwidth\":1},\"autotypenumbers\":\"strict\",\"coloraxis\":{\"colorbar\":{\"outlinewidth\":0,\"ticks\":\"\"}},\"colorscale\":{\"diverging\":[[0,\"#8e0152\"],[0.1,\"#c51b7d\"],[0.2,\"#de77ae\"],[0.3,\"#f1b6da\"],[0.4,\"#fde0ef\"],[0.5,\"#f7f7f7\"],[0.6,\"#e6f5d0\"],[0.7,\"#b8e186\"],[0.8,\"#7fbc41\"],[0.9,\"#4d9221\"],[1,\"#276419\"]],\"sequential\":[[0.0,\"#0d0887\"],[0.1111111111111111,\"#46039f\"],[0.2222222222222222,\"#7201a8\"],[0.3333333333333333,\"#9c179e\"],[0.4444444444444444,\"#bd3786\"],[0.5555555555555556,\"#d8576b\"],[0.6666666666666666,\"#ed7953\"],[0.7777777777777778,\"#fb9f3a\"],[0.8888888888888888,\"#fdca26\"],[1.0,\"#f0f921\"]],\"sequentialminus\":[[0.0,\"#0d0887\"],[0.1111111111111111,\"#46039f\"],[0.2222222222222222,\"#7201a8\"],[0.3333333333333333,\"#9c179e\"],[0.4444444444444444,\"#bd3786\"],[0.5555555555555556,\"#d8576b\"],[0.6666666666666666,\"#ed7953\"],[0.7777777777777778,\"#fb9f3a\"],[0.8888888888888888,\"#fdca26\"],[1.0,\"#f0f921\"]]},\"colorway\":[\"#636efa\",\"#EF553B\",\"#00cc96\",\"#ab63fa\",\"#FFA15A\",\"#19d3f3\",\"#FF6692\",\"#B6E880\",\"#FF97FF\",\"#FECB52\"],\"font\":{\"color\":\"#2a3f5f\"},\"geo\":{\"bgcolor\":\"white\",\"lakecolor\":\"white\",\"landcolor\":\"#E5ECF6\",\"showlakes\":true,\"showland\":true,\"subunitcolor\":\"white\"},\"hoverlabel\":{\"align\":\"left\"},\"hovermode\":\"closest\",\"mapbox\":{\"style\":\"light\"},\"paper_bgcolor\":\"white\",\"plot_bgcolor\":\"#E5ECF6\",\"polar\":{\"angularaxis\":{\"gridcolor\":\"white\",\"linecolor\":\"white\",\"ticks\":\"\"},\"bgcolor\":\"#E5ECF6\",\"radialaxis\":{\"gridcolor\":\"white\",\"linecolor\":\"white\",\"ticks\":\"\"}},\"scene\":{\"xaxis\":{\"backgroundcolor\":\"#E5ECF6\",\"gridcolor\":\"white\",\"gridwidth\":2,\"linecolor\":\"white\",\"showbackground\":true,\"ticks\":\"\",\"zerolinecolor\":\"white\"},\"yaxis\":{\"backgroundcolor\":\"#E5ECF6\",\"gridcolor\":\"white\",\"gridwidth\":2,\"linecolor\":\"white\",\"showbackground\":true,\"ticks\":\"\",\"zerolinecolor\":\"white\"},\"zaxis\":{\"backgroundcolor\":\"#E5ECF6\",\"gridcolor\":\"white\",\"gridwidth\":2,\"linecolor\":\"white\",\"showbackground\":true,\"ticks\":\"\",\"zerolinecolor\":\"white\"}},\"shapedefaults\":{\"line\":{\"color\":\"#2a3f5f\"}},\"ternary\":{\"aaxis\":{\"gridcolor\":\"white\",\"linecolor\":\"white\",\"ticks\":\"\"},\"baxis\":{\"gridcolor\":\"white\",\"linecolor\":\"white\",\"ticks\":\"\"},\"bgcolor\":\"#E5ECF6\",\"caxis\":{\"gridcolor\":\"white\",\"linecolor\":\"white\",\"ticks\":\"\"}},\"title\":{\"x\":0.05},\"xaxis\":{\"automargin\":true,\"gridcolor\":\"white\",\"linecolor\":\"white\",\"ticks\":\"\",\"title\":{\"standoff\":15},\"zerolinecolor\":\"white\",\"zerolinewidth\":2},\"yaxis\":{\"automargin\":true,\"gridcolor\":\"white\",\"linecolor\":\"white\",\"ticks\":\"\",\"title\":{\"standoff\":15},\"zerolinecolor\":\"white\",\"zerolinewidth\":2}}},\"xaxis\":{\"anchor\":\"y\",\"domain\":[0.0,1.0],\"title\":{\"text\":\"race_islander_rate\"}},\"yaxis\":{\"anchor\":\"x\",\"domain\":[0.0,1.0],\"title\":{\"text\":\"solar_systems_per_thousand_households\"}},\"legend\":{\"tracegroupgap\":0},\"margin\":{\"t\":60}},                        {\"responsive\": true}                    ).then(function(){\n                            \nvar gd = document.getElementById('7d1037fe-748f-40d1-9d8a-89621ea8e045');\nvar x = new MutationObserver(function (mutations, observer) {{\n        var display = window.getComputedStyle(gd).display;\n        if (!display || display === 'none') {{\n            console.log([gd, 'removed!']);\n            Plotly.purge(gd);\n            observer.disconnect();\n        }}\n}});\n\n// Listen for the removal of the full notebook cells\nvar notebookContainer = gd.closest('#notebook-container');\nif (notebookContainer) {{\n    x.observe(notebookContainer, {childList: true});\n}}\n\n// Listen for the clearing of the current output cell\nvar outputEl = gd.closest('.output');\nif (outputEl) {{\n    x.observe(outputEl, {childList: true});\n}}\n\n                        })                };                });            </script>        </div>"
     },
     "metadata": {},
     "output_type": "display_data"
    },
    {
     "name": "stdout",
     "output_type": "stream",
     "text": [
      "results:  <statsmodels.regression.linear_model.RegressionResultsWrapper object at 0x7fabd08bda90>\n",
      "alpha:  34.487922763406075\n",
      "beta:  -81.55279783436515\n",
      "p_beta:  0.33362300990421057\n",
      "r_squared:  0.04455820981266567\n"
     ]
    }
   ]
  },
  {
   "cell_type": "code",
   "source": [
    "hi7 = median_dataframe(\"race_two_more_binned\", 'race_two_more_rate')\n",
    "plot_scatter(hi7, 'race_two_more_rate', 'solar_systems_per_thousand_households', 'MediumPurple', 'race_two')"
   ],
   "metadata": {
    "execution": {
     "iopub.status.busy": "2022-01-30T17:06:37.072410Z",
     "iopub.execute_input": "2022-01-30T17:06:37.072795Z",
     "iopub.status.idle": "2022-01-30T17:06:37.206896Z",
     "shell.execute_reply.started": "2022-01-30T17:06:37.072745Z",
     "shell.execute_reply": "2022-01-30T17:06:37.205790Z"
    },
    "trusted": true
   },
   "execution_count": 38,
   "outputs": [
    {
     "data": {
      "application/vnd.plotly.v1+json": {
       "data": [
        {
         "hovertemplate": "race_two_more_rate=%{x}<br>solar_systems_per_thousand_households=%{y}<extra></extra>",
         "legendgroup": "",
         "marker": {
          "color": "MediumPurple",
          "symbol": "circle"
         },
         "mode": "markers",
         "name": "",
         "orientation": "v",
         "showlegend": false,
         "x": [
          0.0,
          0.002947025906615,
          0.00558766859345,
          0.007661257364985,
          0.00952803013517,
          0.0112151444224,
          0.012594624850150001,
          0.0140845070423,
          0.015318377471650001,
          0.0164784864205,
          0.0177925082273,
          0.0189250567752,
          0.0198841324835,
          0.0211168459399,
          0.0221758413775,
          0.0232211512977,
          0.0243119266055,
          0.025346622922,
          0.026399155227,
          0.0274626825663,
          0.028594139871300002,
          0.0295081967213,
          0.0303835407151,
          0.0313548198921,
          0.032335233960249996,
          0.0332856390135,
          0.0341928251121,
          0.0352106682659,
          0.0362161379111,
          0.0372220251706,
          0.0381119906186,
          0.03933247515334995,
          0.04036590006515,
          0.0414677804296,
          0.04251688780655,
          0.0435852881552,
          0.04471823986385,
          0.0458830923947,
          0.0469694675898,
          0.04804074745065,
          0.0493501601055,
          0.05069629290135,
          0.0518438177874,
          0.05308637097905,
          0.054580671803,
          0.055829228243,
          0.05731132177845,
          0.0591755319149,
          0.060730863164149995,
          0.0626016260163,
          0.06422424085385,
          0.06617536330095,
          0.0683556405354,
          0.0709162709094,
          0.0734158776402,
          0.07588390969175,
          0.0789570326845,
          0.08229074511965001,
          0.08563892879095,
          0.0900306386989999,
          0.0947586751397,
          0.100981266726,
          0.11061546661050001,
          0.136814668847
         ],
         "xaxis": "x",
         "y": [
          14.708352722420994,
          18.91140468726676,
          18.26792963464141,
          14.873650499060725,
          20.56555269922879,
          16.743012595485503,
          29.510746501354916,
          25.374105400130123,
          21.888909212852873,
          26.239067055393587,
          24.317712801725136,
          25.097360450021636,
          27.452602619565,
          30.1927693274106,
          31.451612903225804,
          29.575669404018722,
          28.938906752411576,
          28.94453168419129,
          31.545741324921135,
          28.94232361110746,
          38.785963089982715,
          31.147540983606557,
          31.213392356614023,
          42.59718775847808,
          37.321982058986045,
          38.80566044762945,
          39.52569169960474,
          32.3565670934092,
          25.753424657534246,
          47.70934532887835,
          30.353200883002206,
          39.684905859863164,
          37.634222625790926,
          55.97416576964478,
          33.40334300686236,
          46.592221794378126,
          33.42793718899914,
          32.846715328467155,
          40.35621601581809,
          37.73834095041525,
          35.01228501228501,
          39.20021718948827,
          44.26877470355731,
          41.7987160734601,
          40.82190335116147,
          43.064876957494405,
          39.25383335803811,
          35.714285714285715,
          43.11018255708201,
          39.82777179763186,
          42.79830697750984,
          39.11748927038627,
          42.6179604261796,
          42.56307352169123,
          32.31939163498099,
          39.91424631560803,
          35.92814371257485,
          41.582923803719694,
          42.74536592093298,
          32.2215941209723,
          33.08975517686739,
          36.2610797743755,
          37.35413110971571,
          34.306939830195645
         ],
         "yaxis": "y",
         "type": "scatter"
        },
        {
         "hovertemplate": "<b>OLS trendline</b><br>solar_systems_per_thousand_households = 166.748 * race_two_more_rate + 26.7005<br>R<sup>2</sup>=0.308185<br><br>race_two_more_rate=%{x}<br>solar_systems_per_thousand_households=%{y} <b>(trend)</b><extra></extra>",
         "legendgroup": "",
         "line": {
          "color": "MediumPurple"
         },
         "marker": {
          "color": "MediumPurple",
          "symbol": "circle"
         },
         "mode": "lines",
         "name": "",
         "showlegend": false,
         "x": [
          0.0,
          0.002947025906615,
          0.00558766859345,
          0.007661257364985,
          0.00952803013517,
          0.0112151444224,
          0.012594624850150001,
          0.0140845070423,
          0.015318377471650001,
          0.0164784864205,
          0.0177925082273,
          0.0189250567752,
          0.0198841324835,
          0.0211168459399,
          0.0221758413775,
          0.0232211512977,
          0.0243119266055,
          0.025346622922,
          0.026399155227,
          0.0274626825663,
          0.028594139871300002,
          0.0295081967213,
          0.0303835407151,
          0.0313548198921,
          0.032335233960249996,
          0.0332856390135,
          0.0341928251121,
          0.0352106682659,
          0.0362161379111,
          0.0372220251706,
          0.0381119906186,
          0.03933247515334995,
          0.04036590006515,
          0.0414677804296,
          0.04251688780655,
          0.0435852881552,
          0.04471823986385,
          0.0458830923947,
          0.0469694675898,
          0.04804074745065,
          0.0493501601055,
          0.05069629290135,
          0.0518438177874,
          0.05308637097905,
          0.054580671803,
          0.055829228243,
          0.05731132177845,
          0.0591755319149,
          0.060730863164149995,
          0.0626016260163,
          0.06422424085385,
          0.06617536330095,
          0.0683556405354,
          0.0709162709094,
          0.0734158776402,
          0.07588390969175,
          0.0789570326845,
          0.08229074511965001,
          0.08563892879095,
          0.0900306386989999,
          0.0947586751397,
          0.100981266726,
          0.11061546661050001,
          0.136814668847
         ],
         "xaxis": "x",
         "y": [
          26.700467052573938,
          27.19187868672889,
          27.632201432125935,
          27.977968886866705,
          28.289250119764407,
          28.570573601527126,
          28.800599652456565,
          29.049035012695306,
          29.254780840263823,
          29.448227064497047,
          29.667338000015263,
          29.856188573549115,
          30.016112841617517,
          30.22166574588436,
          30.39825146146478,
          30.5725551399397,
          30.75444009565003,
          30.926973973483975,
          31.102481972528008,
          31.279823375126732,
          31.46849198573466,
          31.620909434580557,
          31.766871579492634,
          31.928830755528,
          32.09231315936322,
          32.25079161022393,
          32.402063372781235,
          32.57178701396116,
          32.739447393305596,
          32.907177409135116,
          33.05557765704657,
          33.25909140910965,
          33.431413282339264,
          33.61514998764688,
          33.790086885674754,
          33.968240854421126,
          34.15715865433481,
          34.351395862921834,
          34.53254710720889,
          34.711181229791904,
          34.92952359694202,
          35.15398898610381,
          35.34533683894132,
          35.5525305025812,
          35.80170266227212,
          36.009897357519925,
          36.257033972298636,
          36.567887890313,
          36.827236771207,
          37.13918334358965,
          37.40975165014397,
          37.73509805039571,
          38.098655627642316,
          38.5256364538813,
          38.942441689821024,
          39.3539819008781,
          39.866420012954634,
          40.42231097810786,
          40.9806149976522,
          41.712925269443524,
          42.50131742726386,
          43.538924152484284,
          45.14541084755905,
          49.51408394123489
         ],
         "yaxis": "y",
         "type": "scatter"
        }
       ],
       "layout": {
        "template": {
         "data": {
          "bar": [
           {
            "error_x": {
             "color": "#2a3f5f"
            },
            "error_y": {
             "color": "#2a3f5f"
            },
            "marker": {
             "line": {
              "color": "#E5ECF6",
              "width": 0.5
             },
             "pattern": {
              "fillmode": "overlay",
              "size": 10,
              "solidity": 0.2
             }
            },
            "type": "bar"
           }
          ],
          "barpolar": [
           {
            "marker": {
             "line": {
              "color": "#E5ECF6",
              "width": 0.5
             },
             "pattern": {
              "fillmode": "overlay",
              "size": 10,
              "solidity": 0.2
             }
            },
            "type": "barpolar"
           }
          ],
          "carpet": [
           {
            "aaxis": {
             "endlinecolor": "#2a3f5f",
             "gridcolor": "white",
             "linecolor": "white",
             "minorgridcolor": "white",
             "startlinecolor": "#2a3f5f"
            },
            "baxis": {
             "endlinecolor": "#2a3f5f",
             "gridcolor": "white",
             "linecolor": "white",
             "minorgridcolor": "white",
             "startlinecolor": "#2a3f5f"
            },
            "type": "carpet"
           }
          ],
          "choropleth": [
           {
            "colorbar": {
             "outlinewidth": 0,
             "ticks": ""
            },
            "type": "choropleth"
           }
          ],
          "contour": [
           {
            "colorbar": {
             "outlinewidth": 0,
             "ticks": ""
            },
            "colorscale": [
             [
              0.0,
              "#0d0887"
             ],
             [
              0.1111111111111111,
              "#46039f"
             ],
             [
              0.2222222222222222,
              "#7201a8"
             ],
             [
              0.3333333333333333,
              "#9c179e"
             ],
             [
              0.4444444444444444,
              "#bd3786"
             ],
             [
              0.5555555555555556,
              "#d8576b"
             ],
             [
              0.6666666666666666,
              "#ed7953"
             ],
             [
              0.7777777777777778,
              "#fb9f3a"
             ],
             [
              0.8888888888888888,
              "#fdca26"
             ],
             [
              1.0,
              "#f0f921"
             ]
            ],
            "type": "contour"
           }
          ],
          "contourcarpet": [
           {
            "colorbar": {
             "outlinewidth": 0,
             "ticks": ""
            },
            "type": "contourcarpet"
           }
          ],
          "heatmap": [
           {
            "colorbar": {
             "outlinewidth": 0,
             "ticks": ""
            },
            "colorscale": [
             [
              0.0,
              "#0d0887"
             ],
             [
              0.1111111111111111,
              "#46039f"
             ],
             [
              0.2222222222222222,
              "#7201a8"
             ],
             [
              0.3333333333333333,
              "#9c179e"
             ],
             [
              0.4444444444444444,
              "#bd3786"
             ],
             [
              0.5555555555555556,
              "#d8576b"
             ],
             [
              0.6666666666666666,
              "#ed7953"
             ],
             [
              0.7777777777777778,
              "#fb9f3a"
             ],
             [
              0.8888888888888888,
              "#fdca26"
             ],
             [
              1.0,
              "#f0f921"
             ]
            ],
            "type": "heatmap"
           }
          ],
          "heatmapgl": [
           {
            "colorbar": {
             "outlinewidth": 0,
             "ticks": ""
            },
            "colorscale": [
             [
              0.0,
              "#0d0887"
             ],
             [
              0.1111111111111111,
              "#46039f"
             ],
             [
              0.2222222222222222,
              "#7201a8"
             ],
             [
              0.3333333333333333,
              "#9c179e"
             ],
             [
              0.4444444444444444,
              "#bd3786"
             ],
             [
              0.5555555555555556,
              "#d8576b"
             ],
             [
              0.6666666666666666,
              "#ed7953"
             ],
             [
              0.7777777777777778,
              "#fb9f3a"
             ],
             [
              0.8888888888888888,
              "#fdca26"
             ],
             [
              1.0,
              "#f0f921"
             ]
            ],
            "type": "heatmapgl"
           }
          ],
          "histogram": [
           {
            "marker": {
             "pattern": {
              "fillmode": "overlay",
              "size": 10,
              "solidity": 0.2
             }
            },
            "type": "histogram"
           }
          ],
          "histogram2d": [
           {
            "colorbar": {
             "outlinewidth": 0,
             "ticks": ""
            },
            "colorscale": [
             [
              0.0,
              "#0d0887"
             ],
             [
              0.1111111111111111,
              "#46039f"
             ],
             [
              0.2222222222222222,
              "#7201a8"
             ],
             [
              0.3333333333333333,
              "#9c179e"
             ],
             [
              0.4444444444444444,
              "#bd3786"
             ],
             [
              0.5555555555555556,
              "#d8576b"
             ],
             [
              0.6666666666666666,
              "#ed7953"
             ],
             [
              0.7777777777777778,
              "#fb9f3a"
             ],
             [
              0.8888888888888888,
              "#fdca26"
             ],
             [
              1.0,
              "#f0f921"
             ]
            ],
            "type": "histogram2d"
           }
          ],
          "histogram2dcontour": [
           {
            "colorbar": {
             "outlinewidth": 0,
             "ticks": ""
            },
            "colorscale": [
             [
              0.0,
              "#0d0887"
             ],
             [
              0.1111111111111111,
              "#46039f"
             ],
             [
              0.2222222222222222,
              "#7201a8"
             ],
             [
              0.3333333333333333,
              "#9c179e"
             ],
             [
              0.4444444444444444,
              "#bd3786"
             ],
             [
              0.5555555555555556,
              "#d8576b"
             ],
             [
              0.6666666666666666,
              "#ed7953"
             ],
             [
              0.7777777777777778,
              "#fb9f3a"
             ],
             [
              0.8888888888888888,
              "#fdca26"
             ],
             [
              1.0,
              "#f0f921"
             ]
            ],
            "type": "histogram2dcontour"
           }
          ],
          "mesh3d": [
           {
            "colorbar": {
             "outlinewidth": 0,
             "ticks": ""
            },
            "type": "mesh3d"
           }
          ],
          "parcoords": [
           {
            "line": {
             "colorbar": {
              "outlinewidth": 0,
              "ticks": ""
             }
            },
            "type": "parcoords"
           }
          ],
          "pie": [
           {
            "automargin": true,
            "type": "pie"
           }
          ],
          "scatter": [
           {
            "marker": {
             "colorbar": {
              "outlinewidth": 0,
              "ticks": ""
             }
            },
            "type": "scatter"
           }
          ],
          "scatter3d": [
           {
            "line": {
             "colorbar": {
              "outlinewidth": 0,
              "ticks": ""
             }
            },
            "marker": {
             "colorbar": {
              "outlinewidth": 0,
              "ticks": ""
             }
            },
            "type": "scatter3d"
           }
          ],
          "scattercarpet": [
           {
            "marker": {
             "colorbar": {
              "outlinewidth": 0,
              "ticks": ""
             }
            },
            "type": "scattercarpet"
           }
          ],
          "scattergeo": [
           {
            "marker": {
             "colorbar": {
              "outlinewidth": 0,
              "ticks": ""
             }
            },
            "type": "scattergeo"
           }
          ],
          "scattergl": [
           {
            "marker": {
             "colorbar": {
              "outlinewidth": 0,
              "ticks": ""
             }
            },
            "type": "scattergl"
           }
          ],
          "scattermapbox": [
           {
            "marker": {
             "colorbar": {
              "outlinewidth": 0,
              "ticks": ""
             }
            },
            "type": "scattermapbox"
           }
          ],
          "scatterpolar": [
           {
            "marker": {
             "colorbar": {
              "outlinewidth": 0,
              "ticks": ""
             }
            },
            "type": "scatterpolar"
           }
          ],
          "scatterpolargl": [
           {
            "marker": {
             "colorbar": {
              "outlinewidth": 0,
              "ticks": ""
             }
            },
            "type": "scatterpolargl"
           }
          ],
          "scatterternary": [
           {
            "marker": {
             "colorbar": {
              "outlinewidth": 0,
              "ticks": ""
             }
            },
            "type": "scatterternary"
           }
          ],
          "surface": [
           {
            "colorbar": {
             "outlinewidth": 0,
             "ticks": ""
            },
            "colorscale": [
             [
              0.0,
              "#0d0887"
             ],
             [
              0.1111111111111111,
              "#46039f"
             ],
             [
              0.2222222222222222,
              "#7201a8"
             ],
             [
              0.3333333333333333,
              "#9c179e"
             ],
             [
              0.4444444444444444,
              "#bd3786"
             ],
             [
              0.5555555555555556,
              "#d8576b"
             ],
             [
              0.6666666666666666,
              "#ed7953"
             ],
             [
              0.7777777777777778,
              "#fb9f3a"
             ],
             [
              0.8888888888888888,
              "#fdca26"
             ],
             [
              1.0,
              "#f0f921"
             ]
            ],
            "type": "surface"
           }
          ],
          "table": [
           {
            "cells": {
             "fill": {
              "color": "#EBF0F8"
             },
             "line": {
              "color": "white"
             }
            },
            "header": {
             "fill": {
              "color": "#C8D4E3"
             },
             "line": {
              "color": "white"
             }
            },
            "type": "table"
           }
          ]
         },
         "layout": {
          "annotationdefaults": {
           "arrowcolor": "#2a3f5f",
           "arrowhead": 0,
           "arrowwidth": 1
          },
          "autotypenumbers": "strict",
          "coloraxis": {
           "colorbar": {
            "outlinewidth": 0,
            "ticks": ""
           }
          },
          "colorscale": {
           "diverging": [
            [
             0,
             "#8e0152"
            ],
            [
             0.1,
             "#c51b7d"
            ],
            [
             0.2,
             "#de77ae"
            ],
            [
             0.3,
             "#f1b6da"
            ],
            [
             0.4,
             "#fde0ef"
            ],
            [
             0.5,
             "#f7f7f7"
            ],
            [
             0.6,
             "#e6f5d0"
            ],
            [
             0.7,
             "#b8e186"
            ],
            [
             0.8,
             "#7fbc41"
            ],
            [
             0.9,
             "#4d9221"
            ],
            [
             1,
             "#276419"
            ]
           ],
           "sequential": [
            [
             0.0,
             "#0d0887"
            ],
            [
             0.1111111111111111,
             "#46039f"
            ],
            [
             0.2222222222222222,
             "#7201a8"
            ],
            [
             0.3333333333333333,
             "#9c179e"
            ],
            [
             0.4444444444444444,
             "#bd3786"
            ],
            [
             0.5555555555555556,
             "#d8576b"
            ],
            [
             0.6666666666666666,
             "#ed7953"
            ],
            [
             0.7777777777777778,
             "#fb9f3a"
            ],
            [
             0.8888888888888888,
             "#fdca26"
            ],
            [
             1.0,
             "#f0f921"
            ]
           ],
           "sequentialminus": [
            [
             0.0,
             "#0d0887"
            ],
            [
             0.1111111111111111,
             "#46039f"
            ],
            [
             0.2222222222222222,
             "#7201a8"
            ],
            [
             0.3333333333333333,
             "#9c179e"
            ],
            [
             0.4444444444444444,
             "#bd3786"
            ],
            [
             0.5555555555555556,
             "#d8576b"
            ],
            [
             0.6666666666666666,
             "#ed7953"
            ],
            [
             0.7777777777777778,
             "#fb9f3a"
            ],
            [
             0.8888888888888888,
             "#fdca26"
            ],
            [
             1.0,
             "#f0f921"
            ]
           ]
          },
          "colorway": [
           "#636efa",
           "#EF553B",
           "#00cc96",
           "#ab63fa",
           "#FFA15A",
           "#19d3f3",
           "#FF6692",
           "#B6E880",
           "#FF97FF",
           "#FECB52"
          ],
          "font": {
           "color": "#2a3f5f"
          },
          "geo": {
           "bgcolor": "white",
           "lakecolor": "white",
           "landcolor": "#E5ECF6",
           "showlakes": true,
           "showland": true,
           "subunitcolor": "white"
          },
          "hoverlabel": {
           "align": "left"
          },
          "hovermode": "closest",
          "mapbox": {
           "style": "light"
          },
          "paper_bgcolor": "white",
          "plot_bgcolor": "#E5ECF6",
          "polar": {
           "angularaxis": {
            "gridcolor": "white",
            "linecolor": "white",
            "ticks": ""
           },
           "bgcolor": "#E5ECF6",
           "radialaxis": {
            "gridcolor": "white",
            "linecolor": "white",
            "ticks": ""
           }
          },
          "scene": {
           "xaxis": {
            "backgroundcolor": "#E5ECF6",
            "gridcolor": "white",
            "gridwidth": 2,
            "linecolor": "white",
            "showbackground": true,
            "ticks": "",
            "zerolinecolor": "white"
           },
           "yaxis": {
            "backgroundcolor": "#E5ECF6",
            "gridcolor": "white",
            "gridwidth": 2,
            "linecolor": "white",
            "showbackground": true,
            "ticks": "",
            "zerolinecolor": "white"
           },
           "zaxis": {
            "backgroundcolor": "#E5ECF6",
            "gridcolor": "white",
            "gridwidth": 2,
            "linecolor": "white",
            "showbackground": true,
            "ticks": "",
            "zerolinecolor": "white"
           }
          },
          "shapedefaults": {
           "line": {
            "color": "#2a3f5f"
           }
          },
          "ternary": {
           "aaxis": {
            "gridcolor": "white",
            "linecolor": "white",
            "ticks": ""
           },
           "baxis": {
            "gridcolor": "white",
            "linecolor": "white",
            "ticks": ""
           },
           "bgcolor": "#E5ECF6",
           "caxis": {
            "gridcolor": "white",
            "linecolor": "white",
            "ticks": ""
           }
          },
          "title": {
           "x": 0.05
          },
          "xaxis": {
           "automargin": true,
           "gridcolor": "white",
           "linecolor": "white",
           "ticks": "",
           "title": {
            "standoff": 15
           },
           "zerolinecolor": "white",
           "zerolinewidth": 2
          },
          "yaxis": {
           "automargin": true,
           "gridcolor": "white",
           "linecolor": "white",
           "ticks": "",
           "title": {
            "standoff": 15
           },
           "zerolinecolor": "white",
           "zerolinewidth": 2
          }
         }
        },
        "xaxis": {
         "anchor": "y",
         "domain": [
          0.0,
          1.0
         ],
         "title": {
          "text": "race_two_more_rate"
         }
        },
        "yaxis": {
         "anchor": "x",
         "domain": [
          0.0,
          1.0
         ],
         "title": {
          "text": "solar_systems_per_thousand_households"
         }
        },
        "legend": {
         "tracegroupgap": 0
        },
        "margin": {
         "t": 60
        }
       },
       "config": {
        "plotlyServerURL": "https://plot.ly"
       }
      },
      "text/html": "<div>                            <div id=\"c1489c43-e687-49ea-9dd6-84a64e0a3613\" class=\"plotly-graph-div\" style=\"height:525px; width:100%;\"></div>            <script type=\"text/javascript\">                require([\"plotly\"], function(Plotly) {                    window.PLOTLYENV=window.PLOTLYENV || {};                                    if (document.getElementById(\"c1489c43-e687-49ea-9dd6-84a64e0a3613\")) {                    Plotly.newPlot(                        \"c1489c43-e687-49ea-9dd6-84a64e0a3613\",                        [{\"hovertemplate\":\"race_two_more_rate=%{x}<br>solar_systems_per_thousand_households=%{y}<extra></extra>\",\"legendgroup\":\"\",\"marker\":{\"color\":\"MediumPurple\",\"symbol\":\"circle\"},\"mode\":\"markers\",\"name\":\"\",\"orientation\":\"v\",\"showlegend\":false,\"x\":[0.0,0.002947025906615,0.00558766859345,0.007661257364985,0.00952803013517,0.0112151444224,0.012594624850150001,0.0140845070423,0.015318377471650001,0.0164784864205,0.0177925082273,0.0189250567752,0.0198841324835,0.0211168459399,0.0221758413775,0.0232211512977,0.0243119266055,0.025346622922,0.026399155227,0.0274626825663,0.028594139871300002,0.0295081967213,0.0303835407151,0.0313548198921,0.032335233960249996,0.0332856390135,0.0341928251121,0.0352106682659,0.0362161379111,0.0372220251706,0.0381119906186,0.03933247515334995,0.04036590006515,0.0414677804296,0.04251688780655,0.0435852881552,0.04471823986385,0.0458830923947,0.0469694675898,0.04804074745065,0.0493501601055,0.05069629290135,0.0518438177874,0.05308637097905,0.054580671803,0.055829228243,0.05731132177845,0.0591755319149,0.060730863164149995,0.0626016260163,0.06422424085385,0.06617536330095,0.0683556405354,0.0709162709094,0.0734158776402,0.07588390969175,0.0789570326845,0.08229074511965001,0.08563892879095,0.0900306386989999,0.0947586751397,0.100981266726,0.11061546661050001,0.136814668847],\"xaxis\":\"x\",\"y\":[14.708352722420994,18.91140468726676,18.26792963464141,14.873650499060725,20.56555269922879,16.743012595485503,29.510746501354916,25.374105400130123,21.888909212852873,26.239067055393587,24.317712801725136,25.097360450021636,27.452602619565,30.1927693274106,31.451612903225804,29.575669404018722,28.938906752411576,28.94453168419129,31.545741324921135,28.94232361110746,38.785963089982715,31.147540983606557,31.213392356614023,42.59718775847808,37.321982058986045,38.80566044762945,39.52569169960474,32.3565670934092,25.753424657534246,47.70934532887835,30.353200883002206,39.684905859863164,37.634222625790926,55.97416576964478,33.40334300686236,46.592221794378126,33.42793718899914,32.846715328467155,40.35621601581809,37.73834095041525,35.01228501228501,39.20021718948827,44.26877470355731,41.7987160734601,40.82190335116147,43.064876957494405,39.25383335803811,35.714285714285715,43.11018255708201,39.82777179763186,42.79830697750984,39.11748927038627,42.6179604261796,42.56307352169123,32.31939163498099,39.91424631560803,35.92814371257485,41.582923803719694,42.74536592093298,32.2215941209723,33.08975517686739,36.2610797743755,37.35413110971571,34.306939830195645],\"yaxis\":\"y\",\"type\":\"scatter\"},{\"hovertemplate\":\"<b>OLS trendline</b><br>solar_systems_per_thousand_households = 166.748 * race_two_more_rate + 26.7005<br>R<sup>2</sup>=0.308185<br><br>race_two_more_rate=%{x}<br>solar_systems_per_thousand_households=%{y} <b>(trend)</b><extra></extra>\",\"legendgroup\":\"\",\"line\":{\"color\":\"MediumPurple\"},\"marker\":{\"color\":\"MediumPurple\",\"symbol\":\"circle\"},\"mode\":\"lines\",\"name\":\"\",\"showlegend\":false,\"x\":[0.0,0.002947025906615,0.00558766859345,0.007661257364985,0.00952803013517,0.0112151444224,0.012594624850150001,0.0140845070423,0.015318377471650001,0.0164784864205,0.0177925082273,0.0189250567752,0.0198841324835,0.0211168459399,0.0221758413775,0.0232211512977,0.0243119266055,0.025346622922,0.026399155227,0.0274626825663,0.028594139871300002,0.0295081967213,0.0303835407151,0.0313548198921,0.032335233960249996,0.0332856390135,0.0341928251121,0.0352106682659,0.0362161379111,0.0372220251706,0.0381119906186,0.03933247515334995,0.04036590006515,0.0414677804296,0.04251688780655,0.0435852881552,0.04471823986385,0.0458830923947,0.0469694675898,0.04804074745065,0.0493501601055,0.05069629290135,0.0518438177874,0.05308637097905,0.054580671803,0.055829228243,0.05731132177845,0.0591755319149,0.060730863164149995,0.0626016260163,0.06422424085385,0.06617536330095,0.0683556405354,0.0709162709094,0.0734158776402,0.07588390969175,0.0789570326845,0.08229074511965001,0.08563892879095,0.0900306386989999,0.0947586751397,0.100981266726,0.11061546661050001,0.136814668847],\"xaxis\":\"x\",\"y\":[26.700467052573938,27.19187868672889,27.632201432125935,27.977968886866705,28.289250119764407,28.570573601527126,28.800599652456565,29.049035012695306,29.254780840263823,29.448227064497047,29.667338000015263,29.856188573549115,30.016112841617517,30.22166574588436,30.39825146146478,30.5725551399397,30.75444009565003,30.926973973483975,31.102481972528008,31.279823375126732,31.46849198573466,31.620909434580557,31.766871579492634,31.928830755528,32.09231315936322,32.25079161022393,32.402063372781235,32.57178701396116,32.739447393305596,32.907177409135116,33.05557765704657,33.25909140910965,33.431413282339264,33.61514998764688,33.790086885674754,33.968240854421126,34.15715865433481,34.351395862921834,34.53254710720889,34.711181229791904,34.92952359694202,35.15398898610381,35.34533683894132,35.5525305025812,35.80170266227212,36.009897357519925,36.257033972298636,36.567887890313,36.827236771207,37.13918334358965,37.40975165014397,37.73509805039571,38.098655627642316,38.5256364538813,38.942441689821024,39.3539819008781,39.866420012954634,40.42231097810786,40.9806149976522,41.712925269443524,42.50131742726386,43.538924152484284,45.14541084755905,49.51408394123489],\"yaxis\":\"y\",\"type\":\"scatter\"}],                        {\"template\":{\"data\":{\"bar\":[{\"error_x\":{\"color\":\"#2a3f5f\"},\"error_y\":{\"color\":\"#2a3f5f\"},\"marker\":{\"line\":{\"color\":\"#E5ECF6\",\"width\":0.5},\"pattern\":{\"fillmode\":\"overlay\",\"size\":10,\"solidity\":0.2}},\"type\":\"bar\"}],\"barpolar\":[{\"marker\":{\"line\":{\"color\":\"#E5ECF6\",\"width\":0.5},\"pattern\":{\"fillmode\":\"overlay\",\"size\":10,\"solidity\":0.2}},\"type\":\"barpolar\"}],\"carpet\":[{\"aaxis\":{\"endlinecolor\":\"#2a3f5f\",\"gridcolor\":\"white\",\"linecolor\":\"white\",\"minorgridcolor\":\"white\",\"startlinecolor\":\"#2a3f5f\"},\"baxis\":{\"endlinecolor\":\"#2a3f5f\",\"gridcolor\":\"white\",\"linecolor\":\"white\",\"minorgridcolor\":\"white\",\"startlinecolor\":\"#2a3f5f\"},\"type\":\"carpet\"}],\"choropleth\":[{\"colorbar\":{\"outlinewidth\":0,\"ticks\":\"\"},\"type\":\"choropleth\"}],\"contour\":[{\"colorbar\":{\"outlinewidth\":0,\"ticks\":\"\"},\"colorscale\":[[0.0,\"#0d0887\"],[0.1111111111111111,\"#46039f\"],[0.2222222222222222,\"#7201a8\"],[0.3333333333333333,\"#9c179e\"],[0.4444444444444444,\"#bd3786\"],[0.5555555555555556,\"#d8576b\"],[0.6666666666666666,\"#ed7953\"],[0.7777777777777778,\"#fb9f3a\"],[0.8888888888888888,\"#fdca26\"],[1.0,\"#f0f921\"]],\"type\":\"contour\"}],\"contourcarpet\":[{\"colorbar\":{\"outlinewidth\":0,\"ticks\":\"\"},\"type\":\"contourcarpet\"}],\"heatmap\":[{\"colorbar\":{\"outlinewidth\":0,\"ticks\":\"\"},\"colorscale\":[[0.0,\"#0d0887\"],[0.1111111111111111,\"#46039f\"],[0.2222222222222222,\"#7201a8\"],[0.3333333333333333,\"#9c179e\"],[0.4444444444444444,\"#bd3786\"],[0.5555555555555556,\"#d8576b\"],[0.6666666666666666,\"#ed7953\"],[0.7777777777777778,\"#fb9f3a\"],[0.8888888888888888,\"#fdca26\"],[1.0,\"#f0f921\"]],\"type\":\"heatmap\"}],\"heatmapgl\":[{\"colorbar\":{\"outlinewidth\":0,\"ticks\":\"\"},\"colorscale\":[[0.0,\"#0d0887\"],[0.1111111111111111,\"#46039f\"],[0.2222222222222222,\"#7201a8\"],[0.3333333333333333,\"#9c179e\"],[0.4444444444444444,\"#bd3786\"],[0.5555555555555556,\"#d8576b\"],[0.6666666666666666,\"#ed7953\"],[0.7777777777777778,\"#fb9f3a\"],[0.8888888888888888,\"#fdca26\"],[1.0,\"#f0f921\"]],\"type\":\"heatmapgl\"}],\"histogram\":[{\"marker\":{\"pattern\":{\"fillmode\":\"overlay\",\"size\":10,\"solidity\":0.2}},\"type\":\"histogram\"}],\"histogram2d\":[{\"colorbar\":{\"outlinewidth\":0,\"ticks\":\"\"},\"colorscale\":[[0.0,\"#0d0887\"],[0.1111111111111111,\"#46039f\"],[0.2222222222222222,\"#7201a8\"],[0.3333333333333333,\"#9c179e\"],[0.4444444444444444,\"#bd3786\"],[0.5555555555555556,\"#d8576b\"],[0.6666666666666666,\"#ed7953\"],[0.7777777777777778,\"#fb9f3a\"],[0.8888888888888888,\"#fdca26\"],[1.0,\"#f0f921\"]],\"type\":\"histogram2d\"}],\"histogram2dcontour\":[{\"colorbar\":{\"outlinewidth\":0,\"ticks\":\"\"},\"colorscale\":[[0.0,\"#0d0887\"],[0.1111111111111111,\"#46039f\"],[0.2222222222222222,\"#7201a8\"],[0.3333333333333333,\"#9c179e\"],[0.4444444444444444,\"#bd3786\"],[0.5555555555555556,\"#d8576b\"],[0.6666666666666666,\"#ed7953\"],[0.7777777777777778,\"#fb9f3a\"],[0.8888888888888888,\"#fdca26\"],[1.0,\"#f0f921\"]],\"type\":\"histogram2dcontour\"}],\"mesh3d\":[{\"colorbar\":{\"outlinewidth\":0,\"ticks\":\"\"},\"type\":\"mesh3d\"}],\"parcoords\":[{\"line\":{\"colorbar\":{\"outlinewidth\":0,\"ticks\":\"\"}},\"type\":\"parcoords\"}],\"pie\":[{\"automargin\":true,\"type\":\"pie\"}],\"scatter\":[{\"marker\":{\"colorbar\":{\"outlinewidth\":0,\"ticks\":\"\"}},\"type\":\"scatter\"}],\"scatter3d\":[{\"line\":{\"colorbar\":{\"outlinewidth\":0,\"ticks\":\"\"}},\"marker\":{\"colorbar\":{\"outlinewidth\":0,\"ticks\":\"\"}},\"type\":\"scatter3d\"}],\"scattercarpet\":[{\"marker\":{\"colorbar\":{\"outlinewidth\":0,\"ticks\":\"\"}},\"type\":\"scattercarpet\"}],\"scattergeo\":[{\"marker\":{\"colorbar\":{\"outlinewidth\":0,\"ticks\":\"\"}},\"type\":\"scattergeo\"}],\"scattergl\":[{\"marker\":{\"colorbar\":{\"outlinewidth\":0,\"ticks\":\"\"}},\"type\":\"scattergl\"}],\"scattermapbox\":[{\"marker\":{\"colorbar\":{\"outlinewidth\":0,\"ticks\":\"\"}},\"type\":\"scattermapbox\"}],\"scatterpolar\":[{\"marker\":{\"colorbar\":{\"outlinewidth\":0,\"ticks\":\"\"}},\"type\":\"scatterpolar\"}],\"scatterpolargl\":[{\"marker\":{\"colorbar\":{\"outlinewidth\":0,\"ticks\":\"\"}},\"type\":\"scatterpolargl\"}],\"scatterternary\":[{\"marker\":{\"colorbar\":{\"outlinewidth\":0,\"ticks\":\"\"}},\"type\":\"scatterternary\"}],\"surface\":[{\"colorbar\":{\"outlinewidth\":0,\"ticks\":\"\"},\"colorscale\":[[0.0,\"#0d0887\"],[0.1111111111111111,\"#46039f\"],[0.2222222222222222,\"#7201a8\"],[0.3333333333333333,\"#9c179e\"],[0.4444444444444444,\"#bd3786\"],[0.5555555555555556,\"#d8576b\"],[0.6666666666666666,\"#ed7953\"],[0.7777777777777778,\"#fb9f3a\"],[0.8888888888888888,\"#fdca26\"],[1.0,\"#f0f921\"]],\"type\":\"surface\"}],\"table\":[{\"cells\":{\"fill\":{\"color\":\"#EBF0F8\"},\"line\":{\"color\":\"white\"}},\"header\":{\"fill\":{\"color\":\"#C8D4E3\"},\"line\":{\"color\":\"white\"}},\"type\":\"table\"}]},\"layout\":{\"annotationdefaults\":{\"arrowcolor\":\"#2a3f5f\",\"arrowhead\":0,\"arrowwidth\":1},\"autotypenumbers\":\"strict\",\"coloraxis\":{\"colorbar\":{\"outlinewidth\":0,\"ticks\":\"\"}},\"colorscale\":{\"diverging\":[[0,\"#8e0152\"],[0.1,\"#c51b7d\"],[0.2,\"#de77ae\"],[0.3,\"#f1b6da\"],[0.4,\"#fde0ef\"],[0.5,\"#f7f7f7\"],[0.6,\"#e6f5d0\"],[0.7,\"#b8e186\"],[0.8,\"#7fbc41\"],[0.9,\"#4d9221\"],[1,\"#276419\"]],\"sequential\":[[0.0,\"#0d0887\"],[0.1111111111111111,\"#46039f\"],[0.2222222222222222,\"#7201a8\"],[0.3333333333333333,\"#9c179e\"],[0.4444444444444444,\"#bd3786\"],[0.5555555555555556,\"#d8576b\"],[0.6666666666666666,\"#ed7953\"],[0.7777777777777778,\"#fb9f3a\"],[0.8888888888888888,\"#fdca26\"],[1.0,\"#f0f921\"]],\"sequentialminus\":[[0.0,\"#0d0887\"],[0.1111111111111111,\"#46039f\"],[0.2222222222222222,\"#7201a8\"],[0.3333333333333333,\"#9c179e\"],[0.4444444444444444,\"#bd3786\"],[0.5555555555555556,\"#d8576b\"],[0.6666666666666666,\"#ed7953\"],[0.7777777777777778,\"#fb9f3a\"],[0.8888888888888888,\"#fdca26\"],[1.0,\"#f0f921\"]]},\"colorway\":[\"#636efa\",\"#EF553B\",\"#00cc96\",\"#ab63fa\",\"#FFA15A\",\"#19d3f3\",\"#FF6692\",\"#B6E880\",\"#FF97FF\",\"#FECB52\"],\"font\":{\"color\":\"#2a3f5f\"},\"geo\":{\"bgcolor\":\"white\",\"lakecolor\":\"white\",\"landcolor\":\"#E5ECF6\",\"showlakes\":true,\"showland\":true,\"subunitcolor\":\"white\"},\"hoverlabel\":{\"align\":\"left\"},\"hovermode\":\"closest\",\"mapbox\":{\"style\":\"light\"},\"paper_bgcolor\":\"white\",\"plot_bgcolor\":\"#E5ECF6\",\"polar\":{\"angularaxis\":{\"gridcolor\":\"white\",\"linecolor\":\"white\",\"ticks\":\"\"},\"bgcolor\":\"#E5ECF6\",\"radialaxis\":{\"gridcolor\":\"white\",\"linecolor\":\"white\",\"ticks\":\"\"}},\"scene\":{\"xaxis\":{\"backgroundcolor\":\"#E5ECF6\",\"gridcolor\":\"white\",\"gridwidth\":2,\"linecolor\":\"white\",\"showbackground\":true,\"ticks\":\"\",\"zerolinecolor\":\"white\"},\"yaxis\":{\"backgroundcolor\":\"#E5ECF6\",\"gridcolor\":\"white\",\"gridwidth\":2,\"linecolor\":\"white\",\"showbackground\":true,\"ticks\":\"\",\"zerolinecolor\":\"white\"},\"zaxis\":{\"backgroundcolor\":\"#E5ECF6\",\"gridcolor\":\"white\",\"gridwidth\":2,\"linecolor\":\"white\",\"showbackground\":true,\"ticks\":\"\",\"zerolinecolor\":\"white\"}},\"shapedefaults\":{\"line\":{\"color\":\"#2a3f5f\"}},\"ternary\":{\"aaxis\":{\"gridcolor\":\"white\",\"linecolor\":\"white\",\"ticks\":\"\"},\"baxis\":{\"gridcolor\":\"white\",\"linecolor\":\"white\",\"ticks\":\"\"},\"bgcolor\":\"#E5ECF6\",\"caxis\":{\"gridcolor\":\"white\",\"linecolor\":\"white\",\"ticks\":\"\"}},\"title\":{\"x\":0.05},\"xaxis\":{\"automargin\":true,\"gridcolor\":\"white\",\"linecolor\":\"white\",\"ticks\":\"\",\"title\":{\"standoff\":15},\"zerolinecolor\":\"white\",\"zerolinewidth\":2},\"yaxis\":{\"automargin\":true,\"gridcolor\":\"white\",\"linecolor\":\"white\",\"ticks\":\"\",\"title\":{\"standoff\":15},\"zerolinecolor\":\"white\",\"zerolinewidth\":2}}},\"xaxis\":{\"anchor\":\"y\",\"domain\":[0.0,1.0],\"title\":{\"text\":\"race_two_more_rate\"}},\"yaxis\":{\"anchor\":\"x\",\"domain\":[0.0,1.0],\"title\":{\"text\":\"solar_systems_per_thousand_households\"}},\"legend\":{\"tracegroupgap\":0},\"margin\":{\"t\":60}},                        {\"responsive\": true}                    ).then(function(){\n                            \nvar gd = document.getElementById('c1489c43-e687-49ea-9dd6-84a64e0a3613');\nvar x = new MutationObserver(function (mutations, observer) {{\n        var display = window.getComputedStyle(gd).display;\n        if (!display || display === 'none') {{\n            console.log([gd, 'removed!']);\n            Plotly.purge(gd);\n            observer.disconnect();\n        }}\n}});\n\n// Listen for the removal of the full notebook cells\nvar notebookContainer = gd.closest('#notebook-container');\nif (notebookContainer) {{\n    x.observe(notebookContainer, {childList: true});\n}}\n\n// Listen for the clearing of the current output cell\nvar outputEl = gd.closest('.output');\nif (outputEl) {{\n    x.observe(outputEl, {childList: true});\n}}\n\n                        })                };                });            </script>        </div>"
     },
     "metadata": {},
     "output_type": "display_data"
    },
    {
     "name": "stdout",
     "output_type": "stream",
     "text": [
      "results:  <statsmodels.regression.linear_model.RegressionResultsWrapper object at 0x7fabd004c580>\n",
      "alpha:  26.700467052573938\n",
      "beta:  166.74832516806694\n",
      "p_beta:  1.9281977252891268e-06\n",
      "r_squared:  0.3081854098579836\n"
     ]
    }
   ]
  },
  {
   "cell_type": "code",
   "source": [
    "hi19 = median_dataframe(\"white_binned\", 'race_white_rate')\n",
    "plot_scatter(hi19, 'race_white_rate', 'solar_systems_per_thousand_households', 'LightPink', 'race_white')"
   ],
   "metadata": {
    "execution": {
     "iopub.status.busy": "2022-01-30T17:06:37.209127Z",
     "iopub.execute_input": "2022-01-30T17:06:37.209479Z",
     "iopub.status.idle": "2022-01-30T17:06:37.339612Z",
     "shell.execute_reply.started": "2022-01-30T17:06:37.209430Z",
     "shell.execute_reply": "2022-01-30T17:06:37.338291Z"
    },
    "trusted": true
   },
   "execution_count": 39,
   "outputs": [
    {
     "data": {
      "application/vnd.plotly.v1+json": {
       "data": [
        {
         "hovertemplate": "race_white_rate=%{x}<br>solar_systems_per_thousand_households=%{y}<extra></extra>",
         "legendgroup": "",
         "marker": {
          "color": "LightPink",
          "symbol": "circle"
         },
         "mode": "markers",
         "name": "",
         "orientation": "v",
         "showlegend": false,
         "x": [
          0.11821519336200001,
          0.181499100255,
          0.216174661747,
          0.247303732385,
          0.274028234384,
          0.30161923694,
          0.323625148639,
          0.342374075379,
          0.3600980855315,
          0.379906071788,
          0.39790947384099995,
          0.413358538122,
          0.426211509675,
          0.441917445401,
          0.456882056209,
          0.4717992781085,
          0.483824302998,
          0.49631270511,
          0.509212283044,
          0.5231510472075,
          0.5370393671145,
          0.548561707393,
          0.5604405598869999,
          0.571627906977,
          0.5844205091475,
          0.597080379512,
          0.609649122807,
          0.6188809787359999,
          0.6294144981409999,
          0.6391152903314999,
          0.6489298454219999,
          0.657583568605,
          0.666866547301,
          0.675139191479,
          0.6836595406695001,
          0.6933460594490001,
          0.701121304033,
          0.708829819737,
          0.7177244765485,
          0.7250447024355,
          0.732035234121,
          0.73969078996,
          0.747346862782,
          0.7560866839514999,
          0.7630834117045,
          0.770108595619,
          0.777915636998,
          0.785039370079,
          0.7940726683700001,
          0.800866843246,
          0.807205052027,
          0.8147754534114999,
          0.823039356507,
          0.8317238894204999,
          0.840756865372,
          0.847559283174,
          0.856104651163,
          0.8641578136270001,
          0.8751240816395,
          0.8872282608700002,
          0.8996676148945,
          0.912527798369,
          0.929026377378,
          0.954424151954
         ],
         "xaxis": "x",
         "y": [
          17.213261693365666,
          18.818346648535325,
          21.207177814029365,
          19.08012238115206,
          21.546261089987325,
          24.103518682699534,
          23.21731095025412,
          23.543990086741015,
          23.080987814083898,
          24.6422893481717,
          22.183228357008844,
          29.14798206278027,
          20.40204818662528,
          20.89730118223957,
          25.602409638554217,
          31.266597540018775,
          30.27681660899654,
          23.67931903629622,
          25.862068965517242,
          24.966472102634324,
          29.767230202546646,
          32.30240549828179,
          28.379850883270855,
          29.454022988505745,
          38.25770301901147,
          31.64052127779837,
          36.2610797743755,
          32.827009056517255,
          43.386243386243386,
          30.595496473141615,
          42.88702928870293,
          46.74892159350419,
          42.9561733465923,
          37.698412698412696,
          34.305567459610316,
          43.39622641509434,
          36.41338226357123,
          44.52466907340553,
          37.73796060691735,
          49.148839174524106,
          37.07802988378528,
          52.7595574107202,
          50.18939393939394,
          48.97530231086415,
          44.26951208245354,
          46.66409564211338,
          37.32406716853744,
          39.83516483516483,
          47.95571899678903,
          49.16732751784298,
          53.617831541218635,
          42.55681276290932,
          44.3472829481574,
          59.041199924055434,
          47.78887303851641,
          50.60056547740125,
          60.25039123630673,
          47.29861043630356,
          43.64730910534242,
          36.878216123499136,
          38.54532514375361,
          31.724137931034484,
          30.105245981887904,
          16.365725923976058
         ],
         "yaxis": "y",
         "type": "scatter"
        },
        {
         "hovertemplate": "<b>OLS trendline</b><br>solar_systems_per_thousand_households = 39.5062 * race_white_rate + 10.9088<br>R<sup>2</sup>=0.536711<br><br>race_white_rate=%{x}<br>solar_systems_per_thousand_households=%{y} <b>(trend)</b><extra></extra>",
         "legendgroup": "",
         "line": {
          "color": "LightPink"
         },
         "marker": {
          "color": "LightPink",
          "symbol": "circle"
         },
         "mode": "lines",
         "name": "",
         "showlegend": false,
         "x": [
          0.11821519336200001,
          0.181499100255,
          0.216174661747,
          0.247303732385,
          0.274028234384,
          0.30161923694,
          0.323625148639,
          0.342374075379,
          0.3600980855315,
          0.379906071788,
          0.39790947384099995,
          0.413358538122,
          0.426211509675,
          0.441917445401,
          0.456882056209,
          0.4717992781085,
          0.483824302998,
          0.49631270511,
          0.509212283044,
          0.5231510472075,
          0.5370393671145,
          0.548561707393,
          0.5604405598869999,
          0.571627906977,
          0.5844205091475,
          0.597080379512,
          0.609649122807,
          0.6188809787359999,
          0.6294144981409999,
          0.6391152903314999,
          0.6489298454219999,
          0.657583568605,
          0.666866547301,
          0.675139191479,
          0.6836595406695001,
          0.6933460594490001,
          0.701121304033,
          0.708829819737,
          0.7177244765485,
          0.7250447024355,
          0.732035234121,
          0.73969078996,
          0.747346862782,
          0.7560866839514999,
          0.7630834117045,
          0.770108595619,
          0.777915636998,
          0.785039370079,
          0.7940726683700001,
          0.800866843246,
          0.807205052027,
          0.8147754534114999,
          0.823039356507,
          0.8317238894204999,
          0.840756865372,
          0.847559283174,
          0.856104651163,
          0.8641578136270001,
          0.8751240816395,
          0.8872282608700002,
          0.8996676148945,
          0.912527798369,
          0.929026377378,
          0.954424151954
         ],
         "xaxis": "x",
         "y": [
          15.57901150975918,
          18.07911546691767,
          19.44901364102094,
          20.678803590878452,
          21.73458596085379,
          22.824600437818006,
          23.69396943889079,
          24.43466748103922,
          25.134875007636857,
          25.91741242124737,
          26.62865764811245,
          27.238990806092563,
          27.746762317343162,
          28.367243478941496,
          28.95843774198969,
          29.547759851381716,
          30.022822371810488,
          30.51619114551133,
          31.02580389576388,
          31.576470900283475,
          32.12514504608932,
          32.58034842938726,
          33.04963624021987,
          33.491605330040855,
          33.99699187899235,
          34.497134704385786,
          34.993677449470546,
          35.358392598600545,
          35.77453146928964,
          36.15777248795885,
          36.545507841608824,
          36.887383187746245,
          37.254118000932294,
          37.58093838009364,
          37.917544632352346,
          38.300221763406604,
          38.607391796148114,
          38.91192562728426,
          39.26331933516006,
          39.55251332784965,
          39.8286823696743,
          40.13112396007252,
          40.43358597448227,
          40.778862721186115,
          41.055276545825805,
          41.332814564047474,
          41.64124076596228,
          41.92267208302148,
          42.27954298294407,
          42.54795472183741,
          42.79835299262476,
          43.09743045777981,
          43.423905510364136,
          43.7669980305498,
          44.12385619607751,
          44.39259358129901,
          44.73018823013757,
          45.04833773026134,
          45.4815728353516,
          45.959762439597995,
          46.451193511856715,
          46.9592499384099,
          47.61104538993969,
          48.614413858132366
         ],
         "yaxis": "y",
         "type": "scatter"
        }
       ],
       "layout": {
        "template": {
         "data": {
          "bar": [
           {
            "error_x": {
             "color": "#2a3f5f"
            },
            "error_y": {
             "color": "#2a3f5f"
            },
            "marker": {
             "line": {
              "color": "#E5ECF6",
              "width": 0.5
             },
             "pattern": {
              "fillmode": "overlay",
              "size": 10,
              "solidity": 0.2
             }
            },
            "type": "bar"
           }
          ],
          "barpolar": [
           {
            "marker": {
             "line": {
              "color": "#E5ECF6",
              "width": 0.5
             },
             "pattern": {
              "fillmode": "overlay",
              "size": 10,
              "solidity": 0.2
             }
            },
            "type": "barpolar"
           }
          ],
          "carpet": [
           {
            "aaxis": {
             "endlinecolor": "#2a3f5f",
             "gridcolor": "white",
             "linecolor": "white",
             "minorgridcolor": "white",
             "startlinecolor": "#2a3f5f"
            },
            "baxis": {
             "endlinecolor": "#2a3f5f",
             "gridcolor": "white",
             "linecolor": "white",
             "minorgridcolor": "white",
             "startlinecolor": "#2a3f5f"
            },
            "type": "carpet"
           }
          ],
          "choropleth": [
           {
            "colorbar": {
             "outlinewidth": 0,
             "ticks": ""
            },
            "type": "choropleth"
           }
          ],
          "contour": [
           {
            "colorbar": {
             "outlinewidth": 0,
             "ticks": ""
            },
            "colorscale": [
             [
              0.0,
              "#0d0887"
             ],
             [
              0.1111111111111111,
              "#46039f"
             ],
             [
              0.2222222222222222,
              "#7201a8"
             ],
             [
              0.3333333333333333,
              "#9c179e"
             ],
             [
              0.4444444444444444,
              "#bd3786"
             ],
             [
              0.5555555555555556,
              "#d8576b"
             ],
             [
              0.6666666666666666,
              "#ed7953"
             ],
             [
              0.7777777777777778,
              "#fb9f3a"
             ],
             [
              0.8888888888888888,
              "#fdca26"
             ],
             [
              1.0,
              "#f0f921"
             ]
            ],
            "type": "contour"
           }
          ],
          "contourcarpet": [
           {
            "colorbar": {
             "outlinewidth": 0,
             "ticks": ""
            },
            "type": "contourcarpet"
           }
          ],
          "heatmap": [
           {
            "colorbar": {
             "outlinewidth": 0,
             "ticks": ""
            },
            "colorscale": [
             [
              0.0,
              "#0d0887"
             ],
             [
              0.1111111111111111,
              "#46039f"
             ],
             [
              0.2222222222222222,
              "#7201a8"
             ],
             [
              0.3333333333333333,
              "#9c179e"
             ],
             [
              0.4444444444444444,
              "#bd3786"
             ],
             [
              0.5555555555555556,
              "#d8576b"
             ],
             [
              0.6666666666666666,
              "#ed7953"
             ],
             [
              0.7777777777777778,
              "#fb9f3a"
             ],
             [
              0.8888888888888888,
              "#fdca26"
             ],
             [
              1.0,
              "#f0f921"
             ]
            ],
            "type": "heatmap"
           }
          ],
          "heatmapgl": [
           {
            "colorbar": {
             "outlinewidth": 0,
             "ticks": ""
            },
            "colorscale": [
             [
              0.0,
              "#0d0887"
             ],
             [
              0.1111111111111111,
              "#46039f"
             ],
             [
              0.2222222222222222,
              "#7201a8"
             ],
             [
              0.3333333333333333,
              "#9c179e"
             ],
             [
              0.4444444444444444,
              "#bd3786"
             ],
             [
              0.5555555555555556,
              "#d8576b"
             ],
             [
              0.6666666666666666,
              "#ed7953"
             ],
             [
              0.7777777777777778,
              "#fb9f3a"
             ],
             [
              0.8888888888888888,
              "#fdca26"
             ],
             [
              1.0,
              "#f0f921"
             ]
            ],
            "type": "heatmapgl"
           }
          ],
          "histogram": [
           {
            "marker": {
             "pattern": {
              "fillmode": "overlay",
              "size": 10,
              "solidity": 0.2
             }
            },
            "type": "histogram"
           }
          ],
          "histogram2d": [
           {
            "colorbar": {
             "outlinewidth": 0,
             "ticks": ""
            },
            "colorscale": [
             [
              0.0,
              "#0d0887"
             ],
             [
              0.1111111111111111,
              "#46039f"
             ],
             [
              0.2222222222222222,
              "#7201a8"
             ],
             [
              0.3333333333333333,
              "#9c179e"
             ],
             [
              0.4444444444444444,
              "#bd3786"
             ],
             [
              0.5555555555555556,
              "#d8576b"
             ],
             [
              0.6666666666666666,
              "#ed7953"
             ],
             [
              0.7777777777777778,
              "#fb9f3a"
             ],
             [
              0.8888888888888888,
              "#fdca26"
             ],
             [
              1.0,
              "#f0f921"
             ]
            ],
            "type": "histogram2d"
           }
          ],
          "histogram2dcontour": [
           {
            "colorbar": {
             "outlinewidth": 0,
             "ticks": ""
            },
            "colorscale": [
             [
              0.0,
              "#0d0887"
             ],
             [
              0.1111111111111111,
              "#46039f"
             ],
             [
              0.2222222222222222,
              "#7201a8"
             ],
             [
              0.3333333333333333,
              "#9c179e"
             ],
             [
              0.4444444444444444,
              "#bd3786"
             ],
             [
              0.5555555555555556,
              "#d8576b"
             ],
             [
              0.6666666666666666,
              "#ed7953"
             ],
             [
              0.7777777777777778,
              "#fb9f3a"
             ],
             [
              0.8888888888888888,
              "#fdca26"
             ],
             [
              1.0,
              "#f0f921"
             ]
            ],
            "type": "histogram2dcontour"
           }
          ],
          "mesh3d": [
           {
            "colorbar": {
             "outlinewidth": 0,
             "ticks": ""
            },
            "type": "mesh3d"
           }
          ],
          "parcoords": [
           {
            "line": {
             "colorbar": {
              "outlinewidth": 0,
              "ticks": ""
             }
            },
            "type": "parcoords"
           }
          ],
          "pie": [
           {
            "automargin": true,
            "type": "pie"
           }
          ],
          "scatter": [
           {
            "marker": {
             "colorbar": {
              "outlinewidth": 0,
              "ticks": ""
             }
            },
            "type": "scatter"
           }
          ],
          "scatter3d": [
           {
            "line": {
             "colorbar": {
              "outlinewidth": 0,
              "ticks": ""
             }
            },
            "marker": {
             "colorbar": {
              "outlinewidth": 0,
              "ticks": ""
             }
            },
            "type": "scatter3d"
           }
          ],
          "scattercarpet": [
           {
            "marker": {
             "colorbar": {
              "outlinewidth": 0,
              "ticks": ""
             }
            },
            "type": "scattercarpet"
           }
          ],
          "scattergeo": [
           {
            "marker": {
             "colorbar": {
              "outlinewidth": 0,
              "ticks": ""
             }
            },
            "type": "scattergeo"
           }
          ],
          "scattergl": [
           {
            "marker": {
             "colorbar": {
              "outlinewidth": 0,
              "ticks": ""
             }
            },
            "type": "scattergl"
           }
          ],
          "scattermapbox": [
           {
            "marker": {
             "colorbar": {
              "outlinewidth": 0,
              "ticks": ""
             }
            },
            "type": "scattermapbox"
           }
          ],
          "scatterpolar": [
           {
            "marker": {
             "colorbar": {
              "outlinewidth": 0,
              "ticks": ""
             }
            },
            "type": "scatterpolar"
           }
          ],
          "scatterpolargl": [
           {
            "marker": {
             "colorbar": {
              "outlinewidth": 0,
              "ticks": ""
             }
            },
            "type": "scatterpolargl"
           }
          ],
          "scatterternary": [
           {
            "marker": {
             "colorbar": {
              "outlinewidth": 0,
              "ticks": ""
             }
            },
            "type": "scatterternary"
           }
          ],
          "surface": [
           {
            "colorbar": {
             "outlinewidth": 0,
             "ticks": ""
            },
            "colorscale": [
             [
              0.0,
              "#0d0887"
             ],
             [
              0.1111111111111111,
              "#46039f"
             ],
             [
              0.2222222222222222,
              "#7201a8"
             ],
             [
              0.3333333333333333,
              "#9c179e"
             ],
             [
              0.4444444444444444,
              "#bd3786"
             ],
             [
              0.5555555555555556,
              "#d8576b"
             ],
             [
              0.6666666666666666,
              "#ed7953"
             ],
             [
              0.7777777777777778,
              "#fb9f3a"
             ],
             [
              0.8888888888888888,
              "#fdca26"
             ],
             [
              1.0,
              "#f0f921"
             ]
            ],
            "type": "surface"
           }
          ],
          "table": [
           {
            "cells": {
             "fill": {
              "color": "#EBF0F8"
             },
             "line": {
              "color": "white"
             }
            },
            "header": {
             "fill": {
              "color": "#C8D4E3"
             },
             "line": {
              "color": "white"
             }
            },
            "type": "table"
           }
          ]
         },
         "layout": {
          "annotationdefaults": {
           "arrowcolor": "#2a3f5f",
           "arrowhead": 0,
           "arrowwidth": 1
          },
          "autotypenumbers": "strict",
          "coloraxis": {
           "colorbar": {
            "outlinewidth": 0,
            "ticks": ""
           }
          },
          "colorscale": {
           "diverging": [
            [
             0,
             "#8e0152"
            ],
            [
             0.1,
             "#c51b7d"
            ],
            [
             0.2,
             "#de77ae"
            ],
            [
             0.3,
             "#f1b6da"
            ],
            [
             0.4,
             "#fde0ef"
            ],
            [
             0.5,
             "#f7f7f7"
            ],
            [
             0.6,
             "#e6f5d0"
            ],
            [
             0.7,
             "#b8e186"
            ],
            [
             0.8,
             "#7fbc41"
            ],
            [
             0.9,
             "#4d9221"
            ],
            [
             1,
             "#276419"
            ]
           ],
           "sequential": [
            [
             0.0,
             "#0d0887"
            ],
            [
             0.1111111111111111,
             "#46039f"
            ],
            [
             0.2222222222222222,
             "#7201a8"
            ],
            [
             0.3333333333333333,
             "#9c179e"
            ],
            [
             0.4444444444444444,
             "#bd3786"
            ],
            [
             0.5555555555555556,
             "#d8576b"
            ],
            [
             0.6666666666666666,
             "#ed7953"
            ],
            [
             0.7777777777777778,
             "#fb9f3a"
            ],
            [
             0.8888888888888888,
             "#fdca26"
            ],
            [
             1.0,
             "#f0f921"
            ]
           ],
           "sequentialminus": [
            [
             0.0,
             "#0d0887"
            ],
            [
             0.1111111111111111,
             "#46039f"
            ],
            [
             0.2222222222222222,
             "#7201a8"
            ],
            [
             0.3333333333333333,
             "#9c179e"
            ],
            [
             0.4444444444444444,
             "#bd3786"
            ],
            [
             0.5555555555555556,
             "#d8576b"
            ],
            [
             0.6666666666666666,
             "#ed7953"
            ],
            [
             0.7777777777777778,
             "#fb9f3a"
            ],
            [
             0.8888888888888888,
             "#fdca26"
            ],
            [
             1.0,
             "#f0f921"
            ]
           ]
          },
          "colorway": [
           "#636efa",
           "#EF553B",
           "#00cc96",
           "#ab63fa",
           "#FFA15A",
           "#19d3f3",
           "#FF6692",
           "#B6E880",
           "#FF97FF",
           "#FECB52"
          ],
          "font": {
           "color": "#2a3f5f"
          },
          "geo": {
           "bgcolor": "white",
           "lakecolor": "white",
           "landcolor": "#E5ECF6",
           "showlakes": true,
           "showland": true,
           "subunitcolor": "white"
          },
          "hoverlabel": {
           "align": "left"
          },
          "hovermode": "closest",
          "mapbox": {
           "style": "light"
          },
          "paper_bgcolor": "white",
          "plot_bgcolor": "#E5ECF6",
          "polar": {
           "angularaxis": {
            "gridcolor": "white",
            "linecolor": "white",
            "ticks": ""
           },
           "bgcolor": "#E5ECF6",
           "radialaxis": {
            "gridcolor": "white",
            "linecolor": "white",
            "ticks": ""
           }
          },
          "scene": {
           "xaxis": {
            "backgroundcolor": "#E5ECF6",
            "gridcolor": "white",
            "gridwidth": 2,
            "linecolor": "white",
            "showbackground": true,
            "ticks": "",
            "zerolinecolor": "white"
           },
           "yaxis": {
            "backgroundcolor": "#E5ECF6",
            "gridcolor": "white",
            "gridwidth": 2,
            "linecolor": "white",
            "showbackground": true,
            "ticks": "",
            "zerolinecolor": "white"
           },
           "zaxis": {
            "backgroundcolor": "#E5ECF6",
            "gridcolor": "white",
            "gridwidth": 2,
            "linecolor": "white",
            "showbackground": true,
            "ticks": "",
            "zerolinecolor": "white"
           }
          },
          "shapedefaults": {
           "line": {
            "color": "#2a3f5f"
           }
          },
          "ternary": {
           "aaxis": {
            "gridcolor": "white",
            "linecolor": "white",
            "ticks": ""
           },
           "baxis": {
            "gridcolor": "white",
            "linecolor": "white",
            "ticks": ""
           },
           "bgcolor": "#E5ECF6",
           "caxis": {
            "gridcolor": "white",
            "linecolor": "white",
            "ticks": ""
           }
          },
          "title": {
           "x": 0.05
          },
          "xaxis": {
           "automargin": true,
           "gridcolor": "white",
           "linecolor": "white",
           "ticks": "",
           "title": {
            "standoff": 15
           },
           "zerolinecolor": "white",
           "zerolinewidth": 2
          },
          "yaxis": {
           "automargin": true,
           "gridcolor": "white",
           "linecolor": "white",
           "ticks": "",
           "title": {
            "standoff": 15
           },
           "zerolinecolor": "white",
           "zerolinewidth": 2
          }
         }
        },
        "xaxis": {
         "anchor": "y",
         "domain": [
          0.0,
          1.0
         ],
         "title": {
          "text": "race_white_rate"
         }
        },
        "yaxis": {
         "anchor": "x",
         "domain": [
          0.0,
          1.0
         ],
         "title": {
          "text": "solar_systems_per_thousand_households"
         }
        },
        "legend": {
         "tracegroupgap": 0
        },
        "margin": {
         "t": 60
        }
       },
       "config": {
        "plotlyServerURL": "https://plot.ly"
       }
      },
      "text/html": "<div>                            <div id=\"19d9e13c-2758-4625-8cf4-613c798ac746\" class=\"plotly-graph-div\" style=\"height:525px; width:100%;\"></div>            <script type=\"text/javascript\">                require([\"plotly\"], function(Plotly) {                    window.PLOTLYENV=window.PLOTLYENV || {};                                    if (document.getElementById(\"19d9e13c-2758-4625-8cf4-613c798ac746\")) {                    Plotly.newPlot(                        \"19d9e13c-2758-4625-8cf4-613c798ac746\",                        [{\"hovertemplate\":\"race_white_rate=%{x}<br>solar_systems_per_thousand_households=%{y}<extra></extra>\",\"legendgroup\":\"\",\"marker\":{\"color\":\"LightPink\",\"symbol\":\"circle\"},\"mode\":\"markers\",\"name\":\"\",\"orientation\":\"v\",\"showlegend\":false,\"x\":[0.11821519336200001,0.181499100255,0.216174661747,0.247303732385,0.274028234384,0.30161923694,0.323625148639,0.342374075379,0.3600980855315,0.379906071788,0.39790947384099995,0.413358538122,0.426211509675,0.441917445401,0.456882056209,0.4717992781085,0.483824302998,0.49631270511,0.509212283044,0.5231510472075,0.5370393671145,0.548561707393,0.5604405598869999,0.571627906977,0.5844205091475,0.597080379512,0.609649122807,0.6188809787359999,0.6294144981409999,0.6391152903314999,0.6489298454219999,0.657583568605,0.666866547301,0.675139191479,0.6836595406695001,0.6933460594490001,0.701121304033,0.708829819737,0.7177244765485,0.7250447024355,0.732035234121,0.73969078996,0.747346862782,0.7560866839514999,0.7630834117045,0.770108595619,0.777915636998,0.785039370079,0.7940726683700001,0.800866843246,0.807205052027,0.8147754534114999,0.823039356507,0.8317238894204999,0.840756865372,0.847559283174,0.856104651163,0.8641578136270001,0.8751240816395,0.8872282608700002,0.8996676148945,0.912527798369,0.929026377378,0.954424151954],\"xaxis\":\"x\",\"y\":[17.213261693365666,18.818346648535325,21.207177814029365,19.08012238115206,21.546261089987325,24.103518682699534,23.21731095025412,23.543990086741015,23.080987814083898,24.6422893481717,22.183228357008844,29.14798206278027,20.40204818662528,20.89730118223957,25.602409638554217,31.266597540018775,30.27681660899654,23.67931903629622,25.862068965517242,24.966472102634324,29.767230202546646,32.30240549828179,28.379850883270855,29.454022988505745,38.25770301901147,31.64052127779837,36.2610797743755,32.827009056517255,43.386243386243386,30.595496473141615,42.88702928870293,46.74892159350419,42.9561733465923,37.698412698412696,34.305567459610316,43.39622641509434,36.41338226357123,44.52466907340553,37.73796060691735,49.148839174524106,37.07802988378528,52.7595574107202,50.18939393939394,48.97530231086415,44.26951208245354,46.66409564211338,37.32406716853744,39.83516483516483,47.95571899678903,49.16732751784298,53.617831541218635,42.55681276290932,44.3472829481574,59.041199924055434,47.78887303851641,50.60056547740125,60.25039123630673,47.29861043630356,43.64730910534242,36.878216123499136,38.54532514375361,31.724137931034484,30.105245981887904,16.365725923976058],\"yaxis\":\"y\",\"type\":\"scatter\"},{\"hovertemplate\":\"<b>OLS trendline</b><br>solar_systems_per_thousand_households = 39.5062 * race_white_rate + 10.9088<br>R<sup>2</sup>=0.536711<br><br>race_white_rate=%{x}<br>solar_systems_per_thousand_households=%{y} <b>(trend)</b><extra></extra>\",\"legendgroup\":\"\",\"line\":{\"color\":\"LightPink\"},\"marker\":{\"color\":\"LightPink\",\"symbol\":\"circle\"},\"mode\":\"lines\",\"name\":\"\",\"showlegend\":false,\"x\":[0.11821519336200001,0.181499100255,0.216174661747,0.247303732385,0.274028234384,0.30161923694,0.323625148639,0.342374075379,0.3600980855315,0.379906071788,0.39790947384099995,0.413358538122,0.426211509675,0.441917445401,0.456882056209,0.4717992781085,0.483824302998,0.49631270511,0.509212283044,0.5231510472075,0.5370393671145,0.548561707393,0.5604405598869999,0.571627906977,0.5844205091475,0.597080379512,0.609649122807,0.6188809787359999,0.6294144981409999,0.6391152903314999,0.6489298454219999,0.657583568605,0.666866547301,0.675139191479,0.6836595406695001,0.6933460594490001,0.701121304033,0.708829819737,0.7177244765485,0.7250447024355,0.732035234121,0.73969078996,0.747346862782,0.7560866839514999,0.7630834117045,0.770108595619,0.777915636998,0.785039370079,0.7940726683700001,0.800866843246,0.807205052027,0.8147754534114999,0.823039356507,0.8317238894204999,0.840756865372,0.847559283174,0.856104651163,0.8641578136270001,0.8751240816395,0.8872282608700002,0.8996676148945,0.912527798369,0.929026377378,0.954424151954],\"xaxis\":\"x\",\"y\":[15.57901150975918,18.07911546691767,19.44901364102094,20.678803590878452,21.73458596085379,22.824600437818006,23.69396943889079,24.43466748103922,25.134875007636857,25.91741242124737,26.62865764811245,27.238990806092563,27.746762317343162,28.367243478941496,28.95843774198969,29.547759851381716,30.022822371810488,30.51619114551133,31.02580389576388,31.576470900283475,32.12514504608932,32.58034842938726,33.04963624021987,33.491605330040855,33.99699187899235,34.497134704385786,34.993677449470546,35.358392598600545,35.77453146928964,36.15777248795885,36.545507841608824,36.887383187746245,37.254118000932294,37.58093838009364,37.917544632352346,38.300221763406604,38.607391796148114,38.91192562728426,39.26331933516006,39.55251332784965,39.8286823696743,40.13112396007252,40.43358597448227,40.778862721186115,41.055276545825805,41.332814564047474,41.64124076596228,41.92267208302148,42.27954298294407,42.54795472183741,42.79835299262476,43.09743045777981,43.423905510364136,43.7669980305498,44.12385619607751,44.39259358129901,44.73018823013757,45.04833773026134,45.4815728353516,45.959762439597995,46.451193511856715,46.9592499384099,47.61104538993969,48.614413858132366],\"yaxis\":\"y\",\"type\":\"scatter\"}],                        {\"template\":{\"data\":{\"bar\":[{\"error_x\":{\"color\":\"#2a3f5f\"},\"error_y\":{\"color\":\"#2a3f5f\"},\"marker\":{\"line\":{\"color\":\"#E5ECF6\",\"width\":0.5},\"pattern\":{\"fillmode\":\"overlay\",\"size\":10,\"solidity\":0.2}},\"type\":\"bar\"}],\"barpolar\":[{\"marker\":{\"line\":{\"color\":\"#E5ECF6\",\"width\":0.5},\"pattern\":{\"fillmode\":\"overlay\",\"size\":10,\"solidity\":0.2}},\"type\":\"barpolar\"}],\"carpet\":[{\"aaxis\":{\"endlinecolor\":\"#2a3f5f\",\"gridcolor\":\"white\",\"linecolor\":\"white\",\"minorgridcolor\":\"white\",\"startlinecolor\":\"#2a3f5f\"},\"baxis\":{\"endlinecolor\":\"#2a3f5f\",\"gridcolor\":\"white\",\"linecolor\":\"white\",\"minorgridcolor\":\"white\",\"startlinecolor\":\"#2a3f5f\"},\"type\":\"carpet\"}],\"choropleth\":[{\"colorbar\":{\"outlinewidth\":0,\"ticks\":\"\"},\"type\":\"choropleth\"}],\"contour\":[{\"colorbar\":{\"outlinewidth\":0,\"ticks\":\"\"},\"colorscale\":[[0.0,\"#0d0887\"],[0.1111111111111111,\"#46039f\"],[0.2222222222222222,\"#7201a8\"],[0.3333333333333333,\"#9c179e\"],[0.4444444444444444,\"#bd3786\"],[0.5555555555555556,\"#d8576b\"],[0.6666666666666666,\"#ed7953\"],[0.7777777777777778,\"#fb9f3a\"],[0.8888888888888888,\"#fdca26\"],[1.0,\"#f0f921\"]],\"type\":\"contour\"}],\"contourcarpet\":[{\"colorbar\":{\"outlinewidth\":0,\"ticks\":\"\"},\"type\":\"contourcarpet\"}],\"heatmap\":[{\"colorbar\":{\"outlinewidth\":0,\"ticks\":\"\"},\"colorscale\":[[0.0,\"#0d0887\"],[0.1111111111111111,\"#46039f\"],[0.2222222222222222,\"#7201a8\"],[0.3333333333333333,\"#9c179e\"],[0.4444444444444444,\"#bd3786\"],[0.5555555555555556,\"#d8576b\"],[0.6666666666666666,\"#ed7953\"],[0.7777777777777778,\"#fb9f3a\"],[0.8888888888888888,\"#fdca26\"],[1.0,\"#f0f921\"]],\"type\":\"heatmap\"}],\"heatmapgl\":[{\"colorbar\":{\"outlinewidth\":0,\"ticks\":\"\"},\"colorscale\":[[0.0,\"#0d0887\"],[0.1111111111111111,\"#46039f\"],[0.2222222222222222,\"#7201a8\"],[0.3333333333333333,\"#9c179e\"],[0.4444444444444444,\"#bd3786\"],[0.5555555555555556,\"#d8576b\"],[0.6666666666666666,\"#ed7953\"],[0.7777777777777778,\"#fb9f3a\"],[0.8888888888888888,\"#fdca26\"],[1.0,\"#f0f921\"]],\"type\":\"heatmapgl\"}],\"histogram\":[{\"marker\":{\"pattern\":{\"fillmode\":\"overlay\",\"size\":10,\"solidity\":0.2}},\"type\":\"histogram\"}],\"histogram2d\":[{\"colorbar\":{\"outlinewidth\":0,\"ticks\":\"\"},\"colorscale\":[[0.0,\"#0d0887\"],[0.1111111111111111,\"#46039f\"],[0.2222222222222222,\"#7201a8\"],[0.3333333333333333,\"#9c179e\"],[0.4444444444444444,\"#bd3786\"],[0.5555555555555556,\"#d8576b\"],[0.6666666666666666,\"#ed7953\"],[0.7777777777777778,\"#fb9f3a\"],[0.8888888888888888,\"#fdca26\"],[1.0,\"#f0f921\"]],\"type\":\"histogram2d\"}],\"histogram2dcontour\":[{\"colorbar\":{\"outlinewidth\":0,\"ticks\":\"\"},\"colorscale\":[[0.0,\"#0d0887\"],[0.1111111111111111,\"#46039f\"],[0.2222222222222222,\"#7201a8\"],[0.3333333333333333,\"#9c179e\"],[0.4444444444444444,\"#bd3786\"],[0.5555555555555556,\"#d8576b\"],[0.6666666666666666,\"#ed7953\"],[0.7777777777777778,\"#fb9f3a\"],[0.8888888888888888,\"#fdca26\"],[1.0,\"#f0f921\"]],\"type\":\"histogram2dcontour\"}],\"mesh3d\":[{\"colorbar\":{\"outlinewidth\":0,\"ticks\":\"\"},\"type\":\"mesh3d\"}],\"parcoords\":[{\"line\":{\"colorbar\":{\"outlinewidth\":0,\"ticks\":\"\"}},\"type\":\"parcoords\"}],\"pie\":[{\"automargin\":true,\"type\":\"pie\"}],\"scatter\":[{\"marker\":{\"colorbar\":{\"outlinewidth\":0,\"ticks\":\"\"}},\"type\":\"scatter\"}],\"scatter3d\":[{\"line\":{\"colorbar\":{\"outlinewidth\":0,\"ticks\":\"\"}},\"marker\":{\"colorbar\":{\"outlinewidth\":0,\"ticks\":\"\"}},\"type\":\"scatter3d\"}],\"scattercarpet\":[{\"marker\":{\"colorbar\":{\"outlinewidth\":0,\"ticks\":\"\"}},\"type\":\"scattercarpet\"}],\"scattergeo\":[{\"marker\":{\"colorbar\":{\"outlinewidth\":0,\"ticks\":\"\"}},\"type\":\"scattergeo\"}],\"scattergl\":[{\"marker\":{\"colorbar\":{\"outlinewidth\":0,\"ticks\":\"\"}},\"type\":\"scattergl\"}],\"scattermapbox\":[{\"marker\":{\"colorbar\":{\"outlinewidth\":0,\"ticks\":\"\"}},\"type\":\"scattermapbox\"}],\"scatterpolar\":[{\"marker\":{\"colorbar\":{\"outlinewidth\":0,\"ticks\":\"\"}},\"type\":\"scatterpolar\"}],\"scatterpolargl\":[{\"marker\":{\"colorbar\":{\"outlinewidth\":0,\"ticks\":\"\"}},\"type\":\"scatterpolargl\"}],\"scatterternary\":[{\"marker\":{\"colorbar\":{\"outlinewidth\":0,\"ticks\":\"\"}},\"type\":\"scatterternary\"}],\"surface\":[{\"colorbar\":{\"outlinewidth\":0,\"ticks\":\"\"},\"colorscale\":[[0.0,\"#0d0887\"],[0.1111111111111111,\"#46039f\"],[0.2222222222222222,\"#7201a8\"],[0.3333333333333333,\"#9c179e\"],[0.4444444444444444,\"#bd3786\"],[0.5555555555555556,\"#d8576b\"],[0.6666666666666666,\"#ed7953\"],[0.7777777777777778,\"#fb9f3a\"],[0.8888888888888888,\"#fdca26\"],[1.0,\"#f0f921\"]],\"type\":\"surface\"}],\"table\":[{\"cells\":{\"fill\":{\"color\":\"#EBF0F8\"},\"line\":{\"color\":\"white\"}},\"header\":{\"fill\":{\"color\":\"#C8D4E3\"},\"line\":{\"color\":\"white\"}},\"type\":\"table\"}]},\"layout\":{\"annotationdefaults\":{\"arrowcolor\":\"#2a3f5f\",\"arrowhead\":0,\"arrowwidth\":1},\"autotypenumbers\":\"strict\",\"coloraxis\":{\"colorbar\":{\"outlinewidth\":0,\"ticks\":\"\"}},\"colorscale\":{\"diverging\":[[0,\"#8e0152\"],[0.1,\"#c51b7d\"],[0.2,\"#de77ae\"],[0.3,\"#f1b6da\"],[0.4,\"#fde0ef\"],[0.5,\"#f7f7f7\"],[0.6,\"#e6f5d0\"],[0.7,\"#b8e186\"],[0.8,\"#7fbc41\"],[0.9,\"#4d9221\"],[1,\"#276419\"]],\"sequential\":[[0.0,\"#0d0887\"],[0.1111111111111111,\"#46039f\"],[0.2222222222222222,\"#7201a8\"],[0.3333333333333333,\"#9c179e\"],[0.4444444444444444,\"#bd3786\"],[0.5555555555555556,\"#d8576b\"],[0.6666666666666666,\"#ed7953\"],[0.7777777777777778,\"#fb9f3a\"],[0.8888888888888888,\"#fdca26\"],[1.0,\"#f0f921\"]],\"sequentialminus\":[[0.0,\"#0d0887\"],[0.1111111111111111,\"#46039f\"],[0.2222222222222222,\"#7201a8\"],[0.3333333333333333,\"#9c179e\"],[0.4444444444444444,\"#bd3786\"],[0.5555555555555556,\"#d8576b\"],[0.6666666666666666,\"#ed7953\"],[0.7777777777777778,\"#fb9f3a\"],[0.8888888888888888,\"#fdca26\"],[1.0,\"#f0f921\"]]},\"colorway\":[\"#636efa\",\"#EF553B\",\"#00cc96\",\"#ab63fa\",\"#FFA15A\",\"#19d3f3\",\"#FF6692\",\"#B6E880\",\"#FF97FF\",\"#FECB52\"],\"font\":{\"color\":\"#2a3f5f\"},\"geo\":{\"bgcolor\":\"white\",\"lakecolor\":\"white\",\"landcolor\":\"#E5ECF6\",\"showlakes\":true,\"showland\":true,\"subunitcolor\":\"white\"},\"hoverlabel\":{\"align\":\"left\"},\"hovermode\":\"closest\",\"mapbox\":{\"style\":\"light\"},\"paper_bgcolor\":\"white\",\"plot_bgcolor\":\"#E5ECF6\",\"polar\":{\"angularaxis\":{\"gridcolor\":\"white\",\"linecolor\":\"white\",\"ticks\":\"\"},\"bgcolor\":\"#E5ECF6\",\"radialaxis\":{\"gridcolor\":\"white\",\"linecolor\":\"white\",\"ticks\":\"\"}},\"scene\":{\"xaxis\":{\"backgroundcolor\":\"#E5ECF6\",\"gridcolor\":\"white\",\"gridwidth\":2,\"linecolor\":\"white\",\"showbackground\":true,\"ticks\":\"\",\"zerolinecolor\":\"white\"},\"yaxis\":{\"backgroundcolor\":\"#E5ECF6\",\"gridcolor\":\"white\",\"gridwidth\":2,\"linecolor\":\"white\",\"showbackground\":true,\"ticks\":\"\",\"zerolinecolor\":\"white\"},\"zaxis\":{\"backgroundcolor\":\"#E5ECF6\",\"gridcolor\":\"white\",\"gridwidth\":2,\"linecolor\":\"white\",\"showbackground\":true,\"ticks\":\"\",\"zerolinecolor\":\"white\"}},\"shapedefaults\":{\"line\":{\"color\":\"#2a3f5f\"}},\"ternary\":{\"aaxis\":{\"gridcolor\":\"white\",\"linecolor\":\"white\",\"ticks\":\"\"},\"baxis\":{\"gridcolor\":\"white\",\"linecolor\":\"white\",\"ticks\":\"\"},\"bgcolor\":\"#E5ECF6\",\"caxis\":{\"gridcolor\":\"white\",\"linecolor\":\"white\",\"ticks\":\"\"}},\"title\":{\"x\":0.05},\"xaxis\":{\"automargin\":true,\"gridcolor\":\"white\",\"linecolor\":\"white\",\"ticks\":\"\",\"title\":{\"standoff\":15},\"zerolinecolor\":\"white\",\"zerolinewidth\":2},\"yaxis\":{\"automargin\":true,\"gridcolor\":\"white\",\"linecolor\":\"white\",\"ticks\":\"\",\"title\":{\"standoff\":15},\"zerolinecolor\":\"white\",\"zerolinewidth\":2}}},\"xaxis\":{\"anchor\":\"y\",\"domain\":[0.0,1.0],\"title\":{\"text\":\"race_white_rate\"}},\"yaxis\":{\"anchor\":\"x\",\"domain\":[0.0,1.0],\"title\":{\"text\":\"solar_systems_per_thousand_households\"}},\"legend\":{\"tracegroupgap\":0},\"margin\":{\"t\":60}},                        {\"responsive\": true}                    ).then(function(){\n                            \nvar gd = document.getElementById('19d9e13c-2758-4625-8cf4-613c798ac746');\nvar x = new MutationObserver(function (mutations, observer) {{\n        var display = window.getComputedStyle(gd).display;\n        if (!display || display === 'none') {{\n            console.log([gd, 'removed!']);\n            Plotly.purge(gd);\n            observer.disconnect();\n        }}\n}});\n\n// Listen for the removal of the full notebook cells\nvar notebookContainer = gd.closest('#notebook-container');\nif (notebookContainer) {{\n    x.observe(notebookContainer, {childList: true});\n}}\n\n// Listen for the clearing of the current output cell\nvar outputEl = gd.closest('.output');\nif (outputEl) {{\n    x.observe(outputEl, {childList: true});\n}}\n\n                        })                };                });            </script>        </div>"
     },
     "metadata": {},
     "output_type": "display_data"
    },
    {
     "name": "stdout",
     "output_type": "stream",
     "text": [
      "results:  <statsmodels.regression.linear_model.RegressionResultsWrapper object at 0x7fabd014f6d0>\n",
      "alpha:  10.90878352872907\n",
      "beta:  39.50615693474255\n",
      "p_beta:  5.9546394530474326e-12\n",
      "r_squared:  0.5367110309917853\n"
     ]
    }
   ]
  },
  {
   "cell_type": "code",
   "source": [
    "hi8 = median_dataframe(\"education_bachelor_binned\", 'education_bachelor_rate')\n",
    "plot_scatter(hi8, 'education_bachelor_rate', 'solar_systems_per_thousand_households', 'CadetBlue', 'education_bachelor')"
   ],
   "metadata": {
    "execution": {
     "iopub.status.busy": "2022-01-30T17:06:37.344341Z",
     "iopub.execute_input": "2022-01-30T17:06:37.344595Z",
     "iopub.status.idle": "2022-01-30T17:06:37.462394Z",
     "shell.execute_reply.started": "2022-01-30T17:06:37.344564Z",
     "shell.execute_reply": "2022-01-30T17:06:37.461359Z"
    },
    "trusted": true
   },
   "execution_count": 40,
   "outputs": [
    {
     "data": {
      "application/vnd.plotly.v1+json": {
       "data": [
        {
         "hovertemplate": "education_bachelor_rate=%{x}<br>solar_systems_per_thousand_households=%{y}<extra></extra>",
         "legendgroup": "",
         "marker": {
          "color": "CadetBlue",
          "symbol": "circle"
         },
         "mode": "markers",
         "name": "",
         "orientation": "v",
         "showlegend": false,
         "x": [
          0.01595193351825,
          0.02531593810635,
          0.0314685314685,
          0.0378452215899,
          0.0430379746835,
          0.04779484303705,
          0.052519471521000005,
          0.0571693448702,
          0.062704881484,
          0.0675,
          0.07150760985949994,
          0.0763226366002,
          0.0808286033712,
          0.0846567689766,
          0.0892388451444,
          0.09358545602794999,
          0.0985738255034,
          0.1036962438165,
          0.107893242476,
          0.1125790838795,
          0.1173047498945,
          0.122735674677,
          0.127734119099,
          0.132360604482,
          0.137826987286,
          0.14362781949399994,
          0.148606811146,
          0.1541391813875,
          0.16081025217,
          0.166014191338,
          0.171648416691,
          0.1770526259205,
          0.18295335419050002,
          0.188618363156,
          0.19490750094999998,
          0.200861907439,
          0.206425728205,
          0.212756756757,
          0.2203206794305,
          0.22632153151950002,
          0.232711306257,
          0.238412794949,
          0.243664717349,
          0.25,
          0.257043356213,
          0.264624724062,
          0.2708637512485,
          0.277687296417,
          0.2843351160865,
          0.291052451148,
          0.29889480214499997,
          0.3051894999235,
          0.312401388451,
          0.319397739778,
          0.32679447169,
          0.335002834886,
          0.34376018247,
          0.35092591569599996,
          0.36002860955000004,
          0.371035940803,
          0.3818201146645,
          0.396066773382,
          0.41792254111250005,
          0.46015581761650004
         ],
         "xaxis": "x",
         "y": [
          13.187636256637287,
          18.411539510021214,
          17.543859649122805,
          19.160742782533006,
          19.37269372693727,
          21.724828375286044,
          23.4254316871358,
          22.351797862001945,
          22.041506868509686,
          19.9203187250996,
          24.927429531828025,
          23.961661341853034,
          29.34961907260747,
          24.76418538095377,
          24.390243902439025,
          25.924552646543383,
          27.11323763955343,
          31.704366015216454,
          28.814669286182056,
          29.003955252516306,
          32.276173389663754,
          30.324400564174894,
          31.124126259121255,
          34.72222222222222,
          28.91894654879664,
          27.62103805021699,
          28.402366863905325,
          28.343867092619675,
          40.92526690391459,
          33.82163265654762,
          40.21937842778794,
          29.275771265885304,
          42.90524555148633,
          38.42412451361868,
          32.3864723089674,
          42.19143576826197,
          37.49129899336046,
          37.07802988378528,
          47.5562991368206,
          44.17612585031725,
          49.597855227882036,
          44.929082844480206,
          43.0622009569378,
          42.50106869224952,
          51.271765614785764,
          47.790802524797115,
          44.8873583302011,
          46.39758581667296,
          41.323790393704755,
          47.751249305941144,
          56.767147636654826,
          44.42466976887154,
          41.11531190926276,
          44.367357171810895,
          52.162849872773535,
          52.310955886657695,
          50.70422535211268,
          52.522930464727175,
          44.663167104111984,
          48.769371011850495,
          40.411494525944846,
          32.83582089552239,
          24.536327944727216,
          15.557458033396664
         ],
         "yaxis": "y",
         "type": "scatter"
        },
        {
         "hovertemplate": "<b>OLS trendline</b><br>solar_systems_per_thousand_households = 66.3108 * education_bachelor_rate + 22.1479<br>R<sup>2</sup>=0.458584<br><br>education_bachelor_rate=%{x}<br>solar_systems_per_thousand_households=%{y} <b>(trend)</b><extra></extra>",
         "legendgroup": "",
         "line": {
          "color": "CadetBlue"
         },
         "marker": {
          "color": "CadetBlue",
          "symbol": "circle"
         },
         "mode": "lines",
         "name": "",
         "showlegend": false,
         "x": [
          0.01595193351825,
          0.02531593810635,
          0.0314685314685,
          0.0378452215899,
          0.0430379746835,
          0.04779484303705,
          0.052519471521000005,
          0.0571693448702,
          0.062704881484,
          0.0675,
          0.07150760985949994,
          0.0763226366002,
          0.0808286033712,
          0.0846567689766,
          0.0892388451444,
          0.09358545602794999,
          0.0985738255034,
          0.1036962438165,
          0.107893242476,
          0.1125790838795,
          0.1173047498945,
          0.122735674677,
          0.127734119099,
          0.132360604482,
          0.137826987286,
          0.14362781949399994,
          0.148606811146,
          0.1541391813875,
          0.16081025217,
          0.166014191338,
          0.171648416691,
          0.1770526259205,
          0.18295335419050002,
          0.188618363156,
          0.19490750094999998,
          0.200861907439,
          0.206425728205,
          0.212756756757,
          0.2203206794305,
          0.22632153151950002,
          0.232711306257,
          0.238412794949,
          0.243664717349,
          0.25,
          0.257043356213,
          0.264624724062,
          0.2708637512485,
          0.277687296417,
          0.2843351160865,
          0.291052451148,
          0.29889480214499997,
          0.3051894999235,
          0.312401388451,
          0.319397739778,
          0.32679447169,
          0.335002834886,
          0.34376018247,
          0.35092591569599996,
          0.36002860955000004,
          0.371035940803,
          0.3818201146645,
          0.396066773382,
          0.41792254111250005,
          0.46015581761650004
         ],
         "xaxis": "x",
         "y": [
          23.205689623337094,
          23.826623945660856,
          24.23460712784717,
          24.657450337923333,
          25.001785776125352,
          25.31721736308213,
          25.630511099571883,
          25.938847765771943,
          26.305913441963128,
          26.623881426513073,
          26.889629108376557,
          27.208917222567244,
          27.507711333253596,
          27.761559929072632,
          28.065400912203337,
          28.35362801183677,
          28.68441061564662,
          29.024082100637738,
          29.30238829900742,
          29.613110034459844,
          29.926472570428853,
          30.286601355895115,
          30.618052037133765,
          30.924837829366783,
          31.287317863419474,
          31.671975493827482,
          32.00213624697569,
          32.36899195859244,
          32.81135577596707,
          33.15643297133737,
          33.53004277347591,
          33.88840003014362,
          34.279681844999345,
          34.6553329320803,
          35.072370480212314,
          35.4672117389176,
          35.8361529589227,
          36.255968315329554,
          36.757537826022414,
          37.15545892806711,
          37.57916978906703,
          37.95723987477616,
          38.30549887504248,
          38.725596324015044,
          39.19264667366586,
          39.69537298731894,
          40.10908766265476,
          40.56156217344607,
          41.00238419169426,
          41.4478158288738,
          41.967848135130424,
          42.3852543700967,
          42.86348022671244,
          43.32741364634046,
          43.81789660947623,
          44.36219946521946,
          44.942905896561356,
          45.41807115975374,
          46.021677766988546,
          46.75158234017303,
          47.46668917566325,
          48.411396036162955,
          49.86066874816589,
          52.661189687556444
         ],
         "yaxis": "y",
         "type": "scatter"
        }
       ],
       "layout": {
        "template": {
         "data": {
          "bar": [
           {
            "error_x": {
             "color": "#2a3f5f"
            },
            "error_y": {
             "color": "#2a3f5f"
            },
            "marker": {
             "line": {
              "color": "#E5ECF6",
              "width": 0.5
             },
             "pattern": {
              "fillmode": "overlay",
              "size": 10,
              "solidity": 0.2
             }
            },
            "type": "bar"
           }
          ],
          "barpolar": [
           {
            "marker": {
             "line": {
              "color": "#E5ECF6",
              "width": 0.5
             },
             "pattern": {
              "fillmode": "overlay",
              "size": 10,
              "solidity": 0.2
             }
            },
            "type": "barpolar"
           }
          ],
          "carpet": [
           {
            "aaxis": {
             "endlinecolor": "#2a3f5f",
             "gridcolor": "white",
             "linecolor": "white",
             "minorgridcolor": "white",
             "startlinecolor": "#2a3f5f"
            },
            "baxis": {
             "endlinecolor": "#2a3f5f",
             "gridcolor": "white",
             "linecolor": "white",
             "minorgridcolor": "white",
             "startlinecolor": "#2a3f5f"
            },
            "type": "carpet"
           }
          ],
          "choropleth": [
           {
            "colorbar": {
             "outlinewidth": 0,
             "ticks": ""
            },
            "type": "choropleth"
           }
          ],
          "contour": [
           {
            "colorbar": {
             "outlinewidth": 0,
             "ticks": ""
            },
            "colorscale": [
             [
              0.0,
              "#0d0887"
             ],
             [
              0.1111111111111111,
              "#46039f"
             ],
             [
              0.2222222222222222,
              "#7201a8"
             ],
             [
              0.3333333333333333,
              "#9c179e"
             ],
             [
              0.4444444444444444,
              "#bd3786"
             ],
             [
              0.5555555555555556,
              "#d8576b"
             ],
             [
              0.6666666666666666,
              "#ed7953"
             ],
             [
              0.7777777777777778,
              "#fb9f3a"
             ],
             [
              0.8888888888888888,
              "#fdca26"
             ],
             [
              1.0,
              "#f0f921"
             ]
            ],
            "type": "contour"
           }
          ],
          "contourcarpet": [
           {
            "colorbar": {
             "outlinewidth": 0,
             "ticks": ""
            },
            "type": "contourcarpet"
           }
          ],
          "heatmap": [
           {
            "colorbar": {
             "outlinewidth": 0,
             "ticks": ""
            },
            "colorscale": [
             [
              0.0,
              "#0d0887"
             ],
             [
              0.1111111111111111,
              "#46039f"
             ],
             [
              0.2222222222222222,
              "#7201a8"
             ],
             [
              0.3333333333333333,
              "#9c179e"
             ],
             [
              0.4444444444444444,
              "#bd3786"
             ],
             [
              0.5555555555555556,
              "#d8576b"
             ],
             [
              0.6666666666666666,
              "#ed7953"
             ],
             [
              0.7777777777777778,
              "#fb9f3a"
             ],
             [
              0.8888888888888888,
              "#fdca26"
             ],
             [
              1.0,
              "#f0f921"
             ]
            ],
            "type": "heatmap"
           }
          ],
          "heatmapgl": [
           {
            "colorbar": {
             "outlinewidth": 0,
             "ticks": ""
            },
            "colorscale": [
             [
              0.0,
              "#0d0887"
             ],
             [
              0.1111111111111111,
              "#46039f"
             ],
             [
              0.2222222222222222,
              "#7201a8"
             ],
             [
              0.3333333333333333,
              "#9c179e"
             ],
             [
              0.4444444444444444,
              "#bd3786"
             ],
             [
              0.5555555555555556,
              "#d8576b"
             ],
             [
              0.6666666666666666,
              "#ed7953"
             ],
             [
              0.7777777777777778,
              "#fb9f3a"
             ],
             [
              0.8888888888888888,
              "#fdca26"
             ],
             [
              1.0,
              "#f0f921"
             ]
            ],
            "type": "heatmapgl"
           }
          ],
          "histogram": [
           {
            "marker": {
             "pattern": {
              "fillmode": "overlay",
              "size": 10,
              "solidity": 0.2
             }
            },
            "type": "histogram"
           }
          ],
          "histogram2d": [
           {
            "colorbar": {
             "outlinewidth": 0,
             "ticks": ""
            },
            "colorscale": [
             [
              0.0,
              "#0d0887"
             ],
             [
              0.1111111111111111,
              "#46039f"
             ],
             [
              0.2222222222222222,
              "#7201a8"
             ],
             [
              0.3333333333333333,
              "#9c179e"
             ],
             [
              0.4444444444444444,
              "#bd3786"
             ],
             [
              0.5555555555555556,
              "#d8576b"
             ],
             [
              0.6666666666666666,
              "#ed7953"
             ],
             [
              0.7777777777777778,
              "#fb9f3a"
             ],
             [
              0.8888888888888888,
              "#fdca26"
             ],
             [
              1.0,
              "#f0f921"
             ]
            ],
            "type": "histogram2d"
           }
          ],
          "histogram2dcontour": [
           {
            "colorbar": {
             "outlinewidth": 0,
             "ticks": ""
            },
            "colorscale": [
             [
              0.0,
              "#0d0887"
             ],
             [
              0.1111111111111111,
              "#46039f"
             ],
             [
              0.2222222222222222,
              "#7201a8"
             ],
             [
              0.3333333333333333,
              "#9c179e"
             ],
             [
              0.4444444444444444,
              "#bd3786"
             ],
             [
              0.5555555555555556,
              "#d8576b"
             ],
             [
              0.6666666666666666,
              "#ed7953"
             ],
             [
              0.7777777777777778,
              "#fb9f3a"
             ],
             [
              0.8888888888888888,
              "#fdca26"
             ],
             [
              1.0,
              "#f0f921"
             ]
            ],
            "type": "histogram2dcontour"
           }
          ],
          "mesh3d": [
           {
            "colorbar": {
             "outlinewidth": 0,
             "ticks": ""
            },
            "type": "mesh3d"
           }
          ],
          "parcoords": [
           {
            "line": {
             "colorbar": {
              "outlinewidth": 0,
              "ticks": ""
             }
            },
            "type": "parcoords"
           }
          ],
          "pie": [
           {
            "automargin": true,
            "type": "pie"
           }
          ],
          "scatter": [
           {
            "marker": {
             "colorbar": {
              "outlinewidth": 0,
              "ticks": ""
             }
            },
            "type": "scatter"
           }
          ],
          "scatter3d": [
           {
            "line": {
             "colorbar": {
              "outlinewidth": 0,
              "ticks": ""
             }
            },
            "marker": {
             "colorbar": {
              "outlinewidth": 0,
              "ticks": ""
             }
            },
            "type": "scatter3d"
           }
          ],
          "scattercarpet": [
           {
            "marker": {
             "colorbar": {
              "outlinewidth": 0,
              "ticks": ""
             }
            },
            "type": "scattercarpet"
           }
          ],
          "scattergeo": [
           {
            "marker": {
             "colorbar": {
              "outlinewidth": 0,
              "ticks": ""
             }
            },
            "type": "scattergeo"
           }
          ],
          "scattergl": [
           {
            "marker": {
             "colorbar": {
              "outlinewidth": 0,
              "ticks": ""
             }
            },
            "type": "scattergl"
           }
          ],
          "scattermapbox": [
           {
            "marker": {
             "colorbar": {
              "outlinewidth": 0,
              "ticks": ""
             }
            },
            "type": "scattermapbox"
           }
          ],
          "scatterpolar": [
           {
            "marker": {
             "colorbar": {
              "outlinewidth": 0,
              "ticks": ""
             }
            },
            "type": "scatterpolar"
           }
          ],
          "scatterpolargl": [
           {
            "marker": {
             "colorbar": {
              "outlinewidth": 0,
              "ticks": ""
             }
            },
            "type": "scatterpolargl"
           }
          ],
          "scatterternary": [
           {
            "marker": {
             "colorbar": {
              "outlinewidth": 0,
              "ticks": ""
             }
            },
            "type": "scatterternary"
           }
          ],
          "surface": [
           {
            "colorbar": {
             "outlinewidth": 0,
             "ticks": ""
            },
            "colorscale": [
             [
              0.0,
              "#0d0887"
             ],
             [
              0.1111111111111111,
              "#46039f"
             ],
             [
              0.2222222222222222,
              "#7201a8"
             ],
             [
              0.3333333333333333,
              "#9c179e"
             ],
             [
              0.4444444444444444,
              "#bd3786"
             ],
             [
              0.5555555555555556,
              "#d8576b"
             ],
             [
              0.6666666666666666,
              "#ed7953"
             ],
             [
              0.7777777777777778,
              "#fb9f3a"
             ],
             [
              0.8888888888888888,
              "#fdca26"
             ],
             [
              1.0,
              "#f0f921"
             ]
            ],
            "type": "surface"
           }
          ],
          "table": [
           {
            "cells": {
             "fill": {
              "color": "#EBF0F8"
             },
             "line": {
              "color": "white"
             }
            },
            "header": {
             "fill": {
              "color": "#C8D4E3"
             },
             "line": {
              "color": "white"
             }
            },
            "type": "table"
           }
          ]
         },
         "layout": {
          "annotationdefaults": {
           "arrowcolor": "#2a3f5f",
           "arrowhead": 0,
           "arrowwidth": 1
          },
          "autotypenumbers": "strict",
          "coloraxis": {
           "colorbar": {
            "outlinewidth": 0,
            "ticks": ""
           }
          },
          "colorscale": {
           "diverging": [
            [
             0,
             "#8e0152"
            ],
            [
             0.1,
             "#c51b7d"
            ],
            [
             0.2,
             "#de77ae"
            ],
            [
             0.3,
             "#f1b6da"
            ],
            [
             0.4,
             "#fde0ef"
            ],
            [
             0.5,
             "#f7f7f7"
            ],
            [
             0.6,
             "#e6f5d0"
            ],
            [
             0.7,
             "#b8e186"
            ],
            [
             0.8,
             "#7fbc41"
            ],
            [
             0.9,
             "#4d9221"
            ],
            [
             1,
             "#276419"
            ]
           ],
           "sequential": [
            [
             0.0,
             "#0d0887"
            ],
            [
             0.1111111111111111,
             "#46039f"
            ],
            [
             0.2222222222222222,
             "#7201a8"
            ],
            [
             0.3333333333333333,
             "#9c179e"
            ],
            [
             0.4444444444444444,
             "#bd3786"
            ],
            [
             0.5555555555555556,
             "#d8576b"
            ],
            [
             0.6666666666666666,
             "#ed7953"
            ],
            [
             0.7777777777777778,
             "#fb9f3a"
            ],
            [
             0.8888888888888888,
             "#fdca26"
            ],
            [
             1.0,
             "#f0f921"
            ]
           ],
           "sequentialminus": [
            [
             0.0,
             "#0d0887"
            ],
            [
             0.1111111111111111,
             "#46039f"
            ],
            [
             0.2222222222222222,
             "#7201a8"
            ],
            [
             0.3333333333333333,
             "#9c179e"
            ],
            [
             0.4444444444444444,
             "#bd3786"
            ],
            [
             0.5555555555555556,
             "#d8576b"
            ],
            [
             0.6666666666666666,
             "#ed7953"
            ],
            [
             0.7777777777777778,
             "#fb9f3a"
            ],
            [
             0.8888888888888888,
             "#fdca26"
            ],
            [
             1.0,
             "#f0f921"
            ]
           ]
          },
          "colorway": [
           "#636efa",
           "#EF553B",
           "#00cc96",
           "#ab63fa",
           "#FFA15A",
           "#19d3f3",
           "#FF6692",
           "#B6E880",
           "#FF97FF",
           "#FECB52"
          ],
          "font": {
           "color": "#2a3f5f"
          },
          "geo": {
           "bgcolor": "white",
           "lakecolor": "white",
           "landcolor": "#E5ECF6",
           "showlakes": true,
           "showland": true,
           "subunitcolor": "white"
          },
          "hoverlabel": {
           "align": "left"
          },
          "hovermode": "closest",
          "mapbox": {
           "style": "light"
          },
          "paper_bgcolor": "white",
          "plot_bgcolor": "#E5ECF6",
          "polar": {
           "angularaxis": {
            "gridcolor": "white",
            "linecolor": "white",
            "ticks": ""
           },
           "bgcolor": "#E5ECF6",
           "radialaxis": {
            "gridcolor": "white",
            "linecolor": "white",
            "ticks": ""
           }
          },
          "scene": {
           "xaxis": {
            "backgroundcolor": "#E5ECF6",
            "gridcolor": "white",
            "gridwidth": 2,
            "linecolor": "white",
            "showbackground": true,
            "ticks": "",
            "zerolinecolor": "white"
           },
           "yaxis": {
            "backgroundcolor": "#E5ECF6",
            "gridcolor": "white",
            "gridwidth": 2,
            "linecolor": "white",
            "showbackground": true,
            "ticks": "",
            "zerolinecolor": "white"
           },
           "zaxis": {
            "backgroundcolor": "#E5ECF6",
            "gridcolor": "white",
            "gridwidth": 2,
            "linecolor": "white",
            "showbackground": true,
            "ticks": "",
            "zerolinecolor": "white"
           }
          },
          "shapedefaults": {
           "line": {
            "color": "#2a3f5f"
           }
          },
          "ternary": {
           "aaxis": {
            "gridcolor": "white",
            "linecolor": "white",
            "ticks": ""
           },
           "baxis": {
            "gridcolor": "white",
            "linecolor": "white",
            "ticks": ""
           },
           "bgcolor": "#E5ECF6",
           "caxis": {
            "gridcolor": "white",
            "linecolor": "white",
            "ticks": ""
           }
          },
          "title": {
           "x": 0.05
          },
          "xaxis": {
           "automargin": true,
           "gridcolor": "white",
           "linecolor": "white",
           "ticks": "",
           "title": {
            "standoff": 15
           },
           "zerolinecolor": "white",
           "zerolinewidth": 2
          },
          "yaxis": {
           "automargin": true,
           "gridcolor": "white",
           "linecolor": "white",
           "ticks": "",
           "title": {
            "standoff": 15
           },
           "zerolinecolor": "white",
           "zerolinewidth": 2
          }
         }
        },
        "xaxis": {
         "anchor": "y",
         "domain": [
          0.0,
          1.0
         ],
         "title": {
          "text": "education_bachelor_rate"
         }
        },
        "yaxis": {
         "anchor": "x",
         "domain": [
          0.0,
          1.0
         ],
         "title": {
          "text": "solar_systems_per_thousand_households"
         }
        },
        "legend": {
         "tracegroupgap": 0
        },
        "margin": {
         "t": 60
        }
       },
       "config": {
        "plotlyServerURL": "https://plot.ly"
       }
      },
      "text/html": "<div>                            <div id=\"0d22c578-c3f4-4669-9c80-118a6c9b530f\" class=\"plotly-graph-div\" style=\"height:525px; width:100%;\"></div>            <script type=\"text/javascript\">                require([\"plotly\"], function(Plotly) {                    window.PLOTLYENV=window.PLOTLYENV || {};                                    if (document.getElementById(\"0d22c578-c3f4-4669-9c80-118a6c9b530f\")) {                    Plotly.newPlot(                        \"0d22c578-c3f4-4669-9c80-118a6c9b530f\",                        [{\"hovertemplate\":\"education_bachelor_rate=%{x}<br>solar_systems_per_thousand_households=%{y}<extra></extra>\",\"legendgroup\":\"\",\"marker\":{\"color\":\"CadetBlue\",\"symbol\":\"circle\"},\"mode\":\"markers\",\"name\":\"\",\"orientation\":\"v\",\"showlegend\":false,\"x\":[0.01595193351825,0.02531593810635,0.0314685314685,0.0378452215899,0.0430379746835,0.04779484303705,0.052519471521000005,0.0571693448702,0.062704881484,0.0675,0.07150760985949994,0.0763226366002,0.0808286033712,0.0846567689766,0.0892388451444,0.09358545602794999,0.0985738255034,0.1036962438165,0.107893242476,0.1125790838795,0.1173047498945,0.122735674677,0.127734119099,0.132360604482,0.137826987286,0.14362781949399994,0.148606811146,0.1541391813875,0.16081025217,0.166014191338,0.171648416691,0.1770526259205,0.18295335419050002,0.188618363156,0.19490750094999998,0.200861907439,0.206425728205,0.212756756757,0.2203206794305,0.22632153151950002,0.232711306257,0.238412794949,0.243664717349,0.25,0.257043356213,0.264624724062,0.2708637512485,0.277687296417,0.2843351160865,0.291052451148,0.29889480214499997,0.3051894999235,0.312401388451,0.319397739778,0.32679447169,0.335002834886,0.34376018247,0.35092591569599996,0.36002860955000004,0.371035940803,0.3818201146645,0.396066773382,0.41792254111250005,0.46015581761650004],\"xaxis\":\"x\",\"y\":[13.187636256637287,18.411539510021214,17.543859649122805,19.160742782533006,19.37269372693727,21.724828375286044,23.4254316871358,22.351797862001945,22.041506868509686,19.9203187250996,24.927429531828025,23.961661341853034,29.34961907260747,24.76418538095377,24.390243902439025,25.924552646543383,27.11323763955343,31.704366015216454,28.814669286182056,29.003955252516306,32.276173389663754,30.324400564174894,31.124126259121255,34.72222222222222,28.91894654879664,27.62103805021699,28.402366863905325,28.343867092619675,40.92526690391459,33.82163265654762,40.21937842778794,29.275771265885304,42.90524555148633,38.42412451361868,32.3864723089674,42.19143576826197,37.49129899336046,37.07802988378528,47.5562991368206,44.17612585031725,49.597855227882036,44.929082844480206,43.0622009569378,42.50106869224952,51.271765614785764,47.790802524797115,44.8873583302011,46.39758581667296,41.323790393704755,47.751249305941144,56.767147636654826,44.42466976887154,41.11531190926276,44.367357171810895,52.162849872773535,52.310955886657695,50.70422535211268,52.522930464727175,44.663167104111984,48.769371011850495,40.411494525944846,32.83582089552239,24.536327944727216,15.557458033396664],\"yaxis\":\"y\",\"type\":\"scatter\"},{\"hovertemplate\":\"<b>OLS trendline</b><br>solar_systems_per_thousand_households = 66.3108 * education_bachelor_rate + 22.1479<br>R<sup>2</sup>=0.458584<br><br>education_bachelor_rate=%{x}<br>solar_systems_per_thousand_households=%{y} <b>(trend)</b><extra></extra>\",\"legendgroup\":\"\",\"line\":{\"color\":\"CadetBlue\"},\"marker\":{\"color\":\"CadetBlue\",\"symbol\":\"circle\"},\"mode\":\"lines\",\"name\":\"\",\"showlegend\":false,\"x\":[0.01595193351825,0.02531593810635,0.0314685314685,0.0378452215899,0.0430379746835,0.04779484303705,0.052519471521000005,0.0571693448702,0.062704881484,0.0675,0.07150760985949994,0.0763226366002,0.0808286033712,0.0846567689766,0.0892388451444,0.09358545602794999,0.0985738255034,0.1036962438165,0.107893242476,0.1125790838795,0.1173047498945,0.122735674677,0.127734119099,0.132360604482,0.137826987286,0.14362781949399994,0.148606811146,0.1541391813875,0.16081025217,0.166014191338,0.171648416691,0.1770526259205,0.18295335419050002,0.188618363156,0.19490750094999998,0.200861907439,0.206425728205,0.212756756757,0.2203206794305,0.22632153151950002,0.232711306257,0.238412794949,0.243664717349,0.25,0.257043356213,0.264624724062,0.2708637512485,0.277687296417,0.2843351160865,0.291052451148,0.29889480214499997,0.3051894999235,0.312401388451,0.319397739778,0.32679447169,0.335002834886,0.34376018247,0.35092591569599996,0.36002860955000004,0.371035940803,0.3818201146645,0.396066773382,0.41792254111250005,0.46015581761650004],\"xaxis\":\"x\",\"y\":[23.205689623337094,23.826623945660856,24.23460712784717,24.657450337923333,25.001785776125352,25.31721736308213,25.630511099571883,25.938847765771943,26.305913441963128,26.623881426513073,26.889629108376557,27.208917222567244,27.507711333253596,27.761559929072632,28.065400912203337,28.35362801183677,28.68441061564662,29.024082100637738,29.30238829900742,29.613110034459844,29.926472570428853,30.286601355895115,30.618052037133765,30.924837829366783,31.287317863419474,31.671975493827482,32.00213624697569,32.36899195859244,32.81135577596707,33.15643297133737,33.53004277347591,33.88840003014362,34.279681844999345,34.6553329320803,35.072370480212314,35.4672117389176,35.8361529589227,36.255968315329554,36.757537826022414,37.15545892806711,37.57916978906703,37.95723987477616,38.30549887504248,38.725596324015044,39.19264667366586,39.69537298731894,40.10908766265476,40.56156217344607,41.00238419169426,41.4478158288738,41.967848135130424,42.3852543700967,42.86348022671244,43.32741364634046,43.81789660947623,44.36219946521946,44.942905896561356,45.41807115975374,46.021677766988546,46.75158234017303,47.46668917566325,48.411396036162955,49.86066874816589,52.661189687556444],\"yaxis\":\"y\",\"type\":\"scatter\"}],                        {\"template\":{\"data\":{\"bar\":[{\"error_x\":{\"color\":\"#2a3f5f\"},\"error_y\":{\"color\":\"#2a3f5f\"},\"marker\":{\"line\":{\"color\":\"#E5ECF6\",\"width\":0.5},\"pattern\":{\"fillmode\":\"overlay\",\"size\":10,\"solidity\":0.2}},\"type\":\"bar\"}],\"barpolar\":[{\"marker\":{\"line\":{\"color\":\"#E5ECF6\",\"width\":0.5},\"pattern\":{\"fillmode\":\"overlay\",\"size\":10,\"solidity\":0.2}},\"type\":\"barpolar\"}],\"carpet\":[{\"aaxis\":{\"endlinecolor\":\"#2a3f5f\",\"gridcolor\":\"white\",\"linecolor\":\"white\",\"minorgridcolor\":\"white\",\"startlinecolor\":\"#2a3f5f\"},\"baxis\":{\"endlinecolor\":\"#2a3f5f\",\"gridcolor\":\"white\",\"linecolor\":\"white\",\"minorgridcolor\":\"white\",\"startlinecolor\":\"#2a3f5f\"},\"type\":\"carpet\"}],\"choropleth\":[{\"colorbar\":{\"outlinewidth\":0,\"ticks\":\"\"},\"type\":\"choropleth\"}],\"contour\":[{\"colorbar\":{\"outlinewidth\":0,\"ticks\":\"\"},\"colorscale\":[[0.0,\"#0d0887\"],[0.1111111111111111,\"#46039f\"],[0.2222222222222222,\"#7201a8\"],[0.3333333333333333,\"#9c179e\"],[0.4444444444444444,\"#bd3786\"],[0.5555555555555556,\"#d8576b\"],[0.6666666666666666,\"#ed7953\"],[0.7777777777777778,\"#fb9f3a\"],[0.8888888888888888,\"#fdca26\"],[1.0,\"#f0f921\"]],\"type\":\"contour\"}],\"contourcarpet\":[{\"colorbar\":{\"outlinewidth\":0,\"ticks\":\"\"},\"type\":\"contourcarpet\"}],\"heatmap\":[{\"colorbar\":{\"outlinewidth\":0,\"ticks\":\"\"},\"colorscale\":[[0.0,\"#0d0887\"],[0.1111111111111111,\"#46039f\"],[0.2222222222222222,\"#7201a8\"],[0.3333333333333333,\"#9c179e\"],[0.4444444444444444,\"#bd3786\"],[0.5555555555555556,\"#d8576b\"],[0.6666666666666666,\"#ed7953\"],[0.7777777777777778,\"#fb9f3a\"],[0.8888888888888888,\"#fdca26\"],[1.0,\"#f0f921\"]],\"type\":\"heatmap\"}],\"heatmapgl\":[{\"colorbar\":{\"outlinewidth\":0,\"ticks\":\"\"},\"colorscale\":[[0.0,\"#0d0887\"],[0.1111111111111111,\"#46039f\"],[0.2222222222222222,\"#7201a8\"],[0.3333333333333333,\"#9c179e\"],[0.4444444444444444,\"#bd3786\"],[0.5555555555555556,\"#d8576b\"],[0.6666666666666666,\"#ed7953\"],[0.7777777777777778,\"#fb9f3a\"],[0.8888888888888888,\"#fdca26\"],[1.0,\"#f0f921\"]],\"type\":\"heatmapgl\"}],\"histogram\":[{\"marker\":{\"pattern\":{\"fillmode\":\"overlay\",\"size\":10,\"solidity\":0.2}},\"type\":\"histogram\"}],\"histogram2d\":[{\"colorbar\":{\"outlinewidth\":0,\"ticks\":\"\"},\"colorscale\":[[0.0,\"#0d0887\"],[0.1111111111111111,\"#46039f\"],[0.2222222222222222,\"#7201a8\"],[0.3333333333333333,\"#9c179e\"],[0.4444444444444444,\"#bd3786\"],[0.5555555555555556,\"#d8576b\"],[0.6666666666666666,\"#ed7953\"],[0.7777777777777778,\"#fb9f3a\"],[0.8888888888888888,\"#fdca26\"],[1.0,\"#f0f921\"]],\"type\":\"histogram2d\"}],\"histogram2dcontour\":[{\"colorbar\":{\"outlinewidth\":0,\"ticks\":\"\"},\"colorscale\":[[0.0,\"#0d0887\"],[0.1111111111111111,\"#46039f\"],[0.2222222222222222,\"#7201a8\"],[0.3333333333333333,\"#9c179e\"],[0.4444444444444444,\"#bd3786\"],[0.5555555555555556,\"#d8576b\"],[0.6666666666666666,\"#ed7953\"],[0.7777777777777778,\"#fb9f3a\"],[0.8888888888888888,\"#fdca26\"],[1.0,\"#f0f921\"]],\"type\":\"histogram2dcontour\"}],\"mesh3d\":[{\"colorbar\":{\"outlinewidth\":0,\"ticks\":\"\"},\"type\":\"mesh3d\"}],\"parcoords\":[{\"line\":{\"colorbar\":{\"outlinewidth\":0,\"ticks\":\"\"}},\"type\":\"parcoords\"}],\"pie\":[{\"automargin\":true,\"type\":\"pie\"}],\"scatter\":[{\"marker\":{\"colorbar\":{\"outlinewidth\":0,\"ticks\":\"\"}},\"type\":\"scatter\"}],\"scatter3d\":[{\"line\":{\"colorbar\":{\"outlinewidth\":0,\"ticks\":\"\"}},\"marker\":{\"colorbar\":{\"outlinewidth\":0,\"ticks\":\"\"}},\"type\":\"scatter3d\"}],\"scattercarpet\":[{\"marker\":{\"colorbar\":{\"outlinewidth\":0,\"ticks\":\"\"}},\"type\":\"scattercarpet\"}],\"scattergeo\":[{\"marker\":{\"colorbar\":{\"outlinewidth\":0,\"ticks\":\"\"}},\"type\":\"scattergeo\"}],\"scattergl\":[{\"marker\":{\"colorbar\":{\"outlinewidth\":0,\"ticks\":\"\"}},\"type\":\"scattergl\"}],\"scattermapbox\":[{\"marker\":{\"colorbar\":{\"outlinewidth\":0,\"ticks\":\"\"}},\"type\":\"scattermapbox\"}],\"scatterpolar\":[{\"marker\":{\"colorbar\":{\"outlinewidth\":0,\"ticks\":\"\"}},\"type\":\"scatterpolar\"}],\"scatterpolargl\":[{\"marker\":{\"colorbar\":{\"outlinewidth\":0,\"ticks\":\"\"}},\"type\":\"scatterpolargl\"}],\"scatterternary\":[{\"marker\":{\"colorbar\":{\"outlinewidth\":0,\"ticks\":\"\"}},\"type\":\"scatterternary\"}],\"surface\":[{\"colorbar\":{\"outlinewidth\":0,\"ticks\":\"\"},\"colorscale\":[[0.0,\"#0d0887\"],[0.1111111111111111,\"#46039f\"],[0.2222222222222222,\"#7201a8\"],[0.3333333333333333,\"#9c179e\"],[0.4444444444444444,\"#bd3786\"],[0.5555555555555556,\"#d8576b\"],[0.6666666666666666,\"#ed7953\"],[0.7777777777777778,\"#fb9f3a\"],[0.8888888888888888,\"#fdca26\"],[1.0,\"#f0f921\"]],\"type\":\"surface\"}],\"table\":[{\"cells\":{\"fill\":{\"color\":\"#EBF0F8\"},\"line\":{\"color\":\"white\"}},\"header\":{\"fill\":{\"color\":\"#C8D4E3\"},\"line\":{\"color\":\"white\"}},\"type\":\"table\"}]},\"layout\":{\"annotationdefaults\":{\"arrowcolor\":\"#2a3f5f\",\"arrowhead\":0,\"arrowwidth\":1},\"autotypenumbers\":\"strict\",\"coloraxis\":{\"colorbar\":{\"outlinewidth\":0,\"ticks\":\"\"}},\"colorscale\":{\"diverging\":[[0,\"#8e0152\"],[0.1,\"#c51b7d\"],[0.2,\"#de77ae\"],[0.3,\"#f1b6da\"],[0.4,\"#fde0ef\"],[0.5,\"#f7f7f7\"],[0.6,\"#e6f5d0\"],[0.7,\"#b8e186\"],[0.8,\"#7fbc41\"],[0.9,\"#4d9221\"],[1,\"#276419\"]],\"sequential\":[[0.0,\"#0d0887\"],[0.1111111111111111,\"#46039f\"],[0.2222222222222222,\"#7201a8\"],[0.3333333333333333,\"#9c179e\"],[0.4444444444444444,\"#bd3786\"],[0.5555555555555556,\"#d8576b\"],[0.6666666666666666,\"#ed7953\"],[0.7777777777777778,\"#fb9f3a\"],[0.8888888888888888,\"#fdca26\"],[1.0,\"#f0f921\"]],\"sequentialminus\":[[0.0,\"#0d0887\"],[0.1111111111111111,\"#46039f\"],[0.2222222222222222,\"#7201a8\"],[0.3333333333333333,\"#9c179e\"],[0.4444444444444444,\"#bd3786\"],[0.5555555555555556,\"#d8576b\"],[0.6666666666666666,\"#ed7953\"],[0.7777777777777778,\"#fb9f3a\"],[0.8888888888888888,\"#fdca26\"],[1.0,\"#f0f921\"]]},\"colorway\":[\"#636efa\",\"#EF553B\",\"#00cc96\",\"#ab63fa\",\"#FFA15A\",\"#19d3f3\",\"#FF6692\",\"#B6E880\",\"#FF97FF\",\"#FECB52\"],\"font\":{\"color\":\"#2a3f5f\"},\"geo\":{\"bgcolor\":\"white\",\"lakecolor\":\"white\",\"landcolor\":\"#E5ECF6\",\"showlakes\":true,\"showland\":true,\"subunitcolor\":\"white\"},\"hoverlabel\":{\"align\":\"left\"},\"hovermode\":\"closest\",\"mapbox\":{\"style\":\"light\"},\"paper_bgcolor\":\"white\",\"plot_bgcolor\":\"#E5ECF6\",\"polar\":{\"angularaxis\":{\"gridcolor\":\"white\",\"linecolor\":\"white\",\"ticks\":\"\"},\"bgcolor\":\"#E5ECF6\",\"radialaxis\":{\"gridcolor\":\"white\",\"linecolor\":\"white\",\"ticks\":\"\"}},\"scene\":{\"xaxis\":{\"backgroundcolor\":\"#E5ECF6\",\"gridcolor\":\"white\",\"gridwidth\":2,\"linecolor\":\"white\",\"showbackground\":true,\"ticks\":\"\",\"zerolinecolor\":\"white\"},\"yaxis\":{\"backgroundcolor\":\"#E5ECF6\",\"gridcolor\":\"white\",\"gridwidth\":2,\"linecolor\":\"white\",\"showbackground\":true,\"ticks\":\"\",\"zerolinecolor\":\"white\"},\"zaxis\":{\"backgroundcolor\":\"#E5ECF6\",\"gridcolor\":\"white\",\"gridwidth\":2,\"linecolor\":\"white\",\"showbackground\":true,\"ticks\":\"\",\"zerolinecolor\":\"white\"}},\"shapedefaults\":{\"line\":{\"color\":\"#2a3f5f\"}},\"ternary\":{\"aaxis\":{\"gridcolor\":\"white\",\"linecolor\":\"white\",\"ticks\":\"\"},\"baxis\":{\"gridcolor\":\"white\",\"linecolor\":\"white\",\"ticks\":\"\"},\"bgcolor\":\"#E5ECF6\",\"caxis\":{\"gridcolor\":\"white\",\"linecolor\":\"white\",\"ticks\":\"\"}},\"title\":{\"x\":0.05},\"xaxis\":{\"automargin\":true,\"gridcolor\":\"white\",\"linecolor\":\"white\",\"ticks\":\"\",\"title\":{\"standoff\":15},\"zerolinecolor\":\"white\",\"zerolinewidth\":2},\"yaxis\":{\"automargin\":true,\"gridcolor\":\"white\",\"linecolor\":\"white\",\"ticks\":\"\",\"title\":{\"standoff\":15},\"zerolinecolor\":\"white\",\"zerolinewidth\":2}}},\"xaxis\":{\"anchor\":\"y\",\"domain\":[0.0,1.0],\"title\":{\"text\":\"education_bachelor_rate\"}},\"yaxis\":{\"anchor\":\"x\",\"domain\":[0.0,1.0],\"title\":{\"text\":\"solar_systems_per_thousand_households\"}},\"legend\":{\"tracegroupgap\":0},\"margin\":{\"t\":60}},                        {\"responsive\": true}                    ).then(function(){\n                            \nvar gd = document.getElementById('0d22c578-c3f4-4669-9c80-118a6c9b530f');\nvar x = new MutationObserver(function (mutations, observer) {{\n        var display = window.getComputedStyle(gd).display;\n        if (!display || display === 'none') {{\n            console.log([gd, 'removed!']);\n            Plotly.purge(gd);\n            observer.disconnect();\n        }}\n}});\n\n// Listen for the removal of the full notebook cells\nvar notebookContainer = gd.closest('#notebook-container');\nif (notebookContainer) {{\n    x.observe(notebookContainer, {childList: true});\n}}\n\n// Listen for the clearing of the current output cell\nvar outputEl = gd.closest('.output');\nif (outputEl) {{\n    x.observe(outputEl, {childList: true});\n}}\n\n                        })                };                });            </script>        </div>"
     },
     "metadata": {},
     "output_type": "display_data"
    },
    {
     "name": "stdout",
     "output_type": "stream",
     "text": [
      "results:  <statsmodels.regression.linear_model.RegressionResultsWrapper object at 0x7fabcf0bf610>\n",
      "alpha:  22.147904683601382\n",
      "beta:  66.31076656165465\n",
      "p_beta:  8.036383086698469e-10\n",
      "r_squared:  0.4585841601276093\n"
     ]
    }
   ]
  },
  {
   "cell_type": "code",
   "source": [
    "hi9 = median_dataframe(\"education_college_binned\", 'education_college_rate')\n",
    "plot_scatter(hi9, 'education_college_rate', 'solar_systems_per_thousand_households', 'CornflowerBlue', 'education_college')"
   ],
   "metadata": {
    "execution": {
     "iopub.status.busy": "2022-01-30T17:06:37.464475Z",
     "iopub.execute_input": "2022-01-30T17:06:37.464810Z",
     "iopub.status.idle": "2022-01-30T17:06:37.596142Z",
     "shell.execute_reply.started": "2022-01-30T17:06:37.464766Z",
     "shell.execute_reply": "2022-01-30T17:06:37.595206Z"
    },
    "trusted": true
   },
   "execution_count": 41,
   "outputs": [
    {
     "data": {
      "application/vnd.plotly.v1+json": {
       "data": [
        {
         "hovertemplate": "education_college_rate=%{x}<br>solar_systems_per_thousand_households=%{y}<extra></extra>",
         "legendgroup": "",
         "marker": {
          "color": "CornflowerBlue",
          "symbol": "circle"
         },
         "mode": "markers",
         "name": "",
         "orientation": "v",
         "showlegend": false,
         "x": [
          0.09772112126390001,
          0.119474987004,
          0.132372214941,
          0.14637488814749994,
          0.156407969075,
          0.16568789820949995,
          0.17459888336599994,
          0.18149146451,
          0.18898916102,
          0.195604991861,
          0.2023076701755,
          0.208212209302,
          0.21319047735949997,
          0.21924396053950002,
          0.224732725957,
          0.229262672811,
          0.234190678786,
          0.23851086355,
          0.242778119238,
          0.24779230193000001,
          0.25262704656,
          0.256989886972,
          0.26078545507149997,
          0.264354066986,
          0.2679079045625,
          0.27117123811599997,
          0.275216540933,
          0.2792298602625,
          0.282588597843,
          0.286904429262,
          0.291525423729,
          0.294832693526,
          0.299039913203,
          0.302362204724,
          0.3059886011835,
          0.30999401556,
          0.3133301307925,
          0.317092034029,
          0.3211913483005,
          0.3246041151875,
          0.328347826087,
          0.3321816655095,
          0.335889570552,
          0.339142851111,
          0.3431894535855,
          0.347190366972,
          0.35084802103549995,
          0.355709595038,
          0.36012989609299995,
          0.365059221658,
          0.3696678535495,
          0.3745151011605,
          0.37874251497,
          0.38423402535600004,
          0.388978930308,
          0.39462200485300003,
          0.400705467372,
          0.4076004031575,
          0.414487393146,
          0.423052564915,
          0.433136984009,
          0.4454219615510001,
          0.459113560858,
          0.493396824271
         ],
         "xaxis": "x",
         "y": [
          14.423264448184451,
          15.671972759148247,
          14.427412082957618,
          16.48028332996148,
          18.85369532428356,
          18.87533746605547,
          21.734682922173974,
          16.877637130801688,
          18.99323689709749,
          19.607843137254903,
          23.723411765892426,
          21.88782489740082,
          21.338321731442164,
          23.336405040633757,
          29.29947258262559,
          28.268551236749115,
          25.64102564102564,
          24.027766044324295,
          27.805362462760673,
          35.076088185415486,
          24.44726733811209,
          27.12264150943396,
          30.083325812953102,
          25.282767797737858,
          30.52446608301394,
          36.60991363412994,
          36.116044997039666,
          29.45625657438285,
          35.2,
          33.81691261913871,
          31.28491620111732,
          41.737835135905016,
          34.88956030784237,
          36.043956043956044,
          39.049137530499706,
          41.0958904109589,
          37.05277942046126,
          34.24657534246575,
          50.75072040503984,
          49.109217926022914,
          33.910533910533914,
          35.169814553085786,
          43.519394512771996,
          35.904617759959315,
          54.14462908714704,
          45.0112528132033,
          49.051058865757355,
          45.85026117237376,
          43.08098945709132,
          40.17857142857143,
          50.151184494609126,
          44.86196692268006,
          44.760935910478125,
          40.641545610911166,
          54.88474204171241,
          47.35552551537681,
          46.42857142857143,
          49.40682191542308,
          43.357417408650804,
          48.78048780487805,
          44.76248477466504,
          47.572339382050025,
          41.20695788435647,
          41.84863147725133
         ],
         "yaxis": "y",
         "type": "scatter"
        },
        {
         "hovertemplate": "<b>OLS trendline</b><br>solar_systems_per_thousand_households = 111.214 * education_college_rate + 1.85676<br>R<sup>2</sup>=0.786529<br><br>education_college_rate=%{x}<br>solar_systems_per_thousand_households=%{y} <b>(trend)</b><extra></extra>",
         "legendgroup": "",
         "line": {
          "color": "CornflowerBlue"
         },
         "marker": {
          "color": "CornflowerBlue",
          "symbol": "circle"
         },
         "mode": "lines",
         "name": "",
         "showlegend": false,
         "x": [
          0.09772112126390001,
          0.119474987004,
          0.132372214941,
          0.14637488814749994,
          0.156407969075,
          0.16568789820949995,
          0.17459888336599994,
          0.18149146451,
          0.18898916102,
          0.195604991861,
          0.2023076701755,
          0.208212209302,
          0.21319047735949997,
          0.21924396053950002,
          0.224732725957,
          0.229262672811,
          0.234190678786,
          0.23851086355,
          0.242778119238,
          0.24779230193000001,
          0.25262704656,
          0.256989886972,
          0.26078545507149997,
          0.264354066986,
          0.2679079045625,
          0.27117123811599997,
          0.275216540933,
          0.2792298602625,
          0.282588597843,
          0.286904429262,
          0.291525423729,
          0.294832693526,
          0.299039913203,
          0.302362204724,
          0.3059886011835,
          0.30999401556,
          0.3133301307925,
          0.317092034029,
          0.3211913483005,
          0.3246041151875,
          0.328347826087,
          0.3321816655095,
          0.335889570552,
          0.339142851111,
          0.3431894535855,
          0.347190366972,
          0.35084802103549995,
          0.355709595038,
          0.36012989609299995,
          0.365059221658,
          0.3696678535495,
          0.3745151011605,
          0.37874251497,
          0.38423402535600004,
          0.388978930308,
          0.39462200485300003,
          0.400705467372,
          0.4076004031575,
          0.414487393146,
          0.423052564915,
          0.433136984009,
          0.4454219615510001,
          0.459113560858,
          0.493396824271
         ],
         "xaxis": "x",
         "y": [
          12.724734240083151,
          15.144071894268144,
          16.578426116886753,
          18.13572149383142,
          19.251542045699665,
          20.283601462241826,
          21.27462908843811,
          22.041181631118658,
          22.875031563954135,
          23.610805557348108,
          24.35623821855403,
          25.012906509607127,
          25.566560352470308,
          26.239793329602872,
          26.850221701653915,
          27.354015883629437,
          27.902079871787127,
          28.382545541542314,
          28.857124749180926,
          29.41477280753759,
          29.952464814626072,
          30.43767439595095,
          30.85979527009134,
          31.25667540537728,
          31.651912425243367,
          32.014841287564806,
          32.46473619565501,
          32.91107408741783,
          33.28461322736255,
          33.764594743560565,
          34.27851470828598,
          34.646329902515184,
          35.11423225631298,
          35.48371807878537,
          35.887024673038134,
          36.33248342218438,
          36.70350663695992,
          37.12188350202845,
          37.57778524803842,
          37.95733321129788,
          38.37368683109831,
          38.80006401783692,
          39.2124355197409,
          39.574246346839466,
          40.02428579523182,
          40.469243970607955,
          40.87602685267273,
          41.41670266557775,
          41.90830268338433,
          42.4565134286202,
          42.96905850003851,
          43.50814101551222,
          43.97828924256007,
          44.58902289394542,
          45.11672345774643,
          45.74431318801332,
          46.420880291804416,
          47.18769470393432,
          47.953625431016974,
          48.90619371579341,
          50.02772379813289,
          51.39398711442203,
          52.916686672523,
          56.72947061972375
         ],
         "yaxis": "y",
         "type": "scatter"
        }
       ],
       "layout": {
        "template": {
         "data": {
          "bar": [
           {
            "error_x": {
             "color": "#2a3f5f"
            },
            "error_y": {
             "color": "#2a3f5f"
            },
            "marker": {
             "line": {
              "color": "#E5ECF6",
              "width": 0.5
             },
             "pattern": {
              "fillmode": "overlay",
              "size": 10,
              "solidity": 0.2
             }
            },
            "type": "bar"
           }
          ],
          "barpolar": [
           {
            "marker": {
             "line": {
              "color": "#E5ECF6",
              "width": 0.5
             },
             "pattern": {
              "fillmode": "overlay",
              "size": 10,
              "solidity": 0.2
             }
            },
            "type": "barpolar"
           }
          ],
          "carpet": [
           {
            "aaxis": {
             "endlinecolor": "#2a3f5f",
             "gridcolor": "white",
             "linecolor": "white",
             "minorgridcolor": "white",
             "startlinecolor": "#2a3f5f"
            },
            "baxis": {
             "endlinecolor": "#2a3f5f",
             "gridcolor": "white",
             "linecolor": "white",
             "minorgridcolor": "white",
             "startlinecolor": "#2a3f5f"
            },
            "type": "carpet"
           }
          ],
          "choropleth": [
           {
            "colorbar": {
             "outlinewidth": 0,
             "ticks": ""
            },
            "type": "choropleth"
           }
          ],
          "contour": [
           {
            "colorbar": {
             "outlinewidth": 0,
             "ticks": ""
            },
            "colorscale": [
             [
              0.0,
              "#0d0887"
             ],
             [
              0.1111111111111111,
              "#46039f"
             ],
             [
              0.2222222222222222,
              "#7201a8"
             ],
             [
              0.3333333333333333,
              "#9c179e"
             ],
             [
              0.4444444444444444,
              "#bd3786"
             ],
             [
              0.5555555555555556,
              "#d8576b"
             ],
             [
              0.6666666666666666,
              "#ed7953"
             ],
             [
              0.7777777777777778,
              "#fb9f3a"
             ],
             [
              0.8888888888888888,
              "#fdca26"
             ],
             [
              1.0,
              "#f0f921"
             ]
            ],
            "type": "contour"
           }
          ],
          "contourcarpet": [
           {
            "colorbar": {
             "outlinewidth": 0,
             "ticks": ""
            },
            "type": "contourcarpet"
           }
          ],
          "heatmap": [
           {
            "colorbar": {
             "outlinewidth": 0,
             "ticks": ""
            },
            "colorscale": [
             [
              0.0,
              "#0d0887"
             ],
             [
              0.1111111111111111,
              "#46039f"
             ],
             [
              0.2222222222222222,
              "#7201a8"
             ],
             [
              0.3333333333333333,
              "#9c179e"
             ],
             [
              0.4444444444444444,
              "#bd3786"
             ],
             [
              0.5555555555555556,
              "#d8576b"
             ],
             [
              0.6666666666666666,
              "#ed7953"
             ],
             [
              0.7777777777777778,
              "#fb9f3a"
             ],
             [
              0.8888888888888888,
              "#fdca26"
             ],
             [
              1.0,
              "#f0f921"
             ]
            ],
            "type": "heatmap"
           }
          ],
          "heatmapgl": [
           {
            "colorbar": {
             "outlinewidth": 0,
             "ticks": ""
            },
            "colorscale": [
             [
              0.0,
              "#0d0887"
             ],
             [
              0.1111111111111111,
              "#46039f"
             ],
             [
              0.2222222222222222,
              "#7201a8"
             ],
             [
              0.3333333333333333,
              "#9c179e"
             ],
             [
              0.4444444444444444,
              "#bd3786"
             ],
             [
              0.5555555555555556,
              "#d8576b"
             ],
             [
              0.6666666666666666,
              "#ed7953"
             ],
             [
              0.7777777777777778,
              "#fb9f3a"
             ],
             [
              0.8888888888888888,
              "#fdca26"
             ],
             [
              1.0,
              "#f0f921"
             ]
            ],
            "type": "heatmapgl"
           }
          ],
          "histogram": [
           {
            "marker": {
             "pattern": {
              "fillmode": "overlay",
              "size": 10,
              "solidity": 0.2
             }
            },
            "type": "histogram"
           }
          ],
          "histogram2d": [
           {
            "colorbar": {
             "outlinewidth": 0,
             "ticks": ""
            },
            "colorscale": [
             [
              0.0,
              "#0d0887"
             ],
             [
              0.1111111111111111,
              "#46039f"
             ],
             [
              0.2222222222222222,
              "#7201a8"
             ],
             [
              0.3333333333333333,
              "#9c179e"
             ],
             [
              0.4444444444444444,
              "#bd3786"
             ],
             [
              0.5555555555555556,
              "#d8576b"
             ],
             [
              0.6666666666666666,
              "#ed7953"
             ],
             [
              0.7777777777777778,
              "#fb9f3a"
             ],
             [
              0.8888888888888888,
              "#fdca26"
             ],
             [
              1.0,
              "#f0f921"
             ]
            ],
            "type": "histogram2d"
           }
          ],
          "histogram2dcontour": [
           {
            "colorbar": {
             "outlinewidth": 0,
             "ticks": ""
            },
            "colorscale": [
             [
              0.0,
              "#0d0887"
             ],
             [
              0.1111111111111111,
              "#46039f"
             ],
             [
              0.2222222222222222,
              "#7201a8"
             ],
             [
              0.3333333333333333,
              "#9c179e"
             ],
             [
              0.4444444444444444,
              "#bd3786"
             ],
             [
              0.5555555555555556,
              "#d8576b"
             ],
             [
              0.6666666666666666,
              "#ed7953"
             ],
             [
              0.7777777777777778,
              "#fb9f3a"
             ],
             [
              0.8888888888888888,
              "#fdca26"
             ],
             [
              1.0,
              "#f0f921"
             ]
            ],
            "type": "histogram2dcontour"
           }
          ],
          "mesh3d": [
           {
            "colorbar": {
             "outlinewidth": 0,
             "ticks": ""
            },
            "type": "mesh3d"
           }
          ],
          "parcoords": [
           {
            "line": {
             "colorbar": {
              "outlinewidth": 0,
              "ticks": ""
             }
            },
            "type": "parcoords"
           }
          ],
          "pie": [
           {
            "automargin": true,
            "type": "pie"
           }
          ],
          "scatter": [
           {
            "marker": {
             "colorbar": {
              "outlinewidth": 0,
              "ticks": ""
             }
            },
            "type": "scatter"
           }
          ],
          "scatter3d": [
           {
            "line": {
             "colorbar": {
              "outlinewidth": 0,
              "ticks": ""
             }
            },
            "marker": {
             "colorbar": {
              "outlinewidth": 0,
              "ticks": ""
             }
            },
            "type": "scatter3d"
           }
          ],
          "scattercarpet": [
           {
            "marker": {
             "colorbar": {
              "outlinewidth": 0,
              "ticks": ""
             }
            },
            "type": "scattercarpet"
           }
          ],
          "scattergeo": [
           {
            "marker": {
             "colorbar": {
              "outlinewidth": 0,
              "ticks": ""
             }
            },
            "type": "scattergeo"
           }
          ],
          "scattergl": [
           {
            "marker": {
             "colorbar": {
              "outlinewidth": 0,
              "ticks": ""
             }
            },
            "type": "scattergl"
           }
          ],
          "scattermapbox": [
           {
            "marker": {
             "colorbar": {
              "outlinewidth": 0,
              "ticks": ""
             }
            },
            "type": "scattermapbox"
           }
          ],
          "scatterpolar": [
           {
            "marker": {
             "colorbar": {
              "outlinewidth": 0,
              "ticks": ""
             }
            },
            "type": "scatterpolar"
           }
          ],
          "scatterpolargl": [
           {
            "marker": {
             "colorbar": {
              "outlinewidth": 0,
              "ticks": ""
             }
            },
            "type": "scatterpolargl"
           }
          ],
          "scatterternary": [
           {
            "marker": {
             "colorbar": {
              "outlinewidth": 0,
              "ticks": ""
             }
            },
            "type": "scatterternary"
           }
          ],
          "surface": [
           {
            "colorbar": {
             "outlinewidth": 0,
             "ticks": ""
            },
            "colorscale": [
             [
              0.0,
              "#0d0887"
             ],
             [
              0.1111111111111111,
              "#46039f"
             ],
             [
              0.2222222222222222,
              "#7201a8"
             ],
             [
              0.3333333333333333,
              "#9c179e"
             ],
             [
              0.4444444444444444,
              "#bd3786"
             ],
             [
              0.5555555555555556,
              "#d8576b"
             ],
             [
              0.6666666666666666,
              "#ed7953"
             ],
             [
              0.7777777777777778,
              "#fb9f3a"
             ],
             [
              0.8888888888888888,
              "#fdca26"
             ],
             [
              1.0,
              "#f0f921"
             ]
            ],
            "type": "surface"
           }
          ],
          "table": [
           {
            "cells": {
             "fill": {
              "color": "#EBF0F8"
             },
             "line": {
              "color": "white"
             }
            },
            "header": {
             "fill": {
              "color": "#C8D4E3"
             },
             "line": {
              "color": "white"
             }
            },
            "type": "table"
           }
          ]
         },
         "layout": {
          "annotationdefaults": {
           "arrowcolor": "#2a3f5f",
           "arrowhead": 0,
           "arrowwidth": 1
          },
          "autotypenumbers": "strict",
          "coloraxis": {
           "colorbar": {
            "outlinewidth": 0,
            "ticks": ""
           }
          },
          "colorscale": {
           "diverging": [
            [
             0,
             "#8e0152"
            ],
            [
             0.1,
             "#c51b7d"
            ],
            [
             0.2,
             "#de77ae"
            ],
            [
             0.3,
             "#f1b6da"
            ],
            [
             0.4,
             "#fde0ef"
            ],
            [
             0.5,
             "#f7f7f7"
            ],
            [
             0.6,
             "#e6f5d0"
            ],
            [
             0.7,
             "#b8e186"
            ],
            [
             0.8,
             "#7fbc41"
            ],
            [
             0.9,
             "#4d9221"
            ],
            [
             1,
             "#276419"
            ]
           ],
           "sequential": [
            [
             0.0,
             "#0d0887"
            ],
            [
             0.1111111111111111,
             "#46039f"
            ],
            [
             0.2222222222222222,
             "#7201a8"
            ],
            [
             0.3333333333333333,
             "#9c179e"
            ],
            [
             0.4444444444444444,
             "#bd3786"
            ],
            [
             0.5555555555555556,
             "#d8576b"
            ],
            [
             0.6666666666666666,
             "#ed7953"
            ],
            [
             0.7777777777777778,
             "#fb9f3a"
            ],
            [
             0.8888888888888888,
             "#fdca26"
            ],
            [
             1.0,
             "#f0f921"
            ]
           ],
           "sequentialminus": [
            [
             0.0,
             "#0d0887"
            ],
            [
             0.1111111111111111,
             "#46039f"
            ],
            [
             0.2222222222222222,
             "#7201a8"
            ],
            [
             0.3333333333333333,
             "#9c179e"
            ],
            [
             0.4444444444444444,
             "#bd3786"
            ],
            [
             0.5555555555555556,
             "#d8576b"
            ],
            [
             0.6666666666666666,
             "#ed7953"
            ],
            [
             0.7777777777777778,
             "#fb9f3a"
            ],
            [
             0.8888888888888888,
             "#fdca26"
            ],
            [
             1.0,
             "#f0f921"
            ]
           ]
          },
          "colorway": [
           "#636efa",
           "#EF553B",
           "#00cc96",
           "#ab63fa",
           "#FFA15A",
           "#19d3f3",
           "#FF6692",
           "#B6E880",
           "#FF97FF",
           "#FECB52"
          ],
          "font": {
           "color": "#2a3f5f"
          },
          "geo": {
           "bgcolor": "white",
           "lakecolor": "white",
           "landcolor": "#E5ECF6",
           "showlakes": true,
           "showland": true,
           "subunitcolor": "white"
          },
          "hoverlabel": {
           "align": "left"
          },
          "hovermode": "closest",
          "mapbox": {
           "style": "light"
          },
          "paper_bgcolor": "white",
          "plot_bgcolor": "#E5ECF6",
          "polar": {
           "angularaxis": {
            "gridcolor": "white",
            "linecolor": "white",
            "ticks": ""
           },
           "bgcolor": "#E5ECF6",
           "radialaxis": {
            "gridcolor": "white",
            "linecolor": "white",
            "ticks": ""
           }
          },
          "scene": {
           "xaxis": {
            "backgroundcolor": "#E5ECF6",
            "gridcolor": "white",
            "gridwidth": 2,
            "linecolor": "white",
            "showbackground": true,
            "ticks": "",
            "zerolinecolor": "white"
           },
           "yaxis": {
            "backgroundcolor": "#E5ECF6",
            "gridcolor": "white",
            "gridwidth": 2,
            "linecolor": "white",
            "showbackground": true,
            "ticks": "",
            "zerolinecolor": "white"
           },
           "zaxis": {
            "backgroundcolor": "#E5ECF6",
            "gridcolor": "white",
            "gridwidth": 2,
            "linecolor": "white",
            "showbackground": true,
            "ticks": "",
            "zerolinecolor": "white"
           }
          },
          "shapedefaults": {
           "line": {
            "color": "#2a3f5f"
           }
          },
          "ternary": {
           "aaxis": {
            "gridcolor": "white",
            "linecolor": "white",
            "ticks": ""
           },
           "baxis": {
            "gridcolor": "white",
            "linecolor": "white",
            "ticks": ""
           },
           "bgcolor": "#E5ECF6",
           "caxis": {
            "gridcolor": "white",
            "linecolor": "white",
            "ticks": ""
           }
          },
          "title": {
           "x": 0.05
          },
          "xaxis": {
           "automargin": true,
           "gridcolor": "white",
           "linecolor": "white",
           "ticks": "",
           "title": {
            "standoff": 15
           },
           "zerolinecolor": "white",
           "zerolinewidth": 2
          },
          "yaxis": {
           "automargin": true,
           "gridcolor": "white",
           "linecolor": "white",
           "ticks": "",
           "title": {
            "standoff": 15
           },
           "zerolinecolor": "white",
           "zerolinewidth": 2
          }
         }
        },
        "xaxis": {
         "anchor": "y",
         "domain": [
          0.0,
          1.0
         ],
         "title": {
          "text": "education_college_rate"
         }
        },
        "yaxis": {
         "anchor": "x",
         "domain": [
          0.0,
          1.0
         ],
         "title": {
          "text": "solar_systems_per_thousand_households"
         }
        },
        "legend": {
         "tracegroupgap": 0
        },
        "margin": {
         "t": 60
        }
       },
       "config": {
        "plotlyServerURL": "https://plot.ly"
       }
      },
      "text/html": "<div>                            <div id=\"979cf6e3-f8ad-4d3d-9735-ea5c47ba4ba8\" class=\"plotly-graph-div\" style=\"height:525px; width:100%;\"></div>            <script type=\"text/javascript\">                require([\"plotly\"], function(Plotly) {                    window.PLOTLYENV=window.PLOTLYENV || {};                                    if (document.getElementById(\"979cf6e3-f8ad-4d3d-9735-ea5c47ba4ba8\")) {                    Plotly.newPlot(                        \"979cf6e3-f8ad-4d3d-9735-ea5c47ba4ba8\",                        [{\"hovertemplate\":\"education_college_rate=%{x}<br>solar_systems_per_thousand_households=%{y}<extra></extra>\",\"legendgroup\":\"\",\"marker\":{\"color\":\"CornflowerBlue\",\"symbol\":\"circle\"},\"mode\":\"markers\",\"name\":\"\",\"orientation\":\"v\",\"showlegend\":false,\"x\":[0.09772112126390001,0.119474987004,0.132372214941,0.14637488814749994,0.156407969075,0.16568789820949995,0.17459888336599994,0.18149146451,0.18898916102,0.195604991861,0.2023076701755,0.208212209302,0.21319047735949997,0.21924396053950002,0.224732725957,0.229262672811,0.234190678786,0.23851086355,0.242778119238,0.24779230193000001,0.25262704656,0.256989886972,0.26078545507149997,0.264354066986,0.2679079045625,0.27117123811599997,0.275216540933,0.2792298602625,0.282588597843,0.286904429262,0.291525423729,0.294832693526,0.299039913203,0.302362204724,0.3059886011835,0.30999401556,0.3133301307925,0.317092034029,0.3211913483005,0.3246041151875,0.328347826087,0.3321816655095,0.335889570552,0.339142851111,0.3431894535855,0.347190366972,0.35084802103549995,0.355709595038,0.36012989609299995,0.365059221658,0.3696678535495,0.3745151011605,0.37874251497,0.38423402535600004,0.388978930308,0.39462200485300003,0.400705467372,0.4076004031575,0.414487393146,0.423052564915,0.433136984009,0.4454219615510001,0.459113560858,0.493396824271],\"xaxis\":\"x\",\"y\":[14.423264448184451,15.671972759148247,14.427412082957618,16.48028332996148,18.85369532428356,18.87533746605547,21.734682922173974,16.877637130801688,18.99323689709749,19.607843137254903,23.723411765892426,21.88782489740082,21.338321731442164,23.336405040633757,29.29947258262559,28.268551236749115,25.64102564102564,24.027766044324295,27.805362462760673,35.076088185415486,24.44726733811209,27.12264150943396,30.083325812953102,25.282767797737858,30.52446608301394,36.60991363412994,36.116044997039666,29.45625657438285,35.2,33.81691261913871,31.28491620111732,41.737835135905016,34.88956030784237,36.043956043956044,39.049137530499706,41.0958904109589,37.05277942046126,34.24657534246575,50.75072040503984,49.109217926022914,33.910533910533914,35.169814553085786,43.519394512771996,35.904617759959315,54.14462908714704,45.0112528132033,49.051058865757355,45.85026117237376,43.08098945709132,40.17857142857143,50.151184494609126,44.86196692268006,44.760935910478125,40.641545610911166,54.88474204171241,47.35552551537681,46.42857142857143,49.40682191542308,43.357417408650804,48.78048780487805,44.76248477466504,47.572339382050025,41.20695788435647,41.84863147725133],\"yaxis\":\"y\",\"type\":\"scatter\"},{\"hovertemplate\":\"<b>OLS trendline</b><br>solar_systems_per_thousand_households = 111.214 * education_college_rate + 1.85676<br>R<sup>2</sup>=0.786529<br><br>education_college_rate=%{x}<br>solar_systems_per_thousand_households=%{y} <b>(trend)</b><extra></extra>\",\"legendgroup\":\"\",\"line\":{\"color\":\"CornflowerBlue\"},\"marker\":{\"color\":\"CornflowerBlue\",\"symbol\":\"circle\"},\"mode\":\"lines\",\"name\":\"\",\"showlegend\":false,\"x\":[0.09772112126390001,0.119474987004,0.132372214941,0.14637488814749994,0.156407969075,0.16568789820949995,0.17459888336599994,0.18149146451,0.18898916102,0.195604991861,0.2023076701755,0.208212209302,0.21319047735949997,0.21924396053950002,0.224732725957,0.229262672811,0.234190678786,0.23851086355,0.242778119238,0.24779230193000001,0.25262704656,0.256989886972,0.26078545507149997,0.264354066986,0.2679079045625,0.27117123811599997,0.275216540933,0.2792298602625,0.282588597843,0.286904429262,0.291525423729,0.294832693526,0.299039913203,0.302362204724,0.3059886011835,0.30999401556,0.3133301307925,0.317092034029,0.3211913483005,0.3246041151875,0.328347826087,0.3321816655095,0.335889570552,0.339142851111,0.3431894535855,0.347190366972,0.35084802103549995,0.355709595038,0.36012989609299995,0.365059221658,0.3696678535495,0.3745151011605,0.37874251497,0.38423402535600004,0.388978930308,0.39462200485300003,0.400705467372,0.4076004031575,0.414487393146,0.423052564915,0.433136984009,0.4454219615510001,0.459113560858,0.493396824271],\"xaxis\":\"x\",\"y\":[12.724734240083151,15.144071894268144,16.578426116886753,18.13572149383142,19.251542045699665,20.283601462241826,21.27462908843811,22.041181631118658,22.875031563954135,23.610805557348108,24.35623821855403,25.012906509607127,25.566560352470308,26.239793329602872,26.850221701653915,27.354015883629437,27.902079871787127,28.382545541542314,28.857124749180926,29.41477280753759,29.952464814626072,30.43767439595095,30.85979527009134,31.25667540537728,31.651912425243367,32.014841287564806,32.46473619565501,32.91107408741783,33.28461322736255,33.764594743560565,34.27851470828598,34.646329902515184,35.11423225631298,35.48371807878537,35.887024673038134,36.33248342218438,36.70350663695992,37.12188350202845,37.57778524803842,37.95733321129788,38.37368683109831,38.80006401783692,39.2124355197409,39.574246346839466,40.02428579523182,40.469243970607955,40.87602685267273,41.41670266557775,41.90830268338433,42.4565134286202,42.96905850003851,43.50814101551222,43.97828924256007,44.58902289394542,45.11672345774643,45.74431318801332,46.420880291804416,47.18769470393432,47.953625431016974,48.90619371579341,50.02772379813289,51.39398711442203,52.916686672523,56.72947061972375],\"yaxis\":\"y\",\"type\":\"scatter\"}],                        {\"template\":{\"data\":{\"bar\":[{\"error_x\":{\"color\":\"#2a3f5f\"},\"error_y\":{\"color\":\"#2a3f5f\"},\"marker\":{\"line\":{\"color\":\"#E5ECF6\",\"width\":0.5},\"pattern\":{\"fillmode\":\"overlay\",\"size\":10,\"solidity\":0.2}},\"type\":\"bar\"}],\"barpolar\":[{\"marker\":{\"line\":{\"color\":\"#E5ECF6\",\"width\":0.5},\"pattern\":{\"fillmode\":\"overlay\",\"size\":10,\"solidity\":0.2}},\"type\":\"barpolar\"}],\"carpet\":[{\"aaxis\":{\"endlinecolor\":\"#2a3f5f\",\"gridcolor\":\"white\",\"linecolor\":\"white\",\"minorgridcolor\":\"white\",\"startlinecolor\":\"#2a3f5f\"},\"baxis\":{\"endlinecolor\":\"#2a3f5f\",\"gridcolor\":\"white\",\"linecolor\":\"white\",\"minorgridcolor\":\"white\",\"startlinecolor\":\"#2a3f5f\"},\"type\":\"carpet\"}],\"choropleth\":[{\"colorbar\":{\"outlinewidth\":0,\"ticks\":\"\"},\"type\":\"choropleth\"}],\"contour\":[{\"colorbar\":{\"outlinewidth\":0,\"ticks\":\"\"},\"colorscale\":[[0.0,\"#0d0887\"],[0.1111111111111111,\"#46039f\"],[0.2222222222222222,\"#7201a8\"],[0.3333333333333333,\"#9c179e\"],[0.4444444444444444,\"#bd3786\"],[0.5555555555555556,\"#d8576b\"],[0.6666666666666666,\"#ed7953\"],[0.7777777777777778,\"#fb9f3a\"],[0.8888888888888888,\"#fdca26\"],[1.0,\"#f0f921\"]],\"type\":\"contour\"}],\"contourcarpet\":[{\"colorbar\":{\"outlinewidth\":0,\"ticks\":\"\"},\"type\":\"contourcarpet\"}],\"heatmap\":[{\"colorbar\":{\"outlinewidth\":0,\"ticks\":\"\"},\"colorscale\":[[0.0,\"#0d0887\"],[0.1111111111111111,\"#46039f\"],[0.2222222222222222,\"#7201a8\"],[0.3333333333333333,\"#9c179e\"],[0.4444444444444444,\"#bd3786\"],[0.5555555555555556,\"#d8576b\"],[0.6666666666666666,\"#ed7953\"],[0.7777777777777778,\"#fb9f3a\"],[0.8888888888888888,\"#fdca26\"],[1.0,\"#f0f921\"]],\"type\":\"heatmap\"}],\"heatmapgl\":[{\"colorbar\":{\"outlinewidth\":0,\"ticks\":\"\"},\"colorscale\":[[0.0,\"#0d0887\"],[0.1111111111111111,\"#46039f\"],[0.2222222222222222,\"#7201a8\"],[0.3333333333333333,\"#9c179e\"],[0.4444444444444444,\"#bd3786\"],[0.5555555555555556,\"#d8576b\"],[0.6666666666666666,\"#ed7953\"],[0.7777777777777778,\"#fb9f3a\"],[0.8888888888888888,\"#fdca26\"],[1.0,\"#f0f921\"]],\"type\":\"heatmapgl\"}],\"histogram\":[{\"marker\":{\"pattern\":{\"fillmode\":\"overlay\",\"size\":10,\"solidity\":0.2}},\"type\":\"histogram\"}],\"histogram2d\":[{\"colorbar\":{\"outlinewidth\":0,\"ticks\":\"\"},\"colorscale\":[[0.0,\"#0d0887\"],[0.1111111111111111,\"#46039f\"],[0.2222222222222222,\"#7201a8\"],[0.3333333333333333,\"#9c179e\"],[0.4444444444444444,\"#bd3786\"],[0.5555555555555556,\"#d8576b\"],[0.6666666666666666,\"#ed7953\"],[0.7777777777777778,\"#fb9f3a\"],[0.8888888888888888,\"#fdca26\"],[1.0,\"#f0f921\"]],\"type\":\"histogram2d\"}],\"histogram2dcontour\":[{\"colorbar\":{\"outlinewidth\":0,\"ticks\":\"\"},\"colorscale\":[[0.0,\"#0d0887\"],[0.1111111111111111,\"#46039f\"],[0.2222222222222222,\"#7201a8\"],[0.3333333333333333,\"#9c179e\"],[0.4444444444444444,\"#bd3786\"],[0.5555555555555556,\"#d8576b\"],[0.6666666666666666,\"#ed7953\"],[0.7777777777777778,\"#fb9f3a\"],[0.8888888888888888,\"#fdca26\"],[1.0,\"#f0f921\"]],\"type\":\"histogram2dcontour\"}],\"mesh3d\":[{\"colorbar\":{\"outlinewidth\":0,\"ticks\":\"\"},\"type\":\"mesh3d\"}],\"parcoords\":[{\"line\":{\"colorbar\":{\"outlinewidth\":0,\"ticks\":\"\"}},\"type\":\"parcoords\"}],\"pie\":[{\"automargin\":true,\"type\":\"pie\"}],\"scatter\":[{\"marker\":{\"colorbar\":{\"outlinewidth\":0,\"ticks\":\"\"}},\"type\":\"scatter\"}],\"scatter3d\":[{\"line\":{\"colorbar\":{\"outlinewidth\":0,\"ticks\":\"\"}},\"marker\":{\"colorbar\":{\"outlinewidth\":0,\"ticks\":\"\"}},\"type\":\"scatter3d\"}],\"scattercarpet\":[{\"marker\":{\"colorbar\":{\"outlinewidth\":0,\"ticks\":\"\"}},\"type\":\"scattercarpet\"}],\"scattergeo\":[{\"marker\":{\"colorbar\":{\"outlinewidth\":0,\"ticks\":\"\"}},\"type\":\"scattergeo\"}],\"scattergl\":[{\"marker\":{\"colorbar\":{\"outlinewidth\":0,\"ticks\":\"\"}},\"type\":\"scattergl\"}],\"scattermapbox\":[{\"marker\":{\"colorbar\":{\"outlinewidth\":0,\"ticks\":\"\"}},\"type\":\"scattermapbox\"}],\"scatterpolar\":[{\"marker\":{\"colorbar\":{\"outlinewidth\":0,\"ticks\":\"\"}},\"type\":\"scatterpolar\"}],\"scatterpolargl\":[{\"marker\":{\"colorbar\":{\"outlinewidth\":0,\"ticks\":\"\"}},\"type\":\"scatterpolargl\"}],\"scatterternary\":[{\"marker\":{\"colorbar\":{\"outlinewidth\":0,\"ticks\":\"\"}},\"type\":\"scatterternary\"}],\"surface\":[{\"colorbar\":{\"outlinewidth\":0,\"ticks\":\"\"},\"colorscale\":[[0.0,\"#0d0887\"],[0.1111111111111111,\"#46039f\"],[0.2222222222222222,\"#7201a8\"],[0.3333333333333333,\"#9c179e\"],[0.4444444444444444,\"#bd3786\"],[0.5555555555555556,\"#d8576b\"],[0.6666666666666666,\"#ed7953\"],[0.7777777777777778,\"#fb9f3a\"],[0.8888888888888888,\"#fdca26\"],[1.0,\"#f0f921\"]],\"type\":\"surface\"}],\"table\":[{\"cells\":{\"fill\":{\"color\":\"#EBF0F8\"},\"line\":{\"color\":\"white\"}},\"header\":{\"fill\":{\"color\":\"#C8D4E3\"},\"line\":{\"color\":\"white\"}},\"type\":\"table\"}]},\"layout\":{\"annotationdefaults\":{\"arrowcolor\":\"#2a3f5f\",\"arrowhead\":0,\"arrowwidth\":1},\"autotypenumbers\":\"strict\",\"coloraxis\":{\"colorbar\":{\"outlinewidth\":0,\"ticks\":\"\"}},\"colorscale\":{\"diverging\":[[0,\"#8e0152\"],[0.1,\"#c51b7d\"],[0.2,\"#de77ae\"],[0.3,\"#f1b6da\"],[0.4,\"#fde0ef\"],[0.5,\"#f7f7f7\"],[0.6,\"#e6f5d0\"],[0.7,\"#b8e186\"],[0.8,\"#7fbc41\"],[0.9,\"#4d9221\"],[1,\"#276419\"]],\"sequential\":[[0.0,\"#0d0887\"],[0.1111111111111111,\"#46039f\"],[0.2222222222222222,\"#7201a8\"],[0.3333333333333333,\"#9c179e\"],[0.4444444444444444,\"#bd3786\"],[0.5555555555555556,\"#d8576b\"],[0.6666666666666666,\"#ed7953\"],[0.7777777777777778,\"#fb9f3a\"],[0.8888888888888888,\"#fdca26\"],[1.0,\"#f0f921\"]],\"sequentialminus\":[[0.0,\"#0d0887\"],[0.1111111111111111,\"#46039f\"],[0.2222222222222222,\"#7201a8\"],[0.3333333333333333,\"#9c179e\"],[0.4444444444444444,\"#bd3786\"],[0.5555555555555556,\"#d8576b\"],[0.6666666666666666,\"#ed7953\"],[0.7777777777777778,\"#fb9f3a\"],[0.8888888888888888,\"#fdca26\"],[1.0,\"#f0f921\"]]},\"colorway\":[\"#636efa\",\"#EF553B\",\"#00cc96\",\"#ab63fa\",\"#FFA15A\",\"#19d3f3\",\"#FF6692\",\"#B6E880\",\"#FF97FF\",\"#FECB52\"],\"font\":{\"color\":\"#2a3f5f\"},\"geo\":{\"bgcolor\":\"white\",\"lakecolor\":\"white\",\"landcolor\":\"#E5ECF6\",\"showlakes\":true,\"showland\":true,\"subunitcolor\":\"white\"},\"hoverlabel\":{\"align\":\"left\"},\"hovermode\":\"closest\",\"mapbox\":{\"style\":\"light\"},\"paper_bgcolor\":\"white\",\"plot_bgcolor\":\"#E5ECF6\",\"polar\":{\"angularaxis\":{\"gridcolor\":\"white\",\"linecolor\":\"white\",\"ticks\":\"\"},\"bgcolor\":\"#E5ECF6\",\"radialaxis\":{\"gridcolor\":\"white\",\"linecolor\":\"white\",\"ticks\":\"\"}},\"scene\":{\"xaxis\":{\"backgroundcolor\":\"#E5ECF6\",\"gridcolor\":\"white\",\"gridwidth\":2,\"linecolor\":\"white\",\"showbackground\":true,\"ticks\":\"\",\"zerolinecolor\":\"white\"},\"yaxis\":{\"backgroundcolor\":\"#E5ECF6\",\"gridcolor\":\"white\",\"gridwidth\":2,\"linecolor\":\"white\",\"showbackground\":true,\"ticks\":\"\",\"zerolinecolor\":\"white\"},\"zaxis\":{\"backgroundcolor\":\"#E5ECF6\",\"gridcolor\":\"white\",\"gridwidth\":2,\"linecolor\":\"white\",\"showbackground\":true,\"ticks\":\"\",\"zerolinecolor\":\"white\"}},\"shapedefaults\":{\"line\":{\"color\":\"#2a3f5f\"}},\"ternary\":{\"aaxis\":{\"gridcolor\":\"white\",\"linecolor\":\"white\",\"ticks\":\"\"},\"baxis\":{\"gridcolor\":\"white\",\"linecolor\":\"white\",\"ticks\":\"\"},\"bgcolor\":\"#E5ECF6\",\"caxis\":{\"gridcolor\":\"white\",\"linecolor\":\"white\",\"ticks\":\"\"}},\"title\":{\"x\":0.05},\"xaxis\":{\"automargin\":true,\"gridcolor\":\"white\",\"linecolor\":\"white\",\"ticks\":\"\",\"title\":{\"standoff\":15},\"zerolinecolor\":\"white\",\"zerolinewidth\":2},\"yaxis\":{\"automargin\":true,\"gridcolor\":\"white\",\"linecolor\":\"white\",\"ticks\":\"\",\"title\":{\"standoff\":15},\"zerolinecolor\":\"white\",\"zerolinewidth\":2}}},\"xaxis\":{\"anchor\":\"y\",\"domain\":[0.0,1.0],\"title\":{\"text\":\"education_college_rate\"}},\"yaxis\":{\"anchor\":\"x\",\"domain\":[0.0,1.0],\"title\":{\"text\":\"solar_systems_per_thousand_households\"}},\"legend\":{\"tracegroupgap\":0},\"margin\":{\"t\":60}},                        {\"responsive\": true}                    ).then(function(){\n                            \nvar gd = document.getElementById('979cf6e3-f8ad-4d3d-9735-ea5c47ba4ba8');\nvar x = new MutationObserver(function (mutations, observer) {{\n        var display = window.getComputedStyle(gd).display;\n        if (!display || display === 'none') {{\n            console.log([gd, 'removed!']);\n            Plotly.purge(gd);\n            observer.disconnect();\n        }}\n}});\n\n// Listen for the removal of the full notebook cells\nvar notebookContainer = gd.closest('#notebook-container');\nif (notebookContainer) {{\n    x.observe(notebookContainer, {childList: true});\n}}\n\n// Listen for the clearing of the current output cell\nvar outputEl = gd.closest('.output');\nif (outputEl) {{\n    x.observe(outputEl, {childList: true});\n}}\n\n                        })                };                });            </script>        </div>"
     },
     "metadata": {},
     "output_type": "display_data"
    },
    {
     "name": "stdout",
     "output_type": "stream",
     "text": [
      "results:  <statsmodels.regression.linear_model.RegressionResultsWrapper object at 0x7fabd014f5b0>\n",
      "alpha:  1.8567629513238595\n",
      "beta:  111.21414846857802\n",
      "p_beta:  1.8357603441543493e-22\n",
      "r_squared:  0.7865290298210671\n"
     ]
    }
   ]
  },
  {
   "cell_type": "code",
   "source": [
    "hi10 = median_dataframe(\"education_doctoral_binned\", 'education_doctoral_rate')\n",
    "plot_scatter(hi10, 'education_doctoral_rate', 'solar_systems_per_thousand_households', 'DarkSalmon', 'education_doctoral')"
   ],
   "metadata": {
    "execution": {
     "iopub.status.busy": "2022-01-30T17:06:37.597597Z",
     "iopub.execute_input": "2022-01-30T17:06:37.597858Z",
     "iopub.status.idle": "2022-01-30T17:06:37.724537Z",
     "shell.execute_reply.started": "2022-01-30T17:06:37.597813Z",
     "shell.execute_reply": "2022-01-30T17:06:37.723876Z"
    },
    "trusted": true
   },
   "execution_count": 42,
   "outputs": [
    {
     "data": {
      "application/vnd.plotly.v1+json": {
       "data": [
        {
         "hovertemplate": "education_doctoral_rate=%{x}<br>solar_systems_per_thousand_households=%{y}<extra></extra>",
         "legendgroup": "",
         "marker": {
          "color": "DarkSalmon",
          "symbol": "circle"
         },
         "mode": "markers",
         "name": "",
         "orientation": "v",
         "showlegend": false,
         "x": [
          0.0,
          0.00154878678369,
          0.0019908660169899997,
          0.00234161571484,
          0.002648655853635,
          0.00291541348561495,
          0.00320855614973,
          0.00347955808272,
          0.00381263616558,
          0.004164005074005,
          0.0045333232252849995,
          0.00493305144468,
          0.0053186925097,
          0.00579862941487,
          0.00625503518031,
          0.00670910029245,
          0.007185959755445,
          0.0076844342965150005,
          0.00823629650667,
          0.008765738834334999,
          0.00926211793764,
          0.009874538813924999,
          0.0105443845022,
          0.01114414716899995,
          0.01181523021325,
          0.0125751776927,
          0.01333126679064995,
          0.0142122028914,
          0.01514210069204995,
          0.01610581687755,
          0.0172060630889,
          0.0184567624118,
          0.0197268588771,
          0.02102053680335,
          0.0223914017017,
          0.023796041632950002,
          0.02514563326435,
          0.0267568362246,
          0.0287353575589,
          0.0307847590209,
          0.0333527708777,
          0.036204182595,
          0.0391926310703,
          0.04364572529465,
          0.0474744686724,
          0.053320139881600004,
          0.0621273321793,
          0.07508033309949999,
          0.1174693705835
         ],
         "xaxis": "x",
         "y": [
          23.072940459875134,
          37.46253746253746,
          32.03269213631908,
          36.64658634538152,
          30.35160341632423,
          23.916474626722362,
          29.31889941362201,
          29.00853123683551,
          23.786869647954326,
          25.42025783456484,
          26.0729408463638,
          31.558185404339252,
          31.719713299221006,
          35.650623885918,
          30.156580184228226,
          35.2,
          31.736114270117817,
          38.28062812070338,
          33.818938605619145,
          26.79200480129426,
          30.513176144244106,
          35.31741644026032,
          41.19318181818181,
          36.309319122644,
          42.06697930091872,
          41.33251079580506,
          43.343592462240025,
          39.81559094719196,
          35.806139215888614,
          37.0654178348577,
          34.530386740331494,
          49.75125943841203,
          41.169451073985684,
          38.88434229184521,
          53.991958644457206,
          48.238811257438016,
          48.21443418973975,
          38.61788617886179,
          45.59366875970503,
          44.68412942989214,
          43.69625402980033,
          38.65623561895996,
          41.1372798066907,
          38.46403309483044,
          46.391752577319586,
          43.48501628126084,
          50.147492625368734,
          53.645833333333336,
          57.742484864305865
         ],
         "yaxis": "y",
         "type": "scatter"
        },
        {
         "hovertemplate": "<b>OLS trendline</b><br>solar_systems_per_thousand_households = 277.513 * education_doctoral_rate + 32.3696<br>R<sup>2</sup>=0.542916<br><br>education_doctoral_rate=%{x}<br>solar_systems_per_thousand_households=%{y} <b>(trend)</b><extra></extra>",
         "legendgroup": "",
         "line": {
          "color": "DarkSalmon"
         },
         "marker": {
          "color": "DarkSalmon",
          "symbol": "circle"
         },
         "mode": "lines",
         "name": "",
         "showlegend": false,
         "x": [
          0.0,
          0.00154878678369,
          0.0019908660169899997,
          0.00234161571484,
          0.002648655853635,
          0.00291541348561495,
          0.00320855614973,
          0.00347955808272,
          0.00381263616558,
          0.004164005074005,
          0.0045333232252849995,
          0.00493305144468,
          0.0053186925097,
          0.00579862941487,
          0.00625503518031,
          0.00670910029245,
          0.007185959755445,
          0.0076844342965150005,
          0.00823629650667,
          0.008765738834334999,
          0.00926211793764,
          0.009874538813924999,
          0.0105443845022,
          0.01114414716899995,
          0.01181523021325,
          0.0125751776927,
          0.01333126679064995,
          0.0142122028914,
          0.01514210069204995,
          0.01610581687755,
          0.0172060630889,
          0.0184567624118,
          0.0197268588771,
          0.02102053680335,
          0.0223914017017,
          0.023796041632950002,
          0.02514563326435,
          0.0267568362246,
          0.0287353575589,
          0.0307847590209,
          0.0333527708777,
          0.036204182595,
          0.0391926310703,
          0.04364572529465,
          0.0474744686724,
          0.053320139881600004,
          0.0621273321793,
          0.07508033309949999,
          0.1174693705835
         ],
         "xaxis": "x",
         "y": [
          32.36962455142793,
          32.799432688189114,
          32.92211532828292,
          33.01945285446149,
          33.10466041908957,
          33.178689072985335,
          33.260039910683155,
          33.335246412380954,
          33.427679839433424,
          33.52518920446439,
          33.62767971390401,
          33.738609406098114,
          33.845629732821166,
          33.978818360943734,
          34.1054767968993,
          34.23148567163426,
          34.36382027020211,
          34.5021533293271,
          34.65530214928959,
          34.80222916517879,
          34.939980713529685,
          35.10993533770498,
          35.29582608149675,
          35.462267890679826,
          35.64850201657669,
          35.85939715954825,
          36.06922155231654,
          36.313692584776504,
          36.57175111503038,
          36.83919467951477,
          37.144527071977606,
          37.49161212673471,
          37.84408013653845,
          38.20309230329121,
          38.583524841789064,
          38.973330383796934,
          39.34785931869558,
          39.79498874256582,
          40.34405371212326,
          40.912788823459394,
          41.6254449508071,
          42.41674816326854,
          43.24608082835962,
          44.48187141719056,
          45.54439666253563,
          47.16664517149994,
          49.61075365139869,
          53.205377036363814,
          64.96887696544411
         ],
         "yaxis": "y",
         "type": "scatter"
        }
       ],
       "layout": {
        "template": {
         "data": {
          "bar": [
           {
            "error_x": {
             "color": "#2a3f5f"
            },
            "error_y": {
             "color": "#2a3f5f"
            },
            "marker": {
             "line": {
              "color": "#E5ECF6",
              "width": 0.5
             },
             "pattern": {
              "fillmode": "overlay",
              "size": 10,
              "solidity": 0.2
             }
            },
            "type": "bar"
           }
          ],
          "barpolar": [
           {
            "marker": {
             "line": {
              "color": "#E5ECF6",
              "width": 0.5
             },
             "pattern": {
              "fillmode": "overlay",
              "size": 10,
              "solidity": 0.2
             }
            },
            "type": "barpolar"
           }
          ],
          "carpet": [
           {
            "aaxis": {
             "endlinecolor": "#2a3f5f",
             "gridcolor": "white",
             "linecolor": "white",
             "minorgridcolor": "white",
             "startlinecolor": "#2a3f5f"
            },
            "baxis": {
             "endlinecolor": "#2a3f5f",
             "gridcolor": "white",
             "linecolor": "white",
             "minorgridcolor": "white",
             "startlinecolor": "#2a3f5f"
            },
            "type": "carpet"
           }
          ],
          "choropleth": [
           {
            "colorbar": {
             "outlinewidth": 0,
             "ticks": ""
            },
            "type": "choropleth"
           }
          ],
          "contour": [
           {
            "colorbar": {
             "outlinewidth": 0,
             "ticks": ""
            },
            "colorscale": [
             [
              0.0,
              "#0d0887"
             ],
             [
              0.1111111111111111,
              "#46039f"
             ],
             [
              0.2222222222222222,
              "#7201a8"
             ],
             [
              0.3333333333333333,
              "#9c179e"
             ],
             [
              0.4444444444444444,
              "#bd3786"
             ],
             [
              0.5555555555555556,
              "#d8576b"
             ],
             [
              0.6666666666666666,
              "#ed7953"
             ],
             [
              0.7777777777777778,
              "#fb9f3a"
             ],
             [
              0.8888888888888888,
              "#fdca26"
             ],
             [
              1.0,
              "#f0f921"
             ]
            ],
            "type": "contour"
           }
          ],
          "contourcarpet": [
           {
            "colorbar": {
             "outlinewidth": 0,
             "ticks": ""
            },
            "type": "contourcarpet"
           }
          ],
          "heatmap": [
           {
            "colorbar": {
             "outlinewidth": 0,
             "ticks": ""
            },
            "colorscale": [
             [
              0.0,
              "#0d0887"
             ],
             [
              0.1111111111111111,
              "#46039f"
             ],
             [
              0.2222222222222222,
              "#7201a8"
             ],
             [
              0.3333333333333333,
              "#9c179e"
             ],
             [
              0.4444444444444444,
              "#bd3786"
             ],
             [
              0.5555555555555556,
              "#d8576b"
             ],
             [
              0.6666666666666666,
              "#ed7953"
             ],
             [
              0.7777777777777778,
              "#fb9f3a"
             ],
             [
              0.8888888888888888,
              "#fdca26"
             ],
             [
              1.0,
              "#f0f921"
             ]
            ],
            "type": "heatmap"
           }
          ],
          "heatmapgl": [
           {
            "colorbar": {
             "outlinewidth": 0,
             "ticks": ""
            },
            "colorscale": [
             [
              0.0,
              "#0d0887"
             ],
             [
              0.1111111111111111,
              "#46039f"
             ],
             [
              0.2222222222222222,
              "#7201a8"
             ],
             [
              0.3333333333333333,
              "#9c179e"
             ],
             [
              0.4444444444444444,
              "#bd3786"
             ],
             [
              0.5555555555555556,
              "#d8576b"
             ],
             [
              0.6666666666666666,
              "#ed7953"
             ],
             [
              0.7777777777777778,
              "#fb9f3a"
             ],
             [
              0.8888888888888888,
              "#fdca26"
             ],
             [
              1.0,
              "#f0f921"
             ]
            ],
            "type": "heatmapgl"
           }
          ],
          "histogram": [
           {
            "marker": {
             "pattern": {
              "fillmode": "overlay",
              "size": 10,
              "solidity": 0.2
             }
            },
            "type": "histogram"
           }
          ],
          "histogram2d": [
           {
            "colorbar": {
             "outlinewidth": 0,
             "ticks": ""
            },
            "colorscale": [
             [
              0.0,
              "#0d0887"
             ],
             [
              0.1111111111111111,
              "#46039f"
             ],
             [
              0.2222222222222222,
              "#7201a8"
             ],
             [
              0.3333333333333333,
              "#9c179e"
             ],
             [
              0.4444444444444444,
              "#bd3786"
             ],
             [
              0.5555555555555556,
              "#d8576b"
             ],
             [
              0.6666666666666666,
              "#ed7953"
             ],
             [
              0.7777777777777778,
              "#fb9f3a"
             ],
             [
              0.8888888888888888,
              "#fdca26"
             ],
             [
              1.0,
              "#f0f921"
             ]
            ],
            "type": "histogram2d"
           }
          ],
          "histogram2dcontour": [
           {
            "colorbar": {
             "outlinewidth": 0,
             "ticks": ""
            },
            "colorscale": [
             [
              0.0,
              "#0d0887"
             ],
             [
              0.1111111111111111,
              "#46039f"
             ],
             [
              0.2222222222222222,
              "#7201a8"
             ],
             [
              0.3333333333333333,
              "#9c179e"
             ],
             [
              0.4444444444444444,
              "#bd3786"
             ],
             [
              0.5555555555555556,
              "#d8576b"
             ],
             [
              0.6666666666666666,
              "#ed7953"
             ],
             [
              0.7777777777777778,
              "#fb9f3a"
             ],
             [
              0.8888888888888888,
              "#fdca26"
             ],
             [
              1.0,
              "#f0f921"
             ]
            ],
            "type": "histogram2dcontour"
           }
          ],
          "mesh3d": [
           {
            "colorbar": {
             "outlinewidth": 0,
             "ticks": ""
            },
            "type": "mesh3d"
           }
          ],
          "parcoords": [
           {
            "line": {
             "colorbar": {
              "outlinewidth": 0,
              "ticks": ""
             }
            },
            "type": "parcoords"
           }
          ],
          "pie": [
           {
            "automargin": true,
            "type": "pie"
           }
          ],
          "scatter": [
           {
            "marker": {
             "colorbar": {
              "outlinewidth": 0,
              "ticks": ""
             }
            },
            "type": "scatter"
           }
          ],
          "scatter3d": [
           {
            "line": {
             "colorbar": {
              "outlinewidth": 0,
              "ticks": ""
             }
            },
            "marker": {
             "colorbar": {
              "outlinewidth": 0,
              "ticks": ""
             }
            },
            "type": "scatter3d"
           }
          ],
          "scattercarpet": [
           {
            "marker": {
             "colorbar": {
              "outlinewidth": 0,
              "ticks": ""
             }
            },
            "type": "scattercarpet"
           }
          ],
          "scattergeo": [
           {
            "marker": {
             "colorbar": {
              "outlinewidth": 0,
              "ticks": ""
             }
            },
            "type": "scattergeo"
           }
          ],
          "scattergl": [
           {
            "marker": {
             "colorbar": {
              "outlinewidth": 0,
              "ticks": ""
             }
            },
            "type": "scattergl"
           }
          ],
          "scattermapbox": [
           {
            "marker": {
             "colorbar": {
              "outlinewidth": 0,
              "ticks": ""
             }
            },
            "type": "scattermapbox"
           }
          ],
          "scatterpolar": [
           {
            "marker": {
             "colorbar": {
              "outlinewidth": 0,
              "ticks": ""
             }
            },
            "type": "scatterpolar"
           }
          ],
          "scatterpolargl": [
           {
            "marker": {
             "colorbar": {
              "outlinewidth": 0,
              "ticks": ""
             }
            },
            "type": "scatterpolargl"
           }
          ],
          "scatterternary": [
           {
            "marker": {
             "colorbar": {
              "outlinewidth": 0,
              "ticks": ""
             }
            },
            "type": "scatterternary"
           }
          ],
          "surface": [
           {
            "colorbar": {
             "outlinewidth": 0,
             "ticks": ""
            },
            "colorscale": [
             [
              0.0,
              "#0d0887"
             ],
             [
              0.1111111111111111,
              "#46039f"
             ],
             [
              0.2222222222222222,
              "#7201a8"
             ],
             [
              0.3333333333333333,
              "#9c179e"
             ],
             [
              0.4444444444444444,
              "#bd3786"
             ],
             [
              0.5555555555555556,
              "#d8576b"
             ],
             [
              0.6666666666666666,
              "#ed7953"
             ],
             [
              0.7777777777777778,
              "#fb9f3a"
             ],
             [
              0.8888888888888888,
              "#fdca26"
             ],
             [
              1.0,
              "#f0f921"
             ]
            ],
            "type": "surface"
           }
          ],
          "table": [
           {
            "cells": {
             "fill": {
              "color": "#EBF0F8"
             },
             "line": {
              "color": "white"
             }
            },
            "header": {
             "fill": {
              "color": "#C8D4E3"
             },
             "line": {
              "color": "white"
             }
            },
            "type": "table"
           }
          ]
         },
         "layout": {
          "annotationdefaults": {
           "arrowcolor": "#2a3f5f",
           "arrowhead": 0,
           "arrowwidth": 1
          },
          "autotypenumbers": "strict",
          "coloraxis": {
           "colorbar": {
            "outlinewidth": 0,
            "ticks": ""
           }
          },
          "colorscale": {
           "diverging": [
            [
             0,
             "#8e0152"
            ],
            [
             0.1,
             "#c51b7d"
            ],
            [
             0.2,
             "#de77ae"
            ],
            [
             0.3,
             "#f1b6da"
            ],
            [
             0.4,
             "#fde0ef"
            ],
            [
             0.5,
             "#f7f7f7"
            ],
            [
             0.6,
             "#e6f5d0"
            ],
            [
             0.7,
             "#b8e186"
            ],
            [
             0.8,
             "#7fbc41"
            ],
            [
             0.9,
             "#4d9221"
            ],
            [
             1,
             "#276419"
            ]
           ],
           "sequential": [
            [
             0.0,
             "#0d0887"
            ],
            [
             0.1111111111111111,
             "#46039f"
            ],
            [
             0.2222222222222222,
             "#7201a8"
            ],
            [
             0.3333333333333333,
             "#9c179e"
            ],
            [
             0.4444444444444444,
             "#bd3786"
            ],
            [
             0.5555555555555556,
             "#d8576b"
            ],
            [
             0.6666666666666666,
             "#ed7953"
            ],
            [
             0.7777777777777778,
             "#fb9f3a"
            ],
            [
             0.8888888888888888,
             "#fdca26"
            ],
            [
             1.0,
             "#f0f921"
            ]
           ],
           "sequentialminus": [
            [
             0.0,
             "#0d0887"
            ],
            [
             0.1111111111111111,
             "#46039f"
            ],
            [
             0.2222222222222222,
             "#7201a8"
            ],
            [
             0.3333333333333333,
             "#9c179e"
            ],
            [
             0.4444444444444444,
             "#bd3786"
            ],
            [
             0.5555555555555556,
             "#d8576b"
            ],
            [
             0.6666666666666666,
             "#ed7953"
            ],
            [
             0.7777777777777778,
             "#fb9f3a"
            ],
            [
             0.8888888888888888,
             "#fdca26"
            ],
            [
             1.0,
             "#f0f921"
            ]
           ]
          },
          "colorway": [
           "#636efa",
           "#EF553B",
           "#00cc96",
           "#ab63fa",
           "#FFA15A",
           "#19d3f3",
           "#FF6692",
           "#B6E880",
           "#FF97FF",
           "#FECB52"
          ],
          "font": {
           "color": "#2a3f5f"
          },
          "geo": {
           "bgcolor": "white",
           "lakecolor": "white",
           "landcolor": "#E5ECF6",
           "showlakes": true,
           "showland": true,
           "subunitcolor": "white"
          },
          "hoverlabel": {
           "align": "left"
          },
          "hovermode": "closest",
          "mapbox": {
           "style": "light"
          },
          "paper_bgcolor": "white",
          "plot_bgcolor": "#E5ECF6",
          "polar": {
           "angularaxis": {
            "gridcolor": "white",
            "linecolor": "white",
            "ticks": ""
           },
           "bgcolor": "#E5ECF6",
           "radialaxis": {
            "gridcolor": "white",
            "linecolor": "white",
            "ticks": ""
           }
          },
          "scene": {
           "xaxis": {
            "backgroundcolor": "#E5ECF6",
            "gridcolor": "white",
            "gridwidth": 2,
            "linecolor": "white",
            "showbackground": true,
            "ticks": "",
            "zerolinecolor": "white"
           },
           "yaxis": {
            "backgroundcolor": "#E5ECF6",
            "gridcolor": "white",
            "gridwidth": 2,
            "linecolor": "white",
            "showbackground": true,
            "ticks": "",
            "zerolinecolor": "white"
           },
           "zaxis": {
            "backgroundcolor": "#E5ECF6",
            "gridcolor": "white",
            "gridwidth": 2,
            "linecolor": "white",
            "showbackground": true,
            "ticks": "",
            "zerolinecolor": "white"
           }
          },
          "shapedefaults": {
           "line": {
            "color": "#2a3f5f"
           }
          },
          "ternary": {
           "aaxis": {
            "gridcolor": "white",
            "linecolor": "white",
            "ticks": ""
           },
           "baxis": {
            "gridcolor": "white",
            "linecolor": "white",
            "ticks": ""
           },
           "bgcolor": "#E5ECF6",
           "caxis": {
            "gridcolor": "white",
            "linecolor": "white",
            "ticks": ""
           }
          },
          "title": {
           "x": 0.05
          },
          "xaxis": {
           "automargin": true,
           "gridcolor": "white",
           "linecolor": "white",
           "ticks": "",
           "title": {
            "standoff": 15
           },
           "zerolinecolor": "white",
           "zerolinewidth": 2
          },
          "yaxis": {
           "automargin": true,
           "gridcolor": "white",
           "linecolor": "white",
           "ticks": "",
           "title": {
            "standoff": 15
           },
           "zerolinecolor": "white",
           "zerolinewidth": 2
          }
         }
        },
        "xaxis": {
         "anchor": "y",
         "domain": [
          0.0,
          1.0
         ],
         "title": {
          "text": "education_doctoral_rate"
         }
        },
        "yaxis": {
         "anchor": "x",
         "domain": [
          0.0,
          1.0
         ],
         "title": {
          "text": "solar_systems_per_thousand_households"
         }
        },
        "legend": {
         "tracegroupgap": 0
        },
        "margin": {
         "t": 60
        }
       },
       "config": {
        "plotlyServerURL": "https://plot.ly"
       }
      },
      "text/html": "<div>                            <div id=\"43bddc8f-394d-48d6-9d7e-a4990ae4dfa0\" class=\"plotly-graph-div\" style=\"height:525px; width:100%;\"></div>            <script type=\"text/javascript\">                require([\"plotly\"], function(Plotly) {                    window.PLOTLYENV=window.PLOTLYENV || {};                                    if (document.getElementById(\"43bddc8f-394d-48d6-9d7e-a4990ae4dfa0\")) {                    Plotly.newPlot(                        \"43bddc8f-394d-48d6-9d7e-a4990ae4dfa0\",                        [{\"hovertemplate\":\"education_doctoral_rate=%{x}<br>solar_systems_per_thousand_households=%{y}<extra></extra>\",\"legendgroup\":\"\",\"marker\":{\"color\":\"DarkSalmon\",\"symbol\":\"circle\"},\"mode\":\"markers\",\"name\":\"\",\"orientation\":\"v\",\"showlegend\":false,\"x\":[0.0,0.00154878678369,0.0019908660169899997,0.00234161571484,0.002648655853635,0.00291541348561495,0.00320855614973,0.00347955808272,0.00381263616558,0.004164005074005,0.0045333232252849995,0.00493305144468,0.0053186925097,0.00579862941487,0.00625503518031,0.00670910029245,0.007185959755445,0.0076844342965150005,0.00823629650667,0.008765738834334999,0.00926211793764,0.009874538813924999,0.0105443845022,0.01114414716899995,0.01181523021325,0.0125751776927,0.01333126679064995,0.0142122028914,0.01514210069204995,0.01610581687755,0.0172060630889,0.0184567624118,0.0197268588771,0.02102053680335,0.0223914017017,0.023796041632950002,0.02514563326435,0.0267568362246,0.0287353575589,0.0307847590209,0.0333527708777,0.036204182595,0.0391926310703,0.04364572529465,0.0474744686724,0.053320139881600004,0.0621273321793,0.07508033309949999,0.1174693705835],\"xaxis\":\"x\",\"y\":[23.072940459875134,37.46253746253746,32.03269213631908,36.64658634538152,30.35160341632423,23.916474626722362,29.31889941362201,29.00853123683551,23.786869647954326,25.42025783456484,26.0729408463638,31.558185404339252,31.719713299221006,35.650623885918,30.156580184228226,35.2,31.736114270117817,38.28062812070338,33.818938605619145,26.79200480129426,30.513176144244106,35.31741644026032,41.19318181818181,36.309319122644,42.06697930091872,41.33251079580506,43.343592462240025,39.81559094719196,35.806139215888614,37.0654178348577,34.530386740331494,49.75125943841203,41.169451073985684,38.88434229184521,53.991958644457206,48.238811257438016,48.21443418973975,38.61788617886179,45.59366875970503,44.68412942989214,43.69625402980033,38.65623561895996,41.1372798066907,38.46403309483044,46.391752577319586,43.48501628126084,50.147492625368734,53.645833333333336,57.742484864305865],\"yaxis\":\"y\",\"type\":\"scatter\"},{\"hovertemplate\":\"<b>OLS trendline</b><br>solar_systems_per_thousand_households = 277.513 * education_doctoral_rate + 32.3696<br>R<sup>2</sup>=0.542916<br><br>education_doctoral_rate=%{x}<br>solar_systems_per_thousand_households=%{y} <b>(trend)</b><extra></extra>\",\"legendgroup\":\"\",\"line\":{\"color\":\"DarkSalmon\"},\"marker\":{\"color\":\"DarkSalmon\",\"symbol\":\"circle\"},\"mode\":\"lines\",\"name\":\"\",\"showlegend\":false,\"x\":[0.0,0.00154878678369,0.0019908660169899997,0.00234161571484,0.002648655853635,0.00291541348561495,0.00320855614973,0.00347955808272,0.00381263616558,0.004164005074005,0.0045333232252849995,0.00493305144468,0.0053186925097,0.00579862941487,0.00625503518031,0.00670910029245,0.007185959755445,0.0076844342965150005,0.00823629650667,0.008765738834334999,0.00926211793764,0.009874538813924999,0.0105443845022,0.01114414716899995,0.01181523021325,0.0125751776927,0.01333126679064995,0.0142122028914,0.01514210069204995,0.01610581687755,0.0172060630889,0.0184567624118,0.0197268588771,0.02102053680335,0.0223914017017,0.023796041632950002,0.02514563326435,0.0267568362246,0.0287353575589,0.0307847590209,0.0333527708777,0.036204182595,0.0391926310703,0.04364572529465,0.0474744686724,0.053320139881600004,0.0621273321793,0.07508033309949999,0.1174693705835],\"xaxis\":\"x\",\"y\":[32.36962455142793,32.799432688189114,32.92211532828292,33.01945285446149,33.10466041908957,33.178689072985335,33.260039910683155,33.335246412380954,33.427679839433424,33.52518920446439,33.62767971390401,33.738609406098114,33.845629732821166,33.978818360943734,34.1054767968993,34.23148567163426,34.36382027020211,34.5021533293271,34.65530214928959,34.80222916517879,34.939980713529685,35.10993533770498,35.29582608149675,35.462267890679826,35.64850201657669,35.85939715954825,36.06922155231654,36.313692584776504,36.57175111503038,36.83919467951477,37.144527071977606,37.49161212673471,37.84408013653845,38.20309230329121,38.583524841789064,38.973330383796934,39.34785931869558,39.79498874256582,40.34405371212326,40.912788823459394,41.6254449508071,42.41674816326854,43.24608082835962,44.48187141719056,45.54439666253563,47.16664517149994,49.61075365139869,53.205377036363814,64.96887696544411],\"yaxis\":\"y\",\"type\":\"scatter\"}],                        {\"template\":{\"data\":{\"bar\":[{\"error_x\":{\"color\":\"#2a3f5f\"},\"error_y\":{\"color\":\"#2a3f5f\"},\"marker\":{\"line\":{\"color\":\"#E5ECF6\",\"width\":0.5},\"pattern\":{\"fillmode\":\"overlay\",\"size\":10,\"solidity\":0.2}},\"type\":\"bar\"}],\"barpolar\":[{\"marker\":{\"line\":{\"color\":\"#E5ECF6\",\"width\":0.5},\"pattern\":{\"fillmode\":\"overlay\",\"size\":10,\"solidity\":0.2}},\"type\":\"barpolar\"}],\"carpet\":[{\"aaxis\":{\"endlinecolor\":\"#2a3f5f\",\"gridcolor\":\"white\",\"linecolor\":\"white\",\"minorgridcolor\":\"white\",\"startlinecolor\":\"#2a3f5f\"},\"baxis\":{\"endlinecolor\":\"#2a3f5f\",\"gridcolor\":\"white\",\"linecolor\":\"white\",\"minorgridcolor\":\"white\",\"startlinecolor\":\"#2a3f5f\"},\"type\":\"carpet\"}],\"choropleth\":[{\"colorbar\":{\"outlinewidth\":0,\"ticks\":\"\"},\"type\":\"choropleth\"}],\"contour\":[{\"colorbar\":{\"outlinewidth\":0,\"ticks\":\"\"},\"colorscale\":[[0.0,\"#0d0887\"],[0.1111111111111111,\"#46039f\"],[0.2222222222222222,\"#7201a8\"],[0.3333333333333333,\"#9c179e\"],[0.4444444444444444,\"#bd3786\"],[0.5555555555555556,\"#d8576b\"],[0.6666666666666666,\"#ed7953\"],[0.7777777777777778,\"#fb9f3a\"],[0.8888888888888888,\"#fdca26\"],[1.0,\"#f0f921\"]],\"type\":\"contour\"}],\"contourcarpet\":[{\"colorbar\":{\"outlinewidth\":0,\"ticks\":\"\"},\"type\":\"contourcarpet\"}],\"heatmap\":[{\"colorbar\":{\"outlinewidth\":0,\"ticks\":\"\"},\"colorscale\":[[0.0,\"#0d0887\"],[0.1111111111111111,\"#46039f\"],[0.2222222222222222,\"#7201a8\"],[0.3333333333333333,\"#9c179e\"],[0.4444444444444444,\"#bd3786\"],[0.5555555555555556,\"#d8576b\"],[0.6666666666666666,\"#ed7953\"],[0.7777777777777778,\"#fb9f3a\"],[0.8888888888888888,\"#fdca26\"],[1.0,\"#f0f921\"]],\"type\":\"heatmap\"}],\"heatmapgl\":[{\"colorbar\":{\"outlinewidth\":0,\"ticks\":\"\"},\"colorscale\":[[0.0,\"#0d0887\"],[0.1111111111111111,\"#46039f\"],[0.2222222222222222,\"#7201a8\"],[0.3333333333333333,\"#9c179e\"],[0.4444444444444444,\"#bd3786\"],[0.5555555555555556,\"#d8576b\"],[0.6666666666666666,\"#ed7953\"],[0.7777777777777778,\"#fb9f3a\"],[0.8888888888888888,\"#fdca26\"],[1.0,\"#f0f921\"]],\"type\":\"heatmapgl\"}],\"histogram\":[{\"marker\":{\"pattern\":{\"fillmode\":\"overlay\",\"size\":10,\"solidity\":0.2}},\"type\":\"histogram\"}],\"histogram2d\":[{\"colorbar\":{\"outlinewidth\":0,\"ticks\":\"\"},\"colorscale\":[[0.0,\"#0d0887\"],[0.1111111111111111,\"#46039f\"],[0.2222222222222222,\"#7201a8\"],[0.3333333333333333,\"#9c179e\"],[0.4444444444444444,\"#bd3786\"],[0.5555555555555556,\"#d8576b\"],[0.6666666666666666,\"#ed7953\"],[0.7777777777777778,\"#fb9f3a\"],[0.8888888888888888,\"#fdca26\"],[1.0,\"#f0f921\"]],\"type\":\"histogram2d\"}],\"histogram2dcontour\":[{\"colorbar\":{\"outlinewidth\":0,\"ticks\":\"\"},\"colorscale\":[[0.0,\"#0d0887\"],[0.1111111111111111,\"#46039f\"],[0.2222222222222222,\"#7201a8\"],[0.3333333333333333,\"#9c179e\"],[0.4444444444444444,\"#bd3786\"],[0.5555555555555556,\"#d8576b\"],[0.6666666666666666,\"#ed7953\"],[0.7777777777777778,\"#fb9f3a\"],[0.8888888888888888,\"#fdca26\"],[1.0,\"#f0f921\"]],\"type\":\"histogram2dcontour\"}],\"mesh3d\":[{\"colorbar\":{\"outlinewidth\":0,\"ticks\":\"\"},\"type\":\"mesh3d\"}],\"parcoords\":[{\"line\":{\"colorbar\":{\"outlinewidth\":0,\"ticks\":\"\"}},\"type\":\"parcoords\"}],\"pie\":[{\"automargin\":true,\"type\":\"pie\"}],\"scatter\":[{\"marker\":{\"colorbar\":{\"outlinewidth\":0,\"ticks\":\"\"}},\"type\":\"scatter\"}],\"scatter3d\":[{\"line\":{\"colorbar\":{\"outlinewidth\":0,\"ticks\":\"\"}},\"marker\":{\"colorbar\":{\"outlinewidth\":0,\"ticks\":\"\"}},\"type\":\"scatter3d\"}],\"scattercarpet\":[{\"marker\":{\"colorbar\":{\"outlinewidth\":0,\"ticks\":\"\"}},\"type\":\"scattercarpet\"}],\"scattergeo\":[{\"marker\":{\"colorbar\":{\"outlinewidth\":0,\"ticks\":\"\"}},\"type\":\"scattergeo\"}],\"scattergl\":[{\"marker\":{\"colorbar\":{\"outlinewidth\":0,\"ticks\":\"\"}},\"type\":\"scattergl\"}],\"scattermapbox\":[{\"marker\":{\"colorbar\":{\"outlinewidth\":0,\"ticks\":\"\"}},\"type\":\"scattermapbox\"}],\"scatterpolar\":[{\"marker\":{\"colorbar\":{\"outlinewidth\":0,\"ticks\":\"\"}},\"type\":\"scatterpolar\"}],\"scatterpolargl\":[{\"marker\":{\"colorbar\":{\"outlinewidth\":0,\"ticks\":\"\"}},\"type\":\"scatterpolargl\"}],\"scatterternary\":[{\"marker\":{\"colorbar\":{\"outlinewidth\":0,\"ticks\":\"\"}},\"type\":\"scatterternary\"}],\"surface\":[{\"colorbar\":{\"outlinewidth\":0,\"ticks\":\"\"},\"colorscale\":[[0.0,\"#0d0887\"],[0.1111111111111111,\"#46039f\"],[0.2222222222222222,\"#7201a8\"],[0.3333333333333333,\"#9c179e\"],[0.4444444444444444,\"#bd3786\"],[0.5555555555555556,\"#d8576b\"],[0.6666666666666666,\"#ed7953\"],[0.7777777777777778,\"#fb9f3a\"],[0.8888888888888888,\"#fdca26\"],[1.0,\"#f0f921\"]],\"type\":\"surface\"}],\"table\":[{\"cells\":{\"fill\":{\"color\":\"#EBF0F8\"},\"line\":{\"color\":\"white\"}},\"header\":{\"fill\":{\"color\":\"#C8D4E3\"},\"line\":{\"color\":\"white\"}},\"type\":\"table\"}]},\"layout\":{\"annotationdefaults\":{\"arrowcolor\":\"#2a3f5f\",\"arrowhead\":0,\"arrowwidth\":1},\"autotypenumbers\":\"strict\",\"coloraxis\":{\"colorbar\":{\"outlinewidth\":0,\"ticks\":\"\"}},\"colorscale\":{\"diverging\":[[0,\"#8e0152\"],[0.1,\"#c51b7d\"],[0.2,\"#de77ae\"],[0.3,\"#f1b6da\"],[0.4,\"#fde0ef\"],[0.5,\"#f7f7f7\"],[0.6,\"#e6f5d0\"],[0.7,\"#b8e186\"],[0.8,\"#7fbc41\"],[0.9,\"#4d9221\"],[1,\"#276419\"]],\"sequential\":[[0.0,\"#0d0887\"],[0.1111111111111111,\"#46039f\"],[0.2222222222222222,\"#7201a8\"],[0.3333333333333333,\"#9c179e\"],[0.4444444444444444,\"#bd3786\"],[0.5555555555555556,\"#d8576b\"],[0.6666666666666666,\"#ed7953\"],[0.7777777777777778,\"#fb9f3a\"],[0.8888888888888888,\"#fdca26\"],[1.0,\"#f0f921\"]],\"sequentialminus\":[[0.0,\"#0d0887\"],[0.1111111111111111,\"#46039f\"],[0.2222222222222222,\"#7201a8\"],[0.3333333333333333,\"#9c179e\"],[0.4444444444444444,\"#bd3786\"],[0.5555555555555556,\"#d8576b\"],[0.6666666666666666,\"#ed7953\"],[0.7777777777777778,\"#fb9f3a\"],[0.8888888888888888,\"#fdca26\"],[1.0,\"#f0f921\"]]},\"colorway\":[\"#636efa\",\"#EF553B\",\"#00cc96\",\"#ab63fa\",\"#FFA15A\",\"#19d3f3\",\"#FF6692\",\"#B6E880\",\"#FF97FF\",\"#FECB52\"],\"font\":{\"color\":\"#2a3f5f\"},\"geo\":{\"bgcolor\":\"white\",\"lakecolor\":\"white\",\"landcolor\":\"#E5ECF6\",\"showlakes\":true,\"showland\":true,\"subunitcolor\":\"white\"},\"hoverlabel\":{\"align\":\"left\"},\"hovermode\":\"closest\",\"mapbox\":{\"style\":\"light\"},\"paper_bgcolor\":\"white\",\"plot_bgcolor\":\"#E5ECF6\",\"polar\":{\"angularaxis\":{\"gridcolor\":\"white\",\"linecolor\":\"white\",\"ticks\":\"\"},\"bgcolor\":\"#E5ECF6\",\"radialaxis\":{\"gridcolor\":\"white\",\"linecolor\":\"white\",\"ticks\":\"\"}},\"scene\":{\"xaxis\":{\"backgroundcolor\":\"#E5ECF6\",\"gridcolor\":\"white\",\"gridwidth\":2,\"linecolor\":\"white\",\"showbackground\":true,\"ticks\":\"\",\"zerolinecolor\":\"white\"},\"yaxis\":{\"backgroundcolor\":\"#E5ECF6\",\"gridcolor\":\"white\",\"gridwidth\":2,\"linecolor\":\"white\",\"showbackground\":true,\"ticks\":\"\",\"zerolinecolor\":\"white\"},\"zaxis\":{\"backgroundcolor\":\"#E5ECF6\",\"gridcolor\":\"white\",\"gridwidth\":2,\"linecolor\":\"white\",\"showbackground\":true,\"ticks\":\"\",\"zerolinecolor\":\"white\"}},\"shapedefaults\":{\"line\":{\"color\":\"#2a3f5f\"}},\"ternary\":{\"aaxis\":{\"gridcolor\":\"white\",\"linecolor\":\"white\",\"ticks\":\"\"},\"baxis\":{\"gridcolor\":\"white\",\"linecolor\":\"white\",\"ticks\":\"\"},\"bgcolor\":\"#E5ECF6\",\"caxis\":{\"gridcolor\":\"white\",\"linecolor\":\"white\",\"ticks\":\"\"}},\"title\":{\"x\":0.05},\"xaxis\":{\"automargin\":true,\"gridcolor\":\"white\",\"linecolor\":\"white\",\"ticks\":\"\",\"title\":{\"standoff\":15},\"zerolinecolor\":\"white\",\"zerolinewidth\":2},\"yaxis\":{\"automargin\":true,\"gridcolor\":\"white\",\"linecolor\":\"white\",\"ticks\":\"\",\"title\":{\"standoff\":15},\"zerolinecolor\":\"white\",\"zerolinewidth\":2}}},\"xaxis\":{\"anchor\":\"y\",\"domain\":[0.0,1.0],\"title\":{\"text\":\"education_doctoral_rate\"}},\"yaxis\":{\"anchor\":\"x\",\"domain\":[0.0,1.0],\"title\":{\"text\":\"solar_systems_per_thousand_households\"}},\"legend\":{\"tracegroupgap\":0},\"margin\":{\"t\":60}},                        {\"responsive\": true}                    ).then(function(){\n                            \nvar gd = document.getElementById('43bddc8f-394d-48d6-9d7e-a4990ae4dfa0');\nvar x = new MutationObserver(function (mutations, observer) {{\n        var display = window.getComputedStyle(gd).display;\n        if (!display || display === 'none') {{\n            console.log([gd, 'removed!']);\n            Plotly.purge(gd);\n            observer.disconnect();\n        }}\n}});\n\n// Listen for the removal of the full notebook cells\nvar notebookContainer = gd.closest('#notebook-container');\nif (notebookContainer) {{\n    x.observe(notebookContainer, {childList: true});\n}}\n\n// Listen for the clearing of the current output cell\nvar outputEl = gd.closest('.output');\nif (outputEl) {{\n    x.observe(outputEl, {childList: true});\n}}\n\n                        })                };                });            </script>        </div>"
     },
     "metadata": {},
     "output_type": "display_data"
    },
    {
     "name": "stdout",
     "output_type": "stream",
     "text": [
      "results:  <statsmodels.regression.linear_model.RegressionResultsWrapper object at 0x7fabcf0b9160>\n",
      "alpha:  32.36962455142793\n",
      "beta:  277.5127869681047\n",
      "p_beta:  1.5810321537029641e-09\n",
      "r_squared:  0.5429161191943278\n"
     ]
    }
   ]
  },
  {
   "cell_type": "code",
   "source": [
    "hi11 = median_dataframe(\"education_high_school_graduate_binned\", 'education_high_school_graduate_rate')\n",
    "plot_scatter(hi11, 'education_high_school_graduate_rate', 'solar_systems_per_thousand_households', 'DarkSeaGreen', 'education_high_school')"
   ],
   "metadata": {
    "execution": {
     "iopub.status.busy": "2022-01-30T17:06:37.725714Z",
     "iopub.execute_input": "2022-01-30T17:06:37.726039Z",
     "iopub.status.idle": "2022-01-30T17:06:37.859040Z",
     "shell.execute_reply.started": "2022-01-30T17:06:37.725995Z",
     "shell.execute_reply": "2022-01-30T17:06:37.857831Z"
    },
    "trusted": true
   },
   "execution_count": 43,
   "outputs": [
    {
     "data": {
      "application/vnd.plotly.v1+json": {
       "data": [
        {
         "hovertemplate": "education_high_school_graduate_rate=%{x}<br>solar_systems_per_thousand_households=%{y}<extra></extra>",
         "legendgroup": "",
         "marker": {
          "color": "DarkSeaGreen",
          "symbol": "circle"
         },
         "mode": "markers",
         "name": "",
         "orientation": "v",
         "showlegend": false,
         "x": [
          0.033646551156649995,
          0.04841875523855,
          0.0613093176308,
          0.07246228871834995,
          0.0816993464052,
          0.0898982032483,
          0.09649717272309999,
          0.103312302839,
          0.110136370308,
          0.11609431061,
          0.1225041950845,
          0.127840909091,
          0.133653086004,
          0.139013216191,
          0.14494875549,
          0.14990001969399996,
          0.154805575935,
          0.1595841003325,
          0.1639999999999999,
          0.1677848653745,
          0.17174024860999998,
          0.176159718144,
          0.179762442088,
          0.183877415057,
          0.1884197648,
          0.19164678914049998,
          0.194990488269,
          0.1985395547275,
          0.202171830086,
          0.2058733173275,
          0.209377526273,
          0.21315072215550002,
          0.2159586869315,
          0.219325153374,
          0.22278397794,
          0.225904446286,
          0.229050107877,
          0.232311929764,
          0.2353964180185,
          0.238902848616,
          0.242354150604,
          0.246020271317,
          0.249038461538,
          0.2525758343215,
          0.2557418306485,
          0.258883248731,
          0.2622301054255,
          0.265602322206,
          0.26896189953,
          0.272257323377,
          0.27603092044949995,
          0.28008310542649995,
          0.284393692224,
          0.288470520665,
          0.292644261256,
          0.2976180563035,
          0.302696078431,
          0.3084781773855,
          0.3144144904095,
          0.323038397329,
          0.33061886903399995,
          0.339070183281,
          0.35456856555,
          0.3812592087165
         ],
         "xaxis": "x",
         "y": [
          33.449536272227064,
          39.278974844008985,
          40.85480829666876,
          41.09289278526728,
          30.927835051546392,
          35.05449639572966,
          48.38709677419355,
          48.769371011850495,
          42.32251411202779,
          35.79952267303103,
          54.89095985185121,
          53.182214472537055,
          38.56705253551202,
          49.673051028358095,
          39.51890034364261,
          44.49625168336293,
          43.77564979480164,
          41.55422444766822,
          48.84547069271758,
          43.65281572363844,
          24.288791663738635,
          45.00616522811344,
          37.71247227573858,
          34.73684210526316,
          30.78369256276646,
          25.210249121506315,
          29.039463886820553,
          32.26865773841791,
          28.647568287808127,
          24.11940502806041,
          31.919961886612676,
          30.198978263699075,
          27.934056311779774,
          31.986531986531986,
          28.560827734534335,
          29.438001784121322,
          31.707714855095126,
          35.83061889250815,
          28.520630265928556,
          29.793240895039126,
          27.739251040221916,
          28.463678353978587,
          25.64102564102564,
          36.68326855801765,
          29.530246486066336,
          30.476190476190474,
          32.28883825348927,
          27.10843373493976,
          25.779322026748353,
          29.339853300733495,
          28.892263427109974,
          28.798252722094496,
          27.79708130646282,
          27.192424049520138,
          37.53690425980599,
          27.69151138716356,
          27.994791666666668,
          26.589978229037655,
          26.25080044930138,
          31.382527565733675,
          33.09002433090025,
          27.04485488126649,
          32.874617737003064,
          29.97611241650175
         ],
         "yaxis": "y",
         "type": "scatter"
        },
        {
         "hovertemplate": "<b>OLS trendline</b><br>solar_systems_per_thousand_households = -57.2469 * education_high_school_graduate_rate + 45.9808<br>R<sup>2</sup>=0.360605<br><br>education_high_school_graduate_rate=%{x}<br>solar_systems_per_thousand_households=%{y} <b>(trend)</b><extra></extra>",
         "legendgroup": "",
         "line": {
          "color": "DarkSeaGreen"
         },
         "marker": {
          "color": "DarkSeaGreen",
          "symbol": "circle"
         },
         "mode": "lines",
         "name": "",
         "showlegend": false,
         "x": [
          0.033646551156649995,
          0.04841875523855,
          0.0613093176308,
          0.07246228871834995,
          0.0816993464052,
          0.0898982032483,
          0.09649717272309999,
          0.103312302839,
          0.110136370308,
          0.11609431061,
          0.1225041950845,
          0.127840909091,
          0.133653086004,
          0.139013216191,
          0.14494875549,
          0.14990001969399996,
          0.154805575935,
          0.1595841003325,
          0.1639999999999999,
          0.1677848653745,
          0.17174024860999998,
          0.176159718144,
          0.179762442088,
          0.183877415057,
          0.1884197648,
          0.19164678914049998,
          0.194990488269,
          0.1985395547275,
          0.202171830086,
          0.2058733173275,
          0.209377526273,
          0.21315072215550002,
          0.2159586869315,
          0.219325153374,
          0.22278397794,
          0.225904446286,
          0.229050107877,
          0.232311929764,
          0.2353964180185,
          0.238902848616,
          0.242354150604,
          0.246020271317,
          0.249038461538,
          0.2525758343215,
          0.2557418306485,
          0.258883248731,
          0.2622301054255,
          0.265602322206,
          0.26896189953,
          0.272257323377,
          0.27603092044949995,
          0.28008310542649995,
          0.284393692224,
          0.288470520665,
          0.292644261256,
          0.2976180563035,
          0.302696078431,
          0.3084781773855,
          0.3144144904095,
          0.323038397329,
          0.33061886903399995,
          0.339070183281,
          0.35456856555,
          0.3812592087165
         ],
         "xaxis": "x",
         "y": [
          44.05466283417924,
          43.209000031968905,
          42.47105537223773,
          41.83258241785818,
          41.30378955496974,
          40.83443046580358,
          40.456659959329365,
          40.06651492753267,
          39.675858260029834,
          39.33478468270466,
          38.967838705212245,
          38.6623284038171,
          38.329599327780834,
          38.02274852278115,
          37.6829573333017,
          37.39951283591836,
          37.11868497745088,
          36.845129297471374,
          36.59233275699619,
          36.375660969844915,
          36.14922756476848,
          35.896226660523936,
          35.68998190454968,
          35.45441248290541,
          35.19437706835333,
          35.00963994778161,
          34.818223557980964,
          34.615050526395024,
          34.40711404372537,
          34.19521539572144,
          33.994610317430315,
          33.77860657245138,
          33.61785931037628,
          33.425139562562904,
          33.227132599037304,
          33.048495478194894,
          32.86841612232478,
          32.681686950294775,
          32.50510957793899,
          32.30437731697117,
          32.10680099767144,
          31.89692697357807,
          31.724144957722896,
          31.521641352710933,
          31.340397896363147,
          31.1605614681746,
          30.96896431752765,
          30.77591538072393,
          30.583590013547532,
          30.39493723367297,
          30.17891052181261,
          29.946935517695035,
          29.700167811932612,
          29.46678204604199,
          29.227848360566522,
          28.943114042372095,
          28.652413047570015,
          28.32140584123774,
          27.981570358405186,
          27.487878472542242,
          27.053920011869405,
          26.57010852044578,
          25.68287427248488,
          24.154917850556316
         ],
         "yaxis": "y",
         "type": "scatter"
        }
       ],
       "layout": {
        "template": {
         "data": {
          "bar": [
           {
            "error_x": {
             "color": "#2a3f5f"
            },
            "error_y": {
             "color": "#2a3f5f"
            },
            "marker": {
             "line": {
              "color": "#E5ECF6",
              "width": 0.5
             },
             "pattern": {
              "fillmode": "overlay",
              "size": 10,
              "solidity": 0.2
             }
            },
            "type": "bar"
           }
          ],
          "barpolar": [
           {
            "marker": {
             "line": {
              "color": "#E5ECF6",
              "width": 0.5
             },
             "pattern": {
              "fillmode": "overlay",
              "size": 10,
              "solidity": 0.2
             }
            },
            "type": "barpolar"
           }
          ],
          "carpet": [
           {
            "aaxis": {
             "endlinecolor": "#2a3f5f",
             "gridcolor": "white",
             "linecolor": "white",
             "minorgridcolor": "white",
             "startlinecolor": "#2a3f5f"
            },
            "baxis": {
             "endlinecolor": "#2a3f5f",
             "gridcolor": "white",
             "linecolor": "white",
             "minorgridcolor": "white",
             "startlinecolor": "#2a3f5f"
            },
            "type": "carpet"
           }
          ],
          "choropleth": [
           {
            "colorbar": {
             "outlinewidth": 0,
             "ticks": ""
            },
            "type": "choropleth"
           }
          ],
          "contour": [
           {
            "colorbar": {
             "outlinewidth": 0,
             "ticks": ""
            },
            "colorscale": [
             [
              0.0,
              "#0d0887"
             ],
             [
              0.1111111111111111,
              "#46039f"
             ],
             [
              0.2222222222222222,
              "#7201a8"
             ],
             [
              0.3333333333333333,
              "#9c179e"
             ],
             [
              0.4444444444444444,
              "#bd3786"
             ],
             [
              0.5555555555555556,
              "#d8576b"
             ],
             [
              0.6666666666666666,
              "#ed7953"
             ],
             [
              0.7777777777777778,
              "#fb9f3a"
             ],
             [
              0.8888888888888888,
              "#fdca26"
             ],
             [
              1.0,
              "#f0f921"
             ]
            ],
            "type": "contour"
           }
          ],
          "contourcarpet": [
           {
            "colorbar": {
             "outlinewidth": 0,
             "ticks": ""
            },
            "type": "contourcarpet"
           }
          ],
          "heatmap": [
           {
            "colorbar": {
             "outlinewidth": 0,
             "ticks": ""
            },
            "colorscale": [
             [
              0.0,
              "#0d0887"
             ],
             [
              0.1111111111111111,
              "#46039f"
             ],
             [
              0.2222222222222222,
              "#7201a8"
             ],
             [
              0.3333333333333333,
              "#9c179e"
             ],
             [
              0.4444444444444444,
              "#bd3786"
             ],
             [
              0.5555555555555556,
              "#d8576b"
             ],
             [
              0.6666666666666666,
              "#ed7953"
             ],
             [
              0.7777777777777778,
              "#fb9f3a"
             ],
             [
              0.8888888888888888,
              "#fdca26"
             ],
             [
              1.0,
              "#f0f921"
             ]
            ],
            "type": "heatmap"
           }
          ],
          "heatmapgl": [
           {
            "colorbar": {
             "outlinewidth": 0,
             "ticks": ""
            },
            "colorscale": [
             [
              0.0,
              "#0d0887"
             ],
             [
              0.1111111111111111,
              "#46039f"
             ],
             [
              0.2222222222222222,
              "#7201a8"
             ],
             [
              0.3333333333333333,
              "#9c179e"
             ],
             [
              0.4444444444444444,
              "#bd3786"
             ],
             [
              0.5555555555555556,
              "#d8576b"
             ],
             [
              0.6666666666666666,
              "#ed7953"
             ],
             [
              0.7777777777777778,
              "#fb9f3a"
             ],
             [
              0.8888888888888888,
              "#fdca26"
             ],
             [
              1.0,
              "#f0f921"
             ]
            ],
            "type": "heatmapgl"
           }
          ],
          "histogram": [
           {
            "marker": {
             "pattern": {
              "fillmode": "overlay",
              "size": 10,
              "solidity": 0.2
             }
            },
            "type": "histogram"
           }
          ],
          "histogram2d": [
           {
            "colorbar": {
             "outlinewidth": 0,
             "ticks": ""
            },
            "colorscale": [
             [
              0.0,
              "#0d0887"
             ],
             [
              0.1111111111111111,
              "#46039f"
             ],
             [
              0.2222222222222222,
              "#7201a8"
             ],
             [
              0.3333333333333333,
              "#9c179e"
             ],
             [
              0.4444444444444444,
              "#bd3786"
             ],
             [
              0.5555555555555556,
              "#d8576b"
             ],
             [
              0.6666666666666666,
              "#ed7953"
             ],
             [
              0.7777777777777778,
              "#fb9f3a"
             ],
             [
              0.8888888888888888,
              "#fdca26"
             ],
             [
              1.0,
              "#f0f921"
             ]
            ],
            "type": "histogram2d"
           }
          ],
          "histogram2dcontour": [
           {
            "colorbar": {
             "outlinewidth": 0,
             "ticks": ""
            },
            "colorscale": [
             [
              0.0,
              "#0d0887"
             ],
             [
              0.1111111111111111,
              "#46039f"
             ],
             [
              0.2222222222222222,
              "#7201a8"
             ],
             [
              0.3333333333333333,
              "#9c179e"
             ],
             [
              0.4444444444444444,
              "#bd3786"
             ],
             [
              0.5555555555555556,
              "#d8576b"
             ],
             [
              0.6666666666666666,
              "#ed7953"
             ],
             [
              0.7777777777777778,
              "#fb9f3a"
             ],
             [
              0.8888888888888888,
              "#fdca26"
             ],
             [
              1.0,
              "#f0f921"
             ]
            ],
            "type": "histogram2dcontour"
           }
          ],
          "mesh3d": [
           {
            "colorbar": {
             "outlinewidth": 0,
             "ticks": ""
            },
            "type": "mesh3d"
           }
          ],
          "parcoords": [
           {
            "line": {
             "colorbar": {
              "outlinewidth": 0,
              "ticks": ""
             }
            },
            "type": "parcoords"
           }
          ],
          "pie": [
           {
            "automargin": true,
            "type": "pie"
           }
          ],
          "scatter": [
           {
            "marker": {
             "colorbar": {
              "outlinewidth": 0,
              "ticks": ""
             }
            },
            "type": "scatter"
           }
          ],
          "scatter3d": [
           {
            "line": {
             "colorbar": {
              "outlinewidth": 0,
              "ticks": ""
             }
            },
            "marker": {
             "colorbar": {
              "outlinewidth": 0,
              "ticks": ""
             }
            },
            "type": "scatter3d"
           }
          ],
          "scattercarpet": [
           {
            "marker": {
             "colorbar": {
              "outlinewidth": 0,
              "ticks": ""
             }
            },
            "type": "scattercarpet"
           }
          ],
          "scattergeo": [
           {
            "marker": {
             "colorbar": {
              "outlinewidth": 0,
              "ticks": ""
             }
            },
            "type": "scattergeo"
           }
          ],
          "scattergl": [
           {
            "marker": {
             "colorbar": {
              "outlinewidth": 0,
              "ticks": ""
             }
            },
            "type": "scattergl"
           }
          ],
          "scattermapbox": [
           {
            "marker": {
             "colorbar": {
              "outlinewidth": 0,
              "ticks": ""
             }
            },
            "type": "scattermapbox"
           }
          ],
          "scatterpolar": [
           {
            "marker": {
             "colorbar": {
              "outlinewidth": 0,
              "ticks": ""
             }
            },
            "type": "scatterpolar"
           }
          ],
          "scatterpolargl": [
           {
            "marker": {
             "colorbar": {
              "outlinewidth": 0,
              "ticks": ""
             }
            },
            "type": "scatterpolargl"
           }
          ],
          "scatterternary": [
           {
            "marker": {
             "colorbar": {
              "outlinewidth": 0,
              "ticks": ""
             }
            },
            "type": "scatterternary"
           }
          ],
          "surface": [
           {
            "colorbar": {
             "outlinewidth": 0,
             "ticks": ""
            },
            "colorscale": [
             [
              0.0,
              "#0d0887"
             ],
             [
              0.1111111111111111,
              "#46039f"
             ],
             [
              0.2222222222222222,
              "#7201a8"
             ],
             [
              0.3333333333333333,
              "#9c179e"
             ],
             [
              0.4444444444444444,
              "#bd3786"
             ],
             [
              0.5555555555555556,
              "#d8576b"
             ],
             [
              0.6666666666666666,
              "#ed7953"
             ],
             [
              0.7777777777777778,
              "#fb9f3a"
             ],
             [
              0.8888888888888888,
              "#fdca26"
             ],
             [
              1.0,
              "#f0f921"
             ]
            ],
            "type": "surface"
           }
          ],
          "table": [
           {
            "cells": {
             "fill": {
              "color": "#EBF0F8"
             },
             "line": {
              "color": "white"
             }
            },
            "header": {
             "fill": {
              "color": "#C8D4E3"
             },
             "line": {
              "color": "white"
             }
            },
            "type": "table"
           }
          ]
         },
         "layout": {
          "annotationdefaults": {
           "arrowcolor": "#2a3f5f",
           "arrowhead": 0,
           "arrowwidth": 1
          },
          "autotypenumbers": "strict",
          "coloraxis": {
           "colorbar": {
            "outlinewidth": 0,
            "ticks": ""
           }
          },
          "colorscale": {
           "diverging": [
            [
             0,
             "#8e0152"
            ],
            [
             0.1,
             "#c51b7d"
            ],
            [
             0.2,
             "#de77ae"
            ],
            [
             0.3,
             "#f1b6da"
            ],
            [
             0.4,
             "#fde0ef"
            ],
            [
             0.5,
             "#f7f7f7"
            ],
            [
             0.6,
             "#e6f5d0"
            ],
            [
             0.7,
             "#b8e186"
            ],
            [
             0.8,
             "#7fbc41"
            ],
            [
             0.9,
             "#4d9221"
            ],
            [
             1,
             "#276419"
            ]
           ],
           "sequential": [
            [
             0.0,
             "#0d0887"
            ],
            [
             0.1111111111111111,
             "#46039f"
            ],
            [
             0.2222222222222222,
             "#7201a8"
            ],
            [
             0.3333333333333333,
             "#9c179e"
            ],
            [
             0.4444444444444444,
             "#bd3786"
            ],
            [
             0.5555555555555556,
             "#d8576b"
            ],
            [
             0.6666666666666666,
             "#ed7953"
            ],
            [
             0.7777777777777778,
             "#fb9f3a"
            ],
            [
             0.8888888888888888,
             "#fdca26"
            ],
            [
             1.0,
             "#f0f921"
            ]
           ],
           "sequentialminus": [
            [
             0.0,
             "#0d0887"
            ],
            [
             0.1111111111111111,
             "#46039f"
            ],
            [
             0.2222222222222222,
             "#7201a8"
            ],
            [
             0.3333333333333333,
             "#9c179e"
            ],
            [
             0.4444444444444444,
             "#bd3786"
            ],
            [
             0.5555555555555556,
             "#d8576b"
            ],
            [
             0.6666666666666666,
             "#ed7953"
            ],
            [
             0.7777777777777778,
             "#fb9f3a"
            ],
            [
             0.8888888888888888,
             "#fdca26"
            ],
            [
             1.0,
             "#f0f921"
            ]
           ]
          },
          "colorway": [
           "#636efa",
           "#EF553B",
           "#00cc96",
           "#ab63fa",
           "#FFA15A",
           "#19d3f3",
           "#FF6692",
           "#B6E880",
           "#FF97FF",
           "#FECB52"
          ],
          "font": {
           "color": "#2a3f5f"
          },
          "geo": {
           "bgcolor": "white",
           "lakecolor": "white",
           "landcolor": "#E5ECF6",
           "showlakes": true,
           "showland": true,
           "subunitcolor": "white"
          },
          "hoverlabel": {
           "align": "left"
          },
          "hovermode": "closest",
          "mapbox": {
           "style": "light"
          },
          "paper_bgcolor": "white",
          "plot_bgcolor": "#E5ECF6",
          "polar": {
           "angularaxis": {
            "gridcolor": "white",
            "linecolor": "white",
            "ticks": ""
           },
           "bgcolor": "#E5ECF6",
           "radialaxis": {
            "gridcolor": "white",
            "linecolor": "white",
            "ticks": ""
           }
          },
          "scene": {
           "xaxis": {
            "backgroundcolor": "#E5ECF6",
            "gridcolor": "white",
            "gridwidth": 2,
            "linecolor": "white",
            "showbackground": true,
            "ticks": "",
            "zerolinecolor": "white"
           },
           "yaxis": {
            "backgroundcolor": "#E5ECF6",
            "gridcolor": "white",
            "gridwidth": 2,
            "linecolor": "white",
            "showbackground": true,
            "ticks": "",
            "zerolinecolor": "white"
           },
           "zaxis": {
            "backgroundcolor": "#E5ECF6",
            "gridcolor": "white",
            "gridwidth": 2,
            "linecolor": "white",
            "showbackground": true,
            "ticks": "",
            "zerolinecolor": "white"
           }
          },
          "shapedefaults": {
           "line": {
            "color": "#2a3f5f"
           }
          },
          "ternary": {
           "aaxis": {
            "gridcolor": "white",
            "linecolor": "white",
            "ticks": ""
           },
           "baxis": {
            "gridcolor": "white",
            "linecolor": "white",
            "ticks": ""
           },
           "bgcolor": "#E5ECF6",
           "caxis": {
            "gridcolor": "white",
            "linecolor": "white",
            "ticks": ""
           }
          },
          "title": {
           "x": 0.05
          },
          "xaxis": {
           "automargin": true,
           "gridcolor": "white",
           "linecolor": "white",
           "ticks": "",
           "title": {
            "standoff": 15
           },
           "zerolinecolor": "white",
           "zerolinewidth": 2
          },
          "yaxis": {
           "automargin": true,
           "gridcolor": "white",
           "linecolor": "white",
           "ticks": "",
           "title": {
            "standoff": 15
           },
           "zerolinecolor": "white",
           "zerolinewidth": 2
          }
         }
        },
        "xaxis": {
         "anchor": "y",
         "domain": [
          0.0,
          1.0
         ],
         "title": {
          "text": "education_high_school_graduate_rate"
         }
        },
        "yaxis": {
         "anchor": "x",
         "domain": [
          0.0,
          1.0
         ],
         "title": {
          "text": "solar_systems_per_thousand_households"
         }
        },
        "legend": {
         "tracegroupgap": 0
        },
        "margin": {
         "t": 60
        }
       },
       "config": {
        "plotlyServerURL": "https://plot.ly"
       }
      },
      "text/html": "<div>                            <div id=\"fd412f92-2665-4209-bc49-c294021d9e77\" class=\"plotly-graph-div\" style=\"height:525px; width:100%;\"></div>            <script type=\"text/javascript\">                require([\"plotly\"], function(Plotly) {                    window.PLOTLYENV=window.PLOTLYENV || {};                                    if (document.getElementById(\"fd412f92-2665-4209-bc49-c294021d9e77\")) {                    Plotly.newPlot(                        \"fd412f92-2665-4209-bc49-c294021d9e77\",                        [{\"hovertemplate\":\"education_high_school_graduate_rate=%{x}<br>solar_systems_per_thousand_households=%{y}<extra></extra>\",\"legendgroup\":\"\",\"marker\":{\"color\":\"DarkSeaGreen\",\"symbol\":\"circle\"},\"mode\":\"markers\",\"name\":\"\",\"orientation\":\"v\",\"showlegend\":false,\"x\":[0.033646551156649995,0.04841875523855,0.0613093176308,0.07246228871834995,0.0816993464052,0.0898982032483,0.09649717272309999,0.103312302839,0.110136370308,0.11609431061,0.1225041950845,0.127840909091,0.133653086004,0.139013216191,0.14494875549,0.14990001969399996,0.154805575935,0.1595841003325,0.1639999999999999,0.1677848653745,0.17174024860999998,0.176159718144,0.179762442088,0.183877415057,0.1884197648,0.19164678914049998,0.194990488269,0.1985395547275,0.202171830086,0.2058733173275,0.209377526273,0.21315072215550002,0.2159586869315,0.219325153374,0.22278397794,0.225904446286,0.229050107877,0.232311929764,0.2353964180185,0.238902848616,0.242354150604,0.246020271317,0.249038461538,0.2525758343215,0.2557418306485,0.258883248731,0.2622301054255,0.265602322206,0.26896189953,0.272257323377,0.27603092044949995,0.28008310542649995,0.284393692224,0.288470520665,0.292644261256,0.2976180563035,0.302696078431,0.3084781773855,0.3144144904095,0.323038397329,0.33061886903399995,0.339070183281,0.35456856555,0.3812592087165],\"xaxis\":\"x\",\"y\":[33.449536272227064,39.278974844008985,40.85480829666876,41.09289278526728,30.927835051546392,35.05449639572966,48.38709677419355,48.769371011850495,42.32251411202779,35.79952267303103,54.89095985185121,53.182214472537055,38.56705253551202,49.673051028358095,39.51890034364261,44.49625168336293,43.77564979480164,41.55422444766822,48.84547069271758,43.65281572363844,24.288791663738635,45.00616522811344,37.71247227573858,34.73684210526316,30.78369256276646,25.210249121506315,29.039463886820553,32.26865773841791,28.647568287808127,24.11940502806041,31.919961886612676,30.198978263699075,27.934056311779774,31.986531986531986,28.560827734534335,29.438001784121322,31.707714855095126,35.83061889250815,28.520630265928556,29.793240895039126,27.739251040221916,28.463678353978587,25.64102564102564,36.68326855801765,29.530246486066336,30.476190476190474,32.28883825348927,27.10843373493976,25.779322026748353,29.339853300733495,28.892263427109974,28.798252722094496,27.79708130646282,27.192424049520138,37.53690425980599,27.69151138716356,27.994791666666668,26.589978229037655,26.25080044930138,31.382527565733675,33.09002433090025,27.04485488126649,32.874617737003064,29.97611241650175],\"yaxis\":\"y\",\"type\":\"scatter\"},{\"hovertemplate\":\"<b>OLS trendline</b><br>solar_systems_per_thousand_households = -57.2469 * education_high_school_graduate_rate + 45.9808<br>R<sup>2</sup>=0.360605<br><br>education_high_school_graduate_rate=%{x}<br>solar_systems_per_thousand_households=%{y} <b>(trend)</b><extra></extra>\",\"legendgroup\":\"\",\"line\":{\"color\":\"DarkSeaGreen\"},\"marker\":{\"color\":\"DarkSeaGreen\",\"symbol\":\"circle\"},\"mode\":\"lines\",\"name\":\"\",\"showlegend\":false,\"x\":[0.033646551156649995,0.04841875523855,0.0613093176308,0.07246228871834995,0.0816993464052,0.0898982032483,0.09649717272309999,0.103312302839,0.110136370308,0.11609431061,0.1225041950845,0.127840909091,0.133653086004,0.139013216191,0.14494875549,0.14990001969399996,0.154805575935,0.1595841003325,0.1639999999999999,0.1677848653745,0.17174024860999998,0.176159718144,0.179762442088,0.183877415057,0.1884197648,0.19164678914049998,0.194990488269,0.1985395547275,0.202171830086,0.2058733173275,0.209377526273,0.21315072215550002,0.2159586869315,0.219325153374,0.22278397794,0.225904446286,0.229050107877,0.232311929764,0.2353964180185,0.238902848616,0.242354150604,0.246020271317,0.249038461538,0.2525758343215,0.2557418306485,0.258883248731,0.2622301054255,0.265602322206,0.26896189953,0.272257323377,0.27603092044949995,0.28008310542649995,0.284393692224,0.288470520665,0.292644261256,0.2976180563035,0.302696078431,0.3084781773855,0.3144144904095,0.323038397329,0.33061886903399995,0.339070183281,0.35456856555,0.3812592087165],\"xaxis\":\"x\",\"y\":[44.05466283417924,43.209000031968905,42.47105537223773,41.83258241785818,41.30378955496974,40.83443046580358,40.456659959329365,40.06651492753267,39.675858260029834,39.33478468270466,38.967838705212245,38.6623284038171,38.329599327780834,38.02274852278115,37.6829573333017,37.39951283591836,37.11868497745088,36.845129297471374,36.59233275699619,36.375660969844915,36.14922756476848,35.896226660523936,35.68998190454968,35.45441248290541,35.19437706835333,35.00963994778161,34.818223557980964,34.615050526395024,34.40711404372537,34.19521539572144,33.994610317430315,33.77860657245138,33.61785931037628,33.425139562562904,33.227132599037304,33.048495478194894,32.86841612232478,32.681686950294775,32.50510957793899,32.30437731697117,32.10680099767144,31.89692697357807,31.724144957722896,31.521641352710933,31.340397896363147,31.1605614681746,30.96896431752765,30.77591538072393,30.583590013547532,30.39493723367297,30.17891052181261,29.946935517695035,29.700167811932612,29.46678204604199,29.227848360566522,28.943114042372095,28.652413047570015,28.32140584123774,27.981570358405186,27.487878472542242,27.053920011869405,26.57010852044578,25.68287427248488,24.154917850556316],\"yaxis\":\"y\",\"type\":\"scatter\"}],                        {\"template\":{\"data\":{\"bar\":[{\"error_x\":{\"color\":\"#2a3f5f\"},\"error_y\":{\"color\":\"#2a3f5f\"},\"marker\":{\"line\":{\"color\":\"#E5ECF6\",\"width\":0.5},\"pattern\":{\"fillmode\":\"overlay\",\"size\":10,\"solidity\":0.2}},\"type\":\"bar\"}],\"barpolar\":[{\"marker\":{\"line\":{\"color\":\"#E5ECF6\",\"width\":0.5},\"pattern\":{\"fillmode\":\"overlay\",\"size\":10,\"solidity\":0.2}},\"type\":\"barpolar\"}],\"carpet\":[{\"aaxis\":{\"endlinecolor\":\"#2a3f5f\",\"gridcolor\":\"white\",\"linecolor\":\"white\",\"minorgridcolor\":\"white\",\"startlinecolor\":\"#2a3f5f\"},\"baxis\":{\"endlinecolor\":\"#2a3f5f\",\"gridcolor\":\"white\",\"linecolor\":\"white\",\"minorgridcolor\":\"white\",\"startlinecolor\":\"#2a3f5f\"},\"type\":\"carpet\"}],\"choropleth\":[{\"colorbar\":{\"outlinewidth\":0,\"ticks\":\"\"},\"type\":\"choropleth\"}],\"contour\":[{\"colorbar\":{\"outlinewidth\":0,\"ticks\":\"\"},\"colorscale\":[[0.0,\"#0d0887\"],[0.1111111111111111,\"#46039f\"],[0.2222222222222222,\"#7201a8\"],[0.3333333333333333,\"#9c179e\"],[0.4444444444444444,\"#bd3786\"],[0.5555555555555556,\"#d8576b\"],[0.6666666666666666,\"#ed7953\"],[0.7777777777777778,\"#fb9f3a\"],[0.8888888888888888,\"#fdca26\"],[1.0,\"#f0f921\"]],\"type\":\"contour\"}],\"contourcarpet\":[{\"colorbar\":{\"outlinewidth\":0,\"ticks\":\"\"},\"type\":\"contourcarpet\"}],\"heatmap\":[{\"colorbar\":{\"outlinewidth\":0,\"ticks\":\"\"},\"colorscale\":[[0.0,\"#0d0887\"],[0.1111111111111111,\"#46039f\"],[0.2222222222222222,\"#7201a8\"],[0.3333333333333333,\"#9c179e\"],[0.4444444444444444,\"#bd3786\"],[0.5555555555555556,\"#d8576b\"],[0.6666666666666666,\"#ed7953\"],[0.7777777777777778,\"#fb9f3a\"],[0.8888888888888888,\"#fdca26\"],[1.0,\"#f0f921\"]],\"type\":\"heatmap\"}],\"heatmapgl\":[{\"colorbar\":{\"outlinewidth\":0,\"ticks\":\"\"},\"colorscale\":[[0.0,\"#0d0887\"],[0.1111111111111111,\"#46039f\"],[0.2222222222222222,\"#7201a8\"],[0.3333333333333333,\"#9c179e\"],[0.4444444444444444,\"#bd3786\"],[0.5555555555555556,\"#d8576b\"],[0.6666666666666666,\"#ed7953\"],[0.7777777777777778,\"#fb9f3a\"],[0.8888888888888888,\"#fdca26\"],[1.0,\"#f0f921\"]],\"type\":\"heatmapgl\"}],\"histogram\":[{\"marker\":{\"pattern\":{\"fillmode\":\"overlay\",\"size\":10,\"solidity\":0.2}},\"type\":\"histogram\"}],\"histogram2d\":[{\"colorbar\":{\"outlinewidth\":0,\"ticks\":\"\"},\"colorscale\":[[0.0,\"#0d0887\"],[0.1111111111111111,\"#46039f\"],[0.2222222222222222,\"#7201a8\"],[0.3333333333333333,\"#9c179e\"],[0.4444444444444444,\"#bd3786\"],[0.5555555555555556,\"#d8576b\"],[0.6666666666666666,\"#ed7953\"],[0.7777777777777778,\"#fb9f3a\"],[0.8888888888888888,\"#fdca26\"],[1.0,\"#f0f921\"]],\"type\":\"histogram2d\"}],\"histogram2dcontour\":[{\"colorbar\":{\"outlinewidth\":0,\"ticks\":\"\"},\"colorscale\":[[0.0,\"#0d0887\"],[0.1111111111111111,\"#46039f\"],[0.2222222222222222,\"#7201a8\"],[0.3333333333333333,\"#9c179e\"],[0.4444444444444444,\"#bd3786\"],[0.5555555555555556,\"#d8576b\"],[0.6666666666666666,\"#ed7953\"],[0.7777777777777778,\"#fb9f3a\"],[0.8888888888888888,\"#fdca26\"],[1.0,\"#f0f921\"]],\"type\":\"histogram2dcontour\"}],\"mesh3d\":[{\"colorbar\":{\"outlinewidth\":0,\"ticks\":\"\"},\"type\":\"mesh3d\"}],\"parcoords\":[{\"line\":{\"colorbar\":{\"outlinewidth\":0,\"ticks\":\"\"}},\"type\":\"parcoords\"}],\"pie\":[{\"automargin\":true,\"type\":\"pie\"}],\"scatter\":[{\"marker\":{\"colorbar\":{\"outlinewidth\":0,\"ticks\":\"\"}},\"type\":\"scatter\"}],\"scatter3d\":[{\"line\":{\"colorbar\":{\"outlinewidth\":0,\"ticks\":\"\"}},\"marker\":{\"colorbar\":{\"outlinewidth\":0,\"ticks\":\"\"}},\"type\":\"scatter3d\"}],\"scattercarpet\":[{\"marker\":{\"colorbar\":{\"outlinewidth\":0,\"ticks\":\"\"}},\"type\":\"scattercarpet\"}],\"scattergeo\":[{\"marker\":{\"colorbar\":{\"outlinewidth\":0,\"ticks\":\"\"}},\"type\":\"scattergeo\"}],\"scattergl\":[{\"marker\":{\"colorbar\":{\"outlinewidth\":0,\"ticks\":\"\"}},\"type\":\"scattergl\"}],\"scattermapbox\":[{\"marker\":{\"colorbar\":{\"outlinewidth\":0,\"ticks\":\"\"}},\"type\":\"scattermapbox\"}],\"scatterpolar\":[{\"marker\":{\"colorbar\":{\"outlinewidth\":0,\"ticks\":\"\"}},\"type\":\"scatterpolar\"}],\"scatterpolargl\":[{\"marker\":{\"colorbar\":{\"outlinewidth\":0,\"ticks\":\"\"}},\"type\":\"scatterpolargl\"}],\"scatterternary\":[{\"marker\":{\"colorbar\":{\"outlinewidth\":0,\"ticks\":\"\"}},\"type\":\"scatterternary\"}],\"surface\":[{\"colorbar\":{\"outlinewidth\":0,\"ticks\":\"\"},\"colorscale\":[[0.0,\"#0d0887\"],[0.1111111111111111,\"#46039f\"],[0.2222222222222222,\"#7201a8\"],[0.3333333333333333,\"#9c179e\"],[0.4444444444444444,\"#bd3786\"],[0.5555555555555556,\"#d8576b\"],[0.6666666666666666,\"#ed7953\"],[0.7777777777777778,\"#fb9f3a\"],[0.8888888888888888,\"#fdca26\"],[1.0,\"#f0f921\"]],\"type\":\"surface\"}],\"table\":[{\"cells\":{\"fill\":{\"color\":\"#EBF0F8\"},\"line\":{\"color\":\"white\"}},\"header\":{\"fill\":{\"color\":\"#C8D4E3\"},\"line\":{\"color\":\"white\"}},\"type\":\"table\"}]},\"layout\":{\"annotationdefaults\":{\"arrowcolor\":\"#2a3f5f\",\"arrowhead\":0,\"arrowwidth\":1},\"autotypenumbers\":\"strict\",\"coloraxis\":{\"colorbar\":{\"outlinewidth\":0,\"ticks\":\"\"}},\"colorscale\":{\"diverging\":[[0,\"#8e0152\"],[0.1,\"#c51b7d\"],[0.2,\"#de77ae\"],[0.3,\"#f1b6da\"],[0.4,\"#fde0ef\"],[0.5,\"#f7f7f7\"],[0.6,\"#e6f5d0\"],[0.7,\"#b8e186\"],[0.8,\"#7fbc41\"],[0.9,\"#4d9221\"],[1,\"#276419\"]],\"sequential\":[[0.0,\"#0d0887\"],[0.1111111111111111,\"#46039f\"],[0.2222222222222222,\"#7201a8\"],[0.3333333333333333,\"#9c179e\"],[0.4444444444444444,\"#bd3786\"],[0.5555555555555556,\"#d8576b\"],[0.6666666666666666,\"#ed7953\"],[0.7777777777777778,\"#fb9f3a\"],[0.8888888888888888,\"#fdca26\"],[1.0,\"#f0f921\"]],\"sequentialminus\":[[0.0,\"#0d0887\"],[0.1111111111111111,\"#46039f\"],[0.2222222222222222,\"#7201a8\"],[0.3333333333333333,\"#9c179e\"],[0.4444444444444444,\"#bd3786\"],[0.5555555555555556,\"#d8576b\"],[0.6666666666666666,\"#ed7953\"],[0.7777777777777778,\"#fb9f3a\"],[0.8888888888888888,\"#fdca26\"],[1.0,\"#f0f921\"]]},\"colorway\":[\"#636efa\",\"#EF553B\",\"#00cc96\",\"#ab63fa\",\"#FFA15A\",\"#19d3f3\",\"#FF6692\",\"#B6E880\",\"#FF97FF\",\"#FECB52\"],\"font\":{\"color\":\"#2a3f5f\"},\"geo\":{\"bgcolor\":\"white\",\"lakecolor\":\"white\",\"landcolor\":\"#E5ECF6\",\"showlakes\":true,\"showland\":true,\"subunitcolor\":\"white\"},\"hoverlabel\":{\"align\":\"left\"},\"hovermode\":\"closest\",\"mapbox\":{\"style\":\"light\"},\"paper_bgcolor\":\"white\",\"plot_bgcolor\":\"#E5ECF6\",\"polar\":{\"angularaxis\":{\"gridcolor\":\"white\",\"linecolor\":\"white\",\"ticks\":\"\"},\"bgcolor\":\"#E5ECF6\",\"radialaxis\":{\"gridcolor\":\"white\",\"linecolor\":\"white\",\"ticks\":\"\"}},\"scene\":{\"xaxis\":{\"backgroundcolor\":\"#E5ECF6\",\"gridcolor\":\"white\",\"gridwidth\":2,\"linecolor\":\"white\",\"showbackground\":true,\"ticks\":\"\",\"zerolinecolor\":\"white\"},\"yaxis\":{\"backgroundcolor\":\"#E5ECF6\",\"gridcolor\":\"white\",\"gridwidth\":2,\"linecolor\":\"white\",\"showbackground\":true,\"ticks\":\"\",\"zerolinecolor\":\"white\"},\"zaxis\":{\"backgroundcolor\":\"#E5ECF6\",\"gridcolor\":\"white\",\"gridwidth\":2,\"linecolor\":\"white\",\"showbackground\":true,\"ticks\":\"\",\"zerolinecolor\":\"white\"}},\"shapedefaults\":{\"line\":{\"color\":\"#2a3f5f\"}},\"ternary\":{\"aaxis\":{\"gridcolor\":\"white\",\"linecolor\":\"white\",\"ticks\":\"\"},\"baxis\":{\"gridcolor\":\"white\",\"linecolor\":\"white\",\"ticks\":\"\"},\"bgcolor\":\"#E5ECF6\",\"caxis\":{\"gridcolor\":\"white\",\"linecolor\":\"white\",\"ticks\":\"\"}},\"title\":{\"x\":0.05},\"xaxis\":{\"automargin\":true,\"gridcolor\":\"white\",\"linecolor\":\"white\",\"ticks\":\"\",\"title\":{\"standoff\":15},\"zerolinecolor\":\"white\",\"zerolinewidth\":2},\"yaxis\":{\"automargin\":true,\"gridcolor\":\"white\",\"linecolor\":\"white\",\"ticks\":\"\",\"title\":{\"standoff\":15},\"zerolinecolor\":\"white\",\"zerolinewidth\":2}}},\"xaxis\":{\"anchor\":\"y\",\"domain\":[0.0,1.0],\"title\":{\"text\":\"education_high_school_graduate_rate\"}},\"yaxis\":{\"anchor\":\"x\",\"domain\":[0.0,1.0],\"title\":{\"text\":\"solar_systems_per_thousand_households\"}},\"legend\":{\"tracegroupgap\":0},\"margin\":{\"t\":60}},                        {\"responsive\": true}                    ).then(function(){\n                            \nvar gd = document.getElementById('fd412f92-2665-4209-bc49-c294021d9e77');\nvar x = new MutationObserver(function (mutations, observer) {{\n        var display = window.getComputedStyle(gd).display;\n        if (!display || display === 'none') {{\n            console.log([gd, 'removed!']);\n            Plotly.purge(gd);\n            observer.disconnect();\n        }}\n}});\n\n// Listen for the removal of the full notebook cells\nvar notebookContainer = gd.closest('#notebook-container');\nif (notebookContainer) {{\n    x.observe(notebookContainer, {childList: true});\n}}\n\n// Listen for the clearing of the current output cell\nvar outputEl = gd.closest('.output');\nif (outputEl) {{\n    x.observe(outputEl, {childList: true});\n}}\n\n                        })                };                });            </script>        </div>"
     },
     "metadata": {},
     "output_type": "display_data"
    },
    {
     "name": "stdout",
     "output_type": "stream",
     "text": [
      "results:  <statsmodels.regression.linear_model.RegressionResultsWrapper object at 0x7fabcf6ce700>\n",
      "alpha:  45.980823383958636\n",
      "beta:  -57.246894066844206\n",
      "p_beta:  1.5595975719997002e-07\n",
      "r_squared:  0.360604744954901\n"
     ]
    }
   ]
  },
  {
   "cell_type": "code",
   "source": [
    "hi12 = median_dataframe(\"education_less_than_high_school_binned\", 'education_less_than_high_school_rate')\n",
    "plot_scatter(hi12, 'education_less_than_high_school_rate', 'solar_systems_per_thousand_households', 'Plum', 'education_less_than_high_school')"
   ],
   "metadata": {
    "execution": {
     "iopub.status.busy": "2022-01-30T17:06:37.860809Z",
     "iopub.execute_input": "2022-01-30T17:06:37.861121Z",
     "iopub.status.idle": "2022-01-30T17:06:37.979818Z",
     "shell.execute_reply.started": "2022-01-30T17:06:37.861084Z",
     "shell.execute_reply": "2022-01-30T17:06:37.978259Z"
    },
    "trusted": true
   },
   "execution_count": 44,
   "outputs": [
    {
     "data": {
      "application/vnd.plotly.v1+json": {
       "data": [
        {
         "hovertemplate": "education_less_than_high_school_rate=%{x}<br>solar_systems_per_thousand_households=%{y}<extra></extra>",
         "legendgroup": "",
         "marker": {
          "color": "Plum",
          "symbol": "circle"
         },
         "mode": "markers",
         "name": "",
         "orientation": "v",
         "showlegend": false,
         "x": [
          0.00621730012130995,
          0.01259980356795,
          0.0163760102084,
          0.0199753418516,
          0.0235198702352,
          0.02688286989465,
          0.0301289020762,
          0.0333919156415,
          0.0365561851863,
          0.0401597514976999,
          0.04368911856825,
          0.0465770553298,
          0.04985930077225,
          0.0538013403458,
          0.0569549173753,
          0.0609371483907,
          0.0645900137426,
          0.0683245803728,
          0.0720620842572,
          0.07597235054609995,
          0.07955897040599999,
          0.0832675611681,
          0.08726274996095,
          0.0920979410128,
          0.0972903938012,
          0.1013087127825,
          0.106022584693,
          0.111878736373,
          0.117737789203,
          0.12343366709350001,
          0.129414732593,
          0.1356573443825,
          0.1432940343715,
          0.149484536082,
          0.156887852633,
          0.164466064397,
          0.17248060337949994,
          0.181725543478,
          0.189860397864,
          0.1980803651075,
          0.20671026443,
          0.214609787411,
          0.224477052763,
          0.23442641738300002,
          0.24511721737949999,
          0.256215888417,
          0.266931283602,
          0.278805970149,
          0.290972851684,
          0.305811201683,
          0.3198126172165,
          0.33554038219,
          0.348613339445,
          0.364860515378,
          0.379970544919,
          0.3975022548345,
          0.414976599064,
          0.43315113143649997,
          0.4548422250555,
          0.482802013423,
          0.5087971380280001,
          0.539589442815,
          0.5827991697755,
          0.641743681214
         ],
         "xaxis": "x",
         "y": [
          33.77763150677418,
          58.620228055444,
          57.995028997514495,
          52.9599586858177,
          67.91778373547811,
          61.629125800557155,
          43.12152373627138,
          57.23905723905724,
          64.33855329384724,
          50.70422535211268,
          56.00018721332958,
          47.9347271800102,
          51.555659787367105,
          47.96075575635081,
          49.39759036144578,
          53.37454773907383,
          53.868756121449564,
          54.21822928294024,
          38.90489913544669,
          41.127756176878606,
          51.061745623863615,
          41.437477081041436,
          46.692208358884855,
          44.221105527638194,
          42.45791926131389,
          43.705441814787875,
          47.93028322440087,
          36.8749393488246,
          39.37823834196892,
          44.29160394056663,
          34.757422157856624,
          41.149798980675875,
          32.945174924230926,
          35.00203500203501,
          39.94378883817585,
          30.864197530864196,
          31.535346434233702,
          33.064516129032256,
          42.00878857897342,
          29.942916450441103,
          33.86454183266932,
          28.624260355029584,
          28.268551236749115,
          28.565332053880624,
          26.679427385220933,
          23.25581395348837,
          24.14266299684541,
          24.972253052164262,
          25.529538526227267,
          25.682182985553773,
          24.265164335975776,
          24.076669190899146,
          24.6422893481717,
          23.616287613268042,
          21.978021978021978,
          25.098883645637663,
          18.867924528301884,
          17.633484938109014,
          16.674305873855854,
          15.82815149802148,
          13.902007083825264,
          11.701170117011701,
          10.649180455335888,
          8.03921378557142
         ],
         "yaxis": "y",
         "type": "scatter"
        },
        {
         "hovertemplate": "<b>OLS trendline</b><br>solar_systems_per_thousand_households = -81.8298 * education_less_than_high_school_rate + 52.4356<br>R<sup>2</sup>=0.819479<br><br>education_less_than_high_school_rate=%{x}<br>solar_systems_per_thousand_households=%{y} <b>(trend)</b><extra></extra>",
         "legendgroup": "",
         "line": {
          "color": "Plum"
         },
         "marker": {
          "color": "Plum",
          "symbol": "circle"
         },
         "mode": "lines",
         "name": "",
         "showlegend": false,
         "x": [
          0.00621730012130995,
          0.01259980356795,
          0.0163760102084,
          0.0199753418516,
          0.0235198702352,
          0.02688286989465,
          0.0301289020762,
          0.0333919156415,
          0.0365561851863,
          0.0401597514976999,
          0.04368911856825,
          0.0465770553298,
          0.04985930077225,
          0.0538013403458,
          0.0569549173753,
          0.0609371483907,
          0.0645900137426,
          0.0683245803728,
          0.0720620842572,
          0.07597235054609995,
          0.07955897040599999,
          0.0832675611681,
          0.08726274996095,
          0.0920979410128,
          0.0972903938012,
          0.1013087127825,
          0.106022584693,
          0.111878736373,
          0.117737789203,
          0.12343366709350001,
          0.129414732593,
          0.1356573443825,
          0.1432940343715,
          0.149484536082,
          0.156887852633,
          0.164466064397,
          0.17248060337949994,
          0.181725543478,
          0.189860397864,
          0.1980803651075,
          0.20671026443,
          0.214609787411,
          0.224477052763,
          0.23442641738300002,
          0.24511721737949999,
          0.256215888417,
          0.266931283602,
          0.278805970149,
          0.290972851684,
          0.305811201683,
          0.3198126172165,
          0.33554038219,
          0.348613339445,
          0.364860515378,
          0.379970544919,
          0.3975022548345,
          0.414976599064,
          0.43315113143649997,
          0.4548422250555,
          0.482802013423,
          0.5087971380280001,
          0.539589442815,
          0.5827991697755,
          0.641743681214
         ],
         "xaxis": "x",
         "y": [
          51.92687829949836,
          51.40459933708364,
          51.0955931136595,
          50.80106053538309,
          50.511012496723474,
          50.235818916739866,
          49.97019676174718,
          49.70318502356674,
          49.444253488554615,
          49.149374388238364,
          48.860566996750315,
          48.62424771734034,
          48.35566223855369,
          48.033085939851446,
          47.77502937119746,
          47.449164214961044,
          47.150250984160465,
          46.844652154328834,
          46.53881296958182,
          46.21883667231761,
          45.925344296690184,
          45.621871066876245,
          45.294945578339444,
          44.89928287533431,
          44.47438551689409,
          44.145567289728135,
          43.75983210745136,
          43.28062440333586,
          42.80117929870433,
          42.335086766273754,
          41.84565738964603,
          41.33482573315952,
          40.70991694038206,
          40.20334944109014,
          39.597537549406866,
          38.97741401791946,
          38.3215859186466,
          37.5650743456254,
          36.899400861288846,
          36.22676260908732,
          35.52057969801164,
          34.874163334811726,
          34.06672701252877,
          33.25257252379836,
          32.377746528601335,
          31.469544528851632,
          30.59270591436852,
          29.621002722883038,
          28.6253892747982,
          27.41117010418358,
          26.265437111117453,
          24.97843729354799,
          23.908679853083502,
          22.579176742055214,
          21.34272608962608,
          19.90810982336405,
          18.478187779551384,
          16.990969482022834,
          15.215991690990727,
          12.928047880227801,
          10.800872106638813,
          8.281144051814437,
          4.745300859276298,
          -0.07811655546071705
         ],
         "yaxis": "y",
         "type": "scatter"
        }
       ],
       "layout": {
        "template": {
         "data": {
          "bar": [
           {
            "error_x": {
             "color": "#2a3f5f"
            },
            "error_y": {
             "color": "#2a3f5f"
            },
            "marker": {
             "line": {
              "color": "#E5ECF6",
              "width": 0.5
             },
             "pattern": {
              "fillmode": "overlay",
              "size": 10,
              "solidity": 0.2
             }
            },
            "type": "bar"
           }
          ],
          "barpolar": [
           {
            "marker": {
             "line": {
              "color": "#E5ECF6",
              "width": 0.5
             },
             "pattern": {
              "fillmode": "overlay",
              "size": 10,
              "solidity": 0.2
             }
            },
            "type": "barpolar"
           }
          ],
          "carpet": [
           {
            "aaxis": {
             "endlinecolor": "#2a3f5f",
             "gridcolor": "white",
             "linecolor": "white",
             "minorgridcolor": "white",
             "startlinecolor": "#2a3f5f"
            },
            "baxis": {
             "endlinecolor": "#2a3f5f",
             "gridcolor": "white",
             "linecolor": "white",
             "minorgridcolor": "white",
             "startlinecolor": "#2a3f5f"
            },
            "type": "carpet"
           }
          ],
          "choropleth": [
           {
            "colorbar": {
             "outlinewidth": 0,
             "ticks": ""
            },
            "type": "choropleth"
           }
          ],
          "contour": [
           {
            "colorbar": {
             "outlinewidth": 0,
             "ticks": ""
            },
            "colorscale": [
             [
              0.0,
              "#0d0887"
             ],
             [
              0.1111111111111111,
              "#46039f"
             ],
             [
              0.2222222222222222,
              "#7201a8"
             ],
             [
              0.3333333333333333,
              "#9c179e"
             ],
             [
              0.4444444444444444,
              "#bd3786"
             ],
             [
              0.5555555555555556,
              "#d8576b"
             ],
             [
              0.6666666666666666,
              "#ed7953"
             ],
             [
              0.7777777777777778,
              "#fb9f3a"
             ],
             [
              0.8888888888888888,
              "#fdca26"
             ],
             [
              1.0,
              "#f0f921"
             ]
            ],
            "type": "contour"
           }
          ],
          "contourcarpet": [
           {
            "colorbar": {
             "outlinewidth": 0,
             "ticks": ""
            },
            "type": "contourcarpet"
           }
          ],
          "heatmap": [
           {
            "colorbar": {
             "outlinewidth": 0,
             "ticks": ""
            },
            "colorscale": [
             [
              0.0,
              "#0d0887"
             ],
             [
              0.1111111111111111,
              "#46039f"
             ],
             [
              0.2222222222222222,
              "#7201a8"
             ],
             [
              0.3333333333333333,
              "#9c179e"
             ],
             [
              0.4444444444444444,
              "#bd3786"
             ],
             [
              0.5555555555555556,
              "#d8576b"
             ],
             [
              0.6666666666666666,
              "#ed7953"
             ],
             [
              0.7777777777777778,
              "#fb9f3a"
             ],
             [
              0.8888888888888888,
              "#fdca26"
             ],
             [
              1.0,
              "#f0f921"
             ]
            ],
            "type": "heatmap"
           }
          ],
          "heatmapgl": [
           {
            "colorbar": {
             "outlinewidth": 0,
             "ticks": ""
            },
            "colorscale": [
             [
              0.0,
              "#0d0887"
             ],
             [
              0.1111111111111111,
              "#46039f"
             ],
             [
              0.2222222222222222,
              "#7201a8"
             ],
             [
              0.3333333333333333,
              "#9c179e"
             ],
             [
              0.4444444444444444,
              "#bd3786"
             ],
             [
              0.5555555555555556,
              "#d8576b"
             ],
             [
              0.6666666666666666,
              "#ed7953"
             ],
             [
              0.7777777777777778,
              "#fb9f3a"
             ],
             [
              0.8888888888888888,
              "#fdca26"
             ],
             [
              1.0,
              "#f0f921"
             ]
            ],
            "type": "heatmapgl"
           }
          ],
          "histogram": [
           {
            "marker": {
             "pattern": {
              "fillmode": "overlay",
              "size": 10,
              "solidity": 0.2
             }
            },
            "type": "histogram"
           }
          ],
          "histogram2d": [
           {
            "colorbar": {
             "outlinewidth": 0,
             "ticks": ""
            },
            "colorscale": [
             [
              0.0,
              "#0d0887"
             ],
             [
              0.1111111111111111,
              "#46039f"
             ],
             [
              0.2222222222222222,
              "#7201a8"
             ],
             [
              0.3333333333333333,
              "#9c179e"
             ],
             [
              0.4444444444444444,
              "#bd3786"
             ],
             [
              0.5555555555555556,
              "#d8576b"
             ],
             [
              0.6666666666666666,
              "#ed7953"
             ],
             [
              0.7777777777777778,
              "#fb9f3a"
             ],
             [
              0.8888888888888888,
              "#fdca26"
             ],
             [
              1.0,
              "#f0f921"
             ]
            ],
            "type": "histogram2d"
           }
          ],
          "histogram2dcontour": [
           {
            "colorbar": {
             "outlinewidth": 0,
             "ticks": ""
            },
            "colorscale": [
             [
              0.0,
              "#0d0887"
             ],
             [
              0.1111111111111111,
              "#46039f"
             ],
             [
              0.2222222222222222,
              "#7201a8"
             ],
             [
              0.3333333333333333,
              "#9c179e"
             ],
             [
              0.4444444444444444,
              "#bd3786"
             ],
             [
              0.5555555555555556,
              "#d8576b"
             ],
             [
              0.6666666666666666,
              "#ed7953"
             ],
             [
              0.7777777777777778,
              "#fb9f3a"
             ],
             [
              0.8888888888888888,
              "#fdca26"
             ],
             [
              1.0,
              "#f0f921"
             ]
            ],
            "type": "histogram2dcontour"
           }
          ],
          "mesh3d": [
           {
            "colorbar": {
             "outlinewidth": 0,
             "ticks": ""
            },
            "type": "mesh3d"
           }
          ],
          "parcoords": [
           {
            "line": {
             "colorbar": {
              "outlinewidth": 0,
              "ticks": ""
             }
            },
            "type": "parcoords"
           }
          ],
          "pie": [
           {
            "automargin": true,
            "type": "pie"
           }
          ],
          "scatter": [
           {
            "marker": {
             "colorbar": {
              "outlinewidth": 0,
              "ticks": ""
             }
            },
            "type": "scatter"
           }
          ],
          "scatter3d": [
           {
            "line": {
             "colorbar": {
              "outlinewidth": 0,
              "ticks": ""
             }
            },
            "marker": {
             "colorbar": {
              "outlinewidth": 0,
              "ticks": ""
             }
            },
            "type": "scatter3d"
           }
          ],
          "scattercarpet": [
           {
            "marker": {
             "colorbar": {
              "outlinewidth": 0,
              "ticks": ""
             }
            },
            "type": "scattercarpet"
           }
          ],
          "scattergeo": [
           {
            "marker": {
             "colorbar": {
              "outlinewidth": 0,
              "ticks": ""
             }
            },
            "type": "scattergeo"
           }
          ],
          "scattergl": [
           {
            "marker": {
             "colorbar": {
              "outlinewidth": 0,
              "ticks": ""
             }
            },
            "type": "scattergl"
           }
          ],
          "scattermapbox": [
           {
            "marker": {
             "colorbar": {
              "outlinewidth": 0,
              "ticks": ""
             }
            },
            "type": "scattermapbox"
           }
          ],
          "scatterpolar": [
           {
            "marker": {
             "colorbar": {
              "outlinewidth": 0,
              "ticks": ""
             }
            },
            "type": "scatterpolar"
           }
          ],
          "scatterpolargl": [
           {
            "marker": {
             "colorbar": {
              "outlinewidth": 0,
              "ticks": ""
             }
            },
            "type": "scatterpolargl"
           }
          ],
          "scatterternary": [
           {
            "marker": {
             "colorbar": {
              "outlinewidth": 0,
              "ticks": ""
             }
            },
            "type": "scatterternary"
           }
          ],
          "surface": [
           {
            "colorbar": {
             "outlinewidth": 0,
             "ticks": ""
            },
            "colorscale": [
             [
              0.0,
              "#0d0887"
             ],
             [
              0.1111111111111111,
              "#46039f"
             ],
             [
              0.2222222222222222,
              "#7201a8"
             ],
             [
              0.3333333333333333,
              "#9c179e"
             ],
             [
              0.4444444444444444,
              "#bd3786"
             ],
             [
              0.5555555555555556,
              "#d8576b"
             ],
             [
              0.6666666666666666,
              "#ed7953"
             ],
             [
              0.7777777777777778,
              "#fb9f3a"
             ],
             [
              0.8888888888888888,
              "#fdca26"
             ],
             [
              1.0,
              "#f0f921"
             ]
            ],
            "type": "surface"
           }
          ],
          "table": [
           {
            "cells": {
             "fill": {
              "color": "#EBF0F8"
             },
             "line": {
              "color": "white"
             }
            },
            "header": {
             "fill": {
              "color": "#C8D4E3"
             },
             "line": {
              "color": "white"
             }
            },
            "type": "table"
           }
          ]
         },
         "layout": {
          "annotationdefaults": {
           "arrowcolor": "#2a3f5f",
           "arrowhead": 0,
           "arrowwidth": 1
          },
          "autotypenumbers": "strict",
          "coloraxis": {
           "colorbar": {
            "outlinewidth": 0,
            "ticks": ""
           }
          },
          "colorscale": {
           "diverging": [
            [
             0,
             "#8e0152"
            ],
            [
             0.1,
             "#c51b7d"
            ],
            [
             0.2,
             "#de77ae"
            ],
            [
             0.3,
             "#f1b6da"
            ],
            [
             0.4,
             "#fde0ef"
            ],
            [
             0.5,
             "#f7f7f7"
            ],
            [
             0.6,
             "#e6f5d0"
            ],
            [
             0.7,
             "#b8e186"
            ],
            [
             0.8,
             "#7fbc41"
            ],
            [
             0.9,
             "#4d9221"
            ],
            [
             1,
             "#276419"
            ]
           ],
           "sequential": [
            [
             0.0,
             "#0d0887"
            ],
            [
             0.1111111111111111,
             "#46039f"
            ],
            [
             0.2222222222222222,
             "#7201a8"
            ],
            [
             0.3333333333333333,
             "#9c179e"
            ],
            [
             0.4444444444444444,
             "#bd3786"
            ],
            [
             0.5555555555555556,
             "#d8576b"
            ],
            [
             0.6666666666666666,
             "#ed7953"
            ],
            [
             0.7777777777777778,
             "#fb9f3a"
            ],
            [
             0.8888888888888888,
             "#fdca26"
            ],
            [
             1.0,
             "#f0f921"
            ]
           ],
           "sequentialminus": [
            [
             0.0,
             "#0d0887"
            ],
            [
             0.1111111111111111,
             "#46039f"
            ],
            [
             0.2222222222222222,
             "#7201a8"
            ],
            [
             0.3333333333333333,
             "#9c179e"
            ],
            [
             0.4444444444444444,
             "#bd3786"
            ],
            [
             0.5555555555555556,
             "#d8576b"
            ],
            [
             0.6666666666666666,
             "#ed7953"
            ],
            [
             0.7777777777777778,
             "#fb9f3a"
            ],
            [
             0.8888888888888888,
             "#fdca26"
            ],
            [
             1.0,
             "#f0f921"
            ]
           ]
          },
          "colorway": [
           "#636efa",
           "#EF553B",
           "#00cc96",
           "#ab63fa",
           "#FFA15A",
           "#19d3f3",
           "#FF6692",
           "#B6E880",
           "#FF97FF",
           "#FECB52"
          ],
          "font": {
           "color": "#2a3f5f"
          },
          "geo": {
           "bgcolor": "white",
           "lakecolor": "white",
           "landcolor": "#E5ECF6",
           "showlakes": true,
           "showland": true,
           "subunitcolor": "white"
          },
          "hoverlabel": {
           "align": "left"
          },
          "hovermode": "closest",
          "mapbox": {
           "style": "light"
          },
          "paper_bgcolor": "white",
          "plot_bgcolor": "#E5ECF6",
          "polar": {
           "angularaxis": {
            "gridcolor": "white",
            "linecolor": "white",
            "ticks": ""
           },
           "bgcolor": "#E5ECF6",
           "radialaxis": {
            "gridcolor": "white",
            "linecolor": "white",
            "ticks": ""
           }
          },
          "scene": {
           "xaxis": {
            "backgroundcolor": "#E5ECF6",
            "gridcolor": "white",
            "gridwidth": 2,
            "linecolor": "white",
            "showbackground": true,
            "ticks": "",
            "zerolinecolor": "white"
           },
           "yaxis": {
            "backgroundcolor": "#E5ECF6",
            "gridcolor": "white",
            "gridwidth": 2,
            "linecolor": "white",
            "showbackground": true,
            "ticks": "",
            "zerolinecolor": "white"
           },
           "zaxis": {
            "backgroundcolor": "#E5ECF6",
            "gridcolor": "white",
            "gridwidth": 2,
            "linecolor": "white",
            "showbackground": true,
            "ticks": "",
            "zerolinecolor": "white"
           }
          },
          "shapedefaults": {
           "line": {
            "color": "#2a3f5f"
           }
          },
          "ternary": {
           "aaxis": {
            "gridcolor": "white",
            "linecolor": "white",
            "ticks": ""
           },
           "baxis": {
            "gridcolor": "white",
            "linecolor": "white",
            "ticks": ""
           },
           "bgcolor": "#E5ECF6",
           "caxis": {
            "gridcolor": "white",
            "linecolor": "white",
            "ticks": ""
           }
          },
          "title": {
           "x": 0.05
          },
          "xaxis": {
           "automargin": true,
           "gridcolor": "white",
           "linecolor": "white",
           "ticks": "",
           "title": {
            "standoff": 15
           },
           "zerolinecolor": "white",
           "zerolinewidth": 2
          },
          "yaxis": {
           "automargin": true,
           "gridcolor": "white",
           "linecolor": "white",
           "ticks": "",
           "title": {
            "standoff": 15
           },
           "zerolinecolor": "white",
           "zerolinewidth": 2
          }
         }
        },
        "xaxis": {
         "anchor": "y",
         "domain": [
          0.0,
          1.0
         ],
         "title": {
          "text": "education_less_than_high_school_rate"
         }
        },
        "yaxis": {
         "anchor": "x",
         "domain": [
          0.0,
          1.0
         ],
         "title": {
          "text": "solar_systems_per_thousand_households"
         }
        },
        "legend": {
         "tracegroupgap": 0
        },
        "margin": {
         "t": 60
        }
       },
       "config": {
        "plotlyServerURL": "https://plot.ly"
       }
      },
      "text/html": "<div>                            <div id=\"bb474639-d71a-456a-80a3-0fdf950864f8\" class=\"plotly-graph-div\" style=\"height:525px; width:100%;\"></div>            <script type=\"text/javascript\">                require([\"plotly\"], function(Plotly) {                    window.PLOTLYENV=window.PLOTLYENV || {};                                    if (document.getElementById(\"bb474639-d71a-456a-80a3-0fdf950864f8\")) {                    Plotly.newPlot(                        \"bb474639-d71a-456a-80a3-0fdf950864f8\",                        [{\"hovertemplate\":\"education_less_than_high_school_rate=%{x}<br>solar_systems_per_thousand_households=%{y}<extra></extra>\",\"legendgroup\":\"\",\"marker\":{\"color\":\"Plum\",\"symbol\":\"circle\"},\"mode\":\"markers\",\"name\":\"\",\"orientation\":\"v\",\"showlegend\":false,\"x\":[0.00621730012130995,0.01259980356795,0.0163760102084,0.0199753418516,0.0235198702352,0.02688286989465,0.0301289020762,0.0333919156415,0.0365561851863,0.0401597514976999,0.04368911856825,0.0465770553298,0.04985930077225,0.0538013403458,0.0569549173753,0.0609371483907,0.0645900137426,0.0683245803728,0.0720620842572,0.07597235054609995,0.07955897040599999,0.0832675611681,0.08726274996095,0.0920979410128,0.0972903938012,0.1013087127825,0.106022584693,0.111878736373,0.117737789203,0.12343366709350001,0.129414732593,0.1356573443825,0.1432940343715,0.149484536082,0.156887852633,0.164466064397,0.17248060337949994,0.181725543478,0.189860397864,0.1980803651075,0.20671026443,0.214609787411,0.224477052763,0.23442641738300002,0.24511721737949999,0.256215888417,0.266931283602,0.278805970149,0.290972851684,0.305811201683,0.3198126172165,0.33554038219,0.348613339445,0.364860515378,0.379970544919,0.3975022548345,0.414976599064,0.43315113143649997,0.4548422250555,0.482802013423,0.5087971380280001,0.539589442815,0.5827991697755,0.641743681214],\"xaxis\":\"x\",\"y\":[33.77763150677418,58.620228055444,57.995028997514495,52.9599586858177,67.91778373547811,61.629125800557155,43.12152373627138,57.23905723905724,64.33855329384724,50.70422535211268,56.00018721332958,47.9347271800102,51.555659787367105,47.96075575635081,49.39759036144578,53.37454773907383,53.868756121449564,54.21822928294024,38.90489913544669,41.127756176878606,51.061745623863615,41.437477081041436,46.692208358884855,44.221105527638194,42.45791926131389,43.705441814787875,47.93028322440087,36.8749393488246,39.37823834196892,44.29160394056663,34.757422157856624,41.149798980675875,32.945174924230926,35.00203500203501,39.94378883817585,30.864197530864196,31.535346434233702,33.064516129032256,42.00878857897342,29.942916450441103,33.86454183266932,28.624260355029584,28.268551236749115,28.565332053880624,26.679427385220933,23.25581395348837,24.14266299684541,24.972253052164262,25.529538526227267,25.682182985553773,24.265164335975776,24.076669190899146,24.6422893481717,23.616287613268042,21.978021978021978,25.098883645637663,18.867924528301884,17.633484938109014,16.674305873855854,15.82815149802148,13.902007083825264,11.701170117011701,10.649180455335888,8.03921378557142],\"yaxis\":\"y\",\"type\":\"scatter\"},{\"hovertemplate\":\"<b>OLS trendline</b><br>solar_systems_per_thousand_households = -81.8298 * education_less_than_high_school_rate + 52.4356<br>R<sup>2</sup>=0.819479<br><br>education_less_than_high_school_rate=%{x}<br>solar_systems_per_thousand_households=%{y} <b>(trend)</b><extra></extra>\",\"legendgroup\":\"\",\"line\":{\"color\":\"Plum\"},\"marker\":{\"color\":\"Plum\",\"symbol\":\"circle\"},\"mode\":\"lines\",\"name\":\"\",\"showlegend\":false,\"x\":[0.00621730012130995,0.01259980356795,0.0163760102084,0.0199753418516,0.0235198702352,0.02688286989465,0.0301289020762,0.0333919156415,0.0365561851863,0.0401597514976999,0.04368911856825,0.0465770553298,0.04985930077225,0.0538013403458,0.0569549173753,0.0609371483907,0.0645900137426,0.0683245803728,0.0720620842572,0.07597235054609995,0.07955897040599999,0.0832675611681,0.08726274996095,0.0920979410128,0.0972903938012,0.1013087127825,0.106022584693,0.111878736373,0.117737789203,0.12343366709350001,0.129414732593,0.1356573443825,0.1432940343715,0.149484536082,0.156887852633,0.164466064397,0.17248060337949994,0.181725543478,0.189860397864,0.1980803651075,0.20671026443,0.214609787411,0.224477052763,0.23442641738300002,0.24511721737949999,0.256215888417,0.266931283602,0.278805970149,0.290972851684,0.305811201683,0.3198126172165,0.33554038219,0.348613339445,0.364860515378,0.379970544919,0.3975022548345,0.414976599064,0.43315113143649997,0.4548422250555,0.482802013423,0.5087971380280001,0.539589442815,0.5827991697755,0.641743681214],\"xaxis\":\"x\",\"y\":[51.92687829949836,51.40459933708364,51.0955931136595,50.80106053538309,50.511012496723474,50.235818916739866,49.97019676174718,49.70318502356674,49.444253488554615,49.149374388238364,48.860566996750315,48.62424771734034,48.35566223855369,48.033085939851446,47.77502937119746,47.449164214961044,47.150250984160465,46.844652154328834,46.53881296958182,46.21883667231761,45.925344296690184,45.621871066876245,45.294945578339444,44.89928287533431,44.47438551689409,44.145567289728135,43.75983210745136,43.28062440333586,42.80117929870433,42.335086766273754,41.84565738964603,41.33482573315952,40.70991694038206,40.20334944109014,39.597537549406866,38.97741401791946,38.3215859186466,37.5650743456254,36.899400861288846,36.22676260908732,35.52057969801164,34.874163334811726,34.06672701252877,33.25257252379836,32.377746528601335,31.469544528851632,30.59270591436852,29.621002722883038,28.6253892747982,27.41117010418358,26.265437111117453,24.97843729354799,23.908679853083502,22.579176742055214,21.34272608962608,19.90810982336405,18.478187779551384,16.990969482022834,15.215991690990727,12.928047880227801,10.800872106638813,8.281144051814437,4.745300859276298,-0.07811655546071705],\"yaxis\":\"y\",\"type\":\"scatter\"}],                        {\"template\":{\"data\":{\"bar\":[{\"error_x\":{\"color\":\"#2a3f5f\"},\"error_y\":{\"color\":\"#2a3f5f\"},\"marker\":{\"line\":{\"color\":\"#E5ECF6\",\"width\":0.5},\"pattern\":{\"fillmode\":\"overlay\",\"size\":10,\"solidity\":0.2}},\"type\":\"bar\"}],\"barpolar\":[{\"marker\":{\"line\":{\"color\":\"#E5ECF6\",\"width\":0.5},\"pattern\":{\"fillmode\":\"overlay\",\"size\":10,\"solidity\":0.2}},\"type\":\"barpolar\"}],\"carpet\":[{\"aaxis\":{\"endlinecolor\":\"#2a3f5f\",\"gridcolor\":\"white\",\"linecolor\":\"white\",\"minorgridcolor\":\"white\",\"startlinecolor\":\"#2a3f5f\"},\"baxis\":{\"endlinecolor\":\"#2a3f5f\",\"gridcolor\":\"white\",\"linecolor\":\"white\",\"minorgridcolor\":\"white\",\"startlinecolor\":\"#2a3f5f\"},\"type\":\"carpet\"}],\"choropleth\":[{\"colorbar\":{\"outlinewidth\":0,\"ticks\":\"\"},\"type\":\"choropleth\"}],\"contour\":[{\"colorbar\":{\"outlinewidth\":0,\"ticks\":\"\"},\"colorscale\":[[0.0,\"#0d0887\"],[0.1111111111111111,\"#46039f\"],[0.2222222222222222,\"#7201a8\"],[0.3333333333333333,\"#9c179e\"],[0.4444444444444444,\"#bd3786\"],[0.5555555555555556,\"#d8576b\"],[0.6666666666666666,\"#ed7953\"],[0.7777777777777778,\"#fb9f3a\"],[0.8888888888888888,\"#fdca26\"],[1.0,\"#f0f921\"]],\"type\":\"contour\"}],\"contourcarpet\":[{\"colorbar\":{\"outlinewidth\":0,\"ticks\":\"\"},\"type\":\"contourcarpet\"}],\"heatmap\":[{\"colorbar\":{\"outlinewidth\":0,\"ticks\":\"\"},\"colorscale\":[[0.0,\"#0d0887\"],[0.1111111111111111,\"#46039f\"],[0.2222222222222222,\"#7201a8\"],[0.3333333333333333,\"#9c179e\"],[0.4444444444444444,\"#bd3786\"],[0.5555555555555556,\"#d8576b\"],[0.6666666666666666,\"#ed7953\"],[0.7777777777777778,\"#fb9f3a\"],[0.8888888888888888,\"#fdca26\"],[1.0,\"#f0f921\"]],\"type\":\"heatmap\"}],\"heatmapgl\":[{\"colorbar\":{\"outlinewidth\":0,\"ticks\":\"\"},\"colorscale\":[[0.0,\"#0d0887\"],[0.1111111111111111,\"#46039f\"],[0.2222222222222222,\"#7201a8\"],[0.3333333333333333,\"#9c179e\"],[0.4444444444444444,\"#bd3786\"],[0.5555555555555556,\"#d8576b\"],[0.6666666666666666,\"#ed7953\"],[0.7777777777777778,\"#fb9f3a\"],[0.8888888888888888,\"#fdca26\"],[1.0,\"#f0f921\"]],\"type\":\"heatmapgl\"}],\"histogram\":[{\"marker\":{\"pattern\":{\"fillmode\":\"overlay\",\"size\":10,\"solidity\":0.2}},\"type\":\"histogram\"}],\"histogram2d\":[{\"colorbar\":{\"outlinewidth\":0,\"ticks\":\"\"},\"colorscale\":[[0.0,\"#0d0887\"],[0.1111111111111111,\"#46039f\"],[0.2222222222222222,\"#7201a8\"],[0.3333333333333333,\"#9c179e\"],[0.4444444444444444,\"#bd3786\"],[0.5555555555555556,\"#d8576b\"],[0.6666666666666666,\"#ed7953\"],[0.7777777777777778,\"#fb9f3a\"],[0.8888888888888888,\"#fdca26\"],[1.0,\"#f0f921\"]],\"type\":\"histogram2d\"}],\"histogram2dcontour\":[{\"colorbar\":{\"outlinewidth\":0,\"ticks\":\"\"},\"colorscale\":[[0.0,\"#0d0887\"],[0.1111111111111111,\"#46039f\"],[0.2222222222222222,\"#7201a8\"],[0.3333333333333333,\"#9c179e\"],[0.4444444444444444,\"#bd3786\"],[0.5555555555555556,\"#d8576b\"],[0.6666666666666666,\"#ed7953\"],[0.7777777777777778,\"#fb9f3a\"],[0.8888888888888888,\"#fdca26\"],[1.0,\"#f0f921\"]],\"type\":\"histogram2dcontour\"}],\"mesh3d\":[{\"colorbar\":{\"outlinewidth\":0,\"ticks\":\"\"},\"type\":\"mesh3d\"}],\"parcoords\":[{\"line\":{\"colorbar\":{\"outlinewidth\":0,\"ticks\":\"\"}},\"type\":\"parcoords\"}],\"pie\":[{\"automargin\":true,\"type\":\"pie\"}],\"scatter\":[{\"marker\":{\"colorbar\":{\"outlinewidth\":0,\"ticks\":\"\"}},\"type\":\"scatter\"}],\"scatter3d\":[{\"line\":{\"colorbar\":{\"outlinewidth\":0,\"ticks\":\"\"}},\"marker\":{\"colorbar\":{\"outlinewidth\":0,\"ticks\":\"\"}},\"type\":\"scatter3d\"}],\"scattercarpet\":[{\"marker\":{\"colorbar\":{\"outlinewidth\":0,\"ticks\":\"\"}},\"type\":\"scattercarpet\"}],\"scattergeo\":[{\"marker\":{\"colorbar\":{\"outlinewidth\":0,\"ticks\":\"\"}},\"type\":\"scattergeo\"}],\"scattergl\":[{\"marker\":{\"colorbar\":{\"outlinewidth\":0,\"ticks\":\"\"}},\"type\":\"scattergl\"}],\"scattermapbox\":[{\"marker\":{\"colorbar\":{\"outlinewidth\":0,\"ticks\":\"\"}},\"type\":\"scattermapbox\"}],\"scatterpolar\":[{\"marker\":{\"colorbar\":{\"outlinewidth\":0,\"ticks\":\"\"}},\"type\":\"scatterpolar\"}],\"scatterpolargl\":[{\"marker\":{\"colorbar\":{\"outlinewidth\":0,\"ticks\":\"\"}},\"type\":\"scatterpolargl\"}],\"scatterternary\":[{\"marker\":{\"colorbar\":{\"outlinewidth\":0,\"ticks\":\"\"}},\"type\":\"scatterternary\"}],\"surface\":[{\"colorbar\":{\"outlinewidth\":0,\"ticks\":\"\"},\"colorscale\":[[0.0,\"#0d0887\"],[0.1111111111111111,\"#46039f\"],[0.2222222222222222,\"#7201a8\"],[0.3333333333333333,\"#9c179e\"],[0.4444444444444444,\"#bd3786\"],[0.5555555555555556,\"#d8576b\"],[0.6666666666666666,\"#ed7953\"],[0.7777777777777778,\"#fb9f3a\"],[0.8888888888888888,\"#fdca26\"],[1.0,\"#f0f921\"]],\"type\":\"surface\"}],\"table\":[{\"cells\":{\"fill\":{\"color\":\"#EBF0F8\"},\"line\":{\"color\":\"white\"}},\"header\":{\"fill\":{\"color\":\"#C8D4E3\"},\"line\":{\"color\":\"white\"}},\"type\":\"table\"}]},\"layout\":{\"annotationdefaults\":{\"arrowcolor\":\"#2a3f5f\",\"arrowhead\":0,\"arrowwidth\":1},\"autotypenumbers\":\"strict\",\"coloraxis\":{\"colorbar\":{\"outlinewidth\":0,\"ticks\":\"\"}},\"colorscale\":{\"diverging\":[[0,\"#8e0152\"],[0.1,\"#c51b7d\"],[0.2,\"#de77ae\"],[0.3,\"#f1b6da\"],[0.4,\"#fde0ef\"],[0.5,\"#f7f7f7\"],[0.6,\"#e6f5d0\"],[0.7,\"#b8e186\"],[0.8,\"#7fbc41\"],[0.9,\"#4d9221\"],[1,\"#276419\"]],\"sequential\":[[0.0,\"#0d0887\"],[0.1111111111111111,\"#46039f\"],[0.2222222222222222,\"#7201a8\"],[0.3333333333333333,\"#9c179e\"],[0.4444444444444444,\"#bd3786\"],[0.5555555555555556,\"#d8576b\"],[0.6666666666666666,\"#ed7953\"],[0.7777777777777778,\"#fb9f3a\"],[0.8888888888888888,\"#fdca26\"],[1.0,\"#f0f921\"]],\"sequentialminus\":[[0.0,\"#0d0887\"],[0.1111111111111111,\"#46039f\"],[0.2222222222222222,\"#7201a8\"],[0.3333333333333333,\"#9c179e\"],[0.4444444444444444,\"#bd3786\"],[0.5555555555555556,\"#d8576b\"],[0.6666666666666666,\"#ed7953\"],[0.7777777777777778,\"#fb9f3a\"],[0.8888888888888888,\"#fdca26\"],[1.0,\"#f0f921\"]]},\"colorway\":[\"#636efa\",\"#EF553B\",\"#00cc96\",\"#ab63fa\",\"#FFA15A\",\"#19d3f3\",\"#FF6692\",\"#B6E880\",\"#FF97FF\",\"#FECB52\"],\"font\":{\"color\":\"#2a3f5f\"},\"geo\":{\"bgcolor\":\"white\",\"lakecolor\":\"white\",\"landcolor\":\"#E5ECF6\",\"showlakes\":true,\"showland\":true,\"subunitcolor\":\"white\"},\"hoverlabel\":{\"align\":\"left\"},\"hovermode\":\"closest\",\"mapbox\":{\"style\":\"light\"},\"paper_bgcolor\":\"white\",\"plot_bgcolor\":\"#E5ECF6\",\"polar\":{\"angularaxis\":{\"gridcolor\":\"white\",\"linecolor\":\"white\",\"ticks\":\"\"},\"bgcolor\":\"#E5ECF6\",\"radialaxis\":{\"gridcolor\":\"white\",\"linecolor\":\"white\",\"ticks\":\"\"}},\"scene\":{\"xaxis\":{\"backgroundcolor\":\"#E5ECF6\",\"gridcolor\":\"white\",\"gridwidth\":2,\"linecolor\":\"white\",\"showbackground\":true,\"ticks\":\"\",\"zerolinecolor\":\"white\"},\"yaxis\":{\"backgroundcolor\":\"#E5ECF6\",\"gridcolor\":\"white\",\"gridwidth\":2,\"linecolor\":\"white\",\"showbackground\":true,\"ticks\":\"\",\"zerolinecolor\":\"white\"},\"zaxis\":{\"backgroundcolor\":\"#E5ECF6\",\"gridcolor\":\"white\",\"gridwidth\":2,\"linecolor\":\"white\",\"showbackground\":true,\"ticks\":\"\",\"zerolinecolor\":\"white\"}},\"shapedefaults\":{\"line\":{\"color\":\"#2a3f5f\"}},\"ternary\":{\"aaxis\":{\"gridcolor\":\"white\",\"linecolor\":\"white\",\"ticks\":\"\"},\"baxis\":{\"gridcolor\":\"white\",\"linecolor\":\"white\",\"ticks\":\"\"},\"bgcolor\":\"#E5ECF6\",\"caxis\":{\"gridcolor\":\"white\",\"linecolor\":\"white\",\"ticks\":\"\"}},\"title\":{\"x\":0.05},\"xaxis\":{\"automargin\":true,\"gridcolor\":\"white\",\"linecolor\":\"white\",\"ticks\":\"\",\"title\":{\"standoff\":15},\"zerolinecolor\":\"white\",\"zerolinewidth\":2},\"yaxis\":{\"automargin\":true,\"gridcolor\":\"white\",\"linecolor\":\"white\",\"ticks\":\"\",\"title\":{\"standoff\":15},\"zerolinecolor\":\"white\",\"zerolinewidth\":2}}},\"xaxis\":{\"anchor\":\"y\",\"domain\":[0.0,1.0],\"title\":{\"text\":\"education_less_than_high_school_rate\"}},\"yaxis\":{\"anchor\":\"x\",\"domain\":[0.0,1.0],\"title\":{\"text\":\"solar_systems_per_thousand_households\"}},\"legend\":{\"tracegroupgap\":0},\"margin\":{\"t\":60}},                        {\"responsive\": true}                    ).then(function(){\n                            \nvar gd = document.getElementById('bb474639-d71a-456a-80a3-0fdf950864f8');\nvar x = new MutationObserver(function (mutations, observer) {{\n        var display = window.getComputedStyle(gd).display;\n        if (!display || display === 'none') {{\n            console.log([gd, 'removed!']);\n            Plotly.purge(gd);\n            observer.disconnect();\n        }}\n}});\n\n// Listen for the removal of the full notebook cells\nvar notebookContainer = gd.closest('#notebook-container');\nif (notebookContainer) {{\n    x.observe(notebookContainer, {childList: true});\n}}\n\n// Listen for the clearing of the current output cell\nvar outputEl = gd.closest('.output');\nif (outputEl) {{\n    x.observe(outputEl, {childList: true});\n}}\n\n                        })                };                });            </script>        </div>"
     },
     "metadata": {},
     "output_type": "display_data"
    },
    {
     "name": "stdout",
     "output_type": "stream",
     "text": [
      "results:  <statsmodels.regression.linear_model.RegressionResultsWrapper object at 0x7fabd08a1220>\n",
      "alpha:  52.435638707311085\n",
      "beta:  -81.82979716049627\n",
      "p_beta:  9.955647009513003e-25\n",
      "r_squared:  0.8194794238058531\n"
     ]
    }
   ]
  },
  {
   "cell_type": "code",
   "source": [
    "hi13 = median_dataframe(\"education_master_binned\", 'education_master_rate')\n",
    "plot_scatter(hi13, 'education_master_rate', 'solar_systems_per_thousand_households', 'LightPink', 'education_master')"
   ],
   "metadata": {
    "execution": {
     "iopub.status.busy": "2022-01-30T17:06:37.981581Z",
     "iopub.execute_input": "2022-01-30T17:06:37.982472Z",
     "iopub.status.idle": "2022-01-30T17:06:38.098033Z",
     "shell.execute_reply.started": "2022-01-30T17:06:37.982418Z",
     "shell.execute_reply": "2022-01-30T17:06:38.096903Z"
    },
    "trusted": true
   },
   "execution_count": 45,
   "outputs": [
    {
     "data": {
      "application/vnd.plotly.v1+json": {
       "data": [
        {
         "hovertemplate": "education_master_rate=%{x}<br>solar_systems_per_thousand_households=%{y}<extra></extra>",
         "legendgroup": "",
         "marker": {
          "color": "LightPink",
          "symbol": "circle"
         },
         "mode": "markers",
         "name": "",
         "orientation": "v",
         "showlegend": false,
         "x": [
          0.0,
          0.00406575923634,
          0.00565847393831995,
          0.00716332378223,
          0.008648505275464999,
          0.010096898378050001,
          0.0114285714286,
          0.01325053912399995,
          0.0146103896104,
          0.0159246975616,
          0.017183536650550002,
          0.0186976144423,
          0.020325203252,
          0.0218088518280999,
          0.02322132830835,
          0.0248394004283,
          0.026476803589099998,
          0.0282258064516,
          0.029990649994099998,
          0.03178046345075,
          0.0338753387534,
          0.035630445234,
          0.0373205741627,
          0.03893360812215,
          0.04147382461045,
          0.0436264485344,
          0.04564573836835,
          0.0478395061728,
          0.05044106042005,
          0.0527412966437,
          0.0552786515273,
          0.057604020111099996,
          0.0602081268583,
          0.062897776646,
          0.065445026178,
          0.06858866797274996,
          0.0713896457766,
          0.07484637645624995,
          0.0778441451022,
          0.0811665495431999,
          0.0849683598701,
          0.0887445887446,
          0.09263887498994999,
          0.09660911646185,
          0.100624865331,
          0.104186969836,
          0.108771929825,
          0.11395473379,
          0.118857901726,
          0.1235122714895,
          0.128404669261,
          0.133512244213,
          0.13933513058749997,
          0.144986954901,
          0.1515012347375,
          0.158986878242,
          0.167647154294,
          0.176643937309,
          0.186798964625,
          0.19864444664949998,
          0.215994287754,
          0.2434214664625,
          0.2970121413625
         ],
         "xaxis": "x",
         "y": [
          15.12168933428776,
          19.41747572815534,
          20.34492990134263,
          21.25,
          16.468039930823103,
          19.3929910482945,
          23.543990086741015,
          22.909864368387613,
          21.56862745098039,
          25.779687612171436,
          23.978140762782594,
          21.810699588477366,
          27.62063433869039,
          24.793388429752067,
          21.292596482355005,
          23.651145602365116,
          24.860347730735988,
          28.799019607843135,
          25.41193106961547,
          30.912352734468918,
          36.9881109643329,
          26.359893495005494,
          28.23920265780731,
          30.722252669183618,
          28.990727110654632,
          27.477102414654453,
          31.796582751996763,
          44.11764705882353,
          38.395159858144766,
          38.46153846153847,
          36.84713537470672,
          31.478948214983262,
          35.0,
          42.38539944113609,
          47.676523838261915,
          39.097560932018155,
          41.437477081041436,
          38.144101091760795,
          40.99612447718813,
          50.62571103526735,
          45.725467170003625,
          43.111527647610124,
          55.076584215611426,
          41.96962225109925,
          52.91828793774319,
          43.241879766967266,
          57.59162303664921,
          37.63938832588718,
          41.57303370786517,
          49.11268877195831,
          41.43414638641369,
          58.020477815699664,
          47.284945114570725,
          35.79952267303103,
          46.111550176036914,
          50.625372245384156,
          39.120419233869654,
          45.51466868993424,
          66.32653061224491,
          36.1299730713832,
          40.53386060306475,
          48.16091446079514,
          50.23961339861516
         ],
         "yaxis": "y",
         "type": "scatter"
        },
        {
         "hovertemplate": "<b>OLS trendline</b><br>solar_systems_per_thousand_households = 131.423 * education_master_rate + 25.9528<br>R<sup>2</sup>=0.536699<br><br>education_master_rate=%{x}<br>solar_systems_per_thousand_households=%{y} <b>(trend)</b><extra></extra>",
         "legendgroup": "",
         "line": {
          "color": "LightPink"
         },
         "marker": {
          "color": "LightPink",
          "symbol": "circle"
         },
         "mode": "lines",
         "name": "",
         "showlegend": false,
         "x": [
          0.0,
          0.00406575923634,
          0.00565847393831995,
          0.00716332378223,
          0.008648505275464999,
          0.010096898378050001,
          0.0114285714286,
          0.01325053912399995,
          0.0146103896104,
          0.0159246975616,
          0.017183536650550002,
          0.0186976144423,
          0.020325203252,
          0.0218088518280999,
          0.02322132830835,
          0.0248394004283,
          0.026476803589099998,
          0.0282258064516,
          0.029990649994099998,
          0.03178046345075,
          0.0338753387534,
          0.035630445234,
          0.0373205741627,
          0.03893360812215,
          0.04147382461045,
          0.0436264485344,
          0.04564573836835,
          0.0478395061728,
          0.05044106042005,
          0.0527412966437,
          0.0552786515273,
          0.057604020111099996,
          0.0602081268583,
          0.062897776646,
          0.065445026178,
          0.06858866797274996,
          0.0713896457766,
          0.07484637645624995,
          0.0778441451022,
          0.0811665495431999,
          0.0849683598701,
          0.0887445887446,
          0.09263887498994999,
          0.09660911646185,
          0.100624865331,
          0.104186969836,
          0.108771929825,
          0.11395473379,
          0.118857901726,
          0.1235122714895,
          0.128404669261,
          0.133512244213,
          0.13933513058749997,
          0.144986954901,
          0.1515012347375,
          0.158986878242,
          0.167647154294,
          0.176643937309,
          0.186798964625,
          0.19864444664949998,
          0.215994287754,
          0.2434214664625,
          0.2970121413625
         ],
         "xaxis": "x",
         "y": [
          25.95279577577827,
          26.48712958360088,
          26.696448744430015,
          26.894220452137322,
          27.089407288459267,
          27.279759288354107,
          27.45477160229419,
          27.694219852872163,
          27.872935326718487,
          28.04566546920681,
          28.211105733800565,
          28.410090205033967,
          28.623992621705188,
          28.818977997635045,
          29.00460973140965,
          29.217261437259996,
          29.432453684265415,
          29.662312686013276,
          29.89425351562425,
          30.129475963386515,
          30.40479051899856,
          30.635451675844962,
          30.85757329537214,
          31.069562871635387,
          31.403405450594633,
          31.686309496612292,
          31.951690391877325,
          32.24000168536298,
          32.58190544955181,
          32.88420912983093,
          33.217675628445285,
          33.52328227599765,
          33.86552149709342,
          34.21900303134795,
          34.55376991319932,
          34.96691638670549,
          35.335028970003734,
          35.78932248796849,
          36.18329789144164,
          36.61993786761601,
          37.11958274831498,
          37.61586564074165,
          38.12766397341967,
          38.64944456108804,
          39.17720586218364,
          39.6453479122604,
          40.247916580798204,
          40.92905562933407,
          41.573444104239215,
          42.1851348055765,
          42.828107834393066,
          43.49936006901833,
          44.26462059433311,
          45.00739965010805,
          45.86352509874443,
          46.84730996283852,
          47.98546842492832,
          49.167851602857525,
          50.50245458815027,
          52.059222007891314,
          54.33938817701011,
          57.94394712534978,
          64.9869882201486
         ],
         "yaxis": "y",
         "type": "scatter"
        }
       ],
       "layout": {
        "template": {
         "data": {
          "bar": [
           {
            "error_x": {
             "color": "#2a3f5f"
            },
            "error_y": {
             "color": "#2a3f5f"
            },
            "marker": {
             "line": {
              "color": "#E5ECF6",
              "width": 0.5
             },
             "pattern": {
              "fillmode": "overlay",
              "size": 10,
              "solidity": 0.2
             }
            },
            "type": "bar"
           }
          ],
          "barpolar": [
           {
            "marker": {
             "line": {
              "color": "#E5ECF6",
              "width": 0.5
             },
             "pattern": {
              "fillmode": "overlay",
              "size": 10,
              "solidity": 0.2
             }
            },
            "type": "barpolar"
           }
          ],
          "carpet": [
           {
            "aaxis": {
             "endlinecolor": "#2a3f5f",
             "gridcolor": "white",
             "linecolor": "white",
             "minorgridcolor": "white",
             "startlinecolor": "#2a3f5f"
            },
            "baxis": {
             "endlinecolor": "#2a3f5f",
             "gridcolor": "white",
             "linecolor": "white",
             "minorgridcolor": "white",
             "startlinecolor": "#2a3f5f"
            },
            "type": "carpet"
           }
          ],
          "choropleth": [
           {
            "colorbar": {
             "outlinewidth": 0,
             "ticks": ""
            },
            "type": "choropleth"
           }
          ],
          "contour": [
           {
            "colorbar": {
             "outlinewidth": 0,
             "ticks": ""
            },
            "colorscale": [
             [
              0.0,
              "#0d0887"
             ],
             [
              0.1111111111111111,
              "#46039f"
             ],
             [
              0.2222222222222222,
              "#7201a8"
             ],
             [
              0.3333333333333333,
              "#9c179e"
             ],
             [
              0.4444444444444444,
              "#bd3786"
             ],
             [
              0.5555555555555556,
              "#d8576b"
             ],
             [
              0.6666666666666666,
              "#ed7953"
             ],
             [
              0.7777777777777778,
              "#fb9f3a"
             ],
             [
              0.8888888888888888,
              "#fdca26"
             ],
             [
              1.0,
              "#f0f921"
             ]
            ],
            "type": "contour"
           }
          ],
          "contourcarpet": [
           {
            "colorbar": {
             "outlinewidth": 0,
             "ticks": ""
            },
            "type": "contourcarpet"
           }
          ],
          "heatmap": [
           {
            "colorbar": {
             "outlinewidth": 0,
             "ticks": ""
            },
            "colorscale": [
             [
              0.0,
              "#0d0887"
             ],
             [
              0.1111111111111111,
              "#46039f"
             ],
             [
              0.2222222222222222,
              "#7201a8"
             ],
             [
              0.3333333333333333,
              "#9c179e"
             ],
             [
              0.4444444444444444,
              "#bd3786"
             ],
             [
              0.5555555555555556,
              "#d8576b"
             ],
             [
              0.6666666666666666,
              "#ed7953"
             ],
             [
              0.7777777777777778,
              "#fb9f3a"
             ],
             [
              0.8888888888888888,
              "#fdca26"
             ],
             [
              1.0,
              "#f0f921"
             ]
            ],
            "type": "heatmap"
           }
          ],
          "heatmapgl": [
           {
            "colorbar": {
             "outlinewidth": 0,
             "ticks": ""
            },
            "colorscale": [
             [
              0.0,
              "#0d0887"
             ],
             [
              0.1111111111111111,
              "#46039f"
             ],
             [
              0.2222222222222222,
              "#7201a8"
             ],
             [
              0.3333333333333333,
              "#9c179e"
             ],
             [
              0.4444444444444444,
              "#bd3786"
             ],
             [
              0.5555555555555556,
              "#d8576b"
             ],
             [
              0.6666666666666666,
              "#ed7953"
             ],
             [
              0.7777777777777778,
              "#fb9f3a"
             ],
             [
              0.8888888888888888,
              "#fdca26"
             ],
             [
              1.0,
              "#f0f921"
             ]
            ],
            "type": "heatmapgl"
           }
          ],
          "histogram": [
           {
            "marker": {
             "pattern": {
              "fillmode": "overlay",
              "size": 10,
              "solidity": 0.2
             }
            },
            "type": "histogram"
           }
          ],
          "histogram2d": [
           {
            "colorbar": {
             "outlinewidth": 0,
             "ticks": ""
            },
            "colorscale": [
             [
              0.0,
              "#0d0887"
             ],
             [
              0.1111111111111111,
              "#46039f"
             ],
             [
              0.2222222222222222,
              "#7201a8"
             ],
             [
              0.3333333333333333,
              "#9c179e"
             ],
             [
              0.4444444444444444,
              "#bd3786"
             ],
             [
              0.5555555555555556,
              "#d8576b"
             ],
             [
              0.6666666666666666,
              "#ed7953"
             ],
             [
              0.7777777777777778,
              "#fb9f3a"
             ],
             [
              0.8888888888888888,
              "#fdca26"
             ],
             [
              1.0,
              "#f0f921"
             ]
            ],
            "type": "histogram2d"
           }
          ],
          "histogram2dcontour": [
           {
            "colorbar": {
             "outlinewidth": 0,
             "ticks": ""
            },
            "colorscale": [
             [
              0.0,
              "#0d0887"
             ],
             [
              0.1111111111111111,
              "#46039f"
             ],
             [
              0.2222222222222222,
              "#7201a8"
             ],
             [
              0.3333333333333333,
              "#9c179e"
             ],
             [
              0.4444444444444444,
              "#bd3786"
             ],
             [
              0.5555555555555556,
              "#d8576b"
             ],
             [
              0.6666666666666666,
              "#ed7953"
             ],
             [
              0.7777777777777778,
              "#fb9f3a"
             ],
             [
              0.8888888888888888,
              "#fdca26"
             ],
             [
              1.0,
              "#f0f921"
             ]
            ],
            "type": "histogram2dcontour"
           }
          ],
          "mesh3d": [
           {
            "colorbar": {
             "outlinewidth": 0,
             "ticks": ""
            },
            "type": "mesh3d"
           }
          ],
          "parcoords": [
           {
            "line": {
             "colorbar": {
              "outlinewidth": 0,
              "ticks": ""
             }
            },
            "type": "parcoords"
           }
          ],
          "pie": [
           {
            "automargin": true,
            "type": "pie"
           }
          ],
          "scatter": [
           {
            "marker": {
             "colorbar": {
              "outlinewidth": 0,
              "ticks": ""
             }
            },
            "type": "scatter"
           }
          ],
          "scatter3d": [
           {
            "line": {
             "colorbar": {
              "outlinewidth": 0,
              "ticks": ""
             }
            },
            "marker": {
             "colorbar": {
              "outlinewidth": 0,
              "ticks": ""
             }
            },
            "type": "scatter3d"
           }
          ],
          "scattercarpet": [
           {
            "marker": {
             "colorbar": {
              "outlinewidth": 0,
              "ticks": ""
             }
            },
            "type": "scattercarpet"
           }
          ],
          "scattergeo": [
           {
            "marker": {
             "colorbar": {
              "outlinewidth": 0,
              "ticks": ""
             }
            },
            "type": "scattergeo"
           }
          ],
          "scattergl": [
           {
            "marker": {
             "colorbar": {
              "outlinewidth": 0,
              "ticks": ""
             }
            },
            "type": "scattergl"
           }
          ],
          "scattermapbox": [
           {
            "marker": {
             "colorbar": {
              "outlinewidth": 0,
              "ticks": ""
             }
            },
            "type": "scattermapbox"
           }
          ],
          "scatterpolar": [
           {
            "marker": {
             "colorbar": {
              "outlinewidth": 0,
              "ticks": ""
             }
            },
            "type": "scatterpolar"
           }
          ],
          "scatterpolargl": [
           {
            "marker": {
             "colorbar": {
              "outlinewidth": 0,
              "ticks": ""
             }
            },
            "type": "scatterpolargl"
           }
          ],
          "scatterternary": [
           {
            "marker": {
             "colorbar": {
              "outlinewidth": 0,
              "ticks": ""
             }
            },
            "type": "scatterternary"
           }
          ],
          "surface": [
           {
            "colorbar": {
             "outlinewidth": 0,
             "ticks": ""
            },
            "colorscale": [
             [
              0.0,
              "#0d0887"
             ],
             [
              0.1111111111111111,
              "#46039f"
             ],
             [
              0.2222222222222222,
              "#7201a8"
             ],
             [
              0.3333333333333333,
              "#9c179e"
             ],
             [
              0.4444444444444444,
              "#bd3786"
             ],
             [
              0.5555555555555556,
              "#d8576b"
             ],
             [
              0.6666666666666666,
              "#ed7953"
             ],
             [
              0.7777777777777778,
              "#fb9f3a"
             ],
             [
              0.8888888888888888,
              "#fdca26"
             ],
             [
              1.0,
              "#f0f921"
             ]
            ],
            "type": "surface"
           }
          ],
          "table": [
           {
            "cells": {
             "fill": {
              "color": "#EBF0F8"
             },
             "line": {
              "color": "white"
             }
            },
            "header": {
             "fill": {
              "color": "#C8D4E3"
             },
             "line": {
              "color": "white"
             }
            },
            "type": "table"
           }
          ]
         },
         "layout": {
          "annotationdefaults": {
           "arrowcolor": "#2a3f5f",
           "arrowhead": 0,
           "arrowwidth": 1
          },
          "autotypenumbers": "strict",
          "coloraxis": {
           "colorbar": {
            "outlinewidth": 0,
            "ticks": ""
           }
          },
          "colorscale": {
           "diverging": [
            [
             0,
             "#8e0152"
            ],
            [
             0.1,
             "#c51b7d"
            ],
            [
             0.2,
             "#de77ae"
            ],
            [
             0.3,
             "#f1b6da"
            ],
            [
             0.4,
             "#fde0ef"
            ],
            [
             0.5,
             "#f7f7f7"
            ],
            [
             0.6,
             "#e6f5d0"
            ],
            [
             0.7,
             "#b8e186"
            ],
            [
             0.8,
             "#7fbc41"
            ],
            [
             0.9,
             "#4d9221"
            ],
            [
             1,
             "#276419"
            ]
           ],
           "sequential": [
            [
             0.0,
             "#0d0887"
            ],
            [
             0.1111111111111111,
             "#46039f"
            ],
            [
             0.2222222222222222,
             "#7201a8"
            ],
            [
             0.3333333333333333,
             "#9c179e"
            ],
            [
             0.4444444444444444,
             "#bd3786"
            ],
            [
             0.5555555555555556,
             "#d8576b"
            ],
            [
             0.6666666666666666,
             "#ed7953"
            ],
            [
             0.7777777777777778,
             "#fb9f3a"
            ],
            [
             0.8888888888888888,
             "#fdca26"
            ],
            [
             1.0,
             "#f0f921"
            ]
           ],
           "sequentialminus": [
            [
             0.0,
             "#0d0887"
            ],
            [
             0.1111111111111111,
             "#46039f"
            ],
            [
             0.2222222222222222,
             "#7201a8"
            ],
            [
             0.3333333333333333,
             "#9c179e"
            ],
            [
             0.4444444444444444,
             "#bd3786"
            ],
            [
             0.5555555555555556,
             "#d8576b"
            ],
            [
             0.6666666666666666,
             "#ed7953"
            ],
            [
             0.7777777777777778,
             "#fb9f3a"
            ],
            [
             0.8888888888888888,
             "#fdca26"
            ],
            [
             1.0,
             "#f0f921"
            ]
           ]
          },
          "colorway": [
           "#636efa",
           "#EF553B",
           "#00cc96",
           "#ab63fa",
           "#FFA15A",
           "#19d3f3",
           "#FF6692",
           "#B6E880",
           "#FF97FF",
           "#FECB52"
          ],
          "font": {
           "color": "#2a3f5f"
          },
          "geo": {
           "bgcolor": "white",
           "lakecolor": "white",
           "landcolor": "#E5ECF6",
           "showlakes": true,
           "showland": true,
           "subunitcolor": "white"
          },
          "hoverlabel": {
           "align": "left"
          },
          "hovermode": "closest",
          "mapbox": {
           "style": "light"
          },
          "paper_bgcolor": "white",
          "plot_bgcolor": "#E5ECF6",
          "polar": {
           "angularaxis": {
            "gridcolor": "white",
            "linecolor": "white",
            "ticks": ""
           },
           "bgcolor": "#E5ECF6",
           "radialaxis": {
            "gridcolor": "white",
            "linecolor": "white",
            "ticks": ""
           }
          },
          "scene": {
           "xaxis": {
            "backgroundcolor": "#E5ECF6",
            "gridcolor": "white",
            "gridwidth": 2,
            "linecolor": "white",
            "showbackground": true,
            "ticks": "",
            "zerolinecolor": "white"
           },
           "yaxis": {
            "backgroundcolor": "#E5ECF6",
            "gridcolor": "white",
            "gridwidth": 2,
            "linecolor": "white",
            "showbackground": true,
            "ticks": "",
            "zerolinecolor": "white"
           },
           "zaxis": {
            "backgroundcolor": "#E5ECF6",
            "gridcolor": "white",
            "gridwidth": 2,
            "linecolor": "white",
            "showbackground": true,
            "ticks": "",
            "zerolinecolor": "white"
           }
          },
          "shapedefaults": {
           "line": {
            "color": "#2a3f5f"
           }
          },
          "ternary": {
           "aaxis": {
            "gridcolor": "white",
            "linecolor": "white",
            "ticks": ""
           },
           "baxis": {
            "gridcolor": "white",
            "linecolor": "white",
            "ticks": ""
           },
           "bgcolor": "#E5ECF6",
           "caxis": {
            "gridcolor": "white",
            "linecolor": "white",
            "ticks": ""
           }
          },
          "title": {
           "x": 0.05
          },
          "xaxis": {
           "automargin": true,
           "gridcolor": "white",
           "linecolor": "white",
           "ticks": "",
           "title": {
            "standoff": 15
           },
           "zerolinecolor": "white",
           "zerolinewidth": 2
          },
          "yaxis": {
           "automargin": true,
           "gridcolor": "white",
           "linecolor": "white",
           "ticks": "",
           "title": {
            "standoff": 15
           },
           "zerolinecolor": "white",
           "zerolinewidth": 2
          }
         }
        },
        "xaxis": {
         "anchor": "y",
         "domain": [
          0.0,
          1.0
         ],
         "title": {
          "text": "education_master_rate"
         }
        },
        "yaxis": {
         "anchor": "x",
         "domain": [
          0.0,
          1.0
         ],
         "title": {
          "text": "solar_systems_per_thousand_households"
         }
        },
        "legend": {
         "tracegroupgap": 0
        },
        "margin": {
         "t": 60
        }
       },
       "config": {
        "plotlyServerURL": "https://plot.ly"
       }
      },
      "text/html": "<div>                            <div id=\"e85add4c-8706-4ef7-a2bb-fe44ba22cd1d\" class=\"plotly-graph-div\" style=\"height:525px; width:100%;\"></div>            <script type=\"text/javascript\">                require([\"plotly\"], function(Plotly) {                    window.PLOTLYENV=window.PLOTLYENV || {};                                    if (document.getElementById(\"e85add4c-8706-4ef7-a2bb-fe44ba22cd1d\")) {                    Plotly.newPlot(                        \"e85add4c-8706-4ef7-a2bb-fe44ba22cd1d\",                        [{\"hovertemplate\":\"education_master_rate=%{x}<br>solar_systems_per_thousand_households=%{y}<extra></extra>\",\"legendgroup\":\"\",\"marker\":{\"color\":\"LightPink\",\"symbol\":\"circle\"},\"mode\":\"markers\",\"name\":\"\",\"orientation\":\"v\",\"showlegend\":false,\"x\":[0.0,0.00406575923634,0.00565847393831995,0.00716332378223,0.008648505275464999,0.010096898378050001,0.0114285714286,0.01325053912399995,0.0146103896104,0.0159246975616,0.017183536650550002,0.0186976144423,0.020325203252,0.0218088518280999,0.02322132830835,0.0248394004283,0.026476803589099998,0.0282258064516,0.029990649994099998,0.03178046345075,0.0338753387534,0.035630445234,0.0373205741627,0.03893360812215,0.04147382461045,0.0436264485344,0.04564573836835,0.0478395061728,0.05044106042005,0.0527412966437,0.0552786515273,0.057604020111099996,0.0602081268583,0.062897776646,0.065445026178,0.06858866797274996,0.0713896457766,0.07484637645624995,0.0778441451022,0.0811665495431999,0.0849683598701,0.0887445887446,0.09263887498994999,0.09660911646185,0.100624865331,0.104186969836,0.108771929825,0.11395473379,0.118857901726,0.1235122714895,0.128404669261,0.133512244213,0.13933513058749997,0.144986954901,0.1515012347375,0.158986878242,0.167647154294,0.176643937309,0.186798964625,0.19864444664949998,0.215994287754,0.2434214664625,0.2970121413625],\"xaxis\":\"x\",\"y\":[15.12168933428776,19.41747572815534,20.34492990134263,21.25,16.468039930823103,19.3929910482945,23.543990086741015,22.909864368387613,21.56862745098039,25.779687612171436,23.978140762782594,21.810699588477366,27.62063433869039,24.793388429752067,21.292596482355005,23.651145602365116,24.860347730735988,28.799019607843135,25.41193106961547,30.912352734468918,36.9881109643329,26.359893495005494,28.23920265780731,30.722252669183618,28.990727110654632,27.477102414654453,31.796582751996763,44.11764705882353,38.395159858144766,38.46153846153847,36.84713537470672,31.478948214983262,35.0,42.38539944113609,47.676523838261915,39.097560932018155,41.437477081041436,38.144101091760795,40.99612447718813,50.62571103526735,45.725467170003625,43.111527647610124,55.076584215611426,41.96962225109925,52.91828793774319,43.241879766967266,57.59162303664921,37.63938832588718,41.57303370786517,49.11268877195831,41.43414638641369,58.020477815699664,47.284945114570725,35.79952267303103,46.111550176036914,50.625372245384156,39.120419233869654,45.51466868993424,66.32653061224491,36.1299730713832,40.53386060306475,48.16091446079514,50.23961339861516],\"yaxis\":\"y\",\"type\":\"scatter\"},{\"hovertemplate\":\"<b>OLS trendline</b><br>solar_systems_per_thousand_households = 131.423 * education_master_rate + 25.9528<br>R<sup>2</sup>=0.536699<br><br>education_master_rate=%{x}<br>solar_systems_per_thousand_households=%{y} <b>(trend)</b><extra></extra>\",\"legendgroup\":\"\",\"line\":{\"color\":\"LightPink\"},\"marker\":{\"color\":\"LightPink\",\"symbol\":\"circle\"},\"mode\":\"lines\",\"name\":\"\",\"showlegend\":false,\"x\":[0.0,0.00406575923634,0.00565847393831995,0.00716332378223,0.008648505275464999,0.010096898378050001,0.0114285714286,0.01325053912399995,0.0146103896104,0.0159246975616,0.017183536650550002,0.0186976144423,0.020325203252,0.0218088518280999,0.02322132830835,0.0248394004283,0.026476803589099998,0.0282258064516,0.029990649994099998,0.03178046345075,0.0338753387534,0.035630445234,0.0373205741627,0.03893360812215,0.04147382461045,0.0436264485344,0.04564573836835,0.0478395061728,0.05044106042005,0.0527412966437,0.0552786515273,0.057604020111099996,0.0602081268583,0.062897776646,0.065445026178,0.06858866797274996,0.0713896457766,0.07484637645624995,0.0778441451022,0.0811665495431999,0.0849683598701,0.0887445887446,0.09263887498994999,0.09660911646185,0.100624865331,0.104186969836,0.108771929825,0.11395473379,0.118857901726,0.1235122714895,0.128404669261,0.133512244213,0.13933513058749997,0.144986954901,0.1515012347375,0.158986878242,0.167647154294,0.176643937309,0.186798964625,0.19864444664949998,0.215994287754,0.2434214664625,0.2970121413625],\"xaxis\":\"x\",\"y\":[25.95279577577827,26.48712958360088,26.696448744430015,26.894220452137322,27.089407288459267,27.279759288354107,27.45477160229419,27.694219852872163,27.872935326718487,28.04566546920681,28.211105733800565,28.410090205033967,28.623992621705188,28.818977997635045,29.00460973140965,29.217261437259996,29.432453684265415,29.662312686013276,29.89425351562425,30.129475963386515,30.40479051899856,30.635451675844962,30.85757329537214,31.069562871635387,31.403405450594633,31.686309496612292,31.951690391877325,32.24000168536298,32.58190544955181,32.88420912983093,33.217675628445285,33.52328227599765,33.86552149709342,34.21900303134795,34.55376991319932,34.96691638670549,35.335028970003734,35.78932248796849,36.18329789144164,36.61993786761601,37.11958274831498,37.61586564074165,38.12766397341967,38.64944456108804,39.17720586218364,39.6453479122604,40.247916580798204,40.92905562933407,41.573444104239215,42.1851348055765,42.828107834393066,43.49936006901833,44.26462059433311,45.00739965010805,45.86352509874443,46.84730996283852,47.98546842492832,49.167851602857525,50.50245458815027,52.059222007891314,54.33938817701011,57.94394712534978,64.9869882201486],\"yaxis\":\"y\",\"type\":\"scatter\"}],                        {\"template\":{\"data\":{\"bar\":[{\"error_x\":{\"color\":\"#2a3f5f\"},\"error_y\":{\"color\":\"#2a3f5f\"},\"marker\":{\"line\":{\"color\":\"#E5ECF6\",\"width\":0.5},\"pattern\":{\"fillmode\":\"overlay\",\"size\":10,\"solidity\":0.2}},\"type\":\"bar\"}],\"barpolar\":[{\"marker\":{\"line\":{\"color\":\"#E5ECF6\",\"width\":0.5},\"pattern\":{\"fillmode\":\"overlay\",\"size\":10,\"solidity\":0.2}},\"type\":\"barpolar\"}],\"carpet\":[{\"aaxis\":{\"endlinecolor\":\"#2a3f5f\",\"gridcolor\":\"white\",\"linecolor\":\"white\",\"minorgridcolor\":\"white\",\"startlinecolor\":\"#2a3f5f\"},\"baxis\":{\"endlinecolor\":\"#2a3f5f\",\"gridcolor\":\"white\",\"linecolor\":\"white\",\"minorgridcolor\":\"white\",\"startlinecolor\":\"#2a3f5f\"},\"type\":\"carpet\"}],\"choropleth\":[{\"colorbar\":{\"outlinewidth\":0,\"ticks\":\"\"},\"type\":\"choropleth\"}],\"contour\":[{\"colorbar\":{\"outlinewidth\":0,\"ticks\":\"\"},\"colorscale\":[[0.0,\"#0d0887\"],[0.1111111111111111,\"#46039f\"],[0.2222222222222222,\"#7201a8\"],[0.3333333333333333,\"#9c179e\"],[0.4444444444444444,\"#bd3786\"],[0.5555555555555556,\"#d8576b\"],[0.6666666666666666,\"#ed7953\"],[0.7777777777777778,\"#fb9f3a\"],[0.8888888888888888,\"#fdca26\"],[1.0,\"#f0f921\"]],\"type\":\"contour\"}],\"contourcarpet\":[{\"colorbar\":{\"outlinewidth\":0,\"ticks\":\"\"},\"type\":\"contourcarpet\"}],\"heatmap\":[{\"colorbar\":{\"outlinewidth\":0,\"ticks\":\"\"},\"colorscale\":[[0.0,\"#0d0887\"],[0.1111111111111111,\"#46039f\"],[0.2222222222222222,\"#7201a8\"],[0.3333333333333333,\"#9c179e\"],[0.4444444444444444,\"#bd3786\"],[0.5555555555555556,\"#d8576b\"],[0.6666666666666666,\"#ed7953\"],[0.7777777777777778,\"#fb9f3a\"],[0.8888888888888888,\"#fdca26\"],[1.0,\"#f0f921\"]],\"type\":\"heatmap\"}],\"heatmapgl\":[{\"colorbar\":{\"outlinewidth\":0,\"ticks\":\"\"},\"colorscale\":[[0.0,\"#0d0887\"],[0.1111111111111111,\"#46039f\"],[0.2222222222222222,\"#7201a8\"],[0.3333333333333333,\"#9c179e\"],[0.4444444444444444,\"#bd3786\"],[0.5555555555555556,\"#d8576b\"],[0.6666666666666666,\"#ed7953\"],[0.7777777777777778,\"#fb9f3a\"],[0.8888888888888888,\"#fdca26\"],[1.0,\"#f0f921\"]],\"type\":\"heatmapgl\"}],\"histogram\":[{\"marker\":{\"pattern\":{\"fillmode\":\"overlay\",\"size\":10,\"solidity\":0.2}},\"type\":\"histogram\"}],\"histogram2d\":[{\"colorbar\":{\"outlinewidth\":0,\"ticks\":\"\"},\"colorscale\":[[0.0,\"#0d0887\"],[0.1111111111111111,\"#46039f\"],[0.2222222222222222,\"#7201a8\"],[0.3333333333333333,\"#9c179e\"],[0.4444444444444444,\"#bd3786\"],[0.5555555555555556,\"#d8576b\"],[0.6666666666666666,\"#ed7953\"],[0.7777777777777778,\"#fb9f3a\"],[0.8888888888888888,\"#fdca26\"],[1.0,\"#f0f921\"]],\"type\":\"histogram2d\"}],\"histogram2dcontour\":[{\"colorbar\":{\"outlinewidth\":0,\"ticks\":\"\"},\"colorscale\":[[0.0,\"#0d0887\"],[0.1111111111111111,\"#46039f\"],[0.2222222222222222,\"#7201a8\"],[0.3333333333333333,\"#9c179e\"],[0.4444444444444444,\"#bd3786\"],[0.5555555555555556,\"#d8576b\"],[0.6666666666666666,\"#ed7953\"],[0.7777777777777778,\"#fb9f3a\"],[0.8888888888888888,\"#fdca26\"],[1.0,\"#f0f921\"]],\"type\":\"histogram2dcontour\"}],\"mesh3d\":[{\"colorbar\":{\"outlinewidth\":0,\"ticks\":\"\"},\"type\":\"mesh3d\"}],\"parcoords\":[{\"line\":{\"colorbar\":{\"outlinewidth\":0,\"ticks\":\"\"}},\"type\":\"parcoords\"}],\"pie\":[{\"automargin\":true,\"type\":\"pie\"}],\"scatter\":[{\"marker\":{\"colorbar\":{\"outlinewidth\":0,\"ticks\":\"\"}},\"type\":\"scatter\"}],\"scatter3d\":[{\"line\":{\"colorbar\":{\"outlinewidth\":0,\"ticks\":\"\"}},\"marker\":{\"colorbar\":{\"outlinewidth\":0,\"ticks\":\"\"}},\"type\":\"scatter3d\"}],\"scattercarpet\":[{\"marker\":{\"colorbar\":{\"outlinewidth\":0,\"ticks\":\"\"}},\"type\":\"scattercarpet\"}],\"scattergeo\":[{\"marker\":{\"colorbar\":{\"outlinewidth\":0,\"ticks\":\"\"}},\"type\":\"scattergeo\"}],\"scattergl\":[{\"marker\":{\"colorbar\":{\"outlinewidth\":0,\"ticks\":\"\"}},\"type\":\"scattergl\"}],\"scattermapbox\":[{\"marker\":{\"colorbar\":{\"outlinewidth\":0,\"ticks\":\"\"}},\"type\":\"scattermapbox\"}],\"scatterpolar\":[{\"marker\":{\"colorbar\":{\"outlinewidth\":0,\"ticks\":\"\"}},\"type\":\"scatterpolar\"}],\"scatterpolargl\":[{\"marker\":{\"colorbar\":{\"outlinewidth\":0,\"ticks\":\"\"}},\"type\":\"scatterpolargl\"}],\"scatterternary\":[{\"marker\":{\"colorbar\":{\"outlinewidth\":0,\"ticks\":\"\"}},\"type\":\"scatterternary\"}],\"surface\":[{\"colorbar\":{\"outlinewidth\":0,\"ticks\":\"\"},\"colorscale\":[[0.0,\"#0d0887\"],[0.1111111111111111,\"#46039f\"],[0.2222222222222222,\"#7201a8\"],[0.3333333333333333,\"#9c179e\"],[0.4444444444444444,\"#bd3786\"],[0.5555555555555556,\"#d8576b\"],[0.6666666666666666,\"#ed7953\"],[0.7777777777777778,\"#fb9f3a\"],[0.8888888888888888,\"#fdca26\"],[1.0,\"#f0f921\"]],\"type\":\"surface\"}],\"table\":[{\"cells\":{\"fill\":{\"color\":\"#EBF0F8\"},\"line\":{\"color\":\"white\"}},\"header\":{\"fill\":{\"color\":\"#C8D4E3\"},\"line\":{\"color\":\"white\"}},\"type\":\"table\"}]},\"layout\":{\"annotationdefaults\":{\"arrowcolor\":\"#2a3f5f\",\"arrowhead\":0,\"arrowwidth\":1},\"autotypenumbers\":\"strict\",\"coloraxis\":{\"colorbar\":{\"outlinewidth\":0,\"ticks\":\"\"}},\"colorscale\":{\"diverging\":[[0,\"#8e0152\"],[0.1,\"#c51b7d\"],[0.2,\"#de77ae\"],[0.3,\"#f1b6da\"],[0.4,\"#fde0ef\"],[0.5,\"#f7f7f7\"],[0.6,\"#e6f5d0\"],[0.7,\"#b8e186\"],[0.8,\"#7fbc41\"],[0.9,\"#4d9221\"],[1,\"#276419\"]],\"sequential\":[[0.0,\"#0d0887\"],[0.1111111111111111,\"#46039f\"],[0.2222222222222222,\"#7201a8\"],[0.3333333333333333,\"#9c179e\"],[0.4444444444444444,\"#bd3786\"],[0.5555555555555556,\"#d8576b\"],[0.6666666666666666,\"#ed7953\"],[0.7777777777777778,\"#fb9f3a\"],[0.8888888888888888,\"#fdca26\"],[1.0,\"#f0f921\"]],\"sequentialminus\":[[0.0,\"#0d0887\"],[0.1111111111111111,\"#46039f\"],[0.2222222222222222,\"#7201a8\"],[0.3333333333333333,\"#9c179e\"],[0.4444444444444444,\"#bd3786\"],[0.5555555555555556,\"#d8576b\"],[0.6666666666666666,\"#ed7953\"],[0.7777777777777778,\"#fb9f3a\"],[0.8888888888888888,\"#fdca26\"],[1.0,\"#f0f921\"]]},\"colorway\":[\"#636efa\",\"#EF553B\",\"#00cc96\",\"#ab63fa\",\"#FFA15A\",\"#19d3f3\",\"#FF6692\",\"#B6E880\",\"#FF97FF\",\"#FECB52\"],\"font\":{\"color\":\"#2a3f5f\"},\"geo\":{\"bgcolor\":\"white\",\"lakecolor\":\"white\",\"landcolor\":\"#E5ECF6\",\"showlakes\":true,\"showland\":true,\"subunitcolor\":\"white\"},\"hoverlabel\":{\"align\":\"left\"},\"hovermode\":\"closest\",\"mapbox\":{\"style\":\"light\"},\"paper_bgcolor\":\"white\",\"plot_bgcolor\":\"#E5ECF6\",\"polar\":{\"angularaxis\":{\"gridcolor\":\"white\",\"linecolor\":\"white\",\"ticks\":\"\"},\"bgcolor\":\"#E5ECF6\",\"radialaxis\":{\"gridcolor\":\"white\",\"linecolor\":\"white\",\"ticks\":\"\"}},\"scene\":{\"xaxis\":{\"backgroundcolor\":\"#E5ECF6\",\"gridcolor\":\"white\",\"gridwidth\":2,\"linecolor\":\"white\",\"showbackground\":true,\"ticks\":\"\",\"zerolinecolor\":\"white\"},\"yaxis\":{\"backgroundcolor\":\"#E5ECF6\",\"gridcolor\":\"white\",\"gridwidth\":2,\"linecolor\":\"white\",\"showbackground\":true,\"ticks\":\"\",\"zerolinecolor\":\"white\"},\"zaxis\":{\"backgroundcolor\":\"#E5ECF6\",\"gridcolor\":\"white\",\"gridwidth\":2,\"linecolor\":\"white\",\"showbackground\":true,\"ticks\":\"\",\"zerolinecolor\":\"white\"}},\"shapedefaults\":{\"line\":{\"color\":\"#2a3f5f\"}},\"ternary\":{\"aaxis\":{\"gridcolor\":\"white\",\"linecolor\":\"white\",\"ticks\":\"\"},\"baxis\":{\"gridcolor\":\"white\",\"linecolor\":\"white\",\"ticks\":\"\"},\"bgcolor\":\"#E5ECF6\",\"caxis\":{\"gridcolor\":\"white\",\"linecolor\":\"white\",\"ticks\":\"\"}},\"title\":{\"x\":0.05},\"xaxis\":{\"automargin\":true,\"gridcolor\":\"white\",\"linecolor\":\"white\",\"ticks\":\"\",\"title\":{\"standoff\":15},\"zerolinecolor\":\"white\",\"zerolinewidth\":2},\"yaxis\":{\"automargin\":true,\"gridcolor\":\"white\",\"linecolor\":\"white\",\"ticks\":\"\",\"title\":{\"standoff\":15},\"zerolinecolor\":\"white\",\"zerolinewidth\":2}}},\"xaxis\":{\"anchor\":\"y\",\"domain\":[0.0,1.0],\"title\":{\"text\":\"education_master_rate\"}},\"yaxis\":{\"anchor\":\"x\",\"domain\":[0.0,1.0],\"title\":{\"text\":\"solar_systems_per_thousand_households\"}},\"legend\":{\"tracegroupgap\":0},\"margin\":{\"t\":60}},                        {\"responsive\": true}                    ).then(function(){\n                            \nvar gd = document.getElementById('e85add4c-8706-4ef7-a2bb-fe44ba22cd1d');\nvar x = new MutationObserver(function (mutations, observer) {{\n        var display = window.getComputedStyle(gd).display;\n        if (!display || display === 'none') {{\n            console.log([gd, 'removed!']);\n            Plotly.purge(gd);\n            observer.disconnect();\n        }}\n}});\n\n// Listen for the removal of the full notebook cells\nvar notebookContainer = gd.closest('#notebook-container');\nif (notebookContainer) {{\n    x.observe(notebookContainer, {childList: true});\n}}\n\n// Listen for the clearing of the current output cell\nvar outputEl = gd.closest('.output');\nif (outputEl) {{\n    x.observe(outputEl, {childList: true});\n}}\n\n                        })                };                });            </script>        </div>"
     },
     "metadata": {},
     "output_type": "display_data"
    },
    {
     "name": "stdout",
     "output_type": "stream",
     "text": [
      "results:  <statsmodels.regression.linear_model.RegressionResultsWrapper object at 0x7fabcf6d2370>\n",
      "alpha:  25.95279577577827\n",
      "beta:  131.4228848198146\n",
      "p_beta:  8.824479789162321e-12\n",
      "r_squared:  0.5366991269062469\n"
     ]
    }
   ]
  },
  {
   "cell_type": "code",
   "source": [
    "hi14 = median_dataframe(\"education_professional_school_binned\", 'education_professional_school_rate')\n",
    "plot_scatter(hi14, 'education_professional_school_rate', 'solar_systems_per_thousand_households', 'MediumPurple', 'education_professional')"
   ],
   "metadata": {
    "execution": {
     "iopub.status.busy": "2022-01-30T17:06:38.099596Z",
     "iopub.execute_input": "2022-01-30T17:06:38.099905Z",
     "iopub.status.idle": "2022-01-30T17:06:38.213969Z",
     "shell.execute_reply.started": "2022-01-30T17:06:38.099861Z",
     "shell.execute_reply": "2022-01-30T17:06:38.213028Z"
    },
    "trusted": true
   },
   "execution_count": 46,
   "outputs": [
    {
     "data": {
      "application/vnd.plotly.v1+json": {
       "data": [
        {
         "hovertemplate": "education_professional_school_rate=%{x}<br>solar_systems_per_thousand_households=%{y}<extra></extra>",
         "legendgroup": "",
         "marker": {
          "color": "MediumPurple",
          "symbol": "circle"
         },
         "mode": "markers",
         "name": "",
         "orientation": "v",
         "showlegend": false,
         "x": [
          0.0,
          0.00149402390438,
          0.0020085364057899997,
          0.00239463601533,
          0.002731780396015,
          0.00318788615962995,
          0.00358280254777,
          0.00394317804881,
          0.00438212094654,
          0.00481521671084,
          0.00529747351263,
          0.00583423991029995,
          0.006330292529995,
          0.00689061154177,
          0.0074986610878549995,
          0.0080626583736499,
          0.00862068965517,
          0.009043702954725001,
          0.00958211338834,
          0.010244224848050001,
          0.0107382550336,
          0.0114707087259,
          0.01225314837899995,
          0.013009796776249999,
          0.01366584273579995,
          0.0143986448334,
          0.01518782846975,
          0.0158607350097,
          0.01661020140375,
          0.0175531914894,
          0.0185736738418,
          0.0197076700996,
          0.0208464939987,
          0.02177212229445,
          0.0231124807396,
          0.024287321692149998,
          0.025556118624050002,
          0.02679825104375,
          0.028282122905,
          0.0297184567258,
          0.031294763225899996,
          0.0334904490201,
          0.035814334498999956,
          0.037849120536049996,
          0.0402160864346,
          0.04274458068185,
          0.0452276980661,
          0.0488660464409,
          0.0523321956769,
          0.05706559532905,
          0.0620990019677,
          0.0687285223368,
          0.07765442711529999,
          0.0884507042254,
          0.103692147911,
          0.13495632931899998
         ],
         "xaxis": "x",
         "y": [
          20.04811547714515,
          31.966224366706875,
          31.912824826563195,
          29.77667493796526,
          29.542966302808036,
          23.0782886561335,
          27.11323763955343,
          27.118691241959425,
          30.11204481792717,
          26.639205116054,
          30.353200883002206,
          26.052631578947366,
          31.073488738701755,
          31.919961886612676,
          31.363974311690285,
          30.337078651685392,
          28.55512067840835,
          36.781803576713315,
          33.29065300896287,
          27.786614088231275,
          38.46153846153847,
          36.18421052631579,
          41.557943797964356,
          30.777621941717314,
          38.15751460549124,
          35.44575725026853,
          34.35994630024481,
          43.0739109153206,
          28.713855241918136,
          32.05128205128205,
          33.45374698965859,
          31.572279290051,
          36.03603603603604,
          39.556621625785475,
          47.47596153846153,
          26.8373769601993,
          45.37564441240497,
          42.916899928920536,
          48.75,
          36.78273663560569,
          37.12528972319735,
          41.214750542299356,
          38.07434626926566,
          51.53239492862134,
          41.0958904109589,
          47.45913232045786,
          42.313117066290545,
          42.73493127461464,
          52.756372258446945,
          42.97461512282037,
          59.39805499664654,
          37.30272596843615,
          47.0054000981836,
          50.147492625368734,
          47.12082480437901,
          61.953689378192635
         ],
         "yaxis": "y",
         "type": "scatter"
        },
        {
         "hovertemplate": "<b>OLS trendline</b><br>solar_systems_per_thousand_households = 252.157 * education_professional_school_rate + 30.4999<br>R<sup>2</sup>=0.601138<br><br>education_professional_school_rate=%{x}<br>solar_systems_per_thousand_households=%{y} <b>(trend)</b><extra></extra>",
         "legendgroup": "",
         "line": {
          "color": "MediumPurple"
         },
         "marker": {
          "color": "MediumPurple",
          "symbol": "circle"
         },
         "mode": "lines",
         "name": "",
         "showlegend": false,
         "x": [
          0.0,
          0.00149402390438,
          0.0020085364057899997,
          0.00239463601533,
          0.002731780396015,
          0.00318788615962995,
          0.00358280254777,
          0.00394317804881,
          0.00438212094654,
          0.00481521671084,
          0.00529747351263,
          0.00583423991029995,
          0.006330292529995,
          0.00689061154177,
          0.0074986610878549995,
          0.0080626583736499,
          0.00862068965517,
          0.009043702954725001,
          0.00958211338834,
          0.010244224848050001,
          0.0107382550336,
          0.0114707087259,
          0.01225314837899995,
          0.013009796776249999,
          0.01366584273579995,
          0.0143986448334,
          0.01518782846975,
          0.0158607350097,
          0.01661020140375,
          0.0175531914894,
          0.0185736738418,
          0.0197076700996,
          0.0208464939987,
          0.02177212229445,
          0.0231124807396,
          0.024287321692149998,
          0.025556118624050002,
          0.02679825104375,
          0.028282122905,
          0.0297184567258,
          0.031294763225899996,
          0.0334904490201,
          0.035814334498999956,
          0.037849120536049996,
          0.0402160864346,
          0.04274458068185,
          0.0452276980661,
          0.0488660464409,
          0.0523321956769,
          0.05706559532905,
          0.0620990019677,
          0.0687285223368,
          0.07765442711529999,
          0.0884507042254,
          0.103692147911,
          0.13495632931899998
         ],
         "xaxis": "x",
         "y": [
          30.499934379381678,
          30.876663227062355,
          31.006401246116294,
          31.10375903307374,
          31.188772407802965,
          31.303782748831264,
          31.403363749776464,
          31.494235018195347,
          31.60491761944065,
          31.714125824036167,
          31.835730336983975,
          31.971079835660053,
          32.09616306308288,
          32.23745152240453,
          32.390775578437236,
          32.53299154094602,
          32.673703132668564,
          32.7803689714331,
          32.91613302556931,
          33.0830891810374,
          33.20766243717881,
          33.39235589132682,
          33.58965366415887,
          33.78044798676626,
          33.94587468284673,
          34.13065598989108,
          34.32965430649028,
          34.49933251889971,
          34.688315847866605,
          34.92609756427673,
          35.18341951178443,
          35.46936480504429,
          35.75652742269813,
          35.9899312392075,
          36.32791223873506,
          36.6241568148524,
          36.94409306533283,
          37.25730566773398,
          37.63147460489465,
          37.99365648405228,
          38.391133478652755,
          38.94479140654318,
          39.53077580481233,
          40.04386170442028,
          40.64070913962263,
          41.278287106977174,
          41.90442297272998,
          42.82185862197287,
          43.69587302277286,
          44.88943370901006,
          46.15864330955778,
          47.830324439963164,
          50.081055376632605,
          52.803414117349746,
          56.646653505844554,
          64.53014118029593
         ],
         "yaxis": "y",
         "type": "scatter"
        }
       ],
       "layout": {
        "template": {
         "data": {
          "bar": [
           {
            "error_x": {
             "color": "#2a3f5f"
            },
            "error_y": {
             "color": "#2a3f5f"
            },
            "marker": {
             "line": {
              "color": "#E5ECF6",
              "width": 0.5
             },
             "pattern": {
              "fillmode": "overlay",
              "size": 10,
              "solidity": 0.2
             }
            },
            "type": "bar"
           }
          ],
          "barpolar": [
           {
            "marker": {
             "line": {
              "color": "#E5ECF6",
              "width": 0.5
             },
             "pattern": {
              "fillmode": "overlay",
              "size": 10,
              "solidity": 0.2
             }
            },
            "type": "barpolar"
           }
          ],
          "carpet": [
           {
            "aaxis": {
             "endlinecolor": "#2a3f5f",
             "gridcolor": "white",
             "linecolor": "white",
             "minorgridcolor": "white",
             "startlinecolor": "#2a3f5f"
            },
            "baxis": {
             "endlinecolor": "#2a3f5f",
             "gridcolor": "white",
             "linecolor": "white",
             "minorgridcolor": "white",
             "startlinecolor": "#2a3f5f"
            },
            "type": "carpet"
           }
          ],
          "choropleth": [
           {
            "colorbar": {
             "outlinewidth": 0,
             "ticks": ""
            },
            "type": "choropleth"
           }
          ],
          "contour": [
           {
            "colorbar": {
             "outlinewidth": 0,
             "ticks": ""
            },
            "colorscale": [
             [
              0.0,
              "#0d0887"
             ],
             [
              0.1111111111111111,
              "#46039f"
             ],
             [
              0.2222222222222222,
              "#7201a8"
             ],
             [
              0.3333333333333333,
              "#9c179e"
             ],
             [
              0.4444444444444444,
              "#bd3786"
             ],
             [
              0.5555555555555556,
              "#d8576b"
             ],
             [
              0.6666666666666666,
              "#ed7953"
             ],
             [
              0.7777777777777778,
              "#fb9f3a"
             ],
             [
              0.8888888888888888,
              "#fdca26"
             ],
             [
              1.0,
              "#f0f921"
             ]
            ],
            "type": "contour"
           }
          ],
          "contourcarpet": [
           {
            "colorbar": {
             "outlinewidth": 0,
             "ticks": ""
            },
            "type": "contourcarpet"
           }
          ],
          "heatmap": [
           {
            "colorbar": {
             "outlinewidth": 0,
             "ticks": ""
            },
            "colorscale": [
             [
              0.0,
              "#0d0887"
             ],
             [
              0.1111111111111111,
              "#46039f"
             ],
             [
              0.2222222222222222,
              "#7201a8"
             ],
             [
              0.3333333333333333,
              "#9c179e"
             ],
             [
              0.4444444444444444,
              "#bd3786"
             ],
             [
              0.5555555555555556,
              "#d8576b"
             ],
             [
              0.6666666666666666,
              "#ed7953"
             ],
             [
              0.7777777777777778,
              "#fb9f3a"
             ],
             [
              0.8888888888888888,
              "#fdca26"
             ],
             [
              1.0,
              "#f0f921"
             ]
            ],
            "type": "heatmap"
           }
          ],
          "heatmapgl": [
           {
            "colorbar": {
             "outlinewidth": 0,
             "ticks": ""
            },
            "colorscale": [
             [
              0.0,
              "#0d0887"
             ],
             [
              0.1111111111111111,
              "#46039f"
             ],
             [
              0.2222222222222222,
              "#7201a8"
             ],
             [
              0.3333333333333333,
              "#9c179e"
             ],
             [
              0.4444444444444444,
              "#bd3786"
             ],
             [
              0.5555555555555556,
              "#d8576b"
             ],
             [
              0.6666666666666666,
              "#ed7953"
             ],
             [
              0.7777777777777778,
              "#fb9f3a"
             ],
             [
              0.8888888888888888,
              "#fdca26"
             ],
             [
              1.0,
              "#f0f921"
             ]
            ],
            "type": "heatmapgl"
           }
          ],
          "histogram": [
           {
            "marker": {
             "pattern": {
              "fillmode": "overlay",
              "size": 10,
              "solidity": 0.2
             }
            },
            "type": "histogram"
           }
          ],
          "histogram2d": [
           {
            "colorbar": {
             "outlinewidth": 0,
             "ticks": ""
            },
            "colorscale": [
             [
              0.0,
              "#0d0887"
             ],
             [
              0.1111111111111111,
              "#46039f"
             ],
             [
              0.2222222222222222,
              "#7201a8"
             ],
             [
              0.3333333333333333,
              "#9c179e"
             ],
             [
              0.4444444444444444,
              "#bd3786"
             ],
             [
              0.5555555555555556,
              "#d8576b"
             ],
             [
              0.6666666666666666,
              "#ed7953"
             ],
             [
              0.7777777777777778,
              "#fb9f3a"
             ],
             [
              0.8888888888888888,
              "#fdca26"
             ],
             [
              1.0,
              "#f0f921"
             ]
            ],
            "type": "histogram2d"
           }
          ],
          "histogram2dcontour": [
           {
            "colorbar": {
             "outlinewidth": 0,
             "ticks": ""
            },
            "colorscale": [
             [
              0.0,
              "#0d0887"
             ],
             [
              0.1111111111111111,
              "#46039f"
             ],
             [
              0.2222222222222222,
              "#7201a8"
             ],
             [
              0.3333333333333333,
              "#9c179e"
             ],
             [
              0.4444444444444444,
              "#bd3786"
             ],
             [
              0.5555555555555556,
              "#d8576b"
             ],
             [
              0.6666666666666666,
              "#ed7953"
             ],
             [
              0.7777777777777778,
              "#fb9f3a"
             ],
             [
              0.8888888888888888,
              "#fdca26"
             ],
             [
              1.0,
              "#f0f921"
             ]
            ],
            "type": "histogram2dcontour"
           }
          ],
          "mesh3d": [
           {
            "colorbar": {
             "outlinewidth": 0,
             "ticks": ""
            },
            "type": "mesh3d"
           }
          ],
          "parcoords": [
           {
            "line": {
             "colorbar": {
              "outlinewidth": 0,
              "ticks": ""
             }
            },
            "type": "parcoords"
           }
          ],
          "pie": [
           {
            "automargin": true,
            "type": "pie"
           }
          ],
          "scatter": [
           {
            "marker": {
             "colorbar": {
              "outlinewidth": 0,
              "ticks": ""
             }
            },
            "type": "scatter"
           }
          ],
          "scatter3d": [
           {
            "line": {
             "colorbar": {
              "outlinewidth": 0,
              "ticks": ""
             }
            },
            "marker": {
             "colorbar": {
              "outlinewidth": 0,
              "ticks": ""
             }
            },
            "type": "scatter3d"
           }
          ],
          "scattercarpet": [
           {
            "marker": {
             "colorbar": {
              "outlinewidth": 0,
              "ticks": ""
             }
            },
            "type": "scattercarpet"
           }
          ],
          "scattergeo": [
           {
            "marker": {
             "colorbar": {
              "outlinewidth": 0,
              "ticks": ""
             }
            },
            "type": "scattergeo"
           }
          ],
          "scattergl": [
           {
            "marker": {
             "colorbar": {
              "outlinewidth": 0,
              "ticks": ""
             }
            },
            "type": "scattergl"
           }
          ],
          "scattermapbox": [
           {
            "marker": {
             "colorbar": {
              "outlinewidth": 0,
              "ticks": ""
             }
            },
            "type": "scattermapbox"
           }
          ],
          "scatterpolar": [
           {
            "marker": {
             "colorbar": {
              "outlinewidth": 0,
              "ticks": ""
             }
            },
            "type": "scatterpolar"
           }
          ],
          "scatterpolargl": [
           {
            "marker": {
             "colorbar": {
              "outlinewidth": 0,
              "ticks": ""
             }
            },
            "type": "scatterpolargl"
           }
          ],
          "scatterternary": [
           {
            "marker": {
             "colorbar": {
              "outlinewidth": 0,
              "ticks": ""
             }
            },
            "type": "scatterternary"
           }
          ],
          "surface": [
           {
            "colorbar": {
             "outlinewidth": 0,
             "ticks": ""
            },
            "colorscale": [
             [
              0.0,
              "#0d0887"
             ],
             [
              0.1111111111111111,
              "#46039f"
             ],
             [
              0.2222222222222222,
              "#7201a8"
             ],
             [
              0.3333333333333333,
              "#9c179e"
             ],
             [
              0.4444444444444444,
              "#bd3786"
             ],
             [
              0.5555555555555556,
              "#d8576b"
             ],
             [
              0.6666666666666666,
              "#ed7953"
             ],
             [
              0.7777777777777778,
              "#fb9f3a"
             ],
             [
              0.8888888888888888,
              "#fdca26"
             ],
             [
              1.0,
              "#f0f921"
             ]
            ],
            "type": "surface"
           }
          ],
          "table": [
           {
            "cells": {
             "fill": {
              "color": "#EBF0F8"
             },
             "line": {
              "color": "white"
             }
            },
            "header": {
             "fill": {
              "color": "#C8D4E3"
             },
             "line": {
              "color": "white"
             }
            },
            "type": "table"
           }
          ]
         },
         "layout": {
          "annotationdefaults": {
           "arrowcolor": "#2a3f5f",
           "arrowhead": 0,
           "arrowwidth": 1
          },
          "autotypenumbers": "strict",
          "coloraxis": {
           "colorbar": {
            "outlinewidth": 0,
            "ticks": ""
           }
          },
          "colorscale": {
           "diverging": [
            [
             0,
             "#8e0152"
            ],
            [
             0.1,
             "#c51b7d"
            ],
            [
             0.2,
             "#de77ae"
            ],
            [
             0.3,
             "#f1b6da"
            ],
            [
             0.4,
             "#fde0ef"
            ],
            [
             0.5,
             "#f7f7f7"
            ],
            [
             0.6,
             "#e6f5d0"
            ],
            [
             0.7,
             "#b8e186"
            ],
            [
             0.8,
             "#7fbc41"
            ],
            [
             0.9,
             "#4d9221"
            ],
            [
             1,
             "#276419"
            ]
           ],
           "sequential": [
            [
             0.0,
             "#0d0887"
            ],
            [
             0.1111111111111111,
             "#46039f"
            ],
            [
             0.2222222222222222,
             "#7201a8"
            ],
            [
             0.3333333333333333,
             "#9c179e"
            ],
            [
             0.4444444444444444,
             "#bd3786"
            ],
            [
             0.5555555555555556,
             "#d8576b"
            ],
            [
             0.6666666666666666,
             "#ed7953"
            ],
            [
             0.7777777777777778,
             "#fb9f3a"
            ],
            [
             0.8888888888888888,
             "#fdca26"
            ],
            [
             1.0,
             "#f0f921"
            ]
           ],
           "sequentialminus": [
            [
             0.0,
             "#0d0887"
            ],
            [
             0.1111111111111111,
             "#46039f"
            ],
            [
             0.2222222222222222,
             "#7201a8"
            ],
            [
             0.3333333333333333,
             "#9c179e"
            ],
            [
             0.4444444444444444,
             "#bd3786"
            ],
            [
             0.5555555555555556,
             "#d8576b"
            ],
            [
             0.6666666666666666,
             "#ed7953"
            ],
            [
             0.7777777777777778,
             "#fb9f3a"
            ],
            [
             0.8888888888888888,
             "#fdca26"
            ],
            [
             1.0,
             "#f0f921"
            ]
           ]
          },
          "colorway": [
           "#636efa",
           "#EF553B",
           "#00cc96",
           "#ab63fa",
           "#FFA15A",
           "#19d3f3",
           "#FF6692",
           "#B6E880",
           "#FF97FF",
           "#FECB52"
          ],
          "font": {
           "color": "#2a3f5f"
          },
          "geo": {
           "bgcolor": "white",
           "lakecolor": "white",
           "landcolor": "#E5ECF6",
           "showlakes": true,
           "showland": true,
           "subunitcolor": "white"
          },
          "hoverlabel": {
           "align": "left"
          },
          "hovermode": "closest",
          "mapbox": {
           "style": "light"
          },
          "paper_bgcolor": "white",
          "plot_bgcolor": "#E5ECF6",
          "polar": {
           "angularaxis": {
            "gridcolor": "white",
            "linecolor": "white",
            "ticks": ""
           },
           "bgcolor": "#E5ECF6",
           "radialaxis": {
            "gridcolor": "white",
            "linecolor": "white",
            "ticks": ""
           }
          },
          "scene": {
           "xaxis": {
            "backgroundcolor": "#E5ECF6",
            "gridcolor": "white",
            "gridwidth": 2,
            "linecolor": "white",
            "showbackground": true,
            "ticks": "",
            "zerolinecolor": "white"
           },
           "yaxis": {
            "backgroundcolor": "#E5ECF6",
            "gridcolor": "white",
            "gridwidth": 2,
            "linecolor": "white",
            "showbackground": true,
            "ticks": "",
            "zerolinecolor": "white"
           },
           "zaxis": {
            "backgroundcolor": "#E5ECF6",
            "gridcolor": "white",
            "gridwidth": 2,
            "linecolor": "white",
            "showbackground": true,
            "ticks": "",
            "zerolinecolor": "white"
           }
          },
          "shapedefaults": {
           "line": {
            "color": "#2a3f5f"
           }
          },
          "ternary": {
           "aaxis": {
            "gridcolor": "white",
            "linecolor": "white",
            "ticks": ""
           },
           "baxis": {
            "gridcolor": "white",
            "linecolor": "white",
            "ticks": ""
           },
           "bgcolor": "#E5ECF6",
           "caxis": {
            "gridcolor": "white",
            "linecolor": "white",
            "ticks": ""
           }
          },
          "title": {
           "x": 0.05
          },
          "xaxis": {
           "automargin": true,
           "gridcolor": "white",
           "linecolor": "white",
           "ticks": "",
           "title": {
            "standoff": 15
           },
           "zerolinecolor": "white",
           "zerolinewidth": 2
          },
          "yaxis": {
           "automargin": true,
           "gridcolor": "white",
           "linecolor": "white",
           "ticks": "",
           "title": {
            "standoff": 15
           },
           "zerolinecolor": "white",
           "zerolinewidth": 2
          }
         }
        },
        "xaxis": {
         "anchor": "y",
         "domain": [
          0.0,
          1.0
         ],
         "title": {
          "text": "education_professional_school_rate"
         }
        },
        "yaxis": {
         "anchor": "x",
         "domain": [
          0.0,
          1.0
         ],
         "title": {
          "text": "solar_systems_per_thousand_households"
         }
        },
        "legend": {
         "tracegroupgap": 0
        },
        "margin": {
         "t": 60
        }
       },
       "config": {
        "plotlyServerURL": "https://plot.ly"
       }
      },
      "text/html": "<div>                            <div id=\"b75330eb-544a-41af-a666-311980186432\" class=\"plotly-graph-div\" style=\"height:525px; width:100%;\"></div>            <script type=\"text/javascript\">                require([\"plotly\"], function(Plotly) {                    window.PLOTLYENV=window.PLOTLYENV || {};                                    if (document.getElementById(\"b75330eb-544a-41af-a666-311980186432\")) {                    Plotly.newPlot(                        \"b75330eb-544a-41af-a666-311980186432\",                        [{\"hovertemplate\":\"education_professional_school_rate=%{x}<br>solar_systems_per_thousand_households=%{y}<extra></extra>\",\"legendgroup\":\"\",\"marker\":{\"color\":\"MediumPurple\",\"symbol\":\"circle\"},\"mode\":\"markers\",\"name\":\"\",\"orientation\":\"v\",\"showlegend\":false,\"x\":[0.0,0.00149402390438,0.0020085364057899997,0.00239463601533,0.002731780396015,0.00318788615962995,0.00358280254777,0.00394317804881,0.00438212094654,0.00481521671084,0.00529747351263,0.00583423991029995,0.006330292529995,0.00689061154177,0.0074986610878549995,0.0080626583736499,0.00862068965517,0.009043702954725001,0.00958211338834,0.010244224848050001,0.0107382550336,0.0114707087259,0.01225314837899995,0.013009796776249999,0.01366584273579995,0.0143986448334,0.01518782846975,0.0158607350097,0.01661020140375,0.0175531914894,0.0185736738418,0.0197076700996,0.0208464939987,0.02177212229445,0.0231124807396,0.024287321692149998,0.025556118624050002,0.02679825104375,0.028282122905,0.0297184567258,0.031294763225899996,0.0334904490201,0.035814334498999956,0.037849120536049996,0.0402160864346,0.04274458068185,0.0452276980661,0.0488660464409,0.0523321956769,0.05706559532905,0.0620990019677,0.0687285223368,0.07765442711529999,0.0884507042254,0.103692147911,0.13495632931899998],\"xaxis\":\"x\",\"y\":[20.04811547714515,31.966224366706875,31.912824826563195,29.77667493796526,29.542966302808036,23.0782886561335,27.11323763955343,27.118691241959425,30.11204481792717,26.639205116054,30.353200883002206,26.052631578947366,31.073488738701755,31.919961886612676,31.363974311690285,30.337078651685392,28.55512067840835,36.781803576713315,33.29065300896287,27.786614088231275,38.46153846153847,36.18421052631579,41.557943797964356,30.777621941717314,38.15751460549124,35.44575725026853,34.35994630024481,43.0739109153206,28.713855241918136,32.05128205128205,33.45374698965859,31.572279290051,36.03603603603604,39.556621625785475,47.47596153846153,26.8373769601993,45.37564441240497,42.916899928920536,48.75,36.78273663560569,37.12528972319735,41.214750542299356,38.07434626926566,51.53239492862134,41.0958904109589,47.45913232045786,42.313117066290545,42.73493127461464,52.756372258446945,42.97461512282037,59.39805499664654,37.30272596843615,47.0054000981836,50.147492625368734,47.12082480437901,61.953689378192635],\"yaxis\":\"y\",\"type\":\"scatter\"},{\"hovertemplate\":\"<b>OLS trendline</b><br>solar_systems_per_thousand_households = 252.157 * education_professional_school_rate + 30.4999<br>R<sup>2</sup>=0.601138<br><br>education_professional_school_rate=%{x}<br>solar_systems_per_thousand_households=%{y} <b>(trend)</b><extra></extra>\",\"legendgroup\":\"\",\"line\":{\"color\":\"MediumPurple\"},\"marker\":{\"color\":\"MediumPurple\",\"symbol\":\"circle\"},\"mode\":\"lines\",\"name\":\"\",\"showlegend\":false,\"x\":[0.0,0.00149402390438,0.0020085364057899997,0.00239463601533,0.002731780396015,0.00318788615962995,0.00358280254777,0.00394317804881,0.00438212094654,0.00481521671084,0.00529747351263,0.00583423991029995,0.006330292529995,0.00689061154177,0.0074986610878549995,0.0080626583736499,0.00862068965517,0.009043702954725001,0.00958211338834,0.010244224848050001,0.0107382550336,0.0114707087259,0.01225314837899995,0.013009796776249999,0.01366584273579995,0.0143986448334,0.01518782846975,0.0158607350097,0.01661020140375,0.0175531914894,0.0185736738418,0.0197076700996,0.0208464939987,0.02177212229445,0.0231124807396,0.024287321692149998,0.025556118624050002,0.02679825104375,0.028282122905,0.0297184567258,0.031294763225899996,0.0334904490201,0.035814334498999956,0.037849120536049996,0.0402160864346,0.04274458068185,0.0452276980661,0.0488660464409,0.0523321956769,0.05706559532905,0.0620990019677,0.0687285223368,0.07765442711529999,0.0884507042254,0.103692147911,0.13495632931899998],\"xaxis\":\"x\",\"y\":[30.499934379381678,30.876663227062355,31.006401246116294,31.10375903307374,31.188772407802965,31.303782748831264,31.403363749776464,31.494235018195347,31.60491761944065,31.714125824036167,31.835730336983975,31.971079835660053,32.09616306308288,32.23745152240453,32.390775578437236,32.53299154094602,32.673703132668564,32.7803689714331,32.91613302556931,33.0830891810374,33.20766243717881,33.39235589132682,33.58965366415887,33.78044798676626,33.94587468284673,34.13065598989108,34.32965430649028,34.49933251889971,34.688315847866605,34.92609756427673,35.18341951178443,35.46936480504429,35.75652742269813,35.9899312392075,36.32791223873506,36.6241568148524,36.94409306533283,37.25730566773398,37.63147460489465,37.99365648405228,38.391133478652755,38.94479140654318,39.53077580481233,40.04386170442028,40.64070913962263,41.278287106977174,41.90442297272998,42.82185862197287,43.69587302277286,44.88943370901006,46.15864330955778,47.830324439963164,50.081055376632605,52.803414117349746,56.646653505844554,64.53014118029593],\"yaxis\":\"y\",\"type\":\"scatter\"}],                        {\"template\":{\"data\":{\"bar\":[{\"error_x\":{\"color\":\"#2a3f5f\"},\"error_y\":{\"color\":\"#2a3f5f\"},\"marker\":{\"line\":{\"color\":\"#E5ECF6\",\"width\":0.5},\"pattern\":{\"fillmode\":\"overlay\",\"size\":10,\"solidity\":0.2}},\"type\":\"bar\"}],\"barpolar\":[{\"marker\":{\"line\":{\"color\":\"#E5ECF6\",\"width\":0.5},\"pattern\":{\"fillmode\":\"overlay\",\"size\":10,\"solidity\":0.2}},\"type\":\"barpolar\"}],\"carpet\":[{\"aaxis\":{\"endlinecolor\":\"#2a3f5f\",\"gridcolor\":\"white\",\"linecolor\":\"white\",\"minorgridcolor\":\"white\",\"startlinecolor\":\"#2a3f5f\"},\"baxis\":{\"endlinecolor\":\"#2a3f5f\",\"gridcolor\":\"white\",\"linecolor\":\"white\",\"minorgridcolor\":\"white\",\"startlinecolor\":\"#2a3f5f\"},\"type\":\"carpet\"}],\"choropleth\":[{\"colorbar\":{\"outlinewidth\":0,\"ticks\":\"\"},\"type\":\"choropleth\"}],\"contour\":[{\"colorbar\":{\"outlinewidth\":0,\"ticks\":\"\"},\"colorscale\":[[0.0,\"#0d0887\"],[0.1111111111111111,\"#46039f\"],[0.2222222222222222,\"#7201a8\"],[0.3333333333333333,\"#9c179e\"],[0.4444444444444444,\"#bd3786\"],[0.5555555555555556,\"#d8576b\"],[0.6666666666666666,\"#ed7953\"],[0.7777777777777778,\"#fb9f3a\"],[0.8888888888888888,\"#fdca26\"],[1.0,\"#f0f921\"]],\"type\":\"contour\"}],\"contourcarpet\":[{\"colorbar\":{\"outlinewidth\":0,\"ticks\":\"\"},\"type\":\"contourcarpet\"}],\"heatmap\":[{\"colorbar\":{\"outlinewidth\":0,\"ticks\":\"\"},\"colorscale\":[[0.0,\"#0d0887\"],[0.1111111111111111,\"#46039f\"],[0.2222222222222222,\"#7201a8\"],[0.3333333333333333,\"#9c179e\"],[0.4444444444444444,\"#bd3786\"],[0.5555555555555556,\"#d8576b\"],[0.6666666666666666,\"#ed7953\"],[0.7777777777777778,\"#fb9f3a\"],[0.8888888888888888,\"#fdca26\"],[1.0,\"#f0f921\"]],\"type\":\"heatmap\"}],\"heatmapgl\":[{\"colorbar\":{\"outlinewidth\":0,\"ticks\":\"\"},\"colorscale\":[[0.0,\"#0d0887\"],[0.1111111111111111,\"#46039f\"],[0.2222222222222222,\"#7201a8\"],[0.3333333333333333,\"#9c179e\"],[0.4444444444444444,\"#bd3786\"],[0.5555555555555556,\"#d8576b\"],[0.6666666666666666,\"#ed7953\"],[0.7777777777777778,\"#fb9f3a\"],[0.8888888888888888,\"#fdca26\"],[1.0,\"#f0f921\"]],\"type\":\"heatmapgl\"}],\"histogram\":[{\"marker\":{\"pattern\":{\"fillmode\":\"overlay\",\"size\":10,\"solidity\":0.2}},\"type\":\"histogram\"}],\"histogram2d\":[{\"colorbar\":{\"outlinewidth\":0,\"ticks\":\"\"},\"colorscale\":[[0.0,\"#0d0887\"],[0.1111111111111111,\"#46039f\"],[0.2222222222222222,\"#7201a8\"],[0.3333333333333333,\"#9c179e\"],[0.4444444444444444,\"#bd3786\"],[0.5555555555555556,\"#d8576b\"],[0.6666666666666666,\"#ed7953\"],[0.7777777777777778,\"#fb9f3a\"],[0.8888888888888888,\"#fdca26\"],[1.0,\"#f0f921\"]],\"type\":\"histogram2d\"}],\"histogram2dcontour\":[{\"colorbar\":{\"outlinewidth\":0,\"ticks\":\"\"},\"colorscale\":[[0.0,\"#0d0887\"],[0.1111111111111111,\"#46039f\"],[0.2222222222222222,\"#7201a8\"],[0.3333333333333333,\"#9c179e\"],[0.4444444444444444,\"#bd3786\"],[0.5555555555555556,\"#d8576b\"],[0.6666666666666666,\"#ed7953\"],[0.7777777777777778,\"#fb9f3a\"],[0.8888888888888888,\"#fdca26\"],[1.0,\"#f0f921\"]],\"type\":\"histogram2dcontour\"}],\"mesh3d\":[{\"colorbar\":{\"outlinewidth\":0,\"ticks\":\"\"},\"type\":\"mesh3d\"}],\"parcoords\":[{\"line\":{\"colorbar\":{\"outlinewidth\":0,\"ticks\":\"\"}},\"type\":\"parcoords\"}],\"pie\":[{\"automargin\":true,\"type\":\"pie\"}],\"scatter\":[{\"marker\":{\"colorbar\":{\"outlinewidth\":0,\"ticks\":\"\"}},\"type\":\"scatter\"}],\"scatter3d\":[{\"line\":{\"colorbar\":{\"outlinewidth\":0,\"ticks\":\"\"}},\"marker\":{\"colorbar\":{\"outlinewidth\":0,\"ticks\":\"\"}},\"type\":\"scatter3d\"}],\"scattercarpet\":[{\"marker\":{\"colorbar\":{\"outlinewidth\":0,\"ticks\":\"\"}},\"type\":\"scattercarpet\"}],\"scattergeo\":[{\"marker\":{\"colorbar\":{\"outlinewidth\":0,\"ticks\":\"\"}},\"type\":\"scattergeo\"}],\"scattergl\":[{\"marker\":{\"colorbar\":{\"outlinewidth\":0,\"ticks\":\"\"}},\"type\":\"scattergl\"}],\"scattermapbox\":[{\"marker\":{\"colorbar\":{\"outlinewidth\":0,\"ticks\":\"\"}},\"type\":\"scattermapbox\"}],\"scatterpolar\":[{\"marker\":{\"colorbar\":{\"outlinewidth\":0,\"ticks\":\"\"}},\"type\":\"scatterpolar\"}],\"scatterpolargl\":[{\"marker\":{\"colorbar\":{\"outlinewidth\":0,\"ticks\":\"\"}},\"type\":\"scatterpolargl\"}],\"scatterternary\":[{\"marker\":{\"colorbar\":{\"outlinewidth\":0,\"ticks\":\"\"}},\"type\":\"scatterternary\"}],\"surface\":[{\"colorbar\":{\"outlinewidth\":0,\"ticks\":\"\"},\"colorscale\":[[0.0,\"#0d0887\"],[0.1111111111111111,\"#46039f\"],[0.2222222222222222,\"#7201a8\"],[0.3333333333333333,\"#9c179e\"],[0.4444444444444444,\"#bd3786\"],[0.5555555555555556,\"#d8576b\"],[0.6666666666666666,\"#ed7953\"],[0.7777777777777778,\"#fb9f3a\"],[0.8888888888888888,\"#fdca26\"],[1.0,\"#f0f921\"]],\"type\":\"surface\"}],\"table\":[{\"cells\":{\"fill\":{\"color\":\"#EBF0F8\"},\"line\":{\"color\":\"white\"}},\"header\":{\"fill\":{\"color\":\"#C8D4E3\"},\"line\":{\"color\":\"white\"}},\"type\":\"table\"}]},\"layout\":{\"annotationdefaults\":{\"arrowcolor\":\"#2a3f5f\",\"arrowhead\":0,\"arrowwidth\":1},\"autotypenumbers\":\"strict\",\"coloraxis\":{\"colorbar\":{\"outlinewidth\":0,\"ticks\":\"\"}},\"colorscale\":{\"diverging\":[[0,\"#8e0152\"],[0.1,\"#c51b7d\"],[0.2,\"#de77ae\"],[0.3,\"#f1b6da\"],[0.4,\"#fde0ef\"],[0.5,\"#f7f7f7\"],[0.6,\"#e6f5d0\"],[0.7,\"#b8e186\"],[0.8,\"#7fbc41\"],[0.9,\"#4d9221\"],[1,\"#276419\"]],\"sequential\":[[0.0,\"#0d0887\"],[0.1111111111111111,\"#46039f\"],[0.2222222222222222,\"#7201a8\"],[0.3333333333333333,\"#9c179e\"],[0.4444444444444444,\"#bd3786\"],[0.5555555555555556,\"#d8576b\"],[0.6666666666666666,\"#ed7953\"],[0.7777777777777778,\"#fb9f3a\"],[0.8888888888888888,\"#fdca26\"],[1.0,\"#f0f921\"]],\"sequentialminus\":[[0.0,\"#0d0887\"],[0.1111111111111111,\"#46039f\"],[0.2222222222222222,\"#7201a8\"],[0.3333333333333333,\"#9c179e\"],[0.4444444444444444,\"#bd3786\"],[0.5555555555555556,\"#d8576b\"],[0.6666666666666666,\"#ed7953\"],[0.7777777777777778,\"#fb9f3a\"],[0.8888888888888888,\"#fdca26\"],[1.0,\"#f0f921\"]]},\"colorway\":[\"#636efa\",\"#EF553B\",\"#00cc96\",\"#ab63fa\",\"#FFA15A\",\"#19d3f3\",\"#FF6692\",\"#B6E880\",\"#FF97FF\",\"#FECB52\"],\"font\":{\"color\":\"#2a3f5f\"},\"geo\":{\"bgcolor\":\"white\",\"lakecolor\":\"white\",\"landcolor\":\"#E5ECF6\",\"showlakes\":true,\"showland\":true,\"subunitcolor\":\"white\"},\"hoverlabel\":{\"align\":\"left\"},\"hovermode\":\"closest\",\"mapbox\":{\"style\":\"light\"},\"paper_bgcolor\":\"white\",\"plot_bgcolor\":\"#E5ECF6\",\"polar\":{\"angularaxis\":{\"gridcolor\":\"white\",\"linecolor\":\"white\",\"ticks\":\"\"},\"bgcolor\":\"#E5ECF6\",\"radialaxis\":{\"gridcolor\":\"white\",\"linecolor\":\"white\",\"ticks\":\"\"}},\"scene\":{\"xaxis\":{\"backgroundcolor\":\"#E5ECF6\",\"gridcolor\":\"white\",\"gridwidth\":2,\"linecolor\":\"white\",\"showbackground\":true,\"ticks\":\"\",\"zerolinecolor\":\"white\"},\"yaxis\":{\"backgroundcolor\":\"#E5ECF6\",\"gridcolor\":\"white\",\"gridwidth\":2,\"linecolor\":\"white\",\"showbackground\":true,\"ticks\":\"\",\"zerolinecolor\":\"white\"},\"zaxis\":{\"backgroundcolor\":\"#E5ECF6\",\"gridcolor\":\"white\",\"gridwidth\":2,\"linecolor\":\"white\",\"showbackground\":true,\"ticks\":\"\",\"zerolinecolor\":\"white\"}},\"shapedefaults\":{\"line\":{\"color\":\"#2a3f5f\"}},\"ternary\":{\"aaxis\":{\"gridcolor\":\"white\",\"linecolor\":\"white\",\"ticks\":\"\"},\"baxis\":{\"gridcolor\":\"white\",\"linecolor\":\"white\",\"ticks\":\"\"},\"bgcolor\":\"#E5ECF6\",\"caxis\":{\"gridcolor\":\"white\",\"linecolor\":\"white\",\"ticks\":\"\"}},\"title\":{\"x\":0.05},\"xaxis\":{\"automargin\":true,\"gridcolor\":\"white\",\"linecolor\":\"white\",\"ticks\":\"\",\"title\":{\"standoff\":15},\"zerolinecolor\":\"white\",\"zerolinewidth\":2},\"yaxis\":{\"automargin\":true,\"gridcolor\":\"white\",\"linecolor\":\"white\",\"ticks\":\"\",\"title\":{\"standoff\":15},\"zerolinecolor\":\"white\",\"zerolinewidth\":2}}},\"xaxis\":{\"anchor\":\"y\",\"domain\":[0.0,1.0],\"title\":{\"text\":\"education_professional_school_rate\"}},\"yaxis\":{\"anchor\":\"x\",\"domain\":[0.0,1.0],\"title\":{\"text\":\"solar_systems_per_thousand_households\"}},\"legend\":{\"tracegroupgap\":0},\"margin\":{\"t\":60}},                        {\"responsive\": true}                    ).then(function(){\n                            \nvar gd = document.getElementById('b75330eb-544a-41af-a666-311980186432');\nvar x = new MutationObserver(function (mutations, observer) {{\n        var display = window.getComputedStyle(gd).display;\n        if (!display || display === 'none') {{\n            console.log([gd, 'removed!']);\n            Plotly.purge(gd);\n            observer.disconnect();\n        }}\n}});\n\n// Listen for the removal of the full notebook cells\nvar notebookContainer = gd.closest('#notebook-container');\nif (notebookContainer) {{\n    x.observe(notebookContainer, {childList: true});\n}}\n\n// Listen for the clearing of the current output cell\nvar outputEl = gd.closest('.output');\nif (outputEl) {{\n    x.observe(outputEl, {childList: true});\n}}\n\n                        })                };                });            </script>        </div>"
     },
     "metadata": {},
     "output_type": "display_data"
    },
    {
     "name": "stdout",
     "output_type": "stream",
     "text": [
      "results:  <statsmodels.regression.linear_model.RegressionResultsWrapper object at 0x7fabcf6ceeb0>\n",
      "alpha:  30.499934379381678\n",
      "beta:  252.15717538134962\n",
      "p_beta:  2.2984990046738364e-12\n",
      "r_squared:  0.6011382085114942\n"
     ]
    }
   ]
  },
  {
   "cell_type": "code",
   "source": [
    "hi15 = median_dataframe(\"age_18_24_rate_binned\", 'age_18_24_rate')\n",
    "plot_scatter(hi15, 'age_18_24_rate', 'solar_systems_per_thousand_households', 'CornflowerBlue', 'age_18_24')"
   ],
   "metadata": {
    "execution": {
     "iopub.status.busy": "2022-01-30T17:06:38.217919Z",
     "iopub.execute_input": "2022-01-30T17:06:38.218202Z",
     "iopub.status.idle": "2022-01-30T17:06:38.327974Z",
     "shell.execute_reply.started": "2022-01-30T17:06:38.218169Z",
     "shell.execute_reply": "2022-01-30T17:06:38.327294Z"
    },
    "trusted": true
   },
   "execution_count": 47,
   "outputs": [
    {
     "data": {
      "application/vnd.plotly.v1+json": {
       "data": [
        {
         "hovertemplate": "age_18_24_rate=%{x}<br>solar_systems_per_thousand_households=%{y}<extra></extra>",
         "legendgroup": "",
         "marker": {
          "color": "CornflowerBlue",
          "symbol": "circle"
         },
         "mode": "markers",
         "name": "",
         "orientation": "v",
         "showlegend": false,
         "x": [
          0.018967381565449998,
          0.029858864721899997,
          0.0358596134283,
          0.040448824047799994,
          0.0447227191413,
          0.0478653011957,
          0.0510698235068,
          0.0537307765331,
          0.05631486852265,
          0.0585703592814,
          0.06085029762635,
          0.0628954224042,
          0.0648222624258,
          0.06680064783094994,
          0.0686363636364,
          0.070397308999,
          0.0722533817222,
          0.07360450602174995,
          0.0753156290813999,
          0.07701453204744996,
          0.07873206359169996,
          0.0802861685215,
          0.08168417761954999,
          0.0830310358726,
          0.08430055365604995,
          0.08591442672674995,
          0.0872065165309,
          0.08864403684429994,
          0.0898263739417,
          0.0913011305114,
          0.0928319623972,
          0.09433258482484999,
          0.09567744870055,
          0.0971991125901,
          0.0986670191004,
          0.1,
          0.101392111369,
          0.102899401925,
          0.1044364860055,
          0.105733691241,
          0.107167329039,
          0.1083941730665,
          0.109860664523,
          0.111479532244,
          0.11296959917300001,
          0.11445636275,
          0.1162149991385,
          0.118243243243,
          0.11968711880749999,
          0.121338289963,
          0.1229561872745,
          0.12523245669799998,
          0.127213420317,
          0.1293670810305,
          0.131587202008,
          0.133977538917,
          0.137456116662,
          0.14068021222799998,
          0.144855164702,
          0.149340770791,
          0.15779564282949995,
          0.169361132791,
          0.198282652746,
          0.43381600853650004
         ],
         "xaxis": "x",
         "y": [
          24.11928183151316,
          34.93987085351619,
          37.05722070844686,
          39.50221286963095,
          38.523274478330656,
          40.58244182832939,
          41.932584715171004,
          37.59398496240601,
          39.594826487390144,
          43.90725209669463,
          51.4914836716934,
          42.93381037567084,
          50.67798513893757,
          40.544427746207674,
          33.852403520649965,
          38.68215475774686,
          42.09183673469388,
          53.55906566831513,
          38.475368572455956,
          31.31606426129768,
          38.847666831554896,
          32.90574456218628,
          48.34014161220043,
          29.949238578680205,
          47.55027813436029,
          36.66803920895813,
          33.057851239669425,
          47.81314699792961,
          50.474762618690654,
          40.87631118881119,
          39.49667948269836,
          39.041979232687865,
          40.328170916674566,
          30.483271375464682,
          30.70036696030474,
          33.84872544922691,
          29.78187919463087,
          32.636968766001026,
          38.25127440140375,
          33.05949652443465,
          37.46253746253746,
          41.25482371062267,
          30.94688221709007,
          29.45606249326405,
          27.882176048237227,
          31.69014084507042,
          29.052017097132044,
          31.02086858432036,
          24.378329554461835,
          32.832498608792434,
          26.343478251671172,
          27.132745956207913,
          26.96272799365583,
          26.86559585526732,
          25.986078886310906,
          21.198370623296494,
          27.17391304347826,
          27.76747062461348,
          22.082081736122486,
          22.5752508361204,
          20.935825464919215,
          18.85369532428356,
          22.820290548860036,
          25.22496786845621
         ],
         "yaxis": "y",
         "type": "scatter"
        },
        {
         "hovertemplate": "<b>OLS trendline</b><br>solar_systems_per_thousand_households = -77.4796 * age_18_24_rate + 42.3513<br>R<sup>2</sup>=0.260842<br><br>age_18_24_rate=%{x}<br>solar_systems_per_thousand_households=%{y} <b>(trend)</b><extra></extra>",
         "legendgroup": "",
         "line": {
          "color": "CornflowerBlue"
         },
         "marker": {
          "color": "CornflowerBlue",
          "symbol": "circle"
         },
         "mode": "lines",
         "name": "",
         "showlegend": false,
         "x": [
          0.018967381565449998,
          0.029858864721899997,
          0.0358596134283,
          0.040448824047799994,
          0.0447227191413,
          0.0478653011957,
          0.0510698235068,
          0.0537307765331,
          0.05631486852265,
          0.0585703592814,
          0.06085029762635,
          0.0628954224042,
          0.0648222624258,
          0.06680064783094994,
          0.0686363636364,
          0.070397308999,
          0.0722533817222,
          0.07360450602174995,
          0.0753156290813999,
          0.07701453204744996,
          0.07873206359169996,
          0.0802861685215,
          0.08168417761954999,
          0.0830310358726,
          0.08430055365604995,
          0.08591442672674995,
          0.0872065165309,
          0.08864403684429994,
          0.0898263739417,
          0.0913011305114,
          0.0928319623972,
          0.09433258482484999,
          0.09567744870055,
          0.0971991125901,
          0.0986670191004,
          0.1,
          0.101392111369,
          0.102899401925,
          0.1044364860055,
          0.105733691241,
          0.107167329039,
          0.1083941730665,
          0.109860664523,
          0.111479532244,
          0.11296959917300001,
          0.11445636275,
          0.1162149991385,
          0.118243243243,
          0.11968711880749999,
          0.121338289963,
          0.1229561872745,
          0.12523245669799998,
          0.127213420317,
          0.1293670810305,
          0.131587202008,
          0.133977538917,
          0.137456116662,
          0.14068021222799998,
          0.144855164702,
          0.149340770791,
          0.15779564282949995,
          0.169361132791,
          0.198282652746,
          0.43381600853650004
         ],
         "xaxis": "x",
         "y": [
          40.88172857271331,
          40.037861003817646,
          39.5729254987368,
          39.21735537545803,
          38.88621576752216,
          38.64272982164975,
          38.39444477054187,
          38.18827524073641,
          37.98806087197683,
          37.81330638942264,
          37.63665771809402,
          37.47820230393397,
          37.32891154331653,
          37.1756270678965,
          37.03339657351143,
          36.89695926182947,
          36.75315152195405,
          36.64846697517937,
          36.51588987473433,
          36.38425958204079,
          36.251185954883816,
          36.130774553600745,
          36.022457392207826,
          35.91810337693533,
          35.819741668965804,
          35.69469945707281,
          35.59458887836092,
          35.48321040449453,
          35.39160341969124,
          35.277339896229,
          35.158731680680965,
          35.04246408134107,
          34.9382645895932,
          34.82036670656793,
          34.706633922848816,
          34.60335511912926,
          34.495494911321444,
          34.37871066818025,
          34.2596180351965,
          34.15911111499878,
          34.04803345680503,
          33.952978093634634,
          33.839354947693295,
          33.71392575237981,
          33.59847598866949,
          33.48328216729333,
          33.34702375396088,
          33.189876247326055,
          33.078005371257085,
          32.950073319321874,
          32.8247193109314,
          32.64835490610533,
          32.49487067175234,
          32.32800593860063,
          32.15599189193448,
          31.97078958594323,
          31.70127083420653,
          31.4514692554788,
          31.127995680403497,
          30.780452792903702,
          30.125372836394053,
          29.22928350157114,
          26.988456207196652,
          8.73943011132836
         ],
         "yaxis": "y",
         "type": "scatter"
        }
       ],
       "layout": {
        "template": {
         "data": {
          "bar": [
           {
            "error_x": {
             "color": "#2a3f5f"
            },
            "error_y": {
             "color": "#2a3f5f"
            },
            "marker": {
             "line": {
              "color": "#E5ECF6",
              "width": 0.5
             },
             "pattern": {
              "fillmode": "overlay",
              "size": 10,
              "solidity": 0.2
             }
            },
            "type": "bar"
           }
          ],
          "barpolar": [
           {
            "marker": {
             "line": {
              "color": "#E5ECF6",
              "width": 0.5
             },
             "pattern": {
              "fillmode": "overlay",
              "size": 10,
              "solidity": 0.2
             }
            },
            "type": "barpolar"
           }
          ],
          "carpet": [
           {
            "aaxis": {
             "endlinecolor": "#2a3f5f",
             "gridcolor": "white",
             "linecolor": "white",
             "minorgridcolor": "white",
             "startlinecolor": "#2a3f5f"
            },
            "baxis": {
             "endlinecolor": "#2a3f5f",
             "gridcolor": "white",
             "linecolor": "white",
             "minorgridcolor": "white",
             "startlinecolor": "#2a3f5f"
            },
            "type": "carpet"
           }
          ],
          "choropleth": [
           {
            "colorbar": {
             "outlinewidth": 0,
             "ticks": ""
            },
            "type": "choropleth"
           }
          ],
          "contour": [
           {
            "colorbar": {
             "outlinewidth": 0,
             "ticks": ""
            },
            "colorscale": [
             [
              0.0,
              "#0d0887"
             ],
             [
              0.1111111111111111,
              "#46039f"
             ],
             [
              0.2222222222222222,
              "#7201a8"
             ],
             [
              0.3333333333333333,
              "#9c179e"
             ],
             [
              0.4444444444444444,
              "#bd3786"
             ],
             [
              0.5555555555555556,
              "#d8576b"
             ],
             [
              0.6666666666666666,
              "#ed7953"
             ],
             [
              0.7777777777777778,
              "#fb9f3a"
             ],
             [
              0.8888888888888888,
              "#fdca26"
             ],
             [
              1.0,
              "#f0f921"
             ]
            ],
            "type": "contour"
           }
          ],
          "contourcarpet": [
           {
            "colorbar": {
             "outlinewidth": 0,
             "ticks": ""
            },
            "type": "contourcarpet"
           }
          ],
          "heatmap": [
           {
            "colorbar": {
             "outlinewidth": 0,
             "ticks": ""
            },
            "colorscale": [
             [
              0.0,
              "#0d0887"
             ],
             [
              0.1111111111111111,
              "#46039f"
             ],
             [
              0.2222222222222222,
              "#7201a8"
             ],
             [
              0.3333333333333333,
              "#9c179e"
             ],
             [
              0.4444444444444444,
              "#bd3786"
             ],
             [
              0.5555555555555556,
              "#d8576b"
             ],
             [
              0.6666666666666666,
              "#ed7953"
             ],
             [
              0.7777777777777778,
              "#fb9f3a"
             ],
             [
              0.8888888888888888,
              "#fdca26"
             ],
             [
              1.0,
              "#f0f921"
             ]
            ],
            "type": "heatmap"
           }
          ],
          "heatmapgl": [
           {
            "colorbar": {
             "outlinewidth": 0,
             "ticks": ""
            },
            "colorscale": [
             [
              0.0,
              "#0d0887"
             ],
             [
              0.1111111111111111,
              "#46039f"
             ],
             [
              0.2222222222222222,
              "#7201a8"
             ],
             [
              0.3333333333333333,
              "#9c179e"
             ],
             [
              0.4444444444444444,
              "#bd3786"
             ],
             [
              0.5555555555555556,
              "#d8576b"
             ],
             [
              0.6666666666666666,
              "#ed7953"
             ],
             [
              0.7777777777777778,
              "#fb9f3a"
             ],
             [
              0.8888888888888888,
              "#fdca26"
             ],
             [
              1.0,
              "#f0f921"
             ]
            ],
            "type": "heatmapgl"
           }
          ],
          "histogram": [
           {
            "marker": {
             "pattern": {
              "fillmode": "overlay",
              "size": 10,
              "solidity": 0.2
             }
            },
            "type": "histogram"
           }
          ],
          "histogram2d": [
           {
            "colorbar": {
             "outlinewidth": 0,
             "ticks": ""
            },
            "colorscale": [
             [
              0.0,
              "#0d0887"
             ],
             [
              0.1111111111111111,
              "#46039f"
             ],
             [
              0.2222222222222222,
              "#7201a8"
             ],
             [
              0.3333333333333333,
              "#9c179e"
             ],
             [
              0.4444444444444444,
              "#bd3786"
             ],
             [
              0.5555555555555556,
              "#d8576b"
             ],
             [
              0.6666666666666666,
              "#ed7953"
             ],
             [
              0.7777777777777778,
              "#fb9f3a"
             ],
             [
              0.8888888888888888,
              "#fdca26"
             ],
             [
              1.0,
              "#f0f921"
             ]
            ],
            "type": "histogram2d"
           }
          ],
          "histogram2dcontour": [
           {
            "colorbar": {
             "outlinewidth": 0,
             "ticks": ""
            },
            "colorscale": [
             [
              0.0,
              "#0d0887"
             ],
             [
              0.1111111111111111,
              "#46039f"
             ],
             [
              0.2222222222222222,
              "#7201a8"
             ],
             [
              0.3333333333333333,
              "#9c179e"
             ],
             [
              0.4444444444444444,
              "#bd3786"
             ],
             [
              0.5555555555555556,
              "#d8576b"
             ],
             [
              0.6666666666666666,
              "#ed7953"
             ],
             [
              0.7777777777777778,
              "#fb9f3a"
             ],
             [
              0.8888888888888888,
              "#fdca26"
             ],
             [
              1.0,
              "#f0f921"
             ]
            ],
            "type": "histogram2dcontour"
           }
          ],
          "mesh3d": [
           {
            "colorbar": {
             "outlinewidth": 0,
             "ticks": ""
            },
            "type": "mesh3d"
           }
          ],
          "parcoords": [
           {
            "line": {
             "colorbar": {
              "outlinewidth": 0,
              "ticks": ""
             }
            },
            "type": "parcoords"
           }
          ],
          "pie": [
           {
            "automargin": true,
            "type": "pie"
           }
          ],
          "scatter": [
           {
            "marker": {
             "colorbar": {
              "outlinewidth": 0,
              "ticks": ""
             }
            },
            "type": "scatter"
           }
          ],
          "scatter3d": [
           {
            "line": {
             "colorbar": {
              "outlinewidth": 0,
              "ticks": ""
             }
            },
            "marker": {
             "colorbar": {
              "outlinewidth": 0,
              "ticks": ""
             }
            },
            "type": "scatter3d"
           }
          ],
          "scattercarpet": [
           {
            "marker": {
             "colorbar": {
              "outlinewidth": 0,
              "ticks": ""
             }
            },
            "type": "scattercarpet"
           }
          ],
          "scattergeo": [
           {
            "marker": {
             "colorbar": {
              "outlinewidth": 0,
              "ticks": ""
             }
            },
            "type": "scattergeo"
           }
          ],
          "scattergl": [
           {
            "marker": {
             "colorbar": {
              "outlinewidth": 0,
              "ticks": ""
             }
            },
            "type": "scattergl"
           }
          ],
          "scattermapbox": [
           {
            "marker": {
             "colorbar": {
              "outlinewidth": 0,
              "ticks": ""
             }
            },
            "type": "scattermapbox"
           }
          ],
          "scatterpolar": [
           {
            "marker": {
             "colorbar": {
              "outlinewidth": 0,
              "ticks": ""
             }
            },
            "type": "scatterpolar"
           }
          ],
          "scatterpolargl": [
           {
            "marker": {
             "colorbar": {
              "outlinewidth": 0,
              "ticks": ""
             }
            },
            "type": "scatterpolargl"
           }
          ],
          "scatterternary": [
           {
            "marker": {
             "colorbar": {
              "outlinewidth": 0,
              "ticks": ""
             }
            },
            "type": "scatterternary"
           }
          ],
          "surface": [
           {
            "colorbar": {
             "outlinewidth": 0,
             "ticks": ""
            },
            "colorscale": [
             [
              0.0,
              "#0d0887"
             ],
             [
              0.1111111111111111,
              "#46039f"
             ],
             [
              0.2222222222222222,
              "#7201a8"
             ],
             [
              0.3333333333333333,
              "#9c179e"
             ],
             [
              0.4444444444444444,
              "#bd3786"
             ],
             [
              0.5555555555555556,
              "#d8576b"
             ],
             [
              0.6666666666666666,
              "#ed7953"
             ],
             [
              0.7777777777777778,
              "#fb9f3a"
             ],
             [
              0.8888888888888888,
              "#fdca26"
             ],
             [
              1.0,
              "#f0f921"
             ]
            ],
            "type": "surface"
           }
          ],
          "table": [
           {
            "cells": {
             "fill": {
              "color": "#EBF0F8"
             },
             "line": {
              "color": "white"
             }
            },
            "header": {
             "fill": {
              "color": "#C8D4E3"
             },
             "line": {
              "color": "white"
             }
            },
            "type": "table"
           }
          ]
         },
         "layout": {
          "annotationdefaults": {
           "arrowcolor": "#2a3f5f",
           "arrowhead": 0,
           "arrowwidth": 1
          },
          "autotypenumbers": "strict",
          "coloraxis": {
           "colorbar": {
            "outlinewidth": 0,
            "ticks": ""
           }
          },
          "colorscale": {
           "diverging": [
            [
             0,
             "#8e0152"
            ],
            [
             0.1,
             "#c51b7d"
            ],
            [
             0.2,
             "#de77ae"
            ],
            [
             0.3,
             "#f1b6da"
            ],
            [
             0.4,
             "#fde0ef"
            ],
            [
             0.5,
             "#f7f7f7"
            ],
            [
             0.6,
             "#e6f5d0"
            ],
            [
             0.7,
             "#b8e186"
            ],
            [
             0.8,
             "#7fbc41"
            ],
            [
             0.9,
             "#4d9221"
            ],
            [
             1,
             "#276419"
            ]
           ],
           "sequential": [
            [
             0.0,
             "#0d0887"
            ],
            [
             0.1111111111111111,
             "#46039f"
            ],
            [
             0.2222222222222222,
             "#7201a8"
            ],
            [
             0.3333333333333333,
             "#9c179e"
            ],
            [
             0.4444444444444444,
             "#bd3786"
            ],
            [
             0.5555555555555556,
             "#d8576b"
            ],
            [
             0.6666666666666666,
             "#ed7953"
            ],
            [
             0.7777777777777778,
             "#fb9f3a"
            ],
            [
             0.8888888888888888,
             "#fdca26"
            ],
            [
             1.0,
             "#f0f921"
            ]
           ],
           "sequentialminus": [
            [
             0.0,
             "#0d0887"
            ],
            [
             0.1111111111111111,
             "#46039f"
            ],
            [
             0.2222222222222222,
             "#7201a8"
            ],
            [
             0.3333333333333333,
             "#9c179e"
            ],
            [
             0.4444444444444444,
             "#bd3786"
            ],
            [
             0.5555555555555556,
             "#d8576b"
            ],
            [
             0.6666666666666666,
             "#ed7953"
            ],
            [
             0.7777777777777778,
             "#fb9f3a"
            ],
            [
             0.8888888888888888,
             "#fdca26"
            ],
            [
             1.0,
             "#f0f921"
            ]
           ]
          },
          "colorway": [
           "#636efa",
           "#EF553B",
           "#00cc96",
           "#ab63fa",
           "#FFA15A",
           "#19d3f3",
           "#FF6692",
           "#B6E880",
           "#FF97FF",
           "#FECB52"
          ],
          "font": {
           "color": "#2a3f5f"
          },
          "geo": {
           "bgcolor": "white",
           "lakecolor": "white",
           "landcolor": "#E5ECF6",
           "showlakes": true,
           "showland": true,
           "subunitcolor": "white"
          },
          "hoverlabel": {
           "align": "left"
          },
          "hovermode": "closest",
          "mapbox": {
           "style": "light"
          },
          "paper_bgcolor": "white",
          "plot_bgcolor": "#E5ECF6",
          "polar": {
           "angularaxis": {
            "gridcolor": "white",
            "linecolor": "white",
            "ticks": ""
           },
           "bgcolor": "#E5ECF6",
           "radialaxis": {
            "gridcolor": "white",
            "linecolor": "white",
            "ticks": ""
           }
          },
          "scene": {
           "xaxis": {
            "backgroundcolor": "#E5ECF6",
            "gridcolor": "white",
            "gridwidth": 2,
            "linecolor": "white",
            "showbackground": true,
            "ticks": "",
            "zerolinecolor": "white"
           },
           "yaxis": {
            "backgroundcolor": "#E5ECF6",
            "gridcolor": "white",
            "gridwidth": 2,
            "linecolor": "white",
            "showbackground": true,
            "ticks": "",
            "zerolinecolor": "white"
           },
           "zaxis": {
            "backgroundcolor": "#E5ECF6",
            "gridcolor": "white",
            "gridwidth": 2,
            "linecolor": "white",
            "showbackground": true,
            "ticks": "",
            "zerolinecolor": "white"
           }
          },
          "shapedefaults": {
           "line": {
            "color": "#2a3f5f"
           }
          },
          "ternary": {
           "aaxis": {
            "gridcolor": "white",
            "linecolor": "white",
            "ticks": ""
           },
           "baxis": {
            "gridcolor": "white",
            "linecolor": "white",
            "ticks": ""
           },
           "bgcolor": "#E5ECF6",
           "caxis": {
            "gridcolor": "white",
            "linecolor": "white",
            "ticks": ""
           }
          },
          "title": {
           "x": 0.05
          },
          "xaxis": {
           "automargin": true,
           "gridcolor": "white",
           "linecolor": "white",
           "ticks": "",
           "title": {
            "standoff": 15
           },
           "zerolinecolor": "white",
           "zerolinewidth": 2
          },
          "yaxis": {
           "automargin": true,
           "gridcolor": "white",
           "linecolor": "white",
           "ticks": "",
           "title": {
            "standoff": 15
           },
           "zerolinecolor": "white",
           "zerolinewidth": 2
          }
         }
        },
        "xaxis": {
         "anchor": "y",
         "domain": [
          0.0,
          1.0
         ],
         "title": {
          "text": "age_18_24_rate"
         }
        },
        "yaxis": {
         "anchor": "x",
         "domain": [
          0.0,
          1.0
         ],
         "title": {
          "text": "solar_systems_per_thousand_households"
         }
        },
        "legend": {
         "tracegroupgap": 0
        },
        "margin": {
         "t": 60
        }
       },
       "config": {
        "plotlyServerURL": "https://plot.ly"
       }
      },
      "text/html": "<div>                            <div id=\"01c1d870-4bed-445d-be6d-4f797e859cb2\" class=\"plotly-graph-div\" style=\"height:525px; width:100%;\"></div>            <script type=\"text/javascript\">                require([\"plotly\"], function(Plotly) {                    window.PLOTLYENV=window.PLOTLYENV || {};                                    if (document.getElementById(\"01c1d870-4bed-445d-be6d-4f797e859cb2\")) {                    Plotly.newPlot(                        \"01c1d870-4bed-445d-be6d-4f797e859cb2\",                        [{\"hovertemplate\":\"age_18_24_rate=%{x}<br>solar_systems_per_thousand_households=%{y}<extra></extra>\",\"legendgroup\":\"\",\"marker\":{\"color\":\"CornflowerBlue\",\"symbol\":\"circle\"},\"mode\":\"markers\",\"name\":\"\",\"orientation\":\"v\",\"showlegend\":false,\"x\":[0.018967381565449998,0.029858864721899997,0.0358596134283,0.040448824047799994,0.0447227191413,0.0478653011957,0.0510698235068,0.0537307765331,0.05631486852265,0.0585703592814,0.06085029762635,0.0628954224042,0.0648222624258,0.06680064783094994,0.0686363636364,0.070397308999,0.0722533817222,0.07360450602174995,0.0753156290813999,0.07701453204744996,0.07873206359169996,0.0802861685215,0.08168417761954999,0.0830310358726,0.08430055365604995,0.08591442672674995,0.0872065165309,0.08864403684429994,0.0898263739417,0.0913011305114,0.0928319623972,0.09433258482484999,0.09567744870055,0.0971991125901,0.0986670191004,0.1,0.101392111369,0.102899401925,0.1044364860055,0.105733691241,0.107167329039,0.1083941730665,0.109860664523,0.111479532244,0.11296959917300001,0.11445636275,0.1162149991385,0.118243243243,0.11968711880749999,0.121338289963,0.1229561872745,0.12523245669799998,0.127213420317,0.1293670810305,0.131587202008,0.133977538917,0.137456116662,0.14068021222799998,0.144855164702,0.149340770791,0.15779564282949995,0.169361132791,0.198282652746,0.43381600853650004],\"xaxis\":\"x\",\"y\":[24.11928183151316,34.93987085351619,37.05722070844686,39.50221286963095,38.523274478330656,40.58244182832939,41.932584715171004,37.59398496240601,39.594826487390144,43.90725209669463,51.4914836716934,42.93381037567084,50.67798513893757,40.544427746207674,33.852403520649965,38.68215475774686,42.09183673469388,53.55906566831513,38.475368572455956,31.31606426129768,38.847666831554896,32.90574456218628,48.34014161220043,29.949238578680205,47.55027813436029,36.66803920895813,33.057851239669425,47.81314699792961,50.474762618690654,40.87631118881119,39.49667948269836,39.041979232687865,40.328170916674566,30.483271375464682,30.70036696030474,33.84872544922691,29.78187919463087,32.636968766001026,38.25127440140375,33.05949652443465,37.46253746253746,41.25482371062267,30.94688221709007,29.45606249326405,27.882176048237227,31.69014084507042,29.052017097132044,31.02086858432036,24.378329554461835,32.832498608792434,26.343478251671172,27.132745956207913,26.96272799365583,26.86559585526732,25.986078886310906,21.198370623296494,27.17391304347826,27.76747062461348,22.082081736122486,22.5752508361204,20.935825464919215,18.85369532428356,22.820290548860036,25.22496786845621],\"yaxis\":\"y\",\"type\":\"scatter\"},{\"hovertemplate\":\"<b>OLS trendline</b><br>solar_systems_per_thousand_households = -77.4796 * age_18_24_rate + 42.3513<br>R<sup>2</sup>=0.260842<br><br>age_18_24_rate=%{x}<br>solar_systems_per_thousand_households=%{y} <b>(trend)</b><extra></extra>\",\"legendgroup\":\"\",\"line\":{\"color\":\"CornflowerBlue\"},\"marker\":{\"color\":\"CornflowerBlue\",\"symbol\":\"circle\"},\"mode\":\"lines\",\"name\":\"\",\"showlegend\":false,\"x\":[0.018967381565449998,0.029858864721899997,0.0358596134283,0.040448824047799994,0.0447227191413,0.0478653011957,0.0510698235068,0.0537307765331,0.05631486852265,0.0585703592814,0.06085029762635,0.0628954224042,0.0648222624258,0.06680064783094994,0.0686363636364,0.070397308999,0.0722533817222,0.07360450602174995,0.0753156290813999,0.07701453204744996,0.07873206359169996,0.0802861685215,0.08168417761954999,0.0830310358726,0.08430055365604995,0.08591442672674995,0.0872065165309,0.08864403684429994,0.0898263739417,0.0913011305114,0.0928319623972,0.09433258482484999,0.09567744870055,0.0971991125901,0.0986670191004,0.1,0.101392111369,0.102899401925,0.1044364860055,0.105733691241,0.107167329039,0.1083941730665,0.109860664523,0.111479532244,0.11296959917300001,0.11445636275,0.1162149991385,0.118243243243,0.11968711880749999,0.121338289963,0.1229561872745,0.12523245669799998,0.127213420317,0.1293670810305,0.131587202008,0.133977538917,0.137456116662,0.14068021222799998,0.144855164702,0.149340770791,0.15779564282949995,0.169361132791,0.198282652746,0.43381600853650004],\"xaxis\":\"x\",\"y\":[40.88172857271331,40.037861003817646,39.5729254987368,39.21735537545803,38.88621576752216,38.64272982164975,38.39444477054187,38.18827524073641,37.98806087197683,37.81330638942264,37.63665771809402,37.47820230393397,37.32891154331653,37.1756270678965,37.03339657351143,36.89695926182947,36.75315152195405,36.64846697517937,36.51588987473433,36.38425958204079,36.251185954883816,36.130774553600745,36.022457392207826,35.91810337693533,35.819741668965804,35.69469945707281,35.59458887836092,35.48321040449453,35.39160341969124,35.277339896229,35.158731680680965,35.04246408134107,34.9382645895932,34.82036670656793,34.706633922848816,34.60335511912926,34.495494911321444,34.37871066818025,34.2596180351965,34.15911111499878,34.04803345680503,33.952978093634634,33.839354947693295,33.71392575237981,33.59847598866949,33.48328216729333,33.34702375396088,33.189876247326055,33.078005371257085,32.950073319321874,32.8247193109314,32.64835490610533,32.49487067175234,32.32800593860063,32.15599189193448,31.97078958594323,31.70127083420653,31.4514692554788,31.127995680403497,30.780452792903702,30.125372836394053,29.22928350157114,26.988456207196652,8.73943011132836],\"yaxis\":\"y\",\"type\":\"scatter\"}],                        {\"template\":{\"data\":{\"bar\":[{\"error_x\":{\"color\":\"#2a3f5f\"},\"error_y\":{\"color\":\"#2a3f5f\"},\"marker\":{\"line\":{\"color\":\"#E5ECF6\",\"width\":0.5},\"pattern\":{\"fillmode\":\"overlay\",\"size\":10,\"solidity\":0.2}},\"type\":\"bar\"}],\"barpolar\":[{\"marker\":{\"line\":{\"color\":\"#E5ECF6\",\"width\":0.5},\"pattern\":{\"fillmode\":\"overlay\",\"size\":10,\"solidity\":0.2}},\"type\":\"barpolar\"}],\"carpet\":[{\"aaxis\":{\"endlinecolor\":\"#2a3f5f\",\"gridcolor\":\"white\",\"linecolor\":\"white\",\"minorgridcolor\":\"white\",\"startlinecolor\":\"#2a3f5f\"},\"baxis\":{\"endlinecolor\":\"#2a3f5f\",\"gridcolor\":\"white\",\"linecolor\":\"white\",\"minorgridcolor\":\"white\",\"startlinecolor\":\"#2a3f5f\"},\"type\":\"carpet\"}],\"choropleth\":[{\"colorbar\":{\"outlinewidth\":0,\"ticks\":\"\"},\"type\":\"choropleth\"}],\"contour\":[{\"colorbar\":{\"outlinewidth\":0,\"ticks\":\"\"},\"colorscale\":[[0.0,\"#0d0887\"],[0.1111111111111111,\"#46039f\"],[0.2222222222222222,\"#7201a8\"],[0.3333333333333333,\"#9c179e\"],[0.4444444444444444,\"#bd3786\"],[0.5555555555555556,\"#d8576b\"],[0.6666666666666666,\"#ed7953\"],[0.7777777777777778,\"#fb9f3a\"],[0.8888888888888888,\"#fdca26\"],[1.0,\"#f0f921\"]],\"type\":\"contour\"}],\"contourcarpet\":[{\"colorbar\":{\"outlinewidth\":0,\"ticks\":\"\"},\"type\":\"contourcarpet\"}],\"heatmap\":[{\"colorbar\":{\"outlinewidth\":0,\"ticks\":\"\"},\"colorscale\":[[0.0,\"#0d0887\"],[0.1111111111111111,\"#46039f\"],[0.2222222222222222,\"#7201a8\"],[0.3333333333333333,\"#9c179e\"],[0.4444444444444444,\"#bd3786\"],[0.5555555555555556,\"#d8576b\"],[0.6666666666666666,\"#ed7953\"],[0.7777777777777778,\"#fb9f3a\"],[0.8888888888888888,\"#fdca26\"],[1.0,\"#f0f921\"]],\"type\":\"heatmap\"}],\"heatmapgl\":[{\"colorbar\":{\"outlinewidth\":0,\"ticks\":\"\"},\"colorscale\":[[0.0,\"#0d0887\"],[0.1111111111111111,\"#46039f\"],[0.2222222222222222,\"#7201a8\"],[0.3333333333333333,\"#9c179e\"],[0.4444444444444444,\"#bd3786\"],[0.5555555555555556,\"#d8576b\"],[0.6666666666666666,\"#ed7953\"],[0.7777777777777778,\"#fb9f3a\"],[0.8888888888888888,\"#fdca26\"],[1.0,\"#f0f921\"]],\"type\":\"heatmapgl\"}],\"histogram\":[{\"marker\":{\"pattern\":{\"fillmode\":\"overlay\",\"size\":10,\"solidity\":0.2}},\"type\":\"histogram\"}],\"histogram2d\":[{\"colorbar\":{\"outlinewidth\":0,\"ticks\":\"\"},\"colorscale\":[[0.0,\"#0d0887\"],[0.1111111111111111,\"#46039f\"],[0.2222222222222222,\"#7201a8\"],[0.3333333333333333,\"#9c179e\"],[0.4444444444444444,\"#bd3786\"],[0.5555555555555556,\"#d8576b\"],[0.6666666666666666,\"#ed7953\"],[0.7777777777777778,\"#fb9f3a\"],[0.8888888888888888,\"#fdca26\"],[1.0,\"#f0f921\"]],\"type\":\"histogram2d\"}],\"histogram2dcontour\":[{\"colorbar\":{\"outlinewidth\":0,\"ticks\":\"\"},\"colorscale\":[[0.0,\"#0d0887\"],[0.1111111111111111,\"#46039f\"],[0.2222222222222222,\"#7201a8\"],[0.3333333333333333,\"#9c179e\"],[0.4444444444444444,\"#bd3786\"],[0.5555555555555556,\"#d8576b\"],[0.6666666666666666,\"#ed7953\"],[0.7777777777777778,\"#fb9f3a\"],[0.8888888888888888,\"#fdca26\"],[1.0,\"#f0f921\"]],\"type\":\"histogram2dcontour\"}],\"mesh3d\":[{\"colorbar\":{\"outlinewidth\":0,\"ticks\":\"\"},\"type\":\"mesh3d\"}],\"parcoords\":[{\"line\":{\"colorbar\":{\"outlinewidth\":0,\"ticks\":\"\"}},\"type\":\"parcoords\"}],\"pie\":[{\"automargin\":true,\"type\":\"pie\"}],\"scatter\":[{\"marker\":{\"colorbar\":{\"outlinewidth\":0,\"ticks\":\"\"}},\"type\":\"scatter\"}],\"scatter3d\":[{\"line\":{\"colorbar\":{\"outlinewidth\":0,\"ticks\":\"\"}},\"marker\":{\"colorbar\":{\"outlinewidth\":0,\"ticks\":\"\"}},\"type\":\"scatter3d\"}],\"scattercarpet\":[{\"marker\":{\"colorbar\":{\"outlinewidth\":0,\"ticks\":\"\"}},\"type\":\"scattercarpet\"}],\"scattergeo\":[{\"marker\":{\"colorbar\":{\"outlinewidth\":0,\"ticks\":\"\"}},\"type\":\"scattergeo\"}],\"scattergl\":[{\"marker\":{\"colorbar\":{\"outlinewidth\":0,\"ticks\":\"\"}},\"type\":\"scattergl\"}],\"scattermapbox\":[{\"marker\":{\"colorbar\":{\"outlinewidth\":0,\"ticks\":\"\"}},\"type\":\"scattermapbox\"}],\"scatterpolar\":[{\"marker\":{\"colorbar\":{\"outlinewidth\":0,\"ticks\":\"\"}},\"type\":\"scatterpolar\"}],\"scatterpolargl\":[{\"marker\":{\"colorbar\":{\"outlinewidth\":0,\"ticks\":\"\"}},\"type\":\"scatterpolargl\"}],\"scatterternary\":[{\"marker\":{\"colorbar\":{\"outlinewidth\":0,\"ticks\":\"\"}},\"type\":\"scatterternary\"}],\"surface\":[{\"colorbar\":{\"outlinewidth\":0,\"ticks\":\"\"},\"colorscale\":[[0.0,\"#0d0887\"],[0.1111111111111111,\"#46039f\"],[0.2222222222222222,\"#7201a8\"],[0.3333333333333333,\"#9c179e\"],[0.4444444444444444,\"#bd3786\"],[0.5555555555555556,\"#d8576b\"],[0.6666666666666666,\"#ed7953\"],[0.7777777777777778,\"#fb9f3a\"],[0.8888888888888888,\"#fdca26\"],[1.0,\"#f0f921\"]],\"type\":\"surface\"}],\"table\":[{\"cells\":{\"fill\":{\"color\":\"#EBF0F8\"},\"line\":{\"color\":\"white\"}},\"header\":{\"fill\":{\"color\":\"#C8D4E3\"},\"line\":{\"color\":\"white\"}},\"type\":\"table\"}]},\"layout\":{\"annotationdefaults\":{\"arrowcolor\":\"#2a3f5f\",\"arrowhead\":0,\"arrowwidth\":1},\"autotypenumbers\":\"strict\",\"coloraxis\":{\"colorbar\":{\"outlinewidth\":0,\"ticks\":\"\"}},\"colorscale\":{\"diverging\":[[0,\"#8e0152\"],[0.1,\"#c51b7d\"],[0.2,\"#de77ae\"],[0.3,\"#f1b6da\"],[0.4,\"#fde0ef\"],[0.5,\"#f7f7f7\"],[0.6,\"#e6f5d0\"],[0.7,\"#b8e186\"],[0.8,\"#7fbc41\"],[0.9,\"#4d9221\"],[1,\"#276419\"]],\"sequential\":[[0.0,\"#0d0887\"],[0.1111111111111111,\"#46039f\"],[0.2222222222222222,\"#7201a8\"],[0.3333333333333333,\"#9c179e\"],[0.4444444444444444,\"#bd3786\"],[0.5555555555555556,\"#d8576b\"],[0.6666666666666666,\"#ed7953\"],[0.7777777777777778,\"#fb9f3a\"],[0.8888888888888888,\"#fdca26\"],[1.0,\"#f0f921\"]],\"sequentialminus\":[[0.0,\"#0d0887\"],[0.1111111111111111,\"#46039f\"],[0.2222222222222222,\"#7201a8\"],[0.3333333333333333,\"#9c179e\"],[0.4444444444444444,\"#bd3786\"],[0.5555555555555556,\"#d8576b\"],[0.6666666666666666,\"#ed7953\"],[0.7777777777777778,\"#fb9f3a\"],[0.8888888888888888,\"#fdca26\"],[1.0,\"#f0f921\"]]},\"colorway\":[\"#636efa\",\"#EF553B\",\"#00cc96\",\"#ab63fa\",\"#FFA15A\",\"#19d3f3\",\"#FF6692\",\"#B6E880\",\"#FF97FF\",\"#FECB52\"],\"font\":{\"color\":\"#2a3f5f\"},\"geo\":{\"bgcolor\":\"white\",\"lakecolor\":\"white\",\"landcolor\":\"#E5ECF6\",\"showlakes\":true,\"showland\":true,\"subunitcolor\":\"white\"},\"hoverlabel\":{\"align\":\"left\"},\"hovermode\":\"closest\",\"mapbox\":{\"style\":\"light\"},\"paper_bgcolor\":\"white\",\"plot_bgcolor\":\"#E5ECF6\",\"polar\":{\"angularaxis\":{\"gridcolor\":\"white\",\"linecolor\":\"white\",\"ticks\":\"\"},\"bgcolor\":\"#E5ECF6\",\"radialaxis\":{\"gridcolor\":\"white\",\"linecolor\":\"white\",\"ticks\":\"\"}},\"scene\":{\"xaxis\":{\"backgroundcolor\":\"#E5ECF6\",\"gridcolor\":\"white\",\"gridwidth\":2,\"linecolor\":\"white\",\"showbackground\":true,\"ticks\":\"\",\"zerolinecolor\":\"white\"},\"yaxis\":{\"backgroundcolor\":\"#E5ECF6\",\"gridcolor\":\"white\",\"gridwidth\":2,\"linecolor\":\"white\",\"showbackground\":true,\"ticks\":\"\",\"zerolinecolor\":\"white\"},\"zaxis\":{\"backgroundcolor\":\"#E5ECF6\",\"gridcolor\":\"white\",\"gridwidth\":2,\"linecolor\":\"white\",\"showbackground\":true,\"ticks\":\"\",\"zerolinecolor\":\"white\"}},\"shapedefaults\":{\"line\":{\"color\":\"#2a3f5f\"}},\"ternary\":{\"aaxis\":{\"gridcolor\":\"white\",\"linecolor\":\"white\",\"ticks\":\"\"},\"baxis\":{\"gridcolor\":\"white\",\"linecolor\":\"white\",\"ticks\":\"\"},\"bgcolor\":\"#E5ECF6\",\"caxis\":{\"gridcolor\":\"white\",\"linecolor\":\"white\",\"ticks\":\"\"}},\"title\":{\"x\":0.05},\"xaxis\":{\"automargin\":true,\"gridcolor\":\"white\",\"linecolor\":\"white\",\"ticks\":\"\",\"title\":{\"standoff\":15},\"zerolinecolor\":\"white\",\"zerolinewidth\":2},\"yaxis\":{\"automargin\":true,\"gridcolor\":\"white\",\"linecolor\":\"white\",\"ticks\":\"\",\"title\":{\"standoff\":15},\"zerolinecolor\":\"white\",\"zerolinewidth\":2}}},\"xaxis\":{\"anchor\":\"y\",\"domain\":[0.0,1.0],\"title\":{\"text\":\"age_18_24_rate\"}},\"yaxis\":{\"anchor\":\"x\",\"domain\":[0.0,1.0],\"title\":{\"text\":\"solar_systems_per_thousand_households\"}},\"legend\":{\"tracegroupgap\":0},\"margin\":{\"t\":60}},                        {\"responsive\": true}                    ).then(function(){\n                            \nvar gd = document.getElementById('01c1d870-4bed-445d-be6d-4f797e859cb2');\nvar x = new MutationObserver(function (mutations, observer) {{\n        var display = window.getComputedStyle(gd).display;\n        if (!display || display === 'none') {{\n            console.log([gd, 'removed!']);\n            Plotly.purge(gd);\n            observer.disconnect();\n        }}\n}});\n\n// Listen for the removal of the full notebook cells\nvar notebookContainer = gd.closest('#notebook-container');\nif (notebookContainer) {{\n    x.observe(notebookContainer, {childList: true});\n}}\n\n// Listen for the clearing of the current output cell\nvar outputEl = gd.closest('.output');\nif (outputEl) {{\n    x.observe(outputEl, {childList: true});\n}}\n\n                        })                };                });            </script>        </div>"
     },
     "metadata": {},
     "output_type": "display_data"
    },
    {
     "name": "stdout",
     "output_type": "stream",
     "text": [
      "results:  <statsmodels.regression.linear_model.RegressionResultsWrapper object at 0x7fabcf6fa070>\n",
      "alpha:  42.351313379487195\n",
      "beta:  -77.47958260357933\n",
      "p_beta:  1.618619641962017e-05\n",
      "r_squared:  0.26084241433696764\n"
     ]
    }
   ]
  },
  {
   "cell_type": "code",
   "source": [
    "hi16 = median_dataframe('age_25_34_rate_binned', 'age_25_34_rate')\n",
    "plot_scatter(hi16, 'age_25_34_rate', 'solar_systems_per_thousand_households', 'DarkSalmon', 'age_25_34')"
   ],
   "metadata": {
    "execution": {
     "iopub.status.busy": "2022-01-30T17:06:38.329099Z",
     "iopub.execute_input": "2022-01-30T17:06:38.330258Z",
     "iopub.status.idle": "2022-01-30T17:06:38.452157Z",
     "shell.execute_reply.started": "2022-01-30T17:06:38.330201Z",
     "shell.execute_reply": "2022-01-30T17:06:38.451122Z"
    },
    "trusted": true
   },
   "execution_count": 48,
   "outputs": [
    {
     "data": {
      "application/vnd.plotly.v1+json": {
       "data": [
        {
         "hovertemplate": "age_25_34_rate=%{x}<br>solar_systems_per_thousand_households=%{y}<extra></extra>",
         "legendgroup": "",
         "marker": {
          "color": "DarkSalmon",
          "symbol": "circle"
         },
         "mode": "markers",
         "name": "",
         "orientation": "v",
         "showlegend": false,
         "x": [
          0.03193845946675,
          0.045121813363999994,
          0.0541789164217,
          0.0624535799025,
          0.0684828792802,
          0.0733474290061,
          0.07825388496095,
          0.0820475847152,
          0.08616535942464995,
          0.0897477890599,
          0.09319392200820001,
          0.096499836441,
          0.09919208426305,
          0.1025324343555,
          0.105291061393,
          0.107719380084,
          0.110433847257,
          0.112669464453,
          0.114911276474,
          0.116869085255,
          0.11932301421800001,
          0.121543936491,
          0.12330440339750001,
          0.125165688317,
          0.12720437168749998,
          0.129369027123,
          0.131216470929,
          0.133113603975,
          0.13497372193,
          0.136971357887,
          0.138730853392,
          0.14072078881,
          0.14239755618049998,
          0.144180562574,
          0.14594627075549998,
          0.14780058651,
          0.149606299213,
          0.151299394802,
          0.1529666261425,
          0.154820216891,
          0.156881930855,
          0.1588905008675,
          0.160735705718,
          0.16264795968249995,
          0.165114412491,
          0.167056074766,
          0.16910338766649996,
          0.171643632774,
          0.17435839855000002,
          0.177197563098,
          0.179985994398,
          0.18276196810450002,
          0.186399016796,
          0.19068292241,
          0.195707715892,
          0.2011295961635,
          0.206380368098,
          0.213501468029,
          0.222788531185,
          0.234198533782,
          0.25026337753500005,
          0.274001828711,
          0.30629855151499996,
          0.36116585377300003
         ],
         "xaxis": "x",
         "y": [
          65.97040905134901,
          86.08004043252157,
          85.40145985401459,
          80.90909373129924,
          66.32653061224491,
          67.81332506778935,
          62.12757278144396,
          72.29332410930473,
          56.88731770317091,
          60.71118820468344,
          57.996968564428386,
          54.32098765432099,
          59.21537789855117,
          54.4142201792546,
          42.60411680229775,
          48.491738071457355,
          45.18872939925571,
          54.15394090873842,
          38.58024691358025,
          45.03612587549247,
          44.4046986530666,
          47.23837209302326,
          43.98284416785805,
          32.25806451612903,
          36.38614189072905,
          41.88753000937368,
          44.59203036053131,
          41.48278947796584,
          34.68208092485549,
          32.11606733852497,
          32.832498608792434,
          31.578022887612008,
          37.22532421343518,
          32.64490339773484,
          34.37869347756323,
          28.814669286182056,
          35.18021516844814,
          32.225579053373615,
          29.570982727128907,
          32.93278963502806,
          25.896414342629484,
          20.823584146378735,
          26.94610778443114,
          33.22113762780988,
          23.90255240027045,
          27.700831024930746,
          23.66132159345309,
          25.2442996742671,
          21.714772457837185,
          26.01522842639594,
          26.379496355550877,
          25.957848477345877,
          24.87864077669903,
          18.174037663452896,
          21.93548387096774,
          19.616035885652266,
          19.594594594594597,
          16.18411665323315,
          14.74682969643776,
          12.675573826652965,
          14.376739332096475,
          11.66407465007776,
          10.436264309503747,
          6.9245451182188145
         ],
         "yaxis": "y",
         "type": "scatter"
        },
        {
         "hovertemplate": "<b>OLS trendline</b><br>solar_systems_per_thousand_households = -280.305 * age_25_34_rate + 78.9161<br>R<sup>2</sup>=0.792365<br><br>age_25_34_rate=%{x}<br>solar_systems_per_thousand_households=%{y} <b>(trend)</b><extra></extra>",
         "legendgroup": "",
         "line": {
          "color": "DarkSalmon"
         },
         "marker": {
          "color": "DarkSalmon",
          "symbol": "circle"
         },
         "mode": "lines",
         "name": "",
         "showlegend": false,
         "x": [
          0.03193845946675,
          0.045121813363999994,
          0.0541789164217,
          0.0624535799025,
          0.0684828792802,
          0.0733474290061,
          0.07825388496095,
          0.0820475847152,
          0.08616535942464995,
          0.0897477890599,
          0.09319392200820001,
          0.096499836441,
          0.09919208426305,
          0.1025324343555,
          0.105291061393,
          0.107719380084,
          0.110433847257,
          0.112669464453,
          0.114911276474,
          0.116869085255,
          0.11932301421800001,
          0.121543936491,
          0.12330440339750001,
          0.125165688317,
          0.12720437168749998,
          0.129369027123,
          0.131216470929,
          0.133113603975,
          0.13497372193,
          0.136971357887,
          0.138730853392,
          0.14072078881,
          0.14239755618049998,
          0.144180562574,
          0.14594627075549998,
          0.14780058651,
          0.149606299213,
          0.151299394802,
          0.1529666261425,
          0.154820216891,
          0.156881930855,
          0.1588905008675,
          0.160735705718,
          0.16264795968249995,
          0.165114412491,
          0.167056074766,
          0.16910338766649996,
          0.171643632774,
          0.17435839855000002,
          0.177197563098,
          0.179985994398,
          0.18276196810450002,
          0.186399016796,
          0.19068292241,
          0.195707715892,
          0.2011295961635,
          0.206380368098,
          0.213501468029,
          0.222788531185,
          0.234198533782,
          0.25026337753500005,
          0.274001828711,
          0.30629855151499996,
          0.36116585377300003
         ],
         "xaxis": "x",
         "y": [
          69.96359813246872,
          66.26823198260811,
          63.72947649473447,
          61.41004309662061,
          59.719997528445745,
          58.356437653507214,
          56.981131233559196,
          55.917736458310515,
          54.76350170191611,
          53.75932709570138,
          52.79335719575629,
          51.866691312057824,
          51.11203953329348,
          50.17572114599005,
          49.402462910345314,
          48.72179190949574,
          47.960911925222206,
          47.334256206614214,
          46.70586404470145,
          46.15707954315541,
          45.46922984309355,
          44.84669319171627,
          44.35322469614725,
          43.831496360522344,
          43.260042269526515,
          42.65327752022193,
          42.135428924358465,
          41.60365216295082,
          41.0822509338532,
          40.52230265720245,
          40.02910645078299,
          39.47131667730055,
          39.00130961912478,
          38.501523182162074,
          38.006585528564834,
          37.48681068797878,
          36.98065954836389,
          36.506075601302136,
          36.0387415444537,
          35.51916992701191,
          34.94126023478634,
          34.37824708261981,
          33.86102607821981,
          33.32501084071458,
          32.63365063831108,
          32.08939209064416,
          31.515519095225393,
          30.80347450810688,
          30.042510823780447,
          29.246677483771883,
          28.46506495045581,
          27.686944348683667,
          26.667459722486427,
          25.466657565572795,
          24.058180490001284,
          22.53839781708998,
          21.066577746217355,
          19.070494515812584,
          16.467279955558766,
          13.268993867253812,
          8.765930362297041,
          2.111912757246813,
          -6.941035159612838,
          -22.320639854945966
         ],
         "yaxis": "y",
         "type": "scatter"
        }
       ],
       "layout": {
        "template": {
         "data": {
          "bar": [
           {
            "error_x": {
             "color": "#2a3f5f"
            },
            "error_y": {
             "color": "#2a3f5f"
            },
            "marker": {
             "line": {
              "color": "#E5ECF6",
              "width": 0.5
             },
             "pattern": {
              "fillmode": "overlay",
              "size": 10,
              "solidity": 0.2
             }
            },
            "type": "bar"
           }
          ],
          "barpolar": [
           {
            "marker": {
             "line": {
              "color": "#E5ECF6",
              "width": 0.5
             },
             "pattern": {
              "fillmode": "overlay",
              "size": 10,
              "solidity": 0.2
             }
            },
            "type": "barpolar"
           }
          ],
          "carpet": [
           {
            "aaxis": {
             "endlinecolor": "#2a3f5f",
             "gridcolor": "white",
             "linecolor": "white",
             "minorgridcolor": "white",
             "startlinecolor": "#2a3f5f"
            },
            "baxis": {
             "endlinecolor": "#2a3f5f",
             "gridcolor": "white",
             "linecolor": "white",
             "minorgridcolor": "white",
             "startlinecolor": "#2a3f5f"
            },
            "type": "carpet"
           }
          ],
          "choropleth": [
           {
            "colorbar": {
             "outlinewidth": 0,
             "ticks": ""
            },
            "type": "choropleth"
           }
          ],
          "contour": [
           {
            "colorbar": {
             "outlinewidth": 0,
             "ticks": ""
            },
            "colorscale": [
             [
              0.0,
              "#0d0887"
             ],
             [
              0.1111111111111111,
              "#46039f"
             ],
             [
              0.2222222222222222,
              "#7201a8"
             ],
             [
              0.3333333333333333,
              "#9c179e"
             ],
             [
              0.4444444444444444,
              "#bd3786"
             ],
             [
              0.5555555555555556,
              "#d8576b"
             ],
             [
              0.6666666666666666,
              "#ed7953"
             ],
             [
              0.7777777777777778,
              "#fb9f3a"
             ],
             [
              0.8888888888888888,
              "#fdca26"
             ],
             [
              1.0,
              "#f0f921"
             ]
            ],
            "type": "contour"
           }
          ],
          "contourcarpet": [
           {
            "colorbar": {
             "outlinewidth": 0,
             "ticks": ""
            },
            "type": "contourcarpet"
           }
          ],
          "heatmap": [
           {
            "colorbar": {
             "outlinewidth": 0,
             "ticks": ""
            },
            "colorscale": [
             [
              0.0,
              "#0d0887"
             ],
             [
              0.1111111111111111,
              "#46039f"
             ],
             [
              0.2222222222222222,
              "#7201a8"
             ],
             [
              0.3333333333333333,
              "#9c179e"
             ],
             [
              0.4444444444444444,
              "#bd3786"
             ],
             [
              0.5555555555555556,
              "#d8576b"
             ],
             [
              0.6666666666666666,
              "#ed7953"
             ],
             [
              0.7777777777777778,
              "#fb9f3a"
             ],
             [
              0.8888888888888888,
              "#fdca26"
             ],
             [
              1.0,
              "#f0f921"
             ]
            ],
            "type": "heatmap"
           }
          ],
          "heatmapgl": [
           {
            "colorbar": {
             "outlinewidth": 0,
             "ticks": ""
            },
            "colorscale": [
             [
              0.0,
              "#0d0887"
             ],
             [
              0.1111111111111111,
              "#46039f"
             ],
             [
              0.2222222222222222,
              "#7201a8"
             ],
             [
              0.3333333333333333,
              "#9c179e"
             ],
             [
              0.4444444444444444,
              "#bd3786"
             ],
             [
              0.5555555555555556,
              "#d8576b"
             ],
             [
              0.6666666666666666,
              "#ed7953"
             ],
             [
              0.7777777777777778,
              "#fb9f3a"
             ],
             [
              0.8888888888888888,
              "#fdca26"
             ],
             [
              1.0,
              "#f0f921"
             ]
            ],
            "type": "heatmapgl"
           }
          ],
          "histogram": [
           {
            "marker": {
             "pattern": {
              "fillmode": "overlay",
              "size": 10,
              "solidity": 0.2
             }
            },
            "type": "histogram"
           }
          ],
          "histogram2d": [
           {
            "colorbar": {
             "outlinewidth": 0,
             "ticks": ""
            },
            "colorscale": [
             [
              0.0,
              "#0d0887"
             ],
             [
              0.1111111111111111,
              "#46039f"
             ],
             [
              0.2222222222222222,
              "#7201a8"
             ],
             [
              0.3333333333333333,
              "#9c179e"
             ],
             [
              0.4444444444444444,
              "#bd3786"
             ],
             [
              0.5555555555555556,
              "#d8576b"
             ],
             [
              0.6666666666666666,
              "#ed7953"
             ],
             [
              0.7777777777777778,
              "#fb9f3a"
             ],
             [
              0.8888888888888888,
              "#fdca26"
             ],
             [
              1.0,
              "#f0f921"
             ]
            ],
            "type": "histogram2d"
           }
          ],
          "histogram2dcontour": [
           {
            "colorbar": {
             "outlinewidth": 0,
             "ticks": ""
            },
            "colorscale": [
             [
              0.0,
              "#0d0887"
             ],
             [
              0.1111111111111111,
              "#46039f"
             ],
             [
              0.2222222222222222,
              "#7201a8"
             ],
             [
              0.3333333333333333,
              "#9c179e"
             ],
             [
              0.4444444444444444,
              "#bd3786"
             ],
             [
              0.5555555555555556,
              "#d8576b"
             ],
             [
              0.6666666666666666,
              "#ed7953"
             ],
             [
              0.7777777777777778,
              "#fb9f3a"
             ],
             [
              0.8888888888888888,
              "#fdca26"
             ],
             [
              1.0,
              "#f0f921"
             ]
            ],
            "type": "histogram2dcontour"
           }
          ],
          "mesh3d": [
           {
            "colorbar": {
             "outlinewidth": 0,
             "ticks": ""
            },
            "type": "mesh3d"
           }
          ],
          "parcoords": [
           {
            "line": {
             "colorbar": {
              "outlinewidth": 0,
              "ticks": ""
             }
            },
            "type": "parcoords"
           }
          ],
          "pie": [
           {
            "automargin": true,
            "type": "pie"
           }
          ],
          "scatter": [
           {
            "marker": {
             "colorbar": {
              "outlinewidth": 0,
              "ticks": ""
             }
            },
            "type": "scatter"
           }
          ],
          "scatter3d": [
           {
            "line": {
             "colorbar": {
              "outlinewidth": 0,
              "ticks": ""
             }
            },
            "marker": {
             "colorbar": {
              "outlinewidth": 0,
              "ticks": ""
             }
            },
            "type": "scatter3d"
           }
          ],
          "scattercarpet": [
           {
            "marker": {
             "colorbar": {
              "outlinewidth": 0,
              "ticks": ""
             }
            },
            "type": "scattercarpet"
           }
          ],
          "scattergeo": [
           {
            "marker": {
             "colorbar": {
              "outlinewidth": 0,
              "ticks": ""
             }
            },
            "type": "scattergeo"
           }
          ],
          "scattergl": [
           {
            "marker": {
             "colorbar": {
              "outlinewidth": 0,
              "ticks": ""
             }
            },
            "type": "scattergl"
           }
          ],
          "scattermapbox": [
           {
            "marker": {
             "colorbar": {
              "outlinewidth": 0,
              "ticks": ""
             }
            },
            "type": "scattermapbox"
           }
          ],
          "scatterpolar": [
           {
            "marker": {
             "colorbar": {
              "outlinewidth": 0,
              "ticks": ""
             }
            },
            "type": "scatterpolar"
           }
          ],
          "scatterpolargl": [
           {
            "marker": {
             "colorbar": {
              "outlinewidth": 0,
              "ticks": ""
             }
            },
            "type": "scatterpolargl"
           }
          ],
          "scatterternary": [
           {
            "marker": {
             "colorbar": {
              "outlinewidth": 0,
              "ticks": ""
             }
            },
            "type": "scatterternary"
           }
          ],
          "surface": [
           {
            "colorbar": {
             "outlinewidth": 0,
             "ticks": ""
            },
            "colorscale": [
             [
              0.0,
              "#0d0887"
             ],
             [
              0.1111111111111111,
              "#46039f"
             ],
             [
              0.2222222222222222,
              "#7201a8"
             ],
             [
              0.3333333333333333,
              "#9c179e"
             ],
             [
              0.4444444444444444,
              "#bd3786"
             ],
             [
              0.5555555555555556,
              "#d8576b"
             ],
             [
              0.6666666666666666,
              "#ed7953"
             ],
             [
              0.7777777777777778,
              "#fb9f3a"
             ],
             [
              0.8888888888888888,
              "#fdca26"
             ],
             [
              1.0,
              "#f0f921"
             ]
            ],
            "type": "surface"
           }
          ],
          "table": [
           {
            "cells": {
             "fill": {
              "color": "#EBF0F8"
             },
             "line": {
              "color": "white"
             }
            },
            "header": {
             "fill": {
              "color": "#C8D4E3"
             },
             "line": {
              "color": "white"
             }
            },
            "type": "table"
           }
          ]
         },
         "layout": {
          "annotationdefaults": {
           "arrowcolor": "#2a3f5f",
           "arrowhead": 0,
           "arrowwidth": 1
          },
          "autotypenumbers": "strict",
          "coloraxis": {
           "colorbar": {
            "outlinewidth": 0,
            "ticks": ""
           }
          },
          "colorscale": {
           "diverging": [
            [
             0,
             "#8e0152"
            ],
            [
             0.1,
             "#c51b7d"
            ],
            [
             0.2,
             "#de77ae"
            ],
            [
             0.3,
             "#f1b6da"
            ],
            [
             0.4,
             "#fde0ef"
            ],
            [
             0.5,
             "#f7f7f7"
            ],
            [
             0.6,
             "#e6f5d0"
            ],
            [
             0.7,
             "#b8e186"
            ],
            [
             0.8,
             "#7fbc41"
            ],
            [
             0.9,
             "#4d9221"
            ],
            [
             1,
             "#276419"
            ]
           ],
           "sequential": [
            [
             0.0,
             "#0d0887"
            ],
            [
             0.1111111111111111,
             "#46039f"
            ],
            [
             0.2222222222222222,
             "#7201a8"
            ],
            [
             0.3333333333333333,
             "#9c179e"
            ],
            [
             0.4444444444444444,
             "#bd3786"
            ],
            [
             0.5555555555555556,
             "#d8576b"
            ],
            [
             0.6666666666666666,
             "#ed7953"
            ],
            [
             0.7777777777777778,
             "#fb9f3a"
            ],
            [
             0.8888888888888888,
             "#fdca26"
            ],
            [
             1.0,
             "#f0f921"
            ]
           ],
           "sequentialminus": [
            [
             0.0,
             "#0d0887"
            ],
            [
             0.1111111111111111,
             "#46039f"
            ],
            [
             0.2222222222222222,
             "#7201a8"
            ],
            [
             0.3333333333333333,
             "#9c179e"
            ],
            [
             0.4444444444444444,
             "#bd3786"
            ],
            [
             0.5555555555555556,
             "#d8576b"
            ],
            [
             0.6666666666666666,
             "#ed7953"
            ],
            [
             0.7777777777777778,
             "#fb9f3a"
            ],
            [
             0.8888888888888888,
             "#fdca26"
            ],
            [
             1.0,
             "#f0f921"
            ]
           ]
          },
          "colorway": [
           "#636efa",
           "#EF553B",
           "#00cc96",
           "#ab63fa",
           "#FFA15A",
           "#19d3f3",
           "#FF6692",
           "#B6E880",
           "#FF97FF",
           "#FECB52"
          ],
          "font": {
           "color": "#2a3f5f"
          },
          "geo": {
           "bgcolor": "white",
           "lakecolor": "white",
           "landcolor": "#E5ECF6",
           "showlakes": true,
           "showland": true,
           "subunitcolor": "white"
          },
          "hoverlabel": {
           "align": "left"
          },
          "hovermode": "closest",
          "mapbox": {
           "style": "light"
          },
          "paper_bgcolor": "white",
          "plot_bgcolor": "#E5ECF6",
          "polar": {
           "angularaxis": {
            "gridcolor": "white",
            "linecolor": "white",
            "ticks": ""
           },
           "bgcolor": "#E5ECF6",
           "radialaxis": {
            "gridcolor": "white",
            "linecolor": "white",
            "ticks": ""
           }
          },
          "scene": {
           "xaxis": {
            "backgroundcolor": "#E5ECF6",
            "gridcolor": "white",
            "gridwidth": 2,
            "linecolor": "white",
            "showbackground": true,
            "ticks": "",
            "zerolinecolor": "white"
           },
           "yaxis": {
            "backgroundcolor": "#E5ECF6",
            "gridcolor": "white",
            "gridwidth": 2,
            "linecolor": "white",
            "showbackground": true,
            "ticks": "",
            "zerolinecolor": "white"
           },
           "zaxis": {
            "backgroundcolor": "#E5ECF6",
            "gridcolor": "white",
            "gridwidth": 2,
            "linecolor": "white",
            "showbackground": true,
            "ticks": "",
            "zerolinecolor": "white"
           }
          },
          "shapedefaults": {
           "line": {
            "color": "#2a3f5f"
           }
          },
          "ternary": {
           "aaxis": {
            "gridcolor": "white",
            "linecolor": "white",
            "ticks": ""
           },
           "baxis": {
            "gridcolor": "white",
            "linecolor": "white",
            "ticks": ""
           },
           "bgcolor": "#E5ECF6",
           "caxis": {
            "gridcolor": "white",
            "linecolor": "white",
            "ticks": ""
           }
          },
          "title": {
           "x": 0.05
          },
          "xaxis": {
           "automargin": true,
           "gridcolor": "white",
           "linecolor": "white",
           "ticks": "",
           "title": {
            "standoff": 15
           },
           "zerolinecolor": "white",
           "zerolinewidth": 2
          },
          "yaxis": {
           "automargin": true,
           "gridcolor": "white",
           "linecolor": "white",
           "ticks": "",
           "title": {
            "standoff": 15
           },
           "zerolinecolor": "white",
           "zerolinewidth": 2
          }
         }
        },
        "xaxis": {
         "anchor": "y",
         "domain": [
          0.0,
          1.0
         ],
         "title": {
          "text": "age_25_34_rate"
         }
        },
        "yaxis": {
         "anchor": "x",
         "domain": [
          0.0,
          1.0
         ],
         "title": {
          "text": "solar_systems_per_thousand_households"
         }
        },
        "legend": {
         "tracegroupgap": 0
        },
        "margin": {
         "t": 60
        }
       },
       "config": {
        "plotlyServerURL": "https://plot.ly"
       }
      },
      "text/html": "<div>                            <div id=\"329ab357-e610-449f-84e2-829a7aca480c\" class=\"plotly-graph-div\" style=\"height:525px; width:100%;\"></div>            <script type=\"text/javascript\">                require([\"plotly\"], function(Plotly) {                    window.PLOTLYENV=window.PLOTLYENV || {};                                    if (document.getElementById(\"329ab357-e610-449f-84e2-829a7aca480c\")) {                    Plotly.newPlot(                        \"329ab357-e610-449f-84e2-829a7aca480c\",                        [{\"hovertemplate\":\"age_25_34_rate=%{x}<br>solar_systems_per_thousand_households=%{y}<extra></extra>\",\"legendgroup\":\"\",\"marker\":{\"color\":\"DarkSalmon\",\"symbol\":\"circle\"},\"mode\":\"markers\",\"name\":\"\",\"orientation\":\"v\",\"showlegend\":false,\"x\":[0.03193845946675,0.045121813363999994,0.0541789164217,0.0624535799025,0.0684828792802,0.0733474290061,0.07825388496095,0.0820475847152,0.08616535942464995,0.0897477890599,0.09319392200820001,0.096499836441,0.09919208426305,0.1025324343555,0.105291061393,0.107719380084,0.110433847257,0.112669464453,0.114911276474,0.116869085255,0.11932301421800001,0.121543936491,0.12330440339750001,0.125165688317,0.12720437168749998,0.129369027123,0.131216470929,0.133113603975,0.13497372193,0.136971357887,0.138730853392,0.14072078881,0.14239755618049998,0.144180562574,0.14594627075549998,0.14780058651,0.149606299213,0.151299394802,0.1529666261425,0.154820216891,0.156881930855,0.1588905008675,0.160735705718,0.16264795968249995,0.165114412491,0.167056074766,0.16910338766649996,0.171643632774,0.17435839855000002,0.177197563098,0.179985994398,0.18276196810450002,0.186399016796,0.19068292241,0.195707715892,0.2011295961635,0.206380368098,0.213501468029,0.222788531185,0.234198533782,0.25026337753500005,0.274001828711,0.30629855151499996,0.36116585377300003],\"xaxis\":\"x\",\"y\":[65.97040905134901,86.08004043252157,85.40145985401459,80.90909373129924,66.32653061224491,67.81332506778935,62.12757278144396,72.29332410930473,56.88731770317091,60.71118820468344,57.996968564428386,54.32098765432099,59.21537789855117,54.4142201792546,42.60411680229775,48.491738071457355,45.18872939925571,54.15394090873842,38.58024691358025,45.03612587549247,44.4046986530666,47.23837209302326,43.98284416785805,32.25806451612903,36.38614189072905,41.88753000937368,44.59203036053131,41.48278947796584,34.68208092485549,32.11606733852497,32.832498608792434,31.578022887612008,37.22532421343518,32.64490339773484,34.37869347756323,28.814669286182056,35.18021516844814,32.225579053373615,29.570982727128907,32.93278963502806,25.896414342629484,20.823584146378735,26.94610778443114,33.22113762780988,23.90255240027045,27.700831024930746,23.66132159345309,25.2442996742671,21.714772457837185,26.01522842639594,26.379496355550877,25.957848477345877,24.87864077669903,18.174037663452896,21.93548387096774,19.616035885652266,19.594594594594597,16.18411665323315,14.74682969643776,12.675573826652965,14.376739332096475,11.66407465007776,10.436264309503747,6.9245451182188145],\"yaxis\":\"y\",\"type\":\"scatter\"},{\"hovertemplate\":\"<b>OLS trendline</b><br>solar_systems_per_thousand_households = -280.305 * age_25_34_rate + 78.9161<br>R<sup>2</sup>=0.792365<br><br>age_25_34_rate=%{x}<br>solar_systems_per_thousand_households=%{y} <b>(trend)</b><extra></extra>\",\"legendgroup\":\"\",\"line\":{\"color\":\"DarkSalmon\"},\"marker\":{\"color\":\"DarkSalmon\",\"symbol\":\"circle\"},\"mode\":\"lines\",\"name\":\"\",\"showlegend\":false,\"x\":[0.03193845946675,0.045121813363999994,0.0541789164217,0.0624535799025,0.0684828792802,0.0733474290061,0.07825388496095,0.0820475847152,0.08616535942464995,0.0897477890599,0.09319392200820001,0.096499836441,0.09919208426305,0.1025324343555,0.105291061393,0.107719380084,0.110433847257,0.112669464453,0.114911276474,0.116869085255,0.11932301421800001,0.121543936491,0.12330440339750001,0.125165688317,0.12720437168749998,0.129369027123,0.131216470929,0.133113603975,0.13497372193,0.136971357887,0.138730853392,0.14072078881,0.14239755618049998,0.144180562574,0.14594627075549998,0.14780058651,0.149606299213,0.151299394802,0.1529666261425,0.154820216891,0.156881930855,0.1588905008675,0.160735705718,0.16264795968249995,0.165114412491,0.167056074766,0.16910338766649996,0.171643632774,0.17435839855000002,0.177197563098,0.179985994398,0.18276196810450002,0.186399016796,0.19068292241,0.195707715892,0.2011295961635,0.206380368098,0.213501468029,0.222788531185,0.234198533782,0.25026337753500005,0.274001828711,0.30629855151499996,0.36116585377300003],\"xaxis\":\"x\",\"y\":[69.96359813246872,66.26823198260811,63.72947649473447,61.41004309662061,59.719997528445745,58.356437653507214,56.981131233559196,55.917736458310515,54.76350170191611,53.75932709570138,52.79335719575629,51.866691312057824,51.11203953329348,50.17572114599005,49.402462910345314,48.72179190949574,47.960911925222206,47.334256206614214,46.70586404470145,46.15707954315541,45.46922984309355,44.84669319171627,44.35322469614725,43.831496360522344,43.260042269526515,42.65327752022193,42.135428924358465,41.60365216295082,41.0822509338532,40.52230265720245,40.02910645078299,39.47131667730055,39.00130961912478,38.501523182162074,38.006585528564834,37.48681068797878,36.98065954836389,36.506075601302136,36.0387415444537,35.51916992701191,34.94126023478634,34.37824708261981,33.86102607821981,33.32501084071458,32.63365063831108,32.08939209064416,31.515519095225393,30.80347450810688,30.042510823780447,29.246677483771883,28.46506495045581,27.686944348683667,26.667459722486427,25.466657565572795,24.058180490001284,22.53839781708998,21.066577746217355,19.070494515812584,16.467279955558766,13.268993867253812,8.765930362297041,2.111912757246813,-6.941035159612838,-22.320639854945966],\"yaxis\":\"y\",\"type\":\"scatter\"}],                        {\"template\":{\"data\":{\"bar\":[{\"error_x\":{\"color\":\"#2a3f5f\"},\"error_y\":{\"color\":\"#2a3f5f\"},\"marker\":{\"line\":{\"color\":\"#E5ECF6\",\"width\":0.5},\"pattern\":{\"fillmode\":\"overlay\",\"size\":10,\"solidity\":0.2}},\"type\":\"bar\"}],\"barpolar\":[{\"marker\":{\"line\":{\"color\":\"#E5ECF6\",\"width\":0.5},\"pattern\":{\"fillmode\":\"overlay\",\"size\":10,\"solidity\":0.2}},\"type\":\"barpolar\"}],\"carpet\":[{\"aaxis\":{\"endlinecolor\":\"#2a3f5f\",\"gridcolor\":\"white\",\"linecolor\":\"white\",\"minorgridcolor\":\"white\",\"startlinecolor\":\"#2a3f5f\"},\"baxis\":{\"endlinecolor\":\"#2a3f5f\",\"gridcolor\":\"white\",\"linecolor\":\"white\",\"minorgridcolor\":\"white\",\"startlinecolor\":\"#2a3f5f\"},\"type\":\"carpet\"}],\"choropleth\":[{\"colorbar\":{\"outlinewidth\":0,\"ticks\":\"\"},\"type\":\"choropleth\"}],\"contour\":[{\"colorbar\":{\"outlinewidth\":0,\"ticks\":\"\"},\"colorscale\":[[0.0,\"#0d0887\"],[0.1111111111111111,\"#46039f\"],[0.2222222222222222,\"#7201a8\"],[0.3333333333333333,\"#9c179e\"],[0.4444444444444444,\"#bd3786\"],[0.5555555555555556,\"#d8576b\"],[0.6666666666666666,\"#ed7953\"],[0.7777777777777778,\"#fb9f3a\"],[0.8888888888888888,\"#fdca26\"],[1.0,\"#f0f921\"]],\"type\":\"contour\"}],\"contourcarpet\":[{\"colorbar\":{\"outlinewidth\":0,\"ticks\":\"\"},\"type\":\"contourcarpet\"}],\"heatmap\":[{\"colorbar\":{\"outlinewidth\":0,\"ticks\":\"\"},\"colorscale\":[[0.0,\"#0d0887\"],[0.1111111111111111,\"#46039f\"],[0.2222222222222222,\"#7201a8\"],[0.3333333333333333,\"#9c179e\"],[0.4444444444444444,\"#bd3786\"],[0.5555555555555556,\"#d8576b\"],[0.6666666666666666,\"#ed7953\"],[0.7777777777777778,\"#fb9f3a\"],[0.8888888888888888,\"#fdca26\"],[1.0,\"#f0f921\"]],\"type\":\"heatmap\"}],\"heatmapgl\":[{\"colorbar\":{\"outlinewidth\":0,\"ticks\":\"\"},\"colorscale\":[[0.0,\"#0d0887\"],[0.1111111111111111,\"#46039f\"],[0.2222222222222222,\"#7201a8\"],[0.3333333333333333,\"#9c179e\"],[0.4444444444444444,\"#bd3786\"],[0.5555555555555556,\"#d8576b\"],[0.6666666666666666,\"#ed7953\"],[0.7777777777777778,\"#fb9f3a\"],[0.8888888888888888,\"#fdca26\"],[1.0,\"#f0f921\"]],\"type\":\"heatmapgl\"}],\"histogram\":[{\"marker\":{\"pattern\":{\"fillmode\":\"overlay\",\"size\":10,\"solidity\":0.2}},\"type\":\"histogram\"}],\"histogram2d\":[{\"colorbar\":{\"outlinewidth\":0,\"ticks\":\"\"},\"colorscale\":[[0.0,\"#0d0887\"],[0.1111111111111111,\"#46039f\"],[0.2222222222222222,\"#7201a8\"],[0.3333333333333333,\"#9c179e\"],[0.4444444444444444,\"#bd3786\"],[0.5555555555555556,\"#d8576b\"],[0.6666666666666666,\"#ed7953\"],[0.7777777777777778,\"#fb9f3a\"],[0.8888888888888888,\"#fdca26\"],[1.0,\"#f0f921\"]],\"type\":\"histogram2d\"}],\"histogram2dcontour\":[{\"colorbar\":{\"outlinewidth\":0,\"ticks\":\"\"},\"colorscale\":[[0.0,\"#0d0887\"],[0.1111111111111111,\"#46039f\"],[0.2222222222222222,\"#7201a8\"],[0.3333333333333333,\"#9c179e\"],[0.4444444444444444,\"#bd3786\"],[0.5555555555555556,\"#d8576b\"],[0.6666666666666666,\"#ed7953\"],[0.7777777777777778,\"#fb9f3a\"],[0.8888888888888888,\"#fdca26\"],[1.0,\"#f0f921\"]],\"type\":\"histogram2dcontour\"}],\"mesh3d\":[{\"colorbar\":{\"outlinewidth\":0,\"ticks\":\"\"},\"type\":\"mesh3d\"}],\"parcoords\":[{\"line\":{\"colorbar\":{\"outlinewidth\":0,\"ticks\":\"\"}},\"type\":\"parcoords\"}],\"pie\":[{\"automargin\":true,\"type\":\"pie\"}],\"scatter\":[{\"marker\":{\"colorbar\":{\"outlinewidth\":0,\"ticks\":\"\"}},\"type\":\"scatter\"}],\"scatter3d\":[{\"line\":{\"colorbar\":{\"outlinewidth\":0,\"ticks\":\"\"}},\"marker\":{\"colorbar\":{\"outlinewidth\":0,\"ticks\":\"\"}},\"type\":\"scatter3d\"}],\"scattercarpet\":[{\"marker\":{\"colorbar\":{\"outlinewidth\":0,\"ticks\":\"\"}},\"type\":\"scattercarpet\"}],\"scattergeo\":[{\"marker\":{\"colorbar\":{\"outlinewidth\":0,\"ticks\":\"\"}},\"type\":\"scattergeo\"}],\"scattergl\":[{\"marker\":{\"colorbar\":{\"outlinewidth\":0,\"ticks\":\"\"}},\"type\":\"scattergl\"}],\"scattermapbox\":[{\"marker\":{\"colorbar\":{\"outlinewidth\":0,\"ticks\":\"\"}},\"type\":\"scattermapbox\"}],\"scatterpolar\":[{\"marker\":{\"colorbar\":{\"outlinewidth\":0,\"ticks\":\"\"}},\"type\":\"scatterpolar\"}],\"scatterpolargl\":[{\"marker\":{\"colorbar\":{\"outlinewidth\":0,\"ticks\":\"\"}},\"type\":\"scatterpolargl\"}],\"scatterternary\":[{\"marker\":{\"colorbar\":{\"outlinewidth\":0,\"ticks\":\"\"}},\"type\":\"scatterternary\"}],\"surface\":[{\"colorbar\":{\"outlinewidth\":0,\"ticks\":\"\"},\"colorscale\":[[0.0,\"#0d0887\"],[0.1111111111111111,\"#46039f\"],[0.2222222222222222,\"#7201a8\"],[0.3333333333333333,\"#9c179e\"],[0.4444444444444444,\"#bd3786\"],[0.5555555555555556,\"#d8576b\"],[0.6666666666666666,\"#ed7953\"],[0.7777777777777778,\"#fb9f3a\"],[0.8888888888888888,\"#fdca26\"],[1.0,\"#f0f921\"]],\"type\":\"surface\"}],\"table\":[{\"cells\":{\"fill\":{\"color\":\"#EBF0F8\"},\"line\":{\"color\":\"white\"}},\"header\":{\"fill\":{\"color\":\"#C8D4E3\"},\"line\":{\"color\":\"white\"}},\"type\":\"table\"}]},\"layout\":{\"annotationdefaults\":{\"arrowcolor\":\"#2a3f5f\",\"arrowhead\":0,\"arrowwidth\":1},\"autotypenumbers\":\"strict\",\"coloraxis\":{\"colorbar\":{\"outlinewidth\":0,\"ticks\":\"\"}},\"colorscale\":{\"diverging\":[[0,\"#8e0152\"],[0.1,\"#c51b7d\"],[0.2,\"#de77ae\"],[0.3,\"#f1b6da\"],[0.4,\"#fde0ef\"],[0.5,\"#f7f7f7\"],[0.6,\"#e6f5d0\"],[0.7,\"#b8e186\"],[0.8,\"#7fbc41\"],[0.9,\"#4d9221\"],[1,\"#276419\"]],\"sequential\":[[0.0,\"#0d0887\"],[0.1111111111111111,\"#46039f\"],[0.2222222222222222,\"#7201a8\"],[0.3333333333333333,\"#9c179e\"],[0.4444444444444444,\"#bd3786\"],[0.5555555555555556,\"#d8576b\"],[0.6666666666666666,\"#ed7953\"],[0.7777777777777778,\"#fb9f3a\"],[0.8888888888888888,\"#fdca26\"],[1.0,\"#f0f921\"]],\"sequentialminus\":[[0.0,\"#0d0887\"],[0.1111111111111111,\"#46039f\"],[0.2222222222222222,\"#7201a8\"],[0.3333333333333333,\"#9c179e\"],[0.4444444444444444,\"#bd3786\"],[0.5555555555555556,\"#d8576b\"],[0.6666666666666666,\"#ed7953\"],[0.7777777777777778,\"#fb9f3a\"],[0.8888888888888888,\"#fdca26\"],[1.0,\"#f0f921\"]]},\"colorway\":[\"#636efa\",\"#EF553B\",\"#00cc96\",\"#ab63fa\",\"#FFA15A\",\"#19d3f3\",\"#FF6692\",\"#B6E880\",\"#FF97FF\",\"#FECB52\"],\"font\":{\"color\":\"#2a3f5f\"},\"geo\":{\"bgcolor\":\"white\",\"lakecolor\":\"white\",\"landcolor\":\"#E5ECF6\",\"showlakes\":true,\"showland\":true,\"subunitcolor\":\"white\"},\"hoverlabel\":{\"align\":\"left\"},\"hovermode\":\"closest\",\"mapbox\":{\"style\":\"light\"},\"paper_bgcolor\":\"white\",\"plot_bgcolor\":\"#E5ECF6\",\"polar\":{\"angularaxis\":{\"gridcolor\":\"white\",\"linecolor\":\"white\",\"ticks\":\"\"},\"bgcolor\":\"#E5ECF6\",\"radialaxis\":{\"gridcolor\":\"white\",\"linecolor\":\"white\",\"ticks\":\"\"}},\"scene\":{\"xaxis\":{\"backgroundcolor\":\"#E5ECF6\",\"gridcolor\":\"white\",\"gridwidth\":2,\"linecolor\":\"white\",\"showbackground\":true,\"ticks\":\"\",\"zerolinecolor\":\"white\"},\"yaxis\":{\"backgroundcolor\":\"#E5ECF6\",\"gridcolor\":\"white\",\"gridwidth\":2,\"linecolor\":\"white\",\"showbackground\":true,\"ticks\":\"\",\"zerolinecolor\":\"white\"},\"zaxis\":{\"backgroundcolor\":\"#E5ECF6\",\"gridcolor\":\"white\",\"gridwidth\":2,\"linecolor\":\"white\",\"showbackground\":true,\"ticks\":\"\",\"zerolinecolor\":\"white\"}},\"shapedefaults\":{\"line\":{\"color\":\"#2a3f5f\"}},\"ternary\":{\"aaxis\":{\"gridcolor\":\"white\",\"linecolor\":\"white\",\"ticks\":\"\"},\"baxis\":{\"gridcolor\":\"white\",\"linecolor\":\"white\",\"ticks\":\"\"},\"bgcolor\":\"#E5ECF6\",\"caxis\":{\"gridcolor\":\"white\",\"linecolor\":\"white\",\"ticks\":\"\"}},\"title\":{\"x\":0.05},\"xaxis\":{\"automargin\":true,\"gridcolor\":\"white\",\"linecolor\":\"white\",\"ticks\":\"\",\"title\":{\"standoff\":15},\"zerolinecolor\":\"white\",\"zerolinewidth\":2},\"yaxis\":{\"automargin\":true,\"gridcolor\":\"white\",\"linecolor\":\"white\",\"ticks\":\"\",\"title\":{\"standoff\":15},\"zerolinecolor\":\"white\",\"zerolinewidth\":2}}},\"xaxis\":{\"anchor\":\"y\",\"domain\":[0.0,1.0],\"title\":{\"text\":\"age_25_34_rate\"}},\"yaxis\":{\"anchor\":\"x\",\"domain\":[0.0,1.0],\"title\":{\"text\":\"solar_systems_per_thousand_households\"}},\"legend\":{\"tracegroupgap\":0},\"margin\":{\"t\":60}},                        {\"responsive\": true}                    ).then(function(){\n                            \nvar gd = document.getElementById('329ab357-e610-449f-84e2-829a7aca480c');\nvar x = new MutationObserver(function (mutations, observer) {{\n        var display = window.getComputedStyle(gd).display;\n        if (!display || display === 'none') {{\n            console.log([gd, 'removed!']);\n            Plotly.purge(gd);\n            observer.disconnect();\n        }}\n}});\n\n// Listen for the removal of the full notebook cells\nvar notebookContainer = gd.closest('#notebook-container');\nif (notebookContainer) {{\n    x.observe(notebookContainer, {childList: true});\n}}\n\n// Listen for the clearing of the current output cell\nvar outputEl = gd.closest('.output');\nif (outputEl) {{\n    x.observe(outputEl, {childList: true});\n}}\n\n                        })                };                });            </script>        </div>"
     },
     "metadata": {},
     "output_type": "display_data"
    },
    {
     "name": "stdout",
     "output_type": "stream",
     "text": [
      "results:  <statsmodels.regression.linear_model.RegressionResultsWrapper object at 0x7fabcf71b4f0>\n",
      "alpha:  78.91612287784044\n",
      "beta:  -280.3054654120645\n",
      "p_beta:  7.746417321020885e-23\n",
      "r_squared:  0.7923647853133677\n"
     ]
    }
   ]
  },
  {
   "cell_type": "code",
   "source": [
    "hi17 = median_dataframe('age_35_44_rate_binned', 'age_35_44_rate')\n",
    "plot_scatter(hi17, 'age_35_44_rate', 'solar_systems_per_thousand_households', 'DarkSeaGreen', 'age_35_44')"
   ],
   "metadata": {
    "execution": {
     "iopub.status.busy": "2022-01-30T17:06:38.454608Z",
     "iopub.execute_input": "2022-01-30T17:06:38.454965Z",
     "iopub.status.idle": "2022-01-30T17:06:38.574252Z",
     "shell.execute_reply.started": "2022-01-30T17:06:38.454919Z",
     "shell.execute_reply": "2022-01-30T17:06:38.572931Z"
    },
    "trusted": true
   },
   "execution_count": 49,
   "outputs": [
    {
     "data": {
      "application/vnd.plotly.v1+json": {
       "data": [
        {
         "hovertemplate": "age_35_44_rate=%{x}<br>solar_systems_per_thousand_households=%{y}<extra></extra>",
         "legendgroup": "",
         "marker": {
          "color": "DarkSeaGreen",
          "symbol": "circle"
         },
         "mode": "markers",
         "name": "",
         "orientation": "v",
         "showlegend": false,
         "x": [
          0.040601982017449995,
          0.06606513269525,
          0.0752256770311,
          0.08134723850985001,
          0.0860570236438999,
          0.0900460079754,
          0.0927413961097,
          0.0956078621693999,
          0.0981175336808,
          0.100310237849,
          0.102304174354,
          0.104381103193,
          0.106092085529,
          0.107855417213,
          0.109491469273,
          0.1109908649335,
          0.112523839797,
          0.113906116965,
          0.115357142857,
          0.1167696042855,
          0.11788596738349999,
          0.119243127454,
          0.120627092482,
          0.122054080873,
          0.12315874578,
          0.12427696461900001,
          0.125469168901,
          0.12684706954750002,
          0.128046421663,
          0.1292111926375,
          0.130504403523,
          0.1316738995175,
          0.13285358917499995,
          0.13391959799,
          0.135087426133,
          0.13649784238,
          0.13776172374200002,
          0.138941398866,
          0.1403109340125,
          0.14147740518649998,
          0.142806076854,
          0.14419129995500002,
          0.145498271456,
          0.146820589384,
          0.1480922158915,
          0.149609229624,
          0.1512049805905,
          0.152861627626,
          0.15420175167949995,
          0.156094709149,
          0.15812036306,
          0.16023827582699995,
          0.162452450213,
          0.1648888888885,
          0.167474258025,
          0.1698881417,
          0.172569444444,
          0.17561742218499998,
          0.179671928694,
          0.184271957981,
          0.189947413209,
          0.19759406194,
          0.20825034760799999,
          0.23394938894450001
         ],
         "xaxis": "x",
         "y": [
          25.15442027563696,
          32.79183164611728,
          25.990099009900987,
          40.57386323228013,
          37.61348897535668,
          35.41912632821724,
          53.30288573271393,
          32.191069574247145,
          38.82497315539193,
          37.72747447847315,
          36.54756760547767,
          36.02401601067378,
          44.5710537527049,
          45.719833247672895,
          47.36024844720497,
          31.5797289191349,
          32.16155572176515,
          40.00640193887291,
          41.97724597881522,
          48.59887274747956,
          36.86727503236702,
          36.08529250956807,
          41.29596678529063,
          44.2159383033419,
          43.61095139103897,
          40.12964338511058,
          34.507548526240114,
          41.41140892679634,
          39.48110547095319,
          45.049970960923545,
          40.0,
          34.50294642685759,
          33.26166861957371,
          36.920659858601724,
          32.27963551210716,
          36.701404621658355,
          31.37945444956567,
          43.9469320066335,
          42.104208487285945,
          33.90649855549732,
          27.598896044158234,
          31.94248384983091,
          31.558185404339252,
          24.750146052921824,
          31.68474336747893,
          33.95843892549417,
          33.676612857184196,
          26.925953627524308,
          29.12610618427507,
          27.548209366391184,
          22.95531206547914,
          28.277103179824472,
          27.877055039313795,
          28.95131422767011,
          29.323758228605627,
          25.272603820082285,
          21.863117870722434,
          22.967857411940166,
          28.26084381875549,
          26.442307692307693,
          26.050760387933565,
          17.7430801987225,
          19.9124892500735,
          20.02806347882066
         ],
         "yaxis": "y",
         "type": "scatter"
        },
        {
         "hovertemplate": "<b>OLS trendline</b><br>solar_systems_per_thousand_households = -127.748 * age_35_44_rate + 51.05<br>R<sup>2</sup>=0.325781<br><br>age_35_44_rate=%{x}<br>solar_systems_per_thousand_households=%{y} <b>(trend)</b><extra></extra>",
         "legendgroup": "",
         "line": {
          "color": "DarkSeaGreen"
         },
         "marker": {
          "color": "DarkSeaGreen",
          "symbol": "circle"
         },
         "mode": "lines",
         "name": "",
         "showlegend": false,
         "x": [
          0.040601982017449995,
          0.06606513269525,
          0.0752256770311,
          0.08134723850985001,
          0.0860570236438999,
          0.0900460079754,
          0.0927413961097,
          0.0956078621693999,
          0.0981175336808,
          0.100310237849,
          0.102304174354,
          0.104381103193,
          0.106092085529,
          0.107855417213,
          0.109491469273,
          0.1109908649335,
          0.112523839797,
          0.113906116965,
          0.115357142857,
          0.1167696042855,
          0.11788596738349999,
          0.119243127454,
          0.120627092482,
          0.122054080873,
          0.12315874578,
          0.12427696461900001,
          0.125469168901,
          0.12684706954750002,
          0.128046421663,
          0.1292111926375,
          0.130504403523,
          0.1316738995175,
          0.13285358917499995,
          0.13391959799,
          0.135087426133,
          0.13649784238,
          0.13776172374200002,
          0.138941398866,
          0.1403109340125,
          0.14147740518649998,
          0.142806076854,
          0.14419129995500002,
          0.145498271456,
          0.146820589384,
          0.1480922158915,
          0.149609229624,
          0.1512049805905,
          0.152861627626,
          0.15420175167949995,
          0.156094709149,
          0.15812036306,
          0.16023827582699995,
          0.162452450213,
          0.1648888888885,
          0.167474258025,
          0.1698881417,
          0.172569444444,
          0.17561742218499998,
          0.179671928694,
          0.184271957981,
          0.189947413209,
          0.19759406194,
          0.20825034760799999,
          0.23394938894450001
         ],
         "xaxis": "x",
         "y": [
          45.86313770183618,
          42.610266716403146,
          41.440023911107296,
          40.658005614481844,
          40.0563391669934,
          39.54675370534052,
          39.202422794861754,
          38.836236991921986,
          38.515631040769264,
          38.235517088704626,
          37.980795342523976,
          37.715471477277305,
          37.49689660931271,
          37.2716342077679,
          37.06263154568682,
          36.87108648901098,
          36.67525175049118,
          36.498668367291316,
          36.31330246018407,
          36.13286309284307,
          35.99024974633923,
          35.81687502646348,
          35.64007602223184,
          35.457780861967926,
          35.31666193799521,
          35.17381152396852,
          35.02150960474813,
          34.84548531417528,
          34.69227027228225,
          34.54347290798244,
          34.37826757967416,
          34.22886660270056,
          34.07816340389954,
          33.941982725066545,
          33.7927948130754,
          33.61261671393508,
          33.451158178677545,
          33.300456836504594,
          33.12550122327545,
          32.976486661595274,
          32.80675128316287,
          32.629791562403604,
          32.46282834060178,
          32.2939046407841,
          32.131456677337034,
          31.93766094414621,
          31.733806673141558,
          31.522173040561285,
          31.350974640737515,
          31.109152781883108,
          30.850379195024292,
          30.57981970784116,
          30.296962974672315,
          29.985712384531062,
          29.65543620004903,
          29.34706697002033,
          29.004535442422537,
          28.61516185376492,
          28.09720605362609,
          27.50956071510676,
          26.78453167711025,
          25.807686269893843,
          24.446365241693496,
          21.163359655514093
         ],
         "yaxis": "y",
         "type": "scatter"
        }
       ],
       "layout": {
        "template": {
         "data": {
          "bar": [
           {
            "error_x": {
             "color": "#2a3f5f"
            },
            "error_y": {
             "color": "#2a3f5f"
            },
            "marker": {
             "line": {
              "color": "#E5ECF6",
              "width": 0.5
             },
             "pattern": {
              "fillmode": "overlay",
              "size": 10,
              "solidity": 0.2
             }
            },
            "type": "bar"
           }
          ],
          "barpolar": [
           {
            "marker": {
             "line": {
              "color": "#E5ECF6",
              "width": 0.5
             },
             "pattern": {
              "fillmode": "overlay",
              "size": 10,
              "solidity": 0.2
             }
            },
            "type": "barpolar"
           }
          ],
          "carpet": [
           {
            "aaxis": {
             "endlinecolor": "#2a3f5f",
             "gridcolor": "white",
             "linecolor": "white",
             "minorgridcolor": "white",
             "startlinecolor": "#2a3f5f"
            },
            "baxis": {
             "endlinecolor": "#2a3f5f",
             "gridcolor": "white",
             "linecolor": "white",
             "minorgridcolor": "white",
             "startlinecolor": "#2a3f5f"
            },
            "type": "carpet"
           }
          ],
          "choropleth": [
           {
            "colorbar": {
             "outlinewidth": 0,
             "ticks": ""
            },
            "type": "choropleth"
           }
          ],
          "contour": [
           {
            "colorbar": {
             "outlinewidth": 0,
             "ticks": ""
            },
            "colorscale": [
             [
              0.0,
              "#0d0887"
             ],
             [
              0.1111111111111111,
              "#46039f"
             ],
             [
              0.2222222222222222,
              "#7201a8"
             ],
             [
              0.3333333333333333,
              "#9c179e"
             ],
             [
              0.4444444444444444,
              "#bd3786"
             ],
             [
              0.5555555555555556,
              "#d8576b"
             ],
             [
              0.6666666666666666,
              "#ed7953"
             ],
             [
              0.7777777777777778,
              "#fb9f3a"
             ],
             [
              0.8888888888888888,
              "#fdca26"
             ],
             [
              1.0,
              "#f0f921"
             ]
            ],
            "type": "contour"
           }
          ],
          "contourcarpet": [
           {
            "colorbar": {
             "outlinewidth": 0,
             "ticks": ""
            },
            "type": "contourcarpet"
           }
          ],
          "heatmap": [
           {
            "colorbar": {
             "outlinewidth": 0,
             "ticks": ""
            },
            "colorscale": [
             [
              0.0,
              "#0d0887"
             ],
             [
              0.1111111111111111,
              "#46039f"
             ],
             [
              0.2222222222222222,
              "#7201a8"
             ],
             [
              0.3333333333333333,
              "#9c179e"
             ],
             [
              0.4444444444444444,
              "#bd3786"
             ],
             [
              0.5555555555555556,
              "#d8576b"
             ],
             [
              0.6666666666666666,
              "#ed7953"
             ],
             [
              0.7777777777777778,
              "#fb9f3a"
             ],
             [
              0.8888888888888888,
              "#fdca26"
             ],
             [
              1.0,
              "#f0f921"
             ]
            ],
            "type": "heatmap"
           }
          ],
          "heatmapgl": [
           {
            "colorbar": {
             "outlinewidth": 0,
             "ticks": ""
            },
            "colorscale": [
             [
              0.0,
              "#0d0887"
             ],
             [
              0.1111111111111111,
              "#46039f"
             ],
             [
              0.2222222222222222,
              "#7201a8"
             ],
             [
              0.3333333333333333,
              "#9c179e"
             ],
             [
              0.4444444444444444,
              "#bd3786"
             ],
             [
              0.5555555555555556,
              "#d8576b"
             ],
             [
              0.6666666666666666,
              "#ed7953"
             ],
             [
              0.7777777777777778,
              "#fb9f3a"
             ],
             [
              0.8888888888888888,
              "#fdca26"
             ],
             [
              1.0,
              "#f0f921"
             ]
            ],
            "type": "heatmapgl"
           }
          ],
          "histogram": [
           {
            "marker": {
             "pattern": {
              "fillmode": "overlay",
              "size": 10,
              "solidity": 0.2
             }
            },
            "type": "histogram"
           }
          ],
          "histogram2d": [
           {
            "colorbar": {
             "outlinewidth": 0,
             "ticks": ""
            },
            "colorscale": [
             [
              0.0,
              "#0d0887"
             ],
             [
              0.1111111111111111,
              "#46039f"
             ],
             [
              0.2222222222222222,
              "#7201a8"
             ],
             [
              0.3333333333333333,
              "#9c179e"
             ],
             [
              0.4444444444444444,
              "#bd3786"
             ],
             [
              0.5555555555555556,
              "#d8576b"
             ],
             [
              0.6666666666666666,
              "#ed7953"
             ],
             [
              0.7777777777777778,
              "#fb9f3a"
             ],
             [
              0.8888888888888888,
              "#fdca26"
             ],
             [
              1.0,
              "#f0f921"
             ]
            ],
            "type": "histogram2d"
           }
          ],
          "histogram2dcontour": [
           {
            "colorbar": {
             "outlinewidth": 0,
             "ticks": ""
            },
            "colorscale": [
             [
              0.0,
              "#0d0887"
             ],
             [
              0.1111111111111111,
              "#46039f"
             ],
             [
              0.2222222222222222,
              "#7201a8"
             ],
             [
              0.3333333333333333,
              "#9c179e"
             ],
             [
              0.4444444444444444,
              "#bd3786"
             ],
             [
              0.5555555555555556,
              "#d8576b"
             ],
             [
              0.6666666666666666,
              "#ed7953"
             ],
             [
              0.7777777777777778,
              "#fb9f3a"
             ],
             [
              0.8888888888888888,
              "#fdca26"
             ],
             [
              1.0,
              "#f0f921"
             ]
            ],
            "type": "histogram2dcontour"
           }
          ],
          "mesh3d": [
           {
            "colorbar": {
             "outlinewidth": 0,
             "ticks": ""
            },
            "type": "mesh3d"
           }
          ],
          "parcoords": [
           {
            "line": {
             "colorbar": {
              "outlinewidth": 0,
              "ticks": ""
             }
            },
            "type": "parcoords"
           }
          ],
          "pie": [
           {
            "automargin": true,
            "type": "pie"
           }
          ],
          "scatter": [
           {
            "marker": {
             "colorbar": {
              "outlinewidth": 0,
              "ticks": ""
             }
            },
            "type": "scatter"
           }
          ],
          "scatter3d": [
           {
            "line": {
             "colorbar": {
              "outlinewidth": 0,
              "ticks": ""
             }
            },
            "marker": {
             "colorbar": {
              "outlinewidth": 0,
              "ticks": ""
             }
            },
            "type": "scatter3d"
           }
          ],
          "scattercarpet": [
           {
            "marker": {
             "colorbar": {
              "outlinewidth": 0,
              "ticks": ""
             }
            },
            "type": "scattercarpet"
           }
          ],
          "scattergeo": [
           {
            "marker": {
             "colorbar": {
              "outlinewidth": 0,
              "ticks": ""
             }
            },
            "type": "scattergeo"
           }
          ],
          "scattergl": [
           {
            "marker": {
             "colorbar": {
              "outlinewidth": 0,
              "ticks": ""
             }
            },
            "type": "scattergl"
           }
          ],
          "scattermapbox": [
           {
            "marker": {
             "colorbar": {
              "outlinewidth": 0,
              "ticks": ""
             }
            },
            "type": "scattermapbox"
           }
          ],
          "scatterpolar": [
           {
            "marker": {
             "colorbar": {
              "outlinewidth": 0,
              "ticks": ""
             }
            },
            "type": "scatterpolar"
           }
          ],
          "scatterpolargl": [
           {
            "marker": {
             "colorbar": {
              "outlinewidth": 0,
              "ticks": ""
             }
            },
            "type": "scatterpolargl"
           }
          ],
          "scatterternary": [
           {
            "marker": {
             "colorbar": {
              "outlinewidth": 0,
              "ticks": ""
             }
            },
            "type": "scatterternary"
           }
          ],
          "surface": [
           {
            "colorbar": {
             "outlinewidth": 0,
             "ticks": ""
            },
            "colorscale": [
             [
              0.0,
              "#0d0887"
             ],
             [
              0.1111111111111111,
              "#46039f"
             ],
             [
              0.2222222222222222,
              "#7201a8"
             ],
             [
              0.3333333333333333,
              "#9c179e"
             ],
             [
              0.4444444444444444,
              "#bd3786"
             ],
             [
              0.5555555555555556,
              "#d8576b"
             ],
             [
              0.6666666666666666,
              "#ed7953"
             ],
             [
              0.7777777777777778,
              "#fb9f3a"
             ],
             [
              0.8888888888888888,
              "#fdca26"
             ],
             [
              1.0,
              "#f0f921"
             ]
            ],
            "type": "surface"
           }
          ],
          "table": [
           {
            "cells": {
             "fill": {
              "color": "#EBF0F8"
             },
             "line": {
              "color": "white"
             }
            },
            "header": {
             "fill": {
              "color": "#C8D4E3"
             },
             "line": {
              "color": "white"
             }
            },
            "type": "table"
           }
          ]
         },
         "layout": {
          "annotationdefaults": {
           "arrowcolor": "#2a3f5f",
           "arrowhead": 0,
           "arrowwidth": 1
          },
          "autotypenumbers": "strict",
          "coloraxis": {
           "colorbar": {
            "outlinewidth": 0,
            "ticks": ""
           }
          },
          "colorscale": {
           "diverging": [
            [
             0,
             "#8e0152"
            ],
            [
             0.1,
             "#c51b7d"
            ],
            [
             0.2,
             "#de77ae"
            ],
            [
             0.3,
             "#f1b6da"
            ],
            [
             0.4,
             "#fde0ef"
            ],
            [
             0.5,
             "#f7f7f7"
            ],
            [
             0.6,
             "#e6f5d0"
            ],
            [
             0.7,
             "#b8e186"
            ],
            [
             0.8,
             "#7fbc41"
            ],
            [
             0.9,
             "#4d9221"
            ],
            [
             1,
             "#276419"
            ]
           ],
           "sequential": [
            [
             0.0,
             "#0d0887"
            ],
            [
             0.1111111111111111,
             "#46039f"
            ],
            [
             0.2222222222222222,
             "#7201a8"
            ],
            [
             0.3333333333333333,
             "#9c179e"
            ],
            [
             0.4444444444444444,
             "#bd3786"
            ],
            [
             0.5555555555555556,
             "#d8576b"
            ],
            [
             0.6666666666666666,
             "#ed7953"
            ],
            [
             0.7777777777777778,
             "#fb9f3a"
            ],
            [
             0.8888888888888888,
             "#fdca26"
            ],
            [
             1.0,
             "#f0f921"
            ]
           ],
           "sequentialminus": [
            [
             0.0,
             "#0d0887"
            ],
            [
             0.1111111111111111,
             "#46039f"
            ],
            [
             0.2222222222222222,
             "#7201a8"
            ],
            [
             0.3333333333333333,
             "#9c179e"
            ],
            [
             0.4444444444444444,
             "#bd3786"
            ],
            [
             0.5555555555555556,
             "#d8576b"
            ],
            [
             0.6666666666666666,
             "#ed7953"
            ],
            [
             0.7777777777777778,
             "#fb9f3a"
            ],
            [
             0.8888888888888888,
             "#fdca26"
            ],
            [
             1.0,
             "#f0f921"
            ]
           ]
          },
          "colorway": [
           "#636efa",
           "#EF553B",
           "#00cc96",
           "#ab63fa",
           "#FFA15A",
           "#19d3f3",
           "#FF6692",
           "#B6E880",
           "#FF97FF",
           "#FECB52"
          ],
          "font": {
           "color": "#2a3f5f"
          },
          "geo": {
           "bgcolor": "white",
           "lakecolor": "white",
           "landcolor": "#E5ECF6",
           "showlakes": true,
           "showland": true,
           "subunitcolor": "white"
          },
          "hoverlabel": {
           "align": "left"
          },
          "hovermode": "closest",
          "mapbox": {
           "style": "light"
          },
          "paper_bgcolor": "white",
          "plot_bgcolor": "#E5ECF6",
          "polar": {
           "angularaxis": {
            "gridcolor": "white",
            "linecolor": "white",
            "ticks": ""
           },
           "bgcolor": "#E5ECF6",
           "radialaxis": {
            "gridcolor": "white",
            "linecolor": "white",
            "ticks": ""
           }
          },
          "scene": {
           "xaxis": {
            "backgroundcolor": "#E5ECF6",
            "gridcolor": "white",
            "gridwidth": 2,
            "linecolor": "white",
            "showbackground": true,
            "ticks": "",
            "zerolinecolor": "white"
           },
           "yaxis": {
            "backgroundcolor": "#E5ECF6",
            "gridcolor": "white",
            "gridwidth": 2,
            "linecolor": "white",
            "showbackground": true,
            "ticks": "",
            "zerolinecolor": "white"
           },
           "zaxis": {
            "backgroundcolor": "#E5ECF6",
            "gridcolor": "white",
            "gridwidth": 2,
            "linecolor": "white",
            "showbackground": true,
            "ticks": "",
            "zerolinecolor": "white"
           }
          },
          "shapedefaults": {
           "line": {
            "color": "#2a3f5f"
           }
          },
          "ternary": {
           "aaxis": {
            "gridcolor": "white",
            "linecolor": "white",
            "ticks": ""
           },
           "baxis": {
            "gridcolor": "white",
            "linecolor": "white",
            "ticks": ""
           },
           "bgcolor": "#E5ECF6",
           "caxis": {
            "gridcolor": "white",
            "linecolor": "white",
            "ticks": ""
           }
          },
          "title": {
           "x": 0.05
          },
          "xaxis": {
           "automargin": true,
           "gridcolor": "white",
           "linecolor": "white",
           "ticks": "",
           "title": {
            "standoff": 15
           },
           "zerolinecolor": "white",
           "zerolinewidth": 2
          },
          "yaxis": {
           "automargin": true,
           "gridcolor": "white",
           "linecolor": "white",
           "ticks": "",
           "title": {
            "standoff": 15
           },
           "zerolinecolor": "white",
           "zerolinewidth": 2
          }
         }
        },
        "xaxis": {
         "anchor": "y",
         "domain": [
          0.0,
          1.0
         ],
         "title": {
          "text": "age_35_44_rate"
         }
        },
        "yaxis": {
         "anchor": "x",
         "domain": [
          0.0,
          1.0
         ],
         "title": {
          "text": "solar_systems_per_thousand_households"
         }
        },
        "legend": {
         "tracegroupgap": 0
        },
        "margin": {
         "t": 60
        }
       },
       "config": {
        "plotlyServerURL": "https://plot.ly"
       }
      },
      "text/html": "<div>                            <div id=\"a74942b7-f407-4b43-98bf-dcaef654edfc\" class=\"plotly-graph-div\" style=\"height:525px; width:100%;\"></div>            <script type=\"text/javascript\">                require([\"plotly\"], function(Plotly) {                    window.PLOTLYENV=window.PLOTLYENV || {};                                    if (document.getElementById(\"a74942b7-f407-4b43-98bf-dcaef654edfc\")) {                    Plotly.newPlot(                        \"a74942b7-f407-4b43-98bf-dcaef654edfc\",                        [{\"hovertemplate\":\"age_35_44_rate=%{x}<br>solar_systems_per_thousand_households=%{y}<extra></extra>\",\"legendgroup\":\"\",\"marker\":{\"color\":\"DarkSeaGreen\",\"symbol\":\"circle\"},\"mode\":\"markers\",\"name\":\"\",\"orientation\":\"v\",\"showlegend\":false,\"x\":[0.040601982017449995,0.06606513269525,0.0752256770311,0.08134723850985001,0.0860570236438999,0.0900460079754,0.0927413961097,0.0956078621693999,0.0981175336808,0.100310237849,0.102304174354,0.104381103193,0.106092085529,0.107855417213,0.109491469273,0.1109908649335,0.112523839797,0.113906116965,0.115357142857,0.1167696042855,0.11788596738349999,0.119243127454,0.120627092482,0.122054080873,0.12315874578,0.12427696461900001,0.125469168901,0.12684706954750002,0.128046421663,0.1292111926375,0.130504403523,0.1316738995175,0.13285358917499995,0.13391959799,0.135087426133,0.13649784238,0.13776172374200002,0.138941398866,0.1403109340125,0.14147740518649998,0.142806076854,0.14419129995500002,0.145498271456,0.146820589384,0.1480922158915,0.149609229624,0.1512049805905,0.152861627626,0.15420175167949995,0.156094709149,0.15812036306,0.16023827582699995,0.162452450213,0.1648888888885,0.167474258025,0.1698881417,0.172569444444,0.17561742218499998,0.179671928694,0.184271957981,0.189947413209,0.19759406194,0.20825034760799999,0.23394938894450001],\"xaxis\":\"x\",\"y\":[25.15442027563696,32.79183164611728,25.990099009900987,40.57386323228013,37.61348897535668,35.41912632821724,53.30288573271393,32.191069574247145,38.82497315539193,37.72747447847315,36.54756760547767,36.02401601067378,44.5710537527049,45.719833247672895,47.36024844720497,31.5797289191349,32.16155572176515,40.00640193887291,41.97724597881522,48.59887274747956,36.86727503236702,36.08529250956807,41.29596678529063,44.2159383033419,43.61095139103897,40.12964338511058,34.507548526240114,41.41140892679634,39.48110547095319,45.049970960923545,40.0,34.50294642685759,33.26166861957371,36.920659858601724,32.27963551210716,36.701404621658355,31.37945444956567,43.9469320066335,42.104208487285945,33.90649855549732,27.598896044158234,31.94248384983091,31.558185404339252,24.750146052921824,31.68474336747893,33.95843892549417,33.676612857184196,26.925953627524308,29.12610618427507,27.548209366391184,22.95531206547914,28.277103179824472,27.877055039313795,28.95131422767011,29.323758228605627,25.272603820082285,21.863117870722434,22.967857411940166,28.26084381875549,26.442307692307693,26.050760387933565,17.7430801987225,19.9124892500735,20.02806347882066],\"yaxis\":\"y\",\"type\":\"scatter\"},{\"hovertemplate\":\"<b>OLS trendline</b><br>solar_systems_per_thousand_households = -127.748 * age_35_44_rate + 51.05<br>R<sup>2</sup>=0.325781<br><br>age_35_44_rate=%{x}<br>solar_systems_per_thousand_households=%{y} <b>(trend)</b><extra></extra>\",\"legendgroup\":\"\",\"line\":{\"color\":\"DarkSeaGreen\"},\"marker\":{\"color\":\"DarkSeaGreen\",\"symbol\":\"circle\"},\"mode\":\"lines\",\"name\":\"\",\"showlegend\":false,\"x\":[0.040601982017449995,0.06606513269525,0.0752256770311,0.08134723850985001,0.0860570236438999,0.0900460079754,0.0927413961097,0.0956078621693999,0.0981175336808,0.100310237849,0.102304174354,0.104381103193,0.106092085529,0.107855417213,0.109491469273,0.1109908649335,0.112523839797,0.113906116965,0.115357142857,0.1167696042855,0.11788596738349999,0.119243127454,0.120627092482,0.122054080873,0.12315874578,0.12427696461900001,0.125469168901,0.12684706954750002,0.128046421663,0.1292111926375,0.130504403523,0.1316738995175,0.13285358917499995,0.13391959799,0.135087426133,0.13649784238,0.13776172374200002,0.138941398866,0.1403109340125,0.14147740518649998,0.142806076854,0.14419129995500002,0.145498271456,0.146820589384,0.1480922158915,0.149609229624,0.1512049805905,0.152861627626,0.15420175167949995,0.156094709149,0.15812036306,0.16023827582699995,0.162452450213,0.1648888888885,0.167474258025,0.1698881417,0.172569444444,0.17561742218499998,0.179671928694,0.184271957981,0.189947413209,0.19759406194,0.20825034760799999,0.23394938894450001],\"xaxis\":\"x\",\"y\":[45.86313770183618,42.610266716403146,41.440023911107296,40.658005614481844,40.0563391669934,39.54675370534052,39.202422794861754,38.836236991921986,38.515631040769264,38.235517088704626,37.980795342523976,37.715471477277305,37.49689660931271,37.2716342077679,37.06263154568682,36.87108648901098,36.67525175049118,36.498668367291316,36.31330246018407,36.13286309284307,35.99024974633923,35.81687502646348,35.64007602223184,35.457780861967926,35.31666193799521,35.17381152396852,35.02150960474813,34.84548531417528,34.69227027228225,34.54347290798244,34.37826757967416,34.22886660270056,34.07816340389954,33.941982725066545,33.7927948130754,33.61261671393508,33.451158178677545,33.300456836504594,33.12550122327545,32.976486661595274,32.80675128316287,32.629791562403604,32.46282834060178,32.2939046407841,32.131456677337034,31.93766094414621,31.733806673141558,31.522173040561285,31.350974640737515,31.109152781883108,30.850379195024292,30.57981970784116,30.296962974672315,29.985712384531062,29.65543620004903,29.34706697002033,29.004535442422537,28.61516185376492,28.09720605362609,27.50956071510676,26.78453167711025,25.807686269893843,24.446365241693496,21.163359655514093],\"yaxis\":\"y\",\"type\":\"scatter\"}],                        {\"template\":{\"data\":{\"bar\":[{\"error_x\":{\"color\":\"#2a3f5f\"},\"error_y\":{\"color\":\"#2a3f5f\"},\"marker\":{\"line\":{\"color\":\"#E5ECF6\",\"width\":0.5},\"pattern\":{\"fillmode\":\"overlay\",\"size\":10,\"solidity\":0.2}},\"type\":\"bar\"}],\"barpolar\":[{\"marker\":{\"line\":{\"color\":\"#E5ECF6\",\"width\":0.5},\"pattern\":{\"fillmode\":\"overlay\",\"size\":10,\"solidity\":0.2}},\"type\":\"barpolar\"}],\"carpet\":[{\"aaxis\":{\"endlinecolor\":\"#2a3f5f\",\"gridcolor\":\"white\",\"linecolor\":\"white\",\"minorgridcolor\":\"white\",\"startlinecolor\":\"#2a3f5f\"},\"baxis\":{\"endlinecolor\":\"#2a3f5f\",\"gridcolor\":\"white\",\"linecolor\":\"white\",\"minorgridcolor\":\"white\",\"startlinecolor\":\"#2a3f5f\"},\"type\":\"carpet\"}],\"choropleth\":[{\"colorbar\":{\"outlinewidth\":0,\"ticks\":\"\"},\"type\":\"choropleth\"}],\"contour\":[{\"colorbar\":{\"outlinewidth\":0,\"ticks\":\"\"},\"colorscale\":[[0.0,\"#0d0887\"],[0.1111111111111111,\"#46039f\"],[0.2222222222222222,\"#7201a8\"],[0.3333333333333333,\"#9c179e\"],[0.4444444444444444,\"#bd3786\"],[0.5555555555555556,\"#d8576b\"],[0.6666666666666666,\"#ed7953\"],[0.7777777777777778,\"#fb9f3a\"],[0.8888888888888888,\"#fdca26\"],[1.0,\"#f0f921\"]],\"type\":\"contour\"}],\"contourcarpet\":[{\"colorbar\":{\"outlinewidth\":0,\"ticks\":\"\"},\"type\":\"contourcarpet\"}],\"heatmap\":[{\"colorbar\":{\"outlinewidth\":0,\"ticks\":\"\"},\"colorscale\":[[0.0,\"#0d0887\"],[0.1111111111111111,\"#46039f\"],[0.2222222222222222,\"#7201a8\"],[0.3333333333333333,\"#9c179e\"],[0.4444444444444444,\"#bd3786\"],[0.5555555555555556,\"#d8576b\"],[0.6666666666666666,\"#ed7953\"],[0.7777777777777778,\"#fb9f3a\"],[0.8888888888888888,\"#fdca26\"],[1.0,\"#f0f921\"]],\"type\":\"heatmap\"}],\"heatmapgl\":[{\"colorbar\":{\"outlinewidth\":0,\"ticks\":\"\"},\"colorscale\":[[0.0,\"#0d0887\"],[0.1111111111111111,\"#46039f\"],[0.2222222222222222,\"#7201a8\"],[0.3333333333333333,\"#9c179e\"],[0.4444444444444444,\"#bd3786\"],[0.5555555555555556,\"#d8576b\"],[0.6666666666666666,\"#ed7953\"],[0.7777777777777778,\"#fb9f3a\"],[0.8888888888888888,\"#fdca26\"],[1.0,\"#f0f921\"]],\"type\":\"heatmapgl\"}],\"histogram\":[{\"marker\":{\"pattern\":{\"fillmode\":\"overlay\",\"size\":10,\"solidity\":0.2}},\"type\":\"histogram\"}],\"histogram2d\":[{\"colorbar\":{\"outlinewidth\":0,\"ticks\":\"\"},\"colorscale\":[[0.0,\"#0d0887\"],[0.1111111111111111,\"#46039f\"],[0.2222222222222222,\"#7201a8\"],[0.3333333333333333,\"#9c179e\"],[0.4444444444444444,\"#bd3786\"],[0.5555555555555556,\"#d8576b\"],[0.6666666666666666,\"#ed7953\"],[0.7777777777777778,\"#fb9f3a\"],[0.8888888888888888,\"#fdca26\"],[1.0,\"#f0f921\"]],\"type\":\"histogram2d\"}],\"histogram2dcontour\":[{\"colorbar\":{\"outlinewidth\":0,\"ticks\":\"\"},\"colorscale\":[[0.0,\"#0d0887\"],[0.1111111111111111,\"#46039f\"],[0.2222222222222222,\"#7201a8\"],[0.3333333333333333,\"#9c179e\"],[0.4444444444444444,\"#bd3786\"],[0.5555555555555556,\"#d8576b\"],[0.6666666666666666,\"#ed7953\"],[0.7777777777777778,\"#fb9f3a\"],[0.8888888888888888,\"#fdca26\"],[1.0,\"#f0f921\"]],\"type\":\"histogram2dcontour\"}],\"mesh3d\":[{\"colorbar\":{\"outlinewidth\":0,\"ticks\":\"\"},\"type\":\"mesh3d\"}],\"parcoords\":[{\"line\":{\"colorbar\":{\"outlinewidth\":0,\"ticks\":\"\"}},\"type\":\"parcoords\"}],\"pie\":[{\"automargin\":true,\"type\":\"pie\"}],\"scatter\":[{\"marker\":{\"colorbar\":{\"outlinewidth\":0,\"ticks\":\"\"}},\"type\":\"scatter\"}],\"scatter3d\":[{\"line\":{\"colorbar\":{\"outlinewidth\":0,\"ticks\":\"\"}},\"marker\":{\"colorbar\":{\"outlinewidth\":0,\"ticks\":\"\"}},\"type\":\"scatter3d\"}],\"scattercarpet\":[{\"marker\":{\"colorbar\":{\"outlinewidth\":0,\"ticks\":\"\"}},\"type\":\"scattercarpet\"}],\"scattergeo\":[{\"marker\":{\"colorbar\":{\"outlinewidth\":0,\"ticks\":\"\"}},\"type\":\"scattergeo\"}],\"scattergl\":[{\"marker\":{\"colorbar\":{\"outlinewidth\":0,\"ticks\":\"\"}},\"type\":\"scattergl\"}],\"scattermapbox\":[{\"marker\":{\"colorbar\":{\"outlinewidth\":0,\"ticks\":\"\"}},\"type\":\"scattermapbox\"}],\"scatterpolar\":[{\"marker\":{\"colorbar\":{\"outlinewidth\":0,\"ticks\":\"\"}},\"type\":\"scatterpolar\"}],\"scatterpolargl\":[{\"marker\":{\"colorbar\":{\"outlinewidth\":0,\"ticks\":\"\"}},\"type\":\"scatterpolargl\"}],\"scatterternary\":[{\"marker\":{\"colorbar\":{\"outlinewidth\":0,\"ticks\":\"\"}},\"type\":\"scatterternary\"}],\"surface\":[{\"colorbar\":{\"outlinewidth\":0,\"ticks\":\"\"},\"colorscale\":[[0.0,\"#0d0887\"],[0.1111111111111111,\"#46039f\"],[0.2222222222222222,\"#7201a8\"],[0.3333333333333333,\"#9c179e\"],[0.4444444444444444,\"#bd3786\"],[0.5555555555555556,\"#d8576b\"],[0.6666666666666666,\"#ed7953\"],[0.7777777777777778,\"#fb9f3a\"],[0.8888888888888888,\"#fdca26\"],[1.0,\"#f0f921\"]],\"type\":\"surface\"}],\"table\":[{\"cells\":{\"fill\":{\"color\":\"#EBF0F8\"},\"line\":{\"color\":\"white\"}},\"header\":{\"fill\":{\"color\":\"#C8D4E3\"},\"line\":{\"color\":\"white\"}},\"type\":\"table\"}]},\"layout\":{\"annotationdefaults\":{\"arrowcolor\":\"#2a3f5f\",\"arrowhead\":0,\"arrowwidth\":1},\"autotypenumbers\":\"strict\",\"coloraxis\":{\"colorbar\":{\"outlinewidth\":0,\"ticks\":\"\"}},\"colorscale\":{\"diverging\":[[0,\"#8e0152\"],[0.1,\"#c51b7d\"],[0.2,\"#de77ae\"],[0.3,\"#f1b6da\"],[0.4,\"#fde0ef\"],[0.5,\"#f7f7f7\"],[0.6,\"#e6f5d0\"],[0.7,\"#b8e186\"],[0.8,\"#7fbc41\"],[0.9,\"#4d9221\"],[1,\"#276419\"]],\"sequential\":[[0.0,\"#0d0887\"],[0.1111111111111111,\"#46039f\"],[0.2222222222222222,\"#7201a8\"],[0.3333333333333333,\"#9c179e\"],[0.4444444444444444,\"#bd3786\"],[0.5555555555555556,\"#d8576b\"],[0.6666666666666666,\"#ed7953\"],[0.7777777777777778,\"#fb9f3a\"],[0.8888888888888888,\"#fdca26\"],[1.0,\"#f0f921\"]],\"sequentialminus\":[[0.0,\"#0d0887\"],[0.1111111111111111,\"#46039f\"],[0.2222222222222222,\"#7201a8\"],[0.3333333333333333,\"#9c179e\"],[0.4444444444444444,\"#bd3786\"],[0.5555555555555556,\"#d8576b\"],[0.6666666666666666,\"#ed7953\"],[0.7777777777777778,\"#fb9f3a\"],[0.8888888888888888,\"#fdca26\"],[1.0,\"#f0f921\"]]},\"colorway\":[\"#636efa\",\"#EF553B\",\"#00cc96\",\"#ab63fa\",\"#FFA15A\",\"#19d3f3\",\"#FF6692\",\"#B6E880\",\"#FF97FF\",\"#FECB52\"],\"font\":{\"color\":\"#2a3f5f\"},\"geo\":{\"bgcolor\":\"white\",\"lakecolor\":\"white\",\"landcolor\":\"#E5ECF6\",\"showlakes\":true,\"showland\":true,\"subunitcolor\":\"white\"},\"hoverlabel\":{\"align\":\"left\"},\"hovermode\":\"closest\",\"mapbox\":{\"style\":\"light\"},\"paper_bgcolor\":\"white\",\"plot_bgcolor\":\"#E5ECF6\",\"polar\":{\"angularaxis\":{\"gridcolor\":\"white\",\"linecolor\":\"white\",\"ticks\":\"\"},\"bgcolor\":\"#E5ECF6\",\"radialaxis\":{\"gridcolor\":\"white\",\"linecolor\":\"white\",\"ticks\":\"\"}},\"scene\":{\"xaxis\":{\"backgroundcolor\":\"#E5ECF6\",\"gridcolor\":\"white\",\"gridwidth\":2,\"linecolor\":\"white\",\"showbackground\":true,\"ticks\":\"\",\"zerolinecolor\":\"white\"},\"yaxis\":{\"backgroundcolor\":\"#E5ECF6\",\"gridcolor\":\"white\",\"gridwidth\":2,\"linecolor\":\"white\",\"showbackground\":true,\"ticks\":\"\",\"zerolinecolor\":\"white\"},\"zaxis\":{\"backgroundcolor\":\"#E5ECF6\",\"gridcolor\":\"white\",\"gridwidth\":2,\"linecolor\":\"white\",\"showbackground\":true,\"ticks\":\"\",\"zerolinecolor\":\"white\"}},\"shapedefaults\":{\"line\":{\"color\":\"#2a3f5f\"}},\"ternary\":{\"aaxis\":{\"gridcolor\":\"white\",\"linecolor\":\"white\",\"ticks\":\"\"},\"baxis\":{\"gridcolor\":\"white\",\"linecolor\":\"white\",\"ticks\":\"\"},\"bgcolor\":\"#E5ECF6\",\"caxis\":{\"gridcolor\":\"white\",\"linecolor\":\"white\",\"ticks\":\"\"}},\"title\":{\"x\":0.05},\"xaxis\":{\"automargin\":true,\"gridcolor\":\"white\",\"linecolor\":\"white\",\"ticks\":\"\",\"title\":{\"standoff\":15},\"zerolinecolor\":\"white\",\"zerolinewidth\":2},\"yaxis\":{\"automargin\":true,\"gridcolor\":\"white\",\"linecolor\":\"white\",\"ticks\":\"\",\"title\":{\"standoff\":15},\"zerolinecolor\":\"white\",\"zerolinewidth\":2}}},\"xaxis\":{\"anchor\":\"y\",\"domain\":[0.0,1.0],\"title\":{\"text\":\"age_35_44_rate\"}},\"yaxis\":{\"anchor\":\"x\",\"domain\":[0.0,1.0],\"title\":{\"text\":\"solar_systems_per_thousand_households\"}},\"legend\":{\"tracegroupgap\":0},\"margin\":{\"t\":60}},                        {\"responsive\": true}                    ).then(function(){\n                            \nvar gd = document.getElementById('a74942b7-f407-4b43-98bf-dcaef654edfc');\nvar x = new MutationObserver(function (mutations, observer) {{\n        var display = window.getComputedStyle(gd).display;\n        if (!display || display === 'none') {{\n            console.log([gd, 'removed!']);\n            Plotly.purge(gd);\n            observer.disconnect();\n        }}\n}});\n\n// Listen for the removal of the full notebook cells\nvar notebookContainer = gd.closest('#notebook-container');\nif (notebookContainer) {{\n    x.observe(notebookContainer, {childList: true});\n}}\n\n// Listen for the clearing of the current output cell\nvar outputEl = gd.closest('.output');\nif (outputEl) {{\n    x.observe(outputEl, {childList: true});\n}}\n\n                        })                };                });            </script>        </div>"
     },
     "metadata": {},
     "output_type": "display_data"
    },
    {
     "name": "stdout",
     "output_type": "stream",
     "text": [
      "results:  <statsmodels.regression.linear_model.RegressionResultsWrapper object at 0x7fabcf0bf790>\n",
      "alpha:  51.049966736735804\n",
      "beta:  -127.74817329534352\n",
      "p_beta:  8.458321042598606e-07\n",
      "r_squared:  0.32578057344701106\n"
     ]
    }
   ]
  },
  {
   "cell_type": "code",
   "source": [
    "hi18 = median_dataframe('age_45_54_rate_binned', 'age_45_54_rate')\n",
    "plot_scatter(hi18, 'age_45_54_rate', 'solar_systems_per_thousand_households', 'Plum', 'age_45_54')"
   ],
   "metadata": {
    "execution": {
     "iopub.status.busy": "2022-01-30T17:06:38.575768Z",
     "iopub.execute_input": "2022-01-30T17:06:38.576033Z",
     "iopub.status.idle": "2022-01-30T17:06:38.702731Z",
     "shell.execute_reply.started": "2022-01-30T17:06:38.576002Z",
     "shell.execute_reply": "2022-01-30T17:06:38.701601Z"
    },
    "trusted": true
   },
   "execution_count": 50,
   "outputs": [
    {
     "data": {
      "application/vnd.plotly.v1+json": {
       "data": [
        {
         "hovertemplate": "age_45_54_rate=%{x}<br>solar_systems_per_thousand_households=%{y}<extra></extra>",
         "legendgroup": "",
         "marker": {
          "color": "Plum",
          "symbol": "circle"
         },
         "mode": "markers",
         "name": "",
         "orientation": "v",
         "showlegend": false,
         "x": [
          0.033418868946549996,
          0.07025951324459995,
          0.079648241206,
          0.08502158855445,
          0.0902924968207,
          0.0939921415798,
          0.0965843894275,
          0.0994386527666,
          0.1018279783655,
          0.104091583634,
          0.10622726229099999,
          0.108179886686,
          0.109974506874,
          0.1116850109375,
          0.1133869178765,
          0.115040650407,
          0.116730523627,
          0.1182243164025,
          0.119767223578,
          0.121068594518,
          0.1223202480365,
          0.123522644075,
          0.1248028439765,
          0.125830748782,
          0.1269085840955,
          0.1279350599055,
          0.12927756654,
          0.13050506376999998,
          0.131769825919,
          0.132926829268,
          0.134136052384,
          0.1352745267545,
          0.1366294306355,
          0.137892995036,
          0.1390416326115,
          0.140291806958,
          0.141539004503,
          0.142974190905,
          0.14412420243,
          0.1454365753395,
          0.146679499519,
          0.148043772238,
          0.149694055944,
          0.1511564227315,
          0.152842940633,
          0.15442589035,
          0.1558933483735,
          0.157316537278,
          0.158866055854,
          0.16090470852150002,
          0.162702188392,
          0.1646953771435,
          0.167106752169,
          0.16921051298949996,
          0.171921921922,
          0.1745783878105,
          0.177049180328,
          0.180128689761,
          0.183552207361,
          0.186995844537,
          0.19157365620599998,
          0.197727970525,
          0.20504380331400002,
          0.2257199367395
         ],
         "xaxis": "x",
         "y": [
          14.488555258871145,
          18.116740263928403,
          18.17447495961228,
          19.61290453197283,
          17.892644135188867,
          23.79033805302943,
          19.376815597043723,
          18.544935805991443,
          22.265095554350772,
          21.654636313159358,
          21.50502232950722,
          26.01522842639594,
          20.694891539550667,
          25.425906203249774,
          24.611594879836296,
          21.810699588477366,
          25.45968882602546,
          24.843762192223934,
          26.571613739468567,
          26.86871199438481,
          33.42349031554096,
          30.662710187932742,
          31.76485796464467,
          27.04485488126649,
          26.723553143632405,
          31.901276265031058,
          28.82882882882883,
          31.415967520332654,
          28.109028960817717,
          32.47020139745171,
          32.76878769036642,
          31.51969213133546,
          30.596489108990617,
          26.929052304505436,
          31.03901719241611,
          32.68945022288262,
          31.38001096526591,
          39.1644908616188,
          35.58160125864323,
          38.16700540838472,
          41.913214990138066,
          29.95624610349466,
          34.85064011379801,
          43.27093860909582,
          41.61487199869305,
          37.74752475247524,
          42.57071511756679,
          43.8871473354232,
          51.7224505774124,
          45.537941003605866,
          42.09183673469388,
          44.56077045931933,
          46.02933737986849,
          45.57149512015326,
          54.193548387096776,
          60.30027109853843,
          65.27415143603133,
          52.908544243786736,
          52.35407046669629,
          59.07372400756144,
          64.64755435049815,
          61.17504542701393,
          63.57597577780797,
          65.18034700406375
         ],
         "yaxis": "y",
         "type": "scatter"
        },
        {
         "hovertemplate": "<b>OLS trendline</b><br>solar_systems_per_thousand_households = 369.763 * age_45_54_rate + -15.3107<br>R<sup>2</sup>=0.865202<br><br>age_45_54_rate=%{x}<br>solar_systems_per_thousand_households=%{y} <b>(trend)</b><extra></extra>",
         "legendgroup": "",
         "line": {
          "color": "Plum"
         },
         "marker": {
          "color": "Plum",
          "symbol": "circle"
         },
         "mode": "lines",
         "name": "",
         "showlegend": false,
         "x": [
          0.033418868946549996,
          0.07025951324459995,
          0.079648241206,
          0.08502158855445,
          0.0902924968207,
          0.0939921415798,
          0.0965843894275,
          0.0994386527666,
          0.1018279783655,
          0.104091583634,
          0.10622726229099999,
          0.108179886686,
          0.109974506874,
          0.1116850109375,
          0.1133869178765,
          0.115040650407,
          0.116730523627,
          0.1182243164025,
          0.119767223578,
          0.121068594518,
          0.1223202480365,
          0.123522644075,
          0.1248028439765,
          0.125830748782,
          0.1269085840955,
          0.1279350599055,
          0.12927756654,
          0.13050506376999998,
          0.131769825919,
          0.132926829268,
          0.134136052384,
          0.1352745267545,
          0.1366294306355,
          0.137892995036,
          0.1390416326115,
          0.140291806958,
          0.141539004503,
          0.142974190905,
          0.14412420243,
          0.1454365753395,
          0.146679499519,
          0.148043772238,
          0.149694055944,
          0.1511564227315,
          0.152842940633,
          0.15442589035,
          0.1558933483735,
          0.157316537278,
          0.158866055854,
          0.16090470852150002,
          0.162702188392,
          0.1646953771435,
          0.167106752169,
          0.16921051298949996,
          0.171921921922,
          0.1745783878105,
          0.177049180328,
          0.180128689761,
          0.183552207361,
          0.186995844537,
          0.19157365620599998,
          0.197727970525,
          0.20504380331400002,
          0.2257199367395
         ],
         "xaxis": "x",
         "y": [
          -2.9536477714965343,
          10.668647586218764,
          14.140248796249761,
          16.12711211079979,
          18.076097275809005,
          19.444087835891345,
          20.402604346517094,
          21.45800440736719,
          22.341487843504837,
          23.178484593380347,
          23.968178856581993,
          24.69018648533506,
          25.353770055103098,
          25.986250621269598,
          26.61555229164322,
          27.22704086363666,
          27.85189291382602,
          28.404241733419262,
          28.974751225168617,
          29.455949631233572,
          29.91876439029665,
          30.36336557155939,
          30.83673571769645,
          31.21681655306005,
          31.61535982686076,
          31.99491227301899,
          32.4913211237138,
          32.94520378880939,
          33.41286563021341,
          33.84068228896762,
          34.28780786870132,
          34.70877320271316,
          35.20976609249478,
          35.67698505120383,
          36.10170835913086,
          36.563976175591485,
          37.0251432819525,
          37.555821651832574,
          37.981052995008504,
          38.46631951879782,
          38.9259064940802,
          39.43036363050643,
          40.040576955910915,
          40.581305617968894,
          41.20491699659842,
          41.79023272579503,
          42.332843936919375,
          42.859086079974084,
          43.43204022088892,
          44.18585789421201,
          44.85049886784436,
          45.58750568175737,
          46.4791421729606,
          47.2570344114076,
          48.2596122440656,
          49.241874189542976,
          50.15548105180948,
          51.29416871193319,
          52.560057753727314,
          53.83338626385774,
          55.52609017377318,
          57.80172592811508,
          60.50684786445135,
          68.15211036580774
         ],
         "yaxis": "y",
         "type": "scatter"
        }
       ],
       "layout": {
        "template": {
         "data": {
          "bar": [
           {
            "error_x": {
             "color": "#2a3f5f"
            },
            "error_y": {
             "color": "#2a3f5f"
            },
            "marker": {
             "line": {
              "color": "#E5ECF6",
              "width": 0.5
             },
             "pattern": {
              "fillmode": "overlay",
              "size": 10,
              "solidity": 0.2
             }
            },
            "type": "bar"
           }
          ],
          "barpolar": [
           {
            "marker": {
             "line": {
              "color": "#E5ECF6",
              "width": 0.5
             },
             "pattern": {
              "fillmode": "overlay",
              "size": 10,
              "solidity": 0.2
             }
            },
            "type": "barpolar"
           }
          ],
          "carpet": [
           {
            "aaxis": {
             "endlinecolor": "#2a3f5f",
             "gridcolor": "white",
             "linecolor": "white",
             "minorgridcolor": "white",
             "startlinecolor": "#2a3f5f"
            },
            "baxis": {
             "endlinecolor": "#2a3f5f",
             "gridcolor": "white",
             "linecolor": "white",
             "minorgridcolor": "white",
             "startlinecolor": "#2a3f5f"
            },
            "type": "carpet"
           }
          ],
          "choropleth": [
           {
            "colorbar": {
             "outlinewidth": 0,
             "ticks": ""
            },
            "type": "choropleth"
           }
          ],
          "contour": [
           {
            "colorbar": {
             "outlinewidth": 0,
             "ticks": ""
            },
            "colorscale": [
             [
              0.0,
              "#0d0887"
             ],
             [
              0.1111111111111111,
              "#46039f"
             ],
             [
              0.2222222222222222,
              "#7201a8"
             ],
             [
              0.3333333333333333,
              "#9c179e"
             ],
             [
              0.4444444444444444,
              "#bd3786"
             ],
             [
              0.5555555555555556,
              "#d8576b"
             ],
             [
              0.6666666666666666,
              "#ed7953"
             ],
             [
              0.7777777777777778,
              "#fb9f3a"
             ],
             [
              0.8888888888888888,
              "#fdca26"
             ],
             [
              1.0,
              "#f0f921"
             ]
            ],
            "type": "contour"
           }
          ],
          "contourcarpet": [
           {
            "colorbar": {
             "outlinewidth": 0,
             "ticks": ""
            },
            "type": "contourcarpet"
           }
          ],
          "heatmap": [
           {
            "colorbar": {
             "outlinewidth": 0,
             "ticks": ""
            },
            "colorscale": [
             [
              0.0,
              "#0d0887"
             ],
             [
              0.1111111111111111,
              "#46039f"
             ],
             [
              0.2222222222222222,
              "#7201a8"
             ],
             [
              0.3333333333333333,
              "#9c179e"
             ],
             [
              0.4444444444444444,
              "#bd3786"
             ],
             [
              0.5555555555555556,
              "#d8576b"
             ],
             [
              0.6666666666666666,
              "#ed7953"
             ],
             [
              0.7777777777777778,
              "#fb9f3a"
             ],
             [
              0.8888888888888888,
              "#fdca26"
             ],
             [
              1.0,
              "#f0f921"
             ]
            ],
            "type": "heatmap"
           }
          ],
          "heatmapgl": [
           {
            "colorbar": {
             "outlinewidth": 0,
             "ticks": ""
            },
            "colorscale": [
             [
              0.0,
              "#0d0887"
             ],
             [
              0.1111111111111111,
              "#46039f"
             ],
             [
              0.2222222222222222,
              "#7201a8"
             ],
             [
              0.3333333333333333,
              "#9c179e"
             ],
             [
              0.4444444444444444,
              "#bd3786"
             ],
             [
              0.5555555555555556,
              "#d8576b"
             ],
             [
              0.6666666666666666,
              "#ed7953"
             ],
             [
              0.7777777777777778,
              "#fb9f3a"
             ],
             [
              0.8888888888888888,
              "#fdca26"
             ],
             [
              1.0,
              "#f0f921"
             ]
            ],
            "type": "heatmapgl"
           }
          ],
          "histogram": [
           {
            "marker": {
             "pattern": {
              "fillmode": "overlay",
              "size": 10,
              "solidity": 0.2
             }
            },
            "type": "histogram"
           }
          ],
          "histogram2d": [
           {
            "colorbar": {
             "outlinewidth": 0,
             "ticks": ""
            },
            "colorscale": [
             [
              0.0,
              "#0d0887"
             ],
             [
              0.1111111111111111,
              "#46039f"
             ],
             [
              0.2222222222222222,
              "#7201a8"
             ],
             [
              0.3333333333333333,
              "#9c179e"
             ],
             [
              0.4444444444444444,
              "#bd3786"
             ],
             [
              0.5555555555555556,
              "#d8576b"
             ],
             [
              0.6666666666666666,
              "#ed7953"
             ],
             [
              0.7777777777777778,
              "#fb9f3a"
             ],
             [
              0.8888888888888888,
              "#fdca26"
             ],
             [
              1.0,
              "#f0f921"
             ]
            ],
            "type": "histogram2d"
           }
          ],
          "histogram2dcontour": [
           {
            "colorbar": {
             "outlinewidth": 0,
             "ticks": ""
            },
            "colorscale": [
             [
              0.0,
              "#0d0887"
             ],
             [
              0.1111111111111111,
              "#46039f"
             ],
             [
              0.2222222222222222,
              "#7201a8"
             ],
             [
              0.3333333333333333,
              "#9c179e"
             ],
             [
              0.4444444444444444,
              "#bd3786"
             ],
             [
              0.5555555555555556,
              "#d8576b"
             ],
             [
              0.6666666666666666,
              "#ed7953"
             ],
             [
              0.7777777777777778,
              "#fb9f3a"
             ],
             [
              0.8888888888888888,
              "#fdca26"
             ],
             [
              1.0,
              "#f0f921"
             ]
            ],
            "type": "histogram2dcontour"
           }
          ],
          "mesh3d": [
           {
            "colorbar": {
             "outlinewidth": 0,
             "ticks": ""
            },
            "type": "mesh3d"
           }
          ],
          "parcoords": [
           {
            "line": {
             "colorbar": {
              "outlinewidth": 0,
              "ticks": ""
             }
            },
            "type": "parcoords"
           }
          ],
          "pie": [
           {
            "automargin": true,
            "type": "pie"
           }
          ],
          "scatter": [
           {
            "marker": {
             "colorbar": {
              "outlinewidth": 0,
              "ticks": ""
             }
            },
            "type": "scatter"
           }
          ],
          "scatter3d": [
           {
            "line": {
             "colorbar": {
              "outlinewidth": 0,
              "ticks": ""
             }
            },
            "marker": {
             "colorbar": {
              "outlinewidth": 0,
              "ticks": ""
             }
            },
            "type": "scatter3d"
           }
          ],
          "scattercarpet": [
           {
            "marker": {
             "colorbar": {
              "outlinewidth": 0,
              "ticks": ""
             }
            },
            "type": "scattercarpet"
           }
          ],
          "scattergeo": [
           {
            "marker": {
             "colorbar": {
              "outlinewidth": 0,
              "ticks": ""
             }
            },
            "type": "scattergeo"
           }
          ],
          "scattergl": [
           {
            "marker": {
             "colorbar": {
              "outlinewidth": 0,
              "ticks": ""
             }
            },
            "type": "scattergl"
           }
          ],
          "scattermapbox": [
           {
            "marker": {
             "colorbar": {
              "outlinewidth": 0,
              "ticks": ""
             }
            },
            "type": "scattermapbox"
           }
          ],
          "scatterpolar": [
           {
            "marker": {
             "colorbar": {
              "outlinewidth": 0,
              "ticks": ""
             }
            },
            "type": "scatterpolar"
           }
          ],
          "scatterpolargl": [
           {
            "marker": {
             "colorbar": {
              "outlinewidth": 0,
              "ticks": ""
             }
            },
            "type": "scatterpolargl"
           }
          ],
          "scatterternary": [
           {
            "marker": {
             "colorbar": {
              "outlinewidth": 0,
              "ticks": ""
             }
            },
            "type": "scatterternary"
           }
          ],
          "surface": [
           {
            "colorbar": {
             "outlinewidth": 0,
             "ticks": ""
            },
            "colorscale": [
             [
              0.0,
              "#0d0887"
             ],
             [
              0.1111111111111111,
              "#46039f"
             ],
             [
              0.2222222222222222,
              "#7201a8"
             ],
             [
              0.3333333333333333,
              "#9c179e"
             ],
             [
              0.4444444444444444,
              "#bd3786"
             ],
             [
              0.5555555555555556,
              "#d8576b"
             ],
             [
              0.6666666666666666,
              "#ed7953"
             ],
             [
              0.7777777777777778,
              "#fb9f3a"
             ],
             [
              0.8888888888888888,
              "#fdca26"
             ],
             [
              1.0,
              "#f0f921"
             ]
            ],
            "type": "surface"
           }
          ],
          "table": [
           {
            "cells": {
             "fill": {
              "color": "#EBF0F8"
             },
             "line": {
              "color": "white"
             }
            },
            "header": {
             "fill": {
              "color": "#C8D4E3"
             },
             "line": {
              "color": "white"
             }
            },
            "type": "table"
           }
          ]
         },
         "layout": {
          "annotationdefaults": {
           "arrowcolor": "#2a3f5f",
           "arrowhead": 0,
           "arrowwidth": 1
          },
          "autotypenumbers": "strict",
          "coloraxis": {
           "colorbar": {
            "outlinewidth": 0,
            "ticks": ""
           }
          },
          "colorscale": {
           "diverging": [
            [
             0,
             "#8e0152"
            ],
            [
             0.1,
             "#c51b7d"
            ],
            [
             0.2,
             "#de77ae"
            ],
            [
             0.3,
             "#f1b6da"
            ],
            [
             0.4,
             "#fde0ef"
            ],
            [
             0.5,
             "#f7f7f7"
            ],
            [
             0.6,
             "#e6f5d0"
            ],
            [
             0.7,
             "#b8e186"
            ],
            [
             0.8,
             "#7fbc41"
            ],
            [
             0.9,
             "#4d9221"
            ],
            [
             1,
             "#276419"
            ]
           ],
           "sequential": [
            [
             0.0,
             "#0d0887"
            ],
            [
             0.1111111111111111,
             "#46039f"
            ],
            [
             0.2222222222222222,
             "#7201a8"
            ],
            [
             0.3333333333333333,
             "#9c179e"
            ],
            [
             0.4444444444444444,
             "#bd3786"
            ],
            [
             0.5555555555555556,
             "#d8576b"
            ],
            [
             0.6666666666666666,
             "#ed7953"
            ],
            [
             0.7777777777777778,
             "#fb9f3a"
            ],
            [
             0.8888888888888888,
             "#fdca26"
            ],
            [
             1.0,
             "#f0f921"
            ]
           ],
           "sequentialminus": [
            [
             0.0,
             "#0d0887"
            ],
            [
             0.1111111111111111,
             "#46039f"
            ],
            [
             0.2222222222222222,
             "#7201a8"
            ],
            [
             0.3333333333333333,
             "#9c179e"
            ],
            [
             0.4444444444444444,
             "#bd3786"
            ],
            [
             0.5555555555555556,
             "#d8576b"
            ],
            [
             0.6666666666666666,
             "#ed7953"
            ],
            [
             0.7777777777777778,
             "#fb9f3a"
            ],
            [
             0.8888888888888888,
             "#fdca26"
            ],
            [
             1.0,
             "#f0f921"
            ]
           ]
          },
          "colorway": [
           "#636efa",
           "#EF553B",
           "#00cc96",
           "#ab63fa",
           "#FFA15A",
           "#19d3f3",
           "#FF6692",
           "#B6E880",
           "#FF97FF",
           "#FECB52"
          ],
          "font": {
           "color": "#2a3f5f"
          },
          "geo": {
           "bgcolor": "white",
           "lakecolor": "white",
           "landcolor": "#E5ECF6",
           "showlakes": true,
           "showland": true,
           "subunitcolor": "white"
          },
          "hoverlabel": {
           "align": "left"
          },
          "hovermode": "closest",
          "mapbox": {
           "style": "light"
          },
          "paper_bgcolor": "white",
          "plot_bgcolor": "#E5ECF6",
          "polar": {
           "angularaxis": {
            "gridcolor": "white",
            "linecolor": "white",
            "ticks": ""
           },
           "bgcolor": "#E5ECF6",
           "radialaxis": {
            "gridcolor": "white",
            "linecolor": "white",
            "ticks": ""
           }
          },
          "scene": {
           "xaxis": {
            "backgroundcolor": "#E5ECF6",
            "gridcolor": "white",
            "gridwidth": 2,
            "linecolor": "white",
            "showbackground": true,
            "ticks": "",
            "zerolinecolor": "white"
           },
           "yaxis": {
            "backgroundcolor": "#E5ECF6",
            "gridcolor": "white",
            "gridwidth": 2,
            "linecolor": "white",
            "showbackground": true,
            "ticks": "",
            "zerolinecolor": "white"
           },
           "zaxis": {
            "backgroundcolor": "#E5ECF6",
            "gridcolor": "white",
            "gridwidth": 2,
            "linecolor": "white",
            "showbackground": true,
            "ticks": "",
            "zerolinecolor": "white"
           }
          },
          "shapedefaults": {
           "line": {
            "color": "#2a3f5f"
           }
          },
          "ternary": {
           "aaxis": {
            "gridcolor": "white",
            "linecolor": "white",
            "ticks": ""
           },
           "baxis": {
            "gridcolor": "white",
            "linecolor": "white",
            "ticks": ""
           },
           "bgcolor": "#E5ECF6",
           "caxis": {
            "gridcolor": "white",
            "linecolor": "white",
            "ticks": ""
           }
          },
          "title": {
           "x": 0.05
          },
          "xaxis": {
           "automargin": true,
           "gridcolor": "white",
           "linecolor": "white",
           "ticks": "",
           "title": {
            "standoff": 15
           },
           "zerolinecolor": "white",
           "zerolinewidth": 2
          },
          "yaxis": {
           "automargin": true,
           "gridcolor": "white",
           "linecolor": "white",
           "ticks": "",
           "title": {
            "standoff": 15
           },
           "zerolinecolor": "white",
           "zerolinewidth": 2
          }
         }
        },
        "xaxis": {
         "anchor": "y",
         "domain": [
          0.0,
          1.0
         ],
         "title": {
          "text": "age_45_54_rate"
         }
        },
        "yaxis": {
         "anchor": "x",
         "domain": [
          0.0,
          1.0
         ],
         "title": {
          "text": "solar_systems_per_thousand_households"
         }
        },
        "legend": {
         "tracegroupgap": 0
        },
        "margin": {
         "t": 60
        }
       },
       "config": {
        "plotlyServerURL": "https://plot.ly"
       }
      },
      "text/html": "<div>                            <div id=\"7398f6b3-0985-4b64-a00b-2a48cc310db7\" class=\"plotly-graph-div\" style=\"height:525px; width:100%;\"></div>            <script type=\"text/javascript\">                require([\"plotly\"], function(Plotly) {                    window.PLOTLYENV=window.PLOTLYENV || {};                                    if (document.getElementById(\"7398f6b3-0985-4b64-a00b-2a48cc310db7\")) {                    Plotly.newPlot(                        \"7398f6b3-0985-4b64-a00b-2a48cc310db7\",                        [{\"hovertemplate\":\"age_45_54_rate=%{x}<br>solar_systems_per_thousand_households=%{y}<extra></extra>\",\"legendgroup\":\"\",\"marker\":{\"color\":\"Plum\",\"symbol\":\"circle\"},\"mode\":\"markers\",\"name\":\"\",\"orientation\":\"v\",\"showlegend\":false,\"x\":[0.033418868946549996,0.07025951324459995,0.079648241206,0.08502158855445,0.0902924968207,0.0939921415798,0.0965843894275,0.0994386527666,0.1018279783655,0.104091583634,0.10622726229099999,0.108179886686,0.109974506874,0.1116850109375,0.1133869178765,0.115040650407,0.116730523627,0.1182243164025,0.119767223578,0.121068594518,0.1223202480365,0.123522644075,0.1248028439765,0.125830748782,0.1269085840955,0.1279350599055,0.12927756654,0.13050506376999998,0.131769825919,0.132926829268,0.134136052384,0.1352745267545,0.1366294306355,0.137892995036,0.1390416326115,0.140291806958,0.141539004503,0.142974190905,0.14412420243,0.1454365753395,0.146679499519,0.148043772238,0.149694055944,0.1511564227315,0.152842940633,0.15442589035,0.1558933483735,0.157316537278,0.158866055854,0.16090470852150002,0.162702188392,0.1646953771435,0.167106752169,0.16921051298949996,0.171921921922,0.1745783878105,0.177049180328,0.180128689761,0.183552207361,0.186995844537,0.19157365620599998,0.197727970525,0.20504380331400002,0.2257199367395],\"xaxis\":\"x\",\"y\":[14.488555258871145,18.116740263928403,18.17447495961228,19.61290453197283,17.892644135188867,23.79033805302943,19.376815597043723,18.544935805991443,22.265095554350772,21.654636313159358,21.50502232950722,26.01522842639594,20.694891539550667,25.425906203249774,24.611594879836296,21.810699588477366,25.45968882602546,24.843762192223934,26.571613739468567,26.86871199438481,33.42349031554096,30.662710187932742,31.76485796464467,27.04485488126649,26.723553143632405,31.901276265031058,28.82882882882883,31.415967520332654,28.109028960817717,32.47020139745171,32.76878769036642,31.51969213133546,30.596489108990617,26.929052304505436,31.03901719241611,32.68945022288262,31.38001096526591,39.1644908616188,35.58160125864323,38.16700540838472,41.913214990138066,29.95624610349466,34.85064011379801,43.27093860909582,41.61487199869305,37.74752475247524,42.57071511756679,43.8871473354232,51.7224505774124,45.537941003605866,42.09183673469388,44.56077045931933,46.02933737986849,45.57149512015326,54.193548387096776,60.30027109853843,65.27415143603133,52.908544243786736,52.35407046669629,59.07372400756144,64.64755435049815,61.17504542701393,63.57597577780797,65.18034700406375],\"yaxis\":\"y\",\"type\":\"scatter\"},{\"hovertemplate\":\"<b>OLS trendline</b><br>solar_systems_per_thousand_households = 369.763 * age_45_54_rate + -15.3107<br>R<sup>2</sup>=0.865202<br><br>age_45_54_rate=%{x}<br>solar_systems_per_thousand_households=%{y} <b>(trend)</b><extra></extra>\",\"legendgroup\":\"\",\"line\":{\"color\":\"Plum\"},\"marker\":{\"color\":\"Plum\",\"symbol\":\"circle\"},\"mode\":\"lines\",\"name\":\"\",\"showlegend\":false,\"x\":[0.033418868946549996,0.07025951324459995,0.079648241206,0.08502158855445,0.0902924968207,0.0939921415798,0.0965843894275,0.0994386527666,0.1018279783655,0.104091583634,0.10622726229099999,0.108179886686,0.109974506874,0.1116850109375,0.1133869178765,0.115040650407,0.116730523627,0.1182243164025,0.119767223578,0.121068594518,0.1223202480365,0.123522644075,0.1248028439765,0.125830748782,0.1269085840955,0.1279350599055,0.12927756654,0.13050506376999998,0.131769825919,0.132926829268,0.134136052384,0.1352745267545,0.1366294306355,0.137892995036,0.1390416326115,0.140291806958,0.141539004503,0.142974190905,0.14412420243,0.1454365753395,0.146679499519,0.148043772238,0.149694055944,0.1511564227315,0.152842940633,0.15442589035,0.1558933483735,0.157316537278,0.158866055854,0.16090470852150002,0.162702188392,0.1646953771435,0.167106752169,0.16921051298949996,0.171921921922,0.1745783878105,0.177049180328,0.180128689761,0.183552207361,0.186995844537,0.19157365620599998,0.197727970525,0.20504380331400002,0.2257199367395],\"xaxis\":\"x\",\"y\":[-2.9536477714965343,10.668647586218764,14.140248796249761,16.12711211079979,18.076097275809005,19.444087835891345,20.402604346517094,21.45800440736719,22.341487843504837,23.178484593380347,23.968178856581993,24.69018648533506,25.353770055103098,25.986250621269598,26.61555229164322,27.22704086363666,27.85189291382602,28.404241733419262,28.974751225168617,29.455949631233572,29.91876439029665,30.36336557155939,30.83673571769645,31.21681655306005,31.61535982686076,31.99491227301899,32.4913211237138,32.94520378880939,33.41286563021341,33.84068228896762,34.28780786870132,34.70877320271316,35.20976609249478,35.67698505120383,36.10170835913086,36.563976175591485,37.0251432819525,37.555821651832574,37.981052995008504,38.46631951879782,38.9259064940802,39.43036363050643,40.040576955910915,40.581305617968894,41.20491699659842,41.79023272579503,42.332843936919375,42.859086079974084,43.43204022088892,44.18585789421201,44.85049886784436,45.58750568175737,46.4791421729606,47.2570344114076,48.2596122440656,49.241874189542976,50.15548105180948,51.29416871193319,52.560057753727314,53.83338626385774,55.52609017377318,57.80172592811508,60.50684786445135,68.15211036580774],\"yaxis\":\"y\",\"type\":\"scatter\"}],                        {\"template\":{\"data\":{\"bar\":[{\"error_x\":{\"color\":\"#2a3f5f\"},\"error_y\":{\"color\":\"#2a3f5f\"},\"marker\":{\"line\":{\"color\":\"#E5ECF6\",\"width\":0.5},\"pattern\":{\"fillmode\":\"overlay\",\"size\":10,\"solidity\":0.2}},\"type\":\"bar\"}],\"barpolar\":[{\"marker\":{\"line\":{\"color\":\"#E5ECF6\",\"width\":0.5},\"pattern\":{\"fillmode\":\"overlay\",\"size\":10,\"solidity\":0.2}},\"type\":\"barpolar\"}],\"carpet\":[{\"aaxis\":{\"endlinecolor\":\"#2a3f5f\",\"gridcolor\":\"white\",\"linecolor\":\"white\",\"minorgridcolor\":\"white\",\"startlinecolor\":\"#2a3f5f\"},\"baxis\":{\"endlinecolor\":\"#2a3f5f\",\"gridcolor\":\"white\",\"linecolor\":\"white\",\"minorgridcolor\":\"white\",\"startlinecolor\":\"#2a3f5f\"},\"type\":\"carpet\"}],\"choropleth\":[{\"colorbar\":{\"outlinewidth\":0,\"ticks\":\"\"},\"type\":\"choropleth\"}],\"contour\":[{\"colorbar\":{\"outlinewidth\":0,\"ticks\":\"\"},\"colorscale\":[[0.0,\"#0d0887\"],[0.1111111111111111,\"#46039f\"],[0.2222222222222222,\"#7201a8\"],[0.3333333333333333,\"#9c179e\"],[0.4444444444444444,\"#bd3786\"],[0.5555555555555556,\"#d8576b\"],[0.6666666666666666,\"#ed7953\"],[0.7777777777777778,\"#fb9f3a\"],[0.8888888888888888,\"#fdca26\"],[1.0,\"#f0f921\"]],\"type\":\"contour\"}],\"contourcarpet\":[{\"colorbar\":{\"outlinewidth\":0,\"ticks\":\"\"},\"type\":\"contourcarpet\"}],\"heatmap\":[{\"colorbar\":{\"outlinewidth\":0,\"ticks\":\"\"},\"colorscale\":[[0.0,\"#0d0887\"],[0.1111111111111111,\"#46039f\"],[0.2222222222222222,\"#7201a8\"],[0.3333333333333333,\"#9c179e\"],[0.4444444444444444,\"#bd3786\"],[0.5555555555555556,\"#d8576b\"],[0.6666666666666666,\"#ed7953\"],[0.7777777777777778,\"#fb9f3a\"],[0.8888888888888888,\"#fdca26\"],[1.0,\"#f0f921\"]],\"type\":\"heatmap\"}],\"heatmapgl\":[{\"colorbar\":{\"outlinewidth\":0,\"ticks\":\"\"},\"colorscale\":[[0.0,\"#0d0887\"],[0.1111111111111111,\"#46039f\"],[0.2222222222222222,\"#7201a8\"],[0.3333333333333333,\"#9c179e\"],[0.4444444444444444,\"#bd3786\"],[0.5555555555555556,\"#d8576b\"],[0.6666666666666666,\"#ed7953\"],[0.7777777777777778,\"#fb9f3a\"],[0.8888888888888888,\"#fdca26\"],[1.0,\"#f0f921\"]],\"type\":\"heatmapgl\"}],\"histogram\":[{\"marker\":{\"pattern\":{\"fillmode\":\"overlay\",\"size\":10,\"solidity\":0.2}},\"type\":\"histogram\"}],\"histogram2d\":[{\"colorbar\":{\"outlinewidth\":0,\"ticks\":\"\"},\"colorscale\":[[0.0,\"#0d0887\"],[0.1111111111111111,\"#46039f\"],[0.2222222222222222,\"#7201a8\"],[0.3333333333333333,\"#9c179e\"],[0.4444444444444444,\"#bd3786\"],[0.5555555555555556,\"#d8576b\"],[0.6666666666666666,\"#ed7953\"],[0.7777777777777778,\"#fb9f3a\"],[0.8888888888888888,\"#fdca26\"],[1.0,\"#f0f921\"]],\"type\":\"histogram2d\"}],\"histogram2dcontour\":[{\"colorbar\":{\"outlinewidth\":0,\"ticks\":\"\"},\"colorscale\":[[0.0,\"#0d0887\"],[0.1111111111111111,\"#46039f\"],[0.2222222222222222,\"#7201a8\"],[0.3333333333333333,\"#9c179e\"],[0.4444444444444444,\"#bd3786\"],[0.5555555555555556,\"#d8576b\"],[0.6666666666666666,\"#ed7953\"],[0.7777777777777778,\"#fb9f3a\"],[0.8888888888888888,\"#fdca26\"],[1.0,\"#f0f921\"]],\"type\":\"histogram2dcontour\"}],\"mesh3d\":[{\"colorbar\":{\"outlinewidth\":0,\"ticks\":\"\"},\"type\":\"mesh3d\"}],\"parcoords\":[{\"line\":{\"colorbar\":{\"outlinewidth\":0,\"ticks\":\"\"}},\"type\":\"parcoords\"}],\"pie\":[{\"automargin\":true,\"type\":\"pie\"}],\"scatter\":[{\"marker\":{\"colorbar\":{\"outlinewidth\":0,\"ticks\":\"\"}},\"type\":\"scatter\"}],\"scatter3d\":[{\"line\":{\"colorbar\":{\"outlinewidth\":0,\"ticks\":\"\"}},\"marker\":{\"colorbar\":{\"outlinewidth\":0,\"ticks\":\"\"}},\"type\":\"scatter3d\"}],\"scattercarpet\":[{\"marker\":{\"colorbar\":{\"outlinewidth\":0,\"ticks\":\"\"}},\"type\":\"scattercarpet\"}],\"scattergeo\":[{\"marker\":{\"colorbar\":{\"outlinewidth\":0,\"ticks\":\"\"}},\"type\":\"scattergeo\"}],\"scattergl\":[{\"marker\":{\"colorbar\":{\"outlinewidth\":0,\"ticks\":\"\"}},\"type\":\"scattergl\"}],\"scattermapbox\":[{\"marker\":{\"colorbar\":{\"outlinewidth\":0,\"ticks\":\"\"}},\"type\":\"scattermapbox\"}],\"scatterpolar\":[{\"marker\":{\"colorbar\":{\"outlinewidth\":0,\"ticks\":\"\"}},\"type\":\"scatterpolar\"}],\"scatterpolargl\":[{\"marker\":{\"colorbar\":{\"outlinewidth\":0,\"ticks\":\"\"}},\"type\":\"scatterpolargl\"}],\"scatterternary\":[{\"marker\":{\"colorbar\":{\"outlinewidth\":0,\"ticks\":\"\"}},\"type\":\"scatterternary\"}],\"surface\":[{\"colorbar\":{\"outlinewidth\":0,\"ticks\":\"\"},\"colorscale\":[[0.0,\"#0d0887\"],[0.1111111111111111,\"#46039f\"],[0.2222222222222222,\"#7201a8\"],[0.3333333333333333,\"#9c179e\"],[0.4444444444444444,\"#bd3786\"],[0.5555555555555556,\"#d8576b\"],[0.6666666666666666,\"#ed7953\"],[0.7777777777777778,\"#fb9f3a\"],[0.8888888888888888,\"#fdca26\"],[1.0,\"#f0f921\"]],\"type\":\"surface\"}],\"table\":[{\"cells\":{\"fill\":{\"color\":\"#EBF0F8\"},\"line\":{\"color\":\"white\"}},\"header\":{\"fill\":{\"color\":\"#C8D4E3\"},\"line\":{\"color\":\"white\"}},\"type\":\"table\"}]},\"layout\":{\"annotationdefaults\":{\"arrowcolor\":\"#2a3f5f\",\"arrowhead\":0,\"arrowwidth\":1},\"autotypenumbers\":\"strict\",\"coloraxis\":{\"colorbar\":{\"outlinewidth\":0,\"ticks\":\"\"}},\"colorscale\":{\"diverging\":[[0,\"#8e0152\"],[0.1,\"#c51b7d\"],[0.2,\"#de77ae\"],[0.3,\"#f1b6da\"],[0.4,\"#fde0ef\"],[0.5,\"#f7f7f7\"],[0.6,\"#e6f5d0\"],[0.7,\"#b8e186\"],[0.8,\"#7fbc41\"],[0.9,\"#4d9221\"],[1,\"#276419\"]],\"sequential\":[[0.0,\"#0d0887\"],[0.1111111111111111,\"#46039f\"],[0.2222222222222222,\"#7201a8\"],[0.3333333333333333,\"#9c179e\"],[0.4444444444444444,\"#bd3786\"],[0.5555555555555556,\"#d8576b\"],[0.6666666666666666,\"#ed7953\"],[0.7777777777777778,\"#fb9f3a\"],[0.8888888888888888,\"#fdca26\"],[1.0,\"#f0f921\"]],\"sequentialminus\":[[0.0,\"#0d0887\"],[0.1111111111111111,\"#46039f\"],[0.2222222222222222,\"#7201a8\"],[0.3333333333333333,\"#9c179e\"],[0.4444444444444444,\"#bd3786\"],[0.5555555555555556,\"#d8576b\"],[0.6666666666666666,\"#ed7953\"],[0.7777777777777778,\"#fb9f3a\"],[0.8888888888888888,\"#fdca26\"],[1.0,\"#f0f921\"]]},\"colorway\":[\"#636efa\",\"#EF553B\",\"#00cc96\",\"#ab63fa\",\"#FFA15A\",\"#19d3f3\",\"#FF6692\",\"#B6E880\",\"#FF97FF\",\"#FECB52\"],\"font\":{\"color\":\"#2a3f5f\"},\"geo\":{\"bgcolor\":\"white\",\"lakecolor\":\"white\",\"landcolor\":\"#E5ECF6\",\"showlakes\":true,\"showland\":true,\"subunitcolor\":\"white\"},\"hoverlabel\":{\"align\":\"left\"},\"hovermode\":\"closest\",\"mapbox\":{\"style\":\"light\"},\"paper_bgcolor\":\"white\",\"plot_bgcolor\":\"#E5ECF6\",\"polar\":{\"angularaxis\":{\"gridcolor\":\"white\",\"linecolor\":\"white\",\"ticks\":\"\"},\"bgcolor\":\"#E5ECF6\",\"radialaxis\":{\"gridcolor\":\"white\",\"linecolor\":\"white\",\"ticks\":\"\"}},\"scene\":{\"xaxis\":{\"backgroundcolor\":\"#E5ECF6\",\"gridcolor\":\"white\",\"gridwidth\":2,\"linecolor\":\"white\",\"showbackground\":true,\"ticks\":\"\",\"zerolinecolor\":\"white\"},\"yaxis\":{\"backgroundcolor\":\"#E5ECF6\",\"gridcolor\":\"white\",\"gridwidth\":2,\"linecolor\":\"white\",\"showbackground\":true,\"ticks\":\"\",\"zerolinecolor\":\"white\"},\"zaxis\":{\"backgroundcolor\":\"#E5ECF6\",\"gridcolor\":\"white\",\"gridwidth\":2,\"linecolor\":\"white\",\"showbackground\":true,\"ticks\":\"\",\"zerolinecolor\":\"white\"}},\"shapedefaults\":{\"line\":{\"color\":\"#2a3f5f\"}},\"ternary\":{\"aaxis\":{\"gridcolor\":\"white\",\"linecolor\":\"white\",\"ticks\":\"\"},\"baxis\":{\"gridcolor\":\"white\",\"linecolor\":\"white\",\"ticks\":\"\"},\"bgcolor\":\"#E5ECF6\",\"caxis\":{\"gridcolor\":\"white\",\"linecolor\":\"white\",\"ticks\":\"\"}},\"title\":{\"x\":0.05},\"xaxis\":{\"automargin\":true,\"gridcolor\":\"white\",\"linecolor\":\"white\",\"ticks\":\"\",\"title\":{\"standoff\":15},\"zerolinecolor\":\"white\",\"zerolinewidth\":2},\"yaxis\":{\"automargin\":true,\"gridcolor\":\"white\",\"linecolor\":\"white\",\"ticks\":\"\",\"title\":{\"standoff\":15},\"zerolinecolor\":\"white\",\"zerolinewidth\":2}}},\"xaxis\":{\"anchor\":\"y\",\"domain\":[0.0,1.0],\"title\":{\"text\":\"age_45_54_rate\"}},\"yaxis\":{\"anchor\":\"x\",\"domain\":[0.0,1.0],\"title\":{\"text\":\"solar_systems_per_thousand_households\"}},\"legend\":{\"tracegroupgap\":0},\"margin\":{\"t\":60}},                        {\"responsive\": true}                    ).then(function(){\n                            \nvar gd = document.getElementById('7398f6b3-0985-4b64-a00b-2a48cc310db7');\nvar x = new MutationObserver(function (mutations, observer) {{\n        var display = window.getComputedStyle(gd).display;\n        if (!display || display === 'none') {{\n            console.log([gd, 'removed!']);\n            Plotly.purge(gd);\n            observer.disconnect();\n        }}\n}});\n\n// Listen for the removal of the full notebook cells\nvar notebookContainer = gd.closest('#notebook-container');\nif (notebookContainer) {{\n    x.observe(notebookContainer, {childList: true});\n}}\n\n// Listen for the clearing of the current output cell\nvar outputEl = gd.closest('.output');\nif (outputEl) {{\n    x.observe(outputEl, {childList: true});\n}}\n\n                        })                };                });            </script>        </div>"
     },
     "metadata": {},
     "output_type": "display_data"
    },
    {
     "name": "stdout",
     "output_type": "stream",
     "text": [
      "results:  <statsmodels.regression.linear_model.RegressionResultsWrapper object at 0x7fabcf72d280>\n",
      "alpha:  -15.310698305891798\n",
      "beta:  369.7626797052611\n",
      "p_beta:  1.1339111602018395e-28\n",
      "r_squared:  0.8652019113540197\n"
     ]
    }
   ]
  },
  {
   "cell_type": "code",
   "source": [
    "hi20 = median_dataframe('age_55_64_rate_binned', 'age_55_64_rate')\n",
    "plot_scatter(hi20, 'age_55_64_rate', 'solar_systems_per_thousand_households', 'LightPink', 'age_55_64')"
   ],
   "metadata": {
    "execution": {
     "iopub.status.busy": "2022-01-30T17:06:38.704702Z",
     "iopub.execute_input": "2022-01-30T17:06:38.705788Z",
     "iopub.status.idle": "2022-01-30T17:06:38.831710Z",
     "shell.execute_reply.started": "2022-01-30T17:06:38.705721Z",
     "shell.execute_reply": "2022-01-30T17:06:38.830786Z"
    },
    "trusted": true
   },
   "execution_count": 51,
   "outputs": [
    {
     "data": {
      "application/vnd.plotly.v1+json": {
       "data": [
        {
         "hovertemplate": "age_55_64_rate=%{x}<br>solar_systems_per_thousand_households=%{y}<extra></extra>",
         "legendgroup": "",
         "marker": {
          "color": "LightPink",
          "symbol": "circle"
         },
         "mode": "markers",
         "name": "",
         "orientation": "v",
         "showlegend": false,
         "x": [
          0.029432256389049997,
          0.049118578333150004,
          0.0556065333089,
          0.060769707624,
          0.0647797488539,
          0.06783169789714999,
          0.07039477928865001,
          0.0731454620803999,
          0.07556375876929995,
          0.077694235589,
          0.0799975678293,
          0.0821325648415,
          0.08402864104225,
          0.0859319587506,
          0.0875814808623999,
          0.08931525515135,
          0.090859030837,
          0.0926249299125,
          0.0945025743232,
          0.0957846019379,
          0.09727454698554999,
          0.0987979837146,
          0.100087638677,
          0.101551956815,
          0.102941152913,
          0.1045438950565,
          0.105839416058,
          0.1074080183905,
          0.109077040427,
          0.110505500594,
          0.112134121204,
          0.11383717851399999,
          0.1154359004175,
          0.116825208086,
          0.1184154319605,
          0.12,
          0.1213789018075,
          0.122915985616,
          0.1249086249055,
          0.12678032568550002,
          0.128467440488,
          0.1302702806275,
          0.132305194805,
          0.134152912591,
          0.135790030432,
          0.138016845329,
          0.1401663379105,
          0.142270460546,
          0.144302044382,
          0.146691469572,
          0.14907182797299995,
          0.1515954545455,
          0.15438761145,
          0.15728346373449995,
          0.160269093787,
          0.16389186864549998,
          0.16822129302,
          0.17175528732599996,
          0.17667620271749995,
          0.181275720165,
          0.1878400278585,
          0.197601370645,
          0.21270574044,
          0.23761362630900001
         ],
         "xaxis": "x",
         "y": [
          11.580016091337496,
          13.78431694407237,
          16.85823754789272,
          16.117363474446776,
          19.138755980861244,
          16.662502194255243,
          20.850939844462683,
          21.645021645021643,
          23.1368583833938,
          19.57713390759593,
          21.105704287102355,
          28.109028960817717,
          26.81922700695357,
          25.20687789188236,
          26.888604353393085,
          33.90229638582401,
          25.169796244506593,
          25.645127137561644,
          21.929824561403507,
          23.895566022413515,
          28.913313494937885,
          33.1720801658604,
          38.49789012791513,
          29.454022988505745,
          27.491007003005027,
          28.49382462973402,
          32.77153558052434,
          34.78026829887866,
          25.68922305764411,
          29.677444807846644,
          34.89771359807461,
          36.782805499333435,
          39.906810760086515,
          35.92814371257485,
          34.57873408960125,
          37.66160764474424,
          38.4903786078322,
          39.833531510107015,
          38.525513076411286,
          48.76171692521019,
          52.56869772998805,
          34.65189185664921,
          45.15706806282722,
          43.90960000605601,
          42.25520137430807,
          42.01977401129944,
          45.44619339247818,
          41.811846689895475,
          42.5451740581119,
          50.734312416555404,
          38.9871226739845,
          50.97936222498244,
          54.509415262636274,
          57.038349691021445,
          54.06824146981627,
          48.650890989106124,
          53.134328358208954,
          51.972121020117214,
          47.50199946922358,
          44.87722269263336,
          37.74445505694719,
          48.756218905472636,
          43.186211724648174,
          7.675981234272145
         ],
         "yaxis": "y",
         "type": "scatter"
        },
        {
         "hovertemplate": "<b>OLS trendline</b><br>solar_systems_per_thousand_households = 198.606 * age_55_64_rate + 11.0469<br>R<sup>2</sup>=0.450039<br><br>age_55_64_rate=%{x}<br>solar_systems_per_thousand_households=%{y} <b>(trend)</b><extra></extra>",
         "legendgroup": "",
         "line": {
          "color": "LightPink"
         },
         "marker": {
          "color": "LightPink",
          "symbol": "circle"
         },
         "mode": "lines",
         "name": "",
         "showlegend": false,
         "x": [
          0.029432256389049997,
          0.049118578333150004,
          0.0556065333089,
          0.060769707624,
          0.0647797488539,
          0.06783169789714999,
          0.07039477928865001,
          0.0731454620803999,
          0.07556375876929995,
          0.077694235589,
          0.0799975678293,
          0.0821325648415,
          0.08402864104225,
          0.0859319587506,
          0.0875814808623999,
          0.08931525515135,
          0.090859030837,
          0.0926249299125,
          0.0945025743232,
          0.0957846019379,
          0.09727454698554999,
          0.0987979837146,
          0.100087638677,
          0.101551956815,
          0.102941152913,
          0.1045438950565,
          0.105839416058,
          0.1074080183905,
          0.109077040427,
          0.110505500594,
          0.112134121204,
          0.11383717851399999,
          0.1154359004175,
          0.116825208086,
          0.1184154319605,
          0.12,
          0.1213789018075,
          0.122915985616,
          0.1249086249055,
          0.12678032568550002,
          0.128467440488,
          0.1302702806275,
          0.132305194805,
          0.134152912591,
          0.135790030432,
          0.138016845329,
          0.1401663379105,
          0.142270460546,
          0.144302044382,
          0.146691469572,
          0.14907182797299995,
          0.1515954545455,
          0.15438761145,
          0.15728346373449995,
          0.160269093787,
          0.16389186864549998,
          0.16822129302,
          0.17175528732599996,
          0.17667620271749995,
          0.181275720165,
          0.1878400278585,
          0.197601370645,
          0.21270574044,
          0.23761362630900001
         ],
         "xaxis": "x",
         "y": [
          16.892363163468385,
          20.80218530488407,
          22.09073225076483,
          23.116169776092754,
          23.912588123469817,
          24.518723590402345,
          25.02776699643791,
          25.574069170796996,
          26.054357462618178,
          26.477482994400546,
          26.9349386541085,
          27.358961923353963,
          27.73553408002975,
          28.113544443742494,
          28.441149472949228,
          28.78548749212837,
          29.092090644015897,
          29.44280883934464,
          29.815720331471304,
          30.070338739526075,
          30.36625080239572,
          30.668814514967266,
          30.9249477602274,
          31.215770164447243,
          31.491672878938637,
          31.80998712460779,
          32.06728540057405,
          32.37881927409799,
          32.710297105830506,
          32.9939979009778,
          33.31745176600272,
          33.65568920810314,
          33.973205009887735,
          34.2491298829526,
          34.56495792498009,
          34.87966268410213,
          35.153520890480664,
          35.45879499524993,
          35.85454516311087,
          36.226276214372184,
          36.56134737843498,
          36.91940229163133,
          37.32354850694072,
          37.69051639110435,
          38.01565785739875,
          38.45791671173666,
          38.88481888837592,
          39.30271032040126,
          39.70619510982459,
          40.18074934802337,
          40.653502867302464,
          41.15471030858292,
          41.70924949160144,
          42.28438320181694,
          42.87734731763743,
          43.59685223050778,
          44.45670199457598,
          45.15857455484753,
          46.135897998421825,
          47.04938987400567,
          48.35310092963044,
          50.29176241576164,
          53.2915812556806,
          58.238437450707806
         ],
         "yaxis": "y",
         "type": "scatter"
        }
       ],
       "layout": {
        "template": {
         "data": {
          "bar": [
           {
            "error_x": {
             "color": "#2a3f5f"
            },
            "error_y": {
             "color": "#2a3f5f"
            },
            "marker": {
             "line": {
              "color": "#E5ECF6",
              "width": 0.5
             },
             "pattern": {
              "fillmode": "overlay",
              "size": 10,
              "solidity": 0.2
             }
            },
            "type": "bar"
           }
          ],
          "barpolar": [
           {
            "marker": {
             "line": {
              "color": "#E5ECF6",
              "width": 0.5
             },
             "pattern": {
              "fillmode": "overlay",
              "size": 10,
              "solidity": 0.2
             }
            },
            "type": "barpolar"
           }
          ],
          "carpet": [
           {
            "aaxis": {
             "endlinecolor": "#2a3f5f",
             "gridcolor": "white",
             "linecolor": "white",
             "minorgridcolor": "white",
             "startlinecolor": "#2a3f5f"
            },
            "baxis": {
             "endlinecolor": "#2a3f5f",
             "gridcolor": "white",
             "linecolor": "white",
             "minorgridcolor": "white",
             "startlinecolor": "#2a3f5f"
            },
            "type": "carpet"
           }
          ],
          "choropleth": [
           {
            "colorbar": {
             "outlinewidth": 0,
             "ticks": ""
            },
            "type": "choropleth"
           }
          ],
          "contour": [
           {
            "colorbar": {
             "outlinewidth": 0,
             "ticks": ""
            },
            "colorscale": [
             [
              0.0,
              "#0d0887"
             ],
             [
              0.1111111111111111,
              "#46039f"
             ],
             [
              0.2222222222222222,
              "#7201a8"
             ],
             [
              0.3333333333333333,
              "#9c179e"
             ],
             [
              0.4444444444444444,
              "#bd3786"
             ],
             [
              0.5555555555555556,
              "#d8576b"
             ],
             [
              0.6666666666666666,
              "#ed7953"
             ],
             [
              0.7777777777777778,
              "#fb9f3a"
             ],
             [
              0.8888888888888888,
              "#fdca26"
             ],
             [
              1.0,
              "#f0f921"
             ]
            ],
            "type": "contour"
           }
          ],
          "contourcarpet": [
           {
            "colorbar": {
             "outlinewidth": 0,
             "ticks": ""
            },
            "type": "contourcarpet"
           }
          ],
          "heatmap": [
           {
            "colorbar": {
             "outlinewidth": 0,
             "ticks": ""
            },
            "colorscale": [
             [
              0.0,
              "#0d0887"
             ],
             [
              0.1111111111111111,
              "#46039f"
             ],
             [
              0.2222222222222222,
              "#7201a8"
             ],
             [
              0.3333333333333333,
              "#9c179e"
             ],
             [
              0.4444444444444444,
              "#bd3786"
             ],
             [
              0.5555555555555556,
              "#d8576b"
             ],
             [
              0.6666666666666666,
              "#ed7953"
             ],
             [
              0.7777777777777778,
              "#fb9f3a"
             ],
             [
              0.8888888888888888,
              "#fdca26"
             ],
             [
              1.0,
              "#f0f921"
             ]
            ],
            "type": "heatmap"
           }
          ],
          "heatmapgl": [
           {
            "colorbar": {
             "outlinewidth": 0,
             "ticks": ""
            },
            "colorscale": [
             [
              0.0,
              "#0d0887"
             ],
             [
              0.1111111111111111,
              "#46039f"
             ],
             [
              0.2222222222222222,
              "#7201a8"
             ],
             [
              0.3333333333333333,
              "#9c179e"
             ],
             [
              0.4444444444444444,
              "#bd3786"
             ],
             [
              0.5555555555555556,
              "#d8576b"
             ],
             [
              0.6666666666666666,
              "#ed7953"
             ],
             [
              0.7777777777777778,
              "#fb9f3a"
             ],
             [
              0.8888888888888888,
              "#fdca26"
             ],
             [
              1.0,
              "#f0f921"
             ]
            ],
            "type": "heatmapgl"
           }
          ],
          "histogram": [
           {
            "marker": {
             "pattern": {
              "fillmode": "overlay",
              "size": 10,
              "solidity": 0.2
             }
            },
            "type": "histogram"
           }
          ],
          "histogram2d": [
           {
            "colorbar": {
             "outlinewidth": 0,
             "ticks": ""
            },
            "colorscale": [
             [
              0.0,
              "#0d0887"
             ],
             [
              0.1111111111111111,
              "#46039f"
             ],
             [
              0.2222222222222222,
              "#7201a8"
             ],
             [
              0.3333333333333333,
              "#9c179e"
             ],
             [
              0.4444444444444444,
              "#bd3786"
             ],
             [
              0.5555555555555556,
              "#d8576b"
             ],
             [
              0.6666666666666666,
              "#ed7953"
             ],
             [
              0.7777777777777778,
              "#fb9f3a"
             ],
             [
              0.8888888888888888,
              "#fdca26"
             ],
             [
              1.0,
              "#f0f921"
             ]
            ],
            "type": "histogram2d"
           }
          ],
          "histogram2dcontour": [
           {
            "colorbar": {
             "outlinewidth": 0,
             "ticks": ""
            },
            "colorscale": [
             [
              0.0,
              "#0d0887"
             ],
             [
              0.1111111111111111,
              "#46039f"
             ],
             [
              0.2222222222222222,
              "#7201a8"
             ],
             [
              0.3333333333333333,
              "#9c179e"
             ],
             [
              0.4444444444444444,
              "#bd3786"
             ],
             [
              0.5555555555555556,
              "#d8576b"
             ],
             [
              0.6666666666666666,
              "#ed7953"
             ],
             [
              0.7777777777777778,
              "#fb9f3a"
             ],
             [
              0.8888888888888888,
              "#fdca26"
             ],
             [
              1.0,
              "#f0f921"
             ]
            ],
            "type": "histogram2dcontour"
           }
          ],
          "mesh3d": [
           {
            "colorbar": {
             "outlinewidth": 0,
             "ticks": ""
            },
            "type": "mesh3d"
           }
          ],
          "parcoords": [
           {
            "line": {
             "colorbar": {
              "outlinewidth": 0,
              "ticks": ""
             }
            },
            "type": "parcoords"
           }
          ],
          "pie": [
           {
            "automargin": true,
            "type": "pie"
           }
          ],
          "scatter": [
           {
            "marker": {
             "colorbar": {
              "outlinewidth": 0,
              "ticks": ""
             }
            },
            "type": "scatter"
           }
          ],
          "scatter3d": [
           {
            "line": {
             "colorbar": {
              "outlinewidth": 0,
              "ticks": ""
             }
            },
            "marker": {
             "colorbar": {
              "outlinewidth": 0,
              "ticks": ""
             }
            },
            "type": "scatter3d"
           }
          ],
          "scattercarpet": [
           {
            "marker": {
             "colorbar": {
              "outlinewidth": 0,
              "ticks": ""
             }
            },
            "type": "scattercarpet"
           }
          ],
          "scattergeo": [
           {
            "marker": {
             "colorbar": {
              "outlinewidth": 0,
              "ticks": ""
             }
            },
            "type": "scattergeo"
           }
          ],
          "scattergl": [
           {
            "marker": {
             "colorbar": {
              "outlinewidth": 0,
              "ticks": ""
             }
            },
            "type": "scattergl"
           }
          ],
          "scattermapbox": [
           {
            "marker": {
             "colorbar": {
              "outlinewidth": 0,
              "ticks": ""
             }
            },
            "type": "scattermapbox"
           }
          ],
          "scatterpolar": [
           {
            "marker": {
             "colorbar": {
              "outlinewidth": 0,
              "ticks": ""
             }
            },
            "type": "scatterpolar"
           }
          ],
          "scatterpolargl": [
           {
            "marker": {
             "colorbar": {
              "outlinewidth": 0,
              "ticks": ""
             }
            },
            "type": "scatterpolargl"
           }
          ],
          "scatterternary": [
           {
            "marker": {
             "colorbar": {
              "outlinewidth": 0,
              "ticks": ""
             }
            },
            "type": "scatterternary"
           }
          ],
          "surface": [
           {
            "colorbar": {
             "outlinewidth": 0,
             "ticks": ""
            },
            "colorscale": [
             [
              0.0,
              "#0d0887"
             ],
             [
              0.1111111111111111,
              "#46039f"
             ],
             [
              0.2222222222222222,
              "#7201a8"
             ],
             [
              0.3333333333333333,
              "#9c179e"
             ],
             [
              0.4444444444444444,
              "#bd3786"
             ],
             [
              0.5555555555555556,
              "#d8576b"
             ],
             [
              0.6666666666666666,
              "#ed7953"
             ],
             [
              0.7777777777777778,
              "#fb9f3a"
             ],
             [
              0.8888888888888888,
              "#fdca26"
             ],
             [
              1.0,
              "#f0f921"
             ]
            ],
            "type": "surface"
           }
          ],
          "table": [
           {
            "cells": {
             "fill": {
              "color": "#EBF0F8"
             },
             "line": {
              "color": "white"
             }
            },
            "header": {
             "fill": {
              "color": "#C8D4E3"
             },
             "line": {
              "color": "white"
             }
            },
            "type": "table"
           }
          ]
         },
         "layout": {
          "annotationdefaults": {
           "arrowcolor": "#2a3f5f",
           "arrowhead": 0,
           "arrowwidth": 1
          },
          "autotypenumbers": "strict",
          "coloraxis": {
           "colorbar": {
            "outlinewidth": 0,
            "ticks": ""
           }
          },
          "colorscale": {
           "diverging": [
            [
             0,
             "#8e0152"
            ],
            [
             0.1,
             "#c51b7d"
            ],
            [
             0.2,
             "#de77ae"
            ],
            [
             0.3,
             "#f1b6da"
            ],
            [
             0.4,
             "#fde0ef"
            ],
            [
             0.5,
             "#f7f7f7"
            ],
            [
             0.6,
             "#e6f5d0"
            ],
            [
             0.7,
             "#b8e186"
            ],
            [
             0.8,
             "#7fbc41"
            ],
            [
             0.9,
             "#4d9221"
            ],
            [
             1,
             "#276419"
            ]
           ],
           "sequential": [
            [
             0.0,
             "#0d0887"
            ],
            [
             0.1111111111111111,
             "#46039f"
            ],
            [
             0.2222222222222222,
             "#7201a8"
            ],
            [
             0.3333333333333333,
             "#9c179e"
            ],
            [
             0.4444444444444444,
             "#bd3786"
            ],
            [
             0.5555555555555556,
             "#d8576b"
            ],
            [
             0.6666666666666666,
             "#ed7953"
            ],
            [
             0.7777777777777778,
             "#fb9f3a"
            ],
            [
             0.8888888888888888,
             "#fdca26"
            ],
            [
             1.0,
             "#f0f921"
            ]
           ],
           "sequentialminus": [
            [
             0.0,
             "#0d0887"
            ],
            [
             0.1111111111111111,
             "#46039f"
            ],
            [
             0.2222222222222222,
             "#7201a8"
            ],
            [
             0.3333333333333333,
             "#9c179e"
            ],
            [
             0.4444444444444444,
             "#bd3786"
            ],
            [
             0.5555555555555556,
             "#d8576b"
            ],
            [
             0.6666666666666666,
             "#ed7953"
            ],
            [
             0.7777777777777778,
             "#fb9f3a"
            ],
            [
             0.8888888888888888,
             "#fdca26"
            ],
            [
             1.0,
             "#f0f921"
            ]
           ]
          },
          "colorway": [
           "#636efa",
           "#EF553B",
           "#00cc96",
           "#ab63fa",
           "#FFA15A",
           "#19d3f3",
           "#FF6692",
           "#B6E880",
           "#FF97FF",
           "#FECB52"
          ],
          "font": {
           "color": "#2a3f5f"
          },
          "geo": {
           "bgcolor": "white",
           "lakecolor": "white",
           "landcolor": "#E5ECF6",
           "showlakes": true,
           "showland": true,
           "subunitcolor": "white"
          },
          "hoverlabel": {
           "align": "left"
          },
          "hovermode": "closest",
          "mapbox": {
           "style": "light"
          },
          "paper_bgcolor": "white",
          "plot_bgcolor": "#E5ECF6",
          "polar": {
           "angularaxis": {
            "gridcolor": "white",
            "linecolor": "white",
            "ticks": ""
           },
           "bgcolor": "#E5ECF6",
           "radialaxis": {
            "gridcolor": "white",
            "linecolor": "white",
            "ticks": ""
           }
          },
          "scene": {
           "xaxis": {
            "backgroundcolor": "#E5ECF6",
            "gridcolor": "white",
            "gridwidth": 2,
            "linecolor": "white",
            "showbackground": true,
            "ticks": "",
            "zerolinecolor": "white"
           },
           "yaxis": {
            "backgroundcolor": "#E5ECF6",
            "gridcolor": "white",
            "gridwidth": 2,
            "linecolor": "white",
            "showbackground": true,
            "ticks": "",
            "zerolinecolor": "white"
           },
           "zaxis": {
            "backgroundcolor": "#E5ECF6",
            "gridcolor": "white",
            "gridwidth": 2,
            "linecolor": "white",
            "showbackground": true,
            "ticks": "",
            "zerolinecolor": "white"
           }
          },
          "shapedefaults": {
           "line": {
            "color": "#2a3f5f"
           }
          },
          "ternary": {
           "aaxis": {
            "gridcolor": "white",
            "linecolor": "white",
            "ticks": ""
           },
           "baxis": {
            "gridcolor": "white",
            "linecolor": "white",
            "ticks": ""
           },
           "bgcolor": "#E5ECF6",
           "caxis": {
            "gridcolor": "white",
            "linecolor": "white",
            "ticks": ""
           }
          },
          "title": {
           "x": 0.05
          },
          "xaxis": {
           "automargin": true,
           "gridcolor": "white",
           "linecolor": "white",
           "ticks": "",
           "title": {
            "standoff": 15
           },
           "zerolinecolor": "white",
           "zerolinewidth": 2
          },
          "yaxis": {
           "automargin": true,
           "gridcolor": "white",
           "linecolor": "white",
           "ticks": "",
           "title": {
            "standoff": 15
           },
           "zerolinecolor": "white",
           "zerolinewidth": 2
          }
         }
        },
        "xaxis": {
         "anchor": "y",
         "domain": [
          0.0,
          1.0
         ],
         "title": {
          "text": "age_55_64_rate"
         }
        },
        "yaxis": {
         "anchor": "x",
         "domain": [
          0.0,
          1.0
         ],
         "title": {
          "text": "solar_systems_per_thousand_households"
         }
        },
        "legend": {
         "tracegroupgap": 0
        },
        "margin": {
         "t": 60
        }
       },
       "config": {
        "plotlyServerURL": "https://plot.ly"
       }
      },
      "text/html": "<div>                            <div id=\"a7f1dc22-4d65-4bad-9712-c622e4bdd537\" class=\"plotly-graph-div\" style=\"height:525px; width:100%;\"></div>            <script type=\"text/javascript\">                require([\"plotly\"], function(Plotly) {                    window.PLOTLYENV=window.PLOTLYENV || {};                                    if (document.getElementById(\"a7f1dc22-4d65-4bad-9712-c622e4bdd537\")) {                    Plotly.newPlot(                        \"a7f1dc22-4d65-4bad-9712-c622e4bdd537\",                        [{\"hovertemplate\":\"age_55_64_rate=%{x}<br>solar_systems_per_thousand_households=%{y}<extra></extra>\",\"legendgroup\":\"\",\"marker\":{\"color\":\"LightPink\",\"symbol\":\"circle\"},\"mode\":\"markers\",\"name\":\"\",\"orientation\":\"v\",\"showlegend\":false,\"x\":[0.029432256389049997,0.049118578333150004,0.0556065333089,0.060769707624,0.0647797488539,0.06783169789714999,0.07039477928865001,0.0731454620803999,0.07556375876929995,0.077694235589,0.0799975678293,0.0821325648415,0.08402864104225,0.0859319587506,0.0875814808623999,0.08931525515135,0.090859030837,0.0926249299125,0.0945025743232,0.0957846019379,0.09727454698554999,0.0987979837146,0.100087638677,0.101551956815,0.102941152913,0.1045438950565,0.105839416058,0.1074080183905,0.109077040427,0.110505500594,0.112134121204,0.11383717851399999,0.1154359004175,0.116825208086,0.1184154319605,0.12,0.1213789018075,0.122915985616,0.1249086249055,0.12678032568550002,0.128467440488,0.1302702806275,0.132305194805,0.134152912591,0.135790030432,0.138016845329,0.1401663379105,0.142270460546,0.144302044382,0.146691469572,0.14907182797299995,0.1515954545455,0.15438761145,0.15728346373449995,0.160269093787,0.16389186864549998,0.16822129302,0.17175528732599996,0.17667620271749995,0.181275720165,0.1878400278585,0.197601370645,0.21270574044,0.23761362630900001],\"xaxis\":\"x\",\"y\":[11.580016091337496,13.78431694407237,16.85823754789272,16.117363474446776,19.138755980861244,16.662502194255243,20.850939844462683,21.645021645021643,23.1368583833938,19.57713390759593,21.105704287102355,28.109028960817717,26.81922700695357,25.20687789188236,26.888604353393085,33.90229638582401,25.169796244506593,25.645127137561644,21.929824561403507,23.895566022413515,28.913313494937885,33.1720801658604,38.49789012791513,29.454022988505745,27.491007003005027,28.49382462973402,32.77153558052434,34.78026829887866,25.68922305764411,29.677444807846644,34.89771359807461,36.782805499333435,39.906810760086515,35.92814371257485,34.57873408960125,37.66160764474424,38.4903786078322,39.833531510107015,38.525513076411286,48.76171692521019,52.56869772998805,34.65189185664921,45.15706806282722,43.90960000605601,42.25520137430807,42.01977401129944,45.44619339247818,41.811846689895475,42.5451740581119,50.734312416555404,38.9871226739845,50.97936222498244,54.509415262636274,57.038349691021445,54.06824146981627,48.650890989106124,53.134328358208954,51.972121020117214,47.50199946922358,44.87722269263336,37.74445505694719,48.756218905472636,43.186211724648174,7.675981234272145],\"yaxis\":\"y\",\"type\":\"scatter\"},{\"hovertemplate\":\"<b>OLS trendline</b><br>solar_systems_per_thousand_households = 198.606 * age_55_64_rate + 11.0469<br>R<sup>2</sup>=0.450039<br><br>age_55_64_rate=%{x}<br>solar_systems_per_thousand_households=%{y} <b>(trend)</b><extra></extra>\",\"legendgroup\":\"\",\"line\":{\"color\":\"LightPink\"},\"marker\":{\"color\":\"LightPink\",\"symbol\":\"circle\"},\"mode\":\"lines\",\"name\":\"\",\"showlegend\":false,\"x\":[0.029432256389049997,0.049118578333150004,0.0556065333089,0.060769707624,0.0647797488539,0.06783169789714999,0.07039477928865001,0.0731454620803999,0.07556375876929995,0.077694235589,0.0799975678293,0.0821325648415,0.08402864104225,0.0859319587506,0.0875814808623999,0.08931525515135,0.090859030837,0.0926249299125,0.0945025743232,0.0957846019379,0.09727454698554999,0.0987979837146,0.100087638677,0.101551956815,0.102941152913,0.1045438950565,0.105839416058,0.1074080183905,0.109077040427,0.110505500594,0.112134121204,0.11383717851399999,0.1154359004175,0.116825208086,0.1184154319605,0.12,0.1213789018075,0.122915985616,0.1249086249055,0.12678032568550002,0.128467440488,0.1302702806275,0.132305194805,0.134152912591,0.135790030432,0.138016845329,0.1401663379105,0.142270460546,0.144302044382,0.146691469572,0.14907182797299995,0.1515954545455,0.15438761145,0.15728346373449995,0.160269093787,0.16389186864549998,0.16822129302,0.17175528732599996,0.17667620271749995,0.181275720165,0.1878400278585,0.197601370645,0.21270574044,0.23761362630900001],\"xaxis\":\"x\",\"y\":[16.892363163468385,20.80218530488407,22.09073225076483,23.116169776092754,23.912588123469817,24.518723590402345,25.02776699643791,25.574069170796996,26.054357462618178,26.477482994400546,26.9349386541085,27.358961923353963,27.73553408002975,28.113544443742494,28.441149472949228,28.78548749212837,29.092090644015897,29.44280883934464,29.815720331471304,30.070338739526075,30.36625080239572,30.668814514967266,30.9249477602274,31.215770164447243,31.491672878938637,31.80998712460779,32.06728540057405,32.37881927409799,32.710297105830506,32.9939979009778,33.31745176600272,33.65568920810314,33.973205009887735,34.2491298829526,34.56495792498009,34.87966268410213,35.153520890480664,35.45879499524993,35.85454516311087,36.226276214372184,36.56134737843498,36.91940229163133,37.32354850694072,37.69051639110435,38.01565785739875,38.45791671173666,38.88481888837592,39.30271032040126,39.70619510982459,40.18074934802337,40.653502867302464,41.15471030858292,41.70924949160144,42.28438320181694,42.87734731763743,43.59685223050778,44.45670199457598,45.15857455484753,46.135897998421825,47.04938987400567,48.35310092963044,50.29176241576164,53.2915812556806,58.238437450707806],\"yaxis\":\"y\",\"type\":\"scatter\"}],                        {\"template\":{\"data\":{\"bar\":[{\"error_x\":{\"color\":\"#2a3f5f\"},\"error_y\":{\"color\":\"#2a3f5f\"},\"marker\":{\"line\":{\"color\":\"#E5ECF6\",\"width\":0.5},\"pattern\":{\"fillmode\":\"overlay\",\"size\":10,\"solidity\":0.2}},\"type\":\"bar\"}],\"barpolar\":[{\"marker\":{\"line\":{\"color\":\"#E5ECF6\",\"width\":0.5},\"pattern\":{\"fillmode\":\"overlay\",\"size\":10,\"solidity\":0.2}},\"type\":\"barpolar\"}],\"carpet\":[{\"aaxis\":{\"endlinecolor\":\"#2a3f5f\",\"gridcolor\":\"white\",\"linecolor\":\"white\",\"minorgridcolor\":\"white\",\"startlinecolor\":\"#2a3f5f\"},\"baxis\":{\"endlinecolor\":\"#2a3f5f\",\"gridcolor\":\"white\",\"linecolor\":\"white\",\"minorgridcolor\":\"white\",\"startlinecolor\":\"#2a3f5f\"},\"type\":\"carpet\"}],\"choropleth\":[{\"colorbar\":{\"outlinewidth\":0,\"ticks\":\"\"},\"type\":\"choropleth\"}],\"contour\":[{\"colorbar\":{\"outlinewidth\":0,\"ticks\":\"\"},\"colorscale\":[[0.0,\"#0d0887\"],[0.1111111111111111,\"#46039f\"],[0.2222222222222222,\"#7201a8\"],[0.3333333333333333,\"#9c179e\"],[0.4444444444444444,\"#bd3786\"],[0.5555555555555556,\"#d8576b\"],[0.6666666666666666,\"#ed7953\"],[0.7777777777777778,\"#fb9f3a\"],[0.8888888888888888,\"#fdca26\"],[1.0,\"#f0f921\"]],\"type\":\"contour\"}],\"contourcarpet\":[{\"colorbar\":{\"outlinewidth\":0,\"ticks\":\"\"},\"type\":\"contourcarpet\"}],\"heatmap\":[{\"colorbar\":{\"outlinewidth\":0,\"ticks\":\"\"},\"colorscale\":[[0.0,\"#0d0887\"],[0.1111111111111111,\"#46039f\"],[0.2222222222222222,\"#7201a8\"],[0.3333333333333333,\"#9c179e\"],[0.4444444444444444,\"#bd3786\"],[0.5555555555555556,\"#d8576b\"],[0.6666666666666666,\"#ed7953\"],[0.7777777777777778,\"#fb9f3a\"],[0.8888888888888888,\"#fdca26\"],[1.0,\"#f0f921\"]],\"type\":\"heatmap\"}],\"heatmapgl\":[{\"colorbar\":{\"outlinewidth\":0,\"ticks\":\"\"},\"colorscale\":[[0.0,\"#0d0887\"],[0.1111111111111111,\"#46039f\"],[0.2222222222222222,\"#7201a8\"],[0.3333333333333333,\"#9c179e\"],[0.4444444444444444,\"#bd3786\"],[0.5555555555555556,\"#d8576b\"],[0.6666666666666666,\"#ed7953\"],[0.7777777777777778,\"#fb9f3a\"],[0.8888888888888888,\"#fdca26\"],[1.0,\"#f0f921\"]],\"type\":\"heatmapgl\"}],\"histogram\":[{\"marker\":{\"pattern\":{\"fillmode\":\"overlay\",\"size\":10,\"solidity\":0.2}},\"type\":\"histogram\"}],\"histogram2d\":[{\"colorbar\":{\"outlinewidth\":0,\"ticks\":\"\"},\"colorscale\":[[0.0,\"#0d0887\"],[0.1111111111111111,\"#46039f\"],[0.2222222222222222,\"#7201a8\"],[0.3333333333333333,\"#9c179e\"],[0.4444444444444444,\"#bd3786\"],[0.5555555555555556,\"#d8576b\"],[0.6666666666666666,\"#ed7953\"],[0.7777777777777778,\"#fb9f3a\"],[0.8888888888888888,\"#fdca26\"],[1.0,\"#f0f921\"]],\"type\":\"histogram2d\"}],\"histogram2dcontour\":[{\"colorbar\":{\"outlinewidth\":0,\"ticks\":\"\"},\"colorscale\":[[0.0,\"#0d0887\"],[0.1111111111111111,\"#46039f\"],[0.2222222222222222,\"#7201a8\"],[0.3333333333333333,\"#9c179e\"],[0.4444444444444444,\"#bd3786\"],[0.5555555555555556,\"#d8576b\"],[0.6666666666666666,\"#ed7953\"],[0.7777777777777778,\"#fb9f3a\"],[0.8888888888888888,\"#fdca26\"],[1.0,\"#f0f921\"]],\"type\":\"histogram2dcontour\"}],\"mesh3d\":[{\"colorbar\":{\"outlinewidth\":0,\"ticks\":\"\"},\"type\":\"mesh3d\"}],\"parcoords\":[{\"line\":{\"colorbar\":{\"outlinewidth\":0,\"ticks\":\"\"}},\"type\":\"parcoords\"}],\"pie\":[{\"automargin\":true,\"type\":\"pie\"}],\"scatter\":[{\"marker\":{\"colorbar\":{\"outlinewidth\":0,\"ticks\":\"\"}},\"type\":\"scatter\"}],\"scatter3d\":[{\"line\":{\"colorbar\":{\"outlinewidth\":0,\"ticks\":\"\"}},\"marker\":{\"colorbar\":{\"outlinewidth\":0,\"ticks\":\"\"}},\"type\":\"scatter3d\"}],\"scattercarpet\":[{\"marker\":{\"colorbar\":{\"outlinewidth\":0,\"ticks\":\"\"}},\"type\":\"scattercarpet\"}],\"scattergeo\":[{\"marker\":{\"colorbar\":{\"outlinewidth\":0,\"ticks\":\"\"}},\"type\":\"scattergeo\"}],\"scattergl\":[{\"marker\":{\"colorbar\":{\"outlinewidth\":0,\"ticks\":\"\"}},\"type\":\"scattergl\"}],\"scattermapbox\":[{\"marker\":{\"colorbar\":{\"outlinewidth\":0,\"ticks\":\"\"}},\"type\":\"scattermapbox\"}],\"scatterpolar\":[{\"marker\":{\"colorbar\":{\"outlinewidth\":0,\"ticks\":\"\"}},\"type\":\"scatterpolar\"}],\"scatterpolargl\":[{\"marker\":{\"colorbar\":{\"outlinewidth\":0,\"ticks\":\"\"}},\"type\":\"scatterpolargl\"}],\"scatterternary\":[{\"marker\":{\"colorbar\":{\"outlinewidth\":0,\"ticks\":\"\"}},\"type\":\"scatterternary\"}],\"surface\":[{\"colorbar\":{\"outlinewidth\":0,\"ticks\":\"\"},\"colorscale\":[[0.0,\"#0d0887\"],[0.1111111111111111,\"#46039f\"],[0.2222222222222222,\"#7201a8\"],[0.3333333333333333,\"#9c179e\"],[0.4444444444444444,\"#bd3786\"],[0.5555555555555556,\"#d8576b\"],[0.6666666666666666,\"#ed7953\"],[0.7777777777777778,\"#fb9f3a\"],[0.8888888888888888,\"#fdca26\"],[1.0,\"#f0f921\"]],\"type\":\"surface\"}],\"table\":[{\"cells\":{\"fill\":{\"color\":\"#EBF0F8\"},\"line\":{\"color\":\"white\"}},\"header\":{\"fill\":{\"color\":\"#C8D4E3\"},\"line\":{\"color\":\"white\"}},\"type\":\"table\"}]},\"layout\":{\"annotationdefaults\":{\"arrowcolor\":\"#2a3f5f\",\"arrowhead\":0,\"arrowwidth\":1},\"autotypenumbers\":\"strict\",\"coloraxis\":{\"colorbar\":{\"outlinewidth\":0,\"ticks\":\"\"}},\"colorscale\":{\"diverging\":[[0,\"#8e0152\"],[0.1,\"#c51b7d\"],[0.2,\"#de77ae\"],[0.3,\"#f1b6da\"],[0.4,\"#fde0ef\"],[0.5,\"#f7f7f7\"],[0.6,\"#e6f5d0\"],[0.7,\"#b8e186\"],[0.8,\"#7fbc41\"],[0.9,\"#4d9221\"],[1,\"#276419\"]],\"sequential\":[[0.0,\"#0d0887\"],[0.1111111111111111,\"#46039f\"],[0.2222222222222222,\"#7201a8\"],[0.3333333333333333,\"#9c179e\"],[0.4444444444444444,\"#bd3786\"],[0.5555555555555556,\"#d8576b\"],[0.6666666666666666,\"#ed7953\"],[0.7777777777777778,\"#fb9f3a\"],[0.8888888888888888,\"#fdca26\"],[1.0,\"#f0f921\"]],\"sequentialminus\":[[0.0,\"#0d0887\"],[0.1111111111111111,\"#46039f\"],[0.2222222222222222,\"#7201a8\"],[0.3333333333333333,\"#9c179e\"],[0.4444444444444444,\"#bd3786\"],[0.5555555555555556,\"#d8576b\"],[0.6666666666666666,\"#ed7953\"],[0.7777777777777778,\"#fb9f3a\"],[0.8888888888888888,\"#fdca26\"],[1.0,\"#f0f921\"]]},\"colorway\":[\"#636efa\",\"#EF553B\",\"#00cc96\",\"#ab63fa\",\"#FFA15A\",\"#19d3f3\",\"#FF6692\",\"#B6E880\",\"#FF97FF\",\"#FECB52\"],\"font\":{\"color\":\"#2a3f5f\"},\"geo\":{\"bgcolor\":\"white\",\"lakecolor\":\"white\",\"landcolor\":\"#E5ECF6\",\"showlakes\":true,\"showland\":true,\"subunitcolor\":\"white\"},\"hoverlabel\":{\"align\":\"left\"},\"hovermode\":\"closest\",\"mapbox\":{\"style\":\"light\"},\"paper_bgcolor\":\"white\",\"plot_bgcolor\":\"#E5ECF6\",\"polar\":{\"angularaxis\":{\"gridcolor\":\"white\",\"linecolor\":\"white\",\"ticks\":\"\"},\"bgcolor\":\"#E5ECF6\",\"radialaxis\":{\"gridcolor\":\"white\",\"linecolor\":\"white\",\"ticks\":\"\"}},\"scene\":{\"xaxis\":{\"backgroundcolor\":\"#E5ECF6\",\"gridcolor\":\"white\",\"gridwidth\":2,\"linecolor\":\"white\",\"showbackground\":true,\"ticks\":\"\",\"zerolinecolor\":\"white\"},\"yaxis\":{\"backgroundcolor\":\"#E5ECF6\",\"gridcolor\":\"white\",\"gridwidth\":2,\"linecolor\":\"white\",\"showbackground\":true,\"ticks\":\"\",\"zerolinecolor\":\"white\"},\"zaxis\":{\"backgroundcolor\":\"#E5ECF6\",\"gridcolor\":\"white\",\"gridwidth\":2,\"linecolor\":\"white\",\"showbackground\":true,\"ticks\":\"\",\"zerolinecolor\":\"white\"}},\"shapedefaults\":{\"line\":{\"color\":\"#2a3f5f\"}},\"ternary\":{\"aaxis\":{\"gridcolor\":\"white\",\"linecolor\":\"white\",\"ticks\":\"\"},\"baxis\":{\"gridcolor\":\"white\",\"linecolor\":\"white\",\"ticks\":\"\"},\"bgcolor\":\"#E5ECF6\",\"caxis\":{\"gridcolor\":\"white\",\"linecolor\":\"white\",\"ticks\":\"\"}},\"title\":{\"x\":0.05},\"xaxis\":{\"automargin\":true,\"gridcolor\":\"white\",\"linecolor\":\"white\",\"ticks\":\"\",\"title\":{\"standoff\":15},\"zerolinecolor\":\"white\",\"zerolinewidth\":2},\"yaxis\":{\"automargin\":true,\"gridcolor\":\"white\",\"linecolor\":\"white\",\"ticks\":\"\",\"title\":{\"standoff\":15},\"zerolinecolor\":\"white\",\"zerolinewidth\":2}}},\"xaxis\":{\"anchor\":\"y\",\"domain\":[0.0,1.0],\"title\":{\"text\":\"age_55_64_rate\"}},\"yaxis\":{\"anchor\":\"x\",\"domain\":[0.0,1.0],\"title\":{\"text\":\"solar_systems_per_thousand_households\"}},\"legend\":{\"tracegroupgap\":0},\"margin\":{\"t\":60}},                        {\"responsive\": true}                    ).then(function(){\n                            \nvar gd = document.getElementById('a7f1dc22-4d65-4bad-9712-c622e4bdd537');\nvar x = new MutationObserver(function (mutations, observer) {{\n        var display = window.getComputedStyle(gd).display;\n        if (!display || display === 'none') {{\n            console.log([gd, 'removed!']);\n            Plotly.purge(gd);\n            observer.disconnect();\n        }}\n}});\n\n// Listen for the removal of the full notebook cells\nvar notebookContainer = gd.closest('#notebook-container');\nif (notebookContainer) {{\n    x.observe(notebookContainer, {childList: true});\n}}\n\n// Listen for the clearing of the current output cell\nvar outputEl = gd.closest('.output');\nif (outputEl) {{\n    x.observe(outputEl, {childList: true});\n}}\n\n                        })                };                });            </script>        </div>"
     },
     "metadata": {},
     "output_type": "display_data"
    },
    {
     "name": "stdout",
     "output_type": "stream",
     "text": [
      "results:  <statsmodels.regression.linear_model.RegressionResultsWrapper object at 0x7fabcf736970>\n",
      "alpha:  11.046939725383293\n",
      "beta:  198.60602465599027\n",
      "p_beta:  1.3173763858838336e-09\n",
      "r_squared:  0.45003923267410983\n"
     ]
    }
   ]
  },
  {
   "cell_type": "code",
   "source": [
    "hi21 = median_dataframe('age_65_74_rate_binned', 'age_65_74_rate')\n",
    "plot_scatter(hi21, 'age_65_74_rate', 'solar_systems_per_thousand_households', 'MediumPurple', 'age_64_74')"
   ],
   "metadata": {
    "execution": {
     "iopub.status.busy": "2022-01-30T17:06:38.833163Z",
     "iopub.execute_input": "2022-01-30T17:06:38.833427Z",
     "iopub.status.idle": "2022-01-30T17:06:38.951630Z",
     "shell.execute_reply.started": "2022-01-30T17:06:38.833394Z",
     "shell.execute_reply": "2022-01-30T17:06:38.950727Z"
    },
    "trusted": true
   },
   "execution_count": 52,
   "outputs": [
    {
     "data": {
      "application/vnd.plotly.v1+json": {
       "data": [
        {
         "hovertemplate": "age_65_74_rate=%{x}<br>solar_systems_per_thousand_households=%{y}<extra></extra>",
         "legendgroup": "",
         "marker": {
          "color": "MediumPurple",
          "symbol": "circle"
         },
         "mode": "markers",
         "name": "",
         "orientation": "v",
         "showlegend": false,
         "x": [
          0.01070388491875,
          0.02055826820705,
          0.0244708994709,
          0.0277546681457,
          0.0302495588606,
          0.032576380780949946,
          0.034520802824650004,
          0.0360149672591,
          0.0376663834608,
          0.03921876249715,
          0.0407506094601,
          0.0422889043964,
          0.04355029312075,
          0.0447392581694,
          0.0460593654043,
          0.04710018003135,
          0.0482866043614,
          0.0494313156446,
          0.0505803428815,
          0.0516842375931999,
          0.0527849378011999,
          0.0539332538737,
          0.0549390721382,
          0.0559772296015,
          0.0572415277269,
          0.058545165840349994,
          0.0597104945718,
          0.0608999084883,
          0.0621341737956,
          0.06329258320105,
          0.0642504118616,
          0.06541475423375,
          0.06664396401244996,
          0.0679933665008,
          0.0691996431964,
          0.0707778556412,
          0.0720601563401499,
          0.0733437121605,
          0.07470355314179994,
          0.07618375918525,
          0.0776212832551,
          0.07922560347055,
          0.0808480894688,
          0.08237209769199999,
          0.084094727648,
          0.0859247135843,
          0.08786355559709999,
          0.0902056607616,
          0.09248160304495,
          0.0948555802427,
          0.0971537836521,
          0.09973307118735,
          0.102494942684,
          0.1052468597035,
          0.108391608392,
          0.111802317708,
          0.115763546798,
          0.11958680276,
          0.12549745469899995,
          0.1307523739959999,
          0.138555567139,
          0.149524632671,
          0.166907203086,
          0.2203282732665
         ],
         "xaxis": "x",
         "y": [
          12.459381860731472,
          16.381293125479175,
          16.064257028112447,
          17.16477038212799,
          18.315018315018317,
          20.73994190583543,
          15.9008583881067,
          24.077046548956663,
          22.00592467202708,
          21.66034790365745,
          31.44103398508958,
          25.808796801163215,
          22.69040364435239,
          27.33990816042759,
          24.324324324324326,
          27.595527902624717,
          27.48930971288943,
          34.63022664731619,
          24.48355011476664,
          29.454022988505745,
          31.659388646288207,
          33.67003367003367,
          30.238404383202006,
          34.89531405782652,
          31.57871308063834,
          30.327842584284063,
          30.1994301994302,
          31.871890733502394,
          37.080635668040024,
          39.374299374670784,
          31.94103194103194,
          39.85924109007276,
          33.23051411755071,
          33.852403520649965,
          32.65695423094014,
          40.55944055944056,
          37.04606325574068,
          36.644951140065146,
          49.371577186590585,
          39.49194827925379,
          38.46153846153847,
          37.63076923076923,
          37.16814159292036,
          42.24323946151354,
          40.5486817842715,
          42.24240031583103,
          43.57131474979256,
          42.244224422442244,
          40.62855748902261,
          42.82655246252676,
          51.18116011281529,
          36.66736638249176,
          46.436285097192226,
          37.92264763018004,
          52.798310454065465,
          54.39280208947987,
          38.63381858902576,
          42.014103099895856,
          63.717045946789966,
          46.526449968132574,
          49.06001018124992,
          32.83369022127052,
          41.60397369886209,
          37.29896216504535
         ],
         "yaxis": "y",
         "type": "scatter"
        },
        {
         "hovertemplate": "<b>OLS trendline</b><br>solar_systems_per_thousand_households = 195.873 * age_65_74_rate + 20.1011<br>R<sup>2</sup>=0.506335<br><br>age_65_74_rate=%{x}<br>solar_systems_per_thousand_households=%{y} <b>(trend)</b><extra></extra>",
         "legendgroup": "",
         "line": {
          "color": "MediumPurple"
         },
         "marker": {
          "color": "MediumPurple",
          "symbol": "circle"
         },
         "mode": "lines",
         "name": "",
         "showlegend": false,
         "x": [
          0.01070388491875,
          0.02055826820705,
          0.0244708994709,
          0.0277546681457,
          0.0302495588606,
          0.032576380780949946,
          0.034520802824650004,
          0.0360149672591,
          0.0376663834608,
          0.03921876249715,
          0.0407506094601,
          0.0422889043964,
          0.04355029312075,
          0.0447392581694,
          0.0460593654043,
          0.04710018003135,
          0.0482866043614,
          0.0494313156446,
          0.0505803428815,
          0.0516842375931999,
          0.0527849378011999,
          0.0539332538737,
          0.0549390721382,
          0.0559772296015,
          0.0572415277269,
          0.058545165840349994,
          0.0597104945718,
          0.0608999084883,
          0.0621341737956,
          0.06329258320105,
          0.0642504118616,
          0.06541475423375,
          0.06664396401244996,
          0.0679933665008,
          0.0691996431964,
          0.0707778556412,
          0.0720601563401499,
          0.0733437121605,
          0.07470355314179994,
          0.07618375918525,
          0.0776212832551,
          0.07922560347055,
          0.0808480894688,
          0.08237209769199999,
          0.084094727648,
          0.0859247135843,
          0.08786355559709999,
          0.0902056607616,
          0.09248160304495,
          0.0948555802427,
          0.0971537836521,
          0.09973307118735,
          0.102494942684,
          0.1052468597035,
          0.108391608392,
          0.111802317708,
          0.115763546798,
          0.11958680276,
          0.12549745469899995,
          0.1307523739959999,
          0.138555567139,
          0.149524632671,
          0.166907203086,
          0.2203282732665
         ],
         "xaxis": "x",
         "y": [
          22.19772998178873,
          24.127936338370468,
          24.894314661142865,
          25.537515862497433,
          26.026197272179793,
          26.481958564378118,
          26.862818094480176,
          27.155484373513378,
          27.478952007826727,
          27.78302094812709,
          28.083068212242246,
          28.38437845941612,
          28.63145029157751,
          28.864336290377913,
          29.122909485840978,
          29.326776836072867,
          29.559165177024113,
          29.783383063688504,
          30.008446328599575,
          30.224669356178573,
          30.44026666714322,
          30.665190634240815,
          30.862203146430083,
          31.065550030366857,
          31.313191735267747,
          31.568539076612886,
          31.79679536207955,
          32.02976928191489,
          32.271528372479935,
          32.49842934969059,
          32.686042000327475,
          32.91410508476521,
          33.15487393442383,
          33.41918527531645,
          33.6554621561242,
          33.964591160331516,
          34.215759081017225,
          34.46717284593631,
          34.733528804422505,
          35.02346101332189,
          35.30503298146911,
          35.61927578969546,
          35.93707678197118,
          36.23558864961855,
          36.573005126513365,
          36.931449727597155,
          37.311216281020904,
          37.769971146144556,
          38.21576649771679,
          38.68076422952997,
          39.13091993179583,
          39.63613238906879,
          40.177108091244406,
          40.71613398139128,
          41.33210493876226,
          42.00017036808366,
          42.776067686637575,
          43.524939812349714,
          44.682676183102146,
          45.71197231799433,
          47.24040616977443,
          49.38894853880994,
          52.79372252893862,
          63.25746097112261
         ],
         "yaxis": "y",
         "type": "scatter"
        }
       ],
       "layout": {
        "template": {
         "data": {
          "bar": [
           {
            "error_x": {
             "color": "#2a3f5f"
            },
            "error_y": {
             "color": "#2a3f5f"
            },
            "marker": {
             "line": {
              "color": "#E5ECF6",
              "width": 0.5
             },
             "pattern": {
              "fillmode": "overlay",
              "size": 10,
              "solidity": 0.2
             }
            },
            "type": "bar"
           }
          ],
          "barpolar": [
           {
            "marker": {
             "line": {
              "color": "#E5ECF6",
              "width": 0.5
             },
             "pattern": {
              "fillmode": "overlay",
              "size": 10,
              "solidity": 0.2
             }
            },
            "type": "barpolar"
           }
          ],
          "carpet": [
           {
            "aaxis": {
             "endlinecolor": "#2a3f5f",
             "gridcolor": "white",
             "linecolor": "white",
             "minorgridcolor": "white",
             "startlinecolor": "#2a3f5f"
            },
            "baxis": {
             "endlinecolor": "#2a3f5f",
             "gridcolor": "white",
             "linecolor": "white",
             "minorgridcolor": "white",
             "startlinecolor": "#2a3f5f"
            },
            "type": "carpet"
           }
          ],
          "choropleth": [
           {
            "colorbar": {
             "outlinewidth": 0,
             "ticks": ""
            },
            "type": "choropleth"
           }
          ],
          "contour": [
           {
            "colorbar": {
             "outlinewidth": 0,
             "ticks": ""
            },
            "colorscale": [
             [
              0.0,
              "#0d0887"
             ],
             [
              0.1111111111111111,
              "#46039f"
             ],
             [
              0.2222222222222222,
              "#7201a8"
             ],
             [
              0.3333333333333333,
              "#9c179e"
             ],
             [
              0.4444444444444444,
              "#bd3786"
             ],
             [
              0.5555555555555556,
              "#d8576b"
             ],
             [
              0.6666666666666666,
              "#ed7953"
             ],
             [
              0.7777777777777778,
              "#fb9f3a"
             ],
             [
              0.8888888888888888,
              "#fdca26"
             ],
             [
              1.0,
              "#f0f921"
             ]
            ],
            "type": "contour"
           }
          ],
          "contourcarpet": [
           {
            "colorbar": {
             "outlinewidth": 0,
             "ticks": ""
            },
            "type": "contourcarpet"
           }
          ],
          "heatmap": [
           {
            "colorbar": {
             "outlinewidth": 0,
             "ticks": ""
            },
            "colorscale": [
             [
              0.0,
              "#0d0887"
             ],
             [
              0.1111111111111111,
              "#46039f"
             ],
             [
              0.2222222222222222,
              "#7201a8"
             ],
             [
              0.3333333333333333,
              "#9c179e"
             ],
             [
              0.4444444444444444,
              "#bd3786"
             ],
             [
              0.5555555555555556,
              "#d8576b"
             ],
             [
              0.6666666666666666,
              "#ed7953"
             ],
             [
              0.7777777777777778,
              "#fb9f3a"
             ],
             [
              0.8888888888888888,
              "#fdca26"
             ],
             [
              1.0,
              "#f0f921"
             ]
            ],
            "type": "heatmap"
           }
          ],
          "heatmapgl": [
           {
            "colorbar": {
             "outlinewidth": 0,
             "ticks": ""
            },
            "colorscale": [
             [
              0.0,
              "#0d0887"
             ],
             [
              0.1111111111111111,
              "#46039f"
             ],
             [
              0.2222222222222222,
              "#7201a8"
             ],
             [
              0.3333333333333333,
              "#9c179e"
             ],
             [
              0.4444444444444444,
              "#bd3786"
             ],
             [
              0.5555555555555556,
              "#d8576b"
             ],
             [
              0.6666666666666666,
              "#ed7953"
             ],
             [
              0.7777777777777778,
              "#fb9f3a"
             ],
             [
              0.8888888888888888,
              "#fdca26"
             ],
             [
              1.0,
              "#f0f921"
             ]
            ],
            "type": "heatmapgl"
           }
          ],
          "histogram": [
           {
            "marker": {
             "pattern": {
              "fillmode": "overlay",
              "size": 10,
              "solidity": 0.2
             }
            },
            "type": "histogram"
           }
          ],
          "histogram2d": [
           {
            "colorbar": {
             "outlinewidth": 0,
             "ticks": ""
            },
            "colorscale": [
             [
              0.0,
              "#0d0887"
             ],
             [
              0.1111111111111111,
              "#46039f"
             ],
             [
              0.2222222222222222,
              "#7201a8"
             ],
             [
              0.3333333333333333,
              "#9c179e"
             ],
             [
              0.4444444444444444,
              "#bd3786"
             ],
             [
              0.5555555555555556,
              "#d8576b"
             ],
             [
              0.6666666666666666,
              "#ed7953"
             ],
             [
              0.7777777777777778,
              "#fb9f3a"
             ],
             [
              0.8888888888888888,
              "#fdca26"
             ],
             [
              1.0,
              "#f0f921"
             ]
            ],
            "type": "histogram2d"
           }
          ],
          "histogram2dcontour": [
           {
            "colorbar": {
             "outlinewidth": 0,
             "ticks": ""
            },
            "colorscale": [
             [
              0.0,
              "#0d0887"
             ],
             [
              0.1111111111111111,
              "#46039f"
             ],
             [
              0.2222222222222222,
              "#7201a8"
             ],
             [
              0.3333333333333333,
              "#9c179e"
             ],
             [
              0.4444444444444444,
              "#bd3786"
             ],
             [
              0.5555555555555556,
              "#d8576b"
             ],
             [
              0.6666666666666666,
              "#ed7953"
             ],
             [
              0.7777777777777778,
              "#fb9f3a"
             ],
             [
              0.8888888888888888,
              "#fdca26"
             ],
             [
              1.0,
              "#f0f921"
             ]
            ],
            "type": "histogram2dcontour"
           }
          ],
          "mesh3d": [
           {
            "colorbar": {
             "outlinewidth": 0,
             "ticks": ""
            },
            "type": "mesh3d"
           }
          ],
          "parcoords": [
           {
            "line": {
             "colorbar": {
              "outlinewidth": 0,
              "ticks": ""
             }
            },
            "type": "parcoords"
           }
          ],
          "pie": [
           {
            "automargin": true,
            "type": "pie"
           }
          ],
          "scatter": [
           {
            "marker": {
             "colorbar": {
              "outlinewidth": 0,
              "ticks": ""
             }
            },
            "type": "scatter"
           }
          ],
          "scatter3d": [
           {
            "line": {
             "colorbar": {
              "outlinewidth": 0,
              "ticks": ""
             }
            },
            "marker": {
             "colorbar": {
              "outlinewidth": 0,
              "ticks": ""
             }
            },
            "type": "scatter3d"
           }
          ],
          "scattercarpet": [
           {
            "marker": {
             "colorbar": {
              "outlinewidth": 0,
              "ticks": ""
             }
            },
            "type": "scattercarpet"
           }
          ],
          "scattergeo": [
           {
            "marker": {
             "colorbar": {
              "outlinewidth": 0,
              "ticks": ""
             }
            },
            "type": "scattergeo"
           }
          ],
          "scattergl": [
           {
            "marker": {
             "colorbar": {
              "outlinewidth": 0,
              "ticks": ""
             }
            },
            "type": "scattergl"
           }
          ],
          "scattermapbox": [
           {
            "marker": {
             "colorbar": {
              "outlinewidth": 0,
              "ticks": ""
             }
            },
            "type": "scattermapbox"
           }
          ],
          "scatterpolar": [
           {
            "marker": {
             "colorbar": {
              "outlinewidth": 0,
              "ticks": ""
             }
            },
            "type": "scatterpolar"
           }
          ],
          "scatterpolargl": [
           {
            "marker": {
             "colorbar": {
              "outlinewidth": 0,
              "ticks": ""
             }
            },
            "type": "scatterpolargl"
           }
          ],
          "scatterternary": [
           {
            "marker": {
             "colorbar": {
              "outlinewidth": 0,
              "ticks": ""
             }
            },
            "type": "scatterternary"
           }
          ],
          "surface": [
           {
            "colorbar": {
             "outlinewidth": 0,
             "ticks": ""
            },
            "colorscale": [
             [
              0.0,
              "#0d0887"
             ],
             [
              0.1111111111111111,
              "#46039f"
             ],
             [
              0.2222222222222222,
              "#7201a8"
             ],
             [
              0.3333333333333333,
              "#9c179e"
             ],
             [
              0.4444444444444444,
              "#bd3786"
             ],
             [
              0.5555555555555556,
              "#d8576b"
             ],
             [
              0.6666666666666666,
              "#ed7953"
             ],
             [
              0.7777777777777778,
              "#fb9f3a"
             ],
             [
              0.8888888888888888,
              "#fdca26"
             ],
             [
              1.0,
              "#f0f921"
             ]
            ],
            "type": "surface"
           }
          ],
          "table": [
           {
            "cells": {
             "fill": {
              "color": "#EBF0F8"
             },
             "line": {
              "color": "white"
             }
            },
            "header": {
             "fill": {
              "color": "#C8D4E3"
             },
             "line": {
              "color": "white"
             }
            },
            "type": "table"
           }
          ]
         },
         "layout": {
          "annotationdefaults": {
           "arrowcolor": "#2a3f5f",
           "arrowhead": 0,
           "arrowwidth": 1
          },
          "autotypenumbers": "strict",
          "coloraxis": {
           "colorbar": {
            "outlinewidth": 0,
            "ticks": ""
           }
          },
          "colorscale": {
           "diverging": [
            [
             0,
             "#8e0152"
            ],
            [
             0.1,
             "#c51b7d"
            ],
            [
             0.2,
             "#de77ae"
            ],
            [
             0.3,
             "#f1b6da"
            ],
            [
             0.4,
             "#fde0ef"
            ],
            [
             0.5,
             "#f7f7f7"
            ],
            [
             0.6,
             "#e6f5d0"
            ],
            [
             0.7,
             "#b8e186"
            ],
            [
             0.8,
             "#7fbc41"
            ],
            [
             0.9,
             "#4d9221"
            ],
            [
             1,
             "#276419"
            ]
           ],
           "sequential": [
            [
             0.0,
             "#0d0887"
            ],
            [
             0.1111111111111111,
             "#46039f"
            ],
            [
             0.2222222222222222,
             "#7201a8"
            ],
            [
             0.3333333333333333,
             "#9c179e"
            ],
            [
             0.4444444444444444,
             "#bd3786"
            ],
            [
             0.5555555555555556,
             "#d8576b"
            ],
            [
             0.6666666666666666,
             "#ed7953"
            ],
            [
             0.7777777777777778,
             "#fb9f3a"
            ],
            [
             0.8888888888888888,
             "#fdca26"
            ],
            [
             1.0,
             "#f0f921"
            ]
           ],
           "sequentialminus": [
            [
             0.0,
             "#0d0887"
            ],
            [
             0.1111111111111111,
             "#46039f"
            ],
            [
             0.2222222222222222,
             "#7201a8"
            ],
            [
             0.3333333333333333,
             "#9c179e"
            ],
            [
             0.4444444444444444,
             "#bd3786"
            ],
            [
             0.5555555555555556,
             "#d8576b"
            ],
            [
             0.6666666666666666,
             "#ed7953"
            ],
            [
             0.7777777777777778,
             "#fb9f3a"
            ],
            [
             0.8888888888888888,
             "#fdca26"
            ],
            [
             1.0,
             "#f0f921"
            ]
           ]
          },
          "colorway": [
           "#636efa",
           "#EF553B",
           "#00cc96",
           "#ab63fa",
           "#FFA15A",
           "#19d3f3",
           "#FF6692",
           "#B6E880",
           "#FF97FF",
           "#FECB52"
          ],
          "font": {
           "color": "#2a3f5f"
          },
          "geo": {
           "bgcolor": "white",
           "lakecolor": "white",
           "landcolor": "#E5ECF6",
           "showlakes": true,
           "showland": true,
           "subunitcolor": "white"
          },
          "hoverlabel": {
           "align": "left"
          },
          "hovermode": "closest",
          "mapbox": {
           "style": "light"
          },
          "paper_bgcolor": "white",
          "plot_bgcolor": "#E5ECF6",
          "polar": {
           "angularaxis": {
            "gridcolor": "white",
            "linecolor": "white",
            "ticks": ""
           },
           "bgcolor": "#E5ECF6",
           "radialaxis": {
            "gridcolor": "white",
            "linecolor": "white",
            "ticks": ""
           }
          },
          "scene": {
           "xaxis": {
            "backgroundcolor": "#E5ECF6",
            "gridcolor": "white",
            "gridwidth": 2,
            "linecolor": "white",
            "showbackground": true,
            "ticks": "",
            "zerolinecolor": "white"
           },
           "yaxis": {
            "backgroundcolor": "#E5ECF6",
            "gridcolor": "white",
            "gridwidth": 2,
            "linecolor": "white",
            "showbackground": true,
            "ticks": "",
            "zerolinecolor": "white"
           },
           "zaxis": {
            "backgroundcolor": "#E5ECF6",
            "gridcolor": "white",
            "gridwidth": 2,
            "linecolor": "white",
            "showbackground": true,
            "ticks": "",
            "zerolinecolor": "white"
           }
          },
          "shapedefaults": {
           "line": {
            "color": "#2a3f5f"
           }
          },
          "ternary": {
           "aaxis": {
            "gridcolor": "white",
            "linecolor": "white",
            "ticks": ""
           },
           "baxis": {
            "gridcolor": "white",
            "linecolor": "white",
            "ticks": ""
           },
           "bgcolor": "#E5ECF6",
           "caxis": {
            "gridcolor": "white",
            "linecolor": "white",
            "ticks": ""
           }
          },
          "title": {
           "x": 0.05
          },
          "xaxis": {
           "automargin": true,
           "gridcolor": "white",
           "linecolor": "white",
           "ticks": "",
           "title": {
            "standoff": 15
           },
           "zerolinecolor": "white",
           "zerolinewidth": 2
          },
          "yaxis": {
           "automargin": true,
           "gridcolor": "white",
           "linecolor": "white",
           "ticks": "",
           "title": {
            "standoff": 15
           },
           "zerolinecolor": "white",
           "zerolinewidth": 2
          }
         }
        },
        "xaxis": {
         "anchor": "y",
         "domain": [
          0.0,
          1.0
         ],
         "title": {
          "text": "age_65_74_rate"
         }
        },
        "yaxis": {
         "anchor": "x",
         "domain": [
          0.0,
          1.0
         ],
         "title": {
          "text": "solar_systems_per_thousand_households"
         }
        },
        "legend": {
         "tracegroupgap": 0
        },
        "margin": {
         "t": 60
        }
       },
       "config": {
        "plotlyServerURL": "https://plot.ly"
       }
      },
      "text/html": "<div>                            <div id=\"3b4dae24-070f-4ef9-83c2-1686e9948d13\" class=\"plotly-graph-div\" style=\"height:525px; width:100%;\"></div>            <script type=\"text/javascript\">                require([\"plotly\"], function(Plotly) {                    window.PLOTLYENV=window.PLOTLYENV || {};                                    if (document.getElementById(\"3b4dae24-070f-4ef9-83c2-1686e9948d13\")) {                    Plotly.newPlot(                        \"3b4dae24-070f-4ef9-83c2-1686e9948d13\",                        [{\"hovertemplate\":\"age_65_74_rate=%{x}<br>solar_systems_per_thousand_households=%{y}<extra></extra>\",\"legendgroup\":\"\",\"marker\":{\"color\":\"MediumPurple\",\"symbol\":\"circle\"},\"mode\":\"markers\",\"name\":\"\",\"orientation\":\"v\",\"showlegend\":false,\"x\":[0.01070388491875,0.02055826820705,0.0244708994709,0.0277546681457,0.0302495588606,0.032576380780949946,0.034520802824650004,0.0360149672591,0.0376663834608,0.03921876249715,0.0407506094601,0.0422889043964,0.04355029312075,0.0447392581694,0.0460593654043,0.04710018003135,0.0482866043614,0.0494313156446,0.0505803428815,0.0516842375931999,0.0527849378011999,0.0539332538737,0.0549390721382,0.0559772296015,0.0572415277269,0.058545165840349994,0.0597104945718,0.0608999084883,0.0621341737956,0.06329258320105,0.0642504118616,0.06541475423375,0.06664396401244996,0.0679933665008,0.0691996431964,0.0707778556412,0.0720601563401499,0.0733437121605,0.07470355314179994,0.07618375918525,0.0776212832551,0.07922560347055,0.0808480894688,0.08237209769199999,0.084094727648,0.0859247135843,0.08786355559709999,0.0902056607616,0.09248160304495,0.0948555802427,0.0971537836521,0.09973307118735,0.102494942684,0.1052468597035,0.108391608392,0.111802317708,0.115763546798,0.11958680276,0.12549745469899995,0.1307523739959999,0.138555567139,0.149524632671,0.166907203086,0.2203282732665],\"xaxis\":\"x\",\"y\":[12.459381860731472,16.381293125479175,16.064257028112447,17.16477038212799,18.315018315018317,20.73994190583543,15.9008583881067,24.077046548956663,22.00592467202708,21.66034790365745,31.44103398508958,25.808796801163215,22.69040364435239,27.33990816042759,24.324324324324326,27.595527902624717,27.48930971288943,34.63022664731619,24.48355011476664,29.454022988505745,31.659388646288207,33.67003367003367,30.238404383202006,34.89531405782652,31.57871308063834,30.327842584284063,30.1994301994302,31.871890733502394,37.080635668040024,39.374299374670784,31.94103194103194,39.85924109007276,33.23051411755071,33.852403520649965,32.65695423094014,40.55944055944056,37.04606325574068,36.644951140065146,49.371577186590585,39.49194827925379,38.46153846153847,37.63076923076923,37.16814159292036,42.24323946151354,40.5486817842715,42.24240031583103,43.57131474979256,42.244224422442244,40.62855748902261,42.82655246252676,51.18116011281529,36.66736638249176,46.436285097192226,37.92264763018004,52.798310454065465,54.39280208947987,38.63381858902576,42.014103099895856,63.717045946789966,46.526449968132574,49.06001018124992,32.83369022127052,41.60397369886209,37.29896216504535],\"yaxis\":\"y\",\"type\":\"scatter\"},{\"hovertemplate\":\"<b>OLS trendline</b><br>solar_systems_per_thousand_households = 195.873 * age_65_74_rate + 20.1011<br>R<sup>2</sup>=0.506335<br><br>age_65_74_rate=%{x}<br>solar_systems_per_thousand_households=%{y} <b>(trend)</b><extra></extra>\",\"legendgroup\":\"\",\"line\":{\"color\":\"MediumPurple\"},\"marker\":{\"color\":\"MediumPurple\",\"symbol\":\"circle\"},\"mode\":\"lines\",\"name\":\"\",\"showlegend\":false,\"x\":[0.01070388491875,0.02055826820705,0.0244708994709,0.0277546681457,0.0302495588606,0.032576380780949946,0.034520802824650004,0.0360149672591,0.0376663834608,0.03921876249715,0.0407506094601,0.0422889043964,0.04355029312075,0.0447392581694,0.0460593654043,0.04710018003135,0.0482866043614,0.0494313156446,0.0505803428815,0.0516842375931999,0.0527849378011999,0.0539332538737,0.0549390721382,0.0559772296015,0.0572415277269,0.058545165840349994,0.0597104945718,0.0608999084883,0.0621341737956,0.06329258320105,0.0642504118616,0.06541475423375,0.06664396401244996,0.0679933665008,0.0691996431964,0.0707778556412,0.0720601563401499,0.0733437121605,0.07470355314179994,0.07618375918525,0.0776212832551,0.07922560347055,0.0808480894688,0.08237209769199999,0.084094727648,0.0859247135843,0.08786355559709999,0.0902056607616,0.09248160304495,0.0948555802427,0.0971537836521,0.09973307118735,0.102494942684,0.1052468597035,0.108391608392,0.111802317708,0.115763546798,0.11958680276,0.12549745469899995,0.1307523739959999,0.138555567139,0.149524632671,0.166907203086,0.2203282732665],\"xaxis\":\"x\",\"y\":[22.19772998178873,24.127936338370468,24.894314661142865,25.537515862497433,26.026197272179793,26.481958564378118,26.862818094480176,27.155484373513378,27.478952007826727,27.78302094812709,28.083068212242246,28.38437845941612,28.63145029157751,28.864336290377913,29.122909485840978,29.326776836072867,29.559165177024113,29.783383063688504,30.008446328599575,30.224669356178573,30.44026666714322,30.665190634240815,30.862203146430083,31.065550030366857,31.313191735267747,31.568539076612886,31.79679536207955,32.02976928191489,32.271528372479935,32.49842934969059,32.686042000327475,32.91410508476521,33.15487393442383,33.41918527531645,33.6554621561242,33.964591160331516,34.215759081017225,34.46717284593631,34.733528804422505,35.02346101332189,35.30503298146911,35.61927578969546,35.93707678197118,36.23558864961855,36.573005126513365,36.931449727597155,37.311216281020904,37.769971146144556,38.21576649771679,38.68076422952997,39.13091993179583,39.63613238906879,40.177108091244406,40.71613398139128,41.33210493876226,42.00017036808366,42.776067686637575,43.524939812349714,44.682676183102146,45.71197231799433,47.24040616977443,49.38894853880994,52.79372252893862,63.25746097112261],\"yaxis\":\"y\",\"type\":\"scatter\"}],                        {\"template\":{\"data\":{\"bar\":[{\"error_x\":{\"color\":\"#2a3f5f\"},\"error_y\":{\"color\":\"#2a3f5f\"},\"marker\":{\"line\":{\"color\":\"#E5ECF6\",\"width\":0.5},\"pattern\":{\"fillmode\":\"overlay\",\"size\":10,\"solidity\":0.2}},\"type\":\"bar\"}],\"barpolar\":[{\"marker\":{\"line\":{\"color\":\"#E5ECF6\",\"width\":0.5},\"pattern\":{\"fillmode\":\"overlay\",\"size\":10,\"solidity\":0.2}},\"type\":\"barpolar\"}],\"carpet\":[{\"aaxis\":{\"endlinecolor\":\"#2a3f5f\",\"gridcolor\":\"white\",\"linecolor\":\"white\",\"minorgridcolor\":\"white\",\"startlinecolor\":\"#2a3f5f\"},\"baxis\":{\"endlinecolor\":\"#2a3f5f\",\"gridcolor\":\"white\",\"linecolor\":\"white\",\"minorgridcolor\":\"white\",\"startlinecolor\":\"#2a3f5f\"},\"type\":\"carpet\"}],\"choropleth\":[{\"colorbar\":{\"outlinewidth\":0,\"ticks\":\"\"},\"type\":\"choropleth\"}],\"contour\":[{\"colorbar\":{\"outlinewidth\":0,\"ticks\":\"\"},\"colorscale\":[[0.0,\"#0d0887\"],[0.1111111111111111,\"#46039f\"],[0.2222222222222222,\"#7201a8\"],[0.3333333333333333,\"#9c179e\"],[0.4444444444444444,\"#bd3786\"],[0.5555555555555556,\"#d8576b\"],[0.6666666666666666,\"#ed7953\"],[0.7777777777777778,\"#fb9f3a\"],[0.8888888888888888,\"#fdca26\"],[1.0,\"#f0f921\"]],\"type\":\"contour\"}],\"contourcarpet\":[{\"colorbar\":{\"outlinewidth\":0,\"ticks\":\"\"},\"type\":\"contourcarpet\"}],\"heatmap\":[{\"colorbar\":{\"outlinewidth\":0,\"ticks\":\"\"},\"colorscale\":[[0.0,\"#0d0887\"],[0.1111111111111111,\"#46039f\"],[0.2222222222222222,\"#7201a8\"],[0.3333333333333333,\"#9c179e\"],[0.4444444444444444,\"#bd3786\"],[0.5555555555555556,\"#d8576b\"],[0.6666666666666666,\"#ed7953\"],[0.7777777777777778,\"#fb9f3a\"],[0.8888888888888888,\"#fdca26\"],[1.0,\"#f0f921\"]],\"type\":\"heatmap\"}],\"heatmapgl\":[{\"colorbar\":{\"outlinewidth\":0,\"ticks\":\"\"},\"colorscale\":[[0.0,\"#0d0887\"],[0.1111111111111111,\"#46039f\"],[0.2222222222222222,\"#7201a8\"],[0.3333333333333333,\"#9c179e\"],[0.4444444444444444,\"#bd3786\"],[0.5555555555555556,\"#d8576b\"],[0.6666666666666666,\"#ed7953\"],[0.7777777777777778,\"#fb9f3a\"],[0.8888888888888888,\"#fdca26\"],[1.0,\"#f0f921\"]],\"type\":\"heatmapgl\"}],\"histogram\":[{\"marker\":{\"pattern\":{\"fillmode\":\"overlay\",\"size\":10,\"solidity\":0.2}},\"type\":\"histogram\"}],\"histogram2d\":[{\"colorbar\":{\"outlinewidth\":0,\"ticks\":\"\"},\"colorscale\":[[0.0,\"#0d0887\"],[0.1111111111111111,\"#46039f\"],[0.2222222222222222,\"#7201a8\"],[0.3333333333333333,\"#9c179e\"],[0.4444444444444444,\"#bd3786\"],[0.5555555555555556,\"#d8576b\"],[0.6666666666666666,\"#ed7953\"],[0.7777777777777778,\"#fb9f3a\"],[0.8888888888888888,\"#fdca26\"],[1.0,\"#f0f921\"]],\"type\":\"histogram2d\"}],\"histogram2dcontour\":[{\"colorbar\":{\"outlinewidth\":0,\"ticks\":\"\"},\"colorscale\":[[0.0,\"#0d0887\"],[0.1111111111111111,\"#46039f\"],[0.2222222222222222,\"#7201a8\"],[0.3333333333333333,\"#9c179e\"],[0.4444444444444444,\"#bd3786\"],[0.5555555555555556,\"#d8576b\"],[0.6666666666666666,\"#ed7953\"],[0.7777777777777778,\"#fb9f3a\"],[0.8888888888888888,\"#fdca26\"],[1.0,\"#f0f921\"]],\"type\":\"histogram2dcontour\"}],\"mesh3d\":[{\"colorbar\":{\"outlinewidth\":0,\"ticks\":\"\"},\"type\":\"mesh3d\"}],\"parcoords\":[{\"line\":{\"colorbar\":{\"outlinewidth\":0,\"ticks\":\"\"}},\"type\":\"parcoords\"}],\"pie\":[{\"automargin\":true,\"type\":\"pie\"}],\"scatter\":[{\"marker\":{\"colorbar\":{\"outlinewidth\":0,\"ticks\":\"\"}},\"type\":\"scatter\"}],\"scatter3d\":[{\"line\":{\"colorbar\":{\"outlinewidth\":0,\"ticks\":\"\"}},\"marker\":{\"colorbar\":{\"outlinewidth\":0,\"ticks\":\"\"}},\"type\":\"scatter3d\"}],\"scattercarpet\":[{\"marker\":{\"colorbar\":{\"outlinewidth\":0,\"ticks\":\"\"}},\"type\":\"scattercarpet\"}],\"scattergeo\":[{\"marker\":{\"colorbar\":{\"outlinewidth\":0,\"ticks\":\"\"}},\"type\":\"scattergeo\"}],\"scattergl\":[{\"marker\":{\"colorbar\":{\"outlinewidth\":0,\"ticks\":\"\"}},\"type\":\"scattergl\"}],\"scattermapbox\":[{\"marker\":{\"colorbar\":{\"outlinewidth\":0,\"ticks\":\"\"}},\"type\":\"scattermapbox\"}],\"scatterpolar\":[{\"marker\":{\"colorbar\":{\"outlinewidth\":0,\"ticks\":\"\"}},\"type\":\"scatterpolar\"}],\"scatterpolargl\":[{\"marker\":{\"colorbar\":{\"outlinewidth\":0,\"ticks\":\"\"}},\"type\":\"scatterpolargl\"}],\"scatterternary\":[{\"marker\":{\"colorbar\":{\"outlinewidth\":0,\"ticks\":\"\"}},\"type\":\"scatterternary\"}],\"surface\":[{\"colorbar\":{\"outlinewidth\":0,\"ticks\":\"\"},\"colorscale\":[[0.0,\"#0d0887\"],[0.1111111111111111,\"#46039f\"],[0.2222222222222222,\"#7201a8\"],[0.3333333333333333,\"#9c179e\"],[0.4444444444444444,\"#bd3786\"],[0.5555555555555556,\"#d8576b\"],[0.6666666666666666,\"#ed7953\"],[0.7777777777777778,\"#fb9f3a\"],[0.8888888888888888,\"#fdca26\"],[1.0,\"#f0f921\"]],\"type\":\"surface\"}],\"table\":[{\"cells\":{\"fill\":{\"color\":\"#EBF0F8\"},\"line\":{\"color\":\"white\"}},\"header\":{\"fill\":{\"color\":\"#C8D4E3\"},\"line\":{\"color\":\"white\"}},\"type\":\"table\"}]},\"layout\":{\"annotationdefaults\":{\"arrowcolor\":\"#2a3f5f\",\"arrowhead\":0,\"arrowwidth\":1},\"autotypenumbers\":\"strict\",\"coloraxis\":{\"colorbar\":{\"outlinewidth\":0,\"ticks\":\"\"}},\"colorscale\":{\"diverging\":[[0,\"#8e0152\"],[0.1,\"#c51b7d\"],[0.2,\"#de77ae\"],[0.3,\"#f1b6da\"],[0.4,\"#fde0ef\"],[0.5,\"#f7f7f7\"],[0.6,\"#e6f5d0\"],[0.7,\"#b8e186\"],[0.8,\"#7fbc41\"],[0.9,\"#4d9221\"],[1,\"#276419\"]],\"sequential\":[[0.0,\"#0d0887\"],[0.1111111111111111,\"#46039f\"],[0.2222222222222222,\"#7201a8\"],[0.3333333333333333,\"#9c179e\"],[0.4444444444444444,\"#bd3786\"],[0.5555555555555556,\"#d8576b\"],[0.6666666666666666,\"#ed7953\"],[0.7777777777777778,\"#fb9f3a\"],[0.8888888888888888,\"#fdca26\"],[1.0,\"#f0f921\"]],\"sequentialminus\":[[0.0,\"#0d0887\"],[0.1111111111111111,\"#46039f\"],[0.2222222222222222,\"#7201a8\"],[0.3333333333333333,\"#9c179e\"],[0.4444444444444444,\"#bd3786\"],[0.5555555555555556,\"#d8576b\"],[0.6666666666666666,\"#ed7953\"],[0.7777777777777778,\"#fb9f3a\"],[0.8888888888888888,\"#fdca26\"],[1.0,\"#f0f921\"]]},\"colorway\":[\"#636efa\",\"#EF553B\",\"#00cc96\",\"#ab63fa\",\"#FFA15A\",\"#19d3f3\",\"#FF6692\",\"#B6E880\",\"#FF97FF\",\"#FECB52\"],\"font\":{\"color\":\"#2a3f5f\"},\"geo\":{\"bgcolor\":\"white\",\"lakecolor\":\"white\",\"landcolor\":\"#E5ECF6\",\"showlakes\":true,\"showland\":true,\"subunitcolor\":\"white\"},\"hoverlabel\":{\"align\":\"left\"},\"hovermode\":\"closest\",\"mapbox\":{\"style\":\"light\"},\"paper_bgcolor\":\"white\",\"plot_bgcolor\":\"#E5ECF6\",\"polar\":{\"angularaxis\":{\"gridcolor\":\"white\",\"linecolor\":\"white\",\"ticks\":\"\"},\"bgcolor\":\"#E5ECF6\",\"radialaxis\":{\"gridcolor\":\"white\",\"linecolor\":\"white\",\"ticks\":\"\"}},\"scene\":{\"xaxis\":{\"backgroundcolor\":\"#E5ECF6\",\"gridcolor\":\"white\",\"gridwidth\":2,\"linecolor\":\"white\",\"showbackground\":true,\"ticks\":\"\",\"zerolinecolor\":\"white\"},\"yaxis\":{\"backgroundcolor\":\"#E5ECF6\",\"gridcolor\":\"white\",\"gridwidth\":2,\"linecolor\":\"white\",\"showbackground\":true,\"ticks\":\"\",\"zerolinecolor\":\"white\"},\"zaxis\":{\"backgroundcolor\":\"#E5ECF6\",\"gridcolor\":\"white\",\"gridwidth\":2,\"linecolor\":\"white\",\"showbackground\":true,\"ticks\":\"\",\"zerolinecolor\":\"white\"}},\"shapedefaults\":{\"line\":{\"color\":\"#2a3f5f\"}},\"ternary\":{\"aaxis\":{\"gridcolor\":\"white\",\"linecolor\":\"white\",\"ticks\":\"\"},\"baxis\":{\"gridcolor\":\"white\",\"linecolor\":\"white\",\"ticks\":\"\"},\"bgcolor\":\"#E5ECF6\",\"caxis\":{\"gridcolor\":\"white\",\"linecolor\":\"white\",\"ticks\":\"\"}},\"title\":{\"x\":0.05},\"xaxis\":{\"automargin\":true,\"gridcolor\":\"white\",\"linecolor\":\"white\",\"ticks\":\"\",\"title\":{\"standoff\":15},\"zerolinecolor\":\"white\",\"zerolinewidth\":2},\"yaxis\":{\"automargin\":true,\"gridcolor\":\"white\",\"linecolor\":\"white\",\"ticks\":\"\",\"title\":{\"standoff\":15},\"zerolinecolor\":\"white\",\"zerolinewidth\":2}}},\"xaxis\":{\"anchor\":\"y\",\"domain\":[0.0,1.0],\"title\":{\"text\":\"age_65_74_rate\"}},\"yaxis\":{\"anchor\":\"x\",\"domain\":[0.0,1.0],\"title\":{\"text\":\"solar_systems_per_thousand_households\"}},\"legend\":{\"tracegroupgap\":0},\"margin\":{\"t\":60}},                        {\"responsive\": true}                    ).then(function(){\n                            \nvar gd = document.getElementById('3b4dae24-070f-4ef9-83c2-1686e9948d13');\nvar x = new MutationObserver(function (mutations, observer) {{\n        var display = window.getComputedStyle(gd).display;\n        if (!display || display === 'none') {{\n            console.log([gd, 'removed!']);\n            Plotly.purge(gd);\n            observer.disconnect();\n        }}\n}});\n\n// Listen for the removal of the full notebook cells\nvar notebookContainer = gd.closest('#notebook-container');\nif (notebookContainer) {{\n    x.observe(notebookContainer, {childList: true});\n}}\n\n// Listen for the clearing of the current output cell\nvar outputEl = gd.closest('.output');\nif (outputEl) {{\n    x.observe(outputEl, {childList: true});\n}}\n\n                        })                };                });            </script>        </div>"
     },
     "metadata": {},
     "output_type": "display_data"
    },
    {
     "name": "stdout",
     "output_type": "stream",
     "text": [
      "results:  <statsmodels.regression.linear_model.RegressionResultsWrapper object at 0x7fabd0160520>\n",
      "alpha:  20.101129301072277\n",
      "beta:  195.87287201152895\n",
      "p_beta:  4.3831753830751244e-11\n",
      "r_squared:  0.5063349621072406\n"
     ]
    }
   ]
  }
 ]
}